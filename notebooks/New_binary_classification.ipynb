{
 "cells": [
  {
   "cell_type": "markdown",
   "metadata": {},
   "source": [
    "# Based on Chapter 3 in O'Reilly book \"Hands on Machine Learning 2\"\n",
    "### We read in the Fasttext embedding already created and apply binary classification following the chapter"
   ]
  },
  {
   "cell_type": "markdown",
   "metadata": {},
   "source": [
    "# Setup"
   ]
  },
  {
   "cell_type": "code",
   "execution_count": 1,
   "metadata": {},
   "outputs": [],
   "source": [
    "# Python ≥3.5 is required\n",
    "import sys\n",
    "assert sys.version_info >= (3, 5)\n",
    "\n",
    "# Scikit-Learn ≥0.20 is required\n",
    "import sklearn\n",
    "assert sklearn.__version__ >= \"0.20\"\n",
    "\n",
    "# Common imports\n",
    "import numpy as np\n",
    "import pandas as pd\n",
    "import os\n",
    "\n",
    "# to make this notebook's output stable across runs\n",
    "np.random.seed(42)\n",
    "\n",
    "# To plot pretty figures\n",
    "%matplotlib inline\n",
    "import matplotlib as mpl\n",
    "import matplotlib.pyplot as plt\n",
    "mpl.rc('axes', labelsize=14)\n",
    "mpl.rc('xtick', labelsize=12)\n",
    "mpl.rc('ytick', labelsize=12)\n",
    "\n",
    "# Where to save the figures\n",
    "PROJECT_ROOT_DIR = \".\"\n",
    "CHAPTER_ID = \"classification\"\n",
    "IMAGES_PATH = os.path.join(PROJECT_ROOT_DIR, \"images\", CHAPTER_ID)\n",
    "os.makedirs(IMAGES_PATH, exist_ok=True)\n",
    "\n",
    "def save_fig(fig_id, tight_layout=True, fig_extension=\"png\", resolution=300):\n",
    "    path = os.path.join(IMAGES_PATH, fig_id + \".\" + fig_extension)\n",
    "    print(\"Saving figure\", fig_id)\n",
    "    if tight_layout:\n",
    "        plt.tight_layout()\n",
    "    plt.savefig(path, format=fig_extension, dpi=resolution)"
   ]
  },
  {
   "cell_type": "markdown",
   "metadata": {},
   "source": [
    "## Import vectorized CPA data\n",
    "The vectorized columns are as follows:    \n",
    "- Descr_cleaned_vectorized : FastText vectorization of the \"Descr_cleaned\" column\n",
    "- Full_descr_cleaned_vectorized : FastText vectorization of the \"Full_descr_cleaned\" column\n",
    "- Descr_Low_dim : Reduced dimension (UMAP 10 dimensions) of FastText vectorization of the \"Descr_cleaned\" column\n",
    "- Full_descr_Low_dim : Reduced dimension (UMAP 10 dimensions) of FastText vectorization of the \"Full_descr_cleaned\" column"
   ]
  },
  {
   "cell_type": "code",
   "execution_count": 5,
   "metadata": {},
   "outputs": [
    {
     "output_type": "stream",
     "name": "stdout",
     "text": [
      "Collecting imblearn\n  Using cached https://files.pythonhosted.org/packages/81/a7/4179e6ebfd654bd0eac0b9c06125b8b4c96a9d0a8ff9e9507eb2a26d2d7e/imblearn-0.0-py2.py3-none-any.whl\nCollecting imbalanced-learn (from imblearn)\n  Using cached https://files.pythonhosted.org/packages/80/98/dc784205a7e3034e84d41ac4781660c67ad6327f2f5a80c568df31673d1c/imbalanced_learn-0.8.0-py3-none-any.whl\nRequirement already satisfied: scipy>=0.19.1 in c:\\users\\annoc\\anaconda3\\lib\\site-packages (from imbalanced-learn->imblearn) (1.2.1)\nRequirement already satisfied: scikit-learn>=0.24 in c:\\users\\annoc\\anaconda3\\lib\\site-packages (from imbalanced-learn->imblearn) (0.24.1)\nRequirement already satisfied: numpy>=1.13.3 in c:\\users\\annoc\\anaconda3\\lib\\site-packages (from imbalanced-learn->imblearn) (1.16.4)\nRequirement already satisfied: joblib>=0.11 in c:\\users\\annoc\\anaconda3\\lib\\site-packages (from imbalanced-learn->imblearn) (0.13.2)\nRequirement already satisfied: threadpoolctl>=2.0.0 in c:\\users\\annoc\\anaconda3\\lib\\site-packages (from scikit-learn>=0.24->imbalanced-learn->imblearn) (2.1.0)\nInstalling collected packages: imbalanced-learn, imblearn\nSuccessfully installed imbalanced-learn-0.8.0 imblearn-0.0\n"
     ]
    }
   ],
   "source": [
    "!pip install imblearn\n"
   ]
  },
  {
   "cell_type": "code",
   "execution_count": 6,
   "metadata": {},
   "outputs": [],
   "source": [
    "from imblearn.metrics import classification_report_imbalanced"
   ]
  },
  {
   "cell_type": "code",
   "execution_count": 7,
   "metadata": {},
   "outputs": [
    {
     "output_type": "execute_result",
     "data": {
      "text/plain": [
       "        Code  Level                  Descr_old        Descr Includes  \\\n",
       "5   01.11.11      6                Durum wheat  Durum wheat      NaN   \n",
       "6   01.11.12      6  Wheat, except durum wheat        Wheat      NaN   \n",
       "8   01.11.20      6                      Maize        Maize      NaN   \n",
       "10  01.11.31      6                     Barley       Barley      NaN   \n",
       "11  01.11.32      6                        Rye          Rye      NaN   \n",
       "\n",
       "    Category_0 Category_1  Category_2                 Full_descr  \\\n",
       "5            1          A           1                Durum wheat   \n",
       "6            1          A           1  Wheat, except durum wheat   \n",
       "8            1          A           1                      Maize   \n",
       "10           1          A           1                     Barley   \n",
       "11           1          A           1                        Rye   \n",
       "\n",
       "   Descr_cleaned        Full_descr_cleaned  \\\n",
       "5    durum wheat               durum wheat   \n",
       "6          wheat  wheat except durum wheat   \n",
       "8          maize                     maize   \n",
       "10        barley                    barley   \n",
       "11           rye                       rye   \n",
       "\n",
       "                             Descr_cleaned_vectorized  \\\n",
       "5   [-0.07021299  0.07487412 -0.08852207 -0.093424...   \n",
       "6   [ 6.82471097e-02  5.72879892e-03 -2.74024643e-...   \n",
       "8   [-2.75462180e-01  2.88966715e-01 -1.60463899e-...   \n",
       "10  [-0.48283365 -0.02554321 -0.09297911  0.358175...   \n",
       "11  [-0.23049644  0.07332443 -0.51851004  0.030723...   \n",
       "\n",
       "                        Full_descr_cleaned_vectorized  \\\n",
       "5   [-0.07021299  0.07487412 -0.08852207 -0.093424...   \n",
       "6   [-8.17044750e-02  4.43322510e-02 -1.21796057e-...   \n",
       "8   [-2.75462180e-01  2.88966715e-01 -1.60463899e-...   \n",
       "10  [-0.48283365 -0.02554321 -0.09297911  0.358175...   \n",
       "11  [-0.23049644  0.07332443 -0.51851004  0.030723...   \n",
       "\n",
       "                                        Descr_Low_dim  \\\n",
       "5   [10.613475799560547, 1.6112016439437866, 6.889...   \n",
       "6   [10.610937118530273, 1.6146502494812012, 6.886...   \n",
       "8   [10.598653793334961, 1.5319408178329468, 6.899...   \n",
       "10  [10.606842994689941, 1.6108537912368774, 6.884...   \n",
       "11  [10.645343780517578, 1.672475814819336, 6.8885...   \n",
       "\n",
       "                                   Full_descr_Low_dim  \n",
       "5   [10.080077171325684, 3.1135828495025635, 5.750...  \n",
       "6   [10.07783031463623, 3.1349775791168213, 5.7314...  \n",
       "8   [10.088605880737305, 3.1780178546905518, 5.732...  \n",
       "10  [10.082571983337402, 3.0978615283966064, 5.779...  \n",
       "11  [10.067237854003906, 3.0663797855377197, 5.772...  "
      ],
      "text/html": "<div>\n<style scoped>\n    .dataframe tbody tr th:only-of-type {\n        vertical-align: middle;\n    }\n\n    .dataframe tbody tr th {\n        vertical-align: top;\n    }\n\n    .dataframe thead th {\n        text-align: right;\n    }\n</style>\n<table border=\"1\" class=\"dataframe\">\n  <thead>\n    <tr style=\"text-align: right;\">\n      <th></th>\n      <th>Code</th>\n      <th>Level</th>\n      <th>Descr_old</th>\n      <th>Descr</th>\n      <th>Includes</th>\n      <th>Category_0</th>\n      <th>Category_1</th>\n      <th>Category_2</th>\n      <th>Full_descr</th>\n      <th>Descr_cleaned</th>\n      <th>Full_descr_cleaned</th>\n      <th>Descr_cleaned_vectorized</th>\n      <th>Full_descr_cleaned_vectorized</th>\n      <th>Descr_Low_dim</th>\n      <th>Full_descr_Low_dim</th>\n    </tr>\n  </thead>\n  <tbody>\n    <tr>\n      <th>5</th>\n      <td>01.11.11</td>\n      <td>6</td>\n      <td>Durum wheat</td>\n      <td>Durum wheat</td>\n      <td>NaN</td>\n      <td>1</td>\n      <td>A</td>\n      <td>1</td>\n      <td>Durum wheat</td>\n      <td>durum wheat</td>\n      <td>durum wheat</td>\n      <td>[-0.07021299  0.07487412 -0.08852207 -0.093424...</td>\n      <td>[-0.07021299  0.07487412 -0.08852207 -0.093424...</td>\n      <td>[10.613475799560547, 1.6112016439437866, 6.889...</td>\n      <td>[10.080077171325684, 3.1135828495025635, 5.750...</td>\n    </tr>\n    <tr>\n      <th>6</th>\n      <td>01.11.12</td>\n      <td>6</td>\n      <td>Wheat, except durum wheat</td>\n      <td>Wheat</td>\n      <td>NaN</td>\n      <td>1</td>\n      <td>A</td>\n      <td>1</td>\n      <td>Wheat, except durum wheat</td>\n      <td>wheat</td>\n      <td>wheat except durum wheat</td>\n      <td>[ 6.82471097e-02  5.72879892e-03 -2.74024643e-...</td>\n      <td>[-8.17044750e-02  4.43322510e-02 -1.21796057e-...</td>\n      <td>[10.610937118530273, 1.6146502494812012, 6.886...</td>\n      <td>[10.07783031463623, 3.1349775791168213, 5.7314...</td>\n    </tr>\n    <tr>\n      <th>8</th>\n      <td>01.11.20</td>\n      <td>6</td>\n      <td>Maize</td>\n      <td>Maize</td>\n      <td>NaN</td>\n      <td>1</td>\n      <td>A</td>\n      <td>1</td>\n      <td>Maize</td>\n      <td>maize</td>\n      <td>maize</td>\n      <td>[-2.75462180e-01  2.88966715e-01 -1.60463899e-...</td>\n      <td>[-2.75462180e-01  2.88966715e-01 -1.60463899e-...</td>\n      <td>[10.598653793334961, 1.5319408178329468, 6.899...</td>\n      <td>[10.088605880737305, 3.1780178546905518, 5.732...</td>\n    </tr>\n    <tr>\n      <th>10</th>\n      <td>01.11.31</td>\n      <td>6</td>\n      <td>Barley</td>\n      <td>Barley</td>\n      <td>NaN</td>\n      <td>1</td>\n      <td>A</td>\n      <td>1</td>\n      <td>Barley</td>\n      <td>barley</td>\n      <td>barley</td>\n      <td>[-0.48283365 -0.02554321 -0.09297911  0.358175...</td>\n      <td>[-0.48283365 -0.02554321 -0.09297911  0.358175...</td>\n      <td>[10.606842994689941, 1.6108537912368774, 6.884...</td>\n      <td>[10.082571983337402, 3.0978615283966064, 5.779...</td>\n    </tr>\n    <tr>\n      <th>11</th>\n      <td>01.11.32</td>\n      <td>6</td>\n      <td>Rye</td>\n      <td>Rye</td>\n      <td>NaN</td>\n      <td>1</td>\n      <td>A</td>\n      <td>1</td>\n      <td>Rye</td>\n      <td>rye</td>\n      <td>rye</td>\n      <td>[-0.23049644  0.07332443 -0.51851004  0.030723...</td>\n      <td>[-0.23049644  0.07332443 -0.51851004  0.030723...</td>\n      <td>[10.645343780517578, 1.672475814819336, 6.8885...</td>\n      <td>[10.067237854003906, 3.0663797855377197, 5.772...</td>\n    </tr>\n  </tbody>\n</table>\n</div>"
     },
     "metadata": {},
     "execution_count": 7
    }
   ],
   "source": [
    "# we need to ensure the columns of lists are imported as such\n",
    "import ast\n",
    "generic = lambda x: ast.literal_eval(x)\n",
    "conv = {\n",
    "        'Descr_Low_dim': generic,\n",
    "        'Full_descr_Low_dim': generic}\n",
    "CPA = pd.read_csv('../data/output/CPA_Vectorized.csv', converters=conv)\n",
    "\n",
    "CPA = CPA[CPA.Level==6]\n",
    "CPA = CPA.astype({'Category_0':int,'Category_2':int})\n",
    "CPA.head()\n"
   ]
  },
  {
   "source": [
    "## Split the CPA data into a training and a test set"
   ],
   "cell_type": "markdown",
   "metadata": {}
  },
  {
   "cell_type": "code",
   "execution_count": 8,
   "metadata": {},
   "outputs": [
    {
     "output_type": "stream",
     "name": "stdout",
     "text": [
      "(2574, 10) (2574,)\n"
     ]
    },
    {
     "output_type": "execute_result",
     "data": {
      "text/plain": [
       "array([[10.24176407,  1.495134  ,  6.934062  ,  5.49697828,  5.47507858,\n",
       "         6.19090939,  9.82301331,  7.17451763,  6.48560524,  4.21679831],\n",
       "       [ 6.43087292,  2.48803687,  1.78880703,  3.02287507,  6.34812403,\n",
       "         3.15756965,  0.56744212,  3.84727097,  6.04655981,  1.59090734],\n",
       "       [10.60281658,  1.62183428,  7.01505661,  5.84003401,  4.64323759,\n",
       "         6.2230072 , 10.11608315,  8.39739513,  6.74059629,  2.91967773],\n",
       "       [10.32501411,  1.60787809,  5.89725447,  6.18123436,  5.58616352,\n",
       "         5.33029127,  7.12288523,  5.16145754,  6.18742609,  8.48430443],\n",
       "       [ 9.9240427 ,  2.19512606,  7.23633051,  6.03156376,  6.11320972,\n",
       "         5.41237068,  7.11572933,  6.10433388,  5.09526825,  7.72686338]])"
      ]
     },
     "metadata": {},
     "execution_count": 8
    }
   ],
   "source": [
    "from sklearn.model_selection import train_test_split\n",
    "\n",
    "def get_test_train(df, Cat, col):\n",
    "    train_set, test_set = train_test_split(df, test_size=0.2, random_state=42)\n",
    "    X_train = np.array(list(train_set[col]))\n",
    "    X_test = np.array(list(test_set[col]))\n",
    "    y_train = np.array(list(train_set[Cat]))\n",
    "    y_test = np.array(list(test_set[Cat]))\n",
    "    return X_train, X_test, y_train, y_test\n",
    "\n",
    "# we can choose the level of categorisation here, Category_0, _1 or _2, and also the vectorisation to use\n",
    "Cat = 'Category_1'\n",
    "col = 'Descr_Low_dim'\n",
    "X_train_cat1, X_test_cat1, y_train_cat1, y_test_cat1 = get_test_train(CPA, Cat, col)\n",
    "print(X_train_cat1.shape, y_train_cat1.shape)\n",
    "X_train_cat1[:5]"
   ]
  },
  {
   "cell_type": "markdown",
   "metadata": {},
   "source": [
    "# Binary classifier\n",
    "The binary classifier will simply determine whether an item is in our chosen class or not.\n"
   ]
  },
  {
   "cell_type": "code",
   "execution_count": 9,
   "metadata": {},
   "outputs": [
    {
     "output_type": "execute_result",
     "data": {
      "text/plain": [
       "array(['A', 'K', 'A', ..., 'C', 'C', 'S'], dtype='<U1')"
      ]
     },
     "metadata": {},
     "execution_count": 9
    }
   ],
   "source": [
    "# These are the labels or actual classes we train data on\n",
    "y_train_cat1"
   ]
  },
  {
   "cell_type": "code",
   "execution_count": 10,
   "metadata": {},
   "outputs": [],
   "source": [
    "## Try with y_train == \n",
    "chosen_class = 'C'\n",
    "y_train_C = (y_train_cat1 == chosen_class)\n",
    "y_test_C = (y_test_cat1 == chosen_class)\n"
   ]
  },
  {
   "cell_type": "markdown",
   "metadata": {},
   "source": [
    "**Note**: some hyperparameters will have a different defaut value in future versions of Scikit-Learn, such as `max_iter` and `tol`. To be future-proof, we explicitly set these hyperparameters to their future default values. For simplicity, this is not shown in the book."
   ]
  },
  {
   "source": [
    "## Binary Classification with Stochastic Gradient Descent"
   ],
   "cell_type": "markdown",
   "metadata": {}
  },
  {
   "cell_type": "code",
   "execution_count": 11,
   "metadata": {},
   "outputs": [
    {
     "output_type": "execute_result",
     "data": {
      "text/plain": [
       "SGDClassifier(random_state=42)"
      ]
     },
     "metadata": {},
     "execution_count": 11
    }
   ],
   "source": [
    "from sklearn.linear_model import SGDClassifier\n",
    "\n",
    "sgd_clf = SGDClassifier(max_iter=1000, tol=1e-3, random_state=42)\n",
    "sgd_clf.fit(X_train_cat1, y_train_C)"
   ]
  },
  {
   "source": [
    "## Assess the accuracy, precision and recall of the classification"
   ],
   "cell_type": "markdown",
   "metadata": {}
  },
  {
   "cell_type": "code",
   "execution_count": 12,
   "metadata": {},
   "outputs": [
    {
     "output_type": "execute_result",
     "data": {
      "text/plain": [
       "array([0.56759907, 0.82867133, 0.83216783])"
      ]
     },
     "metadata": {},
     "execution_count": 12
    }
   ],
   "source": [
    "from sklearn.model_selection import cross_val_score\n",
    "cross_val_score(sgd_clf, X_train_cat1, y_train_C, cv=3, scoring=\"accuracy\")"
   ]
  },
  {
   "source": [
    "## Never Classifier: never choose our class\n",
    "In the case where one in ten items belong to our class, then the \"Never Classifier\" trivially assigns all items to be not in the class. We note that in this case there would be 90% accuracy, which puts into context the notion of accuracy."
   ],
   "cell_type": "markdown",
   "metadata": {}
  },
  {
   "cell_type": "code",
   "execution_count": 13,
   "metadata": {},
   "outputs": [],
   "source": [
    "from sklearn.base import BaseEstimator\n",
    "class Never5Classifier(BaseEstimator):\n",
    "    def fit(self, X, y=None):\n",
    "        pass\n",
    "    def predict(self, X):\n",
    "        return np.zeros((len(X), 1), dtype=bool)"
   ]
  },
  {
   "cell_type": "code",
   "execution_count": 14,
   "metadata": {},
   "outputs": [
    {
     "output_type": "execute_result",
     "data": {
      "text/plain": [
       "array([0.43473193, 0.46969697, 0.45221445])"
      ]
     },
     "metadata": {},
     "execution_count": 14
    }
   ],
   "source": [
    "never_5_clf = Never5Classifier()\n",
    "cross_val_score(never_5_clf, X_train_cat1, y_train_C, cv=3, scoring=\"accuracy\")"
   ]
  },
  {
   "source": [
    "## Learning from the Confusion Matrix\n",
    "precision=TP / (TP + FP)   \n",
    "recall = TP / (TP + FN)"
   ],
   "cell_type": "markdown",
   "metadata": {}
  },
  {
   "cell_type": "code",
   "execution_count": 15,
   "metadata": {},
   "outputs": [],
   "source": [
    "from sklearn.model_selection import cross_val_predict\n",
    "\n",
    "y_train_pred = cross_val_predict(sgd_clf, X_train_cat1, y_train_C, cv=3)"
   ]
  },
  {
   "cell_type": "code",
   "execution_count": 16,
   "metadata": {},
   "outputs": [
    {
     "output_type": "stream",
     "name": "stdout",
     "text": [
      "Confusion matrix \n [[1036  128]\n [ 534  876]] \n\n [TN, FP]\n [FN, TP]\n\nPrecision TP/(TP+FP) 0.8725099601593626  sklearn precision score: 0.8725099601593626\nRecall TP/(TP+FN) 0.6212765957446809  sklearn recall score: 0.6212765957446809\nsklearn F1 score:  0.7257663628831814\n"
     ]
    }
   ],
   "source": [
    "from sklearn.metrics import confusion_matrix\n",
    "from sklearn.metrics import precision_score, recall_score\n",
    "from sklearn.metrics import f1_score\n",
    "\n",
    "\n",
    "CM = confusion_matrix(y_train_C, y_train_pred)\n",
    "TN = CM[0,0]\n",
    "FP = CM[0,1]\n",
    "FN = CM[1,0]\n",
    "TP = CM[1,1]\n",
    "print('Confusion matrix \\n', CM, '\\n\\n [TN, FP]\\n [FN, TP]\\n')\n",
    "print('Precision TP/(TP+FP)', TP/(TP+FP), ' sklearn precision score:', precision_score(y_train_C, y_train_pred))\n",
    "print('Recall TP/(TP+FN)', TP/(TP+FN), ' sklearn recall score:', recall_score(y_train_C, y_train_pred))\n",
    "print('sklearn F1 score: ',f1_score(y_train_C, y_train_pred))\n",
    "\n",
    "\n"
   ]
  },
  {
   "source": [
    "### What would the confusion matrix look like if we had a perfect prediction?"
   ],
   "cell_type": "markdown",
   "metadata": {}
  },
  {
   "cell_type": "code",
   "execution_count": 17,
   "metadata": {},
   "outputs": [
    {
     "output_type": "execute_result",
     "data": {
      "text/plain": [
       "array([[1164,    0],\n",
       "       [   0, 1410]], dtype=int64)"
      ]
     },
     "metadata": {},
     "execution_count": 17
    }
   ],
   "source": [
    "y_train_perfect_predictions = y_train_C  # pretend we reached perfection\n",
    "CMP = confusion_matrix(y_train_C, y_train_perfect_predictions)\n",
    "CMP"
   ]
  },
  {
   "source": [
    "## Relative benefits of precision and recall\n",
    "The F1 score (harmonic mean of precision and recall) favors classifiers that have similar precision and recall. This is not always what you want: in some contexts you mostly care about precision, and in other contexts you really care about recall.\n",
    "\n",
    "** High precision: few missclassified **   \n",
    "If you trained a classifier to detect videos that are safe for kids, you would probably prefer a classifier that rejects many good videos (low recall) but keeps only safe ones (high precision), rather than a classifier that has a much higher recall but lets a few really bad videos show up in your product (in such cases, you may even want to add a human pipeline to check the classifier’s video selection). \n",
    "\n",
    "** High recall: few missed **   \n",
    "On the other hand, suppose you train a classifier to detect shoplifters in surveillance images: it is probably fine if your classifier has only 30% precision as long as it has 99% recall (sure, the security guards will get a few false alerts, but almost all shoplifters will get caught).\n",
    "\n"
   ],
   "cell_type": "markdown",
   "metadata": {}
  },
  {
   "source": [
    "## Look at the descision function to tune the classifier\n",
    "Use the precision_recall_curve() function to compute precision and recall for all possible thresholds:"
   ],
   "cell_type": "markdown",
   "metadata": {}
  },
  {
   "cell_type": "code",
   "execution_count": 18,
   "metadata": {},
   "outputs": [],
   "source": [
    "y_scores = cross_val_predict(sgd_clf, X_train_cat1, y_train_C, cv=3,\n",
    "                             method=\"decision_function\")"
   ]
  },
  {
   "source": [],
   "cell_type": "markdown",
   "metadata": {}
  },
  {
   "cell_type": "code",
   "execution_count": 19,
   "metadata": {},
   "outputs": [],
   "source": [
    "from sklearn.metrics import precision_recall_curve\n",
    "precisions, recalls, thresholds = precision_recall_curve(y_train_C, y_scores)"
   ]
  },
  {
   "source": [
    "###  plot precision and recall as functions of the threshold value "
   ],
   "cell_type": "markdown",
   "metadata": {}
  },
  {
   "cell_type": "code",
   "execution_count": 20,
   "metadata": {},
   "outputs": [
    {
     "output_type": "stream",
     "name": "stdout",
     "text": [
      "Saving figure precision_recall_vs_threshold_plot\n"
     ]
    },
    {
     "output_type": "display_data",
     "data": {
      "text/plain": "<Figure size 576x288 with 1 Axes>",
      "image/svg+xml": "<?xml version=\"1.0\" encoding=\"utf-8\" standalone=\"no\"?>\r\n<!DOCTYPE svg PUBLIC \"-//W3C//DTD SVG 1.1//EN\"\r\n  \"http://www.w3.org/Graphics/SVG/1.1/DTD/svg11.dtd\">\r\n<!-- Created with matplotlib (https://matplotlib.org/) -->\r\n<svg height=\"279.457813pt\" version=\"1.1\" viewBox=\"0 0 569.02375 279.457813\" width=\"569.02375pt\" xmlns=\"http://www.w3.org/2000/svg\" xmlns:xlink=\"http://www.w3.org/1999/xlink\">\r\n <defs>\r\n  <style type=\"text/css\">\r\n*{stroke-linecap:butt;stroke-linejoin:round;white-space:pre;}\r\n  </style>\r\n </defs>\r\n <g id=\"figure_1\">\r\n  <g id=\"patch_1\">\r\n   <path d=\"M 0 279.457813 \r\nL 569.02375 279.457813 \r\nL 569.02375 0 \r\nL 0 0 \r\nz\r\n\" style=\"fill:none;\"/>\r\n  </g>\r\n  <g id=\"axes_1\">\r\n   <g id=\"patch_2\">\r\n    <path d=\"M 33.28375 234.159063 \r\nL 550.37125 234.159063 \r\nL 550.37125 11.759062 \r\nL 33.28375 11.759062 \r\nz\r\n\" style=\"fill:#ffffff;\"/>\r\n   </g>\r\n   <g id=\"matplotlib.axis_1\">\r\n    <g id=\"xtick_1\">\r\n     <g id=\"line2d_1\">\r\n      <path clip-path=\"url(#pc6173cfcba)\" d=\"M 33.28375 234.159063 \r\nL 33.28375 11.759062 \r\n\" style=\"fill:none;stroke:#b0b0b0;stroke-linecap:square;stroke-width:0.8;\"/>\r\n     </g>\r\n     <g id=\"line2d_2\">\r\n      <defs>\r\n       <path d=\"M 0 0 \r\nL 0 3.5 \r\n\" id=\"m5ef17cac88\" style=\"stroke:#000000;stroke-width:0.8;\"/>\r\n      </defs>\r\n      <g>\r\n       <use style=\"stroke:#000000;stroke-width:0.8;\" x=\"33.28375\" xlink:href=\"#m5ef17cac88\" y=\"234.159063\"/>\r\n      </g>\r\n     </g>\r\n     <g id=\"text_1\">\r\n      <!-- −150 -->\r\n      <defs>\r\n       <path d=\"M 10.59375 35.5 \r\nL 73.1875 35.5 \r\nL 73.1875 27.203125 \r\nL 10.59375 27.203125 \r\nz\r\n\" id=\"DejaVuSans-8722\"/>\r\n       <path d=\"M 12.40625 8.296875 \r\nL 28.515625 8.296875 \r\nL 28.515625 63.921875 \r\nL 10.984375 60.40625 \r\nL 10.984375 69.390625 \r\nL 28.421875 72.90625 \r\nL 38.28125 72.90625 \r\nL 38.28125 8.296875 \r\nL 54.390625 8.296875 \r\nL 54.390625 0 \r\nL 12.40625 0 \r\nz\r\n\" id=\"DejaVuSans-49\"/>\r\n       <path d=\"M 10.796875 72.90625 \r\nL 49.515625 72.90625 \r\nL 49.515625 64.59375 \r\nL 19.828125 64.59375 \r\nL 19.828125 46.734375 \r\nQ 21.96875 47.46875 24.109375 47.828125 \r\nQ 26.265625 48.1875 28.421875 48.1875 \r\nQ 40.625 48.1875 47.75 41.5 \r\nQ 54.890625 34.8125 54.890625 23.390625 \r\nQ 54.890625 11.625 47.5625 5.09375 \r\nQ 40.234375 -1.421875 26.90625 -1.421875 \r\nQ 22.3125 -1.421875 17.546875 -0.640625 \r\nQ 12.796875 0.140625 7.71875 1.703125 \r\nL 7.71875 11.625 \r\nQ 12.109375 9.234375 16.796875 8.0625 \r\nQ 21.484375 6.890625 26.703125 6.890625 \r\nQ 35.15625 6.890625 40.078125 11.328125 \r\nQ 45.015625 15.765625 45.015625 23.390625 \r\nQ 45.015625 31 40.078125 35.4375 \r\nQ 35.15625 39.890625 26.703125 39.890625 \r\nQ 22.75 39.890625 18.8125 39.015625 \r\nQ 14.890625 38.140625 10.796875 36.28125 \r\nz\r\n\" id=\"DejaVuSans-53\"/>\r\n       <path d=\"M 31.78125 66.40625 \r\nQ 24.171875 66.40625 20.328125 58.90625 \r\nQ 16.5 51.421875 16.5 36.375 \r\nQ 16.5 21.390625 20.328125 13.890625 \r\nQ 24.171875 6.390625 31.78125 6.390625 \r\nQ 39.453125 6.390625 43.28125 13.890625 \r\nQ 47.125 21.390625 47.125 36.375 \r\nQ 47.125 51.421875 43.28125 58.90625 \r\nQ 39.453125 66.40625 31.78125 66.40625 \r\nz\r\nM 31.78125 74.21875 \r\nQ 44.046875 74.21875 50.515625 64.515625 \r\nQ 56.984375 54.828125 56.984375 36.375 \r\nQ 56.984375 17.96875 50.515625 8.265625 \r\nQ 44.046875 -1.421875 31.78125 -1.421875 \r\nQ 19.53125 -1.421875 13.0625 8.265625 \r\nQ 6.59375 17.96875 6.59375 36.375 \r\nQ 6.59375 54.828125 13.0625 64.515625 \r\nQ 19.53125 74.21875 31.78125 74.21875 \r\nz\r\n\" id=\"DejaVuSans-48\"/>\r\n      </defs>\r\n      <g transform=\"translate(16.803437 250.277188)scale(0.12 -0.12)\">\r\n       <use xlink:href=\"#DejaVuSans-8722\"/>\r\n       <use x=\"83.789062\" xlink:href=\"#DejaVuSans-49\"/>\r\n       <use x=\"147.412109\" xlink:href=\"#DejaVuSans-53\"/>\r\n       <use x=\"211.035156\" xlink:href=\"#DejaVuSans-48\"/>\r\n      </g>\r\n     </g>\r\n    </g>\r\n    <g id=\"xtick_2\">\r\n     <g id=\"line2d_3\">\r\n      <path clip-path=\"url(#pc6173cfcba)\" d=\"M 119.465 234.159063 \r\nL 119.465 11.759062 \r\n\" style=\"fill:none;stroke:#b0b0b0;stroke-linecap:square;stroke-width:0.8;\"/>\r\n     </g>\r\n     <g id=\"line2d_4\">\r\n      <g>\r\n       <use style=\"stroke:#000000;stroke-width:0.8;\" x=\"119.465\" xlink:href=\"#m5ef17cac88\" y=\"234.159063\"/>\r\n      </g>\r\n     </g>\r\n     <g id=\"text_2\">\r\n      <!-- −100 -->\r\n      <g transform=\"translate(102.984688 250.277188)scale(0.12 -0.12)\">\r\n       <use xlink:href=\"#DejaVuSans-8722\"/>\r\n       <use x=\"83.789062\" xlink:href=\"#DejaVuSans-49\"/>\r\n       <use x=\"147.412109\" xlink:href=\"#DejaVuSans-48\"/>\r\n       <use x=\"211.035156\" xlink:href=\"#DejaVuSans-48\"/>\r\n      </g>\r\n     </g>\r\n    </g>\r\n    <g id=\"xtick_3\">\r\n     <g id=\"line2d_5\">\r\n      <path clip-path=\"url(#pc6173cfcba)\" d=\"M 205.64625 234.159063 \r\nL 205.64625 11.759062 \r\n\" style=\"fill:none;stroke:#b0b0b0;stroke-linecap:square;stroke-width:0.8;\"/>\r\n     </g>\r\n     <g id=\"line2d_6\">\r\n      <g>\r\n       <use style=\"stroke:#000000;stroke-width:0.8;\" x=\"205.64625\" xlink:href=\"#m5ef17cac88\" y=\"234.159063\"/>\r\n      </g>\r\n     </g>\r\n     <g id=\"text_3\">\r\n      <!-- −50 -->\r\n      <g transform=\"translate(192.983438 250.277188)scale(0.12 -0.12)\">\r\n       <use xlink:href=\"#DejaVuSans-8722\"/>\r\n       <use x=\"83.789062\" xlink:href=\"#DejaVuSans-53\"/>\r\n       <use x=\"147.412109\" xlink:href=\"#DejaVuSans-48\"/>\r\n      </g>\r\n     </g>\r\n    </g>\r\n    <g id=\"xtick_4\">\r\n     <g id=\"line2d_7\">\r\n      <path clip-path=\"url(#pc6173cfcba)\" d=\"M 291.8275 234.159063 \r\nL 291.8275 11.759062 \r\n\" style=\"fill:none;stroke:#b0b0b0;stroke-linecap:square;stroke-width:0.8;\"/>\r\n     </g>\r\n     <g id=\"line2d_8\">\r\n      <g>\r\n       <use style=\"stroke:#000000;stroke-width:0.8;\" x=\"291.8275\" xlink:href=\"#m5ef17cac88\" y=\"234.159063\"/>\r\n      </g>\r\n     </g>\r\n     <g id=\"text_4\">\r\n      <!-- 0 -->\r\n      <g transform=\"translate(288.01 250.277188)scale(0.12 -0.12)\">\r\n       <use xlink:href=\"#DejaVuSans-48\"/>\r\n      </g>\r\n     </g>\r\n    </g>\r\n    <g id=\"xtick_5\">\r\n     <g id=\"line2d_9\">\r\n      <path clip-path=\"url(#pc6173cfcba)\" d=\"M 378.00875 234.159063 \r\nL 378.00875 11.759062 \r\n\" style=\"fill:none;stroke:#b0b0b0;stroke-linecap:square;stroke-width:0.8;\"/>\r\n     </g>\r\n     <g id=\"line2d_10\">\r\n      <g>\r\n       <use style=\"stroke:#000000;stroke-width:0.8;\" x=\"378.00875\" xlink:href=\"#m5ef17cac88\" y=\"234.159063\"/>\r\n      </g>\r\n     </g>\r\n     <g id=\"text_5\">\r\n      <!-- 50 -->\r\n      <g transform=\"translate(370.37375 250.277188)scale(0.12 -0.12)\">\r\n       <use xlink:href=\"#DejaVuSans-53\"/>\r\n       <use x=\"63.623047\" xlink:href=\"#DejaVuSans-48\"/>\r\n      </g>\r\n     </g>\r\n    </g>\r\n    <g id=\"xtick_6\">\r\n     <g id=\"line2d_11\">\r\n      <path clip-path=\"url(#pc6173cfcba)\" d=\"M 464.19 234.159063 \r\nL 464.19 11.759062 \r\n\" style=\"fill:none;stroke:#b0b0b0;stroke-linecap:square;stroke-width:0.8;\"/>\r\n     </g>\r\n     <g id=\"line2d_12\">\r\n      <g>\r\n       <use style=\"stroke:#000000;stroke-width:0.8;\" x=\"464.19\" xlink:href=\"#m5ef17cac88\" y=\"234.159063\"/>\r\n      </g>\r\n     </g>\r\n     <g id=\"text_6\">\r\n      <!-- 100 -->\r\n      <g transform=\"translate(452.7375 250.277188)scale(0.12 -0.12)\">\r\n       <use xlink:href=\"#DejaVuSans-49\"/>\r\n       <use x=\"63.623047\" xlink:href=\"#DejaVuSans-48\"/>\r\n       <use x=\"127.246094\" xlink:href=\"#DejaVuSans-48\"/>\r\n      </g>\r\n     </g>\r\n    </g>\r\n    <g id=\"xtick_7\">\r\n     <g id=\"line2d_13\">\r\n      <path clip-path=\"url(#pc6173cfcba)\" d=\"M 550.37125 234.159063 \r\nL 550.37125 11.759062 \r\n\" style=\"fill:none;stroke:#b0b0b0;stroke-linecap:square;stroke-width:0.8;\"/>\r\n     </g>\r\n     <g id=\"line2d_14\">\r\n      <g>\r\n       <use style=\"stroke:#000000;stroke-width:0.8;\" x=\"550.37125\" xlink:href=\"#m5ef17cac88\" y=\"234.159063\"/>\r\n      </g>\r\n     </g>\r\n     <g id=\"text_7\">\r\n      <!-- 150 -->\r\n      <g transform=\"translate(538.91875 250.277188)scale(0.12 -0.12)\">\r\n       <use xlink:href=\"#DejaVuSans-49\"/>\r\n       <use x=\"63.623047\" xlink:href=\"#DejaVuSans-53\"/>\r\n       <use x=\"127.246094\" xlink:href=\"#DejaVuSans-48\"/>\r\n      </g>\r\n     </g>\r\n    </g>\r\n    <g id=\"text_8\">\r\n     <!-- Threshold -->\r\n     <defs>\r\n      <path d=\"M -0.296875 72.90625 \r\nL 61.375 72.90625 \r\nL 61.375 64.59375 \r\nL 35.5 64.59375 \r\nL 35.5 0 \r\nL 25.59375 0 \r\nL 25.59375 64.59375 \r\nL -0.296875 64.59375 \r\nz\r\n\" id=\"DejaVuSans-84\"/>\r\n      <path d=\"M 54.890625 33.015625 \r\nL 54.890625 0 \r\nL 45.90625 0 \r\nL 45.90625 32.71875 \r\nQ 45.90625 40.484375 42.875 44.328125 \r\nQ 39.84375 48.1875 33.796875 48.1875 \r\nQ 26.515625 48.1875 22.3125 43.546875 \r\nQ 18.109375 38.921875 18.109375 30.90625 \r\nL 18.109375 0 \r\nL 9.078125 0 \r\nL 9.078125 75.984375 \r\nL 18.109375 75.984375 \r\nL 18.109375 46.1875 \r\nQ 21.34375 51.125 25.703125 53.5625 \r\nQ 30.078125 56 35.796875 56 \r\nQ 45.21875 56 50.046875 50.171875 \r\nQ 54.890625 44.34375 54.890625 33.015625 \r\nz\r\n\" id=\"DejaVuSans-104\"/>\r\n      <path d=\"M 41.109375 46.296875 \r\nQ 39.59375 47.171875 37.8125 47.578125 \r\nQ 36.03125 48 33.890625 48 \r\nQ 26.265625 48 22.1875 43.046875 \r\nQ 18.109375 38.09375 18.109375 28.8125 \r\nL 18.109375 0 \r\nL 9.078125 0 \r\nL 9.078125 54.6875 \r\nL 18.109375 54.6875 \r\nL 18.109375 46.1875 \r\nQ 20.953125 51.171875 25.484375 53.578125 \r\nQ 30.03125 56 36.53125 56 \r\nQ 37.453125 56 38.578125 55.875 \r\nQ 39.703125 55.765625 41.0625 55.515625 \r\nz\r\n\" id=\"DejaVuSans-114\"/>\r\n      <path d=\"M 56.203125 29.59375 \r\nL 56.203125 25.203125 \r\nL 14.890625 25.203125 \r\nQ 15.484375 15.921875 20.484375 11.0625 \r\nQ 25.484375 6.203125 34.421875 6.203125 \r\nQ 39.59375 6.203125 44.453125 7.46875 \r\nQ 49.3125 8.734375 54.109375 11.28125 \r\nL 54.109375 2.78125 \r\nQ 49.265625 0.734375 44.1875 -0.34375 \r\nQ 39.109375 -1.421875 33.890625 -1.421875 \r\nQ 20.796875 -1.421875 13.15625 6.1875 \r\nQ 5.515625 13.8125 5.515625 26.8125 \r\nQ 5.515625 40.234375 12.765625 48.109375 \r\nQ 20.015625 56 32.328125 56 \r\nQ 43.359375 56 49.78125 48.890625 \r\nQ 56.203125 41.796875 56.203125 29.59375 \r\nz\r\nM 47.21875 32.234375 \r\nQ 47.125 39.59375 43.09375 43.984375 \r\nQ 39.0625 48.390625 32.421875 48.390625 \r\nQ 24.90625 48.390625 20.390625 44.140625 \r\nQ 15.875 39.890625 15.1875 32.171875 \r\nz\r\n\" id=\"DejaVuSans-101\"/>\r\n      <path d=\"M 44.28125 53.078125 \r\nL 44.28125 44.578125 \r\nQ 40.484375 46.53125 36.375 47.5 \r\nQ 32.28125 48.484375 27.875 48.484375 \r\nQ 21.1875 48.484375 17.84375 46.4375 \r\nQ 14.5 44.390625 14.5 40.28125 \r\nQ 14.5 37.15625 16.890625 35.375 \r\nQ 19.28125 33.59375 26.515625 31.984375 \r\nL 29.59375 31.296875 \r\nQ 39.15625 29.25 43.1875 25.515625 \r\nQ 47.21875 21.78125 47.21875 15.09375 \r\nQ 47.21875 7.46875 41.1875 3.015625 \r\nQ 35.15625 -1.421875 24.609375 -1.421875 \r\nQ 20.21875 -1.421875 15.453125 -0.5625 \r\nQ 10.6875 0.296875 5.421875 2 \r\nL 5.421875 11.28125 \r\nQ 10.40625 8.6875 15.234375 7.390625 \r\nQ 20.0625 6.109375 24.8125 6.109375 \r\nQ 31.15625 6.109375 34.5625 8.28125 \r\nQ 37.984375 10.453125 37.984375 14.40625 \r\nQ 37.984375 18.0625 35.515625 20.015625 \r\nQ 33.0625 21.96875 24.703125 23.78125 \r\nL 21.578125 24.515625 \r\nQ 13.234375 26.265625 9.515625 29.90625 \r\nQ 5.8125 33.546875 5.8125 39.890625 \r\nQ 5.8125 47.609375 11.28125 51.796875 \r\nQ 16.75 56 26.8125 56 \r\nQ 31.78125 56 36.171875 55.265625 \r\nQ 40.578125 54.546875 44.28125 53.078125 \r\nz\r\n\" id=\"DejaVuSans-115\"/>\r\n      <path d=\"M 30.609375 48.390625 \r\nQ 23.390625 48.390625 19.1875 42.75 \r\nQ 14.984375 37.109375 14.984375 27.296875 \r\nQ 14.984375 17.484375 19.15625 11.84375 \r\nQ 23.34375 6.203125 30.609375 6.203125 \r\nQ 37.796875 6.203125 41.984375 11.859375 \r\nQ 46.1875 17.53125 46.1875 27.296875 \r\nQ 46.1875 37.015625 41.984375 42.703125 \r\nQ 37.796875 48.390625 30.609375 48.390625 \r\nz\r\nM 30.609375 56 \r\nQ 42.328125 56 49.015625 48.375 \r\nQ 55.71875 40.765625 55.71875 27.296875 \r\nQ 55.71875 13.875 49.015625 6.21875 \r\nQ 42.328125 -1.421875 30.609375 -1.421875 \r\nQ 18.84375 -1.421875 12.171875 6.21875 \r\nQ 5.515625 13.875 5.515625 27.296875 \r\nQ 5.515625 40.765625 12.171875 48.375 \r\nQ 18.84375 56 30.609375 56 \r\nz\r\n\" id=\"DejaVuSans-111\"/>\r\n      <path d=\"M 9.421875 75.984375 \r\nL 18.40625 75.984375 \r\nL 18.40625 0 \r\nL 9.421875 0 \r\nz\r\n\" id=\"DejaVuSans-108\"/>\r\n      <path d=\"M 45.40625 46.390625 \r\nL 45.40625 75.984375 \r\nL 54.390625 75.984375 \r\nL 54.390625 0 \r\nL 45.40625 0 \r\nL 45.40625 8.203125 \r\nQ 42.578125 3.328125 38.25 0.953125 \r\nQ 33.9375 -1.421875 27.875 -1.421875 \r\nQ 17.96875 -1.421875 11.734375 6.484375 \r\nQ 5.515625 14.40625 5.515625 27.296875 \r\nQ 5.515625 40.1875 11.734375 48.09375 \r\nQ 17.96875 56 27.875 56 \r\nQ 33.9375 56 38.25 53.625 \r\nQ 42.578125 51.265625 45.40625 46.390625 \r\nz\r\nM 14.796875 27.296875 \r\nQ 14.796875 17.390625 18.875 11.75 \r\nQ 22.953125 6.109375 30.078125 6.109375 \r\nQ 37.203125 6.109375 41.296875 11.75 \r\nQ 45.40625 17.390625 45.40625 27.296875 \r\nQ 45.40625 37.203125 41.296875 42.84375 \r\nQ 37.203125 48.484375 30.078125 48.484375 \r\nQ 22.953125 48.484375 18.875 42.84375 \r\nQ 14.796875 37.203125 14.796875 27.296875 \r\nz\r\n\" id=\"DejaVuSans-100\"/>\r\n     </defs>\r\n     <g transform=\"translate(252.22875 268.930313)scale(0.16 -0.16)\">\r\n      <use xlink:href=\"#DejaVuSans-84\"/>\r\n      <use x=\"61.083984\" xlink:href=\"#DejaVuSans-104\"/>\r\n      <use x=\"124.462891\" xlink:href=\"#DejaVuSans-114\"/>\r\n      <use x=\"165.544922\" xlink:href=\"#DejaVuSans-101\"/>\r\n      <use x=\"227.068359\" xlink:href=\"#DejaVuSans-115\"/>\r\n      <use x=\"279.167969\" xlink:href=\"#DejaVuSans-104\"/>\r\n      <use x=\"342.546875\" xlink:href=\"#DejaVuSans-111\"/>\r\n      <use x=\"403.728516\" xlink:href=\"#DejaVuSans-108\"/>\r\n      <use x=\"431.511719\" xlink:href=\"#DejaVuSans-100\"/>\r\n     </g>\r\n    </g>\r\n   </g>\r\n   <g id=\"matplotlib.axis_2\">\r\n    <g id=\"ytick_1\">\r\n     <g id=\"line2d_15\">\r\n      <path clip-path=\"url(#pc6173cfcba)\" d=\"M 33.28375 234.159063 \r\nL 550.37125 234.159063 \r\n\" style=\"fill:none;stroke:#b0b0b0;stroke-linecap:square;stroke-width:0.8;\"/>\r\n     </g>\r\n     <g id=\"line2d_16\">\r\n      <defs>\r\n       <path d=\"M 0 0 \r\nL -3.5 0 \r\n\" id=\"mf54ffe1bc4\" style=\"stroke:#000000;stroke-width:0.8;\"/>\r\n      </defs>\r\n      <g>\r\n       <use style=\"stroke:#000000;stroke-width:0.8;\" x=\"33.28375\" xlink:href=\"#mf54ffe1bc4\" y=\"234.159063\"/>\r\n      </g>\r\n     </g>\r\n     <g id=\"text_9\">\r\n      <!-- 0.0 -->\r\n      <defs>\r\n       <path d=\"M 10.6875 12.40625 \r\nL 21 12.40625 \r\nL 21 0 \r\nL 10.6875 0 \r\nz\r\n\" id=\"DejaVuSans-46\"/>\r\n      </defs>\r\n      <g transform=\"translate(7.2 238.718125)scale(0.12 -0.12)\">\r\n       <use xlink:href=\"#DejaVuSans-48\"/>\r\n       <use x=\"63.623047\" xlink:href=\"#DejaVuSans-46\"/>\r\n       <use x=\"95.410156\" xlink:href=\"#DejaVuSans-48\"/>\r\n      </g>\r\n     </g>\r\n    </g>\r\n    <g id=\"ytick_2\">\r\n     <g id=\"line2d_17\">\r\n      <path clip-path=\"url(#pc6173cfcba)\" d=\"M 33.28375 189.679063 \r\nL 550.37125 189.679063 \r\n\" style=\"fill:none;stroke:#b0b0b0;stroke-linecap:square;stroke-width:0.8;\"/>\r\n     </g>\r\n     <g id=\"line2d_18\">\r\n      <g>\r\n       <use style=\"stroke:#000000;stroke-width:0.8;\" x=\"33.28375\" xlink:href=\"#mf54ffe1bc4\" y=\"189.679063\"/>\r\n      </g>\r\n     </g>\r\n     <g id=\"text_10\">\r\n      <!-- 0.2 -->\r\n      <defs>\r\n       <path d=\"M 19.1875 8.296875 \r\nL 53.609375 8.296875 \r\nL 53.609375 0 \r\nL 7.328125 0 \r\nL 7.328125 8.296875 \r\nQ 12.9375 14.109375 22.625 23.890625 \r\nQ 32.328125 33.6875 34.8125 36.53125 \r\nQ 39.546875 41.84375 41.421875 45.53125 \r\nQ 43.3125 49.21875 43.3125 52.78125 \r\nQ 43.3125 58.59375 39.234375 62.25 \r\nQ 35.15625 65.921875 28.609375 65.921875 \r\nQ 23.96875 65.921875 18.8125 64.3125 \r\nQ 13.671875 62.703125 7.8125 59.421875 \r\nL 7.8125 69.390625 \r\nQ 13.765625 71.78125 18.9375 73 \r\nQ 24.125 74.21875 28.421875 74.21875 \r\nQ 39.75 74.21875 46.484375 68.546875 \r\nQ 53.21875 62.890625 53.21875 53.421875 \r\nQ 53.21875 48.921875 51.53125 44.890625 \r\nQ 49.859375 40.875 45.40625 35.40625 \r\nQ 44.1875 33.984375 37.640625 27.21875 \r\nQ 31.109375 20.453125 19.1875 8.296875 \r\nz\r\n\" id=\"DejaVuSans-50\"/>\r\n      </defs>\r\n      <g transform=\"translate(7.2 194.238125)scale(0.12 -0.12)\">\r\n       <use xlink:href=\"#DejaVuSans-48\"/>\r\n       <use x=\"63.623047\" xlink:href=\"#DejaVuSans-46\"/>\r\n       <use x=\"95.410156\" xlink:href=\"#DejaVuSans-50\"/>\r\n      </g>\r\n     </g>\r\n    </g>\r\n    <g id=\"ytick_3\">\r\n     <g id=\"line2d_19\">\r\n      <path clip-path=\"url(#pc6173cfcba)\" d=\"M 33.28375 145.199062 \r\nL 550.37125 145.199062 \r\n\" style=\"fill:none;stroke:#b0b0b0;stroke-linecap:square;stroke-width:0.8;\"/>\r\n     </g>\r\n     <g id=\"line2d_20\">\r\n      <g>\r\n       <use style=\"stroke:#000000;stroke-width:0.8;\" x=\"33.28375\" xlink:href=\"#mf54ffe1bc4\" y=\"145.199062\"/>\r\n      </g>\r\n     </g>\r\n     <g id=\"text_11\">\r\n      <!-- 0.4 -->\r\n      <defs>\r\n       <path d=\"M 37.796875 64.3125 \r\nL 12.890625 25.390625 \r\nL 37.796875 25.390625 \r\nz\r\nM 35.203125 72.90625 \r\nL 47.609375 72.90625 \r\nL 47.609375 25.390625 \r\nL 58.015625 25.390625 \r\nL 58.015625 17.1875 \r\nL 47.609375 17.1875 \r\nL 47.609375 0 \r\nL 37.796875 0 \r\nL 37.796875 17.1875 \r\nL 4.890625 17.1875 \r\nL 4.890625 26.703125 \r\nz\r\n\" id=\"DejaVuSans-52\"/>\r\n      </defs>\r\n      <g transform=\"translate(7.2 149.758125)scale(0.12 -0.12)\">\r\n       <use xlink:href=\"#DejaVuSans-48\"/>\r\n       <use x=\"63.623047\" xlink:href=\"#DejaVuSans-46\"/>\r\n       <use x=\"95.410156\" xlink:href=\"#DejaVuSans-52\"/>\r\n      </g>\r\n     </g>\r\n    </g>\r\n    <g id=\"ytick_4\">\r\n     <g id=\"line2d_21\">\r\n      <path clip-path=\"url(#pc6173cfcba)\" d=\"M 33.28375 100.719062 \r\nL 550.37125 100.719062 \r\n\" style=\"fill:none;stroke:#b0b0b0;stroke-linecap:square;stroke-width:0.8;\"/>\r\n     </g>\r\n     <g id=\"line2d_22\">\r\n      <g>\r\n       <use style=\"stroke:#000000;stroke-width:0.8;\" x=\"33.28375\" xlink:href=\"#mf54ffe1bc4\" y=\"100.719062\"/>\r\n      </g>\r\n     </g>\r\n     <g id=\"text_12\">\r\n      <!-- 0.6 -->\r\n      <defs>\r\n       <path d=\"M 33.015625 40.375 \r\nQ 26.375 40.375 22.484375 35.828125 \r\nQ 18.609375 31.296875 18.609375 23.390625 \r\nQ 18.609375 15.53125 22.484375 10.953125 \r\nQ 26.375 6.390625 33.015625 6.390625 \r\nQ 39.65625 6.390625 43.53125 10.953125 \r\nQ 47.40625 15.53125 47.40625 23.390625 \r\nQ 47.40625 31.296875 43.53125 35.828125 \r\nQ 39.65625 40.375 33.015625 40.375 \r\nz\r\nM 52.59375 71.296875 \r\nL 52.59375 62.3125 \r\nQ 48.875 64.0625 45.09375 64.984375 \r\nQ 41.3125 65.921875 37.59375 65.921875 \r\nQ 27.828125 65.921875 22.671875 59.328125 \r\nQ 17.53125 52.734375 16.796875 39.40625 \r\nQ 19.671875 43.65625 24.015625 45.921875 \r\nQ 28.375 48.1875 33.59375 48.1875 \r\nQ 44.578125 48.1875 50.953125 41.515625 \r\nQ 57.328125 34.859375 57.328125 23.390625 \r\nQ 57.328125 12.15625 50.6875 5.359375 \r\nQ 44.046875 -1.421875 33.015625 -1.421875 \r\nQ 20.359375 -1.421875 13.671875 8.265625 \r\nQ 6.984375 17.96875 6.984375 36.375 \r\nQ 6.984375 53.65625 15.1875 63.9375 \r\nQ 23.390625 74.21875 37.203125 74.21875 \r\nQ 40.921875 74.21875 44.703125 73.484375 \r\nQ 48.484375 72.75 52.59375 71.296875 \r\nz\r\n\" id=\"DejaVuSans-54\"/>\r\n      </defs>\r\n      <g transform=\"translate(7.2 105.278125)scale(0.12 -0.12)\">\r\n       <use xlink:href=\"#DejaVuSans-48\"/>\r\n       <use x=\"63.623047\" xlink:href=\"#DejaVuSans-46\"/>\r\n       <use x=\"95.410156\" xlink:href=\"#DejaVuSans-54\"/>\r\n      </g>\r\n     </g>\r\n    </g>\r\n    <g id=\"ytick_5\">\r\n     <g id=\"line2d_23\">\r\n      <path clip-path=\"url(#pc6173cfcba)\" d=\"M 33.28375 56.239062 \r\nL 550.37125 56.239062 \r\n\" style=\"fill:none;stroke:#b0b0b0;stroke-linecap:square;stroke-width:0.8;\"/>\r\n     </g>\r\n     <g id=\"line2d_24\">\r\n      <g>\r\n       <use style=\"stroke:#000000;stroke-width:0.8;\" x=\"33.28375\" xlink:href=\"#mf54ffe1bc4\" y=\"56.239062\"/>\r\n      </g>\r\n     </g>\r\n     <g id=\"text_13\">\r\n      <!-- 0.8 -->\r\n      <defs>\r\n       <path d=\"M 31.78125 34.625 \r\nQ 24.75 34.625 20.71875 30.859375 \r\nQ 16.703125 27.09375 16.703125 20.515625 \r\nQ 16.703125 13.921875 20.71875 10.15625 \r\nQ 24.75 6.390625 31.78125 6.390625 \r\nQ 38.8125 6.390625 42.859375 10.171875 \r\nQ 46.921875 13.96875 46.921875 20.515625 \r\nQ 46.921875 27.09375 42.890625 30.859375 \r\nQ 38.875 34.625 31.78125 34.625 \r\nz\r\nM 21.921875 38.8125 \r\nQ 15.578125 40.375 12.03125 44.71875 \r\nQ 8.5 49.078125 8.5 55.328125 \r\nQ 8.5 64.0625 14.71875 69.140625 \r\nQ 20.953125 74.21875 31.78125 74.21875 \r\nQ 42.671875 74.21875 48.875 69.140625 \r\nQ 55.078125 64.0625 55.078125 55.328125 \r\nQ 55.078125 49.078125 51.53125 44.71875 \r\nQ 48 40.375 41.703125 38.8125 \r\nQ 48.828125 37.15625 52.796875 32.3125 \r\nQ 56.78125 27.484375 56.78125 20.515625 \r\nQ 56.78125 9.90625 50.3125 4.234375 \r\nQ 43.84375 -1.421875 31.78125 -1.421875 \r\nQ 19.734375 -1.421875 13.25 4.234375 \r\nQ 6.78125 9.90625 6.78125 20.515625 \r\nQ 6.78125 27.484375 10.78125 32.3125 \r\nQ 14.796875 37.15625 21.921875 38.8125 \r\nz\r\nM 18.3125 54.390625 \r\nQ 18.3125 48.734375 21.84375 45.5625 \r\nQ 25.390625 42.390625 31.78125 42.390625 \r\nQ 38.140625 42.390625 41.71875 45.5625 \r\nQ 45.3125 48.734375 45.3125 54.390625 \r\nQ 45.3125 60.0625 41.71875 63.234375 \r\nQ 38.140625 66.40625 31.78125 66.40625 \r\nQ 25.390625 66.40625 21.84375 63.234375 \r\nQ 18.3125 60.0625 18.3125 54.390625 \r\nz\r\n\" id=\"DejaVuSans-56\"/>\r\n      </defs>\r\n      <g transform=\"translate(7.2 60.798125)scale(0.12 -0.12)\">\r\n       <use xlink:href=\"#DejaVuSans-48\"/>\r\n       <use x=\"63.623047\" xlink:href=\"#DejaVuSans-46\"/>\r\n       <use x=\"95.410156\" xlink:href=\"#DejaVuSans-56\"/>\r\n      </g>\r\n     </g>\r\n    </g>\r\n    <g id=\"ytick_6\">\r\n     <g id=\"line2d_25\">\r\n      <path clip-path=\"url(#pc6173cfcba)\" d=\"M 33.28375 11.759062 \r\nL 550.37125 11.759062 \r\n\" style=\"fill:none;stroke:#b0b0b0;stroke-linecap:square;stroke-width:0.8;\"/>\r\n     </g>\r\n     <g id=\"line2d_26\">\r\n      <g>\r\n       <use style=\"stroke:#000000;stroke-width:0.8;\" x=\"33.28375\" xlink:href=\"#mf54ffe1bc4\" y=\"11.759062\"/>\r\n      </g>\r\n     </g>\r\n     <g id=\"text_14\">\r\n      <!-- 1.0 -->\r\n      <g transform=\"translate(7.2 16.318125)scale(0.12 -0.12)\">\r\n       <use xlink:href=\"#DejaVuSans-49\"/>\r\n       <use x=\"63.623047\" xlink:href=\"#DejaVuSans-46\"/>\r\n       <use x=\"95.410156\" xlink:href=\"#DejaVuSans-48\"/>\r\n      </g>\r\n     </g>\r\n    </g>\r\n   </g>\r\n   <g id=\"line2d_27\">\r\n    <path clip-path=\"url(#pc6173cfcba)\" d=\"M 110.131343 107.099095 \r\nL 112.44702 107.086232 \r\nL 118.538156 106.931454 \r\nL 120.409125 106.776298 \r\nL 120.938664 106.620764 \r\nL 131.617458 106.308553 \r\nL 138.886317 106.294955 \r\nL 139.012091 106.242723 \r\nL 141.775056 106.08577 \r\nL 141.818707 106.033367 \r\nL 142.450163 105.823325 \r\nL 142.517455 105.718045 \r\nL 143.377286 105.559802 \r\nL 143.518083 105.348203 \r\nL 143.841027 105.082723 \r\nL 144.124327 104.86955 \r\nL 149.176235 104.655671 \r\nL 149.263598 104.602091 \r\nL 154.106088 104.117866 \r\nL 157.322804 103.793034 \r\nL 158.6473 103.466575 \r\nL 159.174767 103.357392 \r\nL 161.942101 102.8638 \r\nL 162.385248 102.736635 \r\nL 162.871704 102.681415 \r\nL 165.048545 102.515478 \r\nL 166.638537 102.182344 \r\nL 166.659032 102.126657 \r\nL 167.041374 101.959316 \r\nL 167.048895 101.903441 \r\nL 167.138074 101.941557 \r\nL 167.18361 101.885628 \r\nL 167.928574 101.717555 \r\nL 167.990835 101.661435 \r\nL 168.757252 101.492792 \r\nL 169.396701 101.323718 \r\nL 170.239135 101.154213 \r\nL 170.70846 100.870742 \r\nL 171.082312 100.643093 \r\nL 171.087786 100.58606 \r\nL 172.148576 100.128029 \r\nL 172.316824 99.78244 \r\nL 172.848008 99.493085 \r\nL 172.933335 99.318873 \r\nL 173.323644 99.144209 \r\nL 174.188198 98.793521 \r\nL 174.221672 98.734896 \r\nL 175.521455 98.204976 \r\nL 176.431188 97.789939 \r\nL 176.731764 97.670891 \r\nL 176.738205 97.61129 \r\nL 182.223459 96.604173 \r\nL 182.54211 96.361357 \r\nL 182.888341 96.337861 \r\nL 183.454002 96.008952 \r\nL 183.744004 95.825078 \r\nL 183.815402 95.640715 \r\nL 185.170022 94.836096 \r\nL 185.177122 94.773814 \r\nL 185.636355 94.461571 \r\nL 185.656596 94.398955 \r\nL 186.065074 94.210768 \r\nL 186.239324 93.895995 \r\nL 186.752435 93.643154 \r\nL 187.635694 93.235318 \r\nL 188.223631 93.080676 \r\nL 189.253598 92.539763 \r\nL 189.716137 92.318187 \r\nL 190.434326 92.197288 \r\nL 191.542149 92.205949 \r\nL 191.923317 92.214633 \r\nL 192.674052 92.019118 \r\nL 193.991282 91.466074 \r\nL 194.31035 91.436994 \r\nL 194.33953 91.371072 \r\nL 194.947554 91.209687 \r\nL 195.259019 91.077265 \r\nL 196.130854 90.914886 \r\nL 196.170348 90.781821 \r\nL 196.82791 90.751903 \r\nL 199.570709 90.551614 \r\nL 199.700692 90.417776 \r\nL 200.366318 90.424111 \r\nL 200.597506 90.289843 \r\nL 200.59775 90.222614 \r\nL 200.733728 90.155322 \r\nL 204.005319 89.724476 \r\nL 204.226819 89.588602 \r\nL 204.744152 89.625227 \r\nL 206.120554 89.489067 \r\nL 206.254462 89.420891 \r\nL 207.432187 89.252547 \r\nL 207.522844 89.184098 \r\nL 207.974275 89.115584 \r\nL 208.479947 89.152159 \r\nL 208.480021 89.083566 \r\nL 208.609677 88.946184 \r\nL 208.793962 88.808541 \r\nL 209.476119 88.532472 \r\nL 209.497938 88.463291 \r\nL 210.90597 88.022664 \r\nL 211.384458 88.062325 \r\nL 211.611883 87.85171 \r\nL 212.099616 87.747513 \r\nL 212.463009 87.71359 \r\nL 212.795875 87.39655 \r\nL 213.089839 87.362157 \r\nL 213.128167 87.291138 \r\nL 214.558423 87.148893 \r\nL 214.848207 86.7205 \r\nL 215.649287 86.793384 \r\nL 215.688693 86.721708 \r\nL 215.874268 86.649963 \r\nL 216.32571 86.614591 \r\nL 216.800022 86.146153 \r\nL 216.919844 86.110115 \r\nL 217.218492 86.001415 \r\nL 217.392639 85.783216 \r\nL 217.524641 85.418118 \r\nL 217.82531 85.198195 \r\nL 217.847649 85.124743 \r\nL 218.253961 84.903951 \r\nL 218.517901 84.682505 \r\nL 218.647894 84.608543 \r\nL 219.581301 84.383976 \r\nL 219.763226 84.160653 \r\nL 220.275816 84.119401 \r\nL 220.503106 83.969736 \r\nL 222.223034 83.508208 \r\nL 222.664806 82.971992 \r\nL 223.148153 83.003597 \r\nL 223.219928 82.927062 \r\nL 223.397362 82.963115 \r\nL 223.400146 82.886483 \r\nL 223.524761 82.84582 \r\nL 225.240623 82.337022 \r\nL 225.54598 82.026547 \r\nL 225.609109 81.94873 \r\nL 225.859596 81.792857 \r\nL 225.97221 81.558447 \r\nL 226.195095 81.401773 \r\nL 226.446957 80.850871 \r\nL 226.723654 80.684682 \r\nL 227.436563 80.446491 \r\nL 227.450953 80.482044 \r\nL 227.500207 80.322793 \r\nL 228.089879 80.003299 \r\nL 228.63496 79.958647 \r\nL 228.635762 79.994112 \r\nL 228.645646 80.029614 \r\nL 228.675643 79.94938 \r\nL 229.06433 80.056039 \r\nL 230.253674 79.805088 \r\nL 231.408164 79.7599 \r\nL 231.48522 79.598056 \r\nL 231.939221 79.623768 \r\nL 232.146939 79.216882 \r\nL 232.459783 78.971721 \r\nL 232.982293 78.925272 \r\nL 233.075028 78.843267 \r\nL 233.388334 78.796609 \r\nL 233.603395 78.502647 \r\nL 235.297418 78.207122 \r\nL 235.399761 78.041127 \r\nL 235.77419 77.541017 \r\nL 235.950533 77.275934 \r\nL 236.05564 77.19186 \r\nL 236.404757 77.226945 \r\nL 236.707836 77.058472 \r\nL 237.055709 76.72044 \r\nL 237.278018 76.210655 \r\nL 237.287909 76.125369 \r\nL 238.286138 75.560364 \r\nL 238.497 75.30192 \r\nL 238.502366 75.215584 \r\nL 238.727232 75.163633 \r\nL 239.730133 74.309062 \r\nL 239.899651 74.045718 \r\nL 240.132032 73.957744 \r\nL 240.793875 73.781505 \r\nL 240.978605 73.604877 \r\nL 241.676629 72.996071 \r\nL 241.794967 72.739708 \r\nL 241.839189 72.773642 \r\nL 241.8585 72.683784 \r\nL 241.877528 72.593826 \r\nL 241.933187 72.627736 \r\nL 242.363081 72.571562 \r\nL 243.238216 72.096282 \r\nL 243.446732 71.823296 \r\nL 243.699849 71.732096 \r\nL 244.18657 71.674473 \r\nL 244.714777 71.15782 \r\nL 245.006609 70.763144 \r\nL 246.029265 70.205479 \r\nL 246.447672 70.238744 \r\nL 246.453023 70.145395 \r\nL 246.966877 69.804065 \r\nL 247.317189 69.366398 \r\nL 247.545421 68.92571 \r\nL 248.135804 68.577517 \r\nL 248.160345 68.194669 \r\nL 248.386865 68.035148 \r\nL 248.461699 67.746069 \r\nL 248.938277 67.488365 \r\nL 249.001347 67.391407 \r\nL 249.289634 67.456209 \r\nL 249.763701 67.294185 \r\nL 251.18959 67.06626 \r\nL 251.454329 66.902791 \r\nL 252.330951 66.704945 \r\nL 252.344177 66.737285 \r\nL 252.448576 66.638686 \r\nL 253.050996 66.604608 \r\nL 253.240946 66.40667 \r\nL 253.618679 66.208264 \r\nL 253.734155 66.041527 \r\nL 253.819957 66.073704 \r\nL 253.838013 65.974009 \r\nL 254.506022 65.6702 \r\nL 254.526924 65.56979 \r\nL 254.609452 65.601877 \r\nL 255.397316 65.496862 \r\nL 255.905809 65.625729 \r\nL 256.086368 65.455639 \r\nL 256.362486 65.451055 \r\nL 256.507041 65.178012 \r\nL 256.569438 65.21027 \r\nL 256.64278 65.108186 \r\nL 257.10026 64.903648 \r\nL 257.2666 64.595911 \r\nL 257.532339 64.493083 \r\nL 257.879369 64.422086 \r\nL 257.951109 64.215719 \r\nL 258.268926 63.905226 \r\nL 258.330078 63.801476 \r\nL 258.733651 63.593596 \r\nL 259.011812 63.385208 \r\nL 259.034823 63.416764 \r\nL 259.191791 63.448359 \r\nL 259.334592 63.239283 \r\nL 259.464897 63.061148 \r\nL 259.487088 63.092641 \r\nL 259.563617 63.124173 \r\nL 259.578295 63.01905 \r\nL 259.977601 62.808416 \r\nL 260.094722 62.839851 \r\nL 260.344623 62.659988 \r\nL 260.532813 62.691408 \r\nL 260.9336 62.616912 \r\nL 261.204794 62.605159 \r\nL 261.436086 62.210274 \r\nL 261.483765 62.24165 \r\nL 261.585041 62.134669 \r\nL 261.648654 62.197443 \r\nL 261.798699 62.260373 \r\nL 262.128511 62.184547 \r\nL 262.379755 62.279213 \r\nL 262.383529 62.171586 \r\nL 262.492521 61.955928 \r\nL 262.648592 61.847896 \r\nL 262.666187 61.879339 \r\nL 263.331791 61.67987 \r\nL 263.727987 61.633984 \r\nL 264.101379 61.337783 \r\nL 264.222382 61.259633 \r\nL 264.368153 61.040078 \r\nL 264.508627 60.772056 \r\nL 264.560026 60.834573 \r\nL 264.756399 60.422402 \r\nL 264.756441 60.453557 \r\nL 264.854291 60.212533 \r\nL 265.149288 59.93856 \r\nL 265.376711 59.85719 \r\nL 265.376909 59.888261 \r\nL 265.567413 59.981716 \r\nL 266.053313 59.447172 \r\nL 266.318807 59.053518 \r\nL 266.393894 59.084389 \r\nL 266.421785 58.970036 \r\nL 266.444453 59.000893 \r\nL 266.527421 59.03179 \r\nL 266.985226 58.487887 \r\nL 267.042679 58.256893 \r\nL 267.060466 58.287484 \r\nL 267.267546 58.202277 \r\nL 267.445793 58.294244 \r\nL 267.472852 58.178085 \r\nL 267.738104 58.208765 \r\nL 268.36412 58.00648 \r\nL 268.376942 57.889745 \r\nL 268.846023 57.686287 \r\nL 268.856993 57.716803 \r\nL 269.582642 57.752391 \r\nL 269.792665 57.547298 \r\nL 269.823386 57.577925 \r\nL 269.855228 57.459732 \r\nL 269.884806 57.490342 \r\nL 269.989452 57.520993 \r\nL 270.110981 57.37574 \r\nL 270.583604 56.840144 \r\nL 270.818641 56.329715 \r\nL 270.902895 55.845166 \r\nL 271.425869 55.105619 \r\nL 271.56199 54.421666 \r\nL 271.822622 54.231285 \r\nL 271.932409 54.2608 \r\nL 272.080381 53.78863 \r\nL 272.129825 53.81796 \r\nL 272.185662 53.692023 \r\nL 272.448003 53.750671 \r\nL 272.618599 53.019498 \r\nL 272.654063 53.048514 \r\nL 272.674799 52.921061 \r\nL 272.715204 52.950048 \r\nL 272.842561 52.979077 \r\nL 272.949183 52.723353 \r\nL 273.008825 52.238383 \r\nL 273.016128 52.267071 \r\nL 273.549315 52.543017 \r\nL 273.632604 52.282448 \r\nL 273.640479 52.311539 \r\nL 274.026222 52.209961 \r\nL 274.088688 52.239062 \r\nL 274.131253 52.108091 \r\nL 274.18937 52.13716 \r\nL 274.24097 52.166272 \r\nL 274.250343 52.034964 \r\nL 274.486269 51.932473 \r\nL 274.609708 51.990611 \r\nL 274.670063 51.623213 \r\nL 274.73446 51.71019 \r\nL 274.814776 51.739266 \r\nL 275.011077 51.664533 \r\nL 275.256791 51.752045 \r\nL 275.299294 51.484978 \r\nL 275.392802 51.514081 \r\nL 275.402474 51.543227 \r\nL 275.416829 51.409246 \r\nL 275.765431 51.52595 \r\nL 275.879675 51.121894 \r\nL 276.044843 50.501835 \r\nL 276.661505 49.411433 \r\nL 276.741299 48.993452 \r\nL 276.746532 49.021553 \r\nL 276.847792 49.049697 \r\nL 276.877819 48.909781 \r\nL 276.926594 48.937882 \r\nL 277.23603 49.050717 \r\nL 277.311215 48.684577 \r\nL 277.364533 48.740908 \r\nL 277.369968 48.769139 \r\nL 277.398751 48.627512 \r\nL 277.443726 48.683929 \r\nL 277.845651 47.038689 \r\nL 277.84891 47.066144 \r\nL 278.05382 46.801808 \r\nL 278.07084 46.884004 \r\nL 278.139458 46.911488 \r\nL 278.402577 46.67272 \r\nL 278.426683 46.37793 \r\nL 278.503315 46.432448 \r\nL 278.605384 46.514548 \r\nL 278.653137 46.217877 \r\nL 278.834134 46.272443 \r\nL 278.905129 46.110655 \r\nL 278.948788 46.192901 \r\nL 278.966597 46.220404 \r\nL 278.967693 46.070174 \r\nL 279.034364 45.76899 \r\nL 279.093554 45.850876 \r\nL 279.158602 45.878259 \r\nL 279.226745 45.726908 \r\nL 279.251607 45.781607 \r\nL 279.486521 45.836482 \r\nL 279.584576 45.532245 \r\nL 279.771313 45.586894 \r\nL 280.531987 44.70047 \r\nL 280.580093 44.389882 \r\nL 280.72969 44.416651 \r\nL 281.361681 43.530491 \r\nL 281.396494 43.556748 \r\nL 281.60087 43.635782 \r\nL 283.711792 44.17669 \r\nL 283.776092 44.015551 \r\nL 283.833137 44.042933 \r\nL 283.962361 44.097838 \r\nL 283.98119 43.936084 \r\nL 284.550826 44.156663 \r\nL 284.708426 44.268091 \r\nL 285.031066 43.940975 \r\nL 285.049154 43.776994 \r\nL 285.119632 43.860013 \r\nL 285.523454 43.99934 \r\nL 285.623311 44.111676 \r\nL 285.736562 43.64158 \r\nL 285.776775 43.669474 \r\nL 285.89588 43.446661 \r\nL 286.007428 43.278781 \r\nL 286.045217 43.418125 \r\nL 286.227912 43.530491 \r\nL 286.369109 43.643657 \r\nL 286.433918 43.473858 \r\nL 286.462201 43.502149 \r\nL 286.542633 43.558884 \r\nL 286.588256 43.217612 \r\nL 287.01848 42.93103 \r\nL 287.051121 42.759062 \r\nL 287.318289 42.927236 \r\nL 287.44431 43.012009 \r\nL 287.447128 42.838554 \r\nL 287.493538 42.866783 \r\nL 287.689807 42.372007 \r\nL 287.718169 42.399938 \r\nL 287.862105 42.455955 \r\nL 287.870015 42.280563 \r\nL 287.969813 42.364567 \r\nL 288.146026 42.449035 \r\nL 288.239422 42.477295 \r\nL 288.284201 42.300629 \r\nL 288.28851 42.328804 \r\nL 288.544515 42.030174 \r\nL 288.550584 41.852112 \r\nL 288.657989 41.880027 \r\nL 288.765273 41.99221 \r\nL 288.837971 41.633689 \r\nL 288.852322 41.68953 \r\nL 289.003243 41.717528 \r\nL 289.013592 41.53734 \r\nL 289.028938 41.593209 \r\nL 289.191479 41.621222 \r\nL 289.367116 41.07733 \r\nL 289.391904 41.104963 \r\nL 289.760242 41.299859 \r\nL 290.034019 41.525793 \r\nL 290.184048 40.842139 \r\nL 290.480653 41.0109 \r\nL 290.501181 40.823922 \r\nL 290.525919 40.852086 \r\nL 290.659194 40.908577 \r\nL 290.693922 40.532603 \r\nL 290.696396 40.56062 \r\nL 290.877351 40.616819 \r\nL 290.923275 40.427812 \r\nL 291.008929 40.540239 \r\nL 291.077975 40.35023 \r\nL 291.253895 40.434653 \r\nL 291.259448 40.243792 \r\nL 291.340122 40.271883 \r\nL 291.416407 40.328232 \r\nL 291.551338 40.028377 \r\nL 291.989745 40.141116 \r\nL 292.16091 39.58689 \r\nL 292.235082 39.642713 \r\nL 292.323726 39.783256 \r\nL 292.356256 39.390578 \r\nL 292.375472 39.418516 \r\nL 292.587971 39.446512 \r\nL 292.666867 38.881014 \r\nL 292.669602 38.908605 \r\nL 292.875837 39.075337 \r\nL 292.883254 38.875456 \r\nL 292.984198 38.126073 \r\nL 293.065603 37.721046 \r\nL 293.143835 37.774797 \r\nL 293.47211 37.964693 \r\nL 293.49854 37.759898 \r\nL 293.517811 37.554674 \r\nL 293.552755 37.581657 \r\nL 293.678692 37.635792 \r\nL 293.880651 36.600369 \r\nL 293.929262 36.652832 \r\nL 294.2307 35.840591 \r\nL 294.292901 35.866183 \r\nL 294.388661 35.494388 \r\nL 294.665694 35.596147 \r\nL 294.853562 34.980591 \r\nL 294.975382 34.119279 \r\nL 295.032727 34.143478 \r\nL 295.03351 33.926776 \r\nL 295.302207 33.733438 \r\nL 295.477502 33.757323 \r\nL 295.48475 33.539258 \r\nL 295.523783 33.562984 \r\nL 295.596593 33.586762 \r\nL 295.687849 32.974852 \r\nL 295.88698 32.555542 \r\nL 295.916417 32.6014 \r\nL 296.071448 32.670567 \r\nL 296.113444 32.246521 \r\nL 296.176039 32.292099 \r\nL 296.308383 32.360848 \r\nL 296.374646 31.909398 \r\nL 296.39799 31.954578 \r\nL 296.533863 31.977244 \r\nL 296.781162 31.589311 \r\nL 296.959383 31.634176 \r\nL 296.982885 31.404816 \r\nL 297.475848 31.032039 \r\nL 297.819909 31.142549 \r\nL 298.009549 30.675844 \r\nL 298.018168 30.441686 \r\nL 298.042911 30.484783 \r\nL 298.684187 30.659179 \r\nL 298.727837 30.422 \r\nL 298.806099 30.443777 \r\nL 299.113801 30.664375 \r\nL 299.303441 30.226441 \r\nL 299.314155 30.248374 \r\nL 299.596307 30.314486 \r\nL 299.658851 30.071234 \r\nL 299.728218 30.093113 \r\nL 300.031296 30.203293 \r\nL 300.048098 29.957859 \r\nL 300.127508 30.023797 \r\nL 300.390346 30.112461 \r\nL 300.404612 29.86453 \r\nL 300.927651 30.042253 \r\nL 300.943532 29.791495 \r\nL 301.025556 29.858199 \r\nL 301.07138 29.880544 \r\nL 301.082251 29.628037 \r\nL 301.101175 29.650152 \r\nL 301.482963 29.229387 \r\nL 301.654594 29.338987 \r\nL 301.908008 29.427663 \r\nL 301.987775 29.169164 \r\nL 302.032991 29.25754 \r\nL 302.785881 29.643369 \r\nL 302.838691 29.377764 \r\nL 302.890491 29.400675 \r\nL 303.004672 29.423646 \r\nL 303.241522 28.373479 \r\nL 303.303409 28.417144 \r\nL 303.479387 28.483073 \r\nL 303.489537 28.211374 \r\nL 303.583244 28.320765 \r\nL 303.676469 28.3871 \r\nL 303.886567 27.836171 \r\nL 304.178023 27.900998 \r\nL 304.216267 27.623396 \r\nL 304.281778 27.666215 \r\nL 304.813493 27.77428 \r\nL 304.87776 27.493484 \r\nL 304.947742 27.536416 \r\nL 305.318864 27.644777 \r\nL 305.371629 27.075867 \r\nL 305.943622 27.160725 \r\nL 306.073978 26.873626 \r\nL 306.101499 26.894618 \r\nL 308.259732 27.461656 \r\nL 308.270926 27.163392 \r\nL 308.346711 27.207977 \r\nL 309.376034 27.411848 \r\nL 309.785019 27.457886 \r\nL 309.808368 27.153466 \r\nL 309.883929 27.176172 \r\nL 310.210406 27.244692 \r\nL 311.445092 27.644777 \r\nL 311.448411 27.330448 \r\nL 311.897713 27.498139 \r\nL 311.993847 27.571118 \r\nL 312.425427 27.669482 \r\nL 312.518776 27.347848 \r\nL 312.572689 27.372167 \r\nL 312.736076 27.049062 \r\nL 312.757529 26.724947 \r\nL 313.183012 26.842974 \r\nL 313.191685 26.515461 \r\nL 313.239003 26.538809 \r\nL 313.641053 26.680468 \r\nL 313.771238 26.038356 \r\nL 313.881942 26.10745 \r\nL 314.395949 26.247662 \r\nL 314.799315 26.511965 \r\nL 315.769702 27.070594 \r\nL 315.992405 27.230367 \r\nL 316.314819 27.36608 \r\nL 317.131644 27.61646 \r\nL 317.155554 27.247634 \r\nL 317.206126 27.331055 \r\nL 317.78998 27.55797 \r\nL 317.817072 27.615735 \r\nL 318.266373 27.762015 \r\nL 318.387 27.971399 \r\nL 318.648859 28.280205 \r\nL 318.764593 28.407047 \r\nL 319.003271 28.568365 \r\nL 319.177478 28.866755 \r\nL 319.483052 29.246159 \r\nL 319.491994 28.45034 \r\nL 319.513229 28.518329 \r\nL 319.802688 28.69075 \r\nL 319.809774 28.72566 \r\nL 319.830348 28.301211 \r\nL 319.913507 28.369851 \r\nL 319.964667 27.942015 \r\nL 320.019265 28.009584 \r\nL 320.35147 28.285602 \r\nL 320.381047 28.356077 \r\nL 320.382982 27.916327 \r\nL 320.454376 28.161666 \r\nL 320.732405 28.488266 \r\nL 320.884283 28.637634 \r\nL 320.893955 27.716013 \r\nL 320.991491 27.896931 \r\nL 321.168766 28.081998 \r\nL 321.202334 28.19509 \r\nL 321.204037 27.718322 \r\nL 321.301654 27.829925 \r\nL 321.640555 28.05788 \r\nL 321.81625 28.174301 \r\nL 321.869793 27.68269 \r\nL 322.047615 27.188728 \r\nL 322.135128 27.262909 \r\nL 322.458447 27.45152 \r\nL 322.458514 26.947355 \r\nL 323.32158 27.24961 \r\nL 323.704436 27.564139 \r\nL 323.732856 27.644777 \r\nL 324.027729 27.850019 \r\nL 324.278733 28.146431 \r\nL 324.692152 28.498847 \r\nL 324.699796 27.944507 \r\nL 324.760383 27.988252 \r\nL 325.033187 28.301211 \r\nL 325.143043 28.626478 \r\nL 325.24859 28.721774 \r\nL 325.41178 27.599518 \r\nL 325.496827 27.690295 \r\nL 325.68686 27.828427 \r\nL 325.816419 28.064048 \r\nL 326.090948 28.208767 \r\nL 326.412459 28.972685 \r\nL 326.497212 27.145226 \r\nL 326.532304 27.242607 \r\nL 326.5787 27.291761 \r\nL 326.61391 26.632948 \r\nL 326.620428 26.680468 \r\nL 326.727931 26.728293 \r\nL 326.858114 26.061313 \r\nL 326.93618 26.200621 \r\nL 327.117184 26.888314 \r\nL 327.266338 27.150066 \r\nL 327.275267 27.203507 \r\nL 327.313444 26.482407 \r\nL 327.380405 26.637936 \r\nL 327.689179 26.959062 \r\nL 328.411038 28.07412 \r\nL 328.572187 28.395283 \r\nL 328.937367 28.866755 \r\nL 328.989414 29.148363 \r\nL 329.075582 29.292672 \r\nL 329.076558 28.439062 \r\nL 329.101002 28.508853 \r\nL 329.466412 28.721774 \r\nL 329.644975 28.940178 \r\nL 329.742483 28.055614 \r\nL 329.743753 28.126162 \r\nL 329.934821 28.269106 \r\nL 329.9377 28.341519 \r\nL 330.089944 27.434833 \r\nL 330.142336 27.574174 \r\nL 330.598942 28.157219 \r\nL 330.741967 28.3871 \r\nL 330.887992 28.703824 \r\nL 331.004281 28.866755 \r\nL 331.34602 28.949401 \r\nL 331.396739 27.953237 \r\nL 331.447694 28.112004 \r\nL 331.558437 28.273914 \r\nL 331.561209 27.24961 \r\nL 331.645675 27.327062 \r\nL 332.251908 28.146431 \r\nL 332.433084 23.846019 \r\nL 332.442081 23.912068 \r\nL 332.452659 23.978843 \r\nL 332.476893 22.817626 \r\nL 332.593881 22.879062 \r\nL 332.783084 21.698727 \r\nL 332.853077 21.81104 \r\nL 333.230311 22.043456 \r\nL 333.796714 22.542093 \r\nL 334.008049 22.6744 \r\nL 334.022014 22.809994 \r\nL 334.392963 23.019822 \r\nL 336.09466 24.559062 \r\nL 336.335415 25.23785 \r\nL 336.508638 23.643032 \r\nL 337.162244 23.734447 \r\nL 339.103613 23.921562 \r\nL 339.629085 24.01733 \r\nL 344.627641 24.213462 \r\nL 344.878531 22.520353 \r\nL 346.427529 22.787162 \r\nL 346.721984 23.067537 \r\nL 346.902245 23.673348 \r\nL 348.543424 24.230091 \r\nL 349.595213 24.589832 \r\nL 349.714463 24.841415 \r\nL 351.119803 24.970944 \r\nL 351.156525 25.103062 \r\nL 351.79927 25.23785 \r\nL 351.818359 25.375389 \r\nL 352.268944 25.515764 \r\nL 352.305053 25.659062 \r\nL 352.490364 25.805378 \r\nL 355.905658 26.10745 \r\nL 357.043818 26.585729 \r\nL 357.359549 24.253445 \r\nL 357.496176 21.868153 \r\nL 357.828712 19.428028 \r\nL 357.929765 19.517202 \r\nL 359.591895 19.797617 \r\nL 359.711256 17.183453 \r\nL 359.882582 17.250421 \r\nL 359.968595 14.539062 \r\nL 360.961077 14.724396 \r\nL 361.412138 14.936205 \r\nL 361.829592 15.029651 \r\nL 361.842798 11.759062 \r\nL 422.019826 11.759062 \r\nL 422.019826 11.759062 \r\n\" style=\"fill:none;stroke:#0000ff;stroke-dasharray:7.4,3.2;stroke-dashoffset:0;stroke-width:2;\"/>\r\n   </g>\r\n   <g id=\"line2d_28\">\r\n    <path clip-path=\"url(#pc6173cfcba)\" d=\"M 110.131343 11.759062 \r\nL 111.228562 11.916793 \r\nL 131.617458 11.916793 \r\nL 139.012091 12.074523 \r\nL 162.073755 12.074523 \r\nL 162.114348 12.232254 \r\nL 167.048895 12.232254 \r\nL 167.18361 12.389984 \r\nL 178.417065 12.389984 \r\nL 178.743481 12.547715 \r\nL 181.726816 12.547715 \r\nL 181.81508 12.705445 \r\nL 182.54211 12.705445 \r\nL 183.137058 13.020906 \r\nL 187.299009 13.020906 \r\nL 187.302581 13.178637 \r\nL 188.149245 13.178637 \r\nL 188.223631 13.336367 \r\nL 189.065332 13.336367 \r\nL 189.072452 13.494098 \r\nL 189.621689 13.494098 \r\nL 189.716137 13.651828 \r\nL 189.914333 13.651828 \r\nL 190.206735 13.809559 \r\nL 190.434326 13.967289 \r\nL 191.191574 13.967289 \r\nL 191.532975 14.12502 \r\nL 191.542149 14.28275 \r\nL 191.923317 14.598211 \r\nL 192.92274 14.598211 \r\nL 193.020418 14.755942 \r\nL 193.991282 14.755942 \r\nL 194.33953 14.913672 \r\nL 194.856268 14.913672 \r\nL 194.947554 15.071403 \r\nL 195.900257 15.071403 \r\nL 195.946931 15.229133 \r\nL 196.170348 15.229133 \r\nL 196.509363 15.386864 \r\nL 199.700692 15.386864 \r\nL 200.59775 15.702325 \r\nL 201.340229 15.702325 \r\nL 202.243277 16.017786 \r\nL 202.748501 16.017786 \r\nL 203.046506 16.175516 \r\nL 204.226819 16.175516 \r\nL 204.744152 16.333247 \r\nL 207.20249 16.333247 \r\nL 207.432187 16.490977 \r\nL 207.974275 16.490977 \r\nL 208.793962 16.648708 \r\nL 209.674718 16.648708 \r\nL 209.702697 16.806438 \r\nL 209.830969 16.806438 \r\nL 209.918403 16.964169 \r\nL 210.510407 16.964169 \r\nL 211.18185 18.068282 \r\nL 211.564694 18.226013 \r\nL 211.96928 18.226013 \r\nL 212.099616 18.383743 \r\nL 212.543565 18.541474 \r\nL 212.760202 18.541474 \r\nL 212.795875 18.699204 \r\nL 213.128167 18.856935 \r\nL 214.848207 18.856935 \r\nL 215.076967 19.014665 \r\nL 216.800022 19.487857 \r\nL 216.919844 19.645587 \r\nL 217.110818 19.645587 \r\nL 217.218492 19.803318 \r\nL 219.241757 19.803318 \r\nL 219.659563 20.118779 \r\nL 219.763226 20.118779 \r\nL 220.060111 20.276509 \r\nL 220.138542 20.59197 \r\nL 221.167404 20.59197 \r\nL 221.656056 20.907431 \r\nL 222.223034 21.538353 \r\nL 222.291634 21.538353 \r\nL 222.315886 21.696084 \r\nL 222.602508 21.696084 \r\nL 222.664806 21.853814 \r\nL 223.524761 22.642467 \r\nL 223.954262 22.642467 \r\nL 224.409707 22.957928 \r\nL 225.054236 22.957928 \r\nL 225.240623 23.115658 \r\nL 226.533052 23.115658 \r\nL 226.723654 23.431119 \r\nL 227.436563 23.431119 \r\nL 227.500207 23.58885 \r\nL 228.600953 23.58885 \r\nL 228.82808 24.219772 \r\nL 229.06433 24.535233 \r\nL 229.499423 24.535233 \r\nL 229.507567 24.692963 \r\nL 229.638192 24.850694 \r\nL 230.253674 24.850694 \r\nL 231.71931 25.166155 \r\nL 231.763664 25.323885 \r\nL 232.061031 25.481616 \r\nL 232.459783 25.481616 \r\nL 232.982293 25.639346 \r\nL 233.075028 25.639346 \r\nL 233.603395 25.954807 \r\nL 234.363613 25.954807 \r\nL 234.381963 26.112538 \r\nL 235.808406 26.112538 \r\nL 235.950533 26.427999 \r\nL 236.05564 26.427999 \r\nL 236.404757 26.585729 \r\nL 237.874712 26.585729 \r\nL 237.935363 26.74346 \r\nL 238.502366 26.74346 \r\nL 238.849779 26.90119 \r\nL 239.03192 26.90119 \r\nL 239.365981 27.216651 \r\nL 239.623868 27.216651 \r\nL 239.780735 27.374382 \r\nL 241.116252 27.374382 \r\nL 241.254176 27.532112 \r\nL 241.363921 27.532112 \r\nL 241.57135 27.847573 \r\nL 241.691561 27.847573 \r\nL 241.933187 28.636226 \r\nL 242.363081 28.793956 \r\nL 242.576672 28.793956 \r\nL 242.84972 28.951687 \r\nL 242.975041 28.951687 \r\nL 243.087018 29.109417 \r\nL 243.699849 29.109417 \r\nL 244.937374 29.582609 \r\nL 245.006609 29.740339 \r\nL 246.029265 29.740339 \r\nL 246.645252 29.89807 \r\nL 246.91484 29.89807 \r\nL 246.966877 30.0558 \r\nL 247.225609 30.0558 \r\nL 247.404338 30.213531 \r\nL 247.508415 30.213531 \r\nL 247.545421 30.371261 \r\nL 247.77349 30.371261 \r\nL 248.037654 30.528992 \r\nL 248.362761 30.528992 \r\nL 248.461699 30.686722 \r\nL 248.694389 30.686722 \r\nL 248.938277 30.844453 \r\nL 249.001347 30.844453 \r\nL 249.289634 31.159914 \r\nL 249.596798 31.159914 \r\nL 249.603286 31.317644 \r\nL 250.580156 31.317644 \r\nL 250.62602 31.475375 \r\nL 251.18959 31.633105 \r\nL 251.398576 31.633105 \r\nL 251.454329 31.790836 \r\nL 251.760139 31.790836 \r\nL 252.091433 32.106297 \r\nL 252.330951 32.264027 \r\nL 252.448576 32.421758 \r\nL 253.240946 32.737219 \r\nL 253.644419 32.737219 \r\nL 253.838013 33.05268 \r\nL 254.172065 33.05268 \r\nL 254.303158 33.368141 \r\nL 254.358836 33.368141 \r\nL 254.609452 33.683602 \r\nL 254.979896 33.683602 \r\nL 255.328289 33.841332 \r\nL 255.514773 34.314523 \r\nL 256.17352 35.103176 \r\nL 256.238242 35.260906 \r\nL 256.64278 35.734098 \r\nL 257.532339 35.734098 \r\nL 258.094963 35.891828 \r\nL 259.011812 35.891828 \r\nL 259.034823 36.049559 \r\nL 259.334592 36.207289 \r\nL 259.385323 36.207289 \r\nL 259.487088 36.52275 \r\nL 259.578295 36.680481 \r\nL 259.977601 36.680481 \r\nL 260.344623 36.995942 \r\nL 260.532813 37.153672 \r\nL 260.774039 37.153672 \r\nL 261.13065 37.626864 \r\nL 261.283298 37.942325 \r\nL 261.436086 37.942325 \r\nL 261.648654 38.415516 \r\nL 261.798699 38.730977 \r\nL 262.080364 38.730977 \r\nL 262.128511 38.888708 \r\nL 262.355136 39.046438 \r\nL 262.492521 39.361899 \r\nL 262.648592 39.361899 \r\nL 262.666187 39.51963 \r\nL 262.979477 39.51963 \r\nL 263.727987 40.466013 \r\nL 263.915197 40.466013 \r\nL 263.969868 40.623743 \r\nL 264.162805 40.623743 \r\nL 264.222382 40.781474 \r\nL 264.408866 40.781474 \r\nL 264.560026 41.412396 \r\nL 264.647648 41.412396 \r\nL 264.851254 42.201048 \r\nL 264.936665 42.201048 \r\nL 265.05786 42.358779 \r\nL 265.149288 42.516509 \r\nL 265.321259 42.516509 \r\nL 265.701946 43.305162 \r\nL 265.883284 43.305162 \r\nL 266.005583 43.462892 \r\nL 266.163239 43.462892 \r\nL 266.527421 44.251545 \r\nL 266.925359 44.251545 \r\nL 267.060466 44.567006 \r\nL 267.198549 44.567006 \r\nL 267.472852 45.197928 \r\nL 267.738104 45.355658 \r\nL 268.351372 45.355658 \r\nL 268.376942 45.513389 \r\nL 268.811323 45.513389 \r\nL 268.856993 45.82885 \r\nL 269.246995 45.98658 \r\nL 270.026238 47.563885 \r\nL 270.110981 47.721616 \r\nL 270.419461 47.721616 \r\nL 270.865144 48.510268 \r\nL 271.013391 48.510268 \r\nL 271.277662 49.772112 \r\nL 271.433101 49.772112 \r\nL 271.56199 50.087573 \r\nL 271.669737 50.087573 \r\nL 272.004038 50.718495 \r\nL 272.080381 50.718495 \r\nL 272.185662 50.876226 \r\nL 272.618599 51.349417 \r\nL 272.715204 51.664878 \r\nL 272.962149 51.822609 \r\nL 272.989806 51.822609 \r\nL 273.091025 52.453531 \r\nL 273.640479 54.504027 \r\nL 273.930037 54.504027 \r\nL 274.700428 55.923602 \r\nL 274.814776 56.396793 \r\nL 274.940881 56.396793 \r\nL 275.068832 56.869984 \r\nL 275.392802 57.343176 \r\nL 275.527033 57.816367 \r\nL 275.549382 57.974098 \r\nL 275.972991 58.289559 \r\nL 276.044843 58.447289 \r\nL 276.136953 58.447289 \r\nL 276.474016 59.393672 \r\nL 276.614535 60.024594 \r\nL 276.741299 60.024594 \r\nL 276.847792 60.340055 \r\nL 276.877819 60.340055 \r\nL 277.23603 61.128708 \r\nL 277.246044 61.128708 \r\nL 277.369968 61.91736 \r\nL 277.398751 61.91736 \r\nL 277.471454 62.232821 \r\nL 277.667446 62.863743 \r\nL 277.754711 63.494665 \r\nL 277.845651 63.494665 \r\nL 277.84891 63.652396 \r\nL 277.972764 63.652396 \r\nL 278.139458 64.441048 \r\nL 278.336405 64.441048 \r\nL 278.653137 65.545162 \r\nL 278.855965 66.018353 \r\nL 279.034364 67.280197 \r\nL 279.328654 68.384311 \r\nL 280.224653 69.330694 \r\nL 280.448665 69.961616 \r\nL 280.580093 69.961616 \r\nL 281.026373 70.277077 \r\nL 281.041646 70.277077 \r\nL 281.079001 70.434807 \r\nL 281.361681 70.434807 \r\nL 281.60087 71.065729 \r\nL 282.091419 71.854382 \r\nL 282.35567 72.485304 \r\nL 282.603137 72.643034 \r\nL 282.727566 72.958495 \r\nL 282.883384 73.431687 \r\nL 282.912164 74.062609 \r\nL 283.204715 74.220339 \r\nL 283.356187 74.5358 \r\nL 283.620558 75.008992 \r\nL 284.347728 76.428566 \r\nL 284.461321 76.744027 \r\nL 284.564288 77.059488 \r\nL 284.708426 77.53268 \r\nL 285.049154 77.53268 \r\nL 285.119632 78.005871 \r\nL 285.38175 78.321332 \r\nL 285.507779 78.636793 \r\nL 285.660431 79.583176 \r\nL 285.736562 79.583176 \r\nL 286.045217 81.160481 \r\nL 286.227912 81.791403 \r\nL 286.32945 82.264594 \r\nL 286.588256 82.895516 \r\nL 286.858027 82.895516 \r\nL 287.051121 83.210977 \r\nL 287.2821 83.684169 \r\nL 287.447128 84.630552 \r\nL 287.60694 84.788282 \r\nL 287.625646 84.788282 \r\nL 287.969813 85.892396 \r\nL 288.017507 86.207857 \r\nL 288.657989 87.15424 \r\nL 288.768583 87.785162 \r\nL 288.837971 87.785162 \r\nL 288.852322 88.100623 \r\nL 289.026991 88.416084 \r\nL 289.028938 88.573814 \r\nL 289.26707 88.731545 \r\nL 289.367116 88.731545 \r\nL 289.516641 89.204736 \r\nL 289.747641 89.835658 \r\nL 289.880563 90.30885 \r\nL 290.696396 93.147999 \r\nL 290.923275 93.46346 \r\nL 291.077975 94.094382 \r\nL 291.244956 94.409843 \r\nL 291.340122 94.725304 \r\nL 291.551338 95.513956 \r\nL 291.809537 95.671687 \r\nL 291.90937 95.987148 \r\nL 292.253705 96.7758 \r\nL 292.375472 97.564453 \r\nL 292.599861 97.722183 \r\nL 292.669602 98.037644 \r\nL 292.756076 98.353105 \r\nL 292.885885 98.984027 \r\nL 292.938833 98.984027 \r\nL 293.012139 99.299488 \r\nL 293.065603 99.299488 \r\nL 293.264119 99.93041 \r\nL 293.348435 100.561332 \r\nL 293.629258 101.034523 \r\nL 293.777938 101.192254 \r\nL 293.880651 101.192254 \r\nL 294.028371 101.507715 \r\nL 294.665163 102.611828 \r\nL 294.768653 102.769559 \r\nL 294.889717 102.927289 \r\nL 294.975382 102.927289 \r\nL 295.03351 103.08502 \r\nL 295.246172 103.08502 \r\nL 295.302207 103.24275 \r\nL 295.523783 103.558211 \r\nL 296.075407 104.977786 \r\nL 296.39799 106.23963 \r\nL 296.673725 106.712821 \r\nL 296.781162 106.870552 \r\nL 297.451581 107.659204 \r\nL 297.603267 107.974665 \r\nL 298.861886 110.498353 \r\nL 299.025312 111.444736 \r\nL 299.529863 112.70658 \r\nL 300.98578 116.334382 \r\nL 301.101175 116.965304 \r\nL 301.265872 116.965304 \r\nL 301.3538 117.280765 \r\nL 302.029701 119.488992 \r\nL 302.097598 119.962183 \r\nL 302.449994 121.066297 \r\nL 302.46289 121.539488 \r\nL 302.772459 122.17041 \r\nL 302.890491 122.485871 \r\nL 303.108067 122.643602 \r\nL 303.18373 122.643602 \r\nL 303.303409 123.116793 \r\nL 303.574409 123.905445 \r\nL 303.676469 124.851828 \r\nL 303.886567 124.851828 \r\nL 304.178023 125.32502 \r\nL 304.216267 125.32502 \r\nL 304.64395 126.271403 \r\nL 304.933953 126.586864 \r\nL 305.054952 127.060055 \r\nL 305.943622 128.164169 \r\nL 306.073978 128.164169 \r\nL 306.224275 128.795091 \r\nL 306.378768 129.110552 \r\nL 306.383679 129.268282 \r\nL 306.733906 129.426013 \r\nL 306.743434 129.583743 \r\nL 307.186005 130.214665 \r\nL 307.303296 131.003318 \r\nL 307.831757 131.476509 \r\nL 307.920288 131.949701 \r\nL 308.270926 132.422892 \r\nL 308.598541 133.211545 \r\nL 309.204112 133.684736 \r\nL 309.376034 134.157928 \r\nL 309.808368 134.473389 \r\nL 310.297798 135.262041 \r\nL 311.054255 136.523885 \r\nL 311.179596 137.154807 \r\nL 311.878692 138.732112 \r\nL 312.077879 139.520765 \r\nL 312.407095 139.836226 \r\nL 312.518776 139.993956 \r\nL 312.572689 140.151687 \r\nL 312.757529 140.151687 \r\nL 312.959133 140.309417 \r\nL 313.068658 140.782609 \r\nL 313.312801 141.2558 \r\nL 313.641053 142.044453 \r\nL 313.746901 142.044453 \r\nL 313.881942 142.675375 \r\nL 314.331283 142.990836 \r\nL 314.720552 145.199062 \r\nL 315.087496 146.145445 \r\nL 315.286989 147.72275 \r\nL 315.526394 148.038211 \r\nL 315.673875 148.353672 \r\nL 315.769702 148.826864 \r\nL 315.886982 149.142325 \r\nL 316.251722 150.404169 \r\nL 316.839003 151.823743 \r\nL 317.155554 151.981474 \r\nL 317.206126 152.454665 \r\nL 317.395027 152.770126 \r\nL 317.525563 153.243318 \r\nL 317.783981 153.558779 \r\nL 317.817072 154.03197 \r\nL 318.037634 154.189701 \r\nL 318.19875 154.662892 \r\nL 318.348802 155.293814 \r\nL 319.513229 162.549417 \r\nL 319.707458 162.864878 \r\nL 319.830348 163.4958 \r\nL 320.35147 165.388566 \r\nL 320.445491 166.49268 \r\nL 320.563069 167.123602 \r\nL 320.691809 168.069984 \r\nL 321.083916 169.96275 \r\nL 321.178682 170.751403 \r\nL 321.357336 171.855516 \r\nL 321.640555 172.328708 \r\nL 321.869793 172.801899 \r\nL 322.047615 172.801899 \r\nL 322.662525 174.221474 \r\nL 323.295163 175.010126 \r\nL 323.484117 175.641048 \r\nL 323.704436 176.429701 \r\nL 323.732856 176.745162 \r\nL 323.859226 177.060623 \r\nL 323.881142 177.376084 \r\nL 324.048125 177.691545 \r\nL 324.138738 178.164736 \r\nL 324.373762 178.953389 \r\nL 324.514005 179.42658 \r\nL 324.699796 179.899772 \r\nL 325.026035 181.003885 \r\nL 325.143043 182.265729 \r\nL 325.746989 183.843034 \r\nL 325.816419 184.316226 \r\nL 326.06081 184.631687 \r\nL 326.401811 186.997644 \r\nL 326.532304 187.786297 \r\nL 326.727931 188.259488 \r\nL 326.858114 188.259488 \r\nL 326.93618 188.73268 \r\nL 327.117184 190.940906 \r\nL 327.257689 191.571828 \r\nL 327.380405 192.360481 \r\nL 327.68086 193.149133 \r\nL 327.813713 193.622325 \r\nL 328.816575 197.881048 \r\nL 328.937367 198.196509 \r\nL 328.989414 198.827431 \r\nL 329.076558 199.142892 \r\nL 329.101002 199.300623 \r\nL 329.350016 199.616084 \r\nL 329.585181 200.089275 \r\nL 329.743753 200.404736 \r\nL 329.932993 200.562467 \r\nL 329.9377 200.877928 \r\nL 330.089944 200.877928 \r\nL 330.213388 201.351119 \r\nL 330.372133 201.66658 \r\nL 330.444822 202.139772 \r\nL 330.617802 202.612963 \r\nL 330.832587 203.243885 \r\nL 331.004281 203.874807 \r\nL 331.434921 204.190268 \r\nL 331.561209 204.66346 \r\nL 332.149398 205.925304 \r\nL 332.283026 206.556226 \r\nL 332.344506 206.556226 \r\nL 332.593881 207.187148 \r\nL 332.783084 207.187148 \r\nL 333.029083 207.660339 \r\nL 333.203392 207.81807 \r\nL 333.287773 208.448992 \r\nL 333.420104 208.764453 \r\nL 333.481999 209.079914 \r\nL 333.996773 209.553105 \r\nL 334.022014 210.026297 \r\nL 334.324883 210.341758 \r\nL 334.773238 211.13041 \r\nL 335.131833 211.919063 \r\nL 335.157785 212.076793 \r\nL 335.517384 212.392254 \r\nL 335.632565 212.865445 \r\nL 335.900022 213.023176 \r\nL 336.024596 213.338637 \r\nL 336.123292 213.811828 \r\nL 336.169785 214.28502 \r\nL 336.508638 214.600481 \r\nL 337.162244 214.758211 \r\nL 338.668766 214.915942 \r\nL 339.629085 215.231403 \r\nL 344.112124 215.389133 \r\nL 344.878531 215.546864 \r\nL 346.19392 215.862325 \r\nL 346.58749 216.177786 \r\nL 346.760516 216.808708 \r\nL 346.817429 217.281899 \r\nL 346.902245 217.43963 \r\nL 347.534176 217.912821 \r\nL 347.694169 218.070552 \r\nL 348.924931 218.386013 \r\nL 349.559061 218.543743 \r\nL 349.714463 219.016935 \r\nL 351.119803 219.174665 \r\nL 351.156525 219.332396 \r\nL 351.79927 219.490126 \r\nL 351.818359 219.647857 \r\nL 352.268944 219.805587 \r\nL 352.305053 219.963318 \r\nL 352.490364 220.121048 \r\nL 355.905658 220.436509 \r\nL 357.043818 220.909701 \r\nL 357.828712 220.909701 \r\nL 357.929765 221.067431 \r\nL 359.711256 221.540623 \r\nL 359.968595 221.698353 \r\nL 360.355388 221.856084 \r\nL 360.560856 222.329275 \r\nL 360.961077 222.487006 \r\nL 361.161826 222.960197 \r\nL 362.26326 224.064311 \r\nL 362.313263 224.222041 \r\nL 363.050894 224.695233 \r\nL 363.776595 225.799346 \r\nL 363.925923 226.587999 \r\nL 363.99971 226.745729 \r\nL 364.263608 226.90346 \r\nL 364.349245 227.534382 \r\nL 364.826746 228.323034 \r\nL 364.913509 228.638495 \r\nL 365.06944 228.953956 \r\nL 365.160499 229.427148 \r\nL 365.777949 229.742609 \r\nL 365.969647 230.2158 \r\nL 366.527954 230.688992 \r\nL 366.547098 230.846722 \r\nL 366.75179 231.004453 \r\nL 367.220089 231.162183 \r\nL 367.228555 231.319914 \r\nL 367.598285 231.477644 \r\nL 368.415693 231.635375 \r\nL 368.544417 231.793105 \r\nL 370.665485 232.108566 \r\nL 370.947428 232.266297 \r\nL 370.954629 232.424027 \r\nL 380.871088 232.897219 \r\nL 391.21173 233.054949 \r\nL 391.253624 233.21268 \r\nL 420.014311 233.37041 \r\nL 420.568438 233.685871 \r\nL 421.941686 233.843602 \r\nL 422.019826 234.001332 \r\nL 422.019826 234.001332 \r\n\" style=\"fill:none;stroke:#008000;stroke-linecap:square;stroke-width:2;\"/>\r\n   </g>\r\n   <g id=\"line2d_29\">\r\n    <path clip-path=\"url(#pc6173cfcba)\" d=\"M 295.03351 234.159063 \r\nL 295.03351 33.999062 \r\n\" style=\"fill:none;stroke:#ff0000;stroke-dasharray:1.5,2.475;stroke-dashoffset:0;stroke-width:1.5;\"/>\r\n   </g>\r\n   <g id=\"line2d_30\">\r\n    <path clip-path=\"url(#pc6173cfcba)\" d=\"M 33.28375 33.999062 \r\nL 295.03351 33.999062 \r\n\" style=\"fill:none;stroke:#ff0000;stroke-dasharray:1.5,2.475;stroke-dashoffset:0;stroke-width:1.5;\"/>\r\n   </g>\r\n   <g id=\"line2d_31\">\r\n    <path clip-path=\"url(#pc6173cfcba)\" d=\"M 33.28375 103.08502 \r\nL 295.03351 103.08502 \r\n\" style=\"fill:none;stroke:#ff0000;stroke-dasharray:1.5,2.475;stroke-dashoffset:0;stroke-width:1.5;\"/>\r\n   </g>\r\n   <g id=\"line2d_32\">\r\n    <defs>\r\n     <path d=\"M 0 3 \r\nC 0.795609 3 1.55874 2.683901 2.12132 2.12132 \r\nC 2.683901 1.55874 3 0.795609 3 0 \r\nC 3 -0.795609 2.683901 -1.55874 2.12132 -2.12132 \r\nC 1.55874 -2.683901 0.795609 -3 0 -3 \r\nC -0.795609 -3 -1.55874 -2.683901 -2.12132 -2.12132 \r\nC -2.683901 -1.55874 -3 -0.795609 -3 0 \r\nC -3 0.795609 -2.683901 1.55874 -2.12132 2.12132 \r\nC -1.55874 2.683901 -0.795609 3 0 3 \r\nz\r\n\" id=\"m4018cca36d\" style=\"stroke:#ff0000;\"/>\r\n    </defs>\r\n    <g clip-path=\"url(#pc6173cfcba)\">\r\n     <use style=\"fill:#ff0000;stroke:#ff0000;\" x=\"295.03351\" xlink:href=\"#m4018cca36d\" y=\"33.999062\"/>\r\n    </g>\r\n   </g>\r\n   <g id=\"line2d_33\">\r\n    <g clip-path=\"url(#pc6173cfcba)\">\r\n     <use style=\"fill:#ff0000;stroke:#ff0000;\" x=\"295.03351\" xlink:href=\"#m4018cca36d\" y=\"103.08502\"/>\r\n    </g>\r\n   </g>\r\n   <g id=\"patch_3\">\r\n    <path d=\"M 33.28375 234.159063 \r\nL 33.28375 11.759062 \r\n\" style=\"fill:none;stroke:#000000;stroke-linecap:square;stroke-linejoin:miter;stroke-width:0.8;\"/>\r\n   </g>\r\n   <g id=\"patch_4\">\r\n    <path d=\"M 550.37125 234.159063 \r\nL 550.37125 11.759062 \r\n\" style=\"fill:none;stroke:#000000;stroke-linecap:square;stroke-linejoin:miter;stroke-width:0.8;\"/>\r\n   </g>\r\n   <g id=\"patch_5\">\r\n    <path d=\"M 33.28375 234.159063 \r\nL 550.37125 234.159063 \r\n\" style=\"fill:none;stroke:#000000;stroke-linecap:square;stroke-linejoin:miter;stroke-width:0.8;\"/>\r\n   </g>\r\n   <g id=\"patch_6\">\r\n    <path d=\"M 33.28375 11.759062 \r\nL 550.37125 11.759062 \r\n\" style=\"fill:none;stroke:#000000;stroke-linecap:square;stroke-linejoin:miter;stroke-width:0.8;\"/>\r\n   </g>\r\n   <g id=\"legend_1\">\r\n    <g id=\"patch_7\">\r\n     <path d=\"M 415.95625 148.844063 \r\nL 539.17125 148.844063 \r\nQ 542.37125 148.844063 542.37125 145.644063 \r\nL 542.37125 100.274063 \r\nQ 542.37125 97.074063 539.17125 97.074063 \r\nL 415.95625 97.074063 \r\nQ 412.75625 97.074063 412.75625 100.274063 \r\nL 412.75625 145.644063 \r\nQ 412.75625 148.844063 415.95625 148.844063 \r\nz\r\n\" style=\"fill:#ffffff;opacity:0.8;stroke:#cccccc;stroke-linejoin:miter;\"/>\r\n    </g>\r\n    <g id=\"line2d_34\">\r\n     <path d=\"M 419.15625 110.031563 \r\nL 451.15625 110.031563 \r\n\" style=\"fill:none;stroke:#0000ff;stroke-dasharray:7.4,3.2;stroke-dashoffset:0;stroke-width:2;\"/>\r\n    </g>\r\n    <g id=\"line2d_35\"/>\r\n    <g id=\"text_15\">\r\n     <!-- Precision -->\r\n     <defs>\r\n      <path d=\"M 19.671875 64.796875 \r\nL 19.671875 37.40625 \r\nL 32.078125 37.40625 \r\nQ 38.96875 37.40625 42.71875 40.96875 \r\nQ 46.484375 44.53125 46.484375 51.125 \r\nQ 46.484375 57.671875 42.71875 61.234375 \r\nQ 38.96875 64.796875 32.078125 64.796875 \r\nz\r\nM 9.8125 72.90625 \r\nL 32.078125 72.90625 \r\nQ 44.34375 72.90625 50.609375 67.359375 \r\nQ 56.890625 61.8125 56.890625 51.125 \r\nQ 56.890625 40.328125 50.609375 34.8125 \r\nQ 44.34375 29.296875 32.078125 29.296875 \r\nL 19.671875 29.296875 \r\nL 19.671875 0 \r\nL 9.8125 0 \r\nz\r\n\" id=\"DejaVuSans-80\"/>\r\n      <path d=\"M 48.78125 52.59375 \r\nL 48.78125 44.1875 \r\nQ 44.96875 46.296875 41.140625 47.34375 \r\nQ 37.3125 48.390625 33.40625 48.390625 \r\nQ 24.65625 48.390625 19.8125 42.84375 \r\nQ 14.984375 37.3125 14.984375 27.296875 \r\nQ 14.984375 17.28125 19.8125 11.734375 \r\nQ 24.65625 6.203125 33.40625 6.203125 \r\nQ 37.3125 6.203125 41.140625 7.25 \r\nQ 44.96875 8.296875 48.78125 10.40625 \r\nL 48.78125 2.09375 \r\nQ 45.015625 0.34375 40.984375 -0.53125 \r\nQ 36.96875 -1.421875 32.421875 -1.421875 \r\nQ 20.0625 -1.421875 12.78125 6.34375 \r\nQ 5.515625 14.109375 5.515625 27.296875 \r\nQ 5.515625 40.671875 12.859375 48.328125 \r\nQ 20.21875 56 33.015625 56 \r\nQ 37.15625 56 41.109375 55.140625 \r\nQ 45.0625 54.296875 48.78125 52.59375 \r\nz\r\n\" id=\"DejaVuSans-99\"/>\r\n      <path d=\"M 9.421875 54.6875 \r\nL 18.40625 54.6875 \r\nL 18.40625 0 \r\nL 9.421875 0 \r\nz\r\nM 9.421875 75.984375 \r\nL 18.40625 75.984375 \r\nL 18.40625 64.59375 \r\nL 9.421875 64.59375 \r\nz\r\n\" id=\"DejaVuSans-105\"/>\r\n      <path d=\"M 54.890625 33.015625 \r\nL 54.890625 0 \r\nL 45.90625 0 \r\nL 45.90625 32.71875 \r\nQ 45.90625 40.484375 42.875 44.328125 \r\nQ 39.84375 48.1875 33.796875 48.1875 \r\nQ 26.515625 48.1875 22.3125 43.546875 \r\nQ 18.109375 38.921875 18.109375 30.90625 \r\nL 18.109375 0 \r\nL 9.078125 0 \r\nL 9.078125 54.6875 \r\nL 18.109375 54.6875 \r\nL 18.109375 46.1875 \r\nQ 21.34375 51.125 25.703125 53.5625 \r\nQ 30.078125 56 35.796875 56 \r\nQ 45.21875 56 50.046875 50.171875 \r\nQ 54.890625 44.34375 54.890625 33.015625 \r\nz\r\n\" id=\"DejaVuSans-110\"/>\r\n     </defs>\r\n     <g transform=\"translate(463.95625 115.631563)scale(0.16 -0.16)\">\r\n      <use xlink:href=\"#DejaVuSans-80\"/>\r\n      <use x=\"60.287109\" xlink:href=\"#DejaVuSans-114\"/>\r\n      <use x=\"101.369141\" xlink:href=\"#DejaVuSans-101\"/>\r\n      <use x=\"162.892578\" xlink:href=\"#DejaVuSans-99\"/>\r\n      <use x=\"217.873047\" xlink:href=\"#DejaVuSans-105\"/>\r\n      <use x=\"245.65625\" xlink:href=\"#DejaVuSans-115\"/>\r\n      <use x=\"297.755859\" xlink:href=\"#DejaVuSans-105\"/>\r\n      <use x=\"325.539062\" xlink:href=\"#DejaVuSans-111\"/>\r\n      <use x=\"386.720703\" xlink:href=\"#DejaVuSans-110\"/>\r\n     </g>\r\n    </g>\r\n    <g id=\"line2d_36\">\r\n     <path d=\"M 419.15625 133.516562 \r\nL 451.15625 133.516562 \r\n\" style=\"fill:none;stroke:#008000;stroke-linecap:square;stroke-width:2;\"/>\r\n    </g>\r\n    <g id=\"line2d_37\"/>\r\n    <g id=\"text_16\">\r\n     <!-- Recall -->\r\n     <defs>\r\n      <path d=\"M 44.390625 34.1875 \r\nQ 47.5625 33.109375 50.5625 29.59375 \r\nQ 53.5625 26.078125 56.59375 19.921875 \r\nL 66.609375 0 \r\nL 56 0 \r\nL 46.6875 18.703125 \r\nQ 43.0625 26.03125 39.671875 28.421875 \r\nQ 36.28125 30.8125 30.421875 30.8125 \r\nL 19.671875 30.8125 \r\nL 19.671875 0 \r\nL 9.8125 0 \r\nL 9.8125 72.90625 \r\nL 32.078125 72.90625 \r\nQ 44.578125 72.90625 50.734375 67.671875 \r\nQ 56.890625 62.453125 56.890625 51.90625 \r\nQ 56.890625 45.015625 53.6875 40.46875 \r\nQ 50.484375 35.9375 44.390625 34.1875 \r\nz\r\nM 19.671875 64.796875 \r\nL 19.671875 38.921875 \r\nL 32.078125 38.921875 \r\nQ 39.203125 38.921875 42.84375 42.21875 \r\nQ 46.484375 45.515625 46.484375 51.90625 \r\nQ 46.484375 58.296875 42.84375 61.546875 \r\nQ 39.203125 64.796875 32.078125 64.796875 \r\nz\r\n\" id=\"DejaVuSans-82\"/>\r\n      <path d=\"M 34.28125 27.484375 \r\nQ 23.390625 27.484375 19.1875 25 \r\nQ 14.984375 22.515625 14.984375 16.5 \r\nQ 14.984375 11.71875 18.140625 8.90625 \r\nQ 21.296875 6.109375 26.703125 6.109375 \r\nQ 34.1875 6.109375 38.703125 11.40625 \r\nQ 43.21875 16.703125 43.21875 25.484375 \r\nL 43.21875 27.484375 \r\nz\r\nM 52.203125 31.203125 \r\nL 52.203125 0 \r\nL 43.21875 0 \r\nL 43.21875 8.296875 \r\nQ 40.140625 3.328125 35.546875 0.953125 \r\nQ 30.953125 -1.421875 24.3125 -1.421875 \r\nQ 15.921875 -1.421875 10.953125 3.296875 \r\nQ 6 8.015625 6 15.921875 \r\nQ 6 25.140625 12.171875 29.828125 \r\nQ 18.359375 34.515625 30.609375 34.515625 \r\nL 43.21875 34.515625 \r\nL 43.21875 35.40625 \r\nQ 43.21875 41.609375 39.140625 45 \r\nQ 35.0625 48.390625 27.6875 48.390625 \r\nQ 23 48.390625 18.546875 47.265625 \r\nQ 14.109375 46.140625 10.015625 43.890625 \r\nL 10.015625 52.203125 \r\nQ 14.9375 54.109375 19.578125 55.046875 \r\nQ 24.21875 56 28.609375 56 \r\nQ 40.484375 56 46.34375 49.84375 \r\nQ 52.203125 43.703125 52.203125 31.203125 \r\nz\r\n\" id=\"DejaVuSans-97\"/>\r\n     </defs>\r\n     <g transform=\"translate(463.95625 139.116562)scale(0.16 -0.16)\">\r\n      <use xlink:href=\"#DejaVuSans-82\"/>\r\n      <use x=\"69.419922\" xlink:href=\"#DejaVuSans-101\"/>\r\n      <use x=\"130.943359\" xlink:href=\"#DejaVuSans-99\"/>\r\n      <use x=\"185.923828\" xlink:href=\"#DejaVuSans-97\"/>\r\n      <use x=\"247.203125\" xlink:href=\"#DejaVuSans-108\"/>\r\n      <use x=\"274.986328\" xlink:href=\"#DejaVuSans-108\"/>\r\n     </g>\r\n    </g>\r\n   </g>\r\n  </g>\r\n </g>\r\n <defs>\r\n  <clipPath id=\"pc6173cfcba\">\r\n   <rect height=\"222.4\" width=\"517.0875\" x=\"33.28375\" y=\"11.759062\"/>\r\n  </clipPath>\r\n </defs>\r\n</svg>\r\n",
      "image/png": "[encoded data removed]"
     },
     "metadata": {
      "needs_background": "light"
     }
    }
   ],
   "source": [
    "\n",
    "def plot_precision_recall_vs_threshold(precisions, recalls, thresholds):\n",
    "    plt.plot(thresholds, precisions[:-1], \"b--\", label=\"Precision\", linewidth=2)\n",
    "    plt.plot(thresholds, recalls[:-1], \"g-\", label=\"Recall\", linewidth=2)\n",
    "    plt.legend(loc=\"center right\", fontsize=16) # Not shown in the book\n",
    "    plt.xlabel(\"Threshold\", fontsize=16)        # Not shown\n",
    "    plt.grid(True)                              # Not shown\n",
    "    plt.axis([-150, 150, 0, 1])             # Not shown\n",
    "\n",
    "recall_90_precision = recalls[np.argmax(precisions >= 0.90)]\n",
    "threshold_90_precision = thresholds[np.argmax(precisions >= 0.90)]\n",
    "\n",
    "plt.figure(figsize=(8, 4))                                                                  # Not shown\n",
    "plot_precision_recall_vs_threshold(precisions, recalls, thresholds)\n",
    "plt.plot([threshold_90_precision, threshold_90_precision], [0., 0.9], \"r:\")                 # Not shown\n",
    "plt.plot([-150, threshold_90_precision], [0.9, 0.9], \"r:\")                                # Not shown\n",
    "plt.plot([-150, threshold_90_precision], [recall_90_precision, recall_90_precision], \"r:\")# Not shown\n",
    "plt.plot([threshold_90_precision], [0.9], \"ro\")                                             # Not shown\n",
    "plt.plot([threshold_90_precision], [recall_90_precision], \"ro\")                             # Not shown\n",
    "save_fig(\"precision_recall_vs_threshold_plot\")                                              # Not shown\n",
    "plt.show()"
   ]
  },
  {
   "source": [
    "### Another way to select a good precision/recall trade-off is to plot precision directly against recall"
   ],
   "cell_type": "markdown",
   "metadata": {}
  },
  {
   "cell_type": "code",
   "execution_count": 21,
   "metadata": {},
   "outputs": [
    {
     "output_type": "stream",
     "name": "stdout",
     "text": [
      "Recall 90% precision 0.5893617021276596 \nThreshold 90% precision 1.860039429349058\n"
     ]
    }
   ],
   "source": [
    "print('Recall 90% precision',recall_90_precision, '\\nThreshold 90% precision', threshold_90_precision)"
   ]
  },
  {
   "cell_type": "code",
   "execution_count": 22,
   "metadata": {},
   "outputs": [
    {
     "output_type": "stream",
     "name": "stdout",
     "text": [
      "Saving figure precision_vs_recall_plot\n"
     ]
    },
    {
     "output_type": "display_data",
     "data": {
      "text/plain": "<Figure size 576x432 with 1 Axes>",
      "image/svg+xml": "<?xml version=\"1.0\" encoding=\"utf-8\" standalone=\"no\"?>\r\n<!DOCTYPE svg PUBLIC \"-//W3C//DTD SVG 1.1//EN\"\r\n  \"http://www.w3.org/Graphics/SVG/1.1/DTD/svg11.dtd\">\r\n<!-- Created with matplotlib (https://matplotlib.org/) -->\r\n<svg height=\"423.457812pt\" version=\"1.1\" viewBox=\"0 0 569.473125 423.457812\" width=\"569.473125pt\" xmlns=\"http://www.w3.org/2000/svg\" xmlns:xlink=\"http://www.w3.org/1999/xlink\">\r\n <defs>\r\n  <style type=\"text/css\">\r\n*{stroke-linecap:butt;stroke-linejoin:round;white-space:pre;}\r\n  </style>\r\n </defs>\r\n <g id=\"figure_1\">\r\n  <g id=\"patch_1\">\r\n   <path d=\"M 0 423.457812 \r\nL 569.473125 423.457812 \r\nL 569.473125 0 \r\nL 0 0 \r\nz\r\n\" style=\"fill:none;\"/>\r\n  </g>\r\n  <g id=\"axes_1\">\r\n   <g id=\"patch_2\">\r\n    <path d=\"M 52.76875 378.159062 \r\nL 552.73125 378.159062 \r\nL 552.73125 11.759062 \r\nL 52.76875 11.759062 \r\nz\r\n\" style=\"fill:#ffffff;\"/>\r\n   </g>\r\n   <g id=\"matplotlib.axis_1\">\r\n    <g id=\"xtick_1\">\r\n     <g id=\"line2d_1\">\r\n      <path clip-path=\"url(#p25ae0731dc)\" d=\"M 52.76875 378.159062 \r\nL 52.76875 11.759062 \r\n\" style=\"fill:none;stroke:#b0b0b0;stroke-linecap:square;stroke-width:0.8;\"/>\r\n     </g>\r\n     <g id=\"line2d_2\">\r\n      <defs>\r\n       <path d=\"M 0 0 \r\nL 0 3.5 \r\n\" id=\"m9b61fb0370\" style=\"stroke:#000000;stroke-width:0.8;\"/>\r\n      </defs>\r\n      <g>\r\n       <use style=\"stroke:#000000;stroke-width:0.8;\" x=\"52.76875\" xlink:href=\"#m9b61fb0370\" y=\"378.159062\"/>\r\n      </g>\r\n     </g>\r\n     <g id=\"text_1\">\r\n      <!-- 0.0 -->\r\n      <defs>\r\n       <path d=\"M 31.78125 66.40625 \r\nQ 24.171875 66.40625 20.328125 58.90625 \r\nQ 16.5 51.421875 16.5 36.375 \r\nQ 16.5 21.390625 20.328125 13.890625 \r\nQ 24.171875 6.390625 31.78125 6.390625 \r\nQ 39.453125 6.390625 43.28125 13.890625 \r\nQ 47.125 21.390625 47.125 36.375 \r\nQ 47.125 51.421875 43.28125 58.90625 \r\nQ 39.453125 66.40625 31.78125 66.40625 \r\nz\r\nM 31.78125 74.21875 \r\nQ 44.046875 74.21875 50.515625 64.515625 \r\nQ 56.984375 54.828125 56.984375 36.375 \r\nQ 56.984375 17.96875 50.515625 8.265625 \r\nQ 44.046875 -1.421875 31.78125 -1.421875 \r\nQ 19.53125 -1.421875 13.0625 8.265625 \r\nQ 6.59375 17.96875 6.59375 36.375 \r\nQ 6.59375 54.828125 13.0625 64.515625 \r\nQ 19.53125 74.21875 31.78125 74.21875 \r\nz\r\n\" id=\"DejaVuSans-48\"/>\r\n       <path d=\"M 10.6875 12.40625 \r\nL 21 12.40625 \r\nL 21 0 \r\nL 10.6875 0 \r\nz\r\n\" id=\"DejaVuSans-46\"/>\r\n      </defs>\r\n      <g transform=\"translate(43.226875 394.277187)scale(0.12 -0.12)\">\r\n       <use xlink:href=\"#DejaVuSans-48\"/>\r\n       <use x=\"63.623047\" xlink:href=\"#DejaVuSans-46\"/>\r\n       <use x=\"95.410156\" xlink:href=\"#DejaVuSans-48\"/>\r\n      </g>\r\n     </g>\r\n    </g>\r\n    <g id=\"xtick_2\">\r\n     <g id=\"line2d_3\">\r\n      <path clip-path=\"url(#p25ae0731dc)\" d=\"M 152.76125 378.159062 \r\nL 152.76125 11.759062 \r\n\" style=\"fill:none;stroke:#b0b0b0;stroke-linecap:square;stroke-width:0.8;\"/>\r\n     </g>\r\n     <g id=\"line2d_4\">\r\n      <g>\r\n       <use style=\"stroke:#000000;stroke-width:0.8;\" x=\"152.76125\" xlink:href=\"#m9b61fb0370\" y=\"378.159062\"/>\r\n      </g>\r\n     </g>\r\n     <g id=\"text_2\">\r\n      <!-- 0.2 -->\r\n      <defs>\r\n       <path d=\"M 19.1875 8.296875 \r\nL 53.609375 8.296875 \r\nL 53.609375 0 \r\nL 7.328125 0 \r\nL 7.328125 8.296875 \r\nQ 12.9375 14.109375 22.625 23.890625 \r\nQ 32.328125 33.6875 34.8125 36.53125 \r\nQ 39.546875 41.84375 41.421875 45.53125 \r\nQ 43.3125 49.21875 43.3125 52.78125 \r\nQ 43.3125 58.59375 39.234375 62.25 \r\nQ 35.15625 65.921875 28.609375 65.921875 \r\nQ 23.96875 65.921875 18.8125 64.3125 \r\nQ 13.671875 62.703125 7.8125 59.421875 \r\nL 7.8125 69.390625 \r\nQ 13.765625 71.78125 18.9375 73 \r\nQ 24.125 74.21875 28.421875 74.21875 \r\nQ 39.75 74.21875 46.484375 68.546875 \r\nQ 53.21875 62.890625 53.21875 53.421875 \r\nQ 53.21875 48.921875 51.53125 44.890625 \r\nQ 49.859375 40.875 45.40625 35.40625 \r\nQ 44.1875 33.984375 37.640625 27.21875 \r\nQ 31.109375 20.453125 19.1875 8.296875 \r\nz\r\n\" id=\"DejaVuSans-50\"/>\r\n      </defs>\r\n      <g transform=\"translate(143.219375 394.277187)scale(0.12 -0.12)\">\r\n       <use xlink:href=\"#DejaVuSans-48\"/>\r\n       <use x=\"63.623047\" xlink:href=\"#DejaVuSans-46\"/>\r\n       <use x=\"95.410156\" xlink:href=\"#DejaVuSans-50\"/>\r\n      </g>\r\n     </g>\r\n    </g>\r\n    <g id=\"xtick_3\">\r\n     <g id=\"line2d_5\">\r\n      <path clip-path=\"url(#p25ae0731dc)\" d=\"M 252.75375 378.159062 \r\nL 252.75375 11.759062 \r\n\" style=\"fill:none;stroke:#b0b0b0;stroke-linecap:square;stroke-width:0.8;\"/>\r\n     </g>\r\n     <g id=\"line2d_6\">\r\n      <g>\r\n       <use style=\"stroke:#000000;stroke-width:0.8;\" x=\"252.75375\" xlink:href=\"#m9b61fb0370\" y=\"378.159062\"/>\r\n      </g>\r\n     </g>\r\n     <g id=\"text_3\">\r\n      <!-- 0.4 -->\r\n      <defs>\r\n       <path d=\"M 37.796875 64.3125 \r\nL 12.890625 25.390625 \r\nL 37.796875 25.390625 \r\nz\r\nM 35.203125 72.90625 \r\nL 47.609375 72.90625 \r\nL 47.609375 25.390625 \r\nL 58.015625 25.390625 \r\nL 58.015625 17.1875 \r\nL 47.609375 17.1875 \r\nL 47.609375 0 \r\nL 37.796875 0 \r\nL 37.796875 17.1875 \r\nL 4.890625 17.1875 \r\nL 4.890625 26.703125 \r\nz\r\n\" id=\"DejaVuSans-52\"/>\r\n      </defs>\r\n      <g transform=\"translate(243.211875 394.277187)scale(0.12 -0.12)\">\r\n       <use xlink:href=\"#DejaVuSans-48\"/>\r\n       <use x=\"63.623047\" xlink:href=\"#DejaVuSans-46\"/>\r\n       <use x=\"95.410156\" xlink:href=\"#DejaVuSans-52\"/>\r\n      </g>\r\n     </g>\r\n    </g>\r\n    <g id=\"xtick_4\">\r\n     <g id=\"line2d_7\">\r\n      <path clip-path=\"url(#p25ae0731dc)\" d=\"M 352.74625 378.159062 \r\nL 352.74625 11.759062 \r\n\" style=\"fill:none;stroke:#b0b0b0;stroke-linecap:square;stroke-width:0.8;\"/>\r\n     </g>\r\n     <g id=\"line2d_8\">\r\n      <g>\r\n       <use style=\"stroke:#000000;stroke-width:0.8;\" x=\"352.74625\" xlink:href=\"#m9b61fb0370\" y=\"378.159062\"/>\r\n      </g>\r\n     </g>\r\n     <g id=\"text_4\">\r\n      <!-- 0.6 -->\r\n      <defs>\r\n       <path d=\"M 33.015625 40.375 \r\nQ 26.375 40.375 22.484375 35.828125 \r\nQ 18.609375 31.296875 18.609375 23.390625 \r\nQ 18.609375 15.53125 22.484375 10.953125 \r\nQ 26.375 6.390625 33.015625 6.390625 \r\nQ 39.65625 6.390625 43.53125 10.953125 \r\nQ 47.40625 15.53125 47.40625 23.390625 \r\nQ 47.40625 31.296875 43.53125 35.828125 \r\nQ 39.65625 40.375 33.015625 40.375 \r\nz\r\nM 52.59375 71.296875 \r\nL 52.59375 62.3125 \r\nQ 48.875 64.0625 45.09375 64.984375 \r\nQ 41.3125 65.921875 37.59375 65.921875 \r\nQ 27.828125 65.921875 22.671875 59.328125 \r\nQ 17.53125 52.734375 16.796875 39.40625 \r\nQ 19.671875 43.65625 24.015625 45.921875 \r\nQ 28.375 48.1875 33.59375 48.1875 \r\nQ 44.578125 48.1875 50.953125 41.515625 \r\nQ 57.328125 34.859375 57.328125 23.390625 \r\nQ 57.328125 12.15625 50.6875 5.359375 \r\nQ 44.046875 -1.421875 33.015625 -1.421875 \r\nQ 20.359375 -1.421875 13.671875 8.265625 \r\nQ 6.984375 17.96875 6.984375 36.375 \r\nQ 6.984375 53.65625 15.1875 63.9375 \r\nQ 23.390625 74.21875 37.203125 74.21875 \r\nQ 40.921875 74.21875 44.703125 73.484375 \r\nQ 48.484375 72.75 52.59375 71.296875 \r\nz\r\n\" id=\"DejaVuSans-54\"/>\r\n      </defs>\r\n      <g transform=\"translate(343.204375 394.277187)scale(0.12 -0.12)\">\r\n       <use xlink:href=\"#DejaVuSans-48\"/>\r\n       <use x=\"63.623047\" xlink:href=\"#DejaVuSans-46\"/>\r\n       <use x=\"95.410156\" xlink:href=\"#DejaVuSans-54\"/>\r\n      </g>\r\n     </g>\r\n    </g>\r\n    <g id=\"xtick_5\">\r\n     <g id=\"line2d_9\">\r\n      <path clip-path=\"url(#p25ae0731dc)\" d=\"M 452.73875 378.159062 \r\nL 452.73875 11.759062 \r\n\" style=\"fill:none;stroke:#b0b0b0;stroke-linecap:square;stroke-width:0.8;\"/>\r\n     </g>\r\n     <g id=\"line2d_10\">\r\n      <g>\r\n       <use style=\"stroke:#000000;stroke-width:0.8;\" x=\"452.73875\" xlink:href=\"#m9b61fb0370\" y=\"378.159062\"/>\r\n      </g>\r\n     </g>\r\n     <g id=\"text_5\">\r\n      <!-- 0.8 -->\r\n      <defs>\r\n       <path d=\"M 31.78125 34.625 \r\nQ 24.75 34.625 20.71875 30.859375 \r\nQ 16.703125 27.09375 16.703125 20.515625 \r\nQ 16.703125 13.921875 20.71875 10.15625 \r\nQ 24.75 6.390625 31.78125 6.390625 \r\nQ 38.8125 6.390625 42.859375 10.171875 \r\nQ 46.921875 13.96875 46.921875 20.515625 \r\nQ 46.921875 27.09375 42.890625 30.859375 \r\nQ 38.875 34.625 31.78125 34.625 \r\nz\r\nM 21.921875 38.8125 \r\nQ 15.578125 40.375 12.03125 44.71875 \r\nQ 8.5 49.078125 8.5 55.328125 \r\nQ 8.5 64.0625 14.71875 69.140625 \r\nQ 20.953125 74.21875 31.78125 74.21875 \r\nQ 42.671875 74.21875 48.875 69.140625 \r\nQ 55.078125 64.0625 55.078125 55.328125 \r\nQ 55.078125 49.078125 51.53125 44.71875 \r\nQ 48 40.375 41.703125 38.8125 \r\nQ 48.828125 37.15625 52.796875 32.3125 \r\nQ 56.78125 27.484375 56.78125 20.515625 \r\nQ 56.78125 9.90625 50.3125 4.234375 \r\nQ 43.84375 -1.421875 31.78125 -1.421875 \r\nQ 19.734375 -1.421875 13.25 4.234375 \r\nQ 6.78125 9.90625 6.78125 20.515625 \r\nQ 6.78125 27.484375 10.78125 32.3125 \r\nQ 14.796875 37.15625 21.921875 38.8125 \r\nz\r\nM 18.3125 54.390625 \r\nQ 18.3125 48.734375 21.84375 45.5625 \r\nQ 25.390625 42.390625 31.78125 42.390625 \r\nQ 38.140625 42.390625 41.71875 45.5625 \r\nQ 45.3125 48.734375 45.3125 54.390625 \r\nQ 45.3125 60.0625 41.71875 63.234375 \r\nQ 38.140625 66.40625 31.78125 66.40625 \r\nQ 25.390625 66.40625 21.84375 63.234375 \r\nQ 18.3125 60.0625 18.3125 54.390625 \r\nz\r\n\" id=\"DejaVuSans-56\"/>\r\n      </defs>\r\n      <g transform=\"translate(443.196875 394.277187)scale(0.12 -0.12)\">\r\n       <use xlink:href=\"#DejaVuSans-48\"/>\r\n       <use x=\"63.623047\" xlink:href=\"#DejaVuSans-46\"/>\r\n       <use x=\"95.410156\" xlink:href=\"#DejaVuSans-56\"/>\r\n      </g>\r\n     </g>\r\n    </g>\r\n    <g id=\"xtick_6\">\r\n     <g id=\"line2d_11\">\r\n      <path clip-path=\"url(#p25ae0731dc)\" d=\"M 552.73125 378.159062 \r\nL 552.73125 11.759062 \r\n\" style=\"fill:none;stroke:#b0b0b0;stroke-linecap:square;stroke-width:0.8;\"/>\r\n     </g>\r\n     <g id=\"line2d_12\">\r\n      <g>\r\n       <use style=\"stroke:#000000;stroke-width:0.8;\" x=\"552.73125\" xlink:href=\"#m9b61fb0370\" y=\"378.159062\"/>\r\n      </g>\r\n     </g>\r\n     <g id=\"text_6\">\r\n      <!-- 1.0 -->\r\n      <defs>\r\n       <path d=\"M 12.40625 8.296875 \r\nL 28.515625 8.296875 \r\nL 28.515625 63.921875 \r\nL 10.984375 60.40625 \r\nL 10.984375 69.390625 \r\nL 28.421875 72.90625 \r\nL 38.28125 72.90625 \r\nL 38.28125 8.296875 \r\nL 54.390625 8.296875 \r\nL 54.390625 0 \r\nL 12.40625 0 \r\nz\r\n\" id=\"DejaVuSans-49\"/>\r\n      </defs>\r\n      <g transform=\"translate(543.189375 394.277187)scale(0.12 -0.12)\">\r\n       <use xlink:href=\"#DejaVuSans-49\"/>\r\n       <use x=\"63.623047\" xlink:href=\"#DejaVuSans-46\"/>\r\n       <use x=\"95.410156\" xlink:href=\"#DejaVuSans-48\"/>\r\n      </g>\r\n     </g>\r\n    </g>\r\n    <g id=\"text_7\">\r\n     <!-- Recall -->\r\n     <defs>\r\n      <path d=\"M 44.390625 34.1875 \r\nQ 47.5625 33.109375 50.5625 29.59375 \r\nQ 53.5625 26.078125 56.59375 19.921875 \r\nL 66.609375 0 \r\nL 56 0 \r\nL 46.6875 18.703125 \r\nQ 43.0625 26.03125 39.671875 28.421875 \r\nQ 36.28125 30.8125 30.421875 30.8125 \r\nL 19.671875 30.8125 \r\nL 19.671875 0 \r\nL 9.8125 0 \r\nL 9.8125 72.90625 \r\nL 32.078125 72.90625 \r\nQ 44.578125 72.90625 50.734375 67.671875 \r\nQ 56.890625 62.453125 56.890625 51.90625 \r\nQ 56.890625 45.015625 53.6875 40.46875 \r\nQ 50.484375 35.9375 44.390625 34.1875 \r\nz\r\nM 19.671875 64.796875 \r\nL 19.671875 38.921875 \r\nL 32.078125 38.921875 \r\nQ 39.203125 38.921875 42.84375 42.21875 \r\nQ 46.484375 45.515625 46.484375 51.90625 \r\nQ 46.484375 58.296875 42.84375 61.546875 \r\nQ 39.203125 64.796875 32.078125 64.796875 \r\nz\r\n\" id=\"DejaVuSans-82\"/>\r\n      <path d=\"M 56.203125 29.59375 \r\nL 56.203125 25.203125 \r\nL 14.890625 25.203125 \r\nQ 15.484375 15.921875 20.484375 11.0625 \r\nQ 25.484375 6.203125 34.421875 6.203125 \r\nQ 39.59375 6.203125 44.453125 7.46875 \r\nQ 49.3125 8.734375 54.109375 11.28125 \r\nL 54.109375 2.78125 \r\nQ 49.265625 0.734375 44.1875 -0.34375 \r\nQ 39.109375 -1.421875 33.890625 -1.421875 \r\nQ 20.796875 -1.421875 13.15625 6.1875 \r\nQ 5.515625 13.8125 5.515625 26.8125 \r\nQ 5.515625 40.234375 12.765625 48.109375 \r\nQ 20.015625 56 32.328125 56 \r\nQ 43.359375 56 49.78125 48.890625 \r\nQ 56.203125 41.796875 56.203125 29.59375 \r\nz\r\nM 47.21875 32.234375 \r\nQ 47.125 39.59375 43.09375 43.984375 \r\nQ 39.0625 48.390625 32.421875 48.390625 \r\nQ 24.90625 48.390625 20.390625 44.140625 \r\nQ 15.875 39.890625 15.1875 32.171875 \r\nz\r\n\" id=\"DejaVuSans-101\"/>\r\n      <path d=\"M 48.78125 52.59375 \r\nL 48.78125 44.1875 \r\nQ 44.96875 46.296875 41.140625 47.34375 \r\nQ 37.3125 48.390625 33.40625 48.390625 \r\nQ 24.65625 48.390625 19.8125 42.84375 \r\nQ 14.984375 37.3125 14.984375 27.296875 \r\nQ 14.984375 17.28125 19.8125 11.734375 \r\nQ 24.65625 6.203125 33.40625 6.203125 \r\nQ 37.3125 6.203125 41.140625 7.25 \r\nQ 44.96875 8.296875 48.78125 10.40625 \r\nL 48.78125 2.09375 \r\nQ 45.015625 0.34375 40.984375 -0.53125 \r\nQ 36.96875 -1.421875 32.421875 -1.421875 \r\nQ 20.0625 -1.421875 12.78125 6.34375 \r\nQ 5.515625 14.109375 5.515625 27.296875 \r\nQ 5.515625 40.671875 12.859375 48.328125 \r\nQ 20.21875 56 33.015625 56 \r\nQ 37.15625 56 41.109375 55.140625 \r\nQ 45.0625 54.296875 48.78125 52.59375 \r\nz\r\n\" id=\"DejaVuSans-99\"/>\r\n      <path d=\"M 34.28125 27.484375 \r\nQ 23.390625 27.484375 19.1875 25 \r\nQ 14.984375 22.515625 14.984375 16.5 \r\nQ 14.984375 11.71875 18.140625 8.90625 \r\nQ 21.296875 6.109375 26.703125 6.109375 \r\nQ 34.1875 6.109375 38.703125 11.40625 \r\nQ 43.21875 16.703125 43.21875 25.484375 \r\nL 43.21875 27.484375 \r\nz\r\nM 52.203125 31.203125 \r\nL 52.203125 0 \r\nL 43.21875 0 \r\nL 43.21875 8.296875 \r\nQ 40.140625 3.328125 35.546875 0.953125 \r\nQ 30.953125 -1.421875 24.3125 -1.421875 \r\nQ 15.921875 -1.421875 10.953125 3.296875 \r\nQ 6 8.015625 6 15.921875 \r\nQ 6 25.140625 12.171875 29.828125 \r\nQ 18.359375 34.515625 30.609375 34.515625 \r\nL 43.21875 34.515625 \r\nL 43.21875 35.40625 \r\nQ 43.21875 41.609375 39.140625 45 \r\nQ 35.0625 48.390625 27.6875 48.390625 \r\nQ 23 48.390625 18.546875 47.265625 \r\nQ 14.109375 46.140625 10.015625 43.890625 \r\nL 10.015625 52.203125 \r\nQ 14.9375 54.109375 19.578125 55.046875 \r\nQ 24.21875 56 28.609375 56 \r\nQ 40.484375 56 46.34375 49.84375 \r\nQ 52.203125 43.703125 52.203125 31.203125 \r\nz\r\n\" id=\"DejaVuSans-97\"/>\r\n      <path d=\"M 9.421875 75.984375 \r\nL 18.40625 75.984375 \r\nL 18.40625 0 \r\nL 9.421875 0 \r\nz\r\n\" id=\"DejaVuSans-108\"/>\r\n     </defs>\r\n     <g transform=\"translate(278.5275 412.930312)scale(0.16 -0.16)\">\r\n      <use xlink:href=\"#DejaVuSans-82\"/>\r\n      <use x=\"69.419922\" xlink:href=\"#DejaVuSans-101\"/>\r\n      <use x=\"130.943359\" xlink:href=\"#DejaVuSans-99\"/>\r\n      <use x=\"185.923828\" xlink:href=\"#DejaVuSans-97\"/>\r\n      <use x=\"247.203125\" xlink:href=\"#DejaVuSans-108\"/>\r\n      <use x=\"274.986328\" xlink:href=\"#DejaVuSans-108\"/>\r\n     </g>\r\n    </g>\r\n   </g>\r\n   <g id=\"matplotlib.axis_2\">\r\n    <g id=\"ytick_1\">\r\n     <g id=\"line2d_13\">\r\n      <path clip-path=\"url(#p25ae0731dc)\" d=\"M 52.76875 378.159062 \r\nL 552.73125 378.159062 \r\n\" style=\"fill:none;stroke:#b0b0b0;stroke-linecap:square;stroke-width:0.8;\"/>\r\n     </g>\r\n     <g id=\"line2d_14\">\r\n      <defs>\r\n       <path d=\"M 0 0 \r\nL -3.5 0 \r\n\" id=\"m798484ca8a\" style=\"stroke:#000000;stroke-width:0.8;\"/>\r\n      </defs>\r\n      <g>\r\n       <use style=\"stroke:#000000;stroke-width:0.8;\" x=\"52.76875\" xlink:href=\"#m798484ca8a\" y=\"378.159062\"/>\r\n      </g>\r\n     </g>\r\n     <g id=\"text_8\">\r\n      <!-- 0.0 -->\r\n      <g transform=\"translate(26.685 382.718125)scale(0.12 -0.12)\">\r\n       <use xlink:href=\"#DejaVuSans-48\"/>\r\n       <use x=\"63.623047\" xlink:href=\"#DejaVuSans-46\"/>\r\n       <use x=\"95.410156\" xlink:href=\"#DejaVuSans-48\"/>\r\n      </g>\r\n     </g>\r\n    </g>\r\n    <g id=\"ytick_2\">\r\n     <g id=\"line2d_15\">\r\n      <path clip-path=\"url(#p25ae0731dc)\" d=\"M 52.76875 304.879062 \r\nL 552.73125 304.879062 \r\n\" style=\"fill:none;stroke:#b0b0b0;stroke-linecap:square;stroke-width:0.8;\"/>\r\n     </g>\r\n     <g id=\"line2d_16\">\r\n      <g>\r\n       <use style=\"stroke:#000000;stroke-width:0.8;\" x=\"52.76875\" xlink:href=\"#m798484ca8a\" y=\"304.879062\"/>\r\n      </g>\r\n     </g>\r\n     <g id=\"text_9\">\r\n      <!-- 0.2 -->\r\n      <g transform=\"translate(26.685 309.438125)scale(0.12 -0.12)\">\r\n       <use xlink:href=\"#DejaVuSans-48\"/>\r\n       <use x=\"63.623047\" xlink:href=\"#DejaVuSans-46\"/>\r\n       <use x=\"95.410156\" xlink:href=\"#DejaVuSans-50\"/>\r\n      </g>\r\n     </g>\r\n    </g>\r\n    <g id=\"ytick_3\">\r\n     <g id=\"line2d_17\">\r\n      <path clip-path=\"url(#p25ae0731dc)\" d=\"M 52.76875 231.599062 \r\nL 552.73125 231.599062 \r\n\" style=\"fill:none;stroke:#b0b0b0;stroke-linecap:square;stroke-width:0.8;\"/>\r\n     </g>\r\n     <g id=\"line2d_18\">\r\n      <g>\r\n       <use style=\"stroke:#000000;stroke-width:0.8;\" x=\"52.76875\" xlink:href=\"#m798484ca8a\" y=\"231.599062\"/>\r\n      </g>\r\n     </g>\r\n     <g id=\"text_10\">\r\n      <!-- 0.4 -->\r\n      <g transform=\"translate(26.685 236.158125)scale(0.12 -0.12)\">\r\n       <use xlink:href=\"#DejaVuSans-48\"/>\r\n       <use x=\"63.623047\" xlink:href=\"#DejaVuSans-46\"/>\r\n       <use x=\"95.410156\" xlink:href=\"#DejaVuSans-52\"/>\r\n      </g>\r\n     </g>\r\n    </g>\r\n    <g id=\"ytick_4\">\r\n     <g id=\"line2d_19\">\r\n      <path clip-path=\"url(#p25ae0731dc)\" d=\"M 52.76875 158.319062 \r\nL 552.73125 158.319062 \r\n\" style=\"fill:none;stroke:#b0b0b0;stroke-linecap:square;stroke-width:0.8;\"/>\r\n     </g>\r\n     <g id=\"line2d_20\">\r\n      <g>\r\n       <use style=\"stroke:#000000;stroke-width:0.8;\" x=\"52.76875\" xlink:href=\"#m798484ca8a\" y=\"158.319062\"/>\r\n      </g>\r\n     </g>\r\n     <g id=\"text_11\">\r\n      <!-- 0.6 -->\r\n      <g transform=\"translate(26.685 162.878125)scale(0.12 -0.12)\">\r\n       <use xlink:href=\"#DejaVuSans-48\"/>\r\n       <use x=\"63.623047\" xlink:href=\"#DejaVuSans-46\"/>\r\n       <use x=\"95.410156\" xlink:href=\"#DejaVuSans-54\"/>\r\n      </g>\r\n     </g>\r\n    </g>\r\n    <g id=\"ytick_5\">\r\n     <g id=\"line2d_21\">\r\n      <path clip-path=\"url(#p25ae0731dc)\" d=\"M 52.76875 85.039062 \r\nL 552.73125 85.039062 \r\n\" style=\"fill:none;stroke:#b0b0b0;stroke-linecap:square;stroke-width:0.8;\"/>\r\n     </g>\r\n     <g id=\"line2d_22\">\r\n      <g>\r\n       <use style=\"stroke:#000000;stroke-width:0.8;\" x=\"52.76875\" xlink:href=\"#m798484ca8a\" y=\"85.039062\"/>\r\n      </g>\r\n     </g>\r\n     <g id=\"text_12\">\r\n      <!-- 0.8 -->\r\n      <g transform=\"translate(26.685 89.598125)scale(0.12 -0.12)\">\r\n       <use xlink:href=\"#DejaVuSans-48\"/>\r\n       <use x=\"63.623047\" xlink:href=\"#DejaVuSans-46\"/>\r\n       <use x=\"95.410156\" xlink:href=\"#DejaVuSans-56\"/>\r\n      </g>\r\n     </g>\r\n    </g>\r\n    <g id=\"ytick_6\">\r\n     <g id=\"line2d_23\">\r\n      <path clip-path=\"url(#p25ae0731dc)\" d=\"M 52.76875 11.759062 \r\nL 552.73125 11.759062 \r\n\" style=\"fill:none;stroke:#b0b0b0;stroke-linecap:square;stroke-width:0.8;\"/>\r\n     </g>\r\n     <g id=\"line2d_24\">\r\n      <g>\r\n       <use style=\"stroke:#000000;stroke-width:0.8;\" x=\"52.76875\" xlink:href=\"#m798484ca8a\" y=\"11.759062\"/>\r\n      </g>\r\n     </g>\r\n     <g id=\"text_13\">\r\n      <!-- 1.0 -->\r\n      <g transform=\"translate(26.685 16.318125)scale(0.12 -0.12)\">\r\n       <use xlink:href=\"#DejaVuSans-49\"/>\r\n       <use x=\"63.623047\" xlink:href=\"#DejaVuSans-46\"/>\r\n       <use x=\"95.410156\" xlink:href=\"#DejaVuSans-48\"/>\r\n      </g>\r\n     </g>\r\n    </g>\r\n    <g id=\"text_14\">\r\n     <!-- Precision -->\r\n     <defs>\r\n      <path d=\"M 19.671875 64.796875 \r\nL 19.671875 37.40625 \r\nL 32.078125 37.40625 \r\nQ 38.96875 37.40625 42.71875 40.96875 \r\nQ 46.484375 44.53125 46.484375 51.125 \r\nQ 46.484375 57.671875 42.71875 61.234375 \r\nQ 38.96875 64.796875 32.078125 64.796875 \r\nz\r\nM 9.8125 72.90625 \r\nL 32.078125 72.90625 \r\nQ 44.34375 72.90625 50.609375 67.359375 \r\nQ 56.890625 61.8125 56.890625 51.125 \r\nQ 56.890625 40.328125 50.609375 34.8125 \r\nQ 44.34375 29.296875 32.078125 29.296875 \r\nL 19.671875 29.296875 \r\nL 19.671875 0 \r\nL 9.8125 0 \r\nz\r\n\" id=\"DejaVuSans-80\"/>\r\n      <path d=\"M 41.109375 46.296875 \r\nQ 39.59375 47.171875 37.8125 47.578125 \r\nQ 36.03125 48 33.890625 48 \r\nQ 26.265625 48 22.1875 43.046875 \r\nQ 18.109375 38.09375 18.109375 28.8125 \r\nL 18.109375 0 \r\nL 9.078125 0 \r\nL 9.078125 54.6875 \r\nL 18.109375 54.6875 \r\nL 18.109375 46.1875 \r\nQ 20.953125 51.171875 25.484375 53.578125 \r\nQ 30.03125 56 36.53125 56 \r\nQ 37.453125 56 38.578125 55.875 \r\nQ 39.703125 55.765625 41.0625 55.515625 \r\nz\r\n\" id=\"DejaVuSans-114\"/>\r\n      <path d=\"M 9.421875 54.6875 \r\nL 18.40625 54.6875 \r\nL 18.40625 0 \r\nL 9.421875 0 \r\nz\r\nM 9.421875 75.984375 \r\nL 18.40625 75.984375 \r\nL 18.40625 64.59375 \r\nL 9.421875 64.59375 \r\nz\r\n\" id=\"DejaVuSans-105\"/>\r\n      <path d=\"M 44.28125 53.078125 \r\nL 44.28125 44.578125 \r\nQ 40.484375 46.53125 36.375 47.5 \r\nQ 32.28125 48.484375 27.875 48.484375 \r\nQ 21.1875 48.484375 17.84375 46.4375 \r\nQ 14.5 44.390625 14.5 40.28125 \r\nQ 14.5 37.15625 16.890625 35.375 \r\nQ 19.28125 33.59375 26.515625 31.984375 \r\nL 29.59375 31.296875 \r\nQ 39.15625 29.25 43.1875 25.515625 \r\nQ 47.21875 21.78125 47.21875 15.09375 \r\nQ 47.21875 7.46875 41.1875 3.015625 \r\nQ 35.15625 -1.421875 24.609375 -1.421875 \r\nQ 20.21875 -1.421875 15.453125 -0.5625 \r\nQ 10.6875 0.296875 5.421875 2 \r\nL 5.421875 11.28125 \r\nQ 10.40625 8.6875 15.234375 7.390625 \r\nQ 20.0625 6.109375 24.8125 6.109375 \r\nQ 31.15625 6.109375 34.5625 8.28125 \r\nQ 37.984375 10.453125 37.984375 14.40625 \r\nQ 37.984375 18.0625 35.515625 20.015625 \r\nQ 33.0625 21.96875 24.703125 23.78125 \r\nL 21.578125 24.515625 \r\nQ 13.234375 26.265625 9.515625 29.90625 \r\nQ 5.8125 33.546875 5.8125 39.890625 \r\nQ 5.8125 47.609375 11.28125 51.796875 \r\nQ 16.75 56 26.8125 56 \r\nQ 31.78125 56 36.171875 55.265625 \r\nQ 40.578125 54.546875 44.28125 53.078125 \r\nz\r\n\" id=\"DejaVuSans-115\"/>\r\n      <path d=\"M 30.609375 48.390625 \r\nQ 23.390625 48.390625 19.1875 42.75 \r\nQ 14.984375 37.109375 14.984375 27.296875 \r\nQ 14.984375 17.484375 19.15625 11.84375 \r\nQ 23.34375 6.203125 30.609375 6.203125 \r\nQ 37.796875 6.203125 41.984375 11.859375 \r\nQ 46.1875 17.53125 46.1875 27.296875 \r\nQ 46.1875 37.015625 41.984375 42.703125 \r\nQ 37.796875 48.390625 30.609375 48.390625 \r\nz\r\nM 30.609375 56 \r\nQ 42.328125 56 49.015625 48.375 \r\nQ 55.71875 40.765625 55.71875 27.296875 \r\nQ 55.71875 13.875 49.015625 6.21875 \r\nQ 42.328125 -1.421875 30.609375 -1.421875 \r\nQ 18.84375 -1.421875 12.171875 6.21875 \r\nQ 5.515625 13.875 5.515625 27.296875 \r\nQ 5.515625 40.765625 12.171875 48.375 \r\nQ 18.84375 56 30.609375 56 \r\nz\r\n\" id=\"DejaVuSans-111\"/>\r\n      <path d=\"M 54.890625 33.015625 \r\nL 54.890625 0 \r\nL 45.90625 0 \r\nL 45.90625 32.71875 \r\nQ 45.90625 40.484375 42.875 44.328125 \r\nQ 39.84375 48.1875 33.796875 48.1875 \r\nQ 26.515625 48.1875 22.3125 43.546875 \r\nQ 18.109375 38.921875 18.109375 30.90625 \r\nL 18.109375 0 \r\nL 9.078125 0 \r\nL 9.078125 54.6875 \r\nL 18.109375 54.6875 \r\nL 18.109375 46.1875 \r\nQ 21.34375 51.125 25.703125 53.5625 \r\nQ 30.078125 56 35.796875 56 \r\nQ 45.21875 56 50.046875 50.171875 \r\nQ 54.890625 44.34375 54.890625 33.015625 \r\nz\r\n\" id=\"DejaVuSans-110\"/>\r\n     </defs>\r\n     <g transform=\"translate(19.3575 230.966562)rotate(-90)scale(0.16 -0.16)\">\r\n      <use xlink:href=\"#DejaVuSans-80\"/>\r\n      <use x=\"60.287109\" xlink:href=\"#DejaVuSans-114\"/>\r\n      <use x=\"101.369141\" xlink:href=\"#DejaVuSans-101\"/>\r\n      <use x=\"162.892578\" xlink:href=\"#DejaVuSans-99\"/>\r\n      <use x=\"217.873047\" xlink:href=\"#DejaVuSans-105\"/>\r\n      <use x=\"245.65625\" xlink:href=\"#DejaVuSans-115\"/>\r\n      <use x=\"297.755859\" xlink:href=\"#DejaVuSans-105\"/>\r\n      <use x=\"325.539062\" xlink:href=\"#DejaVuSans-111\"/>\r\n      <use x=\"386.720703\" xlink:href=\"#DejaVuSans-110\"/>\r\n     </g>\r\n    </g>\r\n   </g>\r\n   <g id=\"line2d_25\">\r\n    <path clip-path=\"url(#p25ae0731dc)\" d=\"M 552.73125 168.830051 \r\nL 552.376667 168.89372 \r\nL 552.376667 168.80886 \r\nL 552.376667 167.527647 \r\nL 552.022083 167.591226 \r\nL 552.022083 167.505245 \r\nL 552.022083 161.761747 \r\nL 551.6675 161.824694 \r\nL 551.6675 161.733874 \r\nL 551.6675 160.270305 \r\nL 551.312917 160.333101 \r\nL 551.312917 160.240958 \r\nL 551.312917 152.805432 \r\nL 550.958333 152.867159 \r\nL 550.958333 152.76852 \r\nL 550.958333 151.876865 \r\nL 550.60375 151.938482 \r\nL 550.60375 151.838957 \r\nL 550.60375 151.139822 \r\nL 550.249167 151.201358 \r\nL 550.249167 151.101112 \r\nL 550.249167 150.799841 \r\nL 549.894583 150.861363 \r\nL 549.894583 150.760745 \r\nL 549.894583 146.138828 \r\nL 549.54 146.199551 \r\nL 549.54 146.094686 \r\nL 549.54 145.884673 \r\nL 549.185417 145.945391 \r\nL 549.185417 145.840222 \r\nL 549.185417 144.995426 \r\nL 548.830833 145.056016 \r\nL 548.830833 144.949963 \r\nL 548.830833 144.524787 \r\nL 548.47625 144.585328 \r\nL 548.47625 144.478771 \r\nL 548.47625 144.372116 \r\nL 548.121667 144.43267 \r\nL 548.121667 144.325897 \r\nL 548.121667 144.219026 \r\nL 546.34875 144.415341 \r\nL 546.34875 143.663062 \r\nL 545.994167 143.723736 \r\nL 545.994167 143.61585 \r\nL 545.994167 143.07493 \r\nL 545.639583 143.135528 \r\nL 545.639583 143.027022 \r\nL 545.639583 142.809709 \r\nL 545.285 142.870297 \r\nL 545.285 142.761468 \r\nL 545.285 142.325142 \r\nL 544.930417 142.385674 \r\nL 544.930417 142.276317 \r\nL 544.930417 141.947637 \r\nL 544.575833 142.008133 \r\nL 544.575833 141.898347 \r\nL 544.575833 141.347879 \r\nL 543.866667 141.358316 \r\nL 543.866667 140.804526 \r\nL 543.1575 140.814238 \r\nL 543.1575 140.480263 \r\nL 542.802917 140.540667 \r\nL 542.802917 140.429109 \r\nL 542.802917 139.981828 \r\nL 542.448333 140.042168 \r\nL 542.448333 139.930061 \r\nL 542.448333 139.480572 \r\nL 542.09375 139.540846 \r\nL 542.09375 139.428184 \r\nL 542.09375 139.202541 \r\nL 541.739167 139.262798 \r\nL 541.739167 138.013815 \r\nL 541.384583 138.073851 \r\nL 541.384583 137.959633 \r\nL 541.03 138.0197 \r\nL 541.03 137.446849 \r\nL 540.675417 137.506843 \r\nL 540.675417 137.391918 \r\nL 540.320833 137.451944 \r\nL 540.320833 137.336883 \r\nL 539.96625 137.396939 \r\nL 539.96625 137.281742 \r\nL 538.547917 137.522437 \r\nL 538.547917 137.407024 \r\nL 538.193333 137.467316 \r\nL 538.193333 136.888452 \r\nL 537.484167 137.008942 \r\nL 537.484167 136.310294 \r\nL 536.775 136.430691 \r\nL 536.775 135.256683 \r\nL 536.065833 135.376758 \r\nL 536.065833 135.140474 \r\nL 535.71125 135.200543 \r\nL 535.71125 134.963741 \r\nL 535.356667 135.023811 \r\nL 535.356667 134.310456 \r\nL 535.002083 134.370413 \r\nL 535.002083 134.012076 \r\nL 534.6475 134.072004 \r\nL 534.6475 131.6553 \r\nL 534.292917 131.714684 \r\nL 534.292917 131.592561 \r\nL 533.938333 131.651973 \r\nL 533.938333 131.039381 \r\nL 533.58375 131.098695 \r\nL 533.58375 130.975779 \r\nL 532.874583 131.094521 \r\nL 532.874583 130.354067 \r\nL 532.52 130.413335 \r\nL 532.52 130.289462 \r\nL 532.165417 130.348757 \r\nL 532.165417 130.224728 \r\nL 531.45625 130.343431 \r\nL 531.45625 130.219213 \r\nL 531.101667 130.278621 \r\nL 531.101667 130.154246 \r\nL 530.747083 130.213681 \r\nL 530.747083 129.839706 \r\nL 530.3925 129.899103 \r\nL 530.3925 129.398579 \r\nL 530.037917 129.457903 \r\nL 530.037917 129.081083 \r\nL 529.683333 129.140366 \r\nL 529.683333 129.014472 \r\nL 528.974167 129.133152 \r\nL 528.974167 129.007062 \r\nL 528.619583 129.066459 \r\nL 528.619583 128.813829 \r\nL 528.265 128.873218 \r\nL 528.265 128.620007 \r\nL 527.555833 128.738829 \r\nL 527.555833 128.103201 \r\nL 527.20125 128.16253 \r\nL 527.20125 125.456382 \r\nL 526.846667 125.515019 \r\nL 526.846667 125.384656 \r\nL 526.492083 125.443317 \r\nL 526.492083 124.920366 \r\nL 526.1375 124.978938 \r\nL 526.1375 124.058283 \r\nL 525.07375 124.233568 \r\nL 525.07375 124.101384 \r\nL 524.01 124.277102 \r\nL 524.01 124.144665 \r\nL 523.300833 124.262039 \r\nL 523.300833 123.863665 \r\nL 522.94625 123.922328 \r\nL 522.94625 123.522585 \r\nL 522.591667 123.581191 \r\nL 522.591667 123.447625 \r\nL 521.8825 123.564945 \r\nL 521.8825 122.490708 \r\nL 521.527917 122.549142 \r\nL 521.527917 122.279084 \r\nL 521.173333 122.337498 \r\nL 521.173333 122.066787 \r\nL 520.81875 122.125182 \r\nL 520.81875 121.581874 \r\nL 520.464167 121.640167 \r\nL 520.464167 119.995815 \r\nL 520.109583 120.053664 \r\nL 520.109583 119.777468 \r\nL 519.755 119.835294 \r\nL 519.755 119.558419 \r\nL 519.400417 119.616221 \r\nL 519.400417 117.378965 \r\nL 519.045833 117.436119 \r\nL 519.045833 116.302541 \r\nL 518.69125 116.359389 \r\nL 518.69125 115.645649 \r\nL 517.982083 115.759062 \r\nL 517.982083 115.040945 \r\nL 517.6275 115.097507 \r\nL 517.6275 113.357298 \r\nL 517.272917 113.413337 \r\nL 517.272917 112.974532 \r\nL 516.918333 113.030483 \r\nL 516.918333 112.883841 \r\nL 516.56375 112.939804 \r\nL 516.56375 112.498752 \r\nL 516.209167 112.554625 \r\nL 516.209167 112.407231 \r\nL 515.5 112.519062 \r\nL 515.5 112.223579 \r\nL 515.145417 112.279485 \r\nL 515.145417 111.983241 \r\nL 514.43625 112.095036 \r\nL 514.43625 111.797923 \r\nL 514.081667 111.853811 \r\nL 514.081667 111.40674 \r\nL 513.727083 111.462534 \r\nL 513.727083 110.563557 \r\nL 513.3725 110.619096 \r\nL 513.3725 110.317982 \r\nL 513.017917 110.373477 \r\nL 513.017917 109.009544 \r\nL 512.30875 109.119742 \r\nL 512.30875 108.048482 \r\nL 511.954167 108.103286 \r\nL 511.954167 107.487072 \r\nL 511.599583 107.541711 \r\nL 511.599583 106.767191 \r\nL 511.245 106.821605 \r\nL 511.245 106.042348 \r\nL 510.890417 106.096534 \r\nL 510.890417 105.783458 \r\nL 510.535833 105.837589 \r\nL 510.535833 104.57757 \r\nL 510.18125 104.631285 \r\nL 510.18125 103.83753 \r\nL 509.826667 103.891002 \r\nL 509.826667 103.412349 \r\nL 509.1175 103.519109 \r\nL 509.1175 103.359062 \r\nL 508.762917 103.412474 \r\nL 508.762917 102.931025 \r\nL 508.05375 103.037659 \r\nL 508.05375 102.554142 \r\nL 507.699167 102.607363 \r\nL 507.699167 102.445749 \r\nL 506.99 102.552251 \r\nL 506.99 102.228198 \r\nL 506.280833 102.334695 \r\nL 506.280833 102.172254 \r\nL 505.92625 102.225533 \r\nL 505.92625 102.062836 \r\nL 505.571667 102.116113 \r\nL 505.571667 101.299418 \r\nL 505.217083 101.352431 \r\nL 505.217083 101.188446 \r\nL 504.8625 101.241457 \r\nL 504.8625 100.912772 \r\nL 504.153333 101.018718 \r\nL 504.153333 100.85395 \r\nL 503.79875 100.906951 \r\nL 503.79875 100.411268 \r\nL 503.444167 100.464131 \r\nL 503.444167 100.132555 \r\nL 500.962083 100.503427 \r\nL 500.962083 100.336867 \r\nL 500.6075 100.390035 \r\nL 500.6075 100.223207 \r\nL 499.898333 100.329598 \r\nL 499.898333 100.162432 \r\nL 499.54375 100.215655 \r\nL 499.54375 99.880581 \r\nL 499.189167 99.933731 \r\nL 499.189167 99.765822 \r\nL 498.834583 99.818966 \r\nL 498.834583 98.637413 \r\nL 498.48 98.69013 \r\nL 498.48 96.812208 \r\nL 497.770833 96.916249 \r\nL 497.770833 96.399259 \r\nL 497.41625 96.451153 \r\nL 497.41625 96.278326 \r\nL 496.707083 96.382158 \r\nL 496.707083 95.861955 \r\nL 496.3525 95.913742 \r\nL 496.3525 95.739839 \r\nL 495.997917 95.791615 \r\nL 495.997917 95.617422 \r\nL 495.643333 95.669186 \r\nL 495.643333 95.494702 \r\nL 494.225 95.702097 \r\nL 494.225 95.351871 \r\nL 493.870417 95.403728 \r\nL 493.870417 94.876527 \r\nL 493.515833 94.928217 \r\nL 493.515833 94.751969 \r\nL 492.0975 94.959062 \r\nL 492.0975 94.782283 \r\nL 490.679167 94.990101 \r\nL 490.679167 94.279514 \r\nL 490.324583 94.331316 \r\nL 490.324583 94.153032 \r\nL 489.615417 94.256673 \r\nL 489.615417 93.899113 \r\nL 488.551667 94.054583 \r\nL 488.551667 93.875224 \r\nL 488.197083 93.927098 \r\nL 488.197083 93.747432 \r\nL 487.8425 93.79929 \r\nL 487.8425 93.258682 \r\nL 487.487917 93.310362 \r\nL 487.487917 92.767449 \r\nL 487.133333 92.818948 \r\nL 487.133333 92.637434 \r\nL 486.77875 92.688916 \r\nL 486.77875 92.507088 \r\nL 486.069583 92.610083 \r\nL 486.069583 92.427856 \r\nL 485.715 92.479369 \r\nL 485.715 91.931039 \r\nL 485.360417 91.982366 \r\nL 485.360417 91.799037 \r\nL 484.65125 91.901718 \r\nL 484.65125 91.717984 \r\nL 484.296667 91.769339 \r\nL 484.296667 91.400992 \r\nL 483.942083 91.452241 \r\nL 483.942083 91.082774 \r\nL 483.5875 91.133917 \r\nL 483.5875 90.94874 \r\nL 481.814583 91.205017 \r\nL 481.814583 90.646741 \r\nL 481.46 90.697933 \r\nL 481.46 89.949824 \r\nL 481.105417 90.000729 \r\nL 481.105417 89.813004 \r\nL 480.750833 89.863886 \r\nL 480.750833 89.675827 \r\nL 480.39625 89.726687 \r\nL 480.39625 89.538292 \r\nL 479.687083 89.64003 \r\nL 479.687083 88.883259 \r\nL 479.3325 88.933866 \r\nL 479.3325 88.363402 \r\nL 478.977917 88.413799 \r\nL 478.977917 88.223052 \r\nL 477.559583 88.424937 \r\nL 477.559583 88.233567 \r\nL 477.205 88.284112 \r\nL 477.205 87.900426 \r\nL 476.850417 87.950851 \r\nL 476.850417 87.37313 \r\nL 474.722917 87.675385 \r\nL 474.722917 87.481729 \r\nL 474.368333 87.532245 \r\nL 474.368333 87.338235 \r\nL 474.01375 87.388722 \r\nL 474.01375 87.194357 \r\nL 473.659167 87.244815 \r\nL 473.659167 87.050093 \r\nL 472.95 87.15102 \r\nL 472.95 86.955843 \r\nL 471.88625 87.10745 \r\nL 471.88625 86.322944 \r\nL 471.177083 86.42357 \r\nL 471.177083 85.831814 \r\nL 470.467917 85.932116 \r\nL 470.467917 85.337353 \r\nL 470.113333 85.387304 \r\nL 470.113333 84.189874 \r\nL 469.404167 84.288755 \r\nL 469.404167 84.088024 \r\nL 469.049583 84.137463 \r\nL 469.049583 83.734969 \r\nL 467.985833 83.883068 \r\nL 467.985833 83.681094 \r\nL 467.276667 83.779956 \r\nL 467.276667 82.968435 \r\nL 466.922083 83.017545 \r\nL 466.922083 82.405642 \r\nL 466.5675 82.454498 \r\nL 466.5675 81.839728 \r\nL 466.212917 81.888327 \r\nL 466.212917 81.682727 \r\nL 465.50375 81.77991 \r\nL 465.50375 81.160734 \r\nL 465.149167 81.209097 \r\nL 465.149167 81.002019 \r\nL 464.794583 81.05034 \r\nL 464.794583 80.842861 \r\nL 464.085417 80.939482 \r\nL 464.085417 79.896606 \r\nL 463.730833 79.944456 \r\nL 463.730833 79.734888 \r\nL 463.37625 79.782691 \r\nL 463.37625 79.572715 \r\nL 462.667083 79.668294 \r\nL 462.667083 78.612811 \r\nL 462.3125 78.660124 \r\nL 462.3125 78.448014 \r\nL 459.830417 78.780272 \r\nL 459.830417 78.56704 \r\nL 456.99375 78.949893 \r\nL 456.99375 78.520612 \r\nL 456.639167 78.568538 \r\nL 456.639167 78.353315 \r\nL 455.93 78.449134 \r\nL 455.93 78.233361 \r\nL 455.220833 78.329214 \r\nL 455.220833 77.896247 \r\nL 454.157083 78.039815 \r\nL 454.157083 77.60486 \r\nL 453.8025 77.652609 \r\nL 453.8025 77.434534 \r\nL 452.384167 77.625729 \r\nL 452.384167 77.406841 \r\nL 450.61125 77.646782 \r\nL 450.61125 77.206793 \r\nL 449.902083 77.302758 \r\nL 449.902083 77.082027 \r\nL 448.48375 77.274294 \r\nL 448.48375 76.163198 \r\nL 448.129167 76.210799 \r\nL 448.129167 75.7638 \r\nL 447.774583 75.811211 \r\nL 447.774583 75.362623 \r\nL 447.065417 75.457131 \r\nL 447.065417 75.006682 \r\nL 446.710833 75.053776 \r\nL 446.710833 74.601717 \r\nL 444.937917 74.836907 \r\nL 444.937917 74.382151 \r\nL 444.583333 74.42913 \r\nL 444.583333 73.972736 \r\nL 444.22875 74.019514 \r\nL 444.22875 73.102049 \r\nL 443.519583 73.194712 \r\nL 443.519583 72.964202 \r\nL 441.746667 73.196392 \r\nL 441.746667 72.964833 \r\nL 441.0375 73.057922 \r\nL 441.0375 72.593183 \r\nL 439.97375 72.732498 \r\nL 439.97375 72.499169 \r\nL 439.264583 72.592115 \r\nL 439.264583 72.358144 \r\nL 438.91 72.40458 \r\nL 438.91 71.700076 \r\nL 438.555417 71.746149 \r\nL 438.555417 71.037953 \r\nL 438.200833 71.083658 \r\nL 438.200833 70.371736 \r\nL 437.84625 70.417067 \r\nL 437.84625 69.940317 \r\nL 436.427917 70.121145 \r\nL 436.427917 69.881613 \r\nL 436.073333 69.926845 \r\nL 436.073333 69.686788 \r\nL 435.71875 69.731939 \r\nL 435.71875 69.491356 \r\nL 434.300417 69.672052 \r\nL 434.300417 69.18853 \r\nL 433.59125 69.278686 \r\nL 433.59125 68.793025 \r\nL 431.818333 69.0181 \r\nL 431.818333 68.529339 \r\nL 431.109167 68.619237 \r\nL 431.109167 68.373959 \r\nL 429.33625 68.599158 \r\nL 429.33625 68.352693 \r\nL 427.917917 68.533503 \r\nL 427.917917 67.789807 \r\nL 426.499583 67.969826 \r\nL 426.499583 67.720477 \r\nL 425.08125 67.900998 \r\nL 425.08125 67.399773 \r\nL 424.372083 67.489807 \r\nL 424.372083 67.238253 \r\nL 423.662917 67.328243 \r\nL 423.662917 66.823238 \r\nL 423.308333 66.868006 \r\nL 423.308333 66.614718 \r\nL 422.244583 66.748948 \r\nL 422.244583 66.494736 \r\nL 421.89 66.539455 \r\nL 421.89 65.517751 \r\nL 421.535417 65.561852 \r\nL 421.535417 65.305204 \r\nL 421.180833 65.349202 \r\nL 421.180833 64.576196 \r\nL 420.82625 64.619739 \r\nL 420.82625 64.10192 \r\nL 414.44375 64.891669 \r\nL 414.44375 64.628861 \r\nL 410.18875 65.16652 \r\nL 410.18875 64.901047 \r\nL 409.125 65.036614 \r\nL 409.125 64.770126 \r\nL 404.87 65.317102 \r\nL 404.87 64.508028 \r\nL 400.615 65.059411 \r\nL 400.615 64.786438 \r\nL 400.260417 64.83271 \r\nL 400.260417 64.284937 \r\nL 399.905833 64.330891 \r\nL 399.905833 64.056085 \r\nL 398.4875 64.239906 \r\nL 398.4875 63.687232 \r\nL 393.877917 64.288359 \r\nL 393.877917 64.008617 \r\nL 392.814167 64.148696 \r\nL 392.814167 63.304582 \r\nL 392.105 63.397124 \r\nL 392.105 62.831005 \r\nL 388.91375 63.24773 \r\nL 388.91375 62.961966 \r\nL 388.559167 63.008472 \r\nL 388.559167 62.147405 \r\nL 387.140833 62.33164 \r\nL 387.140833 62.042686 \r\nL 384.65875 62.366797 \r\nL 384.65875 62.075745 \r\nL 384.304167 62.122162 \r\nL 384.304167 61.830346 \r\nL 383.595 61.922985 \r\nL 383.595 61.33682 \r\nL 381.822083 61.567629 \r\nL 381.822083 60.976973 \r\nL 380.758333 61.115096 \r\nL 380.758333 60.818239 \r\nL 379.694583 60.956433 \r\nL 379.694583 60.060381 \r\nL 374.02125 60.799215 \r\nL 374.02125 60.495522 \r\nL 373.312083 60.588976 \r\nL 373.312083 59.672909 \r\nL 371.184583 59.950939 \r\nL 371.184583 59.642896 \r\nL 370.120833 59.782363 \r\nL 370.120833 59.162954 \r\nL 369.057083 59.301697 \r\nL 369.057083 58.990312 \r\nL 367.63875 59.175533 \r\nL 367.63875 58.862497 \r\nL 366.575 59.001582 \r\nL 366.575 58.687141 \r\nL 365.51125 58.826256 \r\nL 365.51125 58.510398 \r\nL 364.4475 58.649539 \r\nL 364.4475 58.33225 \r\nL 363.029167 58.517986 \r\nL 363.029167 57.879342 \r\nL 362.674583 57.925462 \r\nL 362.674583 57.604908 \r\nL 360.1925 57.928417 \r\nL 360.1925 57.281487 \r\nL 359.483333 57.373637 \r\nL 359.483333 57.048627 \r\nL 359.12875 57.094559 \r\nL 359.12875 56.441989 \r\nL 356.646667 56.762133 \r\nL 356.646667 55.772204 \r\nL 356.292083 55.817439 \r\nL 356.292083 55.485811 \r\nL 355.9375 55.530844 \r\nL 355.9375 54.530963 \r\nL 352.74625 54.932368 \r\nL 352.74625 54.256868 \r\nL 351.6825 54.390509 \r\nL 351.6825 52.684668 \r\nL 350.973333 52.771101 \r\nL 350.973333 51.737029 \r\nL 350.61875 51.779423 \r\nL 350.61875 51.432948 \r\nL 350.264167 51.475109 \r\nL 350.264167 51.127573 \r\nL 349.555 51.211515 \r\nL 349.555 50.862584 \r\nL 348.136667 51.030231 \r\nL 348.136667 50.679234 \r\nL 347.782083 50.721039 \r\nL 347.782083 48.597117 \r\nL 347.4275 48.636985 \r\nL 347.4275 47.922186 \r\nL 346.718333 48.000802 \r\nL 346.718333 47.641543 \r\nL 346.009167 47.719804 \r\nL 346.009167 46.997532 \r\nL 345.3 47.074725 \r\nL 345.3 46.347866 \r\nL 344.945417 46.385876 \r\nL 344.945417 46.020889 \r\nL 343.1725 46.21039 \r\nL 343.1725 45.842783 \r\nL 342.817917 45.88057 \r\nL 342.817917 45.511782 \r\nL 341.045 45.700134 \r\nL 341.045 44.956378 \r\nL 339.98125 45.068153 \r\nL 339.98125 44.693894 \r\nL 338.9175 44.805286 \r\nL 338.9175 44.42904 \r\nL 338.208333 44.502954 \r\nL 338.208333 43.746364 \r\nL 337.85375 43.782672 \r\nL 337.85375 43.402699 \r\nL 335.017083 43.693007 \r\nL 335.017083 42.538349 \r\nL 331.47125 42.896664 \r\nL 331.47125 42.505916 \r\nL 327.570833 42.905225 \r\nL 327.570833 42.508944 \r\nL 326.861667 42.581811 \r\nL 326.861667 42.183736 \r\nL 325.443333 42.328788 \r\nL 325.443333 41.928036 \r\nL 323.315833 42.145601 \r\nL 323.315833 41.741253 \r\nL 320.83375 41.995956 \r\nL 320.83375 41.587495 \r\nL 317.997083 41.880289 \r\nL 317.997083 41.467171 \r\nL 316.57875 41.613877 \r\nL 316.57875 41.197876 \r\nL 316.224167 41.23431 \r\nL 316.224167 40.816807 \r\nL 315.869583 40.852859 \r\nL 315.869583 40.433845 \r\nL 311.614583 40.867764 \r\nL 311.614583 40.441891 \r\nL 304.168333 41.223135 \r\nL 304.168333 40.785556 \r\nL 303.459167 40.861146 \r\nL 303.459167 39.538409 \r\nL 303.104583 39.574769 \r\nL 303.104583 39.131015 \r\nL 301.331667 39.311569 \r\nL 301.331667 38.86395 \r\nL 298.495 39.153455 \r\nL 298.495 38.245809 \r\nL 297.43125 38.352611 \r\nL 297.43125 37.895267 \r\nL 294.949167 38.143845 \r\nL 294.949167 37.681239 \r\nL 292.467083 37.930491 \r\nL 292.467083 36.993222 \r\nL 291.04875 37.133024 \r\nL 291.04875 36.660033 \r\nL 281.475 37.628803 \r\nL 281.475 37.137417 \r\nL 276.865417 37.622592 \r\nL 276.865417 37.121065 \r\nL 269.419167 37.930491 \r\nL 269.419167 37.412639 \r\nL 264.455 37.971193 \r\nL 264.455 37.441305 \r\nL 264.100417 37.481371 \r\nL 264.100417 36.415088 \r\nL 262.3275 36.609536 \r\nL 262.3275 36.069963 \r\nL 259.845417 36.34181 \r\nL 259.845417 35.794902 \r\nL 259.490833 35.833421 \r\nL 259.490833 35.283942 \r\nL 244.952917 36.941193 \r\nL 237.506667 37.88384 \r\nL 237.506667 37.276205 \r\nL 224.741667 39.029292 \r\nL 214.813333 40.56874 \r\nL 214.813333 39.886739 \r\nL 214.45875 39.943678 \r\nL 214.45875 39.257643 \r\nL 211.622083 39.711227 \r\nL 211.622083 39.011955 \r\nL 210.912917 39.125038 \r\nL 210.912917 38.420185 \r\nL 206.657917 39.102346 \r\nL 206.657917 38.377866 \r\nL 199.56625 39.566205 \r\nL 199.56625 38.047852 \r\nL 194.956667 38.837123 \r\nL 194.956667 38.051655 \r\nL 190.701667 38.802872 \r\nL 190.701667 37.179158 \r\nL 188.219583 37.612104 \r\nL 188.219583 36.781502 \r\nL 178.645833 38.545485 \r\nL 174.745417 39.337557 \r\nL 174.745417 38.424292 \r\nL 168.7175 39.704825 \r\nL 168.7175 38.746031 \r\nL 168.362917 38.822699 \r\nL 168.362917 37.855929 \r\nL 160.562083 39.601008 \r\nL 158.434583 40.118196 \r\nL 158.434583 38.012022 \r\nL 157.725417 38.176617 \r\nL 157.725417 37.10749 \r\nL 156.661667 37.348904 \r\nL 156.661667 36.263521 \r\nL 155.9525 36.420601 \r\nL 155.9525 35.321763 \r\nL 148.50625 37.028028 \r\nL 147.797083 37.203507 \r\nL 147.797083 36.015508 \r\nL 141.06 37.735182 \r\nL 135.032083 39.494521 \r\nL 131.48625 40.64537 \r\nL 131.48625 39.239062 \r\nL 129.004167 40.064642 \r\nL 129.004167 38.607338 \r\nL 127.585833 39.078361 \r\nL 127.585833 37.584613 \r\nL 122.267083 39.411893 \r\nL 120.494167 40.079835 \r\nL 120.494167 38.438674 \r\nL 119.075833 38.966983 \r\nL 119.075833 37.279461 \r\nL 115.175417 38.756957 \r\nL 115.175417 36.961179 \r\nL 114.820833 37.095233 \r\nL 114.820833 33.42788 \r\nL 114.46625 33.545008 \r\nL 114.46625 31.672106 \r\nL 113.757083 31.890931 \r\nL 113.757083 29.977847 \r\nL 113.4025 30.079062 \r\nL 113.4025 28.134481 \r\nL 108.438333 29.523911 \r\nL 103.82875 31.043273 \r\nL 99.928333 32.547715 \r\nL 96.737083 33.965123 \r\nL 96.737083 31.337688 \r\nL 94.609583 32.277463 \r\nL 94.609583 29.488095 \r\nL 91.06375 31.043273 \r\nL 87.8725 32.696205 \r\nL 85.035833 34.42298 \r\nL 82.55375 36.185729 \r\nL 82.55375 24.393545 \r\nL 81.135417 25.002436 \r\nL 81.135417 20.695648 \r\nL 80.780833 20.805976 \r\nL 80.780833 16.339062 \r\nL 76.525833 17.147298 \r\nL 76.525833 11.759062 \r\nL 52.76875 11.759062 \r\nL 52.76875 11.759062 \r\n\" style=\"fill:none;stroke:#0000ff;stroke-linecap:square;stroke-width:2;\"/>\r\n   </g>\r\n   <g id=\"line2d_26\">\r\n    <path clip-path=\"url(#p25ae0731dc)\" d=\"M 347.4275 378.159062 \r\nL 347.4275 48.399062 \r\n\" style=\"fill:none;stroke:#ff0000;stroke-dasharray:1.5,2.475;stroke-dashoffset:0;stroke-width:1.5;\"/>\r\n   </g>\r\n   <g id=\"line2d_27\">\r\n    <path clip-path=\"url(#p25ae0731dc)\" d=\"M 52.76875 48.399062 \r\nL 347.4275 48.399062 \r\n\" style=\"fill:none;stroke:#ff0000;stroke-dasharray:1.5,2.475;stroke-dashoffset:0;stroke-width:1.5;\"/>\r\n   </g>\r\n   <g id=\"line2d_28\">\r\n    <defs>\r\n     <path d=\"M 0 3 \r\nC 0.795609 3 1.55874 2.683901 2.12132 2.12132 \r\nC 2.683901 1.55874 3 0.795609 3 0 \r\nC 3 -0.795609 2.683901 -1.55874 2.12132 -2.12132 \r\nC 1.55874 -2.683901 0.795609 -3 0 -3 \r\nC -0.795609 -3 -1.55874 -2.683901 -2.12132 -2.12132 \r\nC -2.683901 -1.55874 -3 -0.795609 -3 0 \r\nC -3 0.795609 -2.683901 1.55874 -2.12132 2.12132 \r\nC -1.55874 2.683901 -0.795609 3 0 3 \r\nz\r\n\" id=\"md393e41a70\" style=\"stroke:#ff0000;\"/>\r\n    </defs>\r\n    <g clip-path=\"url(#p25ae0731dc)\">\r\n     <use style=\"fill:#ff0000;stroke:#ff0000;\" x=\"347.4275\" xlink:href=\"#md393e41a70\" y=\"48.399062\"/>\r\n    </g>\r\n   </g>\r\n   <g id=\"patch_3\">\r\n    <path d=\"M 52.76875 378.159062 \r\nL 52.76875 11.759062 \r\n\" style=\"fill:none;stroke:#000000;stroke-linecap:square;stroke-linejoin:miter;stroke-width:0.8;\"/>\r\n   </g>\r\n   <g id=\"patch_4\">\r\n    <path d=\"M 552.73125 378.159062 \r\nL 552.73125 11.759062 \r\n\" style=\"fill:none;stroke:#000000;stroke-linecap:square;stroke-linejoin:miter;stroke-width:0.8;\"/>\r\n   </g>\r\n   <g id=\"patch_5\">\r\n    <path d=\"M 52.76875 378.159062 \r\nL 552.73125 378.159062 \r\n\" style=\"fill:none;stroke:#000000;stroke-linecap:square;stroke-linejoin:miter;stroke-width:0.8;\"/>\r\n   </g>\r\n   <g id=\"patch_6\">\r\n    <path d=\"M 52.76875 11.759062 \r\nL 552.73125 11.759062 \r\n\" style=\"fill:none;stroke:#000000;stroke-linecap:square;stroke-linejoin:miter;stroke-width:0.8;\"/>\r\n   </g>\r\n  </g>\r\n </g>\r\n <defs>\r\n  <clipPath id=\"p25ae0731dc\">\r\n   <rect height=\"366.4\" width=\"499.9625\" x=\"52.76875\" y=\"11.759062\"/>\r\n  </clipPath>\r\n </defs>\r\n</svg>\r\n",
      "image/png": "[encoded data removed]"
     },
     "metadata": {
      "needs_background": "light"
     }
    }
   ],
   "source": [
    "def plot_precision_vs_recall(precisions, recalls):\n",
    "    plt.plot(recalls, precisions, \"b-\", linewidth=2)\n",
    "    plt.xlabel(\"Recall\", fontsize=16)\n",
    "    plt.ylabel(\"Precision\", fontsize=16)\n",
    "    plt.axis([0, 1, 0, 1])\n",
    "    plt.grid(True)\n",
    "\n",
    "plt.figure(figsize=(8, 6))\n",
    "plot_precision_vs_recall(precisions, recalls)\n",
    "plt.plot([recall_90_precision, recall_90_precision], [0., 0.9], \"r:\")\n",
    "plt.plot([0.0, recall_90_precision], [0.9, 0.9], \"r:\")\n",
    "plt.plot([recall_90_precision], [0.9], \"ro\")\n",
    "save_fig(\"precision_vs_recall_plot\")\n",
    "plt.show()"
   ]
  },
  {
   "source": [
    "## We now set our SGD classifier to have a recall of 90%"
   ],
   "cell_type": "markdown",
   "metadata": {}
  },
  {
   "cell_type": "code",
   "execution_count": 23,
   "metadata": {},
   "outputs": [],
   "source": [
    "y_train_pred_90 = (y_scores >= threshold_90_precision)"
   ]
  },
  {
   "cell_type": "code",
   "execution_count": 24,
   "metadata": {},
   "outputs": [
    {
     "output_type": "stream",
     "name": "stdout",
     "text": [
      "Precision score is over 90% as expected:  0.9003250270855905\nRecall score has gone down as expected:  0.5893617021276596\n"
     ]
    }
   ],
   "source": [
    "print('Precision score is over 90% as expected: ', precision_score(y_train_C, y_train_pred_90))\n",
    "print('Recall score has gone down as expected: ', recall_score(y_train_C, y_train_pred_90))"
   ]
  },
  {
   "cell_type": "markdown",
   "metadata": {},
   "source": [
    "## ROC curves\n",
    "The receiver operating characteristic (ROC) curve is another common tool used with binary classifiers. It is very similar to the precision/recall curve, but instead of plotting precision versus recall, the ROC curve plots the true positive rate (another name for recall) against the false positive rate (FPR). The FPR is the ratio of negative instances that are incorrectly classified as positive. It is equal to 1 – the true negative rate (TNR), which is the ratio of negative instances that are correctly classified as negative. The TNR is also called specificity. Hence, the ROC curve plots sensitivity (recall) versus 1 – specificity.\n",
    "\n",
    "To plot the ROC curve, you first use the roc_curve() function to compute the TPR and FPR for various threshold values:"
   ]
  },
  {
   "cell_type": "code",
   "execution_count": 25,
   "metadata": {},
   "outputs": [],
   "source": [
    "from sklearn.metrics import roc_curve\n",
    "fpr, tpr, thresholds = roc_curve(y_train_C, y_scores)"
   ]
  },
  {
   "cell_type": "code",
   "execution_count": 26,
   "metadata": {},
   "outputs": [
    {
     "output_type": "stream",
     "name": "stdout",
     "text": [
      "Saving figure roc_curve_plot\n"
     ]
    },
    {
     "output_type": "display_data",
     "data": {
      "text/plain": "<Figure size 576x432 with 1 Axes>",
      "image/svg+xml": "<?xml version=\"1.0\" encoding=\"utf-8\" standalone=\"no\"?>\r\n<!DOCTYPE svg PUBLIC \"-//W3C//DTD SVG 1.1//EN\"\r\n  \"http://www.w3.org/Graphics/SVG/1.1/DTD/svg11.dtd\">\r\n<!-- Created with matplotlib (https://matplotlib.org/) -->\r\n<svg height=\"423.457812pt\" version=\"1.1\" viewBox=\"0 0 569.473125 423.457812\" width=\"569.473125pt\" xmlns=\"http://www.w3.org/2000/svg\" xmlns:xlink=\"http://www.w3.org/1999/xlink\">\r\n <defs>\r\n  <style type=\"text/css\">\r\n*{stroke-linecap:butt;stroke-linejoin:round;white-space:pre;}\r\n  </style>\r\n </defs>\r\n <g id=\"figure_1\">\r\n  <g id=\"patch_1\">\r\n   <path d=\"M 0 423.457812 \r\nL 569.473125 423.457812 \r\nL 569.473125 0 \r\nL 0 0 \r\nz\r\n\" style=\"fill:none;\"/>\r\n  </g>\r\n  <g id=\"axes_1\">\r\n   <g id=\"patch_2\">\r\n    <path d=\"M 52.76875 378.159062 \r\nL 552.73125 378.159062 \r\nL 552.73125 11.759062 \r\nL 52.76875 11.759062 \r\nz\r\n\" style=\"fill:#ffffff;\"/>\r\n   </g>\r\n   <g id=\"matplotlib.axis_1\">\r\n    <g id=\"xtick_1\">\r\n     <g id=\"line2d_1\">\r\n      <path clip-path=\"url(#pcf5ecb1bc8)\" d=\"M 52.76875 378.159062 \r\nL 52.76875 11.759062 \r\n\" style=\"fill:none;stroke:#b0b0b0;stroke-linecap:square;stroke-width:0.8;\"/>\r\n     </g>\r\n     <g id=\"line2d_2\">\r\n      <defs>\r\n       <path d=\"M 0 0 \r\nL 0 3.5 \r\n\" id=\"m01b2c02369\" style=\"stroke:#000000;stroke-width:0.8;\"/>\r\n      </defs>\r\n      <g>\r\n       <use style=\"stroke:#000000;stroke-width:0.8;\" x=\"52.76875\" xlink:href=\"#m01b2c02369\" y=\"378.159062\"/>\r\n      </g>\r\n     </g>\r\n     <g id=\"text_1\">\r\n      <!-- 0.0 -->\r\n      <defs>\r\n       <path d=\"M 31.78125 66.40625 \r\nQ 24.171875 66.40625 20.328125 58.90625 \r\nQ 16.5 51.421875 16.5 36.375 \r\nQ 16.5 21.390625 20.328125 13.890625 \r\nQ 24.171875 6.390625 31.78125 6.390625 \r\nQ 39.453125 6.390625 43.28125 13.890625 \r\nQ 47.125 21.390625 47.125 36.375 \r\nQ 47.125 51.421875 43.28125 58.90625 \r\nQ 39.453125 66.40625 31.78125 66.40625 \r\nz\r\nM 31.78125 74.21875 \r\nQ 44.046875 74.21875 50.515625 64.515625 \r\nQ 56.984375 54.828125 56.984375 36.375 \r\nQ 56.984375 17.96875 50.515625 8.265625 \r\nQ 44.046875 -1.421875 31.78125 -1.421875 \r\nQ 19.53125 -1.421875 13.0625 8.265625 \r\nQ 6.59375 17.96875 6.59375 36.375 \r\nQ 6.59375 54.828125 13.0625 64.515625 \r\nQ 19.53125 74.21875 31.78125 74.21875 \r\nz\r\n\" id=\"DejaVuSans-48\"/>\r\n       <path d=\"M 10.6875 12.40625 \r\nL 21 12.40625 \r\nL 21 0 \r\nL 10.6875 0 \r\nz\r\n\" id=\"DejaVuSans-46\"/>\r\n      </defs>\r\n      <g transform=\"translate(43.226875 394.277187)scale(0.12 -0.12)\">\r\n       <use xlink:href=\"#DejaVuSans-48\"/>\r\n       <use x=\"63.623047\" xlink:href=\"#DejaVuSans-46\"/>\r\n       <use x=\"95.410156\" xlink:href=\"#DejaVuSans-48\"/>\r\n      </g>\r\n     </g>\r\n    </g>\r\n    <g id=\"xtick_2\">\r\n     <g id=\"line2d_3\">\r\n      <path clip-path=\"url(#pcf5ecb1bc8)\" d=\"M 152.76125 378.159062 \r\nL 152.76125 11.759062 \r\n\" style=\"fill:none;stroke:#b0b0b0;stroke-linecap:square;stroke-width:0.8;\"/>\r\n     </g>\r\n     <g id=\"line2d_4\">\r\n      <g>\r\n       <use style=\"stroke:#000000;stroke-width:0.8;\" x=\"152.76125\" xlink:href=\"#m01b2c02369\" y=\"378.159062\"/>\r\n      </g>\r\n     </g>\r\n     <g id=\"text_2\">\r\n      <!-- 0.2 -->\r\n      <defs>\r\n       <path d=\"M 19.1875 8.296875 \r\nL 53.609375 8.296875 \r\nL 53.609375 0 \r\nL 7.328125 0 \r\nL 7.328125 8.296875 \r\nQ 12.9375 14.109375 22.625 23.890625 \r\nQ 32.328125 33.6875 34.8125 36.53125 \r\nQ 39.546875 41.84375 41.421875 45.53125 \r\nQ 43.3125 49.21875 43.3125 52.78125 \r\nQ 43.3125 58.59375 39.234375 62.25 \r\nQ 35.15625 65.921875 28.609375 65.921875 \r\nQ 23.96875 65.921875 18.8125 64.3125 \r\nQ 13.671875 62.703125 7.8125 59.421875 \r\nL 7.8125 69.390625 \r\nQ 13.765625 71.78125 18.9375 73 \r\nQ 24.125 74.21875 28.421875 74.21875 \r\nQ 39.75 74.21875 46.484375 68.546875 \r\nQ 53.21875 62.890625 53.21875 53.421875 \r\nQ 53.21875 48.921875 51.53125 44.890625 \r\nQ 49.859375 40.875 45.40625 35.40625 \r\nQ 44.1875 33.984375 37.640625 27.21875 \r\nQ 31.109375 20.453125 19.1875 8.296875 \r\nz\r\n\" id=\"DejaVuSans-50\"/>\r\n      </defs>\r\n      <g transform=\"translate(143.219375 394.277187)scale(0.12 -0.12)\">\r\n       <use xlink:href=\"#DejaVuSans-48\"/>\r\n       <use x=\"63.623047\" xlink:href=\"#DejaVuSans-46\"/>\r\n       <use x=\"95.410156\" xlink:href=\"#DejaVuSans-50\"/>\r\n      </g>\r\n     </g>\r\n    </g>\r\n    <g id=\"xtick_3\">\r\n     <g id=\"line2d_5\">\r\n      <path clip-path=\"url(#pcf5ecb1bc8)\" d=\"M 252.75375 378.159062 \r\nL 252.75375 11.759062 \r\n\" style=\"fill:none;stroke:#b0b0b0;stroke-linecap:square;stroke-width:0.8;\"/>\r\n     </g>\r\n     <g id=\"line2d_6\">\r\n      <g>\r\n       <use style=\"stroke:#000000;stroke-width:0.8;\" x=\"252.75375\" xlink:href=\"#m01b2c02369\" y=\"378.159062\"/>\r\n      </g>\r\n     </g>\r\n     <g id=\"text_3\">\r\n      <!-- 0.4 -->\r\n      <defs>\r\n       <path d=\"M 37.796875 64.3125 \r\nL 12.890625 25.390625 \r\nL 37.796875 25.390625 \r\nz\r\nM 35.203125 72.90625 \r\nL 47.609375 72.90625 \r\nL 47.609375 25.390625 \r\nL 58.015625 25.390625 \r\nL 58.015625 17.1875 \r\nL 47.609375 17.1875 \r\nL 47.609375 0 \r\nL 37.796875 0 \r\nL 37.796875 17.1875 \r\nL 4.890625 17.1875 \r\nL 4.890625 26.703125 \r\nz\r\n\" id=\"DejaVuSans-52\"/>\r\n      </defs>\r\n      <g transform=\"translate(243.211875 394.277187)scale(0.12 -0.12)\">\r\n       <use xlink:href=\"#DejaVuSans-48\"/>\r\n       <use x=\"63.623047\" xlink:href=\"#DejaVuSans-46\"/>\r\n       <use x=\"95.410156\" xlink:href=\"#DejaVuSans-52\"/>\r\n      </g>\r\n     </g>\r\n    </g>\r\n    <g id=\"xtick_4\">\r\n     <g id=\"line2d_7\">\r\n      <path clip-path=\"url(#pcf5ecb1bc8)\" d=\"M 352.74625 378.159062 \r\nL 352.74625 11.759062 \r\n\" style=\"fill:none;stroke:#b0b0b0;stroke-linecap:square;stroke-width:0.8;\"/>\r\n     </g>\r\n     <g id=\"line2d_8\">\r\n      <g>\r\n       <use style=\"stroke:#000000;stroke-width:0.8;\" x=\"352.74625\" xlink:href=\"#m01b2c02369\" y=\"378.159062\"/>\r\n      </g>\r\n     </g>\r\n     <g id=\"text_4\">\r\n      <!-- 0.6 -->\r\n      <defs>\r\n       <path d=\"M 33.015625 40.375 \r\nQ 26.375 40.375 22.484375 35.828125 \r\nQ 18.609375 31.296875 18.609375 23.390625 \r\nQ 18.609375 15.53125 22.484375 10.953125 \r\nQ 26.375 6.390625 33.015625 6.390625 \r\nQ 39.65625 6.390625 43.53125 10.953125 \r\nQ 47.40625 15.53125 47.40625 23.390625 \r\nQ 47.40625 31.296875 43.53125 35.828125 \r\nQ 39.65625 40.375 33.015625 40.375 \r\nz\r\nM 52.59375 71.296875 \r\nL 52.59375 62.3125 \r\nQ 48.875 64.0625 45.09375 64.984375 \r\nQ 41.3125 65.921875 37.59375 65.921875 \r\nQ 27.828125 65.921875 22.671875 59.328125 \r\nQ 17.53125 52.734375 16.796875 39.40625 \r\nQ 19.671875 43.65625 24.015625 45.921875 \r\nQ 28.375 48.1875 33.59375 48.1875 \r\nQ 44.578125 48.1875 50.953125 41.515625 \r\nQ 57.328125 34.859375 57.328125 23.390625 \r\nQ 57.328125 12.15625 50.6875 5.359375 \r\nQ 44.046875 -1.421875 33.015625 -1.421875 \r\nQ 20.359375 -1.421875 13.671875 8.265625 \r\nQ 6.984375 17.96875 6.984375 36.375 \r\nQ 6.984375 53.65625 15.1875 63.9375 \r\nQ 23.390625 74.21875 37.203125 74.21875 \r\nQ 40.921875 74.21875 44.703125 73.484375 \r\nQ 48.484375 72.75 52.59375 71.296875 \r\nz\r\n\" id=\"DejaVuSans-54\"/>\r\n      </defs>\r\n      <g transform=\"translate(343.204375 394.277187)scale(0.12 -0.12)\">\r\n       <use xlink:href=\"#DejaVuSans-48\"/>\r\n       <use x=\"63.623047\" xlink:href=\"#DejaVuSans-46\"/>\r\n       <use x=\"95.410156\" xlink:href=\"#DejaVuSans-54\"/>\r\n      </g>\r\n     </g>\r\n    </g>\r\n    <g id=\"xtick_5\">\r\n     <g id=\"line2d_9\">\r\n      <path clip-path=\"url(#pcf5ecb1bc8)\" d=\"M 452.73875 378.159062 \r\nL 452.73875 11.759062 \r\n\" style=\"fill:none;stroke:#b0b0b0;stroke-linecap:square;stroke-width:0.8;\"/>\r\n     </g>\r\n     <g id=\"line2d_10\">\r\n      <g>\r\n       <use style=\"stroke:#000000;stroke-width:0.8;\" x=\"452.73875\" xlink:href=\"#m01b2c02369\" y=\"378.159062\"/>\r\n      </g>\r\n     </g>\r\n     <g id=\"text_5\">\r\n      <!-- 0.8 -->\r\n      <defs>\r\n       <path d=\"M 31.78125 34.625 \r\nQ 24.75 34.625 20.71875 30.859375 \r\nQ 16.703125 27.09375 16.703125 20.515625 \r\nQ 16.703125 13.921875 20.71875 10.15625 \r\nQ 24.75 6.390625 31.78125 6.390625 \r\nQ 38.8125 6.390625 42.859375 10.171875 \r\nQ 46.921875 13.96875 46.921875 20.515625 \r\nQ 46.921875 27.09375 42.890625 30.859375 \r\nQ 38.875 34.625 31.78125 34.625 \r\nz\r\nM 21.921875 38.8125 \r\nQ 15.578125 40.375 12.03125 44.71875 \r\nQ 8.5 49.078125 8.5 55.328125 \r\nQ 8.5 64.0625 14.71875 69.140625 \r\nQ 20.953125 74.21875 31.78125 74.21875 \r\nQ 42.671875 74.21875 48.875 69.140625 \r\nQ 55.078125 64.0625 55.078125 55.328125 \r\nQ 55.078125 49.078125 51.53125 44.71875 \r\nQ 48 40.375 41.703125 38.8125 \r\nQ 48.828125 37.15625 52.796875 32.3125 \r\nQ 56.78125 27.484375 56.78125 20.515625 \r\nQ 56.78125 9.90625 50.3125 4.234375 \r\nQ 43.84375 -1.421875 31.78125 -1.421875 \r\nQ 19.734375 -1.421875 13.25 4.234375 \r\nQ 6.78125 9.90625 6.78125 20.515625 \r\nQ 6.78125 27.484375 10.78125 32.3125 \r\nQ 14.796875 37.15625 21.921875 38.8125 \r\nz\r\nM 18.3125 54.390625 \r\nQ 18.3125 48.734375 21.84375 45.5625 \r\nQ 25.390625 42.390625 31.78125 42.390625 \r\nQ 38.140625 42.390625 41.71875 45.5625 \r\nQ 45.3125 48.734375 45.3125 54.390625 \r\nQ 45.3125 60.0625 41.71875 63.234375 \r\nQ 38.140625 66.40625 31.78125 66.40625 \r\nQ 25.390625 66.40625 21.84375 63.234375 \r\nQ 18.3125 60.0625 18.3125 54.390625 \r\nz\r\n\" id=\"DejaVuSans-56\"/>\r\n      </defs>\r\n      <g transform=\"translate(443.196875 394.277187)scale(0.12 -0.12)\">\r\n       <use xlink:href=\"#DejaVuSans-48\"/>\r\n       <use x=\"63.623047\" xlink:href=\"#DejaVuSans-46\"/>\r\n       <use x=\"95.410156\" xlink:href=\"#DejaVuSans-56\"/>\r\n      </g>\r\n     </g>\r\n    </g>\r\n    <g id=\"xtick_6\">\r\n     <g id=\"line2d_11\">\r\n      <path clip-path=\"url(#pcf5ecb1bc8)\" d=\"M 552.73125 378.159062 \r\nL 552.73125 11.759062 \r\n\" style=\"fill:none;stroke:#b0b0b0;stroke-linecap:square;stroke-width:0.8;\"/>\r\n     </g>\r\n     <g id=\"line2d_12\">\r\n      <g>\r\n       <use style=\"stroke:#000000;stroke-width:0.8;\" x=\"552.73125\" xlink:href=\"#m01b2c02369\" y=\"378.159062\"/>\r\n      </g>\r\n     </g>\r\n     <g id=\"text_6\">\r\n      <!-- 1.0 -->\r\n      <defs>\r\n       <path d=\"M 12.40625 8.296875 \r\nL 28.515625 8.296875 \r\nL 28.515625 63.921875 \r\nL 10.984375 60.40625 \r\nL 10.984375 69.390625 \r\nL 28.421875 72.90625 \r\nL 38.28125 72.90625 \r\nL 38.28125 8.296875 \r\nL 54.390625 8.296875 \r\nL 54.390625 0 \r\nL 12.40625 0 \r\nz\r\n\" id=\"DejaVuSans-49\"/>\r\n      </defs>\r\n      <g transform=\"translate(543.189375 394.277187)scale(0.12 -0.12)\">\r\n       <use xlink:href=\"#DejaVuSans-49\"/>\r\n       <use x=\"63.623047\" xlink:href=\"#DejaVuSans-46\"/>\r\n       <use x=\"95.410156\" xlink:href=\"#DejaVuSans-48\"/>\r\n      </g>\r\n     </g>\r\n    </g>\r\n    <g id=\"text_7\">\r\n     <!-- False Positive Rate (Fall-Out) -->\r\n     <defs>\r\n      <path d=\"M 9.8125 72.90625 \r\nL 51.703125 72.90625 \r\nL 51.703125 64.59375 \r\nL 19.671875 64.59375 \r\nL 19.671875 43.109375 \r\nL 48.578125 43.109375 \r\nL 48.578125 34.8125 \r\nL 19.671875 34.8125 \r\nL 19.671875 0 \r\nL 9.8125 0 \r\nz\r\n\" id=\"DejaVuSans-70\"/>\r\n      <path d=\"M 34.28125 27.484375 \r\nQ 23.390625 27.484375 19.1875 25 \r\nQ 14.984375 22.515625 14.984375 16.5 \r\nQ 14.984375 11.71875 18.140625 8.90625 \r\nQ 21.296875 6.109375 26.703125 6.109375 \r\nQ 34.1875 6.109375 38.703125 11.40625 \r\nQ 43.21875 16.703125 43.21875 25.484375 \r\nL 43.21875 27.484375 \r\nz\r\nM 52.203125 31.203125 \r\nL 52.203125 0 \r\nL 43.21875 0 \r\nL 43.21875 8.296875 \r\nQ 40.140625 3.328125 35.546875 0.953125 \r\nQ 30.953125 -1.421875 24.3125 -1.421875 \r\nQ 15.921875 -1.421875 10.953125 3.296875 \r\nQ 6 8.015625 6 15.921875 \r\nQ 6 25.140625 12.171875 29.828125 \r\nQ 18.359375 34.515625 30.609375 34.515625 \r\nL 43.21875 34.515625 \r\nL 43.21875 35.40625 \r\nQ 43.21875 41.609375 39.140625 45 \r\nQ 35.0625 48.390625 27.6875 48.390625 \r\nQ 23 48.390625 18.546875 47.265625 \r\nQ 14.109375 46.140625 10.015625 43.890625 \r\nL 10.015625 52.203125 \r\nQ 14.9375 54.109375 19.578125 55.046875 \r\nQ 24.21875 56 28.609375 56 \r\nQ 40.484375 56 46.34375 49.84375 \r\nQ 52.203125 43.703125 52.203125 31.203125 \r\nz\r\n\" id=\"DejaVuSans-97\"/>\r\n      <path d=\"M 9.421875 75.984375 \r\nL 18.40625 75.984375 \r\nL 18.40625 0 \r\nL 9.421875 0 \r\nz\r\n\" id=\"DejaVuSans-108\"/>\r\n      <path d=\"M 44.28125 53.078125 \r\nL 44.28125 44.578125 \r\nQ 40.484375 46.53125 36.375 47.5 \r\nQ 32.28125 48.484375 27.875 48.484375 \r\nQ 21.1875 48.484375 17.84375 46.4375 \r\nQ 14.5 44.390625 14.5 40.28125 \r\nQ 14.5 37.15625 16.890625 35.375 \r\nQ 19.28125 33.59375 26.515625 31.984375 \r\nL 29.59375 31.296875 \r\nQ 39.15625 29.25 43.1875 25.515625 \r\nQ 47.21875 21.78125 47.21875 15.09375 \r\nQ 47.21875 7.46875 41.1875 3.015625 \r\nQ 35.15625 -1.421875 24.609375 -1.421875 \r\nQ 20.21875 -1.421875 15.453125 -0.5625 \r\nQ 10.6875 0.296875 5.421875 2 \r\nL 5.421875 11.28125 \r\nQ 10.40625 8.6875 15.234375 7.390625 \r\nQ 20.0625 6.109375 24.8125 6.109375 \r\nQ 31.15625 6.109375 34.5625 8.28125 \r\nQ 37.984375 10.453125 37.984375 14.40625 \r\nQ 37.984375 18.0625 35.515625 20.015625 \r\nQ 33.0625 21.96875 24.703125 23.78125 \r\nL 21.578125 24.515625 \r\nQ 13.234375 26.265625 9.515625 29.90625 \r\nQ 5.8125 33.546875 5.8125 39.890625 \r\nQ 5.8125 47.609375 11.28125 51.796875 \r\nQ 16.75 56 26.8125 56 \r\nQ 31.78125 56 36.171875 55.265625 \r\nQ 40.578125 54.546875 44.28125 53.078125 \r\nz\r\n\" id=\"DejaVuSans-115\"/>\r\n      <path d=\"M 56.203125 29.59375 \r\nL 56.203125 25.203125 \r\nL 14.890625 25.203125 \r\nQ 15.484375 15.921875 20.484375 11.0625 \r\nQ 25.484375 6.203125 34.421875 6.203125 \r\nQ 39.59375 6.203125 44.453125 7.46875 \r\nQ 49.3125 8.734375 54.109375 11.28125 \r\nL 54.109375 2.78125 \r\nQ 49.265625 0.734375 44.1875 -0.34375 \r\nQ 39.109375 -1.421875 33.890625 -1.421875 \r\nQ 20.796875 -1.421875 13.15625 6.1875 \r\nQ 5.515625 13.8125 5.515625 26.8125 \r\nQ 5.515625 40.234375 12.765625 48.109375 \r\nQ 20.015625 56 32.328125 56 \r\nQ 43.359375 56 49.78125 48.890625 \r\nQ 56.203125 41.796875 56.203125 29.59375 \r\nz\r\nM 47.21875 32.234375 \r\nQ 47.125 39.59375 43.09375 43.984375 \r\nQ 39.0625 48.390625 32.421875 48.390625 \r\nQ 24.90625 48.390625 20.390625 44.140625 \r\nQ 15.875 39.890625 15.1875 32.171875 \r\nz\r\n\" id=\"DejaVuSans-101\"/>\r\n      <path id=\"DejaVuSans-32\"/>\r\n      <path d=\"M 19.671875 64.796875 \r\nL 19.671875 37.40625 \r\nL 32.078125 37.40625 \r\nQ 38.96875 37.40625 42.71875 40.96875 \r\nQ 46.484375 44.53125 46.484375 51.125 \r\nQ 46.484375 57.671875 42.71875 61.234375 \r\nQ 38.96875 64.796875 32.078125 64.796875 \r\nz\r\nM 9.8125 72.90625 \r\nL 32.078125 72.90625 \r\nQ 44.34375 72.90625 50.609375 67.359375 \r\nQ 56.890625 61.8125 56.890625 51.125 \r\nQ 56.890625 40.328125 50.609375 34.8125 \r\nQ 44.34375 29.296875 32.078125 29.296875 \r\nL 19.671875 29.296875 \r\nL 19.671875 0 \r\nL 9.8125 0 \r\nz\r\n\" id=\"DejaVuSans-80\"/>\r\n      <path d=\"M 30.609375 48.390625 \r\nQ 23.390625 48.390625 19.1875 42.75 \r\nQ 14.984375 37.109375 14.984375 27.296875 \r\nQ 14.984375 17.484375 19.15625 11.84375 \r\nQ 23.34375 6.203125 30.609375 6.203125 \r\nQ 37.796875 6.203125 41.984375 11.859375 \r\nQ 46.1875 17.53125 46.1875 27.296875 \r\nQ 46.1875 37.015625 41.984375 42.703125 \r\nQ 37.796875 48.390625 30.609375 48.390625 \r\nz\r\nM 30.609375 56 \r\nQ 42.328125 56 49.015625 48.375 \r\nQ 55.71875 40.765625 55.71875 27.296875 \r\nQ 55.71875 13.875 49.015625 6.21875 \r\nQ 42.328125 -1.421875 30.609375 -1.421875 \r\nQ 18.84375 -1.421875 12.171875 6.21875 \r\nQ 5.515625 13.875 5.515625 27.296875 \r\nQ 5.515625 40.765625 12.171875 48.375 \r\nQ 18.84375 56 30.609375 56 \r\nz\r\n\" id=\"DejaVuSans-111\"/>\r\n      <path d=\"M 9.421875 54.6875 \r\nL 18.40625 54.6875 \r\nL 18.40625 0 \r\nL 9.421875 0 \r\nz\r\nM 9.421875 75.984375 \r\nL 18.40625 75.984375 \r\nL 18.40625 64.59375 \r\nL 9.421875 64.59375 \r\nz\r\n\" id=\"DejaVuSans-105\"/>\r\n      <path d=\"M 18.3125 70.21875 \r\nL 18.3125 54.6875 \r\nL 36.8125 54.6875 \r\nL 36.8125 47.703125 \r\nL 18.3125 47.703125 \r\nL 18.3125 18.015625 \r\nQ 18.3125 11.328125 20.140625 9.421875 \r\nQ 21.96875 7.515625 27.59375 7.515625 \r\nL 36.8125 7.515625 \r\nL 36.8125 0 \r\nL 27.59375 0 \r\nQ 17.1875 0 13.234375 3.875 \r\nQ 9.28125 7.765625 9.28125 18.015625 \r\nL 9.28125 47.703125 \r\nL 2.6875 47.703125 \r\nL 2.6875 54.6875 \r\nL 9.28125 54.6875 \r\nL 9.28125 70.21875 \r\nz\r\n\" id=\"DejaVuSans-116\"/>\r\n      <path d=\"M 2.984375 54.6875 \r\nL 12.5 54.6875 \r\nL 29.59375 8.796875 \r\nL 46.6875 54.6875 \r\nL 56.203125 54.6875 \r\nL 35.6875 0 \r\nL 23.484375 0 \r\nz\r\n\" id=\"DejaVuSans-118\"/>\r\n      <path d=\"M 44.390625 34.1875 \r\nQ 47.5625 33.109375 50.5625 29.59375 \r\nQ 53.5625 26.078125 56.59375 19.921875 \r\nL 66.609375 0 \r\nL 56 0 \r\nL 46.6875 18.703125 \r\nQ 43.0625 26.03125 39.671875 28.421875 \r\nQ 36.28125 30.8125 30.421875 30.8125 \r\nL 19.671875 30.8125 \r\nL 19.671875 0 \r\nL 9.8125 0 \r\nL 9.8125 72.90625 \r\nL 32.078125 72.90625 \r\nQ 44.578125 72.90625 50.734375 67.671875 \r\nQ 56.890625 62.453125 56.890625 51.90625 \r\nQ 56.890625 45.015625 53.6875 40.46875 \r\nQ 50.484375 35.9375 44.390625 34.1875 \r\nz\r\nM 19.671875 64.796875 \r\nL 19.671875 38.921875 \r\nL 32.078125 38.921875 \r\nQ 39.203125 38.921875 42.84375 42.21875 \r\nQ 46.484375 45.515625 46.484375 51.90625 \r\nQ 46.484375 58.296875 42.84375 61.546875 \r\nQ 39.203125 64.796875 32.078125 64.796875 \r\nz\r\n\" id=\"DejaVuSans-82\"/>\r\n      <path d=\"M 31 75.875 \r\nQ 24.46875 64.65625 21.28125 53.65625 \r\nQ 18.109375 42.671875 18.109375 31.390625 \r\nQ 18.109375 20.125 21.3125 9.0625 \r\nQ 24.515625 -2 31 -13.1875 \r\nL 23.1875 -13.1875 \r\nQ 15.875 -1.703125 12.234375 9.375 \r\nQ 8.59375 20.453125 8.59375 31.390625 \r\nQ 8.59375 42.28125 12.203125 53.3125 \r\nQ 15.828125 64.359375 23.1875 75.875 \r\nz\r\n\" id=\"DejaVuSans-40\"/>\r\n      <path d=\"M 4.890625 31.390625 \r\nL 31.203125 31.390625 \r\nL 31.203125 23.390625 \r\nL 4.890625 23.390625 \r\nz\r\n\" id=\"DejaVuSans-45\"/>\r\n      <path d=\"M 39.40625 66.21875 \r\nQ 28.65625 66.21875 22.328125 58.203125 \r\nQ 16.015625 50.203125 16.015625 36.375 \r\nQ 16.015625 22.609375 22.328125 14.59375 \r\nQ 28.65625 6.59375 39.40625 6.59375 \r\nQ 50.140625 6.59375 56.421875 14.59375 \r\nQ 62.703125 22.609375 62.703125 36.375 \r\nQ 62.703125 50.203125 56.421875 58.203125 \r\nQ 50.140625 66.21875 39.40625 66.21875 \r\nz\r\nM 39.40625 74.21875 \r\nQ 54.734375 74.21875 63.90625 63.9375 \r\nQ 73.09375 53.65625 73.09375 36.375 \r\nQ 73.09375 19.140625 63.90625 8.859375 \r\nQ 54.734375 -1.421875 39.40625 -1.421875 \r\nQ 24.03125 -1.421875 14.8125 8.828125 \r\nQ 5.609375 19.09375 5.609375 36.375 \r\nQ 5.609375 53.65625 14.8125 63.9375 \r\nQ 24.03125 74.21875 39.40625 74.21875 \r\nz\r\n\" id=\"DejaVuSans-79\"/>\r\n      <path d=\"M 8.5 21.578125 \r\nL 8.5 54.6875 \r\nL 17.484375 54.6875 \r\nL 17.484375 21.921875 \r\nQ 17.484375 14.15625 20.5 10.265625 \r\nQ 23.53125 6.390625 29.59375 6.390625 \r\nQ 36.859375 6.390625 41.078125 11.03125 \r\nQ 45.3125 15.671875 45.3125 23.6875 \r\nL 45.3125 54.6875 \r\nL 54.296875 54.6875 \r\nL 54.296875 0 \r\nL 45.3125 0 \r\nL 45.3125 8.40625 \r\nQ 42.046875 3.421875 37.71875 1 \r\nQ 33.40625 -1.421875 27.6875 -1.421875 \r\nQ 18.265625 -1.421875 13.375 4.4375 \r\nQ 8.5 10.296875 8.5 21.578125 \r\nz\r\nM 31.109375 56 \r\nz\r\n\" id=\"DejaVuSans-117\"/>\r\n      <path d=\"M 8.015625 75.875 \r\nL 15.828125 75.875 \r\nQ 23.140625 64.359375 26.78125 53.3125 \r\nQ 30.421875 42.28125 30.421875 31.390625 \r\nQ 30.421875 20.453125 26.78125 9.375 \r\nQ 23.140625 -1.703125 15.828125 -13.1875 \r\nL 8.015625 -13.1875 \r\nQ 14.5 -2 17.703125 9.0625 \r\nQ 20.90625 20.125 20.90625 31.390625 \r\nQ 20.90625 42.671875 17.703125 53.65625 \r\nQ 14.5 64.65625 8.015625 75.875 \r\nz\r\n\" id=\"DejaVuSans-41\"/>\r\n     </defs>\r\n     <g transform=\"translate(187.10625 412.930312)scale(0.16 -0.16)\">\r\n      <use xlink:href=\"#DejaVuSans-70\"/>\r\n      <use x=\"57.378906\" xlink:href=\"#DejaVuSans-97\"/>\r\n      <use x=\"118.658203\" xlink:href=\"#DejaVuSans-108\"/>\r\n      <use x=\"146.441406\" xlink:href=\"#DejaVuSans-115\"/>\r\n      <use x=\"198.541016\" xlink:href=\"#DejaVuSans-101\"/>\r\n      <use x=\"260.064453\" xlink:href=\"#DejaVuSans-32\"/>\r\n      <use x=\"291.851562\" xlink:href=\"#DejaVuSans-80\"/>\r\n      <use x=\"352.107422\" xlink:href=\"#DejaVuSans-111\"/>\r\n      <use x=\"413.289062\" xlink:href=\"#DejaVuSans-115\"/>\r\n      <use x=\"465.388672\" xlink:href=\"#DejaVuSans-105\"/>\r\n      <use x=\"493.171875\" xlink:href=\"#DejaVuSans-116\"/>\r\n      <use x=\"532.380859\" xlink:href=\"#DejaVuSans-105\"/>\r\n      <use x=\"560.164062\" xlink:href=\"#DejaVuSans-118\"/>\r\n      <use x=\"619.34375\" xlink:href=\"#DejaVuSans-101\"/>\r\n      <use x=\"680.867188\" xlink:href=\"#DejaVuSans-32\"/>\r\n      <use x=\"712.654297\" xlink:href=\"#DejaVuSans-82\"/>\r\n      <use x=\"782.105469\" xlink:href=\"#DejaVuSans-97\"/>\r\n      <use x=\"843.384766\" xlink:href=\"#DejaVuSans-116\"/>\r\n      <use x=\"882.59375\" xlink:href=\"#DejaVuSans-101\"/>\r\n      <use x=\"944.117188\" xlink:href=\"#DejaVuSans-32\"/>\r\n      <use x=\"975.904297\" xlink:href=\"#DejaVuSans-40\"/>\r\n      <use x=\"1014.917969\" xlink:href=\"#DejaVuSans-70\"/>\r\n      <use x=\"1072.296875\" xlink:href=\"#DejaVuSans-97\"/>\r\n      <use x=\"1133.576172\" xlink:href=\"#DejaVuSans-108\"/>\r\n      <use x=\"1161.359375\" xlink:href=\"#DejaVuSans-108\"/>\r\n      <use x=\"1189.142578\" xlink:href=\"#DejaVuSans-45\"/>\r\n      <use x=\"1225.257812\" xlink:href=\"#DejaVuSans-79\"/>\r\n      <use x=\"1303.96875\" xlink:href=\"#DejaVuSans-117\"/>\r\n      <use x=\"1367.347656\" xlink:href=\"#DejaVuSans-116\"/>\r\n      <use x=\"1406.556641\" xlink:href=\"#DejaVuSans-41\"/>\r\n     </g>\r\n    </g>\r\n   </g>\r\n   <g id=\"matplotlib.axis_2\">\r\n    <g id=\"ytick_1\">\r\n     <g id=\"line2d_13\">\r\n      <path clip-path=\"url(#pcf5ecb1bc8)\" d=\"M 52.76875 378.159062 \r\nL 552.73125 378.159062 \r\n\" style=\"fill:none;stroke:#b0b0b0;stroke-linecap:square;stroke-width:0.8;\"/>\r\n     </g>\r\n     <g id=\"line2d_14\">\r\n      <defs>\r\n       <path d=\"M 0 0 \r\nL -3.5 0 \r\n\" id=\"ma145209387\" style=\"stroke:#000000;stroke-width:0.8;\"/>\r\n      </defs>\r\n      <g>\r\n       <use style=\"stroke:#000000;stroke-width:0.8;\" x=\"52.76875\" xlink:href=\"#ma145209387\" y=\"378.159062\"/>\r\n      </g>\r\n     </g>\r\n     <g id=\"text_8\">\r\n      <!-- 0.0 -->\r\n      <g transform=\"translate(26.685 382.718125)scale(0.12 -0.12)\">\r\n       <use xlink:href=\"#DejaVuSans-48\"/>\r\n       <use x=\"63.623047\" xlink:href=\"#DejaVuSans-46\"/>\r\n       <use x=\"95.410156\" xlink:href=\"#DejaVuSans-48\"/>\r\n      </g>\r\n     </g>\r\n    </g>\r\n    <g id=\"ytick_2\">\r\n     <g id=\"line2d_15\">\r\n      <path clip-path=\"url(#pcf5ecb1bc8)\" d=\"M 52.76875 304.879062 \r\nL 552.73125 304.879062 \r\n\" style=\"fill:none;stroke:#b0b0b0;stroke-linecap:square;stroke-width:0.8;\"/>\r\n     </g>\r\n     <g id=\"line2d_16\">\r\n      <g>\r\n       <use style=\"stroke:#000000;stroke-width:0.8;\" x=\"52.76875\" xlink:href=\"#ma145209387\" y=\"304.879062\"/>\r\n      </g>\r\n     </g>\r\n     <g id=\"text_9\">\r\n      <!-- 0.2 -->\r\n      <g transform=\"translate(26.685 309.438125)scale(0.12 -0.12)\">\r\n       <use xlink:href=\"#DejaVuSans-48\"/>\r\n       <use x=\"63.623047\" xlink:href=\"#DejaVuSans-46\"/>\r\n       <use x=\"95.410156\" xlink:href=\"#DejaVuSans-50\"/>\r\n      </g>\r\n     </g>\r\n    </g>\r\n    <g id=\"ytick_3\">\r\n     <g id=\"line2d_17\">\r\n      <path clip-path=\"url(#pcf5ecb1bc8)\" d=\"M 52.76875 231.599062 \r\nL 552.73125 231.599062 \r\n\" style=\"fill:none;stroke:#b0b0b0;stroke-linecap:square;stroke-width:0.8;\"/>\r\n     </g>\r\n     <g id=\"line2d_18\">\r\n      <g>\r\n       <use style=\"stroke:#000000;stroke-width:0.8;\" x=\"52.76875\" xlink:href=\"#ma145209387\" y=\"231.599062\"/>\r\n      </g>\r\n     </g>\r\n     <g id=\"text_10\">\r\n      <!-- 0.4 -->\r\n      <g transform=\"translate(26.685 236.158125)scale(0.12 -0.12)\">\r\n       <use xlink:href=\"#DejaVuSans-48\"/>\r\n       <use x=\"63.623047\" xlink:href=\"#DejaVuSans-46\"/>\r\n       <use x=\"95.410156\" xlink:href=\"#DejaVuSans-52\"/>\r\n      </g>\r\n     </g>\r\n    </g>\r\n    <g id=\"ytick_4\">\r\n     <g id=\"line2d_19\">\r\n      <path clip-path=\"url(#pcf5ecb1bc8)\" d=\"M 52.76875 158.319062 \r\nL 552.73125 158.319062 \r\n\" style=\"fill:none;stroke:#b0b0b0;stroke-linecap:square;stroke-width:0.8;\"/>\r\n     </g>\r\n     <g id=\"line2d_20\">\r\n      <g>\r\n       <use style=\"stroke:#000000;stroke-width:0.8;\" x=\"52.76875\" xlink:href=\"#ma145209387\" y=\"158.319062\"/>\r\n      </g>\r\n     </g>\r\n     <g id=\"text_11\">\r\n      <!-- 0.6 -->\r\n      <g transform=\"translate(26.685 162.878125)scale(0.12 -0.12)\">\r\n       <use xlink:href=\"#DejaVuSans-48\"/>\r\n       <use x=\"63.623047\" xlink:href=\"#DejaVuSans-46\"/>\r\n       <use x=\"95.410156\" xlink:href=\"#DejaVuSans-54\"/>\r\n      </g>\r\n     </g>\r\n    </g>\r\n    <g id=\"ytick_5\">\r\n     <g id=\"line2d_21\">\r\n      <path clip-path=\"url(#pcf5ecb1bc8)\" d=\"M 52.76875 85.039062 \r\nL 552.73125 85.039062 \r\n\" style=\"fill:none;stroke:#b0b0b0;stroke-linecap:square;stroke-width:0.8;\"/>\r\n     </g>\r\n     <g id=\"line2d_22\">\r\n      <g>\r\n       <use style=\"stroke:#000000;stroke-width:0.8;\" x=\"52.76875\" xlink:href=\"#ma145209387\" y=\"85.039062\"/>\r\n      </g>\r\n     </g>\r\n     <g id=\"text_12\">\r\n      <!-- 0.8 -->\r\n      <g transform=\"translate(26.685 89.598125)scale(0.12 -0.12)\">\r\n       <use xlink:href=\"#DejaVuSans-48\"/>\r\n       <use x=\"63.623047\" xlink:href=\"#DejaVuSans-46\"/>\r\n       <use x=\"95.410156\" xlink:href=\"#DejaVuSans-56\"/>\r\n      </g>\r\n     </g>\r\n    </g>\r\n    <g id=\"ytick_6\">\r\n     <g id=\"line2d_23\">\r\n      <path clip-path=\"url(#pcf5ecb1bc8)\" d=\"M 52.76875 11.759062 \r\nL 552.73125 11.759062 \r\n\" style=\"fill:none;stroke:#b0b0b0;stroke-linecap:square;stroke-width:0.8;\"/>\r\n     </g>\r\n     <g id=\"line2d_24\">\r\n      <g>\r\n       <use style=\"stroke:#000000;stroke-width:0.8;\" x=\"52.76875\" xlink:href=\"#ma145209387\" y=\"11.759062\"/>\r\n      </g>\r\n     </g>\r\n     <g id=\"text_13\">\r\n      <!-- 1.0 -->\r\n      <g transform=\"translate(26.685 16.318125)scale(0.12 -0.12)\">\r\n       <use xlink:href=\"#DejaVuSans-49\"/>\r\n       <use x=\"63.623047\" xlink:href=\"#DejaVuSans-46\"/>\r\n       <use x=\"95.410156\" xlink:href=\"#DejaVuSans-48\"/>\r\n      </g>\r\n     </g>\r\n    </g>\r\n    <g id=\"text_14\">\r\n     <!-- True Positive Rate (Recall) -->\r\n     <defs>\r\n      <path d=\"M -0.296875 72.90625 \r\nL 61.375 72.90625 \r\nL 61.375 64.59375 \r\nL 35.5 64.59375 \r\nL 35.5 0 \r\nL 25.59375 0 \r\nL 25.59375 64.59375 \r\nL -0.296875 64.59375 \r\nz\r\n\" id=\"DejaVuSans-84\"/>\r\n      <path d=\"M 41.109375 46.296875 \r\nQ 39.59375 47.171875 37.8125 47.578125 \r\nQ 36.03125 48 33.890625 48 \r\nQ 26.265625 48 22.1875 43.046875 \r\nQ 18.109375 38.09375 18.109375 28.8125 \r\nL 18.109375 0 \r\nL 9.078125 0 \r\nL 9.078125 54.6875 \r\nL 18.109375 54.6875 \r\nL 18.109375 46.1875 \r\nQ 20.953125 51.171875 25.484375 53.578125 \r\nQ 30.03125 56 36.53125 56 \r\nQ 37.453125 56 38.578125 55.875 \r\nQ 39.703125 55.765625 41.0625 55.515625 \r\nz\r\n\" id=\"DejaVuSans-114\"/>\r\n      <path d=\"M 48.78125 52.59375 \r\nL 48.78125 44.1875 \r\nQ 44.96875 46.296875 41.140625 47.34375 \r\nQ 37.3125 48.390625 33.40625 48.390625 \r\nQ 24.65625 48.390625 19.8125 42.84375 \r\nQ 14.984375 37.3125 14.984375 27.296875 \r\nQ 14.984375 17.28125 19.8125 11.734375 \r\nQ 24.65625 6.203125 33.40625 6.203125 \r\nQ 37.3125 6.203125 41.140625 7.25 \r\nQ 44.96875 8.296875 48.78125 10.40625 \r\nL 48.78125 2.09375 \r\nQ 45.015625 0.34375 40.984375 -0.53125 \r\nQ 36.96875 -1.421875 32.421875 -1.421875 \r\nQ 20.0625 -1.421875 12.78125 6.34375 \r\nQ 5.515625 14.109375 5.515625 27.296875 \r\nQ 5.515625 40.671875 12.859375 48.328125 \r\nQ 20.21875 56 33.015625 56 \r\nQ 37.15625 56 41.109375 55.140625 \r\nQ 45.0625 54.296875 48.78125 52.59375 \r\nz\r\n\" id=\"DejaVuSans-99\"/>\r\n     </defs>\r\n     <g transform=\"translate(19.3575 300.840312)rotate(-90)scale(0.16 -0.16)\">\r\n      <use xlink:href=\"#DejaVuSans-84\"/>\r\n      <use x=\"60.865234\" xlink:href=\"#DejaVuSans-114\"/>\r\n      <use x=\"101.978516\" xlink:href=\"#DejaVuSans-117\"/>\r\n      <use x=\"165.357422\" xlink:href=\"#DejaVuSans-101\"/>\r\n      <use x=\"226.880859\" xlink:href=\"#DejaVuSans-32\"/>\r\n      <use x=\"258.667969\" xlink:href=\"#DejaVuSans-80\"/>\r\n      <use x=\"318.923828\" xlink:href=\"#DejaVuSans-111\"/>\r\n      <use x=\"380.105469\" xlink:href=\"#DejaVuSans-115\"/>\r\n      <use x=\"432.205078\" xlink:href=\"#DejaVuSans-105\"/>\r\n      <use x=\"459.988281\" xlink:href=\"#DejaVuSans-116\"/>\r\n      <use x=\"499.197266\" xlink:href=\"#DejaVuSans-105\"/>\r\n      <use x=\"526.980469\" xlink:href=\"#DejaVuSans-118\"/>\r\n      <use x=\"586.160156\" xlink:href=\"#DejaVuSans-101\"/>\r\n      <use x=\"647.683594\" xlink:href=\"#DejaVuSans-32\"/>\r\n      <use x=\"679.470703\" xlink:href=\"#DejaVuSans-82\"/>\r\n      <use x=\"748.921875\" xlink:href=\"#DejaVuSans-97\"/>\r\n      <use x=\"810.201172\" xlink:href=\"#DejaVuSans-116\"/>\r\n      <use x=\"849.410156\" xlink:href=\"#DejaVuSans-101\"/>\r\n      <use x=\"910.933594\" xlink:href=\"#DejaVuSans-32\"/>\r\n      <use x=\"942.720703\" xlink:href=\"#DejaVuSans-40\"/>\r\n      <use x=\"981.734375\" xlink:href=\"#DejaVuSans-82\"/>\r\n      <use x=\"1051.154297\" xlink:href=\"#DejaVuSans-101\"/>\r\n      <use x=\"1112.677734\" xlink:href=\"#DejaVuSans-99\"/>\r\n      <use x=\"1167.658203\" xlink:href=\"#DejaVuSans-97\"/>\r\n      <use x=\"1228.9375\" xlink:href=\"#DejaVuSans-108\"/>\r\n      <use x=\"1256.720703\" xlink:href=\"#DejaVuSans-108\"/>\r\n      <use x=\"1284.503906\" xlink:href=\"#DejaVuSans-41\"/>\r\n     </g>\r\n    </g>\r\n   </g>\r\n   <g id=\"line2d_25\">\r\n    <path clip-path=\"url(#pcf5ecb1bc8)\" d=\"M 52.76875 378.159062 \r\nL 52.76875 360.748566 \r\nL 53.198271 360.748566 \r\nL 53.198271 357.630268 \r\nL 53.627792 357.630268 \r\nL 53.627792 357.37041 \r\nL 54.057313 357.37041 \r\nL 54.057313 356.330977 \r\nL 55.345876 356.330977 \r\nL 55.345876 347.4958 \r\nL 55.775397 347.4958 \r\nL 55.775397 345.936651 \r\nL 56.204918 345.936651 \r\nL 56.204918 333.723318 \r\nL 56.634439 333.723318 \r\nL 56.634439 333.46346 \r\nL 57.06396 333.46346 \r\nL 57.06396 332.943743 \r\nL 57.493482 332.943743 \r\nL 57.493482 332.683885 \r\nL 58.352524 332.683885 \r\nL 58.352524 332.424027 \r\nL 58.782045 332.424027 \r\nL 58.782045 329.565587 \r\nL 59.211566 329.565587 \r\nL 59.211566 328.526155 \r\nL 59.641087 328.526155 \r\nL 59.641087 323.328992 \r\nL 60.070608 323.328992 \r\nL 60.070608 322.289559 \r\nL 60.500129 322.289559 \r\nL 60.500129 320.470552 \r\nL 60.92965 320.470552 \r\nL 60.92965 308.517077 \r\nL 61.359171 308.517077 \r\nL 61.359171 302.540339 \r\nL 61.788692 302.540339 \r\nL 61.788692 302.020623 \r\nL 62.218213 302.020623 \r\nL 62.218213 301.241048 \r\nL 62.647734 301.241048 \r\nL 62.647734 300.721332 \r\nL 63.506776 300.721332 \r\nL 63.506776 293.445304 \r\nL 63.936297 293.445304 \r\nL 63.936297 293.185445 \r\nL 64.365818 293.185445 \r\nL 64.365818 288.767857 \r\nL 64.795339 288.767857 \r\nL 64.795339 278.893247 \r\nL 65.22486 278.893247 \r\nL 65.22486 277.07424 \r\nL 66.083902 277.07424 \r\nL 66.083902 273.955942 \r\nL 66.513424 273.955942 \r\nL 66.513424 270.577786 \r\nL 67.372466 270.577786 \r\nL 67.372466 265.380623 \r\nL 67.801987 265.380623 \r\nL 67.801987 262.262325 \r\nL 68.231508 262.262325 \r\nL 68.231508 261.742609 \r\nL 68.661029 261.742609 \r\nL 68.661029 259.663743 \r\nL 69.09055 259.663743 \r\nL 69.09055 259.403885 \r\nL 69.520071 259.403885 \r\nL 69.520071 242.772963 \r\nL 69.949592 242.772963 \r\nL 69.949592 226.661758 \r\nL 70.379113 226.661758 \r\nL 70.379113 226.401899 \r\nL 70.808634 226.401899 \r\nL 70.808634 224.582892 \r\nL 71.238155 224.582892 \r\nL 71.238155 223.283602 \r\nL 72.097197 223.283602 \r\nL 72.097197 223.023743 \r\nL 72.526718 223.023743 \r\nL 72.526718 219.385729 \r\nL 72.956239 219.385729 \r\nL 72.956239 213.928708 \r\nL 73.38576 213.928708 \r\nL 73.38576 210.550552 \r\nL 73.815281 210.550552 \r\nL 73.815281 203.534382 \r\nL 74.244802 203.534382 \r\nL 74.244802 202.494949 \r\nL 75.103845 202.494949 \r\nL 75.103845 200.675942 \r\nL 75.533366 200.675942 \r\nL 75.533366 198.856935 \r\nL 75.962887 198.856935 \r\nL 75.962887 198.07736 \r\nL 76.821929 198.07736 \r\nL 76.821929 195.998495 \r\nL 77.25145 195.998495 \r\nL 77.25145 194.699204 \r\nL 77.680971 194.699204 \r\nL 77.680971 194.439346 \r\nL 78.969534 194.439346 \r\nL 78.969534 193.91963 \r\nL 79.399055 193.91963 \r\nL 79.399055 188.462609 \r\nL 79.828576 188.462609 \r\nL 79.828576 185.344311 \r\nL 80.258097 185.344311 \r\nL 80.258097 185.084453 \r\nL 80.687618 185.084453 \r\nL 80.687618 184.824594 \r\nL 81.117139 184.824594 \r\nL 81.117139 183.785162 \r\nL 81.54666 183.785162 \r\nL 81.54666 181.706297 \r\nL 81.976181 181.706297 \r\nL 81.976181 179.887289 \r\nL 82.405702 179.887289 \r\nL 82.405702 178.328141 \r\nL 82.835223 178.328141 \r\nL 82.835223 177.288708 \r\nL 83.264744 177.288708 \r\nL 83.264744 176.768992 \r\nL 83.694265 176.768992 \r\nL 83.694265 173.910552 \r\nL 84.123787 173.910552 \r\nL 84.123787 171.31197 \r\nL 85.41235 171.31197 \r\nL 85.41235 169.233105 \r\nL 85.841871 169.233105 \r\nL 85.841871 168.973247 \r\nL 86.700913 168.973247 \r\nL 86.700913 168.453531 \r\nL 87.130434 168.453531 \r\nL 87.130434 167.673956 \r\nL 87.559955 167.673956 \r\nL 87.559955 166.894382 \r\nL 88.418997 166.894382 \r\nL 88.418997 165.595091 \r\nL 88.848518 165.595091 \r\nL 88.848518 165.335233 \r\nL 89.278039 165.335233 \r\nL 89.278039 164.035942 \r\nL 89.70756 164.035942 \r\nL 89.70756 163.776084 \r\nL 90.566602 163.776084 \r\nL 90.566602 163.256367 \r\nL 91.425644 163.256367 \r\nL 91.425644 162.736651 \r\nL 91.855165 162.736651 \r\nL 91.855165 162.216935 \r\nL 92.714207 162.216935 \r\nL 92.714207 161.957077 \r\nL 95.291334 161.957077 \r\nL 95.291334 161.697219 \r\nL 95.720855 161.697219 \r\nL 95.720855 160.657786 \r\nL 96.150376 160.657786 \r\nL 96.150376 160.13807 \r\nL 96.579897 160.13807 \r\nL 96.579897 159.878211 \r\nL 97.009418 159.878211 \r\nL 97.009418 159.618353 \r\nL 98.297981 159.618353 \r\nL 98.297981 159.098637 \r\nL 100.445586 159.098637 \r\nL 100.445586 158.319062 \r\nL 101.304628 158.319062 \r\nL 101.304628 155.980339 \r\nL 102.593192 155.980339 \r\nL 102.593192 155.720481 \r\nL 103.022713 155.720481 \r\nL 103.022713 155.460623 \r\nL 104.311276 155.460623 \r\nL 104.311276 153.641616 \r\nL 105.170318 153.641616 \r\nL 105.170318 153.381758 \r\nL 105.599839 153.381758 \r\nL 105.599839 152.862041 \r\nL 106.458881 152.862041 \r\nL 106.458881 151.043034 \r\nL 106.888402 151.043034 \r\nL 106.888402 150.783176 \r\nL 107.747444 150.783176 \r\nL 107.747444 149.743743 \r\nL 108.176965 149.743743 \r\nL 108.176965 148.964169 \r\nL 108.606486 148.964169 \r\nL 108.606486 148.184594 \r\nL 109.036007 148.184594 \r\nL 109.036007 147.40502 \r\nL 109.465528 147.40502 \r\nL 109.465528 146.365587 \r\nL 109.895049 146.365587 \r\nL 109.895049 145.586013 \r\nL 110.754091 145.586013 \r\nL 110.754091 144.806438 \r\nL 111.183613 144.806438 \r\nL 111.183613 143.247289 \r\nL 112.472176 143.247289 \r\nL 112.472176 142.727573 \r\nL 112.901697 142.727573 \r\nL 112.901697 138.569843 \r\nL 114.19026 138.569843 \r\nL 114.19026 137.790268 \r\nL 114.619781 137.790268 \r\nL 114.619781 137.010694 \r\nL 115.478823 137.010694 \r\nL 115.478823 135.711403 \r\nL 116.337865 135.711403 \r\nL 116.337865 135.191687 \r\nL 116.767386 135.191687 \r\nL 116.767386 134.931828 \r\nL 117.196907 134.931828 \r\nL 117.196907 133.112821 \r\nL 117.626428 133.112821 \r\nL 117.626428 132.073389 \r\nL 118.914991 132.073389 \r\nL 118.914991 131.813531 \r\nL 119.344512 131.813531 \r\nL 119.344512 129.474807 \r\nL 120.203555 129.474807 \r\nL 120.203555 128.955091 \r\nL 121.492118 128.955091 \r\nL 121.492118 128.175516 \r\nL 121.921639 128.175516 \r\nL 121.921639 124.79736 \r\nL 122.780681 124.79736 \r\nL 122.780681 123.757928 \r\nL 123.210202 123.757928 \r\nL 123.210202 123.49807 \r\nL 124.069244 123.49807 \r\nL 124.069244 123.238211 \r\nL 124.498765 123.238211 \r\nL 124.498765 120.119914 \r\nL 125.787328 120.119914 \r\nL 125.787328 117.001616 \r\nL 126.216849 117.001616 \r\nL 126.216849 116.222041 \r\nL 126.64637 116.222041 \r\nL 126.64637 113.103743 \r\nL 127.075891 113.103743 \r\nL 127.075891 108.426297 \r\nL 127.934933 108.426297 \r\nL 127.934933 108.166438 \r\nL 129.223497 108.166438 \r\nL 129.223497 107.90658 \r\nL 129.653018 107.90658 \r\nL 129.653018 107.646722 \r\nL 131.371102 107.646722 \r\nL 131.371102 107.386864 \r\nL 131.800623 107.386864 \r\nL 131.800623 106.607289 \r\nL 132.230144 106.607289 \r\nL 132.230144 106.347431 \r\nL 133.089186 106.347431 \r\nL 133.089186 105.827715 \r\nL 133.518707 105.827715 \r\nL 133.518707 105.307999 \r\nL 134.377749 105.307999 \r\nL 134.377749 104.268566 \r\nL 134.80727 104.268566 \r\nL 134.80727 103.229133 \r\nL 136.095833 103.229133 \r\nL 136.095833 102.189701 \r\nL 136.525354 102.189701 \r\nL 136.525354 100.89041 \r\nL 136.954875 100.89041 \r\nL 136.954875 100.370694 \r\nL 137.813918 100.370694 \r\nL 137.813918 99.071403 \r\nL 138.67296 99.071403 \r\nL 138.67296 98.551687 \r\nL 139.532002 98.551687 \r\nL 139.532002 97.512254 \r\nL 139.961523 97.512254 \r\nL 139.961523 97.252396 \r\nL 140.391044 97.252396 \r\nL 140.391044 96.992538 \r\nL 140.820565 96.992538 \r\nL 140.820565 95.953105 \r\nL 141.679607 95.953105 \r\nL 141.679607 95.693247 \r\nL 142.96817 95.693247 \r\nL 142.96817 95.433389 \r\nL 144.256733 95.433389 \r\nL 144.256733 95.173531 \r\nL 145.545296 95.173531 \r\nL 145.545296 94.913672 \r\nL 145.974817 94.913672 \r\nL 145.974817 94.393956 \r\nL 146.404338 94.393956 \r\nL 146.404338 93.614382 \r\nL 147.263381 93.614382 \r\nL 147.263381 93.094665 \r\nL 147.692902 93.094665 \r\nL 147.692902 91.795375 \r\nL 148.122423 91.795375 \r\nL 148.122423 91.275658 \r\nL 149.840507 91.275658 \r\nL 149.840507 91.0158 \r\nL 150.699549 91.0158 \r\nL 150.699549 90.755942 \r\nL 151.558591 90.755942 \r\nL 151.558591 89.456651 \r\nL 152.417633 89.456651 \r\nL 152.417633 89.196793 \r\nL 153.276675 89.196793 \r\nL 153.276675 88.677077 \r\nL 154.135717 88.677077 \r\nL 154.135717 88.417219 \r\nL 154.994759 88.417219 \r\nL 154.994759 88.15736 \r\nL 157.142365 88.15736 \r\nL 157.142365 87.117928 \r\nL 157.571886 87.117928 \r\nL 157.571886 86.598211 \r\nL 158.430928 86.598211 \r\nL 158.430928 85.298921 \r\nL 158.860449 85.298921 \r\nL 158.860449 84.259488 \r\nL 159.28997 84.259488 \r\nL 159.28997 83.99963 \r\nL 160.149012 83.99963 \r\nL 160.149012 83.220055 \r\nL 161.008054 83.220055 \r\nL 161.008054 82.700339 \r\nL 161.437575 82.700339 \r\nL 161.437575 82.180623 \r\nL 161.867096 82.180623 \r\nL 161.867096 81.920765 \r\nL 162.726138 81.920765 \r\nL 162.726138 79.841899 \r\nL 163.155659 79.841899 \r\nL 163.155659 78.022892 \r\nL 163.58518 78.022892 \r\nL 163.58518 77.763034 \r\nL 165.732786 77.763034 \r\nL 165.732786 77.243318 \r\nL 166.162307 77.243318 \r\nL 166.162307 76.98346 \r\nL 166.591828 76.98346 \r\nL 166.591828 76.723602 \r\nL 168.739433 76.723602 \r\nL 168.739433 76.203885 \r\nL 169.168954 76.203885 \r\nL 169.168954 75.944027 \r\nL 169.598475 75.944027 \r\nL 169.598475 75.684169 \r\nL 170.887038 75.684169 \r\nL 170.887038 75.164453 \r\nL 171.316559 75.164453 \r\nL 171.316559 74.904594 \r\nL 172.605122 74.904594 \r\nL 172.605122 74.644736 \r\nL 173.893686 74.644736 \r\nL 173.893686 74.384878 \r\nL 175.61177 74.384878 \r\nL 175.61177 73.865162 \r\nL 176.041291 73.865162 \r\nL 176.041291 73.085587 \r\nL 176.900333 73.085587 \r\nL 176.900333 72.825729 \r\nL 177.329854 72.825729 \r\nL 177.329854 72.306013 \r\nL 179.90698 72.306013 \r\nL 179.90698 72.046155 \r\nL 181.195543 72.046155 \r\nL 181.195543 71.526438 \r\nL 182.484107 71.526438 \r\nL 182.484107 71.006722 \r\nL 184.202191 71.006722 \r\nL 184.202191 70.227148 \r\nL 184.631712 70.227148 \r\nL 184.631712 69.707431 \r\nL 185.061233 69.707431 \r\nL 185.061233 69.447573 \r\nL 185.490754 69.447573 \r\nL 185.490754 69.187715 \r\nL 185.920275 69.187715 \r\nL 185.920275 68.927857 \r\nL 186.349796 68.927857 \r\nL 186.349796 67.368708 \r\nL 187.638359 67.368708 \r\nL 187.638359 67.10885 \r\nL 188.497401 67.10885 \r\nL 188.497401 66.848992 \r\nL 188.926922 66.848992 \r\nL 188.926922 65.809559 \r\nL 189.356443 65.809559 \r\nL 189.356443 65.549701 \r\nL 190.645006 65.549701 \r\nL 190.645006 65.289843 \r\nL 192.363091 65.289843 \r\nL 192.363091 64.770126 \r\nL 192.792612 64.770126 \r\nL 192.792612 64.510268 \r\nL 193.222133 64.510268 \r\nL 193.222133 64.25041 \r\nL 193.651654 64.25041 \r\nL 193.651654 63.990552 \r\nL 195.369738 63.990552 \r\nL 195.369738 63.730694 \r\nL 196.658301 63.730694 \r\nL 196.658301 62.431403 \r\nL 197.087822 62.431403 \r\nL 197.087822 62.171545 \r\nL 197.946864 62.171545 \r\nL 197.946864 61.911687 \r\nL 198.805906 61.911687 \r\nL 198.805906 61.651828 \r\nL 199.235427 61.651828 \r\nL 199.235427 61.132112 \r\nL 199.664948 61.132112 \r\nL 199.664948 60.872254 \r\nL 200.953512 60.872254 \r\nL 200.953512 60.612396 \r\nL 201.383033 60.612396 \r\nL 201.383033 60.09268 \r\nL 201.812554 60.09268 \r\nL 201.812554 59.832821 \r\nL 202.242075 59.832821 \r\nL 202.242075 59.572963 \r\nL 203.530638 59.572963 \r\nL 203.530638 59.313105 \r\nL 204.819201 59.313105 \r\nL 204.819201 59.053247 \r\nL 205.248722 59.053247 \r\nL 205.248722 58.793389 \r\nL 205.678243 58.793389 \r\nL 205.678243 58.013814 \r\nL 206.537285 58.013814 \r\nL 206.537285 57.494098 \r\nL 206.966806 57.494098 \r\nL 206.966806 57.23424 \r\nL 208.68489 57.23424 \r\nL 208.68489 56.194807 \r\nL 209.114412 56.194807 \r\nL 209.114412 55.155375 \r\nL 209.543933 55.155375 \r\nL 209.543933 54.895516 \r\nL 210.832496 54.895516 \r\nL 210.832496 54.635658 \r\nL 211.691538 54.635658 \r\nL 211.691538 53.596226 \r\nL 212.121059 53.596226 \r\nL 212.121059 53.336367 \r\nL 212.55058 53.336367 \r\nL 212.55058 53.076509 \r\nL 212.980101 53.076509 \r\nL 212.980101 52.816651 \r\nL 214.268664 52.816651 \r\nL 214.268664 52.296935 \r\nL 214.698185 52.296935 \r\nL 214.698185 52.037077 \r\nL 215.986748 52.037077 \r\nL 215.986748 51.51736 \r\nL 220.71148 51.51736 \r\nL 220.71148 51.257502 \r\nL 223.718127 51.257502 \r\nL 223.718127 50.997644 \r\nL 224.147648 50.997644 \r\nL 224.147648 50.737786 \r\nL 225.00669 50.737786 \r\nL 225.00669 50.477928 \r\nL 225.436211 50.477928 \r\nL 225.436211 49.958211 \r\nL 225.865732 49.958211 \r\nL 225.865732 49.698353 \r\nL 226.295253 49.698353 \r\nL 226.295253 47.879346 \r\nL 227.154296 47.879346 \r\nL 227.154296 47.619488 \r\nL 228.442859 47.619488 \r\nL 228.442859 47.35963 \r\nL 228.87238 47.35963 \r\nL 228.87238 46.839914 \r\nL 229.731422 46.839914 \r\nL 229.731422 46.580055 \r\nL 230.160943 46.580055 \r\nL 230.160943 46.320197 \r\nL 232.308548 46.320197 \r\nL 232.308548 46.060339 \r\nL 232.738069 46.060339 \r\nL 232.738069 45.800481 \r\nL 233.16759 45.800481 \r\nL 233.16759 45.280765 \r\nL 234.026632 45.280765 \r\nL 234.026632 44.761048 \r\nL 234.456153 44.761048 \r\nL 234.456153 44.50119 \r\nL 235.744716 44.50119 \r\nL 235.744716 43.981474 \r\nL 237.03328 43.981474 \r\nL 237.03328 43.721616 \r\nL 237.462801 43.721616 \r\nL 237.462801 43.201899 \r\nL 238.751364 43.201899 \r\nL 238.751364 42.942041 \r\nL 240.898969 42.942041 \r\nL 240.898969 42.682183 \r\nL 244.335137 42.682183 \r\nL 244.335137 42.422325 \r\nL 245.19418 42.422325 \r\nL 245.19418 42.162467 \r\nL 247.341785 42.162467 \r\nL 247.341785 41.902609 \r\nL 249.48939 41.902609 \r\nL 249.48939 41.64275 \r\nL 251.207474 41.64275 \r\nL 251.207474 41.382892 \r\nL 254.214122 41.382892 \r\nL 254.214122 40.863176 \r\nL 258.079811 40.863176 \r\nL 258.079811 40.603318 \r\nL 258.938853 40.603318 \r\nL 258.938853 40.34346 \r\nL 261.515979 40.34346 \r\nL 261.515979 40.083602 \r\nL 262.804543 40.083602 \r\nL 262.804543 39.823743 \r\nL 263.663585 39.823743 \r\nL 263.663585 39.304027 \r\nL 264.522627 39.304027 \r\nL 264.522627 39.044169 \r\nL 265.381669 39.044169 \r\nL 265.381669 38.524453 \r\nL 265.81119 38.524453 \r\nL 265.81119 38.264594 \r\nL 267.099753 38.264594 \r\nL 267.099753 38.004736 \r\nL 267.529274 38.004736 \r\nL 267.529274 37.744878 \r\nL 268.817837 37.744878 \r\nL 268.817837 37.48502 \r\nL 273.97209 37.48502 \r\nL 273.97209 37.225162 \r\nL 276.119695 37.225162 \r\nL 276.119695 36.705445 \r\nL 278.2673 36.705445 \r\nL 278.2673 36.445587 \r\nL 281.703469 36.445587 \r\nL 281.703469 36.185729 \r\nL 288.575805 36.185729 \r\nL 288.575805 35.925871 \r\nL 289.434848 35.925871 \r\nL 289.434848 35.666013 \r\nL 290.29389 35.666013 \r\nL 290.29389 35.406155 \r\nL 295.448142 35.406155 \r\nL 295.448142 35.146297 \r\nL 297.166226 35.146297 \r\nL 297.166226 34.886438 \r\nL 298.025268 34.886438 \r\nL 298.025268 34.62658 \r\nL 298.884311 34.62658 \r\nL 298.884311 34.366722 \r\nL 302.320479 34.366722 \r\nL 302.320479 33.847006 \r\nL 302.75 33.847006 \r\nL 302.75 33.587148 \r\nL 304.038563 33.587148 \r\nL 304.038563 33.327289 \r\nL 305.327126 33.327289 \r\nL 305.327126 32.807573 \r\nL 305.756647 32.807573 \r\nL 305.756647 32.027999 \r\nL 306.186168 32.027999 \r\nL 306.186168 31.248424 \r\nL 309.192816 31.248424 \r\nL 309.192816 30.988566 \r\nL 310.9109 30.988566 \r\nL 310.9109 30.728708 \r\nL 311.340421 30.728708 \r\nL 311.340421 30.46885 \r\nL 320.360363 30.46885 \r\nL 320.360363 30.208992 \r\nL 322.507968 30.208992 \r\nL 322.507968 29.689275 \r\nL 323.36701 29.689275 \r\nL 323.36701 29.429417 \r\nL 324.226052 29.429417 \r\nL 324.226052 29.169559 \r\nL 324.655573 29.169559 \r\nL 324.655573 28.649843 \r\nL 325.085095 28.649843 \r\nL 325.085095 28.389984 \r\nL 326.373658 28.389984 \r\nL 326.373658 28.130126 \r\nL 328.091742 28.130126 \r\nL 328.091742 27.870268 \r\nL 329.380305 27.870268 \r\nL 329.380305 27.61041 \r\nL 329.809826 27.61041 \r\nL 329.809826 27.350552 \r\nL 330.239347 27.350552 \r\nL 330.239347 26.830836 \r\nL 330.668868 26.830836 \r\nL 330.668868 26.570977 \r\nL 331.098389 26.570977 \r\nL 331.098389 26.311119 \r\nL 333.675515 26.311119 \r\nL 333.675515 25.791403 \r\nL 334.105037 25.791403 \r\nL 334.105037 25.531545 \r\nL 336.252642 25.531545 \r\nL 336.252642 25.271687 \r\nL 336.682163 25.271687 \r\nL 336.682163 25.011828 \r\nL 345.272584 25.011828 \r\nL 345.272584 24.75197 \r\nL 346.561147 24.75197 \r\nL 346.561147 24.492112 \r\nL 349.138273 24.492112 \r\nL 349.138273 24.232254 \r\nL 349.997315 24.232254 \r\nL 349.997315 23.972396 \r\nL 350.856357 23.972396 \r\nL 350.856357 23.45268 \r\nL 355.151568 23.45268 \r\nL 355.151568 22.932963 \r\nL 357.728694 22.932963 \r\nL 357.728694 22.413247 \r\nL 359.876299 22.413247 \r\nL 359.876299 22.153389 \r\nL 360.30582 22.153389 \r\nL 360.30582 21.113956 \r\nL 360.735341 21.113956 \r\nL 360.735341 20.854098 \r\nL 361.164863 20.854098 \r\nL 361.164863 20.59424 \r\nL 361.594384 20.59424 \r\nL 361.594384 20.334382 \r\nL 363.741989 20.334382 \r\nL 363.741989 20.074523 \r\nL 364.17151 20.074523 \r\nL 364.17151 19.814665 \r\nL 368.896241 19.814665 \r\nL 368.896241 19.554807 \r\nL 370.184805 19.554807 \r\nL 370.184805 19.294949 \r\nL 372.33241 19.294949 \r\nL 372.33241 19.035091 \r\nL 374.480015 19.035091 \r\nL 374.480015 18.775233 \r\nL 375.768578 18.775233 \r\nL 375.768578 18.515375 \r\nL 376.198099 18.515375 \r\nL 376.198099 18.255516 \r\nL 378.345704 18.255516 \r\nL 378.345704 17.995658 \r\nL 378.775226 17.995658 \r\nL 378.775226 17.7358 \r\nL 381.352352 17.7358 \r\nL 381.352352 17.475942 \r\nL 383.070436 17.475942 \r\nL 383.070436 17.216084 \r\nL 385.218041 17.216084 \r\nL 385.218041 16.956226 \r\nL 386.506604 16.956226 \r\nL 386.506604 16.696367 \r\nL 389.083731 16.696367 \r\nL 389.083731 16.436509 \r\nL 392.090378 16.436509 \r\nL 392.090378 15.397077 \r\nL 392.519899 15.397077 \r\nL 392.519899 15.137219 \r\nL 393.378941 15.137219 \r\nL 393.378941 14.87736 \r\nL 394.237983 14.87736 \r\nL 394.237983 14.617502 \r\nL 396.385588 14.617502 \r\nL 396.385588 14.357644 \r\nL 400.251278 14.357644 \r\nL 400.251278 14.097786 \r\nL 401.539841 14.097786 \r\nL 401.539841 13.837928 \r\nL 421.297809 13.837928 \r\nL 421.297809 13.57807 \r\nL 423.015893 13.57807 \r\nL 423.015893 13.318211 \r\nL 426.452062 13.318211 \r\nL 426.452062 13.058353 \r\nL 430.747272 13.058353 \r\nL 430.747272 12.798495 \r\nL 464.679435 12.798495 \r\nL 464.679435 12.538637 \r\nL 471.981293 12.538637 \r\nL 471.981293 12.278779 \r\nL 500.329682 12.278779 \r\nL 500.329682 12.018921 \r\nL 507.202019 12.018921 \r\nL 507.202019 11.759062 \r\nL 552.73125 11.759062 \r\nL 552.73125 11.759062 \r\n\" style=\"fill:none;stroke:#1f77b4;stroke-linecap:square;stroke-width:2;\"/>\r\n   </g>\r\n   <g id=\"line2d_26\">\r\n    <path clip-path=\"url(#pcf5ecb1bc8)\" d=\"M 52.76875 378.159062 \r\nL 552.73125 11.759062 \r\n\" style=\"fill:none;stroke:#000000;stroke-dasharray:5.55,2.4;stroke-dashoffset:0;stroke-width:1.5;\"/>\r\n   </g>\r\n   <g id=\"line2d_27\">\r\n    <path clip-path=\"url(#pcf5ecb1bc8)\" d=\"M 90.265938 378.159062 \r\nL 90.265938 162.216935 \r\n\" style=\"fill:none;stroke:#ff0000;stroke-dasharray:1.5,2.475;stroke-dashoffset:0;stroke-width:1.5;\"/>\r\n   </g>\r\n   <g id=\"line2d_28\">\r\n    <path clip-path=\"url(#pcf5ecb1bc8)\" d=\"M 52.76875 162.216935 \r\nL 90.265938 162.216935 \r\n\" style=\"fill:none;stroke:#ff0000;stroke-dasharray:1.5,2.475;stroke-dashoffset:0;stroke-width:1.5;\"/>\r\n   </g>\r\n   <g id=\"line2d_29\">\r\n    <defs>\r\n     <path d=\"M 0 3 \r\nC 0.795609 3 1.55874 2.683901 2.12132 2.12132 \r\nC 2.683901 1.55874 3 0.795609 3 0 \r\nC 3 -0.795609 2.683901 -1.55874 2.12132 -2.12132 \r\nC 1.55874 -2.683901 0.795609 -3 0 -3 \r\nC -0.795609 -3 -1.55874 -2.683901 -2.12132 -2.12132 \r\nC -2.683901 -1.55874 -3 -0.795609 -3 0 \r\nC -3 0.795609 -2.683901 1.55874 -2.12132 2.12132 \r\nC -1.55874 2.683901 -0.795609 3 0 3 \r\nz\r\n\" id=\"m04b058930b\" style=\"stroke:#ff0000;\"/>\r\n    </defs>\r\n    <g clip-path=\"url(#pcf5ecb1bc8)\">\r\n     <use style=\"fill:#ff0000;stroke:#ff0000;\" x=\"90.265938\" xlink:href=\"#m04b058930b\" y=\"162.216935\"/>\r\n    </g>\r\n   </g>\r\n   <g id=\"patch_3\">\r\n    <path d=\"M 52.76875 378.159062 \r\nL 52.76875 11.759062 \r\n\" style=\"fill:none;stroke:#000000;stroke-linecap:square;stroke-linejoin:miter;stroke-width:0.8;\"/>\r\n   </g>\r\n   <g id=\"patch_4\">\r\n    <path d=\"M 552.73125 378.159062 \r\nL 552.73125 11.759062 \r\n\" style=\"fill:none;stroke:#000000;stroke-linecap:square;stroke-linejoin:miter;stroke-width:0.8;\"/>\r\n   </g>\r\n   <g id=\"patch_5\">\r\n    <path d=\"M 52.76875 378.159062 \r\nL 552.73125 378.159062 \r\n\" style=\"fill:none;stroke:#000000;stroke-linecap:square;stroke-linejoin:miter;stroke-width:0.8;\"/>\r\n   </g>\r\n   <g id=\"patch_6\">\r\n    <path d=\"M 52.76875 11.759062 \r\nL 552.73125 11.759062 \r\n\" style=\"fill:none;stroke:#000000;stroke-linecap:square;stroke-linejoin:miter;stroke-width:0.8;\"/>\r\n   </g>\r\n  </g>\r\n </g>\r\n <defs>\r\n  <clipPath id=\"pcf5ecb1bc8\">\r\n   <rect height=\"366.4\" width=\"499.9625\" x=\"52.76875\" y=\"11.759062\"/>\r\n  </clipPath>\r\n </defs>\r\n</svg>\r\n",
      "image/png": "[encoded data removed]"
     },
     "metadata": {
      "needs_background": "light"
     }
    }
   ],
   "source": [
    "def plot_roc_curve(fpr, tpr, label=None):\n",
    "    plt.plot(fpr, tpr, linewidth=2, label=label)\n",
    "    plt.plot([0, 1], [0, 1], 'k--') # dashed diagonal\n",
    "    plt.axis([0, 1, 0, 1])                                    # Not shown in the book\n",
    "    plt.xlabel('False Positive Rate (Fall-Out)', fontsize=16) # Not shown\n",
    "    plt.ylabel('True Positive Rate (Recall)', fontsize=16)    # Not shown\n",
    "    plt.grid(True)                                            # Not shown\n",
    "\n",
    "red_dot_point = 0.075 # estimating\n",
    "plt.figure(figsize=(8, 6))                         # Not shown\n",
    "plot_roc_curve(fpr, tpr)\n",
    "plt.plot([red_dot_point, red_dot_point], [0., recall_90_precision], \"r:\") # Not shown\n",
    "plt.plot([0.0, red_dot_point], [recall_90_precision, recall_90_precision], \"r:\")  # Not shown\n",
    "plt.plot([red_dot_point], [recall_90_precision], \"ro\")               # Not shown\n",
    "save_fig(\"roc_curve_plot\")                         # Not shown\n",
    "plt.show()"
   ]
  },
  {
   "source": [
    "### Area Under Curve\n",
    "One way to compare classifiers is to measure the area under the curve (AUC). A perfect classifier will have a ROC AUC equal to 1, whereas a purely random classifier (shown by diagonal dashed black line) will have a ROC AUC equal to 0.5. Scikit-Learn provides a function to compute the ROC AUC"
   ],
   "cell_type": "markdown",
   "metadata": {}
  },
  {
   "cell_type": "code",
   "execution_count": 27,
   "metadata": {},
   "outputs": [
    {
     "output_type": "execute_result",
     "data": {
      "text/plain": [
       "0.8728711218347105"
      ]
     },
     "metadata": {},
     "execution_count": 27
    }
   ],
   "source": [
    "from sklearn.metrics import roc_auc_score\n",
    "\n",
    "roc_auc_score(y_train_C, y_scores)"
   ]
  },
  {
   "cell_type": "markdown",
   "metadata": {},
   "source": [
    "**Note**: we set `n_estimators=100` to be future-proof since this will be the default value in Scikit-Learn 0.22."
   ]
  },
  {
   "source": [
    "## Binary Classification with Random Forest Classifier"
   ],
   "cell_type": "markdown",
   "metadata": {}
  },
  {
   "cell_type": "code",
   "execution_count": 28,
   "metadata": {},
   "outputs": [],
   "source": [
    "from sklearn.ensemble import RandomForestClassifier\n",
    "forest_clf = RandomForestClassifier(n_estimators=100, random_state=42)\n",
    "y_probas_forest = cross_val_predict(forest_clf, X_train_cat1, y_train_C, cv=3,\n",
    "                                    method=\"predict_proba\")"
   ]
  },
  {
   "cell_type": "code",
   "execution_count": 29,
   "metadata": {},
   "outputs": [],
   "source": [
    "y_scores_forest = y_probas_forest[:, 1] # score = proba of positive class\n",
    "fpr_forest, tpr_forest, thresholds_forest = roc_curve(y_train_C,y_scores_forest)"
   ]
  },
  {
   "cell_type": "code",
   "execution_count": 30,
   "metadata": {},
   "outputs": [
    {
     "output_type": "stream",
     "name": "stdout",
     "text": [
      "Saving figure roc_curve_comparison_plot\n"
     ]
    },
    {
     "output_type": "display_data",
     "data": {
      "text/plain": "<Figure size 576x432 with 1 Axes>",
      "image/svg+xml": "<?xml version=\"1.0\" encoding=\"utf-8\" standalone=\"no\"?>\r\n<!DOCTYPE svg PUBLIC \"-//W3C//DTD SVG 1.1//EN\"\r\n  \"http://www.w3.org/Graphics/SVG/1.1/DTD/svg11.dtd\">\r\n<!-- Created with matplotlib (https://matplotlib.org/) -->\r\n<svg height=\"423.457812pt\" version=\"1.1\" viewBox=\"0 0 569.473125 423.457812\" width=\"569.473125pt\" xmlns=\"http://www.w3.org/2000/svg\" xmlns:xlink=\"http://www.w3.org/1999/xlink\">\r\n <defs>\r\n  <style type=\"text/css\">\r\n*{stroke-linecap:butt;stroke-linejoin:round;white-space:pre;}\r\n  </style>\r\n </defs>\r\n <g id=\"figure_1\">\r\n  <g id=\"patch_1\">\r\n   <path d=\"M 0 423.457812 \r\nL 569.473125 423.457812 \r\nL 569.473125 0 \r\nL 0 0 \r\nz\r\n\" style=\"fill:none;\"/>\r\n  </g>\r\n  <g id=\"axes_1\">\r\n   <g id=\"patch_2\">\r\n    <path d=\"M 52.76875 378.159062 \r\nL 552.73125 378.159062 \r\nL 552.73125 11.759062 \r\nL 52.76875 11.759062 \r\nz\r\n\" style=\"fill:#ffffff;\"/>\r\n   </g>\r\n   <g id=\"matplotlib.axis_1\">\r\n    <g id=\"xtick_1\">\r\n     <g id=\"line2d_1\">\r\n      <path clip-path=\"url(#p9fb34d8453)\" d=\"M 52.76875 378.159062 \r\nL 52.76875 11.759062 \r\n\" style=\"fill:none;stroke:#b0b0b0;stroke-linecap:square;stroke-width:0.8;\"/>\r\n     </g>\r\n     <g id=\"line2d_2\">\r\n      <defs>\r\n       <path d=\"M 0 0 \r\nL 0 3.5 \r\n\" id=\"m965f74c74b\" style=\"stroke:#000000;stroke-width:0.8;\"/>\r\n      </defs>\r\n      <g>\r\n       <use style=\"stroke:#000000;stroke-width:0.8;\" x=\"52.76875\" xlink:href=\"#m965f74c74b\" y=\"378.159062\"/>\r\n      </g>\r\n     </g>\r\n     <g id=\"text_1\">\r\n      <!-- 0.0 -->\r\n      <defs>\r\n       <path d=\"M 31.78125 66.40625 \r\nQ 24.171875 66.40625 20.328125 58.90625 \r\nQ 16.5 51.421875 16.5 36.375 \r\nQ 16.5 21.390625 20.328125 13.890625 \r\nQ 24.171875 6.390625 31.78125 6.390625 \r\nQ 39.453125 6.390625 43.28125 13.890625 \r\nQ 47.125 21.390625 47.125 36.375 \r\nQ 47.125 51.421875 43.28125 58.90625 \r\nQ 39.453125 66.40625 31.78125 66.40625 \r\nz\r\nM 31.78125 74.21875 \r\nQ 44.046875 74.21875 50.515625 64.515625 \r\nQ 56.984375 54.828125 56.984375 36.375 \r\nQ 56.984375 17.96875 50.515625 8.265625 \r\nQ 44.046875 -1.421875 31.78125 -1.421875 \r\nQ 19.53125 -1.421875 13.0625 8.265625 \r\nQ 6.59375 17.96875 6.59375 36.375 \r\nQ 6.59375 54.828125 13.0625 64.515625 \r\nQ 19.53125 74.21875 31.78125 74.21875 \r\nz\r\n\" id=\"DejaVuSans-48\"/>\r\n       <path d=\"M 10.6875 12.40625 \r\nL 21 12.40625 \r\nL 21 0 \r\nL 10.6875 0 \r\nz\r\n\" id=\"DejaVuSans-46\"/>\r\n      </defs>\r\n      <g transform=\"translate(43.226875 394.277187)scale(0.12 -0.12)\">\r\n       <use xlink:href=\"#DejaVuSans-48\"/>\r\n       <use x=\"63.623047\" xlink:href=\"#DejaVuSans-46\"/>\r\n       <use x=\"95.410156\" xlink:href=\"#DejaVuSans-48\"/>\r\n      </g>\r\n     </g>\r\n    </g>\r\n    <g id=\"xtick_2\">\r\n     <g id=\"line2d_3\">\r\n      <path clip-path=\"url(#p9fb34d8453)\" d=\"M 152.76125 378.159062 \r\nL 152.76125 11.759062 \r\n\" style=\"fill:none;stroke:#b0b0b0;stroke-linecap:square;stroke-width:0.8;\"/>\r\n     </g>\r\n     <g id=\"line2d_4\">\r\n      <g>\r\n       <use style=\"stroke:#000000;stroke-width:0.8;\" x=\"152.76125\" xlink:href=\"#m965f74c74b\" y=\"378.159062\"/>\r\n      </g>\r\n     </g>\r\n     <g id=\"text_2\">\r\n      <!-- 0.2 -->\r\n      <defs>\r\n       <path d=\"M 19.1875 8.296875 \r\nL 53.609375 8.296875 \r\nL 53.609375 0 \r\nL 7.328125 0 \r\nL 7.328125 8.296875 \r\nQ 12.9375 14.109375 22.625 23.890625 \r\nQ 32.328125 33.6875 34.8125 36.53125 \r\nQ 39.546875 41.84375 41.421875 45.53125 \r\nQ 43.3125 49.21875 43.3125 52.78125 \r\nQ 43.3125 58.59375 39.234375 62.25 \r\nQ 35.15625 65.921875 28.609375 65.921875 \r\nQ 23.96875 65.921875 18.8125 64.3125 \r\nQ 13.671875 62.703125 7.8125 59.421875 \r\nL 7.8125 69.390625 \r\nQ 13.765625 71.78125 18.9375 73 \r\nQ 24.125 74.21875 28.421875 74.21875 \r\nQ 39.75 74.21875 46.484375 68.546875 \r\nQ 53.21875 62.890625 53.21875 53.421875 \r\nQ 53.21875 48.921875 51.53125 44.890625 \r\nQ 49.859375 40.875 45.40625 35.40625 \r\nQ 44.1875 33.984375 37.640625 27.21875 \r\nQ 31.109375 20.453125 19.1875 8.296875 \r\nz\r\n\" id=\"DejaVuSans-50\"/>\r\n      </defs>\r\n      <g transform=\"translate(143.219375 394.277187)scale(0.12 -0.12)\">\r\n       <use xlink:href=\"#DejaVuSans-48\"/>\r\n       <use x=\"63.623047\" xlink:href=\"#DejaVuSans-46\"/>\r\n       <use x=\"95.410156\" xlink:href=\"#DejaVuSans-50\"/>\r\n      </g>\r\n     </g>\r\n    </g>\r\n    <g id=\"xtick_3\">\r\n     <g id=\"line2d_5\">\r\n      <path clip-path=\"url(#p9fb34d8453)\" d=\"M 252.75375 378.159062 \r\nL 252.75375 11.759062 \r\n\" style=\"fill:none;stroke:#b0b0b0;stroke-linecap:square;stroke-width:0.8;\"/>\r\n     </g>\r\n     <g id=\"line2d_6\">\r\n      <g>\r\n       <use style=\"stroke:#000000;stroke-width:0.8;\" x=\"252.75375\" xlink:href=\"#m965f74c74b\" y=\"378.159062\"/>\r\n      </g>\r\n     </g>\r\n     <g id=\"text_3\">\r\n      <!-- 0.4 -->\r\n      <defs>\r\n       <path d=\"M 37.796875 64.3125 \r\nL 12.890625 25.390625 \r\nL 37.796875 25.390625 \r\nz\r\nM 35.203125 72.90625 \r\nL 47.609375 72.90625 \r\nL 47.609375 25.390625 \r\nL 58.015625 25.390625 \r\nL 58.015625 17.1875 \r\nL 47.609375 17.1875 \r\nL 47.609375 0 \r\nL 37.796875 0 \r\nL 37.796875 17.1875 \r\nL 4.890625 17.1875 \r\nL 4.890625 26.703125 \r\nz\r\n\" id=\"DejaVuSans-52\"/>\r\n      </defs>\r\n      <g transform=\"translate(243.211875 394.277187)scale(0.12 -0.12)\">\r\n       <use xlink:href=\"#DejaVuSans-48\"/>\r\n       <use x=\"63.623047\" xlink:href=\"#DejaVuSans-46\"/>\r\n       <use x=\"95.410156\" xlink:href=\"#DejaVuSans-52\"/>\r\n      </g>\r\n     </g>\r\n    </g>\r\n    <g id=\"xtick_4\">\r\n     <g id=\"line2d_7\">\r\n      <path clip-path=\"url(#p9fb34d8453)\" d=\"M 352.74625 378.159062 \r\nL 352.74625 11.759062 \r\n\" style=\"fill:none;stroke:#b0b0b0;stroke-linecap:square;stroke-width:0.8;\"/>\r\n     </g>\r\n     <g id=\"line2d_8\">\r\n      <g>\r\n       <use style=\"stroke:#000000;stroke-width:0.8;\" x=\"352.74625\" xlink:href=\"#m965f74c74b\" y=\"378.159062\"/>\r\n      </g>\r\n     </g>\r\n     <g id=\"text_4\">\r\n      <!-- 0.6 -->\r\n      <defs>\r\n       <path d=\"M 33.015625 40.375 \r\nQ 26.375 40.375 22.484375 35.828125 \r\nQ 18.609375 31.296875 18.609375 23.390625 \r\nQ 18.609375 15.53125 22.484375 10.953125 \r\nQ 26.375 6.390625 33.015625 6.390625 \r\nQ 39.65625 6.390625 43.53125 10.953125 \r\nQ 47.40625 15.53125 47.40625 23.390625 \r\nQ 47.40625 31.296875 43.53125 35.828125 \r\nQ 39.65625 40.375 33.015625 40.375 \r\nz\r\nM 52.59375 71.296875 \r\nL 52.59375 62.3125 \r\nQ 48.875 64.0625 45.09375 64.984375 \r\nQ 41.3125 65.921875 37.59375 65.921875 \r\nQ 27.828125 65.921875 22.671875 59.328125 \r\nQ 17.53125 52.734375 16.796875 39.40625 \r\nQ 19.671875 43.65625 24.015625 45.921875 \r\nQ 28.375 48.1875 33.59375 48.1875 \r\nQ 44.578125 48.1875 50.953125 41.515625 \r\nQ 57.328125 34.859375 57.328125 23.390625 \r\nQ 57.328125 12.15625 50.6875 5.359375 \r\nQ 44.046875 -1.421875 33.015625 -1.421875 \r\nQ 20.359375 -1.421875 13.671875 8.265625 \r\nQ 6.984375 17.96875 6.984375 36.375 \r\nQ 6.984375 53.65625 15.1875 63.9375 \r\nQ 23.390625 74.21875 37.203125 74.21875 \r\nQ 40.921875 74.21875 44.703125 73.484375 \r\nQ 48.484375 72.75 52.59375 71.296875 \r\nz\r\n\" id=\"DejaVuSans-54\"/>\r\n      </defs>\r\n      <g transform=\"translate(343.204375 394.277187)scale(0.12 -0.12)\">\r\n       <use xlink:href=\"#DejaVuSans-48\"/>\r\n       <use x=\"63.623047\" xlink:href=\"#DejaVuSans-46\"/>\r\n       <use x=\"95.410156\" xlink:href=\"#DejaVuSans-54\"/>\r\n      </g>\r\n     </g>\r\n    </g>\r\n    <g id=\"xtick_5\">\r\n     <g id=\"line2d_9\">\r\n      <path clip-path=\"url(#p9fb34d8453)\" d=\"M 452.73875 378.159062 \r\nL 452.73875 11.759062 \r\n\" style=\"fill:none;stroke:#b0b0b0;stroke-linecap:square;stroke-width:0.8;\"/>\r\n     </g>\r\n     <g id=\"line2d_10\">\r\n      <g>\r\n       <use style=\"stroke:#000000;stroke-width:0.8;\" x=\"452.73875\" xlink:href=\"#m965f74c74b\" y=\"378.159062\"/>\r\n      </g>\r\n     </g>\r\n     <g id=\"text_5\">\r\n      <!-- 0.8 -->\r\n      <defs>\r\n       <path d=\"M 31.78125 34.625 \r\nQ 24.75 34.625 20.71875 30.859375 \r\nQ 16.703125 27.09375 16.703125 20.515625 \r\nQ 16.703125 13.921875 20.71875 10.15625 \r\nQ 24.75 6.390625 31.78125 6.390625 \r\nQ 38.8125 6.390625 42.859375 10.171875 \r\nQ 46.921875 13.96875 46.921875 20.515625 \r\nQ 46.921875 27.09375 42.890625 30.859375 \r\nQ 38.875 34.625 31.78125 34.625 \r\nz\r\nM 21.921875 38.8125 \r\nQ 15.578125 40.375 12.03125 44.71875 \r\nQ 8.5 49.078125 8.5 55.328125 \r\nQ 8.5 64.0625 14.71875 69.140625 \r\nQ 20.953125 74.21875 31.78125 74.21875 \r\nQ 42.671875 74.21875 48.875 69.140625 \r\nQ 55.078125 64.0625 55.078125 55.328125 \r\nQ 55.078125 49.078125 51.53125 44.71875 \r\nQ 48 40.375 41.703125 38.8125 \r\nQ 48.828125 37.15625 52.796875 32.3125 \r\nQ 56.78125 27.484375 56.78125 20.515625 \r\nQ 56.78125 9.90625 50.3125 4.234375 \r\nQ 43.84375 -1.421875 31.78125 -1.421875 \r\nQ 19.734375 -1.421875 13.25 4.234375 \r\nQ 6.78125 9.90625 6.78125 20.515625 \r\nQ 6.78125 27.484375 10.78125 32.3125 \r\nQ 14.796875 37.15625 21.921875 38.8125 \r\nz\r\nM 18.3125 54.390625 \r\nQ 18.3125 48.734375 21.84375 45.5625 \r\nQ 25.390625 42.390625 31.78125 42.390625 \r\nQ 38.140625 42.390625 41.71875 45.5625 \r\nQ 45.3125 48.734375 45.3125 54.390625 \r\nQ 45.3125 60.0625 41.71875 63.234375 \r\nQ 38.140625 66.40625 31.78125 66.40625 \r\nQ 25.390625 66.40625 21.84375 63.234375 \r\nQ 18.3125 60.0625 18.3125 54.390625 \r\nz\r\n\" id=\"DejaVuSans-56\"/>\r\n      </defs>\r\n      <g transform=\"translate(443.196875 394.277187)scale(0.12 -0.12)\">\r\n       <use xlink:href=\"#DejaVuSans-48\"/>\r\n       <use x=\"63.623047\" xlink:href=\"#DejaVuSans-46\"/>\r\n       <use x=\"95.410156\" xlink:href=\"#DejaVuSans-56\"/>\r\n      </g>\r\n     </g>\r\n    </g>\r\n    <g id=\"xtick_6\">\r\n     <g id=\"line2d_11\">\r\n      <path clip-path=\"url(#p9fb34d8453)\" d=\"M 552.73125 378.159062 \r\nL 552.73125 11.759062 \r\n\" style=\"fill:none;stroke:#b0b0b0;stroke-linecap:square;stroke-width:0.8;\"/>\r\n     </g>\r\n     <g id=\"line2d_12\">\r\n      <g>\r\n       <use style=\"stroke:#000000;stroke-width:0.8;\" x=\"552.73125\" xlink:href=\"#m965f74c74b\" y=\"378.159062\"/>\r\n      </g>\r\n     </g>\r\n     <g id=\"text_6\">\r\n      <!-- 1.0 -->\r\n      <defs>\r\n       <path d=\"M 12.40625 8.296875 \r\nL 28.515625 8.296875 \r\nL 28.515625 63.921875 \r\nL 10.984375 60.40625 \r\nL 10.984375 69.390625 \r\nL 28.421875 72.90625 \r\nL 38.28125 72.90625 \r\nL 38.28125 8.296875 \r\nL 54.390625 8.296875 \r\nL 54.390625 0 \r\nL 12.40625 0 \r\nz\r\n\" id=\"DejaVuSans-49\"/>\r\n      </defs>\r\n      <g transform=\"translate(543.189375 394.277187)scale(0.12 -0.12)\">\r\n       <use xlink:href=\"#DejaVuSans-49\"/>\r\n       <use x=\"63.623047\" xlink:href=\"#DejaVuSans-46\"/>\r\n       <use x=\"95.410156\" xlink:href=\"#DejaVuSans-48\"/>\r\n      </g>\r\n     </g>\r\n    </g>\r\n    <g id=\"text_7\">\r\n     <!-- False Positive Rate (Fall-Out) -->\r\n     <defs>\r\n      <path d=\"M 9.8125 72.90625 \r\nL 51.703125 72.90625 \r\nL 51.703125 64.59375 \r\nL 19.671875 64.59375 \r\nL 19.671875 43.109375 \r\nL 48.578125 43.109375 \r\nL 48.578125 34.8125 \r\nL 19.671875 34.8125 \r\nL 19.671875 0 \r\nL 9.8125 0 \r\nz\r\n\" id=\"DejaVuSans-70\"/>\r\n      <path d=\"M 34.28125 27.484375 \r\nQ 23.390625 27.484375 19.1875 25 \r\nQ 14.984375 22.515625 14.984375 16.5 \r\nQ 14.984375 11.71875 18.140625 8.90625 \r\nQ 21.296875 6.109375 26.703125 6.109375 \r\nQ 34.1875 6.109375 38.703125 11.40625 \r\nQ 43.21875 16.703125 43.21875 25.484375 \r\nL 43.21875 27.484375 \r\nz\r\nM 52.203125 31.203125 \r\nL 52.203125 0 \r\nL 43.21875 0 \r\nL 43.21875 8.296875 \r\nQ 40.140625 3.328125 35.546875 0.953125 \r\nQ 30.953125 -1.421875 24.3125 -1.421875 \r\nQ 15.921875 -1.421875 10.953125 3.296875 \r\nQ 6 8.015625 6 15.921875 \r\nQ 6 25.140625 12.171875 29.828125 \r\nQ 18.359375 34.515625 30.609375 34.515625 \r\nL 43.21875 34.515625 \r\nL 43.21875 35.40625 \r\nQ 43.21875 41.609375 39.140625 45 \r\nQ 35.0625 48.390625 27.6875 48.390625 \r\nQ 23 48.390625 18.546875 47.265625 \r\nQ 14.109375 46.140625 10.015625 43.890625 \r\nL 10.015625 52.203125 \r\nQ 14.9375 54.109375 19.578125 55.046875 \r\nQ 24.21875 56 28.609375 56 \r\nQ 40.484375 56 46.34375 49.84375 \r\nQ 52.203125 43.703125 52.203125 31.203125 \r\nz\r\n\" id=\"DejaVuSans-97\"/>\r\n      <path d=\"M 9.421875 75.984375 \r\nL 18.40625 75.984375 \r\nL 18.40625 0 \r\nL 9.421875 0 \r\nz\r\n\" id=\"DejaVuSans-108\"/>\r\n      <path d=\"M 44.28125 53.078125 \r\nL 44.28125 44.578125 \r\nQ 40.484375 46.53125 36.375 47.5 \r\nQ 32.28125 48.484375 27.875 48.484375 \r\nQ 21.1875 48.484375 17.84375 46.4375 \r\nQ 14.5 44.390625 14.5 40.28125 \r\nQ 14.5 37.15625 16.890625 35.375 \r\nQ 19.28125 33.59375 26.515625 31.984375 \r\nL 29.59375 31.296875 \r\nQ 39.15625 29.25 43.1875 25.515625 \r\nQ 47.21875 21.78125 47.21875 15.09375 \r\nQ 47.21875 7.46875 41.1875 3.015625 \r\nQ 35.15625 -1.421875 24.609375 -1.421875 \r\nQ 20.21875 -1.421875 15.453125 -0.5625 \r\nQ 10.6875 0.296875 5.421875 2 \r\nL 5.421875 11.28125 \r\nQ 10.40625 8.6875 15.234375 7.390625 \r\nQ 20.0625 6.109375 24.8125 6.109375 \r\nQ 31.15625 6.109375 34.5625 8.28125 \r\nQ 37.984375 10.453125 37.984375 14.40625 \r\nQ 37.984375 18.0625 35.515625 20.015625 \r\nQ 33.0625 21.96875 24.703125 23.78125 \r\nL 21.578125 24.515625 \r\nQ 13.234375 26.265625 9.515625 29.90625 \r\nQ 5.8125 33.546875 5.8125 39.890625 \r\nQ 5.8125 47.609375 11.28125 51.796875 \r\nQ 16.75 56 26.8125 56 \r\nQ 31.78125 56 36.171875 55.265625 \r\nQ 40.578125 54.546875 44.28125 53.078125 \r\nz\r\n\" id=\"DejaVuSans-115\"/>\r\n      <path d=\"M 56.203125 29.59375 \r\nL 56.203125 25.203125 \r\nL 14.890625 25.203125 \r\nQ 15.484375 15.921875 20.484375 11.0625 \r\nQ 25.484375 6.203125 34.421875 6.203125 \r\nQ 39.59375 6.203125 44.453125 7.46875 \r\nQ 49.3125 8.734375 54.109375 11.28125 \r\nL 54.109375 2.78125 \r\nQ 49.265625 0.734375 44.1875 -0.34375 \r\nQ 39.109375 -1.421875 33.890625 -1.421875 \r\nQ 20.796875 -1.421875 13.15625 6.1875 \r\nQ 5.515625 13.8125 5.515625 26.8125 \r\nQ 5.515625 40.234375 12.765625 48.109375 \r\nQ 20.015625 56 32.328125 56 \r\nQ 43.359375 56 49.78125 48.890625 \r\nQ 56.203125 41.796875 56.203125 29.59375 \r\nz\r\nM 47.21875 32.234375 \r\nQ 47.125 39.59375 43.09375 43.984375 \r\nQ 39.0625 48.390625 32.421875 48.390625 \r\nQ 24.90625 48.390625 20.390625 44.140625 \r\nQ 15.875 39.890625 15.1875 32.171875 \r\nz\r\n\" id=\"DejaVuSans-101\"/>\r\n      <path id=\"DejaVuSans-32\"/>\r\n      <path d=\"M 19.671875 64.796875 \r\nL 19.671875 37.40625 \r\nL 32.078125 37.40625 \r\nQ 38.96875 37.40625 42.71875 40.96875 \r\nQ 46.484375 44.53125 46.484375 51.125 \r\nQ 46.484375 57.671875 42.71875 61.234375 \r\nQ 38.96875 64.796875 32.078125 64.796875 \r\nz\r\nM 9.8125 72.90625 \r\nL 32.078125 72.90625 \r\nQ 44.34375 72.90625 50.609375 67.359375 \r\nQ 56.890625 61.8125 56.890625 51.125 \r\nQ 56.890625 40.328125 50.609375 34.8125 \r\nQ 44.34375 29.296875 32.078125 29.296875 \r\nL 19.671875 29.296875 \r\nL 19.671875 0 \r\nL 9.8125 0 \r\nz\r\n\" id=\"DejaVuSans-80\"/>\r\n      <path d=\"M 30.609375 48.390625 \r\nQ 23.390625 48.390625 19.1875 42.75 \r\nQ 14.984375 37.109375 14.984375 27.296875 \r\nQ 14.984375 17.484375 19.15625 11.84375 \r\nQ 23.34375 6.203125 30.609375 6.203125 \r\nQ 37.796875 6.203125 41.984375 11.859375 \r\nQ 46.1875 17.53125 46.1875 27.296875 \r\nQ 46.1875 37.015625 41.984375 42.703125 \r\nQ 37.796875 48.390625 30.609375 48.390625 \r\nz\r\nM 30.609375 56 \r\nQ 42.328125 56 49.015625 48.375 \r\nQ 55.71875 40.765625 55.71875 27.296875 \r\nQ 55.71875 13.875 49.015625 6.21875 \r\nQ 42.328125 -1.421875 30.609375 -1.421875 \r\nQ 18.84375 -1.421875 12.171875 6.21875 \r\nQ 5.515625 13.875 5.515625 27.296875 \r\nQ 5.515625 40.765625 12.171875 48.375 \r\nQ 18.84375 56 30.609375 56 \r\nz\r\n\" id=\"DejaVuSans-111\"/>\r\n      <path d=\"M 9.421875 54.6875 \r\nL 18.40625 54.6875 \r\nL 18.40625 0 \r\nL 9.421875 0 \r\nz\r\nM 9.421875 75.984375 \r\nL 18.40625 75.984375 \r\nL 18.40625 64.59375 \r\nL 9.421875 64.59375 \r\nz\r\n\" id=\"DejaVuSans-105\"/>\r\n      <path d=\"M 18.3125 70.21875 \r\nL 18.3125 54.6875 \r\nL 36.8125 54.6875 \r\nL 36.8125 47.703125 \r\nL 18.3125 47.703125 \r\nL 18.3125 18.015625 \r\nQ 18.3125 11.328125 20.140625 9.421875 \r\nQ 21.96875 7.515625 27.59375 7.515625 \r\nL 36.8125 7.515625 \r\nL 36.8125 0 \r\nL 27.59375 0 \r\nQ 17.1875 0 13.234375 3.875 \r\nQ 9.28125 7.765625 9.28125 18.015625 \r\nL 9.28125 47.703125 \r\nL 2.6875 47.703125 \r\nL 2.6875 54.6875 \r\nL 9.28125 54.6875 \r\nL 9.28125 70.21875 \r\nz\r\n\" id=\"DejaVuSans-116\"/>\r\n      <path d=\"M 2.984375 54.6875 \r\nL 12.5 54.6875 \r\nL 29.59375 8.796875 \r\nL 46.6875 54.6875 \r\nL 56.203125 54.6875 \r\nL 35.6875 0 \r\nL 23.484375 0 \r\nz\r\n\" id=\"DejaVuSans-118\"/>\r\n      <path d=\"M 44.390625 34.1875 \r\nQ 47.5625 33.109375 50.5625 29.59375 \r\nQ 53.5625 26.078125 56.59375 19.921875 \r\nL 66.609375 0 \r\nL 56 0 \r\nL 46.6875 18.703125 \r\nQ 43.0625 26.03125 39.671875 28.421875 \r\nQ 36.28125 30.8125 30.421875 30.8125 \r\nL 19.671875 30.8125 \r\nL 19.671875 0 \r\nL 9.8125 0 \r\nL 9.8125 72.90625 \r\nL 32.078125 72.90625 \r\nQ 44.578125 72.90625 50.734375 67.671875 \r\nQ 56.890625 62.453125 56.890625 51.90625 \r\nQ 56.890625 45.015625 53.6875 40.46875 \r\nQ 50.484375 35.9375 44.390625 34.1875 \r\nz\r\nM 19.671875 64.796875 \r\nL 19.671875 38.921875 \r\nL 32.078125 38.921875 \r\nQ 39.203125 38.921875 42.84375 42.21875 \r\nQ 46.484375 45.515625 46.484375 51.90625 \r\nQ 46.484375 58.296875 42.84375 61.546875 \r\nQ 39.203125 64.796875 32.078125 64.796875 \r\nz\r\n\" id=\"DejaVuSans-82\"/>\r\n      <path d=\"M 31 75.875 \r\nQ 24.46875 64.65625 21.28125 53.65625 \r\nQ 18.109375 42.671875 18.109375 31.390625 \r\nQ 18.109375 20.125 21.3125 9.0625 \r\nQ 24.515625 -2 31 -13.1875 \r\nL 23.1875 -13.1875 \r\nQ 15.875 -1.703125 12.234375 9.375 \r\nQ 8.59375 20.453125 8.59375 31.390625 \r\nQ 8.59375 42.28125 12.203125 53.3125 \r\nQ 15.828125 64.359375 23.1875 75.875 \r\nz\r\n\" id=\"DejaVuSans-40\"/>\r\n      <path d=\"M 4.890625 31.390625 \r\nL 31.203125 31.390625 \r\nL 31.203125 23.390625 \r\nL 4.890625 23.390625 \r\nz\r\n\" id=\"DejaVuSans-45\"/>\r\n      <path d=\"M 39.40625 66.21875 \r\nQ 28.65625 66.21875 22.328125 58.203125 \r\nQ 16.015625 50.203125 16.015625 36.375 \r\nQ 16.015625 22.609375 22.328125 14.59375 \r\nQ 28.65625 6.59375 39.40625 6.59375 \r\nQ 50.140625 6.59375 56.421875 14.59375 \r\nQ 62.703125 22.609375 62.703125 36.375 \r\nQ 62.703125 50.203125 56.421875 58.203125 \r\nQ 50.140625 66.21875 39.40625 66.21875 \r\nz\r\nM 39.40625 74.21875 \r\nQ 54.734375 74.21875 63.90625 63.9375 \r\nQ 73.09375 53.65625 73.09375 36.375 \r\nQ 73.09375 19.140625 63.90625 8.859375 \r\nQ 54.734375 -1.421875 39.40625 -1.421875 \r\nQ 24.03125 -1.421875 14.8125 8.828125 \r\nQ 5.609375 19.09375 5.609375 36.375 \r\nQ 5.609375 53.65625 14.8125 63.9375 \r\nQ 24.03125 74.21875 39.40625 74.21875 \r\nz\r\n\" id=\"DejaVuSans-79\"/>\r\n      <path d=\"M 8.5 21.578125 \r\nL 8.5 54.6875 \r\nL 17.484375 54.6875 \r\nL 17.484375 21.921875 \r\nQ 17.484375 14.15625 20.5 10.265625 \r\nQ 23.53125 6.390625 29.59375 6.390625 \r\nQ 36.859375 6.390625 41.078125 11.03125 \r\nQ 45.3125 15.671875 45.3125 23.6875 \r\nL 45.3125 54.6875 \r\nL 54.296875 54.6875 \r\nL 54.296875 0 \r\nL 45.3125 0 \r\nL 45.3125 8.40625 \r\nQ 42.046875 3.421875 37.71875 1 \r\nQ 33.40625 -1.421875 27.6875 -1.421875 \r\nQ 18.265625 -1.421875 13.375 4.4375 \r\nQ 8.5 10.296875 8.5 21.578125 \r\nz\r\nM 31.109375 56 \r\nz\r\n\" id=\"DejaVuSans-117\"/>\r\n      <path d=\"M 8.015625 75.875 \r\nL 15.828125 75.875 \r\nQ 23.140625 64.359375 26.78125 53.3125 \r\nQ 30.421875 42.28125 30.421875 31.390625 \r\nQ 30.421875 20.453125 26.78125 9.375 \r\nQ 23.140625 -1.703125 15.828125 -13.1875 \r\nL 8.015625 -13.1875 \r\nQ 14.5 -2 17.703125 9.0625 \r\nQ 20.90625 20.125 20.90625 31.390625 \r\nQ 20.90625 42.671875 17.703125 53.65625 \r\nQ 14.5 64.65625 8.015625 75.875 \r\nz\r\n\" id=\"DejaVuSans-41\"/>\r\n     </defs>\r\n     <g transform=\"translate(187.10625 412.930312)scale(0.16 -0.16)\">\r\n      <use xlink:href=\"#DejaVuSans-70\"/>\r\n      <use x=\"57.378906\" xlink:href=\"#DejaVuSans-97\"/>\r\n      <use x=\"118.658203\" xlink:href=\"#DejaVuSans-108\"/>\r\n      <use x=\"146.441406\" xlink:href=\"#DejaVuSans-115\"/>\r\n      <use x=\"198.541016\" xlink:href=\"#DejaVuSans-101\"/>\r\n      <use x=\"260.064453\" xlink:href=\"#DejaVuSans-32\"/>\r\n      <use x=\"291.851562\" xlink:href=\"#DejaVuSans-80\"/>\r\n      <use x=\"352.107422\" xlink:href=\"#DejaVuSans-111\"/>\r\n      <use x=\"413.289062\" xlink:href=\"#DejaVuSans-115\"/>\r\n      <use x=\"465.388672\" xlink:href=\"#DejaVuSans-105\"/>\r\n      <use x=\"493.171875\" xlink:href=\"#DejaVuSans-116\"/>\r\n      <use x=\"532.380859\" xlink:href=\"#DejaVuSans-105\"/>\r\n      <use x=\"560.164062\" xlink:href=\"#DejaVuSans-118\"/>\r\n      <use x=\"619.34375\" xlink:href=\"#DejaVuSans-101\"/>\r\n      <use x=\"680.867188\" xlink:href=\"#DejaVuSans-32\"/>\r\n      <use x=\"712.654297\" xlink:href=\"#DejaVuSans-82\"/>\r\n      <use x=\"782.105469\" xlink:href=\"#DejaVuSans-97\"/>\r\n      <use x=\"843.384766\" xlink:href=\"#DejaVuSans-116\"/>\r\n      <use x=\"882.59375\" xlink:href=\"#DejaVuSans-101\"/>\r\n      <use x=\"944.117188\" xlink:href=\"#DejaVuSans-32\"/>\r\n      <use x=\"975.904297\" xlink:href=\"#DejaVuSans-40\"/>\r\n      <use x=\"1014.917969\" xlink:href=\"#DejaVuSans-70\"/>\r\n      <use x=\"1072.296875\" xlink:href=\"#DejaVuSans-97\"/>\r\n      <use x=\"1133.576172\" xlink:href=\"#DejaVuSans-108\"/>\r\n      <use x=\"1161.359375\" xlink:href=\"#DejaVuSans-108\"/>\r\n      <use x=\"1189.142578\" xlink:href=\"#DejaVuSans-45\"/>\r\n      <use x=\"1225.257812\" xlink:href=\"#DejaVuSans-79\"/>\r\n      <use x=\"1303.96875\" xlink:href=\"#DejaVuSans-117\"/>\r\n      <use x=\"1367.347656\" xlink:href=\"#DejaVuSans-116\"/>\r\n      <use x=\"1406.556641\" xlink:href=\"#DejaVuSans-41\"/>\r\n     </g>\r\n    </g>\r\n   </g>\r\n   <g id=\"matplotlib.axis_2\">\r\n    <g id=\"ytick_1\">\r\n     <g id=\"line2d_13\">\r\n      <path clip-path=\"url(#p9fb34d8453)\" d=\"M 52.76875 378.159062 \r\nL 552.73125 378.159062 \r\n\" style=\"fill:none;stroke:#b0b0b0;stroke-linecap:square;stroke-width:0.8;\"/>\r\n     </g>\r\n     <g id=\"line2d_14\">\r\n      <defs>\r\n       <path d=\"M 0 0 \r\nL -3.5 0 \r\n\" id=\"mc73f564fe7\" style=\"stroke:#000000;stroke-width:0.8;\"/>\r\n      </defs>\r\n      <g>\r\n       <use style=\"stroke:#000000;stroke-width:0.8;\" x=\"52.76875\" xlink:href=\"#mc73f564fe7\" y=\"378.159062\"/>\r\n      </g>\r\n     </g>\r\n     <g id=\"text_8\">\r\n      <!-- 0.0 -->\r\n      <g transform=\"translate(26.685 382.718125)scale(0.12 -0.12)\">\r\n       <use xlink:href=\"#DejaVuSans-48\"/>\r\n       <use x=\"63.623047\" xlink:href=\"#DejaVuSans-46\"/>\r\n       <use x=\"95.410156\" xlink:href=\"#DejaVuSans-48\"/>\r\n      </g>\r\n     </g>\r\n    </g>\r\n    <g id=\"ytick_2\">\r\n     <g id=\"line2d_15\">\r\n      <path clip-path=\"url(#p9fb34d8453)\" d=\"M 52.76875 304.879062 \r\nL 552.73125 304.879062 \r\n\" style=\"fill:none;stroke:#b0b0b0;stroke-linecap:square;stroke-width:0.8;\"/>\r\n     </g>\r\n     <g id=\"line2d_16\">\r\n      <g>\r\n       <use style=\"stroke:#000000;stroke-width:0.8;\" x=\"52.76875\" xlink:href=\"#mc73f564fe7\" y=\"304.879062\"/>\r\n      </g>\r\n     </g>\r\n     <g id=\"text_9\">\r\n      <!-- 0.2 -->\r\n      <g transform=\"translate(26.685 309.438125)scale(0.12 -0.12)\">\r\n       <use xlink:href=\"#DejaVuSans-48\"/>\r\n       <use x=\"63.623047\" xlink:href=\"#DejaVuSans-46\"/>\r\n       <use x=\"95.410156\" xlink:href=\"#DejaVuSans-50\"/>\r\n      </g>\r\n     </g>\r\n    </g>\r\n    <g id=\"ytick_3\">\r\n     <g id=\"line2d_17\">\r\n      <path clip-path=\"url(#p9fb34d8453)\" d=\"M 52.76875 231.599062 \r\nL 552.73125 231.599062 \r\n\" style=\"fill:none;stroke:#b0b0b0;stroke-linecap:square;stroke-width:0.8;\"/>\r\n     </g>\r\n     <g id=\"line2d_18\">\r\n      <g>\r\n       <use style=\"stroke:#000000;stroke-width:0.8;\" x=\"52.76875\" xlink:href=\"#mc73f564fe7\" y=\"231.599062\"/>\r\n      </g>\r\n     </g>\r\n     <g id=\"text_10\">\r\n      <!-- 0.4 -->\r\n      <g transform=\"translate(26.685 236.158125)scale(0.12 -0.12)\">\r\n       <use xlink:href=\"#DejaVuSans-48\"/>\r\n       <use x=\"63.623047\" xlink:href=\"#DejaVuSans-46\"/>\r\n       <use x=\"95.410156\" xlink:href=\"#DejaVuSans-52\"/>\r\n      </g>\r\n     </g>\r\n    </g>\r\n    <g id=\"ytick_4\">\r\n     <g id=\"line2d_19\">\r\n      <path clip-path=\"url(#p9fb34d8453)\" d=\"M 52.76875 158.319062 \r\nL 552.73125 158.319062 \r\n\" style=\"fill:none;stroke:#b0b0b0;stroke-linecap:square;stroke-width:0.8;\"/>\r\n     </g>\r\n     <g id=\"line2d_20\">\r\n      <g>\r\n       <use style=\"stroke:#000000;stroke-width:0.8;\" x=\"52.76875\" xlink:href=\"#mc73f564fe7\" y=\"158.319062\"/>\r\n      </g>\r\n     </g>\r\n     <g id=\"text_11\">\r\n      <!-- 0.6 -->\r\n      <g transform=\"translate(26.685 162.878125)scale(0.12 -0.12)\">\r\n       <use xlink:href=\"#DejaVuSans-48\"/>\r\n       <use x=\"63.623047\" xlink:href=\"#DejaVuSans-46\"/>\r\n       <use x=\"95.410156\" xlink:href=\"#DejaVuSans-54\"/>\r\n      </g>\r\n     </g>\r\n    </g>\r\n    <g id=\"ytick_5\">\r\n     <g id=\"line2d_21\">\r\n      <path clip-path=\"url(#p9fb34d8453)\" d=\"M 52.76875 85.039062 \r\nL 552.73125 85.039062 \r\n\" style=\"fill:none;stroke:#b0b0b0;stroke-linecap:square;stroke-width:0.8;\"/>\r\n     </g>\r\n     <g id=\"line2d_22\">\r\n      <g>\r\n       <use style=\"stroke:#000000;stroke-width:0.8;\" x=\"52.76875\" xlink:href=\"#mc73f564fe7\" y=\"85.039062\"/>\r\n      </g>\r\n     </g>\r\n     <g id=\"text_12\">\r\n      <!-- 0.8 -->\r\n      <g transform=\"translate(26.685 89.598125)scale(0.12 -0.12)\">\r\n       <use xlink:href=\"#DejaVuSans-48\"/>\r\n       <use x=\"63.623047\" xlink:href=\"#DejaVuSans-46\"/>\r\n       <use x=\"95.410156\" xlink:href=\"#DejaVuSans-56\"/>\r\n      </g>\r\n     </g>\r\n    </g>\r\n    <g id=\"ytick_6\">\r\n     <g id=\"line2d_23\">\r\n      <path clip-path=\"url(#p9fb34d8453)\" d=\"M 52.76875 11.759062 \r\nL 552.73125 11.759062 \r\n\" style=\"fill:none;stroke:#b0b0b0;stroke-linecap:square;stroke-width:0.8;\"/>\r\n     </g>\r\n     <g id=\"line2d_24\">\r\n      <g>\r\n       <use style=\"stroke:#000000;stroke-width:0.8;\" x=\"52.76875\" xlink:href=\"#mc73f564fe7\" y=\"11.759062\"/>\r\n      </g>\r\n     </g>\r\n     <g id=\"text_13\">\r\n      <!-- 1.0 -->\r\n      <g transform=\"translate(26.685 16.318125)scale(0.12 -0.12)\">\r\n       <use xlink:href=\"#DejaVuSans-49\"/>\r\n       <use x=\"63.623047\" xlink:href=\"#DejaVuSans-46\"/>\r\n       <use x=\"95.410156\" xlink:href=\"#DejaVuSans-48\"/>\r\n      </g>\r\n     </g>\r\n    </g>\r\n    <g id=\"text_14\">\r\n     <!-- True Positive Rate (Recall) -->\r\n     <defs>\r\n      <path d=\"M -0.296875 72.90625 \r\nL 61.375 72.90625 \r\nL 61.375 64.59375 \r\nL 35.5 64.59375 \r\nL 35.5 0 \r\nL 25.59375 0 \r\nL 25.59375 64.59375 \r\nL -0.296875 64.59375 \r\nz\r\n\" id=\"DejaVuSans-84\"/>\r\n      <path d=\"M 41.109375 46.296875 \r\nQ 39.59375 47.171875 37.8125 47.578125 \r\nQ 36.03125 48 33.890625 48 \r\nQ 26.265625 48 22.1875 43.046875 \r\nQ 18.109375 38.09375 18.109375 28.8125 \r\nL 18.109375 0 \r\nL 9.078125 0 \r\nL 9.078125 54.6875 \r\nL 18.109375 54.6875 \r\nL 18.109375 46.1875 \r\nQ 20.953125 51.171875 25.484375 53.578125 \r\nQ 30.03125 56 36.53125 56 \r\nQ 37.453125 56 38.578125 55.875 \r\nQ 39.703125 55.765625 41.0625 55.515625 \r\nz\r\n\" id=\"DejaVuSans-114\"/>\r\n      <path d=\"M 48.78125 52.59375 \r\nL 48.78125 44.1875 \r\nQ 44.96875 46.296875 41.140625 47.34375 \r\nQ 37.3125 48.390625 33.40625 48.390625 \r\nQ 24.65625 48.390625 19.8125 42.84375 \r\nQ 14.984375 37.3125 14.984375 27.296875 \r\nQ 14.984375 17.28125 19.8125 11.734375 \r\nQ 24.65625 6.203125 33.40625 6.203125 \r\nQ 37.3125 6.203125 41.140625 7.25 \r\nQ 44.96875 8.296875 48.78125 10.40625 \r\nL 48.78125 2.09375 \r\nQ 45.015625 0.34375 40.984375 -0.53125 \r\nQ 36.96875 -1.421875 32.421875 -1.421875 \r\nQ 20.0625 -1.421875 12.78125 6.34375 \r\nQ 5.515625 14.109375 5.515625 27.296875 \r\nQ 5.515625 40.671875 12.859375 48.328125 \r\nQ 20.21875 56 33.015625 56 \r\nQ 37.15625 56 41.109375 55.140625 \r\nQ 45.0625 54.296875 48.78125 52.59375 \r\nz\r\n\" id=\"DejaVuSans-99\"/>\r\n     </defs>\r\n     <g transform=\"translate(19.3575 300.840312)rotate(-90)scale(0.16 -0.16)\">\r\n      <use xlink:href=\"#DejaVuSans-84\"/>\r\n      <use x=\"60.865234\" xlink:href=\"#DejaVuSans-114\"/>\r\n      <use x=\"101.978516\" xlink:href=\"#DejaVuSans-117\"/>\r\n      <use x=\"165.357422\" xlink:href=\"#DejaVuSans-101\"/>\r\n      <use x=\"226.880859\" xlink:href=\"#DejaVuSans-32\"/>\r\n      <use x=\"258.667969\" xlink:href=\"#DejaVuSans-80\"/>\r\n      <use x=\"318.923828\" xlink:href=\"#DejaVuSans-111\"/>\r\n      <use x=\"380.105469\" xlink:href=\"#DejaVuSans-115\"/>\r\n      <use x=\"432.205078\" xlink:href=\"#DejaVuSans-105\"/>\r\n      <use x=\"459.988281\" xlink:href=\"#DejaVuSans-116\"/>\r\n      <use x=\"499.197266\" xlink:href=\"#DejaVuSans-105\"/>\r\n      <use x=\"526.980469\" xlink:href=\"#DejaVuSans-118\"/>\r\n      <use x=\"586.160156\" xlink:href=\"#DejaVuSans-101\"/>\r\n      <use x=\"647.683594\" xlink:href=\"#DejaVuSans-32\"/>\r\n      <use x=\"679.470703\" xlink:href=\"#DejaVuSans-82\"/>\r\n      <use x=\"748.921875\" xlink:href=\"#DejaVuSans-97\"/>\r\n      <use x=\"810.201172\" xlink:href=\"#DejaVuSans-116\"/>\r\n      <use x=\"849.410156\" xlink:href=\"#DejaVuSans-101\"/>\r\n      <use x=\"910.933594\" xlink:href=\"#DejaVuSans-32\"/>\r\n      <use x=\"942.720703\" xlink:href=\"#DejaVuSans-40\"/>\r\n      <use x=\"981.734375\" xlink:href=\"#DejaVuSans-82\"/>\r\n      <use x=\"1051.154297\" xlink:href=\"#DejaVuSans-101\"/>\r\n      <use x=\"1112.677734\" xlink:href=\"#DejaVuSans-99\"/>\r\n      <use x=\"1167.658203\" xlink:href=\"#DejaVuSans-97\"/>\r\n      <use x=\"1228.9375\" xlink:href=\"#DejaVuSans-108\"/>\r\n      <use x=\"1256.720703\" xlink:href=\"#DejaVuSans-108\"/>\r\n      <use x=\"1284.503906\" xlink:href=\"#DejaVuSans-41\"/>\r\n     </g>\r\n    </g>\r\n   </g>\r\n   <g id=\"line2d_25\">\r\n    <path clip-path=\"url(#p9fb34d8453)\" d=\"M 52.76875 378.159062 \r\nL 52.76875 360.748566 \r\nL 53.198271 360.748566 \r\nL 53.198271 357.630268 \r\nL 53.627792 357.630268 \r\nL 53.627792 357.37041 \r\nL 54.057313 357.37041 \r\nL 54.057313 356.330977 \r\nL 55.345876 356.330977 \r\nL 55.345876 347.4958 \r\nL 55.775397 347.4958 \r\nL 55.775397 345.936651 \r\nL 56.204918 345.936651 \r\nL 56.204918 333.723318 \r\nL 56.634439 333.723318 \r\nL 56.634439 333.46346 \r\nL 57.06396 333.46346 \r\nL 57.06396 332.943743 \r\nL 57.493482 332.943743 \r\nL 57.493482 332.683885 \r\nL 58.352524 332.683885 \r\nL 58.352524 332.424027 \r\nL 58.782045 332.424027 \r\nL 58.782045 329.565587 \r\nL 59.211566 329.565587 \r\nL 59.211566 328.526155 \r\nL 59.641087 328.526155 \r\nL 59.641087 323.328992 \r\nL 60.070608 323.328992 \r\nL 60.070608 322.289559 \r\nL 60.500129 322.289559 \r\nL 60.500129 320.470552 \r\nL 60.92965 320.470552 \r\nL 60.92965 308.517077 \r\nL 61.359171 308.517077 \r\nL 61.359171 302.540339 \r\nL 61.788692 302.540339 \r\nL 61.788692 302.020623 \r\nL 62.218213 302.020623 \r\nL 62.218213 301.241048 \r\nL 62.647734 301.241048 \r\nL 62.647734 300.721332 \r\nL 63.506776 300.721332 \r\nL 63.506776 293.445304 \r\nL 63.936297 293.445304 \r\nL 63.936297 293.185445 \r\nL 64.365818 293.185445 \r\nL 64.365818 288.767857 \r\nL 64.795339 288.767857 \r\nL 64.795339 278.893247 \r\nL 65.22486 278.893247 \r\nL 65.22486 277.07424 \r\nL 66.083902 277.07424 \r\nL 66.083902 273.955942 \r\nL 66.513424 273.955942 \r\nL 66.513424 270.577786 \r\nL 67.372466 270.577786 \r\nL 67.372466 265.380623 \r\nL 67.801987 265.380623 \r\nL 67.801987 262.262325 \r\nL 68.231508 262.262325 \r\nL 68.231508 261.742609 \r\nL 68.661029 261.742609 \r\nL 68.661029 259.663743 \r\nL 69.09055 259.663743 \r\nL 69.09055 259.403885 \r\nL 69.520071 259.403885 \r\nL 69.520071 242.772963 \r\nL 69.949592 242.772963 \r\nL 69.949592 226.661758 \r\nL 70.379113 226.661758 \r\nL 70.379113 226.401899 \r\nL 70.808634 226.401899 \r\nL 70.808634 224.582892 \r\nL 71.238155 224.582892 \r\nL 71.238155 223.283602 \r\nL 72.097197 223.283602 \r\nL 72.097197 223.023743 \r\nL 72.526718 223.023743 \r\nL 72.526718 219.385729 \r\nL 72.956239 219.385729 \r\nL 72.956239 213.928708 \r\nL 73.38576 213.928708 \r\nL 73.38576 210.550552 \r\nL 73.815281 210.550552 \r\nL 73.815281 203.534382 \r\nL 74.244802 203.534382 \r\nL 74.244802 202.494949 \r\nL 75.103845 202.494949 \r\nL 75.103845 200.675942 \r\nL 75.533366 200.675942 \r\nL 75.533366 198.856935 \r\nL 75.962887 198.856935 \r\nL 75.962887 198.07736 \r\nL 76.821929 198.07736 \r\nL 76.821929 195.998495 \r\nL 77.25145 195.998495 \r\nL 77.25145 194.699204 \r\nL 77.680971 194.699204 \r\nL 77.680971 194.439346 \r\nL 78.969534 194.439346 \r\nL 78.969534 193.91963 \r\nL 79.399055 193.91963 \r\nL 79.399055 188.462609 \r\nL 79.828576 188.462609 \r\nL 79.828576 185.344311 \r\nL 80.258097 185.344311 \r\nL 80.258097 185.084453 \r\nL 80.687618 185.084453 \r\nL 80.687618 184.824594 \r\nL 81.117139 184.824594 \r\nL 81.117139 183.785162 \r\nL 81.54666 183.785162 \r\nL 81.54666 181.706297 \r\nL 81.976181 181.706297 \r\nL 81.976181 179.887289 \r\nL 82.405702 179.887289 \r\nL 82.405702 178.328141 \r\nL 82.835223 178.328141 \r\nL 82.835223 177.288708 \r\nL 83.264744 177.288708 \r\nL 83.264744 176.768992 \r\nL 83.694265 176.768992 \r\nL 83.694265 173.910552 \r\nL 84.123787 173.910552 \r\nL 84.123787 171.31197 \r\nL 85.41235 171.31197 \r\nL 85.41235 169.233105 \r\nL 85.841871 169.233105 \r\nL 85.841871 168.973247 \r\nL 86.700913 168.973247 \r\nL 86.700913 168.453531 \r\nL 87.130434 168.453531 \r\nL 87.130434 167.673956 \r\nL 87.559955 167.673956 \r\nL 87.559955 166.894382 \r\nL 88.418997 166.894382 \r\nL 88.418997 165.595091 \r\nL 88.848518 165.595091 \r\nL 88.848518 165.335233 \r\nL 89.278039 165.335233 \r\nL 89.278039 164.035942 \r\nL 89.70756 164.035942 \r\nL 89.70756 163.776084 \r\nL 90.566602 163.776084 \r\nL 90.566602 163.256367 \r\nL 91.425644 163.256367 \r\nL 91.425644 162.736651 \r\nL 91.855165 162.736651 \r\nL 91.855165 162.216935 \r\nL 92.714207 162.216935 \r\nL 92.714207 161.957077 \r\nL 95.291334 161.957077 \r\nL 95.291334 161.697219 \r\nL 95.720855 161.697219 \r\nL 95.720855 160.657786 \r\nL 96.150376 160.657786 \r\nL 96.150376 160.13807 \r\nL 96.579897 160.13807 \r\nL 96.579897 159.878211 \r\nL 97.009418 159.878211 \r\nL 97.009418 159.618353 \r\nL 98.297981 159.618353 \r\nL 98.297981 159.098637 \r\nL 100.445586 159.098637 \r\nL 100.445586 158.319062 \r\nL 101.304628 158.319062 \r\nL 101.304628 155.980339 \r\nL 102.593192 155.980339 \r\nL 102.593192 155.720481 \r\nL 103.022713 155.720481 \r\nL 103.022713 155.460623 \r\nL 104.311276 155.460623 \r\nL 104.311276 153.641616 \r\nL 105.170318 153.641616 \r\nL 105.170318 153.381758 \r\nL 105.599839 153.381758 \r\nL 105.599839 152.862041 \r\nL 106.458881 152.862041 \r\nL 106.458881 151.043034 \r\nL 106.888402 151.043034 \r\nL 106.888402 150.783176 \r\nL 107.747444 150.783176 \r\nL 107.747444 149.743743 \r\nL 108.176965 149.743743 \r\nL 108.176965 148.964169 \r\nL 108.606486 148.964169 \r\nL 108.606486 148.184594 \r\nL 109.036007 148.184594 \r\nL 109.036007 147.40502 \r\nL 109.465528 147.40502 \r\nL 109.465528 146.365587 \r\nL 109.895049 146.365587 \r\nL 109.895049 145.586013 \r\nL 110.754091 145.586013 \r\nL 110.754091 144.806438 \r\nL 111.183613 144.806438 \r\nL 111.183613 143.247289 \r\nL 112.472176 143.247289 \r\nL 112.472176 142.727573 \r\nL 112.901697 142.727573 \r\nL 112.901697 138.569843 \r\nL 114.19026 138.569843 \r\nL 114.19026 137.790268 \r\nL 114.619781 137.790268 \r\nL 114.619781 137.010694 \r\nL 115.478823 137.010694 \r\nL 115.478823 135.711403 \r\nL 116.337865 135.711403 \r\nL 116.337865 135.191687 \r\nL 116.767386 135.191687 \r\nL 116.767386 134.931828 \r\nL 117.196907 134.931828 \r\nL 117.196907 133.112821 \r\nL 117.626428 133.112821 \r\nL 117.626428 132.073389 \r\nL 118.914991 132.073389 \r\nL 118.914991 131.813531 \r\nL 119.344512 131.813531 \r\nL 119.344512 129.474807 \r\nL 120.203555 129.474807 \r\nL 120.203555 128.955091 \r\nL 121.492118 128.955091 \r\nL 121.492118 128.175516 \r\nL 121.921639 128.175516 \r\nL 121.921639 124.79736 \r\nL 122.780681 124.79736 \r\nL 122.780681 123.757928 \r\nL 123.210202 123.757928 \r\nL 123.210202 123.49807 \r\nL 124.069244 123.49807 \r\nL 124.069244 123.238211 \r\nL 124.498765 123.238211 \r\nL 124.498765 120.119914 \r\nL 125.787328 120.119914 \r\nL 125.787328 117.001616 \r\nL 126.216849 117.001616 \r\nL 126.216849 116.222041 \r\nL 126.64637 116.222041 \r\nL 126.64637 113.103743 \r\nL 127.075891 113.103743 \r\nL 127.075891 108.426297 \r\nL 127.934933 108.426297 \r\nL 127.934933 108.166438 \r\nL 129.223497 108.166438 \r\nL 129.223497 107.90658 \r\nL 129.653018 107.90658 \r\nL 129.653018 107.646722 \r\nL 131.371102 107.646722 \r\nL 131.371102 107.386864 \r\nL 131.800623 107.386864 \r\nL 131.800623 106.607289 \r\nL 132.230144 106.607289 \r\nL 132.230144 106.347431 \r\nL 133.089186 106.347431 \r\nL 133.089186 105.827715 \r\nL 133.518707 105.827715 \r\nL 133.518707 105.307999 \r\nL 134.377749 105.307999 \r\nL 134.377749 104.268566 \r\nL 134.80727 104.268566 \r\nL 134.80727 103.229133 \r\nL 136.095833 103.229133 \r\nL 136.095833 102.189701 \r\nL 136.525354 102.189701 \r\nL 136.525354 100.89041 \r\nL 136.954875 100.89041 \r\nL 136.954875 100.370694 \r\nL 137.813918 100.370694 \r\nL 137.813918 99.071403 \r\nL 138.67296 99.071403 \r\nL 138.67296 98.551687 \r\nL 139.532002 98.551687 \r\nL 139.532002 97.512254 \r\nL 139.961523 97.512254 \r\nL 139.961523 97.252396 \r\nL 140.391044 97.252396 \r\nL 140.391044 96.992538 \r\nL 140.820565 96.992538 \r\nL 140.820565 95.953105 \r\nL 141.679607 95.953105 \r\nL 141.679607 95.693247 \r\nL 142.96817 95.693247 \r\nL 142.96817 95.433389 \r\nL 144.256733 95.433389 \r\nL 144.256733 95.173531 \r\nL 145.545296 95.173531 \r\nL 145.545296 94.913672 \r\nL 145.974817 94.913672 \r\nL 145.974817 94.393956 \r\nL 146.404338 94.393956 \r\nL 146.404338 93.614382 \r\nL 147.263381 93.614382 \r\nL 147.263381 93.094665 \r\nL 147.692902 93.094665 \r\nL 147.692902 91.795375 \r\nL 148.122423 91.795375 \r\nL 148.122423 91.275658 \r\nL 149.840507 91.275658 \r\nL 149.840507 91.0158 \r\nL 150.699549 91.0158 \r\nL 150.699549 90.755942 \r\nL 151.558591 90.755942 \r\nL 151.558591 89.456651 \r\nL 152.417633 89.456651 \r\nL 152.417633 89.196793 \r\nL 153.276675 89.196793 \r\nL 153.276675 88.677077 \r\nL 154.135717 88.677077 \r\nL 154.135717 88.417219 \r\nL 154.994759 88.417219 \r\nL 154.994759 88.15736 \r\nL 157.142365 88.15736 \r\nL 157.142365 87.117928 \r\nL 157.571886 87.117928 \r\nL 157.571886 86.598211 \r\nL 158.430928 86.598211 \r\nL 158.430928 85.298921 \r\nL 158.860449 85.298921 \r\nL 158.860449 84.259488 \r\nL 159.28997 84.259488 \r\nL 159.28997 83.99963 \r\nL 160.149012 83.99963 \r\nL 160.149012 83.220055 \r\nL 161.008054 83.220055 \r\nL 161.008054 82.700339 \r\nL 161.437575 82.700339 \r\nL 161.437575 82.180623 \r\nL 161.867096 82.180623 \r\nL 161.867096 81.920765 \r\nL 162.726138 81.920765 \r\nL 162.726138 79.841899 \r\nL 163.155659 79.841899 \r\nL 163.155659 78.022892 \r\nL 163.58518 78.022892 \r\nL 163.58518 77.763034 \r\nL 165.732786 77.763034 \r\nL 165.732786 77.243318 \r\nL 166.162307 77.243318 \r\nL 166.162307 76.98346 \r\nL 166.591828 76.98346 \r\nL 166.591828 76.723602 \r\nL 168.739433 76.723602 \r\nL 168.739433 76.203885 \r\nL 169.168954 76.203885 \r\nL 169.168954 75.944027 \r\nL 169.598475 75.944027 \r\nL 169.598475 75.684169 \r\nL 170.887038 75.684169 \r\nL 170.887038 75.164453 \r\nL 171.316559 75.164453 \r\nL 171.316559 74.904594 \r\nL 172.605122 74.904594 \r\nL 172.605122 74.644736 \r\nL 173.893686 74.644736 \r\nL 173.893686 74.384878 \r\nL 175.61177 74.384878 \r\nL 175.61177 73.865162 \r\nL 176.041291 73.865162 \r\nL 176.041291 73.085587 \r\nL 176.900333 73.085587 \r\nL 176.900333 72.825729 \r\nL 177.329854 72.825729 \r\nL 177.329854 72.306013 \r\nL 179.90698 72.306013 \r\nL 179.90698 72.046155 \r\nL 181.195543 72.046155 \r\nL 181.195543 71.526438 \r\nL 182.484107 71.526438 \r\nL 182.484107 71.006722 \r\nL 184.202191 71.006722 \r\nL 184.202191 70.227148 \r\nL 184.631712 70.227148 \r\nL 184.631712 69.707431 \r\nL 185.061233 69.707431 \r\nL 185.061233 69.447573 \r\nL 185.490754 69.447573 \r\nL 185.490754 69.187715 \r\nL 185.920275 69.187715 \r\nL 185.920275 68.927857 \r\nL 186.349796 68.927857 \r\nL 186.349796 67.368708 \r\nL 187.638359 67.368708 \r\nL 187.638359 67.10885 \r\nL 188.497401 67.10885 \r\nL 188.497401 66.848992 \r\nL 188.926922 66.848992 \r\nL 188.926922 65.809559 \r\nL 189.356443 65.809559 \r\nL 189.356443 65.549701 \r\nL 190.645006 65.549701 \r\nL 190.645006 65.289843 \r\nL 192.363091 65.289843 \r\nL 192.363091 64.770126 \r\nL 192.792612 64.770126 \r\nL 192.792612 64.510268 \r\nL 193.222133 64.510268 \r\nL 193.222133 64.25041 \r\nL 193.651654 64.25041 \r\nL 193.651654 63.990552 \r\nL 195.369738 63.990552 \r\nL 195.369738 63.730694 \r\nL 196.658301 63.730694 \r\nL 196.658301 62.431403 \r\nL 197.087822 62.431403 \r\nL 197.087822 62.171545 \r\nL 197.946864 62.171545 \r\nL 197.946864 61.911687 \r\nL 198.805906 61.911687 \r\nL 198.805906 61.651828 \r\nL 199.235427 61.651828 \r\nL 199.235427 61.132112 \r\nL 199.664948 61.132112 \r\nL 199.664948 60.872254 \r\nL 200.953512 60.872254 \r\nL 200.953512 60.612396 \r\nL 201.383033 60.612396 \r\nL 201.383033 60.09268 \r\nL 201.812554 60.09268 \r\nL 201.812554 59.832821 \r\nL 202.242075 59.832821 \r\nL 202.242075 59.572963 \r\nL 203.530638 59.572963 \r\nL 203.530638 59.313105 \r\nL 204.819201 59.313105 \r\nL 204.819201 59.053247 \r\nL 205.248722 59.053247 \r\nL 205.248722 58.793389 \r\nL 205.678243 58.793389 \r\nL 205.678243 58.013814 \r\nL 206.537285 58.013814 \r\nL 206.537285 57.494098 \r\nL 206.966806 57.494098 \r\nL 206.966806 57.23424 \r\nL 208.68489 57.23424 \r\nL 208.68489 56.194807 \r\nL 209.114412 56.194807 \r\nL 209.114412 55.155375 \r\nL 209.543933 55.155375 \r\nL 209.543933 54.895516 \r\nL 210.832496 54.895516 \r\nL 210.832496 54.635658 \r\nL 211.691538 54.635658 \r\nL 211.691538 53.596226 \r\nL 212.121059 53.596226 \r\nL 212.121059 53.336367 \r\nL 212.55058 53.336367 \r\nL 212.55058 53.076509 \r\nL 212.980101 53.076509 \r\nL 212.980101 52.816651 \r\nL 214.268664 52.816651 \r\nL 214.268664 52.296935 \r\nL 214.698185 52.296935 \r\nL 214.698185 52.037077 \r\nL 215.986748 52.037077 \r\nL 215.986748 51.51736 \r\nL 220.71148 51.51736 \r\nL 220.71148 51.257502 \r\nL 223.718127 51.257502 \r\nL 223.718127 50.997644 \r\nL 224.147648 50.997644 \r\nL 224.147648 50.737786 \r\nL 225.00669 50.737786 \r\nL 225.00669 50.477928 \r\nL 225.436211 50.477928 \r\nL 225.436211 49.958211 \r\nL 225.865732 49.958211 \r\nL 225.865732 49.698353 \r\nL 226.295253 49.698353 \r\nL 226.295253 47.879346 \r\nL 227.154296 47.879346 \r\nL 227.154296 47.619488 \r\nL 228.442859 47.619488 \r\nL 228.442859 47.35963 \r\nL 228.87238 47.35963 \r\nL 228.87238 46.839914 \r\nL 229.731422 46.839914 \r\nL 229.731422 46.580055 \r\nL 230.160943 46.580055 \r\nL 230.160943 46.320197 \r\nL 232.308548 46.320197 \r\nL 232.308548 46.060339 \r\nL 232.738069 46.060339 \r\nL 232.738069 45.800481 \r\nL 233.16759 45.800481 \r\nL 233.16759 45.280765 \r\nL 234.026632 45.280765 \r\nL 234.026632 44.761048 \r\nL 234.456153 44.761048 \r\nL 234.456153 44.50119 \r\nL 235.744716 44.50119 \r\nL 235.744716 43.981474 \r\nL 237.03328 43.981474 \r\nL 237.03328 43.721616 \r\nL 237.462801 43.721616 \r\nL 237.462801 43.201899 \r\nL 238.751364 43.201899 \r\nL 238.751364 42.942041 \r\nL 240.898969 42.942041 \r\nL 240.898969 42.682183 \r\nL 244.335137 42.682183 \r\nL 244.335137 42.422325 \r\nL 245.19418 42.422325 \r\nL 245.19418 42.162467 \r\nL 247.341785 42.162467 \r\nL 247.341785 41.902609 \r\nL 249.48939 41.902609 \r\nL 249.48939 41.64275 \r\nL 251.207474 41.64275 \r\nL 251.207474 41.382892 \r\nL 254.214122 41.382892 \r\nL 254.214122 40.863176 \r\nL 258.079811 40.863176 \r\nL 258.079811 40.603318 \r\nL 258.938853 40.603318 \r\nL 258.938853 40.34346 \r\nL 261.515979 40.34346 \r\nL 261.515979 40.083602 \r\nL 262.804543 40.083602 \r\nL 262.804543 39.823743 \r\nL 263.663585 39.823743 \r\nL 263.663585 39.304027 \r\nL 264.522627 39.304027 \r\nL 264.522627 39.044169 \r\nL 265.381669 39.044169 \r\nL 265.381669 38.524453 \r\nL 265.81119 38.524453 \r\nL 265.81119 38.264594 \r\nL 267.099753 38.264594 \r\nL 267.099753 38.004736 \r\nL 267.529274 38.004736 \r\nL 267.529274 37.744878 \r\nL 268.817837 37.744878 \r\nL 268.817837 37.48502 \r\nL 273.97209 37.48502 \r\nL 273.97209 37.225162 \r\nL 276.119695 37.225162 \r\nL 276.119695 36.705445 \r\nL 278.2673 36.705445 \r\nL 278.2673 36.445587 \r\nL 281.703469 36.445587 \r\nL 281.703469 36.185729 \r\nL 288.575805 36.185729 \r\nL 288.575805 35.925871 \r\nL 289.434848 35.925871 \r\nL 289.434848 35.666013 \r\nL 290.29389 35.666013 \r\nL 290.29389 35.406155 \r\nL 295.448142 35.406155 \r\nL 295.448142 35.146297 \r\nL 297.166226 35.146297 \r\nL 297.166226 34.886438 \r\nL 298.025268 34.886438 \r\nL 298.025268 34.62658 \r\nL 298.884311 34.62658 \r\nL 298.884311 34.366722 \r\nL 302.320479 34.366722 \r\nL 302.320479 33.847006 \r\nL 302.75 33.847006 \r\nL 302.75 33.587148 \r\nL 304.038563 33.587148 \r\nL 304.038563 33.327289 \r\nL 305.327126 33.327289 \r\nL 305.327126 32.807573 \r\nL 305.756647 32.807573 \r\nL 305.756647 32.027999 \r\nL 306.186168 32.027999 \r\nL 306.186168 31.248424 \r\nL 309.192816 31.248424 \r\nL 309.192816 30.988566 \r\nL 310.9109 30.988566 \r\nL 310.9109 30.728708 \r\nL 311.340421 30.728708 \r\nL 311.340421 30.46885 \r\nL 320.360363 30.46885 \r\nL 320.360363 30.208992 \r\nL 322.507968 30.208992 \r\nL 322.507968 29.689275 \r\nL 323.36701 29.689275 \r\nL 323.36701 29.429417 \r\nL 324.226052 29.429417 \r\nL 324.226052 29.169559 \r\nL 324.655573 29.169559 \r\nL 324.655573 28.649843 \r\nL 325.085095 28.649843 \r\nL 325.085095 28.389984 \r\nL 326.373658 28.389984 \r\nL 326.373658 28.130126 \r\nL 328.091742 28.130126 \r\nL 328.091742 27.870268 \r\nL 329.380305 27.870268 \r\nL 329.380305 27.61041 \r\nL 329.809826 27.61041 \r\nL 329.809826 27.350552 \r\nL 330.239347 27.350552 \r\nL 330.239347 26.830836 \r\nL 330.668868 26.830836 \r\nL 330.668868 26.570977 \r\nL 331.098389 26.570977 \r\nL 331.098389 26.311119 \r\nL 333.675515 26.311119 \r\nL 333.675515 25.791403 \r\nL 334.105037 25.791403 \r\nL 334.105037 25.531545 \r\nL 336.252642 25.531545 \r\nL 336.252642 25.271687 \r\nL 336.682163 25.271687 \r\nL 336.682163 25.011828 \r\nL 345.272584 25.011828 \r\nL 345.272584 24.75197 \r\nL 346.561147 24.75197 \r\nL 346.561147 24.492112 \r\nL 349.138273 24.492112 \r\nL 349.138273 24.232254 \r\nL 349.997315 24.232254 \r\nL 349.997315 23.972396 \r\nL 350.856357 23.972396 \r\nL 350.856357 23.45268 \r\nL 355.151568 23.45268 \r\nL 355.151568 22.932963 \r\nL 357.728694 22.932963 \r\nL 357.728694 22.413247 \r\nL 359.876299 22.413247 \r\nL 359.876299 22.153389 \r\nL 360.30582 22.153389 \r\nL 360.30582 21.113956 \r\nL 360.735341 21.113956 \r\nL 360.735341 20.854098 \r\nL 361.164863 20.854098 \r\nL 361.164863 20.59424 \r\nL 361.594384 20.59424 \r\nL 361.594384 20.334382 \r\nL 363.741989 20.334382 \r\nL 363.741989 20.074523 \r\nL 364.17151 20.074523 \r\nL 364.17151 19.814665 \r\nL 368.896241 19.814665 \r\nL 368.896241 19.554807 \r\nL 370.184805 19.554807 \r\nL 370.184805 19.294949 \r\nL 372.33241 19.294949 \r\nL 372.33241 19.035091 \r\nL 374.480015 19.035091 \r\nL 374.480015 18.775233 \r\nL 375.768578 18.775233 \r\nL 375.768578 18.515375 \r\nL 376.198099 18.515375 \r\nL 376.198099 18.255516 \r\nL 378.345704 18.255516 \r\nL 378.345704 17.995658 \r\nL 378.775226 17.995658 \r\nL 378.775226 17.7358 \r\nL 381.352352 17.7358 \r\nL 381.352352 17.475942 \r\nL 383.070436 17.475942 \r\nL 383.070436 17.216084 \r\nL 385.218041 17.216084 \r\nL 385.218041 16.956226 \r\nL 386.506604 16.956226 \r\nL 386.506604 16.696367 \r\nL 389.083731 16.696367 \r\nL 389.083731 16.436509 \r\nL 392.090378 16.436509 \r\nL 392.090378 15.397077 \r\nL 392.519899 15.397077 \r\nL 392.519899 15.137219 \r\nL 393.378941 15.137219 \r\nL 393.378941 14.87736 \r\nL 394.237983 14.87736 \r\nL 394.237983 14.617502 \r\nL 396.385588 14.617502 \r\nL 396.385588 14.357644 \r\nL 400.251278 14.357644 \r\nL 400.251278 14.097786 \r\nL 401.539841 14.097786 \r\nL 401.539841 13.837928 \r\nL 421.297809 13.837928 \r\nL 421.297809 13.57807 \r\nL 423.015893 13.57807 \r\nL 423.015893 13.318211 \r\nL 426.452062 13.318211 \r\nL 426.452062 13.058353 \r\nL 430.747272 13.058353 \r\nL 430.747272 12.798495 \r\nL 464.679435 12.798495 \r\nL 464.679435 12.538637 \r\nL 471.981293 12.538637 \r\nL 471.981293 12.278779 \r\nL 500.329682 12.278779 \r\nL 500.329682 12.018921 \r\nL 507.202019 12.018921 \r\nL 507.202019 11.759062 \r\nL 552.73125 11.759062 \r\nL 552.73125 11.759062 \r\n\" style=\"fill:none;stroke:#0000ff;stroke-dasharray:2,3.3;stroke-dashoffset:0;stroke-width:2;\"/>\r\n   </g>\r\n   <g id=\"line2d_26\">\r\n    <path clip-path=\"url(#p9fb34d8453)\" d=\"M 52.76875 378.159062 \r\nL 60.070608 267.459488 \r\nL 61.788692 211.330126 \r\nL 63.077255 176.768992 \r\nL 64.365818 153.641616 \r\nL 66.513424 138.309984 \r\nL 68.231508 126.876226 \r\nL 69.09055 116.741758 \r\nL 69.520071 108.946013 \r\nL 69.949592 103.488992 \r\nL 69.949592 99.331261 \r\nL 69.949592 93.094665 \r\nL 70.379113 90.496084 \r\nL 70.379113 86.598211 \r\nL 71.667676 84.259488 \r\nL 72.097197 80.621474 \r\nL 72.097197 76.723602 \r\nL 72.526718 74.12502 \r\nL 72.526718 69.967289 \r\nL 72.526718 66.069417 \r\nL 73.38576 63.470836 \r\nL 75.103845 61.132112 \r\nL 75.533366 59.572963 \r\nL 76.392408 57.23424 \r\nL 77.680971 55.415233 \r\nL 77.680971 54.895516 \r\nL 79.399055 54.3758 \r\nL 80.258097 53.596226 \r\nL 80.258097 52.037077 \r\nL 80.258097 50.997644 \r\nL 81.117139 49.698353 \r\nL 81.117139 47.619488 \r\nL 81.976181 46.839914 \r\nL 82.405702 45.800481 \r\nL 82.835223 45.020906 \r\nL 83.264744 44.761048 \r\nL 83.264744 43.461758 \r\nL 84.123787 41.382892 \r\nL 84.982829 40.603318 \r\nL 86.271392 39.044169 \r\nL 87.130434 37.744878 \r\nL 87.989476 36.965304 \r\nL 88.418997 36.445587 \r\nL 88.418997 36.185729 \r\nL 89.70756 35.406155 \r\nL 89.70756 35.146297 \r\nL 90.137081 34.106864 \r\nL 91.425644 33.587148 \r\nL 92.284686 33.327289 \r\nL 93.57325 31.768141 \r\nL 93.57325 31.248424 \r\nL 94.002771 30.988566 \r\nL 94.432292 30.208992 \r\nL 94.861813 30.208992 \r\nL 96.150376 30.208992 \r\nL 96.150376 29.429417 \r\nL 97.438939 28.649843 \r\nL 98.727502 28.649843 \r\nL 100.016065 28.130126 \r\nL 100.875107 28.130126 \r\nL 103.881755 27.350552 \r\nL 105.170318 27.350552 \r\nL 106.888402 26.830836 \r\nL 109.036007 26.830836 \r\nL 109.036007 26.051261 \r\nL 110.754091 25.271687 \r\nL 113.331218 25.011828 \r\nL 114.19026 25.011828 \r\nL 115.049302 24.75197 \r\nL 118.055949 24.492112 \r\nL 120.203555 23.972396 \r\nL 121.062597 23.972396 \r\nL 123.210202 23.972396 \r\nL 126.216849 23.972396 \r\nL 127.075891 23.712538 \r\nL 128.364454 23.712538 \r\nL 131.800623 23.45268 \r\nL 137.384396 23.192821 \r\nL 138.67296 22.932963 \r\nL 140.391044 22.413247 \r\nL 142.96817 21.113956 \r\nL 145.974817 20.854098 \r\nL 148.981465 20.334382 \r\nL 154.135717 20.334382 \r\nL 156.712844 20.334382 \r\nL 159.719491 19.814665 \r\nL 163.155659 19.294949 \r\nL 165.303265 19.035091 \r\nL 171.74608 18.255516 \r\nL 173.893686 17.7358 \r\nL 180.336501 17.475942 \r\nL 190.645006 15.916793 \r\nL 198.805906 15.137219 \r\nL 205.248722 15.137219 \r\nL 220.281959 15.137219 \r\nL 235.315195 14.617502 \r\nL 257.220769 14.357644 \r\nL 284.280595 14.097786 \r\nL 343.5545 13.058353 \r\nL 552.73125 11.759062 \r\n\" style=\"fill:none;stroke:#1f77b4;stroke-linecap:square;stroke-width:2;\"/>\r\n   </g>\r\n   <g id=\"line2d_27\">\r\n    <path clip-path=\"url(#p9fb34d8453)\" d=\"M 52.76875 378.159062 \r\nL 552.73125 11.759062 \r\n\" style=\"fill:none;stroke:#000000;stroke-dasharray:5.55,2.4;stroke-dashoffset:0;stroke-width:1.5;\"/>\r\n   </g>\r\n   <g id=\"line2d_28\">\r\n    <path clip-path=\"url(#p9fb34d8453)\" d=\"M 90.265938 378.159062 \r\nL 90.265938 218.115542 \r\n\" style=\"fill:none;stroke:#ff0000;stroke-dasharray:1.5,2.475;stroke-dashoffset:0;stroke-width:1.5;\"/>\r\n   </g>\r\n   <g id=\"line2d_29\">\r\n    <path clip-path=\"url(#p9fb34d8453)\" d=\"M 52.76875 218.115542 \r\nL 90.265938 218.115542 \r\n\" style=\"fill:none;stroke:#ff0000;stroke-dasharray:1.5,2.475;stroke-dashoffset:0;stroke-width:1.5;\"/>\r\n   </g>\r\n   <g id=\"line2d_30\">\r\n    <defs>\r\n     <path d=\"M 0 3 \r\nC 0.795609 3 1.55874 2.683901 2.12132 2.12132 \r\nC 2.683901 1.55874 3 0.795609 3 0 \r\nC 3 -0.795609 2.683901 -1.55874 2.12132 -2.12132 \r\nC 1.55874 -2.683901 0.795609 -3 0 -3 \r\nC -0.795609 -3 -1.55874 -2.683901 -2.12132 -2.12132 \r\nC -2.683901 -1.55874 -3 -0.795609 -3 0 \r\nC -3 0.795609 -2.683901 1.55874 -2.12132 2.12132 \r\nC -1.55874 2.683901 -0.795609 3 0 3 \r\nz\r\n\" id=\"ma0832ccdf1\" style=\"stroke:#ff0000;\"/>\r\n    </defs>\r\n    <g clip-path=\"url(#p9fb34d8453)\">\r\n     <use style=\"fill:#ff0000;stroke:#ff0000;\" x=\"90.265938\" xlink:href=\"#ma0832ccdf1\" y=\"218.115542\"/>\r\n    </g>\r\n   </g>\r\n   <g id=\"line2d_31\">\r\n    <path clip-path=\"url(#p9fb34d8453)\" d=\"M 90.265938 378.159062 \r\nL 90.265938 30.555382 \r\n\" style=\"fill:none;stroke:#ff0000;stroke-dasharray:1.5,2.475;stroke-dashoffset:0;stroke-width:1.5;\"/>\r\n   </g>\r\n   <g id=\"line2d_32\">\r\n    <g clip-path=\"url(#p9fb34d8453)\">\r\n     <use style=\"fill:#ff0000;stroke:#ff0000;\" x=\"90.265938\" xlink:href=\"#ma0832ccdf1\" y=\"30.555382\"/>\r\n    </g>\r\n   </g>\r\n   <g id=\"patch_3\">\r\n    <path d=\"M 52.76875 378.159062 \r\nL 52.76875 11.759062 \r\n\" style=\"fill:none;stroke:#000000;stroke-linecap:square;stroke-linejoin:miter;stroke-width:0.8;\"/>\r\n   </g>\r\n   <g id=\"patch_4\">\r\n    <path d=\"M 552.73125 378.159062 \r\nL 552.73125 11.759062 \r\n\" style=\"fill:none;stroke:#000000;stroke-linecap:square;stroke-linejoin:miter;stroke-width:0.8;\"/>\r\n   </g>\r\n   <g id=\"patch_5\">\r\n    <path d=\"M 52.76875 378.159062 \r\nL 552.73125 378.159062 \r\n\" style=\"fill:none;stroke:#000000;stroke-linecap:square;stroke-linejoin:miter;stroke-width:0.8;\"/>\r\n   </g>\r\n   <g id=\"patch_6\">\r\n    <path d=\"M 52.76875 11.759062 \r\nL 552.73125 11.759062 \r\n\" style=\"fill:none;stroke:#000000;stroke-linecap:square;stroke-linejoin:miter;stroke-width:0.8;\"/>\r\n   </g>\r\n   <g id=\"legend_1\">\r\n    <g id=\"patch_7\">\r\n     <path d=\"M 368.64625 370.159062 \r\nL 541.53125 370.159062 \r\nQ 544.73125 370.159062 544.73125 366.959062 \r\nL 544.73125 321.589062 \r\nQ 544.73125 318.389062 541.53125 318.389062 \r\nL 368.64625 318.389062 \r\nQ 365.44625 318.389062 365.44625 321.589062 \r\nL 365.44625 366.959062 \r\nQ 365.44625 370.159062 368.64625 370.159062 \r\nz\r\n\" style=\"fill:#ffffff;opacity:0.8;stroke:#cccccc;stroke-linejoin:miter;\"/>\r\n    </g>\r\n    <g id=\"line2d_33\">\r\n     <path d=\"M 371.84625 331.346562 \r\nL 403.84625 331.346562 \r\n\" style=\"fill:none;stroke:#0000ff;stroke-dasharray:2,3.3;stroke-dashoffset:0;stroke-width:2;\"/>\r\n    </g>\r\n    <g id=\"line2d_34\"/>\r\n    <g id=\"text_15\">\r\n     <!-- SGD -->\r\n     <defs>\r\n      <path d=\"M 53.515625 70.515625 \r\nL 53.515625 60.890625 \r\nQ 47.90625 63.578125 42.921875 64.890625 \r\nQ 37.9375 66.21875 33.296875 66.21875 \r\nQ 25.25 66.21875 20.875 63.09375 \r\nQ 16.5 59.96875 16.5 54.203125 \r\nQ 16.5 49.359375 19.40625 46.890625 \r\nQ 22.3125 44.4375 30.421875 42.921875 \r\nL 36.375 41.703125 \r\nQ 47.40625 39.59375 52.65625 34.296875 \r\nQ 57.90625 29 57.90625 20.125 \r\nQ 57.90625 9.515625 50.796875 4.046875 \r\nQ 43.703125 -1.421875 29.984375 -1.421875 \r\nQ 24.8125 -1.421875 18.96875 -0.25 \r\nQ 13.140625 0.921875 6.890625 3.21875 \r\nL 6.890625 13.375 \r\nQ 12.890625 10.015625 18.65625 8.296875 \r\nQ 24.421875 6.59375 29.984375 6.59375 \r\nQ 38.421875 6.59375 43.015625 9.90625 \r\nQ 47.609375 13.234375 47.609375 19.390625 \r\nQ 47.609375 24.75 44.3125 27.78125 \r\nQ 41.015625 30.8125 33.5 32.328125 \r\nL 27.484375 33.5 \r\nQ 16.453125 35.6875 11.515625 40.375 \r\nQ 6.59375 45.0625 6.59375 53.421875 \r\nQ 6.59375 63.09375 13.40625 68.65625 \r\nQ 20.21875 74.21875 32.171875 74.21875 \r\nQ 37.3125 74.21875 42.625 73.28125 \r\nQ 47.953125 72.359375 53.515625 70.515625 \r\nz\r\n\" id=\"DejaVuSans-83\"/>\r\n      <path d=\"M 59.515625 10.40625 \r\nL 59.515625 29.984375 \r\nL 43.40625 29.984375 \r\nL 43.40625 38.09375 \r\nL 69.28125 38.09375 \r\nL 69.28125 6.78125 \r\nQ 63.578125 2.734375 56.6875 0.65625 \r\nQ 49.8125 -1.421875 42 -1.421875 \r\nQ 24.90625 -1.421875 15.25 8.5625 \r\nQ 5.609375 18.5625 5.609375 36.375 \r\nQ 5.609375 54.25 15.25 64.234375 \r\nQ 24.90625 74.21875 42 74.21875 \r\nQ 49.125 74.21875 55.546875 72.453125 \r\nQ 61.96875 70.703125 67.390625 67.28125 \r\nL 67.390625 56.78125 \r\nQ 61.921875 61.421875 55.765625 63.765625 \r\nQ 49.609375 66.109375 42.828125 66.109375 \r\nQ 29.4375 66.109375 22.71875 58.640625 \r\nQ 16.015625 51.171875 16.015625 36.375 \r\nQ 16.015625 21.625 22.71875 14.15625 \r\nQ 29.4375 6.6875 42.828125 6.6875 \r\nQ 48.046875 6.6875 52.140625 7.59375 \r\nQ 56.25 8.5 59.515625 10.40625 \r\nz\r\n\" id=\"DejaVuSans-71\"/>\r\n      <path d=\"M 19.671875 64.796875 \r\nL 19.671875 8.109375 \r\nL 31.59375 8.109375 \r\nQ 46.6875 8.109375 53.6875 14.9375 \r\nQ 60.6875 21.78125 60.6875 36.53125 \r\nQ 60.6875 51.171875 53.6875 57.984375 \r\nQ 46.6875 64.796875 31.59375 64.796875 \r\nz\r\nM 9.8125 72.90625 \r\nL 30.078125 72.90625 \r\nQ 51.265625 72.90625 61.171875 64.09375 \r\nQ 71.09375 55.28125 71.09375 36.53125 \r\nQ 71.09375 17.671875 61.125 8.828125 \r\nQ 51.171875 0 30.078125 0 \r\nL 9.8125 0 \r\nz\r\n\" id=\"DejaVuSans-68\"/>\r\n     </defs>\r\n     <g transform=\"translate(416.64625 336.946562)scale(0.16 -0.16)\">\r\n      <use xlink:href=\"#DejaVuSans-83\"/>\r\n      <use x=\"63.476562\" xlink:href=\"#DejaVuSans-71\"/>\r\n      <use x=\"140.966797\" xlink:href=\"#DejaVuSans-68\"/>\r\n     </g>\r\n    </g>\r\n    <g id=\"line2d_35\">\r\n     <path d=\"M 371.84625 354.831562 \r\nL 403.84625 354.831562 \r\n\" style=\"fill:none;stroke:#1f77b4;stroke-linecap:square;stroke-width:2;\"/>\r\n    </g>\r\n    <g id=\"line2d_36\"/>\r\n    <g id=\"text_16\">\r\n     <!-- Random Forest -->\r\n     <defs>\r\n      <path d=\"M 54.890625 33.015625 \r\nL 54.890625 0 \r\nL 45.90625 0 \r\nL 45.90625 32.71875 \r\nQ 45.90625 40.484375 42.875 44.328125 \r\nQ 39.84375 48.1875 33.796875 48.1875 \r\nQ 26.515625 48.1875 22.3125 43.546875 \r\nQ 18.109375 38.921875 18.109375 30.90625 \r\nL 18.109375 0 \r\nL 9.078125 0 \r\nL 9.078125 54.6875 \r\nL 18.109375 54.6875 \r\nL 18.109375 46.1875 \r\nQ 21.34375 51.125 25.703125 53.5625 \r\nQ 30.078125 56 35.796875 56 \r\nQ 45.21875 56 50.046875 50.171875 \r\nQ 54.890625 44.34375 54.890625 33.015625 \r\nz\r\n\" id=\"DejaVuSans-110\"/>\r\n      <path d=\"M 45.40625 46.390625 \r\nL 45.40625 75.984375 \r\nL 54.390625 75.984375 \r\nL 54.390625 0 \r\nL 45.40625 0 \r\nL 45.40625 8.203125 \r\nQ 42.578125 3.328125 38.25 0.953125 \r\nQ 33.9375 -1.421875 27.875 -1.421875 \r\nQ 17.96875 -1.421875 11.734375 6.484375 \r\nQ 5.515625 14.40625 5.515625 27.296875 \r\nQ 5.515625 40.1875 11.734375 48.09375 \r\nQ 17.96875 56 27.875 56 \r\nQ 33.9375 56 38.25 53.625 \r\nQ 42.578125 51.265625 45.40625 46.390625 \r\nz\r\nM 14.796875 27.296875 \r\nQ 14.796875 17.390625 18.875 11.75 \r\nQ 22.953125 6.109375 30.078125 6.109375 \r\nQ 37.203125 6.109375 41.296875 11.75 \r\nQ 45.40625 17.390625 45.40625 27.296875 \r\nQ 45.40625 37.203125 41.296875 42.84375 \r\nQ 37.203125 48.484375 30.078125 48.484375 \r\nQ 22.953125 48.484375 18.875 42.84375 \r\nQ 14.796875 37.203125 14.796875 27.296875 \r\nz\r\n\" id=\"DejaVuSans-100\"/>\r\n      <path d=\"M 52 44.1875 \r\nQ 55.375 50.25 60.0625 53.125 \r\nQ 64.75 56 71.09375 56 \r\nQ 79.640625 56 84.28125 50.015625 \r\nQ 88.921875 44.046875 88.921875 33.015625 \r\nL 88.921875 0 \r\nL 79.890625 0 \r\nL 79.890625 32.71875 \r\nQ 79.890625 40.578125 77.09375 44.375 \r\nQ 74.3125 48.1875 68.609375 48.1875 \r\nQ 61.625 48.1875 57.5625 43.546875 \r\nQ 53.515625 38.921875 53.515625 30.90625 \r\nL 53.515625 0 \r\nL 44.484375 0 \r\nL 44.484375 32.71875 \r\nQ 44.484375 40.625 41.703125 44.40625 \r\nQ 38.921875 48.1875 33.109375 48.1875 \r\nQ 26.21875 48.1875 22.15625 43.53125 \r\nQ 18.109375 38.875 18.109375 30.90625 \r\nL 18.109375 0 \r\nL 9.078125 0 \r\nL 9.078125 54.6875 \r\nL 18.109375 54.6875 \r\nL 18.109375 46.1875 \r\nQ 21.1875 51.21875 25.484375 53.609375 \r\nQ 29.78125 56 35.6875 56 \r\nQ 41.65625 56 45.828125 52.96875 \r\nQ 50 49.953125 52 44.1875 \r\nz\r\n\" id=\"DejaVuSans-109\"/>\r\n     </defs>\r\n     <g transform=\"translate(416.64625 360.431562)scale(0.16 -0.16)\">\r\n      <use xlink:href=\"#DejaVuSans-82\"/>\r\n      <use x=\"69.451172\" xlink:href=\"#DejaVuSans-97\"/>\r\n      <use x=\"130.730469\" xlink:href=\"#DejaVuSans-110\"/>\r\n      <use x=\"194.109375\" xlink:href=\"#DejaVuSans-100\"/>\r\n      <use x=\"257.585938\" xlink:href=\"#DejaVuSans-111\"/>\r\n      <use x=\"318.767578\" xlink:href=\"#DejaVuSans-109\"/>\r\n      <use x=\"416.179688\" xlink:href=\"#DejaVuSans-32\"/>\r\n      <use x=\"447.966797\" xlink:href=\"#DejaVuSans-70\"/>\r\n      <use x=\"505.439453\" xlink:href=\"#DejaVuSans-111\"/>\r\n      <use x=\"566.621094\" xlink:href=\"#DejaVuSans-114\"/>\r\n      <use x=\"607.703125\" xlink:href=\"#DejaVuSans-101\"/>\r\n      <use x=\"669.226562\" xlink:href=\"#DejaVuSans-115\"/>\r\n      <use x=\"721.326172\" xlink:href=\"#DejaVuSans-116\"/>\r\n     </g>\r\n    </g>\r\n   </g>\r\n  </g>\r\n </g>\r\n <defs>\r\n  <clipPath id=\"p9fb34d8453\">\r\n   <rect height=\"366.4\" width=\"499.9625\" x=\"52.76875\" y=\"11.759062\"/>\r\n  </clipPath>\r\n </defs>\r\n</svg>\r\n",
      "image/png": "[encoded data removed]"
     },
     "metadata": {
      "needs_background": "light"
     }
    }
   ],
   "source": [
    "plt.figure(figsize=(8, 6))\n",
    "plt.plot(fpr, tpr, \"b:\", linewidth=2, label=\"SGD\")\n",
    "plot_roc_curve(fpr_forest, tpr_forest, \"Random Forest\")\n",
    "plt.plot([red_dot_point, red_dot_point], [0., 0.4368], \"r:\")\n",
    "plt.plot([0.0, red_dot_point], [0.4368, 0.4368], \"r:\")\n",
    "plt.plot([red_dot_point], [0.4368], \"ro\")\n",
    "plt.plot([red_dot_point, red_dot_point], [0., 0.9487], \"r:\")\n",
    "plt.plot([red_dot_point], [0.9487], \"ro\")\n",
    "plt.grid(True)\n",
    "plt.legend(loc=\"lower right\", fontsize=16)\n",
    "save_fig(\"roc_curve_comparison_plot\")\n",
    "plt.show()"
   ]
  },
  {
   "cell_type": "code",
   "execution_count": 31,
   "metadata": {},
   "outputs": [
    {
     "output_type": "stream",
     "name": "stdout",
     "text": [
      "ROC AUC score:  0.9661457190904439\n"
     ]
    }
   ],
   "source": [
    "print('ROC AUC score: ',roc_auc_score(y_train_C, y_scores_forest))"
   ]
  },
  {
   "cell_type": "code",
   "execution_count": 32,
   "metadata": {},
   "outputs": [
    {
     "output_type": "stream",
     "name": "stdout",
     "text": [
      "Precision score : 0.9334733893557423\nRecall score : 0.9453900709219858\n"
     ]
    }
   ],
   "source": [
    "y_train_pred_forest = cross_val_predict(forest_clf, X_train_cat1, y_train_C, cv=3)\n",
    "print('Precision score :',precision_score(y_train_C, y_train_pred_forest))\n",
    "print('Recall score :',recall_score(y_train_C, y_train_pred_forest))"
   ]
  },
  {
   "source": [
    "## Repeat Binary Classification with Random Forest for Category_0\n",
    "This is a higher level of categorisation\n",
    "NOTE: there are 10 categories from 0 to 9, and category 2 holds about half of the records, so the data is very imbalanced.   \n",
    "We need to address this later, and for now we only try this class, which should be the easist to predict"
   ],
   "cell_type": "markdown",
   "metadata": {}
  },
  {
   "cell_type": "code",
   "execution_count": 33,
   "metadata": {},
   "outputs": [
    {
     "output_type": "stream",
     "name": "stdout",
     "text": [
      "Length all data:  2574 \nLength \"Category_0 = 2\" data:  1509\nPercentage in this category:  58.624708624708624\n"
     ]
    }
   ],
   "source": [
    "Cat = 'Category_0'\n",
    "col = 'Descr_Low_dim'\n",
    "X_train_cat0, X_test_cat0, y_train_cat0, y_test_cat0 = get_test_train(CPA, Cat, col)\n",
    "## set chosen class for the binary classifier \n",
    "chosen_class = 2\n",
    "y_train_2 = (y_train_cat0 == chosen_class)\n",
    "y_test_2 = (y_test_cat0 == chosen_class)\n",
    "# These are the labels or actual classes we train data on\n",
    "y_train_cat0\n",
    "print('Length all data: ',len(y_train_cat0),'\\nLength \"Category_0 = 2\" data: ', len(y_train_2[y_train_2]))\n",
    "print('Percentage in this category: ', len(y_train_2[y_train_2])/len(y_train_cat0)*100 )"
   ]
  },
  {
   "cell_type": "code",
   "execution_count": 34,
   "metadata": {},
   "outputs": [
    {
     "output_type": "stream",
     "name": "stdout",
     "text": [
      "AUC score for Category_0 class 2:  0.9444618672938894\nPrecision score for Category_0 class 2:  0.9485488126649076\nRecall score for Category_0 class 2:  0.9529489728296885\n"
     ]
    }
   ],
   "source": [
    "Cat = 'Category_0'\n",
    "col = 'Descr_Low_dim'\n",
    "X_train_cat0, X_test_cat0, y_train_cat0, y_test_cat0 = get_test_train(CPA, Cat, col)\n",
    "## set chosen class for the binary classifier \n",
    "chosen_class = 2\n",
    "y_train_2 = (y_train_cat0 == chosen_class)\n",
    "y_test_2 = (y_test_cat0 == chosen_class)\n",
    "\n",
    "# set up random forest classifier\n",
    "y_probas_forest0 = cross_val_predict(forest_clf, X_train_cat0, y_train_2, cv=3,\n",
    "                                    method=\"predict_proba\")\n",
    "\n",
    "y_scores_forest_0 = y_probas_forest[:, 1] # score = proba of positive class\n",
    "y_train_pred_forest_0 = cross_val_predict(forest_clf, X_train_cat0, y_train_2, cv=3)\n",
    "\n",
    "print('AUC score for Category_0 class 2: ', roc_auc_score(y_train_2, y_scores_forest_0))\n",
    "print('Precision score for Category_0 class 2: ', precision_score(y_train_2, y_train_pred_forest_0))\n",
    "print('Recall score for Category_0 class 2: ', recall_score(y_train_2, y_train_pred_forest_0))\n"
   ]
  },
  {
   "source": [
    "# Imbalanced Data Metrics\n",
    "Our data is imbalanced in the sense that the numbers of items in each class varies a lot.   \n",
    "This section diagresses from the book.\n",
    "\n",
    "NOTE: I had quite a lot of difficulty getting VS Code to recognise imblearn. Finally it worked using !pip install imblearn in jupyter cell directly"
   ],
   "cell_type": "markdown",
   "metadata": {}
  },
  {
   "source": [],
   "cell_type": "markdown",
   "metadata": {}
  },
  {
   "cell_type": "code",
   "execution_count": 37,
   "metadata": {},
   "outputs": [
    {
     "output_type": "stream",
     "name": "stdout",
     "text": [
      "                   pre       rec       spe        f1       geo       iba       sup\n\n      False       0.93      0.92      0.95      0.93      0.93      0.87      1164\n       True       0.93      0.95      0.92      0.94      0.93      0.87      1410\n\navg / total       0.93      0.93      0.93      0.93      0.93      0.87      2574\n\n"
     ]
    }
   ],
   "source": [
    "print(classification_report_imbalanced(y_train_C, y_train_pred_forest))"
   ]
  },
  {
   "cell_type": "code",
   "execution_count": 38,
   "metadata": {},
   "outputs": [
    {
     "output_type": "stream",
     "name": "stdout",
     "text": [
      "                   pre       rec       spe        f1       geo       iba       sup\n\n      False       0.93      0.93      0.95      0.93      0.94      0.88      1065\n       True       0.95      0.95      0.93      0.95      0.94      0.89      1509\n\navg / total       0.94      0.94      0.94      0.94      0.94      0.88      2574\n\n"
     ]
    }
   ],
   "source": [
    "print(classification_report_imbalanced(y_train_2, y_train_pred_forest_0))"
   ]
  },
  {
   "cell_type": "markdown",
   "metadata": {},
   "source": [
    "# Multiclass classification\n",
    "Whereas binary classifiers distinguish between two classes, multiclass classifiers (also called multinomial classifiers) can distinguish between more than two classes.\n",
    "\n",
    "Some algorithms (such as Logistic Regression classifiers, Random Forest classifiers, and naive Bayes classifiers) are capable of handling multiple classes natively. Others (such as SGD Classifiers or Support Vector Machine classifiers) are strictly binary classifiers. However, there are various strategies that you can use to perform multiclass classification with multiple binary classifiers.\n",
    "\n",
    "** One-versus-rest **   \n",
    "One way to create a system that can classify the digit images into 10 classes (from 0 to 9) is to train 10 binary classifiers, one for each digit (a 0-detector, a 1-detector, a 2-detector, and so on). Then when you want to classify an image, you get the decision score from each classifier for that image and you select the class whose classifier outputs the highest score. This is called the one-versus-the-rest (OvR) strategy (also called one-versus-all).\n",
    "\n",
    "** One-versus-one **   \n",
    "Another strategy is to train a binary classifier for every pair of digits: one to distinguish 0s and 1s, another to distinguish 0s and 2s, another for 1s and 2s, and so on. This is called the one-versus-one (OvO) strategy. If there are N classes, you need to train N × (N – 1) / 2 classifiers. For the MNIST problem, this means training 45 binary classifiers! When you want to classify an image, you have to run the image through all 45 classifiers and see which class wins the most duels. The main advantage of OvO is that each classifier only needs to be trained on the part of the training set for the two classes that it must distinguish.\n",
    "\n",
    "Some algorithms (such as Support Vector Machine classifiers) *scale poorly with the size of the training set*. For these algorithms OvO is preferred because it is faster to train many classifiers on small training sets than to train few classifiers on large training sets. ** For most binary classification algorithms, however, OvR is preferred. **\n"
   ]
  },
  {
   "source": [
    "## Support Vector Machine classifier\n",
    "Scikit-Learn detects when you try to use a binary classification algorithm for a multiclass classification task, and it automatically runs OvR or OvO, depending on the algorithm. Let’s try this with a Support Vector Machine classifier (see Chapter 5), using the sklearn.svm.SVC class:"
   ],
   "cell_type": "markdown",
   "metadata": {}
  },
  {
   "cell_type": "code",
   "execution_count": 40,
   "metadata": {},
   "outputs": [
    {
     "output_type": "execute_result",
     "data": {
      "text/plain": [
       "SVC(gamma='auto', random_state=42)"
      ]
     },
     "metadata": {},
     "execution_count": 40
    }
   ],
   "source": [
    "from sklearn.svm import SVC\n",
    "\n",
    "svm_clf = SVC(gamma=\"auto\", random_state=42)\n",
    "svm_clf.fit(X_train_cat1, y_train_cat1) # y_train, not y_train_binary\n"
   ]
  },
  {
   "cell_type": "code",
   "execution_count": 41,
   "metadata": {},
   "outputs": [
    {
     "output_type": "execute_result",
     "data": {
      "text/plain": [
       "array(['C'], dtype='<U1')"
      ]
     },
     "metadata": {},
     "execution_count": 41
    }
   ],
   "source": [
    "## To follow the book, let's set up a test item. The class should be 'C'\n",
    "test_item = CPA[CPA.Category_1=='C'].iloc[438].Descr_Low_dim\n",
    "svm_clf.predict([test_item])"
   ]
  },
  {
   "source": [
    "Under the hood, Scikit-Learn actually used the OvO strategy: it trained N * (N-1) binary classifiers, got their decision scores for the image, and selected the class that won the most duels.\n",
    "\n",
    "If you call the decision_function() method, you will see that it returns N scores per instance (instead of just 1). That’s one score per class (it’s the number of won duels plus or minus a small tweak to break ties, based on the binary classifier scores)"
   ],
   "cell_type": "markdown",
   "metadata": {}
  },
  {
   "cell_type": "code",
   "execution_count": 42,
   "metadata": {},
   "outputs": [
    {
     "output_type": "execute_result",
     "data": {
      "text/plain": [
       "array([[18.30169153, 10.22993143, 20.31857842, 10.21599858, 12.28365483,\n",
       "        17.3076748 , 14.29589074,  7.73826124,  4.69463905, 19.3144225 ,\n",
       "         3.69376389,  1.68671612, 16.30424451, 12.27334282,  2.69176576,\n",
       "         5.70107527,  6.70662097, 11.24100426, 15.29481816,  0.68748909,\n",
       "        -0.31568006]])"
      ]
     },
     "metadata": {},
     "execution_count": 42
    }
   ],
   "source": [
    "some_digit_scores = svm_clf.decision_function([test_item])\n",
    "some_digit_scores"
   ]
  },
  {
   "cell_type": "code",
   "execution_count": 43,
   "metadata": {},
   "outputs": [
    {
     "output_type": "execute_result",
     "data": {
      "text/plain": [
       "array(['A', 'B', 'C', 'D', 'E', 'F', 'G', 'H', 'I', 'J', 'K', 'L', 'M',\n",
       "       'N', 'O', 'P', 'Q', 'R', 'S', 'T', 'U'], dtype='<U1')"
      ]
     },
     "metadata": {},
     "execution_count": 43
    }
   ],
   "source": [
    "svm_clf.classes_"
   ]
  },
  {
   "source": [
    "** The highest score is indeed the one corresponding to class 'C' **"
   ],
   "cell_type": "markdown",
   "metadata": {}
  },
  {
   "cell_type": "code",
   "execution_count": 44,
   "metadata": {},
   "outputs": [
    {
     "output_type": "execute_result",
     "data": {
      "text/plain": [
       "'C'"
      ]
     },
     "metadata": {},
     "execution_count": 44
    }
   ],
   "source": [
    "svm_clf.classes_[2]"
   ]
  },
  {
   "source": [
    "### Try out the accuracy measures for this classifier"
   ],
   "cell_type": "markdown",
   "metadata": {}
  },
  {
   "cell_type": "code",
   "execution_count": 45,
   "metadata": {},
   "outputs": [
    {
     "output_type": "stream",
     "name": "stderr",
     "text": [
      "C:\\Users\\annoc\\Anaconda3\\lib\\site-packages\\sklearn\\model_selection\\_split.py:668: UserWarning: The least populated class in y has only 1 members, which is less than n_splits=3.\n  % (min_groups, self.n_splits)), UserWarning)\n"
     ]
    },
    {
     "output_type": "execute_result",
     "data": {
      "text/plain": [
       "array([0.82400932, 0.82517483, 0.81701632])"
      ]
     },
     "metadata": {},
     "execution_count": 45
    }
   ],
   "source": [
    "cross_val_score(svm_clf, X_train_cat1, y_train_cat1, cv=3, scoring=\"accuracy\")"
   ]
  },
  {
   "cell_type": "code",
   "execution_count": 46,
   "metadata": {},
   "outputs": [
    {
     "output_type": "stream",
     "name": "stderr",
     "text": [
      "C:\\Users\\annoc\\Anaconda3\\lib\\site-packages\\sklearn\\model_selection\\_split.py:668: UserWarning: The least populated class in y has only 1 members, which is less than n_splits=3.\n  % (min_groups, self.n_splits)), UserWarning)\n"
     ]
    },
    {
     "output_type": "execute_result",
     "data": {
      "text/plain": [
       "array([[  78,    0,   78,    0,    0,    0,    0,    0,    0,    1,    0,\n",
       "           0,    0,    0,    0,    0,    0,    0,    2,    0,    0],\n",
       "       [   0,    0,   29,    0,    0,    0,    0,    0,    0,    0,    0,\n",
       "           0,    0,    0,    0,    0,    0,    0,    0,    0,    0],\n",
       "       [  30,    1, 1330,    0,    0,    1,   15,   14,    0,   14,    0,\n",
       "           0,    2,    3,    0,    0,    0,    0,    0,    0,    0],\n",
       "       [   0,    0,    7,    3,    0,    0,    1,    0,    0,    0,    0,\n",
       "           0,    0,    0,    0,    0,    0,    0,    0,    0,    0],\n",
       "       [   0,    0,   11,    0,   47,    0,    0,    0,    0,    0,    0,\n",
       "           0,    1,    0,    0,    0,    0,    0,    0,    0,    0],\n",
       "       [   0,    0,   19,    0,    0,   43,    1,    0,    0,    0,    0,\n",
       "           0,    0,    0,    0,    0,    2,    1,    0,    0,    0],\n",
       "       [   0,    0,   19,    0,    0,    0,  162,    0,    0,    5,    0,\n",
       "           0,    0,    0,    0,    0,    0,    0,    0,    0,    0],\n",
       "       [   0,    0,    4,    0,    0,    0,    0,   77,    1,    4,    1,\n",
       "           0,    1,    8,    0,    0,    1,    0,    0,    1,    0],\n",
       "       [   0,    0,    0,    0,    0,    1,    0,    0,   11,    0,    0,\n",
       "           2,    0,    1,    0,    0,    1,    1,    0,    1,    0],\n",
       "       [   0,    0,    8,    0,    0,    0,    0,    0,    0,   96,    0,\n",
       "           0,    4,    0,    0,    0,    2,    0,    0,    0,    0],\n",
       "       [   0,    0,    0,    0,    0,    0,    4,    0,    0,    0,   60,\n",
       "           0,    5,    2,    0,    0,    0,    0,    0,    0,    0],\n",
       "       [   0,    0,    0,    0,    0,    0,    0,    0,    0,    0,    0,\n",
       "          15,    0,    0,    0,    0,    0,    0,    0,    0,    0],\n",
       "       [   0,    0,    5,    0,    0,    0,    1,    3,    0,    9,    6,\n",
       "           0,   81,    6,    0,    0,    1,    1,    0,    0,    0],\n",
       "       [   0,    0,    5,    0,    2,    0,    3,    0,    1,    7,    1,\n",
       "           0,    9,   38,    0,    0,    2,    0,    3,    0,    0],\n",
       "       [   0,    0,    0,    0,    0,    0,    0,    0,    0,    0,    1,\n",
       "           0,    3,   18,    0,    0,    0,    0,    0,    0,    0],\n",
       "       [   0,    0,    0,    0,    0,    0,    0,    0,    0,    0,    0,\n",
       "           0,    0,    2,    0,   22,    2,    3,    0,    0,    0],\n",
       "       [   0,    0,    0,    0,    0,    0,    2,    0,    0,    0,    0,\n",
       "           0,    3,    1,    0,    0,   29,    0,    0,    0,    0],\n",
       "       [   0,    0,    2,    0,    0,    1,    0,    0,    0,    7,    0,\n",
       "           0,    1,    1,    0,    0,    2,   13,    0,    0,    0],\n",
       "       [   0,    0,   10,    0,    0,    0,    7,    0,    1,    0,    0,\n",
       "           0,    2,    7,    0,    0,    6,    0,    7,    0,    0],\n",
       "       [   0,    0,    0,    0,    0,    0,    0,    0,    0,    0,    0,\n",
       "           0,    0,    0,    0,    0,    0,    0,    0,    4,    0],\n",
       "       [   0,    0,    0,    0,    0,    0,    0,    0,    0,    0,    0,\n",
       "           0,    0,    0,    0,    0,    1,    0,    0,    0,    0]],\n",
       "      dtype=int64)"
      ]
     },
     "metadata": {},
     "execution_count": 46
    }
   ],
   "source": [
    "y_train_pred_tmp = cross_val_predict(svm_clf, X_train_cat1, y_train_cat1, cv=3)\n",
    "conf_mx_tmp = confusion_matrix(y_train_cat1, y_train_pred_tmp)\n",
    "conf_mx_tmp"
   ]
  },
  {
   "cell_type": "code",
   "execution_count": 47,
   "metadata": {},
   "outputs": [
    {
     "output_type": "stream",
     "name": "stdout",
     "text": [
      "                   pre       rec       spe        f1       geo       iba       sup\n",
      "\n",
      "          A       0.72      0.49      0.99      0.58      0.70      0.46       159\n",
      "          B       0.00      0.00      1.00      0.00      0.00      0.00        29\n",
      "          C       0.87      0.94      0.83      0.91      0.89      0.79      1410\n",
      "          D       1.00      0.27      1.00      0.43      0.52      0.25        11\n",
      "          E       0.96      0.80      1.00      0.87      0.89      0.78        59\n",
      "          F       0.93      0.65      1.00      0.77      0.81      0.63        66\n",
      "          G       0.83      0.87      0.99      0.85      0.93      0.85       186\n",
      "          H       0.82      0.79      0.99      0.80      0.88      0.76        98\n",
      "          I       0.79      0.61      1.00      0.69      0.78      0.59        18\n",
      "          J       0.67      0.87      0.98      0.76      0.93      0.85       110\n",
      "          K       0.87      0.85      1.00      0.86      0.92      0.83        71\n",
      "          L       0.88      1.00      1.00      0.94      1.00      1.00        15\n",
      "          M       0.72      0.72      0.99      0.72      0.84      0.69       113\n",
      "          N       0.44      0.54      0.98      0.48      0.72      0.50        71\n",
      "          O       0.00      0.00      1.00      0.00      0.00      0.00        22\n",
      "          P       1.00      0.76      1.00      0.86      0.87      0.74        29\n",
      "          Q       0.59      0.83      0.99      0.69      0.91      0.81        35\n",
      "          R       0.68      0.48      1.00      0.57      0.69      0.46        27\n",
      "          S       0.58      0.17      1.00      0.27      0.42      0.16        40\n",
      "          T       0.67      1.00      1.00      0.80      1.00      1.00         4\n",
      "          U       0.00      0.00      1.00      0.00      0.00      0.00         1\n",
      "\n",
      "avg / total       0.81      0.82      0.90      0.81      0.84      0.73      2574\n",
      "\n",
      "C:\\Users\\annoc\\Anaconda3\\lib\\site-packages\\sklearn\\metrics\\_classification.py:1245: UndefinedMetricWarning: Precision and F-score are ill-defined and being set to 0.0 in labels with no predicted samples. Use `zero_division` parameter to control this behavior.\n",
      "  _warn_prf(average, modifier, msg_start, len(result))\n"
     ]
    }
   ],
   "source": [
    "print(classification_report_imbalanced(y_train_cat1, y_train_pred_tmp))"
   ]
  },
  {
   "source": [
    "## Repeat this for the Category_0 classification"
   ],
   "cell_type": "markdown",
   "metadata": {}
  },
  {
   "cell_type": "code",
   "execution_count": 74,
   "metadata": {},
   "outputs": [
    {
     "output_type": "stream",
     "name": "stdout",
     "text": [
      "                   pre       rec       spe        f1       geo       iba       sup\n\n          1       0.72      0.49      0.99      0.58      0.70      0.46       159\n          2       0.91      0.95      0.86      0.93      0.90      0.82      1509\n          3       0.96      0.67      1.00      0.79      0.82      0.64        66\n          4       0.78      0.88      0.97      0.83      0.92      0.84       302\n          5       0.68      0.85      0.98      0.75      0.91      0.82       110\n          6       0.88      0.85      1.00      0.86      0.92      0.83        71\n          7       0.94      1.00      1.00      0.97      1.00      1.00        15\n          8       0.72      0.65      0.98      0.68      0.80      0.61       184\n          9       0.79      0.74      0.99      0.77      0.86      0.72        86\n         10       0.67      0.36      0.99      0.47      0.60      0.34        72\n\navg / total       0.85      0.85      0.91      0.85      0.87      0.77      2574\n\n"
     ]
    }
   ],
   "source": [
    "y_train_pred_0 = cross_val_predict(svm_clf, X_train_cat0, y_train_cat0, cv=3)\n",
    "print(classification_report_imbalanced(y_train_cat0, y_train_pred_0))"
   ]
  },
  {
   "source": [
    "If you want to force Scikit-Learn to use one-versus-one or one-versus-the-rest, you can use the OneVsOneClassifier or OneVsRestClassifier classes. Simply create an instance and pass a classifier to its constructor (it does not even have to be a binary classifier). For example, this code creates a multiclass classifier using the OvR strategy, based on an SVC:"
   ],
   "cell_type": "markdown",
   "metadata": {}
  },
  {
   "cell_type": "code",
   "execution_count": 49,
   "metadata": {},
   "outputs": [
    {
     "output_type": "execute_result",
     "data": {
      "text/plain": [
       "OneVsRestClassifier(estimator=SVC(gamma='auto', random_state=42))"
      ]
     },
     "metadata": {},
     "execution_count": 49
    }
   ],
   "source": [
    "from sklearn.multiclass import OneVsRestClassifier\n",
    "ovr_clf = OneVsRestClassifier(SVC(gamma=\"auto\", random_state=42))\n",
    "ovr_clf.fit(X_train_cat1, y_train_cat1)"
   ]
  },
  {
   "cell_type": "code",
   "execution_count": 50,
   "metadata": {},
   "outputs": [
    {
     "output_type": "execute_result",
     "data": {
      "text/plain": [
       "21"
      ]
     },
     "metadata": {},
     "execution_count": 50
    }
   ],
   "source": [
    "len(ovr_clf.estimators_)"
   ]
  },
  {
   "cell_type": "code",
   "execution_count": 51,
   "metadata": {},
   "outputs": [
    {
     "output_type": "stream",
     "name": "stderr",
     "text": [
      "C:\\Users\\annoc\\Anaconda3\\lib\\site-packages\\sklearn\\model_selection\\_split.py:668: UserWarning: The least populated class in y has only 1 members, which is less than n_splits=3.\n  % (min_groups, self.n_splits)), UserWarning)\n"
     ]
    },
    {
     "output_type": "execute_result",
     "data": {
      "text/plain": [
       "array([0.81585082, 0.81934732, 0.80652681])"
      ]
     },
     "metadata": {},
     "execution_count": 51
    }
   ],
   "source": [
    "cross_val_score(ovr_clf, X_train_cat1, y_train_cat1, cv=3, scoring=\"accuracy\")"
   ]
  },
  {
   "cell_type": "code",
   "execution_count": 52,
   "metadata": {},
   "outputs": [
    {
     "output_type": "stream",
     "name": "stderr",
     "text": [
      "C:\\Users\\annoc\\Anaconda3\\lib\\site-packages\\sklearn\\model_selection\\_split.py:668: UserWarning: The least populated class in y has only 1 members, which is less than n_splits=3.\n  % (min_groups, self.n_splits)), UserWarning)\n"
     ]
    }
   ],
   "source": [
    "y_train_pred_ovr = cross_val_predict(ovr_clf, X_train_cat1, y_train_cat1, cv=3)"
   ]
  },
  {
   "cell_type": "code",
   "execution_count": 53,
   "metadata": {},
   "outputs": [
    {
     "output_type": "stream",
     "name": "stdout",
     "text": [
      "                   pre       rec       spe        f1       geo       iba       sup\n",
      "\n",
      "          A       0.72      0.42      0.99      0.53      0.64      0.39       159\n",
      "          B       0.00      0.00      1.00      0.00      0.00      0.00        29\n",
      "          C       0.86      0.94      0.82      0.90      0.88      0.78      1410\n",
      "          D       1.00      0.27      1.00      0.43      0.52      0.25        11\n",
      "          E       0.91      0.81      1.00      0.86      0.90      0.80        59\n",
      "          F       0.79      0.68      1.00      0.73      0.82      0.66        66\n",
      "          G       0.83      0.82      0.99      0.83      0.90      0.80       186\n",
      "          H       0.79      0.80      0.99      0.79      0.89      0.77        98\n",
      "          I       0.75      0.33      1.00      0.46      0.58      0.31        18\n",
      "          J       0.65      0.89      0.98      0.75      0.93      0.86       110\n",
      "          K       0.82      0.87      0.99      0.84      0.93      0.86        71\n",
      "          L       0.60      1.00      1.00      0.75      1.00      1.00        15\n",
      "          M       0.70      0.65      0.99      0.67      0.80      0.62       113\n",
      "          N       0.55      0.38      0.99      0.45      0.61      0.35        71\n",
      "          O       0.52      0.50      1.00      0.51      0.71      0.47        22\n",
      "          P       1.00      0.76      1.00      0.86      0.87      0.74        29\n",
      "          Q       0.68      0.86      0.99      0.76      0.92      0.84        35\n",
      "          R       0.69      0.41      1.00      0.51      0.64      0.38        27\n",
      "          S       0.61      0.28      1.00      0.38      0.52      0.25        40\n",
      "          T       0.67      1.00      1.00      0.80      1.00      1.00         4\n",
      "          U       0.00      0.00      1.00      0.00      0.00      0.00         1\n",
      "\n",
      "avg / total       0.80      0.81      0.90      0.80      0.84      0.71      2574\n",
      "\n",
      "C:\\Users\\annoc\\Anaconda3\\lib\\site-packages\\sklearn\\metrics\\_classification.py:1245: UndefinedMetricWarning: Precision and F-score are ill-defined and being set to 0.0 in labels with no predicted samples. Use `zero_division` parameter to control this behavior.\n",
      "  _warn_prf(average, modifier, msg_start, len(result))\n"
     ]
    }
   ],
   "source": [
    "print(classification_report_imbalanced(y_train_cat1, y_train_pred_ovr))"
   ]
  },
  {
   "source": [
    "## Stochastic Gradient Descent Multi classifier\n",
    "Training an SGDClassifier is just as easy"
   ],
   "cell_type": "markdown",
   "metadata": {}
  },
  {
   "cell_type": "code",
   "execution_count": 75,
   "metadata": {},
   "outputs": [
    {
     "output_type": "execute_result",
     "data": {
      "text/plain": [
       "SGDClassifier(random_state=42)"
      ]
     },
     "metadata": {},
     "execution_count": 75
    }
   ],
   "source": [
    "sgd_clf.fit(X_train_cat1, y_train_cat1)"
   ]
  },
  {
   "cell_type": "code",
   "execution_count": null,
   "metadata": {},
   "outputs": [],
   "source": []
  },
  {
   "source": [
    "This time Scikit-Learn used the OvR strategy under the hood: since there are N classes, it trained N binary classifiers. The decision_function() method now returns one value per class. Let’s look at the score that the SGD classifier assigned to each class:"
   ],
   "cell_type": "markdown",
   "metadata": {}
  },
  {
   "cell_type": "code",
   "execution_count": 76,
   "metadata": {},
   "outputs": [
    {
     "output_type": "execute_result",
     "data": {
      "text/plain": [
       "array([[ -19.59777066,  -53.4049766 ,    4.82074766,  -57.01429805,\n",
       "         -34.40895527,  -77.28092638,  -27.38892744,  -34.52738137,\n",
       "          -2.97945232,  -29.41250031,  -48.17511284,  -74.01339338,\n",
       "         -21.88581657,  -25.52490274,  -67.9379445 ,  -51.80721982,\n",
       "         -43.06197861,  -53.11652044,  -21.53340544,  -79.91837538,\n",
       "        -115.23741774]])"
      ]
     },
     "metadata": {},
     "execution_count": 76
    }
   ],
   "source": [
    "sgd_clf.decision_function([test_item])"
   ]
  },
  {
   "cell_type": "code",
   "execution_count": 77,
   "metadata": {},
   "outputs": [
    {
     "output_type": "stream",
     "name": "stderr",
     "text": [
      "C:\\Users\\annoc\\Anaconda3\\lib\\site-packages\\sklearn\\model_selection\\_split.py:668: UserWarning: The least populated class in y has only 1 members, which is less than n_splits=3.\n  % (min_groups, self.n_splits)), UserWarning)\n"
     ]
    },
    {
     "output_type": "execute_result",
     "data": {
      "text/plain": [
       "array([0.75291375, 0.71794872, 0.74825175])"
      ]
     },
     "metadata": {},
     "execution_count": 77
    }
   ],
   "source": [
    "cross_val_score(sgd_clf, X_train_cat1, y_train_cat1, cv=3, scoring=\"accuracy\")"
   ]
  },
  {
   "source": [
    "## Improving results using a scaler\n",
    "These results are already a lot better than a random classifier.   \n",
    "QUESTION: since our data is already vectorized, is using this scalar meaningful?"
   ],
   "cell_type": "markdown",
   "metadata": {}
  },
  {
   "cell_type": "code",
   "execution_count": 78,
   "metadata": {},
   "outputs": [
    {
     "output_type": "stream",
     "name": "stderr",
     "text": [
      "C:\\Users\\annoc\\Anaconda3\\lib\\site-packages\\sklearn\\model_selection\\_split.py:668: UserWarning: The least populated class in y has only 1 members, which is less than n_splits=3.\n  % (min_groups, self.n_splits)), UserWarning)\n"
     ]
    },
    {
     "output_type": "execute_result",
     "data": {
      "text/plain": [
       "array([0.75058275, 0.75641026, 0.75291375])"
      ]
     },
     "metadata": {},
     "execution_count": 78
    }
   ],
   "source": [
    "from sklearn.preprocessing import StandardScaler\n",
    "scaler = StandardScaler()\n",
    "X_train_scaled = scaler.fit_transform(X_train_cat1.astype(np.float64))\n",
    "cross_val_score(sgd_clf, X_train_scaled, y_train_cat1, cv=3, scoring=\"accuracy\")"
   ]
  },
  {
   "cell_type": "code",
   "execution_count": 81,
   "metadata": {},
   "outputs": [
    {
     "output_type": "stream",
     "name": "stderr",
     "text": [
      "C:\\Users\\annoc\\Anaconda3\\lib\\site-packages\\sklearn\\model_selection\\_split.py:668: UserWarning: The least populated class in y has only 1 members, which is less than n_splits=3.\n  % (min_groups, self.n_splits)), UserWarning)\n"
     ]
    },
    {
     "output_type": "execute_result",
     "data": {
      "text/plain": [
       "array([[  67,    0,   88,    0,    0,    0,    0,    0,    0,    1,    0,\n",
       "           0,    0,    3,    0,    0,    0,    0,    0,    0,    0],\n",
       "       [   0,    0,   27,    1,    0,    0,    0,    1,    0,    0,    0,\n",
       "           0,    0,    0,    0,    0,    0,    0,    0,    0,    0],\n",
       "       [  60,    1, 1297,    1,    0,    2,    5,   23,    0,   14,    0,\n",
       "           0,    1,    3,    0,    0,    0,    1,    2,    0,    0],\n",
       "       [   0,    0,    6,    4,    0,    0,    1,    0,    0,    0,    0,\n",
       "           0,    0,    0,    0,    0,    0,    0,    0,    0,    0],\n",
       "       [   0,    0,    9,    1,   47,    0,    0,    0,    0,    0,    0,\n",
       "           0,    0,    2,    0,    0,    0,    0,    0,    0,    0],\n",
       "       [   0,    0,   14,    0,    0,   40,    1,    4,    0,    0,    0,\n",
       "           0,    0,    7,    0,    0,    0,    0,    0,    0,    0],\n",
       "       [   1,    0,   57,    0,    0,    0,  123,    0,    0,    5,    0,\n",
       "           0,    0,    0,    0,    0,    0,    0,    0,    0,    0],\n",
       "       [   1,    0,    6,    0,    0,    0,    2,   78,    0,    5,    1,\n",
       "           0,    0,    4,    0,    0,    0,    0,    0,    1,    0],\n",
       "       [   0,    0,    0,    0,    0,    1,    0,    0,    0,    0,    0,\n",
       "           0,    0,   13,    0,    0,    0,    0,    3,    1,    0],\n",
       "       [   0,    0,    8,    0,    0,    0,    0,    0,    0,   98,    0,\n",
       "           0,    0,    4,    0,    0,    0,    0,    0,    0,    0],\n",
       "       [   0,    0,    4,    0,    0,    0,    0,    1,    0,    1,   55,\n",
       "           0,    0,    9,    0,    0,    0,    0,    1,    0,    0],\n",
       "       [   0,    0,    0,    0,    0,    0,    0,    0,    1,    0,    5,\n",
       "           5,    0,    4,    0,    0,    0,    0,    0,    0,    0],\n",
       "       [   0,    0,    5,    0,    0,    1,    1,    3,    0,   18,    5,\n",
       "           0,   57,   22,    0,    0,    0,    0,    1,    0,    0],\n",
       "       [   0,    0,    7,    0,    2,    0,   10,    5,    0,    9,    1,\n",
       "           0,    4,   28,    0,    0,    1,    0,    4,    0,    0],\n",
       "       [   0,    0,    0,    0,    0,    0,    0,    0,    0,    0,    1,\n",
       "           0,    2,   15,    0,    0,    0,    0,    4,    0,    0],\n",
       "       [   1,    0,    0,    0,    0,    1,    0,    0,    0,    0,    0,\n",
       "           0,    0,    5,    0,   21,    0,    0,    1,    0,    0],\n",
       "       [   0,    0,    1,    0,    0,    0,    1,    0,    0,    0,    0,\n",
       "           0,    1,   15,    0,    1,   14,    0,    2,    0,    0],\n",
       "       [   0,    0,    2,    0,    0,    7,    0,    0,    0,    7,    0,\n",
       "           0,    1,    9,    0,    0,    0,    1,    0,    0,    0],\n",
       "       [   0,    0,   16,    0,    0,    0,    1,    0,    0,    2,    0,\n",
       "           0,    3,   11,    4,    0,    1,    0,    2,    0,    0],\n",
       "       [   0,    0,    1,    0,    0,    0,    0,    0,    0,    0,    0,\n",
       "           0,    0,    0,    0,    0,    0,    0,    1,    2,    0],\n",
       "       [   0,    0,    0,    0,    0,    0,    0,    0,    0,    0,    0,\n",
       "           0,    0,    0,    1,    0,    0,    0,    0,    0,    0]],\n",
       "      dtype=int64)"
      ]
     },
     "metadata": {},
     "execution_count": 81
    }
   ],
   "source": [
    "y_train_pred = cross_val_predict(sgd_clf, X_train_scaled, y_train_cat1, cv=3)\n",
    "conf_mx = confusion_matrix(y_train_cat1, y_train_pred)\n",
    "conf_mx"
   ]
  },
  {
   "cell_type": "code",
   "execution_count": 82,
   "metadata": {},
   "outputs": [
    {
     "output_type": "stream",
     "name": "stdout",
     "text": [
      "                   pre       rec       spe        f1       geo       iba       sup\n",
      "\n",
      "          A       0.52      0.42      0.97      0.46      0.64      0.39       159\n",
      "          B       0.00      0.00      1.00      0.00      0.00      0.00        29\n",
      "          C       0.84      0.92      0.78      0.88      0.85      0.73      1410\n",
      "          D       0.57      0.36      1.00      0.44      0.60      0.34        11\n",
      "          E       0.96      0.80      1.00      0.87      0.89      0.78        59\n",
      "          F       0.77      0.61      1.00      0.68      0.78      0.58        66\n",
      "          G       0.85      0.66      0.99      0.74      0.81      0.63       186\n",
      "          H       0.68      0.80      0.99      0.73      0.89      0.77        98\n",
      "          I       0.00      0.00      1.00      0.00      0.00      0.00        18\n",
      "          J       0.61      0.89      0.97      0.73      0.93      0.86       110\n",
      "          K       0.81      0.77      0.99      0.79      0.88      0.75        71\n",
      "          L       1.00      0.33      1.00      0.50      0.58      0.31        15\n",
      "          M       0.83      0.50      1.00      0.63      0.71      0.48       113\n",
      "          N       0.18      0.39      0.95      0.25      0.61      0.35        71\n",
      "          O       0.00      0.00      1.00      0.00      0.00      0.00        22\n",
      "          P       0.95      0.72      1.00      0.82      0.85      0.70        29\n",
      "          Q       0.88      0.40      1.00      0.55      0.63      0.38        35\n",
      "          R       0.50      0.04      1.00      0.07      0.19      0.03        27\n",
      "          S       0.10      0.05      0.99      0.07      0.22      0.04        40\n",
      "          T       0.50      0.50      1.00      0.50      0.71      0.47         4\n",
      "          U       0.00      0.00      1.00      0.00      0.00      0.00         1\n",
      "\n",
      "avg / total       0.75      0.75      0.88      0.74      0.78      0.64      2574\n",
      "\n",
      "C:\\Users\\annoc\\Anaconda3\\lib\\site-packages\\sklearn\\metrics\\_classification.py:1245: UndefinedMetricWarning: Precision and F-score are ill-defined and being set to 0.0 in labels with no predicted samples. Use `zero_division` parameter to control this behavior.\n",
      "  _warn_prf(average, modifier, msg_start, len(result))\n"
     ]
    }
   ],
   "source": [
    "print(classification_report_imbalanced(y_train_cat1, y_train_pred))"
   ]
  },
  {
   "cell_type": "code",
   "execution_count": 83,
   "metadata": {},
   "outputs": [
    {
     "output_type": "stream",
     "name": "stdout",
     "text": [
      "                   pre       rec       spe        f1       geo       iba       sup\n\n          1       0.48      0.57      0.96      0.52      0.74      0.52       159\n          2       0.90      0.88      0.87      0.89      0.87      0.77      1509\n          3       0.74      0.64      0.99      0.68      0.80      0.61        66\n          4       0.67      0.79      0.95      0.73      0.87      0.74       302\n          5       0.61      0.86      0.98      0.71      0.92      0.83       110\n          6       0.79      0.85      0.99      0.82      0.92      0.83        71\n          7       1.00      0.33      1.00      0.50      0.58      0.31        15\n          8       0.57      0.48      0.97      0.52      0.68      0.44       184\n          9       0.80      0.57      1.00      0.67      0.75      0.54        86\n         10       0.21      0.14      0.98      0.17      0.37      0.13        72\n\navg / total       0.78      0.78      0.91      0.78      0.83      0.70      2574\n\n"
     ]
    }
   ],
   "source": [
    "y_train_pred_0 = cross_val_predict(sgd_clf, X_train_scaled, y_train_cat0, cv=3)\n",
    "X_train_scaled_0 = scaler.fit_transform(X_train_cat0.astype(np.float64))\n",
    "print(classification_report_imbalanced(y_train_cat0, y_train_pred_0))"
   ]
  },
  {
   "cell_type": "code",
   "execution_count": 80,
   "metadata": {},
   "outputs": [
    {
     "output_type": "stream",
     "name": "stdout",
     "text": [
      "Saving figure confusion_matrix_plot\n"
     ]
    },
    {
     "output_type": "display_data",
     "data": {
      "text/plain": "<Figure size 576x576 with 2 Axes>",
      "image/svg+xml": "<?xml version=\"1.0\" encoding=\"utf-8\" standalone=\"no\"?>\r\n<!DOCTYPE svg PUBLIC \"-//W3C//DTD SVG 1.1//EN\"\r\n  \"http://www.w3.org/Graphics/SVG/1.1/DTD/svg11.dtd\">\r\n<!-- Created with matplotlib (https://matplotlib.org/) -->\r\n<svg height=\"456.334687pt\" version=\"1.1\" viewBox=\"0 0 475.394 456.334687\" width=\"475.394pt\" xmlns=\"http://www.w3.org/2000/svg\" xmlns:xlink=\"http://www.w3.org/1999/xlink\">\r\n <defs>\r\n  <style type=\"text/css\">\r\n*{stroke-linecap:butt;stroke-linejoin:round;white-space:pre;}\r\n  </style>\r\n </defs>\r\n <g id=\"figure_1\">\r\n  <g id=\"patch_1\">\r\n   <path d=\"M 0 456.334687 \r\nL 475.394 456.334687 \r\nL 475.394 0 \r\nL 0 0 \r\nz\r\n\" style=\"fill:none;\"/>\r\n  </g>\r\n  <g id=\"axes_1\">\r\n   <g id=\"patch_2\">\r\n    <path d=\"M 29.47 403.2 \r\nL 386.59 403.2 \r\nL 386.59 46.08 \r\nL 29.47 46.08 \r\nz\r\n\" style=\"fill:#ffffff;\"/>\r\n   </g>\r\n   <g clip-path=\"url(#p1f0947226b)\">\r\n    <image height=\"358\" id=\"image21101e1abd\" transform=\"scale(1 -1)translate(0 -358)\" width=\"358\" x=\"29.47\" xlink:href=\"data:image/png;base64,\r\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\" y=\"-45.2\"/>\r\n   </g>\r\n   <g id=\"matplotlib.axis_1\">\r\n    <g id=\"xtick_1\">\r\n     <g id=\"line2d_1\">\r\n      <defs>\r\n       <path d=\"M 0 0 \r\nL 0 3.5 \r\n\" id=\"me54441e50c\" style=\"stroke:#000000;stroke-width:0.8;\"/>\r\n      </defs>\r\n      <g>\r\n       <use style=\"stroke:#000000;stroke-width:0.8;\" x=\"37.972857\" xlink:href=\"#me54441e50c\" y=\"403.2\"/>\r\n      </g>\r\n     </g>\r\n     <g id=\"line2d_2\">\r\n      <defs>\r\n       <path d=\"M 0 0 \r\nL 0 -3.5 \r\n\" id=\"m7d17af949e\" style=\"stroke:#000000;stroke-width:0.8;\"/>\r\n      </defs>\r\n      <g>\r\n       <use style=\"stroke:#000000;stroke-width:0.8;\" x=\"37.972857\" xlink:href=\"#m7d17af949e\" y=\"46.08\"/>\r\n      </g>\r\n     </g>\r\n     <g id=\"text_1\">\r\n      <!-- 0 -->\r\n      <defs>\r\n       <path d=\"M 31.78125 66.40625 \r\nQ 24.171875 66.40625 20.328125 58.90625 \r\nQ 16.5 51.421875 16.5 36.375 \r\nQ 16.5 21.390625 20.328125 13.890625 \r\nQ 24.171875 6.390625 31.78125 6.390625 \r\nQ 39.453125 6.390625 43.28125 13.890625 \r\nQ 47.125 21.390625 47.125 36.375 \r\nQ 47.125 51.421875 43.28125 58.90625 \r\nQ 39.453125 66.40625 31.78125 66.40625 \r\nz\r\nM 31.78125 74.21875 \r\nQ 44.046875 74.21875 50.515625 64.515625 \r\nQ 56.984375 54.828125 56.984375 36.375 \r\nQ 56.984375 17.96875 50.515625 8.265625 \r\nQ 44.046875 -1.421875 31.78125 -1.421875 \r\nQ 19.53125 -1.421875 13.0625 8.265625 \r\nQ 6.59375 17.96875 6.59375 36.375 \r\nQ 6.59375 54.828125 13.0625 64.515625 \r\nQ 19.53125 74.21875 31.78125 74.21875 \r\nz\r\n\" id=\"DejaVuSans-48\"/>\r\n      </defs>\r\n      <g transform=\"translate(34.155357 36.584375)scale(0.12 -0.12)\">\r\n       <use xlink:href=\"#DejaVuSans-48\"/>\r\n      </g>\r\n     </g>\r\n    </g>\r\n    <g id=\"xtick_2\">\r\n     <g id=\"line2d_3\">\r\n      <g>\r\n       <use style=\"stroke:#000000;stroke-width:0.8;\" x=\"123.001429\" xlink:href=\"#me54441e50c\" y=\"403.2\"/>\r\n      </g>\r\n     </g>\r\n     <g id=\"line2d_4\">\r\n      <g>\r\n       <use style=\"stroke:#000000;stroke-width:0.8;\" x=\"123.001429\" xlink:href=\"#m7d17af949e\" y=\"46.08\"/>\r\n      </g>\r\n     </g>\r\n     <g id=\"text_2\">\r\n      <!-- 5 -->\r\n      <defs>\r\n       <path d=\"M 10.796875 72.90625 \r\nL 49.515625 72.90625 \r\nL 49.515625 64.59375 \r\nL 19.828125 64.59375 \r\nL 19.828125 46.734375 \r\nQ 21.96875 47.46875 24.109375 47.828125 \r\nQ 26.265625 48.1875 28.421875 48.1875 \r\nQ 40.625 48.1875 47.75 41.5 \r\nQ 54.890625 34.8125 54.890625 23.390625 \r\nQ 54.890625 11.625 47.5625 5.09375 \r\nQ 40.234375 -1.421875 26.90625 -1.421875 \r\nQ 22.3125 -1.421875 17.546875 -0.640625 \r\nQ 12.796875 0.140625 7.71875 1.703125 \r\nL 7.71875 11.625 \r\nQ 12.109375 9.234375 16.796875 8.0625 \r\nQ 21.484375 6.890625 26.703125 6.890625 \r\nQ 35.15625 6.890625 40.078125 11.328125 \r\nQ 45.015625 15.765625 45.015625 23.390625 \r\nQ 45.015625 31 40.078125 35.4375 \r\nQ 35.15625 39.890625 26.703125 39.890625 \r\nQ 22.75 39.890625 18.8125 39.015625 \r\nQ 14.890625 38.140625 10.796875 36.28125 \r\nz\r\n\" id=\"DejaVuSans-53\"/>\r\n      </defs>\r\n      <g transform=\"translate(119.183929 36.584375)scale(0.12 -0.12)\">\r\n       <use xlink:href=\"#DejaVuSans-53\"/>\r\n      </g>\r\n     </g>\r\n    </g>\r\n    <g id=\"xtick_3\">\r\n     <g id=\"line2d_5\">\r\n      <g>\r\n       <use style=\"stroke:#000000;stroke-width:0.8;\" x=\"208.03\" xlink:href=\"#me54441e50c\" y=\"403.2\"/>\r\n      </g>\r\n     </g>\r\n     <g id=\"line2d_6\">\r\n      <g>\r\n       <use style=\"stroke:#000000;stroke-width:0.8;\" x=\"208.03\" xlink:href=\"#m7d17af949e\" y=\"46.08\"/>\r\n      </g>\r\n     </g>\r\n     <g id=\"text_3\">\r\n      <!-- 10 -->\r\n      <defs>\r\n       <path d=\"M 12.40625 8.296875 \r\nL 28.515625 8.296875 \r\nL 28.515625 63.921875 \r\nL 10.984375 60.40625 \r\nL 10.984375 69.390625 \r\nL 28.421875 72.90625 \r\nL 38.28125 72.90625 \r\nL 38.28125 8.296875 \r\nL 54.390625 8.296875 \r\nL 54.390625 0 \r\nL 12.40625 0 \r\nz\r\n\" id=\"DejaVuSans-49\"/>\r\n      </defs>\r\n      <g transform=\"translate(200.395 36.584375)scale(0.12 -0.12)\">\r\n       <use xlink:href=\"#DejaVuSans-49\"/>\r\n       <use x=\"63.623047\" xlink:href=\"#DejaVuSans-48\"/>\r\n      </g>\r\n     </g>\r\n    </g>\r\n    <g id=\"xtick_4\">\r\n     <g id=\"line2d_7\">\r\n      <g>\r\n       <use style=\"stroke:#000000;stroke-width:0.8;\" x=\"293.058571\" xlink:href=\"#me54441e50c\" y=\"403.2\"/>\r\n      </g>\r\n     </g>\r\n     <g id=\"line2d_8\">\r\n      <g>\r\n       <use style=\"stroke:#000000;stroke-width:0.8;\" x=\"293.058571\" xlink:href=\"#m7d17af949e\" y=\"46.08\"/>\r\n      </g>\r\n     </g>\r\n     <g id=\"text_4\">\r\n      <!-- 15 -->\r\n      <g transform=\"translate(285.423571 36.584375)scale(0.12 -0.12)\">\r\n       <use xlink:href=\"#DejaVuSans-49\"/>\r\n       <use x=\"63.623047\" xlink:href=\"#DejaVuSans-53\"/>\r\n      </g>\r\n     </g>\r\n    </g>\r\n    <g id=\"xtick_5\">\r\n     <g id=\"line2d_9\">\r\n      <g>\r\n       <use style=\"stroke:#000000;stroke-width:0.8;\" x=\"378.087143\" xlink:href=\"#me54441e50c\" y=\"403.2\"/>\r\n      </g>\r\n     </g>\r\n     <g id=\"line2d_10\">\r\n      <g>\r\n       <use style=\"stroke:#000000;stroke-width:0.8;\" x=\"378.087143\" xlink:href=\"#m7d17af949e\" y=\"46.08\"/>\r\n      </g>\r\n     </g>\r\n     <g id=\"text_5\">\r\n      <!-- 20 -->\r\n      <defs>\r\n       <path d=\"M 19.1875 8.296875 \r\nL 53.609375 8.296875 \r\nL 53.609375 0 \r\nL 7.328125 0 \r\nL 7.328125 8.296875 \r\nQ 12.9375 14.109375 22.625 23.890625 \r\nQ 32.328125 33.6875 34.8125 36.53125 \r\nQ 39.546875 41.84375 41.421875 45.53125 \r\nQ 43.3125 49.21875 43.3125 52.78125 \r\nQ 43.3125 58.59375 39.234375 62.25 \r\nQ 35.15625 65.921875 28.609375 65.921875 \r\nQ 23.96875 65.921875 18.8125 64.3125 \r\nQ 13.671875 62.703125 7.8125 59.421875 \r\nL 7.8125 69.390625 \r\nQ 13.765625 71.78125 18.9375 73 \r\nQ 24.125 74.21875 28.421875 74.21875 \r\nQ 39.75 74.21875 46.484375 68.546875 \r\nQ 53.21875 62.890625 53.21875 53.421875 \r\nQ 53.21875 48.921875 51.53125 44.890625 \r\nQ 49.859375 40.875 45.40625 35.40625 \r\nQ 44.1875 33.984375 37.640625 27.21875 \r\nQ 31.109375 20.453125 19.1875 8.296875 \r\nz\r\n\" id=\"DejaVuSans-50\"/>\r\n      </defs>\r\n      <g transform=\"translate(370.452143 36.584375)scale(0.12 -0.12)\">\r\n       <use xlink:href=\"#DejaVuSans-50\"/>\r\n       <use x=\"63.623047\" xlink:href=\"#DejaVuSans-48\"/>\r\n      </g>\r\n     </g>\r\n    </g>\r\n   </g>\r\n   <g id=\"matplotlib.axis_2\">\r\n    <g id=\"ytick_1\">\r\n     <g id=\"line2d_11\">\r\n      <defs>\r\n       <path d=\"M 0 0 \r\nL -3.5 0 \r\n\" id=\"m7e81bb41a8\" style=\"stroke:#000000;stroke-width:0.8;\"/>\r\n      </defs>\r\n      <g>\r\n       <use style=\"stroke:#000000;stroke-width:0.8;\" x=\"29.47\" xlink:href=\"#m7e81bb41a8\" y=\"54.582857\"/>\r\n      </g>\r\n     </g>\r\n     <g id=\"text_6\">\r\n      <!-- 0 -->\r\n      <g transform=\"translate(14.835 59.14192)scale(0.12 -0.12)\">\r\n       <use xlink:href=\"#DejaVuSans-48\"/>\r\n      </g>\r\n     </g>\r\n    </g>\r\n    <g id=\"ytick_2\">\r\n     <g id=\"line2d_12\">\r\n      <g>\r\n       <use style=\"stroke:#000000;stroke-width:0.8;\" x=\"29.47\" xlink:href=\"#m7e81bb41a8\" y=\"139.611429\"/>\r\n      </g>\r\n     </g>\r\n     <g id=\"text_7\">\r\n      <!-- 5 -->\r\n      <g transform=\"translate(14.835 144.170491)scale(0.12 -0.12)\">\r\n       <use xlink:href=\"#DejaVuSans-53\"/>\r\n      </g>\r\n     </g>\r\n    </g>\r\n    <g id=\"ytick_3\">\r\n     <g id=\"line2d_13\">\r\n      <g>\r\n       <use style=\"stroke:#000000;stroke-width:0.8;\" x=\"29.47\" xlink:href=\"#m7e81bb41a8\" y=\"224.64\"/>\r\n      </g>\r\n     </g>\r\n     <g id=\"text_8\">\r\n      <!-- 10 -->\r\n      <g transform=\"translate(7.2 229.199062)scale(0.12 -0.12)\">\r\n       <use xlink:href=\"#DejaVuSans-49\"/>\r\n       <use x=\"63.623047\" xlink:href=\"#DejaVuSans-48\"/>\r\n      </g>\r\n     </g>\r\n    </g>\r\n    <g id=\"ytick_4\">\r\n     <g id=\"line2d_14\">\r\n      <g>\r\n       <use style=\"stroke:#000000;stroke-width:0.8;\" x=\"29.47\" xlink:href=\"#m7e81bb41a8\" y=\"309.668571\"/>\r\n      </g>\r\n     </g>\r\n     <g id=\"text_9\">\r\n      <!-- 15 -->\r\n      <g transform=\"translate(7.2 314.227634)scale(0.12 -0.12)\">\r\n       <use xlink:href=\"#DejaVuSans-49\"/>\r\n       <use x=\"63.623047\" xlink:href=\"#DejaVuSans-53\"/>\r\n      </g>\r\n     </g>\r\n    </g>\r\n    <g id=\"ytick_5\">\r\n     <g id=\"line2d_15\">\r\n      <g>\r\n       <use style=\"stroke:#000000;stroke-width:0.8;\" x=\"29.47\" xlink:href=\"#m7e81bb41a8\" y=\"394.697143\"/>\r\n      </g>\r\n     </g>\r\n     <g id=\"text_10\">\r\n      <!-- 20 -->\r\n      <g transform=\"translate(7.2 399.256205)scale(0.12 -0.12)\">\r\n       <use xlink:href=\"#DejaVuSans-50\"/>\r\n       <use x=\"63.623047\" xlink:href=\"#DejaVuSans-48\"/>\r\n      </g>\r\n     </g>\r\n    </g>\r\n   </g>\r\n   <g id=\"patch_3\">\r\n    <path d=\"M 29.47 403.2 \r\nL 29.47 46.08 \r\n\" style=\"fill:none;stroke:#000000;stroke-linecap:square;stroke-linejoin:miter;stroke-width:0.8;\"/>\r\n   </g>\r\n   <g id=\"patch_4\">\r\n    <path d=\"M 386.59 403.2 \r\nL 386.59 46.08 \r\n\" style=\"fill:none;stroke:#000000;stroke-linecap:square;stroke-linejoin:miter;stroke-width:0.8;\"/>\r\n   </g>\r\n   <g id=\"patch_5\">\r\n    <path d=\"M 29.47 403.2 \r\nL 386.59 403.2 \r\n\" style=\"fill:none;stroke:#000000;stroke-linecap:square;stroke-linejoin:miter;stroke-width:0.8;\"/>\r\n   </g>\r\n   <g id=\"patch_6\">\r\n    <path d=\"M 29.47 46.08 \r\nL 386.59 46.08 \r\n\" style=\"fill:none;stroke:#000000;stroke-linecap:square;stroke-linejoin:miter;stroke-width:0.8;\"/>\r\n   </g>\r\n  </g>\r\n  <g id=\"axes_2\">\r\n   <g id=\"patch_7\">\r\n    <path clip-path=\"url(#pd0e10db6bf)\" d=\"M 408.91 442.08 \r\nL 408.91 440.38125 \r\nL 408.91 8.89875 \r\nL 408.91 7.2 \r\nL 430.654 7.2 \r\nL 430.654 8.89875 \r\nL 430.654 440.38125 \r\nL 430.654 442.08 \r\nz\r\n\" style=\"fill:#ffffff;stroke:#ffffff;stroke-linejoin:miter;stroke-width:0.01;\"/>\r\n   </g>\r\n   <image height=\"435\" id=\"image3225ade963\" transform=\"scale(1 -1)translate(0 -435)\" width=\"22\" x=\"409\" xlink:href=\"data:image/png;base64,\r\niVBORw0KGgoAAAANSUhEUgAAABYAAAGzCAYAAAArEufSAAAABHNCSVQICAgIfAhkiAAAAkVJREFUeJztncGNwzAQAyVbpV0J138pl3tEot0AHwMMCyAWJJeSHSSZP/P3MwpYY14N3tFhHWOsec0KcW9iNQ4xT4oBjFvJvHnhzCtJ0YxbhxspBW3iabuFmBc33sR2xYYTv4hxtUk0z6I/xEDznPgQ2xUbvYk/PfMqvJr3wIkf4laOm2dehxhoHi/Hxu0hxkkBNK8zMLErPtbmRnNBSsQ8KXib543+wKJ/iFsrbW0GSI1bxLhXN5oXYqIUxm0TEy8sHWLjFhi3APkAWSJ28w7cvIAnBW/zeBorRcCLmy9CAl7cgFLwJrYrQqwUB7y4AaXgTax5B6vyrb9h3F6w6AOgeXbFAXBizTsATmy7hVgpDngTa15Qm9gSCnjmASf2XnHggryJO0/Tmhc0zesQa16geYFdEQAvhby44cyrLQjQPCd+EdNqk2eeXfEirvBWfyKsQ6x5gV0RrDE074s1PZo2eBojpegQA4uet3k889y8A2LcSsQ8jYnm4Rbk0rwN5MQl4lYqNC9YV+lxzLgFxi2w6ANg3FpdoXmBEwe9rgBKgTulNe/AiV/E5nijOfFfhZinsXELeHFbN08KYNxK5vFyfGveBq/dkF2heZv4VoqNYrvVih5Xmy0peEXvmRd4rwiacaOZByz6ksbE2sRtXvGUppnHu9ET282i/wIYt9ZKA4ueF7faJ+lE89y8L4D3CqB5uKLv3eg1b4PXbkjzOsQ885pHU4n4BppH+/uDonk8KWgTt+JGlAIYtw43b0HWPXlSwCb+B5UfjmjTopNhAAAAAElFTkSuQmCC\" y=\"-7\"/>\r\n   <g id=\"matplotlib.axis_3\"/>\r\n   <g id=\"matplotlib.axis_4\">\r\n    <g id=\"ytick_6\">\r\n     <g id=\"line2d_16\">\r\n      <defs>\r\n       <path d=\"M 0 0 \r\nL 3.5 0 \r\n\" id=\"m373bb73bf9\" style=\"stroke:#000000;stroke-width:0.8;\"/>\r\n      </defs>\r\n      <g>\r\n       <use style=\"stroke:#000000;stroke-width:0.8;\" x=\"430.654\" xlink:href=\"#m373bb73bf9\" y=\"442.08\"/>\r\n      </g>\r\n     </g>\r\n     <g id=\"text_11\">\r\n      <!-- 0 -->\r\n      <g transform=\"translate(437.654 446.639062)scale(0.12 -0.12)\">\r\n       <use xlink:href=\"#DejaVuSans-48\"/>\r\n      </g>\r\n     </g>\r\n    </g>\r\n    <g id=\"ytick_7\">\r\n     <g id=\"line2d_17\">\r\n      <g>\r\n       <use style=\"stroke:#000000;stroke-width:0.8;\" x=\"430.654\" xlink:href=\"#m373bb73bf9\" y=\"375.020632\"/>\r\n      </g>\r\n     </g>\r\n     <g id=\"text_12\">\r\n      <!-- 200 -->\r\n      <g transform=\"translate(437.654 379.579695)scale(0.12 -0.12)\">\r\n       <use xlink:href=\"#DejaVuSans-50\"/>\r\n       <use x=\"63.623047\" xlink:href=\"#DejaVuSans-48\"/>\r\n       <use x=\"127.246094\" xlink:href=\"#DejaVuSans-48\"/>\r\n      </g>\r\n     </g>\r\n    </g>\r\n    <g id=\"ytick_8\">\r\n     <g id=\"line2d_18\">\r\n      <g>\r\n       <use style=\"stroke:#000000;stroke-width:0.8;\" x=\"430.654\" xlink:href=\"#m373bb73bf9\" y=\"307.961264\"/>\r\n      </g>\r\n     </g>\r\n     <g id=\"text_13\">\r\n      <!-- 400 -->\r\n      <defs>\r\n       <path d=\"M 37.796875 64.3125 \r\nL 12.890625 25.390625 \r\nL 37.796875 25.390625 \r\nz\r\nM 35.203125 72.90625 \r\nL 47.609375 72.90625 \r\nL 47.609375 25.390625 \r\nL 58.015625 25.390625 \r\nL 58.015625 17.1875 \r\nL 47.609375 17.1875 \r\nL 47.609375 0 \r\nL 37.796875 0 \r\nL 37.796875 17.1875 \r\nL 4.890625 17.1875 \r\nL 4.890625 26.703125 \r\nz\r\n\" id=\"DejaVuSans-52\"/>\r\n      </defs>\r\n      <g transform=\"translate(437.654 312.520327)scale(0.12 -0.12)\">\r\n       <use xlink:href=\"#DejaVuSans-52\"/>\r\n       <use x=\"63.623047\" xlink:href=\"#DejaVuSans-48\"/>\r\n       <use x=\"127.246094\" xlink:href=\"#DejaVuSans-48\"/>\r\n      </g>\r\n     </g>\r\n    </g>\r\n    <g id=\"ytick_9\">\r\n     <g id=\"line2d_19\">\r\n      <g>\r\n       <use style=\"stroke:#000000;stroke-width:0.8;\" x=\"430.654\" xlink:href=\"#m373bb73bf9\" y=\"240.901897\"/>\r\n      </g>\r\n     </g>\r\n     <g id=\"text_14\">\r\n      <!-- 600 -->\r\n      <defs>\r\n       <path d=\"M 33.015625 40.375 \r\nQ 26.375 40.375 22.484375 35.828125 \r\nQ 18.609375 31.296875 18.609375 23.390625 \r\nQ 18.609375 15.53125 22.484375 10.953125 \r\nQ 26.375 6.390625 33.015625 6.390625 \r\nQ 39.65625 6.390625 43.53125 10.953125 \r\nQ 47.40625 15.53125 47.40625 23.390625 \r\nQ 47.40625 31.296875 43.53125 35.828125 \r\nQ 39.65625 40.375 33.015625 40.375 \r\nz\r\nM 52.59375 71.296875 \r\nL 52.59375 62.3125 \r\nQ 48.875 64.0625 45.09375 64.984375 \r\nQ 41.3125 65.921875 37.59375 65.921875 \r\nQ 27.828125 65.921875 22.671875 59.328125 \r\nQ 17.53125 52.734375 16.796875 39.40625 \r\nQ 19.671875 43.65625 24.015625 45.921875 \r\nQ 28.375 48.1875 33.59375 48.1875 \r\nQ 44.578125 48.1875 50.953125 41.515625 \r\nQ 57.328125 34.859375 57.328125 23.390625 \r\nQ 57.328125 12.15625 50.6875 5.359375 \r\nQ 44.046875 -1.421875 33.015625 -1.421875 \r\nQ 20.359375 -1.421875 13.671875 8.265625 \r\nQ 6.984375 17.96875 6.984375 36.375 \r\nQ 6.984375 53.65625 15.1875 63.9375 \r\nQ 23.390625 74.21875 37.203125 74.21875 \r\nQ 40.921875 74.21875 44.703125 73.484375 \r\nQ 48.484375 72.75 52.59375 71.296875 \r\nz\r\n\" id=\"DejaVuSans-54\"/>\r\n      </defs>\r\n      <g transform=\"translate(437.654 245.460959)scale(0.12 -0.12)\">\r\n       <use xlink:href=\"#DejaVuSans-54\"/>\r\n       <use x=\"63.623047\" xlink:href=\"#DejaVuSans-48\"/>\r\n       <use x=\"127.246094\" xlink:href=\"#DejaVuSans-48\"/>\r\n      </g>\r\n     </g>\r\n    </g>\r\n    <g id=\"ytick_10\">\r\n     <g id=\"line2d_20\">\r\n      <g>\r\n       <use style=\"stroke:#000000;stroke-width:0.8;\" x=\"430.654\" xlink:href=\"#m373bb73bf9\" y=\"173.842529\"/>\r\n      </g>\r\n     </g>\r\n     <g id=\"text_15\">\r\n      <!-- 800 -->\r\n      <defs>\r\n       <path d=\"M 31.78125 34.625 \r\nQ 24.75 34.625 20.71875 30.859375 \r\nQ 16.703125 27.09375 16.703125 20.515625 \r\nQ 16.703125 13.921875 20.71875 10.15625 \r\nQ 24.75 6.390625 31.78125 6.390625 \r\nQ 38.8125 6.390625 42.859375 10.171875 \r\nQ 46.921875 13.96875 46.921875 20.515625 \r\nQ 46.921875 27.09375 42.890625 30.859375 \r\nQ 38.875 34.625 31.78125 34.625 \r\nz\r\nM 21.921875 38.8125 \r\nQ 15.578125 40.375 12.03125 44.71875 \r\nQ 8.5 49.078125 8.5 55.328125 \r\nQ 8.5 64.0625 14.71875 69.140625 \r\nQ 20.953125 74.21875 31.78125 74.21875 \r\nQ 42.671875 74.21875 48.875 69.140625 \r\nQ 55.078125 64.0625 55.078125 55.328125 \r\nQ 55.078125 49.078125 51.53125 44.71875 \r\nQ 48 40.375 41.703125 38.8125 \r\nQ 48.828125 37.15625 52.796875 32.3125 \r\nQ 56.78125 27.484375 56.78125 20.515625 \r\nQ 56.78125 9.90625 50.3125 4.234375 \r\nQ 43.84375 -1.421875 31.78125 -1.421875 \r\nQ 19.734375 -1.421875 13.25 4.234375 \r\nQ 6.78125 9.90625 6.78125 20.515625 \r\nQ 6.78125 27.484375 10.78125 32.3125 \r\nQ 14.796875 37.15625 21.921875 38.8125 \r\nz\r\nM 18.3125 54.390625 \r\nQ 18.3125 48.734375 21.84375 45.5625 \r\nQ 25.390625 42.390625 31.78125 42.390625 \r\nQ 38.140625 42.390625 41.71875 45.5625 \r\nQ 45.3125 48.734375 45.3125 54.390625 \r\nQ 45.3125 60.0625 41.71875 63.234375 \r\nQ 38.140625 66.40625 31.78125 66.40625 \r\nQ 25.390625 66.40625 21.84375 63.234375 \r\nQ 18.3125 60.0625 18.3125 54.390625 \r\nz\r\n\" id=\"DejaVuSans-56\"/>\r\n      </defs>\r\n      <g transform=\"translate(437.654 178.401591)scale(0.12 -0.12)\">\r\n       <use xlink:href=\"#DejaVuSans-56\"/>\r\n       <use x=\"63.623047\" xlink:href=\"#DejaVuSans-48\"/>\r\n       <use x=\"127.246094\" xlink:href=\"#DejaVuSans-48\"/>\r\n      </g>\r\n     </g>\r\n    </g>\r\n    <g id=\"ytick_11\">\r\n     <g id=\"line2d_21\">\r\n      <g>\r\n       <use style=\"stroke:#000000;stroke-width:0.8;\" x=\"430.654\" xlink:href=\"#m373bb73bf9\" y=\"106.783161\"/>\r\n      </g>\r\n     </g>\r\n     <g id=\"text_16\">\r\n      <!-- 1000 -->\r\n      <g transform=\"translate(437.654 111.342224)scale(0.12 -0.12)\">\r\n       <use xlink:href=\"#DejaVuSans-49\"/>\r\n       <use x=\"63.623047\" xlink:href=\"#DejaVuSans-48\"/>\r\n       <use x=\"127.246094\" xlink:href=\"#DejaVuSans-48\"/>\r\n       <use x=\"190.869141\" xlink:href=\"#DejaVuSans-48\"/>\r\n      </g>\r\n     </g>\r\n    </g>\r\n    <g id=\"ytick_12\">\r\n     <g id=\"line2d_22\">\r\n      <g>\r\n       <use style=\"stroke:#000000;stroke-width:0.8;\" x=\"430.654\" xlink:href=\"#m373bb73bf9\" y=\"39.723793\"/>\r\n      </g>\r\n     </g>\r\n     <g id=\"text_17\">\r\n      <!-- 1200 -->\r\n      <g transform=\"translate(437.654 44.282856)scale(0.12 -0.12)\">\r\n       <use xlink:href=\"#DejaVuSans-49\"/>\r\n       <use x=\"63.623047\" xlink:href=\"#DejaVuSans-50\"/>\r\n       <use x=\"127.246094\" xlink:href=\"#DejaVuSans-48\"/>\r\n       <use x=\"190.869141\" xlink:href=\"#DejaVuSans-48\"/>\r\n      </g>\r\n     </g>\r\n    </g>\r\n   </g>\r\n   <g id=\"patch_8\">\r\n    <path d=\"M 408.91 442.08 \r\nL 408.91 440.38125 \r\nL 408.91 8.89875 \r\nL 408.91 7.2 \r\nL 430.654 7.2 \r\nL 430.654 8.89875 \r\nL 430.654 440.38125 \r\nL 430.654 442.08 \r\nz\r\n\" style=\"fill:none;stroke:#000000;stroke-linejoin:miter;stroke-width:0.8;\"/>\r\n   </g>\r\n  </g>\r\n </g>\r\n <defs>\r\n  <clipPath id=\"p1f0947226b\">\r\n   <rect height=\"357.12\" width=\"357.12\" x=\"29.47\" y=\"46.08\"/>\r\n  </clipPath>\r\n  <clipPath id=\"pd0e10db6bf\">\r\n   <rect height=\"434.88\" width=\"21.744\" x=\"408.91\" y=\"7.2\"/>\r\n  </clipPath>\r\n </defs>\r\n</svg>\r\n",
      "image/png": "[encoded data removed]"
     },
     "metadata": {
      "needs_background": "light"
     }
    }
   ],
   "source": [
    "# since sklearn 0.22, you can use sklearn.metrics.plot_confusion_matrix()\n",
    "def plot_confusion_matrix(matrix):\n",
    "    \"\"\"If you prefer color and a colorbar\"\"\"\n",
    "    fig = plt.figure(figsize=(8,8))\n",
    "    ax = fig.add_subplot(111)\n",
    "    cax = ax.matshow(matrix)\n",
    "    fig.colorbar(cax)\n",
    "\n",
    "#plt.matshow(conf_mx, cmap=plt.cm.gray) # greyscale version\n",
    "plot_confusion_matrix(conf_mx)\n",
    "save_fig(\"confusion_matrix_plot\", tight_layout=False)\n",
    "plt.show()"
   ]
  },
  {
   "cell_type": "code",
   "execution_count": 71,
   "metadata": {},
   "outputs": [],
   "source": [
    "row_sums = conf_mx.sum(axis=1, keepdims=True)\n",
    "norm_conf_mx = conf_mx / row_sums"
   ]
  },
  {
   "cell_type": "code",
   "execution_count": 73,
   "metadata": {},
   "outputs": [
    {
     "output_type": "stream",
     "name": "stdout",
     "text": [
      "Saving figure confusion_matrix_errors_plot\n"
     ]
    },
    {
     "output_type": "display_data",
     "data": {
      "text/plain": "<Figure size 576x576 with 2 Axes>",
      "image/svg+xml": "<?xml version=\"1.0\" encoding=\"utf-8\" standalone=\"no\"?>\r\n<!DOCTYPE svg PUBLIC \"-//W3C//DTD SVG 1.1//EN\"\r\n  \"http://www.w3.org/Graphics/SVG/1.1/DTD/svg11.dtd\">\r\n<!-- Created with matplotlib (https://matplotlib.org/) -->\r\n<svg height=\"460.89375pt\" version=\"1.1\" viewBox=\"0 0 463.93775 460.89375\" width=\"463.93775pt\" xmlns=\"http://www.w3.org/2000/svg\" xmlns:xlink=\"http://www.w3.org/1999/xlink\">\r\n <defs>\r\n  <style type=\"text/css\">\r\n*{stroke-linecap:butt;stroke-linejoin:round;white-space:pre;}\r\n  </style>\r\n </defs>\r\n <g id=\"figure_1\">\r\n  <g id=\"patch_1\">\r\n   <path d=\"M 0 460.89375 \r\nL 463.93775 460.89375 \r\nL 463.93775 0 \r\nL 0 0 \r\nz\r\n\" style=\"fill:none;\"/>\r\n  </g>\r\n  <g id=\"axes_1\">\r\n   <g id=\"patch_2\">\r\n    <path d=\"M 29.47 407.759062 \r\nL 386.59 407.759062 \r\nL 386.59 50.639062 \r\nL 29.47 50.639062 \r\nz\r\n\" style=\"fill:#ffffff;\"/>\r\n   </g>\r\n   <g clip-path=\"url(#pd757eb8fb3)\">\r\n    <image height=\"358\" id=\"image5b16c86915\" transform=\"scale(1 -1)translate(0 -358)\" width=\"358\" x=\"29.47\" xlink:href=\"data:image/png;base64,\r\niVBORw0KGgoAAAANSUhEUgAAAWYAAAFmCAYAAABeJjAWAAAABHNCSVQICAgIfAhkiAAACQZJREFUeJzt3U+r3Gcdh+E5Z+akbVIaY1IqVWopNoIFqW6qIChSCIgbUXAvqDtX7n0HvgB3uhc3bkQEF0KRghQFsaghVGwTmr+nniS1Z2ZcddGlPE+Zu8N1vYAPX9LTm9/qmYOXD76zXQAfOb9587XhjStPvzjhEmY73PUBAHyQMAPECDNAjDADxAgzQIwwA8QIM0CMMAPECDNAjDADxAgzQIwwA8QIM0CMMAPECDNAjDADxKx2fcD77n/rpeGNs7/644RL4KPBI/cftE8N8cUMECPMADHCDBAjzAAxwgwQI8wAMcIMECPMADHCDBAjzAAxwgwQI8wAMcIMECPMADHCDBAjzAAxmYfy71xeDm+cnXBHxeGjjw5vbB4+nHDJuOWFC8Mb6zt3Jlwyx+qTTw9v3PnKM8MbF169PrxxevXa8Eblb7XyyP0MvpgBYoQZIEaYAWKEGSBGmAFihBkgRpgBYoQZIEaYAWKEGSBGmAFihBkgRpgBYoQZIEaYAWKEGSAm81D+p39xdXjjdMIdM5x8+6XhjXO/3J9Hv4+/fnl4o/TvsTl+Z3jj3fMHwxszHrmfofKDDPvEFzNAjDADxAgzQIwwA8QIM0CMMAPECDNAjDADxAgzQIwwA8QIM0CMMAPECDNAjDADxAgzQIwwA8RkHsrf3Dve9QnTzHjU/fDs2eGNzf37wxszlB65n2K9Hp548NT4Q/kz7NPf2fLSxeGN9c1bEy4Z54sZIEaYAWKEGSBGmAFihBkgRpgBYoQZIEaYAWKEGSBGmAFihBkgRpgBYoQZIEaYAWKEGSBGmAFiVofnzg2PbE5Oxjcij23PUPk35cMx42/1U79r/Pfdp//vtg8e7vqEaXwxA8QIM0CMMAPECDNAjDADxAgzQIwwA8QIM0CMMAPECDNAjDADxAgzQIwwA8QIM0CMMAPECDNAzMqD7PP5N51v+bHzwxvru/cmXLJYrJ59ZnjjnZ8cD288dmV4Yq+cfuH54Y3DP7w24ZJxvpgBYoQZIEaYAWKEGSBGmAFihBkgRpgBYoQZIEaYAWKEGSBGmAFihBkgRpgBYoQZIEaYAWKEGSBmtesD3rd67tnhjdOr14Y3Ds+eHd7Y3L8/fseLnxvfuHF7eOP0revDG8sXPju8sXn9n8Mbs2z/M/5DCI9duTXhkoaD1XhGtqenwxtHf/vX8MZ6eGEOX8wAMcIMECPMADHCDBAjzAAxwgwQI8wAMcIMECPMADHCDBAjzAAxwgwQI8wAMcIMECPMADHCDBCTeSh/e/vOrk9YLBZzHrlfHC7H7/jz6+N3nDka35hgc/bM8Mbh4+eGN9Z37w1vLBaLxfrm+CP36699cXhj+fs/DW/MMOOR+xnWt+/u+oRpfDEDxAgzQIwwA8QIM0CMMAPECDNAjDADxAgzQIwwA8QIM0CMMAPECDNAjDADxAgzQIwwA8QIM0BM5qH8WY+YJ2zWu75gsVgsFpuH43esPvHU8Mbpq38Z3rjxgy8Pb1z62SvDG7M8eHL8Rwwen3DHXon8fzeDL2aAGGEGiBFmgBhhBogRZoAYYQaIEWaAGGEGiBFmgBhhBogRZoAYYQaIEWaAGGEGiBFmgBhhBogRZoCYzC+YLC9dHN5Y37w14ZL9cbAa/897ev1G4o7Sr4/McP6vd4c39uf3OuaY8Xe2PT2dcMk4X8wAMcIMECPMADHCDBAjzAAxwgwQI8wAMcIMECPMADHCDBAjzAAxwgwQI8wAMcIMECPMADHCDBCTeSj/4Oho1yfsncqj35U7SrZvvLnrE/bOPv2d+WIGiBFmgBhhBogRZoAYYQaIEWaAGGEGiBFmgBhhBogRZoAYYQaIEWaAGGEGiBFmgBhhBogRZoCYzEP5p29d3/UJ0ywvXRzeWN+8NeESqh759dnhjQdffWfCJXvkS58fnlj+49/DGzP+3/XFDBAjzAAxwgwQI8wAMcIMECPMADHCDBAjzAAxwgwQI8wAMcIMECPMADHCDBAjzAAxwgwQI8wAMQcvL7+7HV7ZrIcnlk8+Obyxfvvt4Y2Kg0ceGd7YvvvuhEvGLS9+fHhjfefe+CET/k5nWT7xxPDG+vh4wiV8wOFyfGPC35kvZoAYYQaIEWaAGGEGiBFmgBhhBogRZoAYYQaIEWaAGGEGiBFmgBhhBogRZoAYYQaIEWaAGGEGiFkttptd37BYLBaLm9/4zPDGhZ/vz0P5lUfuZ9ie3B8fCT1yP4NH7qMif2e+mAFihBkgRpgBYoQZIEaYAWKEGSBGmAFihBkgRpgBYoQZIEaYAWKEGSBGmAFihBkgRpgBYoQZIGa12G53fcNisVgsHn/rvV2fkHKwWg1vHF64MLyxfnv8xwc2Dx8Ob+yb5fPPDW+s/351wiUU+WIGiBFmgBhhBogRZoAYYQaIEWaAGGEGiBFmgBhhBogRZoAYYQaIEWaAGGEGiBFmgBhhBogRZoCY8dfYJzlze8Jj6kdnhie27/13/I4JtqenwxszHrnnw7F988auTyDMFzNAjDADxAgzQIwwA8QIM0CMMAPECDNAjDADxAgzQIwwA8QIM0CMMAPECDNAjDADxAgzQIwwA8RkHsp//fuPDW9c/mHjkfsZVs8+M7xxeu2NCZfwYdicnOz6BMJ8MQPECDNAjDADxAgzQIwwA8QIM0CMMAPECDNAjDADxAgzQIwwA8QIM0CMMAPECDNAjDADxAgzQMzBlfPf246OrI+PZ9zCZAdHZ4Y3tu9N+PGBw+X4xmY9vgEfEb6YAWKEGSBGmAFihBkgRpgBYoQZIEaYAWKEGSBGmAFihBkgRpgBYoQZIEaYAWKEGSBGmAFihBkgZlV55P6n114Z3vjxCy8Pb2xOToY3Kg7OHA1vTHko3yP38H/xxQwQI8wAMcIMECPMADHCDBAjzAAxwgwQI8wAMcIMECPMADHCDBAjzAAxwgwQI8wAMcIMECPMADGrXR/wvm/+9kfDG5dPXp1wyf7IPPp/cDC+sd2Ob4QcHJ0Z3pjyIwYk+WIGiBFmgBhhBogRZoAYYQaIEWaAGGEGiBFmgBhhBogRZoAYYQaIEWaAGGEGiBFmgBhhBogRZoCY/wH9mDhLe/0aTgAAAABJRU5ErkJggg==\" y=\"-49.759062\"/>\r\n   </g>\r\n   <g id=\"matplotlib.axis_1\">\r\n    <g id=\"xtick_1\">\r\n     <g id=\"line2d_1\">\r\n      <defs>\r\n       <path d=\"M 0 0 \r\nL 0 3.5 \r\n\" id=\"mc3c5649adc\" style=\"stroke:#000000;stroke-width:0.8;\"/>\r\n      </defs>\r\n      <g>\r\n       <use style=\"stroke:#000000;stroke-width:0.8;\" x=\"37.972857\" xlink:href=\"#mc3c5649adc\" y=\"407.759062\"/>\r\n      </g>\r\n     </g>\r\n     <g id=\"line2d_2\">\r\n      <defs>\r\n       <path d=\"M 0 0 \r\nL 0 -3.5 \r\n\" id=\"m7e0a3ac97f\" style=\"stroke:#000000;stroke-width:0.8;\"/>\r\n      </defs>\r\n      <g>\r\n       <use style=\"stroke:#000000;stroke-width:0.8;\" x=\"37.972857\" xlink:href=\"#m7e0a3ac97f\" y=\"50.639062\"/>\r\n      </g>\r\n     </g>\r\n     <g id=\"text_1\">\r\n      <!-- 0 -->\r\n      <defs>\r\n       <path d=\"M 31.78125 66.40625 \r\nQ 24.171875 66.40625 20.328125 58.90625 \r\nQ 16.5 51.421875 16.5 36.375 \r\nQ 16.5 21.390625 20.328125 13.890625 \r\nQ 24.171875 6.390625 31.78125 6.390625 \r\nQ 39.453125 6.390625 43.28125 13.890625 \r\nQ 47.125 21.390625 47.125 36.375 \r\nQ 47.125 51.421875 43.28125 58.90625 \r\nQ 39.453125 66.40625 31.78125 66.40625 \r\nz\r\nM 31.78125 74.21875 \r\nQ 44.046875 74.21875 50.515625 64.515625 \r\nQ 56.984375 54.828125 56.984375 36.375 \r\nQ 56.984375 17.96875 50.515625 8.265625 \r\nQ 44.046875 -1.421875 31.78125 -1.421875 \r\nQ 19.53125 -1.421875 13.0625 8.265625 \r\nQ 6.59375 17.96875 6.59375 36.375 \r\nQ 6.59375 54.828125 13.0625 64.515625 \r\nQ 19.53125 74.21875 31.78125 74.21875 \r\nz\r\n\" id=\"DejaVuSans-48\"/>\r\n      </defs>\r\n      <g transform=\"translate(34.155357 41.143437)scale(0.12 -0.12)\">\r\n       <use xlink:href=\"#DejaVuSans-48\"/>\r\n      </g>\r\n     </g>\r\n    </g>\r\n    <g id=\"xtick_2\">\r\n     <g id=\"line2d_3\">\r\n      <g>\r\n       <use style=\"stroke:#000000;stroke-width:0.8;\" x=\"123.001429\" xlink:href=\"#mc3c5649adc\" y=\"407.759062\"/>\r\n      </g>\r\n     </g>\r\n     <g id=\"line2d_4\">\r\n      <g>\r\n       <use style=\"stroke:#000000;stroke-width:0.8;\" x=\"123.001429\" xlink:href=\"#m7e0a3ac97f\" y=\"50.639062\"/>\r\n      </g>\r\n     </g>\r\n     <g id=\"text_2\">\r\n      <!-- 5 -->\r\n      <defs>\r\n       <path d=\"M 10.796875 72.90625 \r\nL 49.515625 72.90625 \r\nL 49.515625 64.59375 \r\nL 19.828125 64.59375 \r\nL 19.828125 46.734375 \r\nQ 21.96875 47.46875 24.109375 47.828125 \r\nQ 26.265625 48.1875 28.421875 48.1875 \r\nQ 40.625 48.1875 47.75 41.5 \r\nQ 54.890625 34.8125 54.890625 23.390625 \r\nQ 54.890625 11.625 47.5625 5.09375 \r\nQ 40.234375 -1.421875 26.90625 -1.421875 \r\nQ 22.3125 -1.421875 17.546875 -0.640625 \r\nQ 12.796875 0.140625 7.71875 1.703125 \r\nL 7.71875 11.625 \r\nQ 12.109375 9.234375 16.796875 8.0625 \r\nQ 21.484375 6.890625 26.703125 6.890625 \r\nQ 35.15625 6.890625 40.078125 11.328125 \r\nQ 45.015625 15.765625 45.015625 23.390625 \r\nQ 45.015625 31 40.078125 35.4375 \r\nQ 35.15625 39.890625 26.703125 39.890625 \r\nQ 22.75 39.890625 18.8125 39.015625 \r\nQ 14.890625 38.140625 10.796875 36.28125 \r\nz\r\n\" id=\"DejaVuSans-53\"/>\r\n      </defs>\r\n      <g transform=\"translate(119.183929 41.143437)scale(0.12 -0.12)\">\r\n       <use xlink:href=\"#DejaVuSans-53\"/>\r\n      </g>\r\n     </g>\r\n    </g>\r\n    <g id=\"xtick_3\">\r\n     <g id=\"line2d_5\">\r\n      <g>\r\n       <use style=\"stroke:#000000;stroke-width:0.8;\" x=\"208.03\" xlink:href=\"#mc3c5649adc\" y=\"407.759062\"/>\r\n      </g>\r\n     </g>\r\n     <g id=\"line2d_6\">\r\n      <g>\r\n       <use style=\"stroke:#000000;stroke-width:0.8;\" x=\"208.03\" xlink:href=\"#m7e0a3ac97f\" y=\"50.639062\"/>\r\n      </g>\r\n     </g>\r\n     <g id=\"text_3\">\r\n      <!-- 10 -->\r\n      <defs>\r\n       <path d=\"M 12.40625 8.296875 \r\nL 28.515625 8.296875 \r\nL 28.515625 63.921875 \r\nL 10.984375 60.40625 \r\nL 10.984375 69.390625 \r\nL 28.421875 72.90625 \r\nL 38.28125 72.90625 \r\nL 38.28125 8.296875 \r\nL 54.390625 8.296875 \r\nL 54.390625 0 \r\nL 12.40625 0 \r\nz\r\n\" id=\"DejaVuSans-49\"/>\r\n      </defs>\r\n      <g transform=\"translate(200.395 41.143437)scale(0.12 -0.12)\">\r\n       <use xlink:href=\"#DejaVuSans-49\"/>\r\n       <use x=\"63.623047\" xlink:href=\"#DejaVuSans-48\"/>\r\n      </g>\r\n     </g>\r\n    </g>\r\n    <g id=\"xtick_4\">\r\n     <g id=\"line2d_7\">\r\n      <g>\r\n       <use style=\"stroke:#000000;stroke-width:0.8;\" x=\"293.058571\" xlink:href=\"#mc3c5649adc\" y=\"407.759062\"/>\r\n      </g>\r\n     </g>\r\n     <g id=\"line2d_8\">\r\n      <g>\r\n       <use style=\"stroke:#000000;stroke-width:0.8;\" x=\"293.058571\" xlink:href=\"#m7e0a3ac97f\" y=\"50.639062\"/>\r\n      </g>\r\n     </g>\r\n     <g id=\"text_4\">\r\n      <!-- 15 -->\r\n      <g transform=\"translate(285.423571 41.143437)scale(0.12 -0.12)\">\r\n       <use xlink:href=\"#DejaVuSans-49\"/>\r\n       <use x=\"63.623047\" xlink:href=\"#DejaVuSans-53\"/>\r\n      </g>\r\n     </g>\r\n    </g>\r\n    <g id=\"xtick_5\">\r\n     <g id=\"line2d_9\">\r\n      <g>\r\n       <use style=\"stroke:#000000;stroke-width:0.8;\" x=\"378.087143\" xlink:href=\"#mc3c5649adc\" y=\"407.759062\"/>\r\n      </g>\r\n     </g>\r\n     <g id=\"line2d_10\">\r\n      <g>\r\n       <use style=\"stroke:#000000;stroke-width:0.8;\" x=\"378.087143\" xlink:href=\"#m7e0a3ac97f\" y=\"50.639062\"/>\r\n      </g>\r\n     </g>\r\n     <g id=\"text_5\">\r\n      <!-- 20 -->\r\n      <defs>\r\n       <path d=\"M 19.1875 8.296875 \r\nL 53.609375 8.296875 \r\nL 53.609375 0 \r\nL 7.328125 0 \r\nL 7.328125 8.296875 \r\nQ 12.9375 14.109375 22.625 23.890625 \r\nQ 32.328125 33.6875 34.8125 36.53125 \r\nQ 39.546875 41.84375 41.421875 45.53125 \r\nQ 43.3125 49.21875 43.3125 52.78125 \r\nQ 43.3125 58.59375 39.234375 62.25 \r\nQ 35.15625 65.921875 28.609375 65.921875 \r\nQ 23.96875 65.921875 18.8125 64.3125 \r\nQ 13.671875 62.703125 7.8125 59.421875 \r\nL 7.8125 69.390625 \r\nQ 13.765625 71.78125 18.9375 73 \r\nQ 24.125 74.21875 28.421875 74.21875 \r\nQ 39.75 74.21875 46.484375 68.546875 \r\nQ 53.21875 62.890625 53.21875 53.421875 \r\nQ 53.21875 48.921875 51.53125 44.890625 \r\nQ 49.859375 40.875 45.40625 35.40625 \r\nQ 44.1875 33.984375 37.640625 27.21875 \r\nQ 31.109375 20.453125 19.1875 8.296875 \r\nz\r\n\" id=\"DejaVuSans-50\"/>\r\n      </defs>\r\n      <g transform=\"translate(370.452143 41.143437)scale(0.12 -0.12)\">\r\n       <use xlink:href=\"#DejaVuSans-50\"/>\r\n       <use x=\"63.623047\" xlink:href=\"#DejaVuSans-48\"/>\r\n      </g>\r\n     </g>\r\n    </g>\r\n   </g>\r\n   <g id=\"matplotlib.axis_2\">\r\n    <g id=\"ytick_1\">\r\n     <g id=\"line2d_11\">\r\n      <defs>\r\n       <path d=\"M 0 0 \r\nL -3.5 0 \r\n\" id=\"maa461bb186\" style=\"stroke:#000000;stroke-width:0.8;\"/>\r\n      </defs>\r\n      <g>\r\n       <use style=\"stroke:#000000;stroke-width:0.8;\" x=\"29.47\" xlink:href=\"#maa461bb186\" y=\"59.14192\"/>\r\n      </g>\r\n     </g>\r\n     <g id=\"text_6\">\r\n      <!-- 0 -->\r\n      <g transform=\"translate(14.835 63.700982)scale(0.12 -0.12)\">\r\n       <use xlink:href=\"#DejaVuSans-48\"/>\r\n      </g>\r\n     </g>\r\n    </g>\r\n    <g id=\"ytick_2\">\r\n     <g id=\"line2d_12\">\r\n      <g>\r\n       <use style=\"stroke:#000000;stroke-width:0.8;\" x=\"29.47\" xlink:href=\"#maa461bb186\" y=\"144.170491\"/>\r\n      </g>\r\n     </g>\r\n     <g id=\"text_7\">\r\n      <!-- 5 -->\r\n      <g transform=\"translate(14.835 148.729554)scale(0.12 -0.12)\">\r\n       <use xlink:href=\"#DejaVuSans-53\"/>\r\n      </g>\r\n     </g>\r\n    </g>\r\n    <g id=\"ytick_3\">\r\n     <g id=\"line2d_13\">\r\n      <g>\r\n       <use style=\"stroke:#000000;stroke-width:0.8;\" x=\"29.47\" xlink:href=\"#maa461bb186\" y=\"229.199062\"/>\r\n      </g>\r\n     </g>\r\n     <g id=\"text_8\">\r\n      <!-- 10 -->\r\n      <g transform=\"translate(7.2 233.758125)scale(0.12 -0.12)\">\r\n       <use xlink:href=\"#DejaVuSans-49\"/>\r\n       <use x=\"63.623047\" xlink:href=\"#DejaVuSans-48\"/>\r\n      </g>\r\n     </g>\r\n    </g>\r\n    <g id=\"ytick_4\">\r\n     <g id=\"line2d_14\">\r\n      <g>\r\n       <use style=\"stroke:#000000;stroke-width:0.8;\" x=\"29.47\" xlink:href=\"#maa461bb186\" y=\"314.227634\"/>\r\n      </g>\r\n     </g>\r\n     <g id=\"text_9\">\r\n      <!-- 15 -->\r\n      <g transform=\"translate(7.2 318.786696)scale(0.12 -0.12)\">\r\n       <use xlink:href=\"#DejaVuSans-49\"/>\r\n       <use x=\"63.623047\" xlink:href=\"#DejaVuSans-53\"/>\r\n      </g>\r\n     </g>\r\n    </g>\r\n    <g id=\"ytick_5\">\r\n     <g id=\"line2d_15\">\r\n      <g>\r\n       <use style=\"stroke:#000000;stroke-width:0.8;\" x=\"29.47\" xlink:href=\"#maa461bb186\" y=\"399.256205\"/>\r\n      </g>\r\n     </g>\r\n     <g id=\"text_10\">\r\n      <!-- 20 -->\r\n      <g transform=\"translate(7.2 403.815268)scale(0.12 -0.12)\">\r\n       <use xlink:href=\"#DejaVuSans-50\"/>\r\n       <use x=\"63.623047\" xlink:href=\"#DejaVuSans-48\"/>\r\n      </g>\r\n     </g>\r\n    </g>\r\n   </g>\r\n   <g id=\"patch_3\">\r\n    <path d=\"M 29.47 407.759062 \r\nL 29.47 50.639062 \r\n\" style=\"fill:none;stroke:#000000;stroke-linecap:square;stroke-linejoin:miter;stroke-width:0.8;\"/>\r\n   </g>\r\n   <g id=\"patch_4\">\r\n    <path d=\"M 386.59 407.759062 \r\nL 386.59 50.639062 \r\n\" style=\"fill:none;stroke:#000000;stroke-linecap:square;stroke-linejoin:miter;stroke-width:0.8;\"/>\r\n   </g>\r\n   <g id=\"patch_5\">\r\n    <path d=\"M 29.47 407.759062 \r\nL 386.59 407.759062 \r\n\" style=\"fill:none;stroke:#000000;stroke-linecap:square;stroke-linejoin:miter;stroke-width:0.8;\"/>\r\n   </g>\r\n   <g id=\"patch_6\">\r\n    <path d=\"M 29.47 50.639062 \r\nL 386.59 50.639062 \r\n\" style=\"fill:none;stroke:#000000;stroke-linecap:square;stroke-linejoin:miter;stroke-width:0.8;\"/>\r\n   </g>\r\n  </g>\r\n  <g id=\"axes_2\">\r\n   <g id=\"patch_7\">\r\n    <path clip-path=\"url(#p322ed103bf)\" d=\"M 408.91 446.639062 \r\nL 408.91 444.940312 \r\nL 408.91 13.457812 \r\nL 408.91 11.759062 \r\nL 430.654 11.759062 \r\nL 430.654 13.457812 \r\nL 430.654 444.940312 \r\nL 430.654 446.639062 \r\nz\r\n\" style=\"fill:#ffffff;stroke:#ffffff;stroke-linejoin:miter;stroke-width:0.01;\"/>\r\n   </g>\r\n   <image height=\"435\" id=\"image6941b9f26b\" transform=\"scale(1 -1)translate(0 -435)\" width=\"22\" x=\"409\" xlink:href=\"data:image/png;base64,\r\niVBORw0KGgoAAAANSUhEUgAAABYAAAGzCAYAAAArEufSAAAABHNCSVQICAgIfAhkiAAAAkVJREFUeJztncGNwzAQAyVbpV0J138pl3tEot0AHwMMCyAWJJeSHSSZP/P3MwpYY14N3tFhHWOsec0KcW9iNQ4xT4oBjFvJvHnhzCtJ0YxbhxspBW3iabuFmBc33sR2xYYTv4hxtUk0z6I/xEDznPgQ2xUbvYk/PfMqvJr3wIkf4laOm2dehxhoHi/Hxu0hxkkBNK8zMLErPtbmRnNBSsQ8KXib543+wKJ/iFsrbW0GSI1bxLhXN5oXYqIUxm0TEy8sHWLjFhi3APkAWSJ28w7cvIAnBW/zeBorRcCLmy9CAl7cgFLwJrYrQqwUB7y4AaXgTax5B6vyrb9h3F6w6AOgeXbFAXBizTsATmy7hVgpDngTa15Qm9gSCnjmASf2XnHggryJO0/Tmhc0zesQa16geYFdEQAvhby44cyrLQjQPCd+EdNqk2eeXfEirvBWfyKsQ6x5gV0RrDE074s1PZo2eBojpegQA4uet3k889y8A2LcSsQ8jYnm4Rbk0rwN5MQl4lYqNC9YV+lxzLgFxi2w6ANg3FpdoXmBEwe9rgBKgTulNe/AiV/E5nijOfFfhZinsXELeHFbN08KYNxK5vFyfGveBq/dkF2heZv4VoqNYrvVih5Xmy0peEXvmRd4rwiacaOZByz6ksbE2sRtXvGUppnHu9ET282i/wIYt9ZKA4ueF7faJ+lE89y8L4D3CqB5uKLv3eg1b4PXbkjzOsQ885pHU4n4BppH+/uDonk8KWgTt+JGlAIYtw43b0HWPXlSwCb+B5UfjmjTopNhAAAAAElFTkSuQmCC\" y=\"-11\"/>\r\n   <g id=\"matplotlib.axis_3\"/>\r\n   <g id=\"matplotlib.axis_4\">\r\n    <g id=\"ytick_6\">\r\n     <g id=\"line2d_16\">\r\n      <defs>\r\n       <path d=\"M 0 0 \r\nL 3.5 0 \r\n\" id=\"m987cedf904\" style=\"stroke:#000000;stroke-width:0.8;\"/>\r\n      </defs>\r\n      <g>\r\n       <use style=\"stroke:#000000;stroke-width:0.8;\" x=\"430.654\" xlink:href=\"#m987cedf904\" y=\"446.639062\"/>\r\n      </g>\r\n     </g>\r\n     <g id=\"text_11\">\r\n      <!-- 0.0 -->\r\n      <defs>\r\n       <path d=\"M 10.6875 12.40625 \r\nL 21 12.40625 \r\nL 21 0 \r\nL 10.6875 0 \r\nz\r\n\" id=\"DejaVuSans-46\"/>\r\n      </defs>\r\n      <g transform=\"translate(437.654 451.198125)scale(0.12 -0.12)\">\r\n       <use xlink:href=\"#DejaVuSans-48\"/>\r\n       <use x=\"63.623047\" xlink:href=\"#DejaVuSans-46\"/>\r\n       <use x=\"95.410156\" xlink:href=\"#DejaVuSans-48\"/>\r\n      </g>\r\n     </g>\r\n    </g>\r\n    <g id=\"ytick_7\">\r\n     <g id=\"line2d_17\">\r\n      <g>\r\n       <use style=\"stroke:#000000;stroke-width:0.8;\" x=\"430.654\" xlink:href=\"#m987cedf904\" y=\"359.663062\"/>\r\n      </g>\r\n     </g>\r\n     <g id=\"text_12\">\r\n      <!-- 0.2 -->\r\n      <g transform=\"translate(437.654 364.222125)scale(0.12 -0.12)\">\r\n       <use xlink:href=\"#DejaVuSans-48\"/>\r\n       <use x=\"63.623047\" xlink:href=\"#DejaVuSans-46\"/>\r\n       <use x=\"95.410156\" xlink:href=\"#DejaVuSans-50\"/>\r\n      </g>\r\n     </g>\r\n    </g>\r\n    <g id=\"ytick_8\">\r\n     <g id=\"line2d_18\">\r\n      <g>\r\n       <use style=\"stroke:#000000;stroke-width:0.8;\" x=\"430.654\" xlink:href=\"#m987cedf904\" y=\"272.687062\"/>\r\n      </g>\r\n     </g>\r\n     <g id=\"text_13\">\r\n      <!-- 0.4 -->\r\n      <defs>\r\n       <path d=\"M 37.796875 64.3125 \r\nL 12.890625 25.390625 \r\nL 37.796875 25.390625 \r\nz\r\nM 35.203125 72.90625 \r\nL 47.609375 72.90625 \r\nL 47.609375 25.390625 \r\nL 58.015625 25.390625 \r\nL 58.015625 17.1875 \r\nL 47.609375 17.1875 \r\nL 47.609375 0 \r\nL 37.796875 0 \r\nL 37.796875 17.1875 \r\nL 4.890625 17.1875 \r\nL 4.890625 26.703125 \r\nz\r\n\" id=\"DejaVuSans-52\"/>\r\n      </defs>\r\n      <g transform=\"translate(437.654 277.246125)scale(0.12 -0.12)\">\r\n       <use xlink:href=\"#DejaVuSans-48\"/>\r\n       <use x=\"63.623047\" xlink:href=\"#DejaVuSans-46\"/>\r\n       <use x=\"95.410156\" xlink:href=\"#DejaVuSans-52\"/>\r\n      </g>\r\n     </g>\r\n    </g>\r\n    <g id=\"ytick_9\">\r\n     <g id=\"line2d_19\">\r\n      <g>\r\n       <use style=\"stroke:#000000;stroke-width:0.8;\" x=\"430.654\" xlink:href=\"#m987cedf904\" y=\"185.711062\"/>\r\n      </g>\r\n     </g>\r\n     <g id=\"text_14\">\r\n      <!-- 0.6 -->\r\n      <defs>\r\n       <path d=\"M 33.015625 40.375 \r\nQ 26.375 40.375 22.484375 35.828125 \r\nQ 18.609375 31.296875 18.609375 23.390625 \r\nQ 18.609375 15.53125 22.484375 10.953125 \r\nQ 26.375 6.390625 33.015625 6.390625 \r\nQ 39.65625 6.390625 43.53125 10.953125 \r\nQ 47.40625 15.53125 47.40625 23.390625 \r\nQ 47.40625 31.296875 43.53125 35.828125 \r\nQ 39.65625 40.375 33.015625 40.375 \r\nz\r\nM 52.59375 71.296875 \r\nL 52.59375 62.3125 \r\nQ 48.875 64.0625 45.09375 64.984375 \r\nQ 41.3125 65.921875 37.59375 65.921875 \r\nQ 27.828125 65.921875 22.671875 59.328125 \r\nQ 17.53125 52.734375 16.796875 39.40625 \r\nQ 19.671875 43.65625 24.015625 45.921875 \r\nQ 28.375 48.1875 33.59375 48.1875 \r\nQ 44.578125 48.1875 50.953125 41.515625 \r\nQ 57.328125 34.859375 57.328125 23.390625 \r\nQ 57.328125 12.15625 50.6875 5.359375 \r\nQ 44.046875 -1.421875 33.015625 -1.421875 \r\nQ 20.359375 -1.421875 13.671875 8.265625 \r\nQ 6.984375 17.96875 6.984375 36.375 \r\nQ 6.984375 53.65625 15.1875 63.9375 \r\nQ 23.390625 74.21875 37.203125 74.21875 \r\nQ 40.921875 74.21875 44.703125 73.484375 \r\nQ 48.484375 72.75 52.59375 71.296875 \r\nz\r\n\" id=\"DejaVuSans-54\"/>\r\n      </defs>\r\n      <g transform=\"translate(437.654 190.270125)scale(0.12 -0.12)\">\r\n       <use xlink:href=\"#DejaVuSans-48\"/>\r\n       <use x=\"63.623047\" xlink:href=\"#DejaVuSans-46\"/>\r\n       <use x=\"95.410156\" xlink:href=\"#DejaVuSans-54\"/>\r\n      </g>\r\n     </g>\r\n    </g>\r\n    <g id=\"ytick_10\">\r\n     <g id=\"line2d_20\">\r\n      <g>\r\n       <use style=\"stroke:#000000;stroke-width:0.8;\" x=\"430.654\" xlink:href=\"#m987cedf904\" y=\"98.735062\"/>\r\n      </g>\r\n     </g>\r\n     <g id=\"text_15\">\r\n      <!-- 0.8 -->\r\n      <defs>\r\n       <path d=\"M 31.78125 34.625 \r\nQ 24.75 34.625 20.71875 30.859375 \r\nQ 16.703125 27.09375 16.703125 20.515625 \r\nQ 16.703125 13.921875 20.71875 10.15625 \r\nQ 24.75 6.390625 31.78125 6.390625 \r\nQ 38.8125 6.390625 42.859375 10.171875 \r\nQ 46.921875 13.96875 46.921875 20.515625 \r\nQ 46.921875 27.09375 42.890625 30.859375 \r\nQ 38.875 34.625 31.78125 34.625 \r\nz\r\nM 21.921875 38.8125 \r\nQ 15.578125 40.375 12.03125 44.71875 \r\nQ 8.5 49.078125 8.5 55.328125 \r\nQ 8.5 64.0625 14.71875 69.140625 \r\nQ 20.953125 74.21875 31.78125 74.21875 \r\nQ 42.671875 74.21875 48.875 69.140625 \r\nQ 55.078125 64.0625 55.078125 55.328125 \r\nQ 55.078125 49.078125 51.53125 44.71875 \r\nQ 48 40.375 41.703125 38.8125 \r\nQ 48.828125 37.15625 52.796875 32.3125 \r\nQ 56.78125 27.484375 56.78125 20.515625 \r\nQ 56.78125 9.90625 50.3125 4.234375 \r\nQ 43.84375 -1.421875 31.78125 -1.421875 \r\nQ 19.734375 -1.421875 13.25 4.234375 \r\nQ 6.78125 9.90625 6.78125 20.515625 \r\nQ 6.78125 27.484375 10.78125 32.3125 \r\nQ 14.796875 37.15625 21.921875 38.8125 \r\nz\r\nM 18.3125 54.390625 \r\nQ 18.3125 48.734375 21.84375 45.5625 \r\nQ 25.390625 42.390625 31.78125 42.390625 \r\nQ 38.140625 42.390625 41.71875 45.5625 \r\nQ 45.3125 48.734375 45.3125 54.390625 \r\nQ 45.3125 60.0625 41.71875 63.234375 \r\nQ 38.140625 66.40625 31.78125 66.40625 \r\nQ 25.390625 66.40625 21.84375 63.234375 \r\nQ 18.3125 60.0625 18.3125 54.390625 \r\nz\r\n\" id=\"DejaVuSans-56\"/>\r\n      </defs>\r\n      <g transform=\"translate(437.654 103.294125)scale(0.12 -0.12)\">\r\n       <use xlink:href=\"#DejaVuSans-48\"/>\r\n       <use x=\"63.623047\" xlink:href=\"#DejaVuSans-46\"/>\r\n       <use x=\"95.410156\" xlink:href=\"#DejaVuSans-56\"/>\r\n      </g>\r\n     </g>\r\n    </g>\r\n    <g id=\"ytick_11\">\r\n     <g id=\"line2d_21\">\r\n      <g>\r\n       <use style=\"stroke:#000000;stroke-width:0.8;\" x=\"430.654\" xlink:href=\"#m987cedf904\" y=\"11.759062\"/>\r\n      </g>\r\n     </g>\r\n     <g id=\"text_16\">\r\n      <!-- 1.0 -->\r\n      <g transform=\"translate(437.654 16.318125)scale(0.12 -0.12)\">\r\n       <use xlink:href=\"#DejaVuSans-49\"/>\r\n       <use x=\"63.623047\" xlink:href=\"#DejaVuSans-46\"/>\r\n       <use x=\"95.410156\" xlink:href=\"#DejaVuSans-48\"/>\r\n      </g>\r\n     </g>\r\n    </g>\r\n   </g>\r\n   <g id=\"patch_8\">\r\n    <path d=\"M 408.91 446.639062 \r\nL 408.91 444.940312 \r\nL 408.91 13.457812 \r\nL 408.91 11.759062 \r\nL 430.654 11.759062 \r\nL 430.654 13.457812 \r\nL 430.654 444.940312 \r\nL 430.654 446.639062 \r\nz\r\n\" style=\"fill:none;stroke:#000000;stroke-linejoin:miter;stroke-width:0.8;\"/>\r\n   </g>\r\n  </g>\r\n </g>\r\n <defs>\r\n  <clipPath id=\"pd757eb8fb3\">\r\n   <rect height=\"357.12\" width=\"357.12\" x=\"29.47\" y=\"50.639062\"/>\r\n  </clipPath>\r\n  <clipPath id=\"p322ed103bf\">\r\n   <rect height=\"434.88\" width=\"21.744\" x=\"408.91\" y=\"11.759062\"/>\r\n  </clipPath>\r\n </defs>\r\n</svg>\r\n",
      "image/png": "[encoded data removed]"
     },
     "metadata": {
      "needs_background": "light"
     }
    }
   ],
   "source": [
    "np.fill_diagonal(norm_conf_mx, 0)\n",
    "# plt.matshow(norm_conf_mx, cmap=plt.cm.gray)\n",
    "plot_confusion_matrix(norm_conf_mx)\n",
    "save_fig(\"confusion_matrix_errors_plot\", tight_layout=False)\n",
    "plt.show()"
   ]
  },
  {
   "cell_type": "markdown",
   "metadata": {},
   "source": [
    "# Multilabel classification"
   ]
  },
  {
   "cell_type": "code",
   "execution_count": 70,
   "metadata": {},
   "outputs": [
    {
     "data": {
      "text/plain": [
       "KNeighborsClassifier(algorithm='auto', leaf_size=30, metric='minkowski',\n",
       "           metric_params=None, n_jobs=None, n_neighbors=5, p=2,\n",
       "           weights='uniform')"
      ]
     },
     "execution_count": 70,
     "metadata": {},
     "output_type": "execute_result"
    }
   ],
   "source": [
    "from sklearn.neighbors import KNeighborsClassifier\n",
    "\n",
    "y_train_large = (y_train >= 7)\n",
    "y_train_odd = (y_train % 2 == 1)\n",
    "y_multilabel = np.c_[y_train_large, y_train_odd]\n",
    "\n",
    "knn_clf = KNeighborsClassifier()\n",
    "knn_clf.fit(X_train, y_multilabel)"
   ]
  },
  {
   "cell_type": "code",
   "execution_count": 71,
   "metadata": {},
   "outputs": [
    {
     "data": {
      "text/plain": [
       "array([[False,  True]])"
      ]
     },
     "execution_count": 71,
     "metadata": {},
     "output_type": "execute_result"
    }
   ],
   "source": [
    "knn_clf.predict([some_digit])"
   ]
  },
  {
   "cell_type": "markdown",
   "metadata": {},
   "source": [
    "**Warning**: the following cell may take a very long time (possibly hours depending on your hardware)."
   ]
  },
  {
   "cell_type": "code",
   "execution_count": 72,
   "metadata": {},
   "outputs": [
    {
     "data": {
      "text/plain": [
       "0.976410265560605"
      ]
     },
     "execution_count": 72,
     "metadata": {},
     "output_type": "execute_result"
    }
   ],
   "source": [
    "y_train_knn_pred = cross_val_predict(knn_clf, X_train, y_multilabel, cv=3)\n",
    "f1_score(y_multilabel, y_train_knn_pred, average=\"macro\")"
   ]
  },
  {
   "cell_type": "markdown",
   "metadata": {},
   "source": [
    "# Multioutput classification"
   ]
  },
  {
   "cell_type": "code",
   "execution_count": 73,
   "metadata": {},
   "outputs": [],
   "source": [
    "noise = np.random.randint(0, 100, (len(X_train), 784))\n",
    "X_train_mod = X_train + noise\n",
    "noise = np.random.randint(0, 100, (len(X_test), 784))\n",
    "X_test_mod = X_test + noise\n",
    "y_train_mod = X_train\n",
    "y_test_mod = X_test"
   ]
  },
  {
   "cell_type": "code",
   "execution_count": 74,
   "metadata": {},
   "outputs": [
    {
     "name": "stdout",
     "output_type": "stream",
     "text": [
      "Saving figure noisy_digit_example_plot\n"
     ]
    },
    {
     "data": {
      "image/png": "[encoded data removed]",
      "text/plain": [
       "<Figure size 432x288 with 2 Axes>"
      ]
     },
     "metadata": {
      "needs_background": "light"
     },
     "output_type": "display_data"
    }
   ],
   "source": [
    "some_index = 0\n",
    "plt.subplot(121); plot_digit(X_test_mod[some_index])\n",
    "plt.subplot(122); plot_digit(y_test_mod[some_index])\n",
    "save_fig(\"noisy_digit_example_plot\")\n",
    "plt.show()"
   ]
  },
  {
   "cell_type": "code",
   "execution_count": 75,
   "metadata": {},
   "outputs": [
    {
     "name": "stdout",
     "output_type": "stream",
     "text": [
      "Saving figure cleaned_digit_example_plot\n"
     ]
    },
    {
     "data": {
      "image/png": "[encoded data removed]",
      "text/plain": [
       "<Figure size 432x288 with 1 Axes>"
      ]
     },
     "metadata": {
      "needs_background": "light"
     },
     "output_type": "display_data"
    }
   ],
   "source": [
    "knn_clf.fit(X_train_mod, y_train_mod)\n",
    "clean_digit = knn_clf.predict([X_test_mod[some_index]])\n",
    "plot_digit(clean_digit)\n",
    "save_fig(\"cleaned_digit_example_plot\")"
   ]
  },
  {
   "cell_type": "markdown",
   "metadata": {},
   "source": [
    "# Extra material"
   ]
  },
  {
   "cell_type": "markdown",
   "metadata": {},
   "source": [
    "## Dummy (ie. random) classifier"
   ]
  },
  {
   "cell_type": "code",
   "execution_count": 76,
   "metadata": {},
   "outputs": [],
   "source": [
    "from sklearn.dummy import DummyClassifier\n",
    "dmy_clf = DummyClassifier()\n",
    "y_probas_dmy = cross_val_predict(dmy_clf, X_train, y_train_5, cv=3, method=\"predict_proba\")\n",
    "y_scores_dmy = y_probas_dmy[:, 1]"
   ]
  },
  {
   "cell_type": "code",
   "execution_count": 77,
   "metadata": {
    "scrolled": true
   },
   "outputs": [
    {
     "data": {
      "image/png": "[encoded data removed]",
      "text/plain": [
       "<Figure size 432x288 with 1 Axes>"
      ]
     },
     "metadata": {
      "needs_background": "light"
     },
     "output_type": "display_data"
    }
   ],
   "source": [
    "fprr, tprr, thresholdsr = roc_curve(y_train_5, y_scores_dmy)\n",
    "plot_roc_curve(fprr, tprr)"
   ]
  },
  {
   "cell_type": "markdown",
   "metadata": {},
   "source": [
    "## KNN classifier"
   ]
  },
  {
   "cell_type": "code",
   "execution_count": 78,
   "metadata": {},
   "outputs": [
    {
     "data": {
      "text/plain": [
       "KNeighborsClassifier(algorithm='auto', leaf_size=30, metric='minkowski',\n",
       "           metric_params=None, n_jobs=None, n_neighbors=4, p=2,\n",
       "           weights='distance')"
      ]
     },
     "execution_count": 78,
     "metadata": {},
     "output_type": "execute_result"
    }
   ],
   "source": [
    "from sklearn.neighbors import KNeighborsClassifier\n",
    "knn_clf = KNeighborsClassifier(weights='distance', n_neighbors=4)\n",
    "knn_clf.fit(X_train, y_train)"
   ]
  },
  {
   "cell_type": "code",
   "execution_count": 79,
   "metadata": {},
   "outputs": [],
   "source": [
    "y_knn_pred = knn_clf.predict(X_test)"
   ]
  },
  {
   "cell_type": "code",
   "execution_count": 80,
   "metadata": {},
   "outputs": [
    {
     "data": {
      "text/plain": [
       "0.9714"
      ]
     },
     "execution_count": 80,
     "metadata": {},
     "output_type": "execute_result"
    }
   ],
   "source": [
    "from sklearn.metrics import accuracy_score\n",
    "accuracy_score(y_test, y_knn_pred)"
   ]
  },
  {
   "cell_type": "code",
   "execution_count": 81,
   "metadata": {},
   "outputs": [
    {
     "data": {
      "image/png": "[encoded data removed]",
      "text/plain": [
       "<Figure size 432x288 with 1 Axes>"
      ]
     },
     "metadata": {
      "needs_background": "light"
     },
     "output_type": "display_data"
    }
   ],
   "source": [
    "from scipy.ndimage.interpolation import shift\n",
    "def shift_digit(digit_array, dx, dy, new=0):\n",
    "    return shift(digit_array.reshape(28, 28), [dy, dx], cval=new).reshape(784)\n",
    "\n",
    "plot_digit(shift_digit(some_digit, 5, 1, new=100))"
   ]
  },
  {
   "cell_type": "code",
   "execution_count": 82,
   "metadata": {},
   "outputs": [
    {
     "data": {
      "text/plain": [
       "((300000, 784), (300000,))"
      ]
     },
     "execution_count": 82,
     "metadata": {},
     "output_type": "execute_result"
    }
   ],
   "source": [
    "X_train_expanded = [X_train]\n",
    "y_train_expanded = [y_train]\n",
    "for dx, dy in ((1, 0), (-1, 0), (0, 1), (0, -1)):\n",
    "    shifted_images = np.apply_along_axis(shift_digit, axis=1, arr=X_train, dx=dx, dy=dy)\n",
    "    X_train_expanded.append(shifted_images)\n",
    "    y_train_expanded.append(y_train)\n",
    "\n",
    "X_train_expanded = np.concatenate(X_train_expanded)\n",
    "y_train_expanded = np.concatenate(y_train_expanded)\n",
    "X_train_expanded.shape, y_train_expanded.shape"
   ]
  },
  {
   "cell_type": "code",
   "execution_count": 83,
   "metadata": {},
   "outputs": [
    {
     "data": {
      "text/plain": [
       "KNeighborsClassifier(algorithm='auto', leaf_size=30, metric='minkowski',\n",
       "           metric_params=None, n_jobs=None, n_neighbors=4, p=2,\n",
       "           weights='distance')"
      ]
     },
     "execution_count": 83,
     "metadata": {},
     "output_type": "execute_result"
    }
   ],
   "source": [
    "knn_clf.fit(X_train_expanded, y_train_expanded)"
   ]
  },
  {
   "cell_type": "code",
   "execution_count": 84,
   "metadata": {},
   "outputs": [],
   "source": [
    "y_knn_expanded_pred = knn_clf.predict(X_test)"
   ]
  },
  {
   "cell_type": "code",
   "execution_count": 85,
   "metadata": {},
   "outputs": [
    {
     "data": {
      "text/plain": [
       "0.9763"
      ]
     },
     "execution_count": 85,
     "metadata": {},
     "output_type": "execute_result"
    }
   ],
   "source": [
    "accuracy_score(y_test, y_knn_expanded_pred)"
   ]
  },
  {
   "cell_type": "code",
   "execution_count": 86,
   "metadata": {},
   "outputs": [
    {
     "data": {
      "text/plain": [
       "array([[0.24579675, 0.        , 0.        , 0.        , 0.        ,\n",
       "        0.        , 0.        , 0.        , 0.        , 0.75420325]])"
      ]
     },
     "execution_count": 86,
     "metadata": {},
     "output_type": "execute_result"
    }
   ],
   "source": [
    "ambiguous_digit = X_test[2589]\n",
    "knn_clf.predict_proba([ambiguous_digit])"
   ]
  },
  {
   "cell_type": "code",
   "execution_count": 87,
   "metadata": {},
   "outputs": [
    {
     "data": {
      "image/png": "[encoded data removed]",
      "text/plain": [
       "<Figure size 432x288 with 1 Axes>"
      ]
     },
     "metadata": {
      "needs_background": "light"
     },
     "output_type": "display_data"
    }
   ],
   "source": [
    "plot_digit(ambiguous_digit)"
   ]
  },
  {
   "cell_type": "markdown",
   "metadata": {},
   "source": [
    "# Exercise solutions"
   ]
  },
  {
   "cell_type": "markdown",
   "metadata": {},
   "source": [
    "## 1. An MNIST Classifier With Over 97% Accuracy"
   ]
  },
  {
   "cell_type": "markdown",
   "metadata": {},
   "source": [
    "**Warning**: the next cell may take hours to run, depending on your hardware."
   ]
  },
  {
   "cell_type": "code",
   "execution_count": 88,
   "metadata": {},
   "outputs": [
    {
     "name": "stdout",
     "output_type": "stream",
     "text": [
      "Fitting 5 folds for each of 6 candidates, totalling 30 fits\n",
      "[CV] n_neighbors=3, weights=uniform ..................................\n"
     ]
    },
    {
     "name": "stderr",
     "output_type": "stream",
     "text": [
      "[Parallel(n_jobs=1)]: Using backend SequentialBackend with 1 concurrent workers.\n"
     ]
    },
    {
     "name": "stdout",
     "output_type": "stream",
     "text": [
      "[CV]  n_neighbors=3, weights=uniform, score=0.9717617659308622, total=10.9min\n",
      "[CV] n_neighbors=3, weights=uniform ..................................\n"
     ]
    },
    {
     "name": "stderr",
     "output_type": "stream",
     "text": [
      "[Parallel(n_jobs=1)]: Done   1 out of   1 | elapsed: 52.2min remaining:    0.0s\n"
     ]
    },
    {
     "name": "stdout",
     "output_type": "stream",
     "text": [
      "[CV]  n_neighbors=3, weights=uniform, score=0.9706715547408765, total=10.7min\n",
      "[CV] n_neighbors=3, weights=uniform ..................................\n"
     ]
    },
    {
     "name": "stderr",
     "output_type": "stream",
     "text": [
      "[Parallel(n_jobs=1)]: Done   2 out of   2 | elapsed: 103.2min remaining:    0.0s\n"
     ]
    },
    {
     "name": "stdout",
     "output_type": "stream",
     "text": [
      "[CV]  n_neighbors=3, weights=uniform, score=0.9689166666666666, total=10.1min\n",
      "[CV] n_neighbors=3, weights=uniform ..................................\n",
      "[CV]  n_neighbors=3, weights=uniform, score=0.968575477202634, total=11.0min\n",
      "[CV] n_neighbors=3, weights=uniform ..................................\n",
      "[CV]  n_neighbors=3, weights=uniform, score=0.9704068022674225, total=11.0min\n",
      "[CV] n_neighbors=3, weights=distance .................................\n",
      "[CV]  n_neighbors=3, weights=distance, score=0.9723448563098709, total=10.9min\n",
      "[CV] n_neighbors=3, weights=distance .................................\n",
      "[CV]  n_neighbors=3, weights=distance, score=0.9716713881019831, total=11.2min\n",
      "[CV] n_neighbors=3, weights=distance .................................\n",
      "[CV]  n_neighbors=3, weights=distance, score=0.9700833333333333, total= 9.9min\n",
      "[CV] n_neighbors=3, weights=distance .................................\n",
      "[CV]  n_neighbors=3, weights=distance, score=0.9700758522964075, total=10.0min\n",
      "[CV] n_neighbors=3, weights=distance .................................\n",
      "[CV]  n_neighbors=3, weights=distance, score=0.971407135711904, total= 9.9min\n",
      "[CV] n_neighbors=4, weights=uniform ..................................\n",
      "[CV]  n_neighbors=4, weights=uniform, score=0.9690129112869638, total= 9.9min\n",
      "[CV] n_neighbors=4, weights=uniform ..................................\n",
      "[CV]  n_neighbors=4, weights=uniform, score=0.9682552907848692, total= 9.9min\n",
      "[CV] n_neighbors=4, weights=uniform ..................................\n",
      "[CV]  n_neighbors=4, weights=uniform, score=0.9675833333333334, total= 9.9min\n",
      "[CV] n_neighbors=4, weights=uniform ..................................\n",
      "[CV]  n_neighbors=4, weights=uniform, score=0.9673251646244895, total= 9.9min\n",
      "[CV] n_neighbors=4, weights=uniform ..................................\n",
      "[CV]  n_neighbors=4, weights=uniform, score=0.970323441147049, total= 9.9min\n",
      "[CV] n_neighbors=4, weights=distance .................................\n",
      "[CV]  n_neighbors=4, weights=distance, score=0.9730112453144523, total= 9.9min\n",
      "[CV] n_neighbors=4, weights=distance .................................\n",
      "[CV]  n_neighbors=4, weights=distance, score=0.9722546242292951, total= 9.9min\n",
      "[CV] n_neighbors=4, weights=distance .................................\n",
      "[CV]  n_neighbors=4, weights=distance, score=0.9699166666666666, total= 9.9min\n",
      "[CV] n_neighbors=4, weights=distance .................................\n",
      "[CV]  n_neighbors=4, weights=distance, score=0.9709093940151705, total=10.5min\n",
      "[CV] n_neighbors=4, weights=distance .................................\n",
      "[CV]  n_neighbors=4, weights=distance, score=0.9719906635545181, total=10.7min\n",
      "[CV] n_neighbors=5, weights=uniform ..................................\n",
      "[CV]  n_neighbors=5, weights=uniform, score=0.9697625989171179, total=10.9min\n",
      "[CV] n_neighbors=5, weights=uniform ..................................\n",
      "[CV]  n_neighbors=5, weights=uniform, score=0.9701716380603232, total=10.5min\n",
      "[CV] n_neighbors=5, weights=uniform ..................................\n",
      "[CV]  n_neighbors=5, weights=uniform, score=0.9694166666666667, total=10.5min\n",
      "[CV] n_neighbors=5, weights=uniform ..................................\n",
      "[CV]  n_neighbors=5, weights=uniform, score=0.9681587063432525, total=10.7min\n",
      "[CV] n_neighbors=5, weights=uniform ..................................\n",
      "[CV]  n_neighbors=5, weights=uniform, score=0.9689896632210737, total=10.6min\n",
      "[CV] n_neighbors=5, weights=distance .................................\n",
      "[CV]  n_neighbors=5, weights=distance, score=0.9703456892961266, total=10.6min\n",
      "[CV] n_neighbors=5, weights=distance .................................\n",
      "[CV]  n_neighbors=5, weights=distance, score=0.9713381103149475, total=11.1min\n",
      "[CV] n_neighbors=5, weights=distance .................................\n",
      "[CV]  n_neighbors=5, weights=distance, score=0.9704166666666667, total=10.4min\n",
      "[CV] n_neighbors=5, weights=distance .................................\n",
      "[CV]  n_neighbors=5, weights=distance, score=0.969409018921397, total=10.6min\n",
      "[CV] n_neighbors=5, weights=distance .................................\n",
      "[CV]  n_neighbors=5, weights=distance, score=0.9706568856285428, total=12.7min\n"
     ]
    },
    {
     "name": "stderr",
     "output_type": "stream",
     "text": [
      "[Parallel(n_jobs=1)]: Done  30 out of  30 | elapsed: 1523.6min finished\n"
     ]
    },
    {
     "data": {
      "text/plain": [
       "GridSearchCV(cv=5, error_score='raise-deprecating',\n",
       "       estimator=KNeighborsClassifier(algorithm='auto', leaf_size=30, metric='minkowski',\n",
       "           metric_params=None, n_jobs=None, n_neighbors=5, p=2,\n",
       "           weights='uniform'),\n",
       "       fit_params=None, iid='warn', n_jobs=None,\n",
       "       param_grid=[{'weights': ['uniform', 'distance'], 'n_neighbors': [3, 4, 5]}],\n",
       "       pre_dispatch='2*n_jobs', refit=True, return_train_score='warn',\n",
       "       scoring=None, verbose=3)"
      ]
     },
     "execution_count": 88,
     "metadata": {},
     "output_type": "execute_result"
    }
   ],
   "source": [
    "from sklearn.model_selection import GridSearchCV\n",
    "\n",
    "param_grid = [{'weights': [\"uniform\", \"distance\"], 'n_neighbors': [3, 4, 5]}]\n",
    "\n",
    "knn_clf = KNeighborsClassifier()\n",
    "grid_search = GridSearchCV(knn_clf, param_grid, cv=5, verbose=3)\n",
    "grid_search.fit(X_train, y_train)"
   ]
  },
  {
   "cell_type": "code",
   "execution_count": 89,
   "metadata": {},
   "outputs": [
    {
     "data": {
      "text/plain": [
       "{'n_neighbors': 4, 'weights': 'distance'}"
      ]
     },
     "execution_count": 89,
     "metadata": {},
     "output_type": "execute_result"
    }
   ],
   "source": [
    "grid_search.best_params_"
   ]
  },
  {
   "cell_type": "code",
   "execution_count": 90,
   "metadata": {},
   "outputs": [
    {
     "data": {
      "text/plain": [
       "0.9716166666666667"
      ]
     },
     "execution_count": 90,
     "metadata": {},
     "output_type": "execute_result"
    }
   ],
   "source": [
    "grid_search.best_score_"
   ]
  },
  {
   "cell_type": "code",
   "execution_count": 91,
   "metadata": {},
   "outputs": [
    {
     "data": {
      "text/plain": [
       "0.9714"
      ]
     },
     "execution_count": 91,
     "metadata": {},
     "output_type": "execute_result"
    }
   ],
   "source": [
    "from sklearn.metrics import accuracy_score\n",
    "\n",
    "y_pred = grid_search.predict(X_test)\n",
    "accuracy_score(y_test, y_pred)"
   ]
  },
  {
   "cell_type": "markdown",
   "metadata": {},
   "source": [
    "## 2. Data Augmentation"
   ]
  },
  {
   "cell_type": "code",
   "execution_count": 92,
   "metadata": {},
   "outputs": [],
   "source": [
    "from scipy.ndimage.interpolation import shift"
   ]
  },
  {
   "cell_type": "code",
   "execution_count": 93,
   "metadata": {},
   "outputs": [],
   "source": [
    "def shift_image(image, dx, dy):\n",
    "    image = image.reshape((28, 28))\n",
    "    shifted_image = shift(image, [dy, dx], cval=0, mode=\"constant\")\n",
    "    return shifted_image.reshape([-1])"
   ]
  },
  {
   "cell_type": "code",
   "execution_count": 94,
   "metadata": {},
   "outputs": [
    {
     "data": {
      "image/png": "[encoded data removed]",
      "text/plain": [
       "<Figure size 864x216 with 3 Axes>"
      ]
     },
     "metadata": {
      "needs_background": "light"
     },
     "output_type": "display_data"
    }
   ],
   "source": [
    "image = X_train[1000]\n",
    "shifted_image_down = shift_image(image, 0, 5)\n",
    "shifted_image_left = shift_image(image, -5, 0)\n",
    "\n",
    "plt.figure(figsize=(12,3))\n",
    "plt.subplot(131)\n",
    "plt.title(\"Original\", fontsize=14)\n",
    "plt.imshow(image.reshape(28, 28), interpolation=\"nearest\", cmap=\"Greys\")\n",
    "plt.subplot(132)\n",
    "plt.title(\"Shifted down\", fontsize=14)\n",
    "plt.imshow(shifted_image_down.reshape(28, 28), interpolation=\"nearest\", cmap=\"Greys\")\n",
    "plt.subplot(133)\n",
    "plt.title(\"Shifted left\", fontsize=14)\n",
    "plt.imshow(shifted_image_left.reshape(28, 28), interpolation=\"nearest\", cmap=\"Greys\")\n",
    "plt.show()"
   ]
  },
  {
   "cell_type": "code",
   "execution_count": 95,
   "metadata": {},
   "outputs": [],
   "source": [
    "X_train_augmented = [image for image in X_train]\n",
    "y_train_augmented = [label for label in y_train]\n",
    "\n",
    "for dx, dy in ((1, 0), (-1, 0), (0, 1), (0, -1)):\n",
    "    for image, label in zip(X_train, y_train):\n",
    "        X_train_augmented.append(shift_image(image, dx, dy))\n",
    "        y_train_augmented.append(label)\n",
    "\n",
    "X_train_augmented = np.array(X_train_augmented)\n",
    "y_train_augmented = np.array(y_train_augmented)"
   ]
  },
  {
   "cell_type": "code",
   "execution_count": 96,
   "metadata": {},
   "outputs": [],
   "source": [
    "shuffle_idx = np.random.permutation(len(X_train_augmented))\n",
    "X_train_augmented = X_train_augmented[shuffle_idx]\n",
    "y_train_augmented = y_train_augmented[shuffle_idx]"
   ]
  },
  {
   "cell_type": "code",
   "execution_count": 97,
   "metadata": {},
   "outputs": [],
   "source": [
    "knn_clf = KNeighborsClassifier(**grid_search.best_params_)"
   ]
  },
  {
   "cell_type": "code",
   "execution_count": 98,
   "metadata": {},
   "outputs": [
    {
     "data": {
      "text/plain": [
       "KNeighborsClassifier(algorithm='auto', leaf_size=30, metric='minkowski',\n",
       "           metric_params=None, n_jobs=None, n_neighbors=4, p=2,\n",
       "           weights='distance')"
      ]
     },
     "execution_count": 98,
     "metadata": {},
     "output_type": "execute_result"
    }
   ],
   "source": [
    "knn_clf.fit(X_train_augmented, y_train_augmented)"
   ]
  },
  {
   "cell_type": "code",
   "execution_count": 99,
   "metadata": {},
   "outputs": [
    {
     "data": {
      "text/plain": [
       "0.9763"
      ]
     },
     "execution_count": 99,
     "metadata": {},
     "output_type": "execute_result"
    }
   ],
   "source": [
    "y_pred = knn_clf.predict(X_test)\n",
    "accuracy_score(y_test, y_pred)"
   ]
  },
  {
   "cell_type": "markdown",
   "metadata": {},
   "source": [
    "By simply augmenting the data, we got a 0.5% accuracy boost. :)"
   ]
  },
  {
   "cell_type": "markdown",
   "metadata": {},
   "source": [
    "## 3. Tackle the Titanic dataset"
   ]
  },
  {
   "cell_type": "markdown",
   "metadata": {},
   "source": [
    "The goal is to predict whether or not a passenger survived based on attributes such as their age, sex, passenger class, where they embarked and so on."
   ]
  },
  {
   "cell_type": "markdown",
   "metadata": {},
   "source": [
    "First, login to [Kaggle](https://www.kaggle.com/) and go to the [Titanic challenge](https://www.kaggle.com/c/titanic) to download `train.csv` and `test.csv`. Save them to the `datasets/titanic` directory."
   ]
  },
  {
   "cell_type": "markdown",
   "metadata": {},
   "source": [
    "Next, let's load the data:"
   ]
  },
  {
   "cell_type": "code",
   "execution_count": 100,
   "metadata": {},
   "outputs": [],
   "source": [
    "import os\n",
    "\n",
    "TITANIC_PATH = os.path.join(\"datasets\", \"titanic\")"
   ]
  },
  {
   "cell_type": "code",
   "execution_count": 101,
   "metadata": {},
   "outputs": [],
   "source": [
    "import pandas as pd\n",
    "\n",
    "def load_titanic_data(filename, titanic_path=TITANIC_PATH):\n",
    "    csv_path = os.path.join(titanic_path, filename)\n",
    "    return pd.read_csv(csv_path)"
   ]
  },
  {
   "cell_type": "code",
   "execution_count": 102,
   "metadata": {},
   "outputs": [],
   "source": [
    "train_data = load_titanic_data(\"train.csv\")\n",
    "test_data = load_titanic_data(\"test.csv\")"
   ]
  },
  {
   "cell_type": "markdown",
   "metadata": {},
   "source": [
    "The data is already split into a training set and a test set. However, the test data does *not* contain the labels: your goal is to train the best model you can using the training data, then make your predictions on the test data and upload them to Kaggle to see your final score."
   ]
  },
  {
   "cell_type": "markdown",
   "metadata": {},
   "source": [
    "Let's take a peek at the top few rows of the training set:"
   ]
  },
  {
   "cell_type": "code",
   "execution_count": 103,
   "metadata": {},
   "outputs": [
    {
     "data": {
      "text/html": [
       "<div>\n",
       "<style scoped>\n",
       "    .dataframe tbody tr th:only-of-type {\n",
       "        vertical-align: middle;\n",
       "    }\n",
       "\n",
       "    .dataframe tbody tr th {\n",
       "        vertical-align: top;\n",
       "    }\n",
       "\n",
       "    .dataframe thead th {\n",
       "        text-align: right;\n",
       "    }\n",
       "</style>\n",
       "<table border=\"1\" class=\"dataframe\">\n",
       "  <thead>\n",
       "    <tr style=\"text-align: right;\">\n",
       "      <th></th>\n",
       "      <th>PassengerId</th>\n",
       "      <th>Survived</th>\n",
       "      <th>Pclass</th>\n",
       "      <th>Name</th>\n",
       "      <th>Sex</th>\n",
       "      <th>Age</th>\n",
       "      <th>SibSp</th>\n",
       "      <th>Parch</th>\n",
       "      <th>Ticket</th>\n",
       "      <th>Fare</th>\n",
       "      <th>Cabin</th>\n",
       "      <th>Embarked</th>\n",
       "    </tr>\n",
       "  </thead>\n",
       "  <tbody>\n",
       "    <tr>\n",
       "      <th>0</th>\n",
       "      <td>1</td>\n",
       "      <td>0</td>\n",
       "      <td>3</td>\n",
       "      <td>Braund, Mr. Owen Harris</td>\n",
       "      <td>male</td>\n",
       "      <td>22.0</td>\n",
       "      <td>1</td>\n",
       "      <td>0</td>\n",
       "      <td>A/5 21171</td>\n",
       "      <td>7.2500</td>\n",
       "      <td>NaN</td>\n",
       "      <td>S</td>\n",
       "    </tr>\n",
       "    <tr>\n",
       "      <th>1</th>\n",
       "      <td>2</td>\n",
       "      <td>1</td>\n",
       "      <td>1</td>\n",
       "      <td>Cumings, Mrs. John Bradley (Florence Briggs Th...</td>\n",
       "      <td>female</td>\n",
       "      <td>38.0</td>\n",
       "      <td>1</td>\n",
       "      <td>0</td>\n",
       "      <td>PC 17599</td>\n",
       "      <td>71.2833</td>\n",
       "      <td>C85</td>\n",
       "      <td>C</td>\n",
       "    </tr>\n",
       "    <tr>\n",
       "      <th>2</th>\n",
       "      <td>3</td>\n",
       "      <td>1</td>\n",
       "      <td>3</td>\n",
       "      <td>Heikkinen, Miss. Laina</td>\n",
       "      <td>female</td>\n",
       "      <td>26.0</td>\n",
       "      <td>0</td>\n",
       "      <td>0</td>\n",
       "      <td>STON/O2. 3101282</td>\n",
       "      <td>7.9250</td>\n",
       "      <td>NaN</td>\n",
       "      <td>S</td>\n",
       "    </tr>\n",
       "    <tr>\n",
       "      <th>3</th>\n",
       "      <td>4</td>\n",
       "      <td>1</td>\n",
       "      <td>1</td>\n",
       "      <td>Futrelle, Mrs. Jacques Heath (Lily May Peel)</td>\n",
       "      <td>female</td>\n",
       "      <td>35.0</td>\n",
       "      <td>1</td>\n",
       "      <td>0</td>\n",
       "      <td>113803</td>\n",
       "      <td>53.1000</td>\n",
       "      <td>C123</td>\n",
       "      <td>S</td>\n",
       "    </tr>\n",
       "    <tr>\n",
       "      <th>4</th>\n",
       "      <td>5</td>\n",
       "      <td>0</td>\n",
       "      <td>3</td>\n",
       "      <td>Allen, Mr. William Henry</td>\n",
       "      <td>male</td>\n",
       "      <td>35.0</td>\n",
       "      <td>0</td>\n",
       "      <td>0</td>\n",
       "      <td>373450</td>\n",
       "      <td>8.0500</td>\n",
       "      <td>NaN</td>\n",
       "      <td>S</td>\n",
       "    </tr>\n",
       "  </tbody>\n",
       "</table>\n",
       "</div>"
      ],
      "text/plain": [
       "   PassengerId  Survived  Pclass  \\\n",
       "0            1         0       3   \n",
       "1            2         1       1   \n",
       "2            3         1       3   \n",
       "3            4         1       1   \n",
       "4            5         0       3   \n",
       "\n",
       "                                                Name     Sex   Age  SibSp  \\\n",
       "0                            Braund, Mr. Owen Harris    male  22.0      1   \n",
       "1  Cumings, Mrs. John Bradley (Florence Briggs Th...  female  38.0      1   \n",
       "2                             Heikkinen, Miss. Laina  female  26.0      0   \n",
       "3       Futrelle, Mrs. Jacques Heath (Lily May Peel)  female  35.0      1   \n",
       "4                           Allen, Mr. William Henry    male  35.0      0   \n",
       "\n",
       "   Parch            Ticket     Fare Cabin Embarked  \n",
       "0      0         A/5 21171   7.2500   NaN        S  \n",
       "1      0          PC 17599  71.2833   C85        C  \n",
       "2      0  STON/O2. 3101282   7.9250   NaN        S  \n",
       "3      0            113803  53.1000  C123        S  \n",
       "4      0            373450   8.0500   NaN        S  "
      ]
     },
     "execution_count": 103,
     "metadata": {},
     "output_type": "execute_result"
    }
   ],
   "source": [
    "train_data.head()"
   ]
  },
  {
   "cell_type": "markdown",
   "metadata": {},
   "source": [
    "The attributes have the following meaning:\n",
    "* **Survived**: that's the target, 0 means the passenger did not survive, while 1 means he/she survived.\n",
    "* **Pclass**: passenger class.\n",
    "* **Name**, **Sex**, **Age**: self-explanatory\n",
    "* **SibSp**: how many siblings & spouses of the passenger aboard the Titanic.\n",
    "* **Parch**: how many children & parents of the passenger aboard the Titanic.\n",
    "* **Ticket**: ticket id\n",
    "* **Fare**: price paid (in pounds)\n",
    "* **Cabin**: passenger's cabin number\n",
    "* **Embarked**: where the passenger embarked the Titanic"
   ]
  },
  {
   "cell_type": "markdown",
   "metadata": {},
   "source": [
    "Let's get more info to see how much data is missing:"
   ]
  },
  {
   "cell_type": "code",
   "execution_count": 104,
   "metadata": {},
   "outputs": [
    {
     "name": "stdout",
     "output_type": "stream",
     "text": [
      "<class 'pandas.core.frame.DataFrame'>\n",
      "RangeIndex: 891 entries, 0 to 890\n",
      "Data columns (total 12 columns):\n",
      "PassengerId    891 non-null int64\n",
      "Survived       891 non-null int64\n",
      "Pclass         891 non-null int64\n",
      "Name           891 non-null object\n",
      "Sex            891 non-null object\n",
      "Age            714 non-null float64\n",
      "SibSp          891 non-null int64\n",
      "Parch          891 non-null int64\n",
      "Ticket         891 non-null object\n",
      "Fare           891 non-null float64\n",
      "Cabin          204 non-null object\n",
      "Embarked       889 non-null object\n",
      "dtypes: float64(2), int64(5), object(5)\n",
      "memory usage: 83.6+ KB\n"
     ]
    }
   ],
   "source": [
    "train_data.info()"
   ]
  },
  {
   "cell_type": "markdown",
   "metadata": {},
   "source": [
    "Okay, the **Age**, **Cabin** and **Embarked** attributes are sometimes null (less than 891 non-null), especially the **Cabin** (77% are null). We will ignore the **Cabin** for now and focus on the rest. The **Age** attribute has about 19% null values, so we will need to decide what to do with them. Replacing null values with the median age seems reasonable."
   ]
  },
  {
   "cell_type": "markdown",
   "metadata": {},
   "source": [
    "The **Name** and **Ticket** attributes may have some value, but they will be a bit tricky to convert into useful numbers that a model can consume. So for now, we will ignore them."
   ]
  },
  {
   "cell_type": "markdown",
   "metadata": {},
   "source": [
    "Let's take a look at the numerical attributes:"
   ]
  },
  {
   "cell_type": "code",
   "execution_count": 105,
   "metadata": {},
   "outputs": [
    {
     "data": {
      "text/html": [
       "<div>\n",
       "<style scoped>\n",
       "    .dataframe tbody tr th:only-of-type {\n",
       "        vertical-align: middle;\n",
       "    }\n",
       "\n",
       "    .dataframe tbody tr th {\n",
       "        vertical-align: top;\n",
       "    }\n",
       "\n",
       "    .dataframe thead th {\n",
       "        text-align: right;\n",
       "    }\n",
       "</style>\n",
       "<table border=\"1\" class=\"dataframe\">\n",
       "  <thead>\n",
       "    <tr style=\"text-align: right;\">\n",
       "      <th></th>\n",
       "      <th>PassengerId</th>\n",
       "      <th>Survived</th>\n",
       "      <th>Pclass</th>\n",
       "      <th>Age</th>\n",
       "      <th>SibSp</th>\n",
       "      <th>Parch</th>\n",
       "      <th>Fare</th>\n",
       "    </tr>\n",
       "  </thead>\n",
       "  <tbody>\n",
       "    <tr>\n",
       "      <th>count</th>\n",
       "      <td>891.000000</td>\n",
       "      <td>891.000000</td>\n",
       "      <td>891.000000</td>\n",
       "      <td>714.000000</td>\n",
       "      <td>891.000000</td>\n",
       "      <td>891.000000</td>\n",
       "      <td>891.000000</td>\n",
       "    </tr>\n",
       "    <tr>\n",
       "      <th>mean</th>\n",
       "      <td>446.000000</td>\n",
       "      <td>0.383838</td>\n",
       "      <td>2.308642</td>\n",
       "      <td>29.699118</td>\n",
       "      <td>0.523008</td>\n",
       "      <td>0.381594</td>\n",
       "      <td>32.204208</td>\n",
       "    </tr>\n",
       "    <tr>\n",
       "      <th>std</th>\n",
       "      <td>257.353842</td>\n",
       "      <td>0.486592</td>\n",
       "      <td>0.836071</td>\n",
       "      <td>14.526497</td>\n",
       "      <td>1.102743</td>\n",
       "      <td>0.806057</td>\n",
       "      <td>49.693429</td>\n",
       "    </tr>\n",
       "    <tr>\n",
       "      <th>min</th>\n",
       "      <td>1.000000</td>\n",
       "      <td>0.000000</td>\n",
       "      <td>1.000000</td>\n",
       "      <td>0.420000</td>\n",
       "      <td>0.000000</td>\n",
       "      <td>0.000000</td>\n",
       "      <td>0.000000</td>\n",
       "    </tr>\n",
       "    <tr>\n",
       "      <th>25%</th>\n",
       "      <td>223.500000</td>\n",
       "      <td>0.000000</td>\n",
       "      <td>2.000000</td>\n",
       "      <td>20.125000</td>\n",
       "      <td>0.000000</td>\n",
       "      <td>0.000000</td>\n",
       "      <td>7.910400</td>\n",
       "    </tr>\n",
       "    <tr>\n",
       "      <th>50%</th>\n",
       "      <td>446.000000</td>\n",
       "      <td>0.000000</td>\n",
       "      <td>3.000000</td>\n",
       "      <td>28.000000</td>\n",
       "      <td>0.000000</td>\n",
       "      <td>0.000000</td>\n",
       "      <td>14.454200</td>\n",
       "    </tr>\n",
       "    <tr>\n",
       "      <th>75%</th>\n",
       "      <td>668.500000</td>\n",
       "      <td>1.000000</td>\n",
       "      <td>3.000000</td>\n",
       "      <td>38.000000</td>\n",
       "      <td>1.000000</td>\n",
       "      <td>0.000000</td>\n",
       "      <td>31.000000</td>\n",
       "    </tr>\n",
       "    <tr>\n",
       "      <th>max</th>\n",
       "      <td>891.000000</td>\n",
       "      <td>1.000000</td>\n",
       "      <td>3.000000</td>\n",
       "      <td>80.000000</td>\n",
       "      <td>8.000000</td>\n",
       "      <td>6.000000</td>\n",
       "      <td>512.329200</td>\n",
       "    </tr>\n",
       "  </tbody>\n",
       "</table>\n",
       "</div>"
      ],
      "text/plain": [
       "       PassengerId    Survived      Pclass         Age       SibSp  \\\n",
       "count   891.000000  891.000000  891.000000  714.000000  891.000000   \n",
       "mean    446.000000    0.383838    2.308642   29.699118    0.523008   \n",
       "std     257.353842    0.486592    0.836071   14.526497    1.102743   \n",
       "min       1.000000    0.000000    1.000000    0.420000    0.000000   \n",
       "25%     223.500000    0.000000    2.000000   20.125000    0.000000   \n",
       "50%     446.000000    0.000000    3.000000   28.000000    0.000000   \n",
       "75%     668.500000    1.000000    3.000000   38.000000    1.000000   \n",
       "max     891.000000    1.000000    3.000000   80.000000    8.000000   \n",
       "\n",
       "            Parch        Fare  \n",
       "count  891.000000  891.000000  \n",
       "mean     0.381594   32.204208  \n",
       "std      0.806057   49.693429  \n",
       "min      0.000000    0.000000  \n",
       "25%      0.000000    7.910400  \n",
       "50%      0.000000   14.454200  \n",
       "75%      0.000000   31.000000  \n",
       "max      6.000000  512.329200  "
      ]
     },
     "execution_count": 105,
     "metadata": {},
     "output_type": "execute_result"
    }
   ],
   "source": [
    "train_data.describe()"
   ]
  },
  {
   "cell_type": "markdown",
   "metadata": {},
   "source": [
    "* Yikes, only 38% **Survived**. :(  That's close enough to 40%, so accuracy will be a reasonable metric to evaluate our model.\n",
    "* The mean **Fare** was £32.20, which does not seem so expensive (but it was probably a lot of money back then).\n",
    "* The mean **Age** was less than 30 years old."
   ]
  },
  {
   "cell_type": "markdown",
   "metadata": {},
   "source": [
    "Let's check that the target is indeed 0 or 1:"
   ]
  },
  {
   "cell_type": "code",
   "execution_count": 106,
   "metadata": {},
   "outputs": [
    {
     "data": {
      "text/plain": [
       "0    549\n",
       "1    342\n",
       "Name: Survived, dtype: int64"
      ]
     },
     "execution_count": 106,
     "metadata": {},
     "output_type": "execute_result"
    }
   ],
   "source": [
    "train_data[\"Survived\"].value_counts()"
   ]
  },
  {
   "cell_type": "markdown",
   "metadata": {},
   "source": [
    "Now let's take a quick look at all the categorical attributes:"
   ]
  },
  {
   "cell_type": "code",
   "execution_count": 107,
   "metadata": {},
   "outputs": [
    {
     "data": {
      "text/plain": [
       "3    491\n",
       "1    216\n",
       "2    184\n",
       "Name: Pclass, dtype: int64"
      ]
     },
     "execution_count": 107,
     "metadata": {},
     "output_type": "execute_result"
    }
   ],
   "source": [
    "train_data[\"Pclass\"].value_counts()"
   ]
  },
  {
   "cell_type": "code",
   "execution_count": 108,
   "metadata": {},
   "outputs": [
    {
     "data": {
      "text/plain": [
       "male      577\n",
       "female    314\n",
       "Name: Sex, dtype: int64"
      ]
     },
     "execution_count": 108,
     "metadata": {},
     "output_type": "execute_result"
    }
   ],
   "source": [
    "train_data[\"Sex\"].value_counts()"
   ]
  },
  {
   "cell_type": "code",
   "execution_count": 109,
   "metadata": {},
   "outputs": [
    {
     "data": {
      "text/plain": [
       "S    644\n",
       "C    168\n",
       "Q     77\n",
       "Name: Embarked, dtype: int64"
      ]
     },
     "execution_count": 109,
     "metadata": {},
     "output_type": "execute_result"
    }
   ],
   "source": [
    "train_data[\"Embarked\"].value_counts()"
   ]
  },
  {
   "cell_type": "markdown",
   "metadata": {},
   "source": [
    "The Embarked attribute tells us where the passenger embarked: C=Cherbourg, Q=Queenstown, S=Southampton."
   ]
  },
  {
   "cell_type": "markdown",
   "metadata": {},
   "source": [
    "**Note**: the code below uses a mix of `Pipeline`, `FeatureUnion` and a custom `DataFrameSelector` to preprocess some columns differently.  Since Scikit-Learn 0.20, it is preferable to use a `ColumnTransformer`, like in the previous chapter."
   ]
  },
  {
   "cell_type": "markdown",
   "metadata": {},
   "source": [
    "Now let's build our preprocessing pipelines. We will reuse the `DataframeSelector` we built in the previous chapter to select specific attributes from the `DataFrame`:"
   ]
  },
  {
   "cell_type": "code",
   "execution_count": 110,
   "metadata": {},
   "outputs": [],
   "source": [
    "from sklearn.base import BaseEstimator, TransformerMixin\n",
    "\n",
    "class DataFrameSelector(BaseEstimator, TransformerMixin):\n",
    "    def __init__(self, attribute_names):\n",
    "        self.attribute_names = attribute_names\n",
    "    def fit(self, X, y=None):\n",
    "        return self\n",
    "    def transform(self, X):\n",
    "        return X[self.attribute_names]"
   ]
  },
  {
   "cell_type": "markdown",
   "metadata": {},
   "source": [
    "Let's build the pipeline for the numerical attributes:"
   ]
  },
  {
   "cell_type": "code",
   "execution_count": 111,
   "metadata": {},
   "outputs": [],
   "source": [
    "from sklearn.pipeline import Pipeline\n",
    "from sklearn.impute import SimpleImputer\n",
    "\n",
    "num_pipeline = Pipeline([\n",
    "        (\"select_numeric\", DataFrameSelector([\"Age\", \"SibSp\", \"Parch\", \"Fare\"])),\n",
    "        (\"imputer\", SimpleImputer(strategy=\"median\")),\n",
    "    ])"
   ]
  },
  {
   "cell_type": "code",
   "execution_count": 112,
   "metadata": {},
   "outputs": [
    {
     "data": {
      "text/plain": [
       "array([[22.    ,  1.    ,  0.    ,  7.25  ],\n",
       "       [38.    ,  1.    ,  0.    , 71.2833],\n",
       "       [26.    ,  0.    ,  0.    ,  7.925 ],\n",
       "       ...,\n",
       "       [28.    ,  1.    ,  2.    , 23.45  ],\n",
       "       [26.    ,  0.    ,  0.    , 30.    ],\n",
       "       [32.    ,  0.    ,  0.    ,  7.75  ]])"
      ]
     },
     "execution_count": 112,
     "metadata": {},
     "output_type": "execute_result"
    }
   ],
   "source": [
    "num_pipeline.fit_transform(train_data)"
   ]
  },
  {
   "cell_type": "markdown",
   "metadata": {},
   "source": [
    "We will also need an imputer for the string categorical columns (the regular `SimpleImputer` does not work on those):"
   ]
  },
  {
   "cell_type": "code",
   "execution_count": 113,
   "metadata": {},
   "outputs": [],
   "source": [
    "# Inspired from stackoverflow.com/questions/25239958\n",
    "class MostFrequentImputer(BaseEstimator, TransformerMixin):\n",
    "    def fit(self, X, y=None):\n",
    "        self.most_frequent_ = pd.Series([X[c].value_counts().index[0] for c in X],\n",
    "                                        index=X.columns)\n",
    "        return self\n",
    "    def transform(self, X, y=None):\n",
    "        return X.fillna(self.most_frequent_)"
   ]
  },
  {
   "cell_type": "code",
   "execution_count": 114,
   "metadata": {},
   "outputs": [],
   "source": [
    "from sklearn.preprocessing import OneHotEncoder"
   ]
  },
  {
   "cell_type": "markdown",
   "metadata": {},
   "source": [
    "Now we can build the pipeline for the categorical attributes:"
   ]
  },
  {
   "cell_type": "code",
   "execution_count": 115,
   "metadata": {},
   "outputs": [],
   "source": [
    "cat_pipeline = Pipeline([\n",
    "        (\"select_cat\", DataFrameSelector([\"Pclass\", \"Sex\", \"Embarked\"])),\n",
    "        (\"imputer\", MostFrequentImputer()),\n",
    "        (\"cat_encoder\", OneHotEncoder(sparse=False)),\n",
    "    ])"
   ]
  },
  {
   "cell_type": "code",
   "execution_count": 116,
   "metadata": {},
   "outputs": [
    {
     "data": {
      "text/plain": [
       "array([[0., 0., 1., ..., 0., 0., 1.],\n",
       "       [1., 0., 0., ..., 1., 0., 0.],\n",
       "       [0., 0., 1., ..., 0., 0., 1.],\n",
       "       ...,\n",
       "       [0., 0., 1., ..., 0., 0., 1.],\n",
       "       [1., 0., 0., ..., 1., 0., 0.],\n",
       "       [0., 0., 1., ..., 0., 1., 0.]])"
      ]
     },
     "execution_count": 116,
     "metadata": {},
     "output_type": "execute_result"
    }
   ],
   "source": [
    "cat_pipeline.fit_transform(train_data)"
   ]
  },
  {
   "cell_type": "markdown",
   "metadata": {},
   "source": [
    "Finally, let's join the numerical and categorical pipelines:"
   ]
  },
  {
   "cell_type": "code",
   "execution_count": 117,
   "metadata": {},
   "outputs": [],
   "source": [
    "from sklearn.pipeline import FeatureUnion\n",
    "preprocess_pipeline = FeatureUnion(transformer_list=[\n",
    "        (\"num_pipeline\", num_pipeline),\n",
    "        (\"cat_pipeline\", cat_pipeline),\n",
    "    ])"
   ]
  },
  {
   "cell_type": "markdown",
   "metadata": {},
   "source": [
    "Cool! Now we have a nice preprocessing pipeline that takes the raw data and outputs numerical input features that we can feed to any Machine Learning model we want."
   ]
  },
  {
   "cell_type": "code",
   "execution_count": 118,
   "metadata": {},
   "outputs": [
    {
     "data": {
      "text/plain": [
       "array([[22.,  1.,  0., ...,  0.,  0.,  1.],\n",
       "       [38.,  1.,  0., ...,  1.,  0.,  0.],\n",
       "       [26.,  0.,  0., ...,  0.,  0.,  1.],\n",
       "       ...,\n",
       "       [28.,  1.,  2., ...,  0.,  0.,  1.],\n",
       "       [26.,  0.,  0., ...,  1.,  0.,  0.],\n",
       "       [32.,  0.,  0., ...,  0.,  1.,  0.]])"
      ]
     },
     "execution_count": 118,
     "metadata": {},
     "output_type": "execute_result"
    }
   ],
   "source": [
    "X_train = preprocess_pipeline.fit_transform(train_data)\n",
    "X_train"
   ]
  },
  {
   "cell_type": "markdown",
   "metadata": {},
   "source": [
    "Let's not forget to get the labels:"
   ]
  },
  {
   "cell_type": "code",
   "execution_count": 119,
   "metadata": {},
   "outputs": [],
   "source": [
    "y_train = train_data[\"Survived\"]"
   ]
  },
  {
   "cell_type": "markdown",
   "metadata": {},
   "source": [
    "We are now ready to train a classifier. Let's start with an `SVC`:"
   ]
  },
  {
   "cell_type": "code",
   "execution_count": 120,
   "metadata": {},
   "outputs": [
    {
     "data": {
      "text/plain": [
       "SVC(C=1.0, cache_size=200, class_weight=None, coef0=0.0,\n",
       "  decision_function_shape='ovr', degree=3, gamma='auto', kernel='rbf',\n",
       "  max_iter=-1, probability=False, random_state=None, shrinking=True,\n",
       "  tol=0.001, verbose=False)"
      ]
     },
     "execution_count": 120,
     "metadata": {},
     "output_type": "execute_result"
    }
   ],
   "source": [
    "from sklearn.svm import SVC\n",
    "\n",
    "svm_clf = SVC(gamma=\"auto\")\n",
    "svm_clf.fit(X_train, y_train)"
   ]
  },
  {
   "cell_type": "markdown",
   "metadata": {},
   "source": [
    "Great, our model is trained, let's use it to make predictions on the test set:"
   ]
  },
  {
   "cell_type": "code",
   "execution_count": 121,
   "metadata": {},
   "outputs": [],
   "source": [
    "X_test = preprocess_pipeline.transform(test_data)\n",
    "y_pred = svm_clf.predict(X_test)"
   ]
  },
  {
   "cell_type": "markdown",
   "metadata": {},
   "source": [
    "And now we could just build a CSV file with these predictions (respecting the format excepted by Kaggle), then upload it and hope for the best. But wait! We can do better than hope. Why don't we use cross-validation to have an idea of how good our model is?"
   ]
  },
  {
   "cell_type": "code",
   "execution_count": 122,
   "metadata": {},
   "outputs": [
    {
     "data": {
      "text/plain": [
       "0.7365250822835092"
      ]
     },
     "execution_count": 122,
     "metadata": {},
     "output_type": "execute_result"
    }
   ],
   "source": [
    "from sklearn.model_selection import cross_val_score\n",
    "\n",
    "svm_scores = cross_val_score(svm_clf, X_train, y_train, cv=10)\n",
    "svm_scores.mean()"
   ]
  },
  {
   "cell_type": "markdown",
   "metadata": {},
   "source": [
    "Okay, over 73% accuracy, clearly better than random chance, but it's not a great score. Looking at the [leaderboard](https://www.kaggle.com/c/titanic/leaderboard) for the Titanic competition on Kaggle, you can see that you need to reach above 80% accuracy to be within the top 10% Kagglers. Some reached 100%, but since you can easily find the [list of victims](https://www.encyclopedia-titanica.org/titanic-victims/) of the Titanic, it seems likely that there was little Machine Learning involved in their performance! ;-) So let's try to build a model that reaches 80% accuracy."
   ]
  },
  {
   "cell_type": "markdown",
   "metadata": {},
   "source": [
    "Let's try a `RandomForestClassifier`:"
   ]
  },
  {
   "cell_type": "code",
   "execution_count": 123,
   "metadata": {},
   "outputs": [
    {
     "data": {
      "text/plain": [
       "0.8149526160481217"
      ]
     },
     "execution_count": 123,
     "metadata": {},
     "output_type": "execute_result"
    }
   ],
   "source": [
    "from sklearn.ensemble import RandomForestClassifier\n",
    "\n",
    "forest_clf = RandomForestClassifier(n_estimators=100, random_state=42)\n",
    "forest_scores = cross_val_score(forest_clf, X_train, y_train, cv=10)\n",
    "forest_scores.mean()"
   ]
  },
  {
   "cell_type": "markdown",
   "metadata": {},
   "source": [
    "That's much better!"
   ]
  },
  {
   "cell_type": "markdown",
   "metadata": {},
   "source": [
    "Instead of just looking at the mean accuracy across the 10 cross-validation folds, let's plot all 10 scores for each model, along with a box plot highlighting the lower and upper quartiles, and \"whiskers\" showing the extent of the scores (thanks to Nevin Yilmaz for suggesting this visualization). Note that the `boxplot()` function detects outliers (called \"fliers\") and does not include them within the whiskers. Specifically, if the lower quartile is $Q_1$ and the upper quartile is $Q_3$, then the interquartile range $IQR = Q_3 - Q_1$ (this is the box's height), and any score lower than $Q_1 - 1.5 \\times IQR$ is a flier, and so is any score greater than $Q3 + 1.5 \\times IQR$."
   ]
  },
  {
   "cell_type": "code",
   "execution_count": 124,
   "metadata": {},
   "outputs": [
    {
     "data": {
      "image/png": "[encoded data removed]",
      "text/plain": [
       "<Figure size 576x288 with 1 Axes>"
      ]
     },
     "metadata": {
      "needs_background": "light"
     },
     "output_type": "display_data"
    }
   ],
   "source": [
    "plt.figure(figsize=(8, 4))\n",
    "plt.plot([1]*10, svm_scores, \".\")\n",
    "plt.plot([2]*10, forest_scores, \".\")\n",
    "plt.boxplot([svm_scores, forest_scores], labels=(\"SVM\",\"Random Forest\"))\n",
    "plt.ylabel(\"Accuracy\", fontsize=14)\n",
    "plt.show()"
   ]
  },
  {
   "cell_type": "markdown",
   "metadata": {},
   "source": [
    "To improve this result further, you could:\n",
    "* Compare many more models and tune hyperparameters using cross validation and grid search,\n",
    "* Do more feature engineering, for example:\n",
    "  * replace **SibSp** and **Parch** with their sum,\n",
    "  * try to identify parts of names that correlate well with the **Survived** attribute (e.g. if the name contains \"Countess\", then survival seems more likely),\n",
    "* try to convert numerical attributes to categorical attributes: for example, different age groups had very different survival rates (see below), so it may help to create an age bucket category and use it instead of the age. Similarly, it may be useful to have a special category for people traveling alone since only 30% of them survived (see below)."
   ]
  },
  {
   "cell_type": "code",
   "execution_count": 125,
   "metadata": {},
   "outputs": [
    {
     "data": {
      "text/html": [
       "<div>\n",
       "<style scoped>\n",
       "    .dataframe tbody tr th:only-of-type {\n",
       "        vertical-align: middle;\n",
       "    }\n",
       "\n",
       "    .dataframe tbody tr th {\n",
       "        vertical-align: top;\n",
       "    }\n",
       "\n",
       "    .dataframe thead th {\n",
       "        text-align: right;\n",
       "    }\n",
       "</style>\n",
       "<table border=\"1\" class=\"dataframe\">\n",
       "  <thead>\n",
       "    <tr style=\"text-align: right;\">\n",
       "      <th></th>\n",
       "      <th>Survived</th>\n",
       "    </tr>\n",
       "    <tr>\n",
       "      <th>AgeBucket</th>\n",
       "      <th></th>\n",
       "    </tr>\n",
       "  </thead>\n",
       "  <tbody>\n",
       "    <tr>\n",
       "      <th>0.0</th>\n",
       "      <td>0.576923</td>\n",
       "    </tr>\n",
       "    <tr>\n",
       "      <th>15.0</th>\n",
       "      <td>0.362745</td>\n",
       "    </tr>\n",
       "    <tr>\n",
       "      <th>30.0</th>\n",
       "      <td>0.423256</td>\n",
       "    </tr>\n",
       "    <tr>\n",
       "      <th>45.0</th>\n",
       "      <td>0.404494</td>\n",
       "    </tr>\n",
       "    <tr>\n",
       "      <th>60.0</th>\n",
       "      <td>0.240000</td>\n",
       "    </tr>\n",
       "    <tr>\n",
       "      <th>75.0</th>\n",
       "      <td>1.000000</td>\n",
       "    </tr>\n",
       "  </tbody>\n",
       "</table>\n",
       "</div>"
      ],
      "text/plain": [
       "           Survived\n",
       "AgeBucket          \n",
       "0.0        0.576923\n",
       "15.0       0.362745\n",
       "30.0       0.423256\n",
       "45.0       0.404494\n",
       "60.0       0.240000\n",
       "75.0       1.000000"
      ]
     },
     "execution_count": 125,
     "metadata": {},
     "output_type": "execute_result"
    }
   ],
   "source": [
    "train_data[\"AgeBucket\"] = train_data[\"Age\"] // 15 * 15\n",
    "train_data[[\"AgeBucket\", \"Survived\"]].groupby(['AgeBucket']).mean()"
   ]
  },
  {
   "cell_type": "code",
   "execution_count": 126,
   "metadata": {},
   "outputs": [
    {
     "data": {
      "text/html": [
       "<div>\n",
       "<style scoped>\n",
       "    .dataframe tbody tr th:only-of-type {\n",
       "        vertical-align: middle;\n",
       "    }\n",
       "\n",
       "    .dataframe tbody tr th {\n",
       "        vertical-align: top;\n",
       "    }\n",
       "\n",
       "    .dataframe thead th {\n",
       "        text-align: right;\n",
       "    }\n",
       "</style>\n",
       "<table border=\"1\" class=\"dataframe\">\n",
       "  <thead>\n",
       "    <tr style=\"text-align: right;\">\n",
       "      <th></th>\n",
       "      <th>Survived</th>\n",
       "    </tr>\n",
       "    <tr>\n",
       "      <th>RelativesOnboard</th>\n",
       "      <th></th>\n",
       "    </tr>\n",
       "  </thead>\n",
       "  <tbody>\n",
       "    <tr>\n",
       "      <th>0</th>\n",
       "      <td>0.303538</td>\n",
       "    </tr>\n",
       "    <tr>\n",
       "      <th>1</th>\n",
       "      <td>0.552795</td>\n",
       "    </tr>\n",
       "    <tr>\n",
       "      <th>2</th>\n",
       "      <td>0.578431</td>\n",
       "    </tr>\n",
       "    <tr>\n",
       "      <th>3</th>\n",
       "      <td>0.724138</td>\n",
       "    </tr>\n",
       "    <tr>\n",
       "      <th>4</th>\n",
       "      <td>0.200000</td>\n",
       "    </tr>\n",
       "    <tr>\n",
       "      <th>5</th>\n",
       "      <td>0.136364</td>\n",
       "    </tr>\n",
       "    <tr>\n",
       "      <th>6</th>\n",
       "      <td>0.333333</td>\n",
       "    </tr>\n",
       "    <tr>\n",
       "      <th>7</th>\n",
       "      <td>0.000000</td>\n",
       "    </tr>\n",
       "    <tr>\n",
       "      <th>10</th>\n",
       "      <td>0.000000</td>\n",
       "    </tr>\n",
       "  </tbody>\n",
       "</table>\n",
       "</div>"
      ],
      "text/plain": [
       "                  Survived\n",
       "RelativesOnboard          \n",
       "0                 0.303538\n",
       "1                 0.552795\n",
       "2                 0.578431\n",
       "3                 0.724138\n",
       "4                 0.200000\n",
       "5                 0.136364\n",
       "6                 0.333333\n",
       "7                 0.000000\n",
       "10                0.000000"
      ]
     },
     "execution_count": 126,
     "metadata": {},
     "output_type": "execute_result"
    }
   ],
   "source": [
    "train_data[\"RelativesOnboard\"] = train_data[\"SibSp\"] + train_data[\"Parch\"]\n",
    "train_data[[\"RelativesOnboard\", \"Survived\"]].groupby(['RelativesOnboard']).mean()"
   ]
  },
  {
   "cell_type": "markdown",
   "metadata": {},
   "source": [
    "## 4. Spam classifier"
   ]
  },
  {
   "cell_type": "markdown",
   "metadata": {},
   "source": [
    "First, let's fetch the data:"
   ]
  },
  {
   "cell_type": "code",
   "execution_count": 127,
   "metadata": {},
   "outputs": [],
   "source": [
    "import os\n",
    "import tarfile\n",
    "import urllib\n",
    "\n",
    "DOWNLOAD_ROOT = \"http://spamassassin.apache.org/old/publiccorpus/\"\n",
    "HAM_URL = DOWNLOAD_ROOT + \"20030228_easy_ham.tar.bz2\"\n",
    "SPAM_URL = DOWNLOAD_ROOT + \"20030228_spam.tar.bz2\"\n",
    "SPAM_PATH = os.path.join(\"datasets\", \"spam\")\n",
    "\n",
    "def fetch_spam_data(spam_url=SPAM_URL, spam_path=SPAM_PATH):\n",
    "    if not os.path.isdir(spam_path):\n",
    "        os.makedirs(spam_path)\n",
    "    for filename, url in ((\"ham.tar.bz2\", HAM_URL), (\"spam.tar.bz2\", SPAM_URL)):\n",
    "        path = os.path.join(spam_path, filename)\n",
    "        if not os.path.isfile(path):\n",
    "            urllib.request.urlretrieve(url, path)\n",
    "        tar_bz2_file = tarfile.open(path)\n",
    "        tar_bz2_file.extractall(path=SPAM_PATH)\n",
    "        tar_bz2_file.close()"
   ]
  },
  {
   "cell_type": "code",
   "execution_count": 128,
   "metadata": {},
   "outputs": [],
   "source": [
    "fetch_spam_data()"
   ]
  },
  {
   "cell_type": "markdown",
   "metadata": {},
   "source": [
    "Next, let's load all the emails:"
   ]
  },
  {
   "cell_type": "code",
   "execution_count": 129,
   "metadata": {},
   "outputs": [],
   "source": [
    "HAM_DIR = os.path.join(SPAM_PATH, \"easy_ham\")\n",
    "SPAM_DIR = os.path.join(SPAM_PATH, \"spam\")\n",
    "ham_filenames = [name for name in sorted(os.listdir(HAM_DIR)) if len(name) > 20]\n",
    "spam_filenames = [name for name in sorted(os.listdir(SPAM_DIR)) if len(name) > 20]"
   ]
  },
  {
   "cell_type": "code",
   "execution_count": 130,
   "metadata": {},
   "outputs": [
    {
     "data": {
      "text/plain": [
       "2500"
      ]
     },
     "execution_count": 130,
     "metadata": {},
     "output_type": "execute_result"
    }
   ],
   "source": [
    "len(ham_filenames)"
   ]
  },
  {
   "cell_type": "code",
   "execution_count": 131,
   "metadata": {},
   "outputs": [
    {
     "data": {
      "text/plain": [
       "500"
      ]
     },
     "execution_count": 131,
     "metadata": {},
     "output_type": "execute_result"
    }
   ],
   "source": [
    "len(spam_filenames)"
   ]
  },
  {
   "cell_type": "markdown",
   "metadata": {},
   "source": [
    "We can use Python's `email` module to parse these emails (this handles headers, encoding, and so on):"
   ]
  },
  {
   "cell_type": "code",
   "execution_count": 132,
   "metadata": {},
   "outputs": [],
   "source": [
    "import email\n",
    "import email.policy\n",
    "\n",
    "def load_email(is_spam, filename, spam_path=SPAM_PATH):\n",
    "    directory = \"spam\" if is_spam else \"easy_ham\"\n",
    "    with open(os.path.join(spam_path, directory, filename), \"rb\") as f:\n",
    "        return email.parser.BytesParser(policy=email.policy.default).parse(f)"
   ]
  },
  {
   "cell_type": "code",
   "execution_count": 133,
   "metadata": {},
   "outputs": [],
   "source": [
    "ham_emails = [load_email(is_spam=False, filename=name) for name in ham_filenames]\n",
    "spam_emails = [load_email(is_spam=True, filename=name) for name in spam_filenames]"
   ]
  },
  {
   "cell_type": "markdown",
   "metadata": {},
   "source": [
    "Let's look at one example of ham and one example of spam, to get a feel of what the data looks like:"
   ]
  },
  {
   "cell_type": "code",
   "execution_count": 134,
   "metadata": {},
   "outputs": [
    {
     "name": "stdout",
     "output_type": "stream",
     "text": [
      "Martin A posted:\n",
      "Tassos Papadopoulos, the Greek sculptor behind the plan, judged that the\n",
      " limestone of Mount Kerdylio, 70 miles east of Salonika and not far from the\n",
      " Mount Athos monastic community, was ideal for the patriotic sculpture. \n",
      " \n",
      " As well as Alexander's granite features, 240 ft high and 170 ft wide, a\n",
      " museum, a restored amphitheatre and car park for admiring crowds are\n",
      "planned\n",
      "---------------------\n",
      "So is this mountain limestone or granite?\n",
      "If it's limestone, it'll weather pretty fast.\n",
      "\n",
      "------------------------ Yahoo! Groups Sponsor ---------------------~-->\n",
      "4 DVDs Free +s&p Join Now\n",
      "http://us.click.yahoo.com/pt6YBB/NXiEAA/mG3HAA/7gSolB/TM\n",
      "---------------------------------------------------------------------~->\n",
      "\n",
      "To unsubscribe from this group, send an email to:\n",
      "forteana-unsubscribe@egroups.com\n",
      "\n",
      " \n",
      "\n",
      "Your use of Yahoo! Groups is subject to http://docs.yahoo.com/info/terms/\n"
     ]
    }
   ],
   "source": [
    "print(ham_emails[1].get_content().strip())"
   ]
  },
  {
   "cell_type": "code",
   "execution_count": 135,
   "metadata": {},
   "outputs": [
    {
     "name": "stdout",
     "output_type": "stream",
     "text": [
      "Help wanted.  We are a 14 year old fortune 500 company, that is\n",
      "growing at a tremendous rate.  We are looking for individuals who\n",
      "want to work from home.\n",
      "\n",
      "This is an opportunity to make an excellent income.  No experience\n",
      "is required.  We will train you.\n",
      "\n",
      "So if you are looking to be employed from home with a career that has\n",
      "vast opportunities, then go:\n",
      "\n",
      "http://www.basetel.com/wealthnow\n",
      "\n",
      "We are looking for energetic and self motivated people.  If that is you\n",
      "than click on the link and fill out the form, and one of our\n",
      "employement specialist will contact you.\n",
      "\n",
      "To be removed from our link simple go to:\n",
      "\n",
      "http://www.basetel.com/remove.html\n",
      "\n",
      "\n",
      "4139vOLW7-758DoDY1425FRhM1-764SMFc8513fCsLl40\n"
     ]
    }
   ],
   "source": [
    "print(spam_emails[6].get_content().strip())"
   ]
  },
  {
   "cell_type": "markdown",
   "metadata": {},
   "source": [
    "Some emails are actually multipart, with images and attachments (which can have their own attachments). Let's look at the various types of structures we have:"
   ]
  },
  {
   "cell_type": "code",
   "execution_count": 136,
   "metadata": {},
   "outputs": [],
   "source": [
    "def get_email_structure(email):\n",
    "    if isinstance(email, str):\n",
    "        return email\n",
    "    payload = email.get_payload()\n",
    "    if isinstance(payload, list):\n",
    "        return \"multipart({})\".format(\", \".join([\n",
    "            get_email_structure(sub_email)\n",
    "            for sub_email in payload\n",
    "        ]))\n",
    "    else:\n",
    "        return email.get_content_type()"
   ]
  },
  {
   "cell_type": "code",
   "execution_count": 137,
   "metadata": {},
   "outputs": [],
   "source": [
    "from collections import Counter\n",
    "\n",
    "def structures_counter(emails):\n",
    "    structures = Counter()\n",
    "    for email in emails:\n",
    "        structure = get_email_structure(email)\n",
    "        structures[structure] += 1\n",
    "    return structures"
   ]
  },
  {
   "cell_type": "code",
   "execution_count": 138,
   "metadata": {},
   "outputs": [
    {
     "data": {
      "text/plain": [
       "[('text/plain', 2408),\n",
       " ('multipart(text/plain, application/pgp-signature)', 66),\n",
       " ('multipart(text/plain, text/html)', 8),\n",
       " ('multipart(text/plain, text/plain)', 4),\n",
       " ('multipart(text/plain)', 3),\n",
       " ('multipart(text/plain, application/octet-stream)', 2),\n",
       " ('multipart(text/plain, text/enriched)', 1),\n",
       " ('multipart(text/plain, application/ms-tnef, text/plain)', 1),\n",
       " ('multipart(multipart(text/plain, text/plain, text/plain), application/pgp-signature)',\n",
       "  1),\n",
       " ('multipart(text/plain, video/mng)', 1),\n",
       " ('multipart(text/plain, multipart(text/plain))', 1),\n",
       " ('multipart(text/plain, application/x-pkcs7-signature)', 1),\n",
       " ('multipart(text/plain, multipart(text/plain, text/plain), text/rfc822-headers)',\n",
       "  1),\n",
       " ('multipart(text/plain, multipart(text/plain, text/plain), multipart(multipart(text/plain, application/x-pkcs7-signature)))',\n",
       "  1),\n",
       " ('multipart(text/plain, application/x-java-applet)', 1)]"
      ]
     },
     "execution_count": 138,
     "metadata": {},
     "output_type": "execute_result"
    }
   ],
   "source": [
    "structures_counter(ham_emails).most_common()"
   ]
  },
  {
   "cell_type": "code",
   "execution_count": 139,
   "metadata": {},
   "outputs": [
    {
     "data": {
      "text/plain": [
       "[('text/plain', 218),\n",
       " ('text/html', 183),\n",
       " ('multipart(text/plain, text/html)', 45),\n",
       " ('multipart(text/html)', 20),\n",
       " ('multipart(text/plain)', 19),\n",
       " ('multipart(multipart(text/html))', 5),\n",
       " ('multipart(text/plain, image/jpeg)', 3),\n",
       " ('multipart(text/html, application/octet-stream)', 2),\n",
       " ('multipart(text/plain, application/octet-stream)', 1),\n",
       " ('multipart(text/html, text/plain)', 1),\n",
       " ('multipart(multipart(text/html), application/octet-stream, image/jpeg)', 1),\n",
       " ('multipart(multipart(text/plain, text/html), image/gif)', 1),\n",
       " ('multipart/alternative', 1)]"
      ]
     },
     "execution_count": 139,
     "metadata": {},
     "output_type": "execute_result"
    }
   ],
   "source": [
    "structures_counter(spam_emails).most_common()"
   ]
  },
  {
   "cell_type": "markdown",
   "metadata": {},
   "source": [
    "It seems that the ham emails are more often plain text, while spam has quite a lot of HTML. Moreover, quite a few ham emails are signed using PGP, while no spam is. In short, it seems that the email structure is useful information to have."
   ]
  },
  {
   "cell_type": "markdown",
   "metadata": {},
   "source": [
    "Now let's take a look at the email headers:"
   ]
  },
  {
   "cell_type": "code",
   "execution_count": 140,
   "metadata": {},
   "outputs": [
    {
     "name": "stdout",
     "output_type": "stream",
     "text": [
      "Return-Path : <12a1mailbot1@web.de>\n",
      "Delivered-To : zzzz@localhost.spamassassin.taint.org\n",
      "Received : from localhost (localhost [127.0.0.1])\tby phobos.labs.spamassassin.taint.org (Postfix) with ESMTP id 136B943C32\tfor <zzzz@localhost>; Thu, 22 Aug 2002 08:17:21 -0400 (EDT)\n",
      "Received : from mail.webnote.net [193.120.211.219]\tby localhost with POP3 (fetchmail-5.9.0)\tfor zzzz@localhost (single-drop); Thu, 22 Aug 2002 13:17:21 +0100 (IST)\n",
      "Received : from dd_it7 ([210.97.77.167])\tby webnote.net (8.9.3/8.9.3) with ESMTP id NAA04623\tfor <zzzz@spamassassin.taint.org>; Thu, 22 Aug 2002 13:09:41 +0100\n",
      "From : 12a1mailbot1@web.de\n",
      "Received : from r-smtp.korea.com - 203.122.2.197 by dd_it7  with Microsoft SMTPSVC(5.5.1775.675.6);\t Sat, 24 Aug 2002 09:42:10 +0900\n",
      "To : dcek1a1@netsgo.com\n",
      "Subject : Life Insurance - Why Pay More?\n",
      "Date : Wed, 21 Aug 2002 20:31:57 -1600\n",
      "MIME-Version : 1.0\n",
      "Message-ID : <0103c1042001882DD_IT7@dd_it7>\n",
      "Content-Type : text/html; charset=\"iso-8859-1\"\n",
      "Content-Transfer-Encoding : quoted-printable\n"
     ]
    }
   ],
   "source": [
    "for header, value in spam_emails[0].items():\n",
    "    print(header,\":\",value)"
   ]
  },
  {
   "cell_type": "markdown",
   "metadata": {},
   "source": [
    "There's probably a lot of useful information in there, such as the sender's email address (12a1mailbot1@web.de looks fishy), but we will just focus on the `Subject` header:"
   ]
  },
  {
   "cell_type": "code",
   "execution_count": 141,
   "metadata": {},
   "outputs": [
    {
     "data": {
      "text/plain": [
       "'Life Insurance - Why Pay More?'"
      ]
     },
     "execution_count": 141,
     "metadata": {},
     "output_type": "execute_result"
    }
   ],
   "source": [
    "spam_emails[0][\"Subject\"]"
   ]
  },
  {
   "cell_type": "markdown",
   "metadata": {},
   "source": [
    "Okay, before we learn too much about the data, let's not forget to split it into a training set and a test set:"
   ]
  },
  {
   "cell_type": "code",
   "execution_count": 142,
   "metadata": {},
   "outputs": [],
   "source": [
    "import numpy as np\n",
    "from sklearn.model_selection import train_test_split\n",
    "\n",
    "X = np.array(ham_emails + spam_emails)\n",
    "y = np.array([0] * len(ham_emails) + [1] * len(spam_emails))\n",
    "\n",
    "X_train, X_test, y_train, y_test = train_test_split(X, y, test_size=0.2, random_state=42)"
   ]
  },
  {
   "cell_type": "markdown",
   "metadata": {},
   "source": [
    "Okay, let's start writing the preprocessing functions. First, we will need a function to convert HTML to plain text. Arguably the best way to do this would be to use the great [BeautifulSoup](https://www.crummy.com/software/BeautifulSoup/) library, but I would like to avoid adding another dependency to this project, so let's hack a quick & dirty solution using regular expressions (at the risk of [un̨ho͞ly radiańcé destro҉ying all enli̍̈́̂̈́ghtenment](https://stackoverflow.com/a/1732454/38626)). The following function first drops the `<head>` section, then converts all `<a>` tags to the word HYPERLINK, then it gets rid of all HTML tags, leaving only the plain text. For readability, it also replaces multiple newlines with single newlines, and finally it unescapes html entities (such as `&gt;` or `&nbsp;`):"
   ]
  },
  {
   "cell_type": "code",
   "execution_count": 143,
   "metadata": {},
   "outputs": [],
   "source": [
    "import re\n",
    "from html import unescape\n",
    "\n",
    "def html_to_plain_text(html):\n",
    "    text = re.sub('<head.*?>.*?</head>', '', html, flags=re.M | re.S | re.I)\n",
    "    text = re.sub('<a\\s.*?>', ' HYPERLINK ', text, flags=re.M | re.S | re.I)\n",
    "    text = re.sub('<.*?>', '', text, flags=re.M | re.S)\n",
    "    text = re.sub(r'(\\s*\\n)+', '\\n', text, flags=re.M | re.S)\n",
    "    return unescape(text)"
   ]
  },
  {
   "cell_type": "markdown",
   "metadata": {},
   "source": [
    "Let's see if it works. This is HTML spam:"
   ]
  },
  {
   "cell_type": "code",
   "execution_count": 144,
   "metadata": {},
   "outputs": [
    {
     "name": "stdout",
     "output_type": "stream",
     "text": [
      "<HTML><HEAD><TITLE></TITLE><META http-equiv=\"Content-Type\" content=\"text/html; charset=windows-1252\"><STYLE>A:link {TEX-DECORATION: none}A:active {TEXT-DECORATION: none}A:visited {TEXT-DECORATION: none}A:hover {COLOR: #0033ff; TEXT-DECORATION: underline}</STYLE><META content=\"MSHTML 6.00.2713.1100\" name=\"GENERATOR\"></HEAD>\n",
      "<BODY text=\"#000000\" vLink=\"#0033ff\" link=\"#0033ff\" bgColor=\"#CCCC99\"><TABLE borderColor=\"#660000\" cellSpacing=\"0\" cellPadding=\"0\" border=\"0\" width=\"100%\"><TR><TD bgColor=\"#CCCC99\" valign=\"top\" colspan=\"2\" height=\"27\">\n",
      "<font size=\"6\" face=\"Arial, Helvetica, sans-serif\" color=\"#660000\">\n",
      "<b>OTC</b></font></TD></TR><TR><TD height=\"2\" bgcolor=\"#6a694f\">\n",
      "<font size=\"5\" face=\"Times New Roman, Times, serif\" color=\"#FFFFFF\">\n",
      "<b>&nbsp;Newsletter</b></font></TD><TD height=\"2\" bgcolor=\"#6a694f\"><div align=\"right\"><font color=\"#FFFFFF\">\n",
      "<b>Discover Tomorrow's Winners&nbsp;</b></font></div></TD></TR><TR><TD height=\"25\" colspan=\"2\" bgcolor=\"#CCCC99\"><table width=\"100%\" border=\"0\"  ...\n"
     ]
    }
   ],
   "source": [
    "html_spam_emails = [email for email in X_train[y_train==1]\n",
    "                    if get_email_structure(email) == \"text/html\"]\n",
    "sample_html_spam = html_spam_emails[7]\n",
    "print(sample_html_spam.get_content().strip()[:1000], \"...\")"
   ]
  },
  {
   "cell_type": "markdown",
   "metadata": {},
   "source": [
    "And this is the resulting plain text:"
   ]
  },
  {
   "cell_type": "code",
   "execution_count": 145,
   "metadata": {},
   "outputs": [
    {
     "name": "stdout",
     "output_type": "stream",
     "text": [
      "\n",
      "OTC\n",
      " Newsletter\n",
      "Discover Tomorrow's Winners \n",
      "For Immediate Release\n",
      "Cal-Bay (Stock Symbol: CBYI)\n",
      "Watch for analyst \"Strong Buy Recommendations\" and several advisory newsletters picking CBYI.  CBYI has filed to be traded on the OTCBB, share prices historically INCREASE when companies get listed on this larger trading exchange. CBYI is trading around 25 cents and should skyrocket to $2.66 - $3.25 a share in the near future.\n",
      "Put CBYI on your watch list, acquire a position TODAY.\n",
      "REASONS TO INVEST IN CBYI\n",
      "A profitable company and is on track to beat ALL earnings estimates!\n",
      "One of the FASTEST growing distributors in environmental & safety equipment instruments.\n",
      "Excellent management team, several EXCLUSIVE contracts.  IMPRESSIVE client list including the U.S. Air Force, Anheuser-Busch, Chevron Refining and Mitsubishi Heavy Industries, GE-Energy & Environmental Research.\n",
      "RAPIDLY GROWING INDUSTRY\n",
      "Industry revenues exceed $900 million, estimates indicate that there could be as much as $25 billi ...\n"
     ]
    }
   ],
   "source": [
    "print(html_to_plain_text(sample_html_spam.get_content())[:1000], \"...\")"
   ]
  },
  {
   "cell_type": "markdown",
   "metadata": {},
   "source": [
    "Great! Now let's write a function that takes an email as input and returns its content as plain text, whatever its format is:"
   ]
  },
  {
   "cell_type": "code",
   "execution_count": 146,
   "metadata": {},
   "outputs": [],
   "source": [
    "def email_to_text(email):\n",
    "    html = None\n",
    "    for part in email.walk():\n",
    "        ctype = part.get_content_type()\n",
    "        if not ctype in (\"text/plain\", \"text/html\"):\n",
    "            continue\n",
    "        try:\n",
    "            content = part.get_content()\n",
    "        except: # in case of encoding issues\n",
    "            content = str(part.get_payload())\n",
    "        if ctype == \"text/plain\":\n",
    "            return content\n",
    "        else:\n",
    "            html = content\n",
    "    if html:\n",
    "        return html_to_plain_text(html)"
   ]
  },
  {
   "cell_type": "code",
   "execution_count": 147,
   "metadata": {},
   "outputs": [
    {
     "name": "stdout",
     "output_type": "stream",
     "text": [
      "\n",
      "OTC\n",
      " Newsletter\n",
      "Discover Tomorrow's Winners \n",
      "For Immediate Release\n",
      "Cal-Bay (Stock Symbol: CBYI)\n",
      "Wat ...\n"
     ]
    }
   ],
   "source": [
    "print(email_to_text(sample_html_spam)[:100], \"...\")"
   ]
  },
  {
   "cell_type": "markdown",
   "metadata": {},
   "source": [
    "Let's throw in some stemming! For this to work, you need to install the Natural Language Toolkit ([NLTK](http://www.nltk.org/)). It's as simple as running the following command (don't forget to activate your virtualenv first; if you don't have one, you will likely need administrator rights, or use the `--user` option):\n",
    "\n",
    "`$ pip3 install nltk`"
   ]
  },
  {
   "cell_type": "code",
   "execution_count": 148,
   "metadata": {},
   "outputs": [
    {
     "name": "stdout",
     "output_type": "stream",
     "text": [
      "Computations => comput\n",
      "Computation => comput\n",
      "Computing => comput\n",
      "Computed => comput\n",
      "Compute => comput\n",
      "Compulsive => compuls\n"
     ]
    }
   ],
   "source": [
    "try:\n",
    "    import nltk\n",
    "\n",
    "    stemmer = nltk.PorterStemmer()\n",
    "    for word in (\"Computations\", \"Computation\", \"Computing\", \"Computed\", \"Compute\", \"Compulsive\"):\n",
    "        print(word, \"=>\", stemmer.stem(word))\n",
    "except ImportError:\n",
    "    print(\"Error: stemming requires the NLTK module.\")\n",
    "    stemmer = None"
   ]
  },
  {
   "cell_type": "markdown",
   "metadata": {},
   "source": [
    "We will also need a way to replace URLs with the word \"URL\". For this, we could use hard core [regular expressions](https://mathiasbynens.be/demo/url-regex) but we will just use the [urlextract](https://github.com/lipoja/URLExtract) library. You can install it with the following command (don't forget to activate your virtualenv first; if you don't have one, you will likely need administrator rights, or use the `--user` option):\n",
    "\n",
    "`$ pip3 install urlextract`"
   ]
  },
  {
   "cell_type": "code",
   "execution_count": 149,
   "metadata": {},
   "outputs": [],
   "source": [
    "# if running this notebook on Colab, we just pip install urlextract\n",
    "try:\n",
    "    import google.colab\n",
    "    !pip install -q -U urlextract\n",
    "except ImportError:\n",
    "    pass # not running on Colab"
   ]
  },
  {
   "cell_type": "code",
   "execution_count": 150,
   "metadata": {},
   "outputs": [
    {
     "name": "stdout",
     "output_type": "stream",
     "text": [
      "['github.com', 'https://youtu.be/7Pq-S557XQU?t=3m32s']\n"
     ]
    }
   ],
   "source": [
    "try:\n",
    "    import urlextract # may require an Internet connection to download root domain names\n",
    "    \n",
    "    url_extractor = urlextract.URLExtract()\n",
    "    print(url_extractor.find_urls(\"Will it detect github.com and https://youtu.be/7Pq-S557XQU?t=3m32s\"))\n",
    "except ImportError:\n",
    "    print(\"Error: replacing URLs requires the urlextract module.\")\n",
    "    url_extractor = None"
   ]
  },
  {
   "cell_type": "markdown",
   "metadata": {},
   "source": [
    "We are ready to put all this together into a transformer that we will use to convert emails to word counters. Note that we split sentences into words using Python's `split()` method, which uses whitespaces for word boundaries. This works for many written languages, but not all. For example, Chinese and Japanese scripts generally don't use spaces between words, and Vietnamese often uses spaces even between syllables. It's okay in this exercise, because the dataset is (mostly) in English."
   ]
  },
  {
   "cell_type": "code",
   "execution_count": 151,
   "metadata": {},
   "outputs": [],
   "source": [
    "from sklearn.base import BaseEstimator, TransformerMixin\n",
    "\n",
    "class EmailToWordCounterTransformer(BaseEstimator, TransformerMixin):\n",
    "    def __init__(self, strip_headers=True, lower_case=True, remove_punctuation=True,\n",
    "                 replace_urls=True, replace_numbers=True, stemming=True):\n",
    "        self.strip_headers = strip_headers\n",
    "        self.lower_case = lower_case\n",
    "        self.remove_punctuation = remove_punctuation\n",
    "        self.replace_urls = replace_urls\n",
    "        self.replace_numbers = replace_numbers\n",
    "        self.stemming = stemming\n",
    "    def fit(self, X, y=None):\n",
    "        return self\n",
    "    def transform(self, X, y=None):\n",
    "        X_transformed = []\n",
    "        for email in X:\n",
    "            text = email_to_text(email) or \"\"\n",
    "            if self.lower_case:\n",
    "                text = text.lower()\n",
    "            if self.replace_urls and url_extractor is not None:\n",
    "                urls = list(set(url_extractor.find_urls(text)))\n",
    "                urls.sort(key=lambda url: len(url), reverse=True)\n",
    "                for url in urls:\n",
    "                    text = text.replace(url, \" URL \")\n",
    "            if self.replace_numbers:\n",
    "                text = re.sub(r'\\d+(?:\\.\\d*(?:[eE]\\d+))?', 'NUMBER', text)\n",
    "            if self.remove_punctuation:\n",
    "                text = re.sub(r'\\W+', ' ', text, flags=re.M)\n",
    "            word_counts = Counter(text.split())\n",
    "            if self.stemming and stemmer is not None:\n",
    "                stemmed_word_counts = Counter()\n",
    "                for word, count in word_counts.items():\n",
    "                    stemmed_word = stemmer.stem(word)\n",
    "                    stemmed_word_counts[stemmed_word] += count\n",
    "                word_counts = stemmed_word_counts\n",
    "            X_transformed.append(word_counts)\n",
    "        return np.array(X_transformed)"
   ]
  },
  {
   "cell_type": "markdown",
   "metadata": {},
   "source": [
    "Let's try this transformer on a few emails:"
   ]
  },
  {
   "cell_type": "code",
   "execution_count": 152,
   "metadata": {},
   "outputs": [
    {
     "data": {
      "text/plain": [
       "array([Counter({'chuck': 1, 'murcko': 1, 'wrote': 1, 'stuff': 1, 'yawn': 1, 'r': 1}),\n",
       "       Counter({'the': 11, 'of': 9, 'and': 8, 'all': 3, 'christian': 3, 'to': 3, 'by': 3, 'jefferson': 2, 'i': 2, 'have': 2, 'superstit': 2, 'one': 2, 'on': 2, 'been': 2, 'ha': 2, 'half': 2, 'rogueri': 2, 'teach': 2, 'jesu': 2, 'some': 1, 'interest': 1, 'quot': 1, 'url': 1, 'thoma': 1, 'examin': 1, 'known': 1, 'word': 1, 'do': 1, 'not': 1, 'find': 1, 'in': 1, 'our': 1, 'particular': 1, 'redeem': 1, 'featur': 1, 'they': 1, 'are': 1, 'alik': 1, 'found': 1, 'fabl': 1, 'mytholog': 1, 'million': 1, 'innoc': 1, 'men': 1, 'women': 1, 'children': 1, 'sinc': 1, 'introduct': 1, 'burnt': 1, 'tortur': 1, 'fine': 1, 'imprison': 1, 'what': 1, 'effect': 1, 'thi': 1, 'coercion': 1, 'make': 1, 'world': 1, 'fool': 1, 'other': 1, 'hypocrit': 1, 'support': 1, 'error': 1, 'over': 1, 'earth': 1, 'six': 1, 'histor': 1, 'american': 1, 'john': 1, 'e': 1, 'remsburg': 1, 'letter': 1, 'william': 1, 'short': 1, 'again': 1, 'becom': 1, 'most': 1, 'pervert': 1, 'system': 1, 'that': 1, 'ever': 1, 'shone': 1, 'man': 1, 'absurd': 1, 'untruth': 1, 'were': 1, 'perpetr': 1, 'upon': 1, 'a': 1, 'larg': 1, 'band': 1, 'dupe': 1, 'import': 1, 'led': 1, 'paul': 1, 'first': 1, 'great': 1, 'corrupt': 1}),\n",
       "       Counter({'url': 5, 's': 3, 'group': 3, 'to': 3, 'in': 2, 'forteana': 2, 'martin': 2, 'an': 2, 'and': 2, 'we': 2, 'is': 2, 'yahoo': 2, 'unsubscrib': 2, 'y': 1, 'adamson': 1, 'wrote': 1, 'for': 1, 'altern': 1, 'rather': 1, 'more': 1, 'factual': 1, 'base': 1, 'rundown': 1, 'on': 1, 'hamza': 1, 'career': 1, 'includ': 1, 'hi': 1, 'belief': 1, 'that': 1, 'all': 1, 'non': 1, 'muslim': 1, 'yemen': 1, 'should': 1, 'be': 1, 'murder': 1, 'outright': 1, 'know': 1, 'how': 1, 'unbias': 1, 'memri': 1, 'don': 1, 't': 1, 'html': 1, 'rob': 1, 'sponsor': 1, 'number': 1, 'dvd': 1, 'free': 1, 'p': 1, 'join': 1, 'now': 1, 'from': 1, 'thi': 1, 'send': 1, 'email': 1, 'your': 1, 'use': 1, 'of': 1, 'subject': 1})],\n",
       "      dtype=object)"
      ]
     },
     "execution_count": 152,
     "metadata": {},
     "output_type": "execute_result"
    }
   ],
   "source": [
    "X_few = X_train[:3]\n",
    "X_few_wordcounts = EmailToWordCounterTransformer().fit_transform(X_few)\n",
    "X_few_wordcounts"
   ]
  },
  {
   "cell_type": "markdown",
   "metadata": {},
   "source": [
    "This looks about right!"
   ]
  },
  {
   "cell_type": "markdown",
   "metadata": {},
   "source": [
    "Now we have the word counts, and we need to convert them to vectors. For this, we will build another transformer whose `fit()` method will build the vocabulary (an ordered list of the most common words) and whose `transform()` method will use the vocabulary to convert word counts to vectors. The output is a sparse matrix."
   ]
  },
  {
   "cell_type": "code",
   "execution_count": 153,
   "metadata": {},
   "outputs": [],
   "source": [
    "from scipy.sparse import csr_matrix\n",
    "\n",
    "class WordCounterToVectorTransformer(BaseEstimator, TransformerMixin):\n",
    "    def __init__(self, vocabulary_size=1000):\n",
    "        self.vocabulary_size = vocabulary_size\n",
    "    def fit(self, X, y=None):\n",
    "        total_count = Counter()\n",
    "        for word_count in X:\n",
    "            for word, count in word_count.items():\n",
    "                total_count[word] += min(count, 10)\n",
    "        most_common = total_count.most_common()[:self.vocabulary_size]\n",
    "        self.most_common_ = most_common\n",
    "        self.vocabulary_ = {word: index + 1 for index, (word, count) in enumerate(most_common)}\n",
    "        return self\n",
    "    def transform(self, X, y=None):\n",
    "        rows = []\n",
    "        cols = []\n",
    "        data = []\n",
    "        for row, word_count in enumerate(X):\n",
    "            for word, count in word_count.items():\n",
    "                rows.append(row)\n",
    "                cols.append(self.vocabulary_.get(word, 0))\n",
    "                data.append(count)\n",
    "        return csr_matrix((data, (rows, cols)), shape=(len(X), self.vocabulary_size + 1))"
   ]
  },
  {
   "cell_type": "code",
   "execution_count": 154,
   "metadata": {},
   "outputs": [
    {
     "data": {
      "text/plain": [
       "<3x11 sparse matrix of type '<class 'numpy.int64'>'\n",
       "\twith 20 stored elements in Compressed Sparse Row format>"
      ]
     },
     "execution_count": 154,
     "metadata": {},
     "output_type": "execute_result"
    }
   ],
   "source": [
    "vocab_transformer = WordCounterToVectorTransformer(vocabulary_size=10)\n",
    "X_few_vectors = vocab_transformer.fit_transform(X_few_wordcounts)\n",
    "X_few_vectors"
   ]
  },
  {
   "cell_type": "code",
   "execution_count": 155,
   "metadata": {},
   "outputs": [
    {
     "data": {
      "text/plain": [
       "array([[ 6,  0,  0,  0,  0,  0,  0,  0,  0,  0,  0],\n",
       "       [99, 11,  9,  8,  1,  3,  3,  1,  3,  2,  3],\n",
       "       [65,  0,  1,  2,  5,  3,  1,  2,  0,  1,  0]], dtype=int64)"
      ]
     },
     "execution_count": 155,
     "metadata": {},
     "output_type": "execute_result"
    }
   ],
   "source": [
    "X_few_vectors.toarray()"
   ]
  },
  {
   "cell_type": "markdown",
   "metadata": {},
   "source": [
    "What does this matrix mean? Well, the 99 in the second row, first column, means that the second email contains 99 words that are not part of the vocabulary. The 11 next to it means that the first word in the vocabulary is present 11 times in this email. The 9 next to it means that the second word is present 9 times, and so on. You can look at the vocabulary to know which words we are talking about. The first word is \"the\", the second word is \"of\", etc."
   ]
  },
  {
   "cell_type": "code",
   "execution_count": 156,
   "metadata": {},
   "outputs": [
    {
     "data": {
      "text/plain": [
       "{'the': 1,\n",
       " 'of': 2,\n",
       " 'and': 3,\n",
       " 'url': 4,\n",
       " 'to': 5,\n",
       " 'all': 6,\n",
       " 'in': 7,\n",
       " 'christian': 8,\n",
       " 'on': 9,\n",
       " 'by': 10}"
      ]
     },
     "execution_count": 156,
     "metadata": {},
     "output_type": "execute_result"
    }
   ],
   "source": [
    "vocab_transformer.vocabulary_"
   ]
  },
  {
   "cell_type": "markdown",
   "metadata": {},
   "source": [
    "We are now ready to train our first spam classifier! Let's transform the whole dataset:"
   ]
  },
  {
   "cell_type": "code",
   "execution_count": 157,
   "metadata": {},
   "outputs": [],
   "source": [
    "from sklearn.pipeline import Pipeline\n",
    "\n",
    "preprocess_pipeline = Pipeline([\n",
    "    (\"email_to_wordcount\", EmailToWordCounterTransformer()),\n",
    "    (\"wordcount_to_vector\", WordCounterToVectorTransformer()),\n",
    "])\n",
    "\n",
    "X_train_transformed = preprocess_pipeline.fit_transform(X_train)"
   ]
  },
  {
   "cell_type": "markdown",
   "metadata": {},
   "source": [
    "**Note**: to be future-proof, we set `solver=\"lbfgs\"` since this will be the default value in Scikit-Learn 0.22."
   ]
  },
  {
   "cell_type": "code",
   "execution_count": 158,
   "metadata": {},
   "outputs": [
    {
     "name": "stderr",
     "output_type": "stream",
     "text": [
      "[Parallel(n_jobs=1)]: Using backend SequentialBackend with 1 concurrent workers.\n",
      "/Users/ageron/.virtualenvs/tf2/lib/python3.6/site-packages/sklearn/linear_model/logistic.py:758: ConvergenceWarning: lbfgs failed to converge. Increase the number of iterations.\n",
      "  \"of iterations.\", ConvergenceWarning)\n",
      "[Parallel(n_jobs=1)]: Done   1 out of   1 | elapsed:    0.1s remaining:    0.0s\n"
     ]
    },
    {
     "name": "stdout",
     "output_type": "stream",
     "text": [
      "[CV]  ................................................................\n",
      "[CV] .................................... , score=0.985, total=   0.1s\n",
      "[CV]  ................................................................\n",
      "[CV] .................................... , score=0.985, total=   0.1s\n",
      "[CV]  ................................................................\n",
      "[CV] ................................... , score=0.9925, total=   0.1s\n"
     ]
    },
    {
     "name": "stderr",
     "output_type": "stream",
     "text": [
      "/Users/ageron/.virtualenvs/tf2/lib/python3.6/site-packages/sklearn/linear_model/logistic.py:758: ConvergenceWarning: lbfgs failed to converge. Increase the number of iterations.\n",
      "  \"of iterations.\", ConvergenceWarning)\n",
      "[Parallel(n_jobs=1)]: Done   2 out of   2 | elapsed:    0.2s remaining:    0.0s\n",
      "/Users/ageron/.virtualenvs/tf2/lib/python3.6/site-packages/sklearn/linear_model/logistic.py:758: ConvergenceWarning: lbfgs failed to converge. Increase the number of iterations.\n",
      "  \"of iterations.\", ConvergenceWarning)\n",
      "[Parallel(n_jobs=1)]: Done   3 out of   3 | elapsed:    0.4s finished\n"
     ]
    },
    {
     "data": {
      "text/plain": [
       "0.9874999999999999"
      ]
     },
     "execution_count": 158,
     "metadata": {},
     "output_type": "execute_result"
    }
   ],
   "source": [
    "from sklearn.linear_model import LogisticRegression\n",
    "from sklearn.model_selection import cross_val_score\n",
    "\n",
    "log_clf = LogisticRegression(solver=\"lbfgs\", random_state=42)\n",
    "score = cross_val_score(log_clf, X_train_transformed, y_train, cv=3, verbose=3)\n",
    "score.mean()"
   ]
  },
  {
   "cell_type": "markdown",
   "metadata": {},
   "source": [
    "Over 98.7%, not bad for a first try! :) However, remember that we are using the \"easy\" dataset. You can try with the harder datasets, the results won't be so amazing. You would have to try multiple models, select the best ones and fine-tune them using cross-validation, and so on.\n",
    "\n",
    "But you get the picture, so let's stop now, and just print out the precision/recall we get on the test set:"
   ]
  },
  {
   "cell_type": "code",
   "execution_count": 159,
   "metadata": {},
   "outputs": [
    {
     "name": "stdout",
     "output_type": "stream",
     "text": [
      "Precision: 95.88%\n",
      "Recall: 97.89%\n"
     ]
    },
    {
     "name": "stderr",
     "output_type": "stream",
     "text": [
      "/Users/ageron/.virtualenvs/tf2/lib/python3.6/site-packages/sklearn/linear_model/logistic.py:758: ConvergenceWarning: lbfgs failed to converge. Increase the number of iterations.\n",
      "  \"of iterations.\", ConvergenceWarning)\n"
     ]
    }
   ],
   "source": [
    "from sklearn.metrics import precision_score, recall_score\n",
    "\n",
    "X_test_transformed = preprocess_pipeline.transform(X_test)\n",
    "\n",
    "log_clf = LogisticRegression(solver=\"lbfgs\", random_state=42)\n",
    "log_clf.fit(X_train_transformed, y_train)\n",
    "\n",
    "y_pred = log_clf.predict(X_test_transformed)\n",
    "\n",
    "print(\"Precision: {:.2f}%\".format(100 * precision_score(y_test, y_pred)))\n",
    "print(\"Recall: {:.2f}%\".format(100 * recall_score(y_test, y_pred)))"
   ]
  },
  {
   "cell_type": "code",
   "execution_count": null,
   "metadata": {},
   "outputs": [],
   "source": []
  }
 ],
 "metadata": {
  "kernelspec": {
   "name": "python373jvsc74a57bd019b1e62c464c24b664bf3bd8fed4c8880dd0d658beae74ca546300b2824c99fa",
   "display_name": "Python 3.7.3 64-bit"
  },
  "language_info": {
   "codemirror_mode": {
    "name": "ipython",
    "version": 3
   },
   "file_extension": ".py",
   "mimetype": "text/x-python",
   "name": "python",
   "nbconvert_exporter": "python",
   "pygments_lexer": "ipython3",
   "version": "3.7.3-final"
  },
  "nav_menu": {},
  "toc": {
   "navigate_menu": true,
   "number_sections": true,
   "sideBar": true,
   "threshold": 6,
   "toc_cell": false,
   "toc_section_display": "block",
   "toc_window_display": false
  }
 },
 "nbformat": 4,
 "nbformat_minor": 4
}