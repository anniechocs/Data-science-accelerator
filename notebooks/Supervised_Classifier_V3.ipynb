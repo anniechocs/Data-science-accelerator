{
 "cells": [
  {
   "cell_type": "markdown",
   "metadata": {},
   "source": [
    "# Text Processing for Accelerator project\n",
    "\n",
    "A simplified pipeline processing text with FastText.\n",
    "\n",
    "* Load CPA data\n",
    "* Basic text cleaning\n",
    "* Vectorize (with FastText)\n",
    "* Split into test and training sets\n",
    "* Reduce dimension using UMAP supervised \n",
    "* Predict on test set\n",
    "* Use metrics for an unbalanced dataset\n",
    "* View the clustering in plotly scatterplots"
   ]
  },
  {
   "cell_type": "code",
   "execution_count": 1,
   "metadata": {},
   "outputs": [],
   "source": [
    "# this bit shouldn't be necessary if we pip install -e .   in the parent directory\n",
    "%load_ext autoreload\n",
    "%autoreload 2"
   ]
  },
  {
   "cell_type": "code",
   "execution_count": 2,
   "metadata": {},
   "outputs": [
    {
     "name": "stderr",
     "output_type": "stream",
     "text": [
      "[nltk_data] Downloading package stopwords to\n",
      "[nltk_data]     /home/jupyter/nltk_data...\n",
      "[nltk_data]   Package stopwords is already up-to-date!\n"
     ]
    }
   ],
   "source": [
    "import functools\n",
    "from pprint import pprint\n",
    "from time import time\n",
    "from IPython.display import display, HTML\n",
    "import logging\n",
    "import pandas as pd\n",
    "import numpy as np\n",
    "\n",
    "from sklearn.model_selection import train_test_split\n",
    "from sklearn.model_selection import cross_val_predict\n",
    "from sklearn.pipeline import Pipeline\n",
    "from sklearn.ensemble import RandomForestClassifier\n",
    "\n",
    "from sklearn import metrics\n",
    "import umap\n",
    "\n",
    "import matplotlib.pyplot as plt\n",
    "import seaborn as sns\n",
    "import plotly.express\n",
    "from imblearn.metrics import classification_report_imbalanced\n",
    "\n",
    "import text_processing\n",
    "\n",
    "pd.set_option('display.max_colwidth', None)"
   ]
  },
  {
   "cell_type": "markdown",
   "metadata": {},
   "source": [
    "## Load FastText Pretrained\n",
    "\n",
    "Note: This requires a fair bit of memory (peaks at about 17.5 GiB)\n",
    "\n",
    "Recommend shutting down other kernels first, once this has loaded memory usage drops again.\n",
    "\n",
    "This takes a few minutes to load in."
   ]
  },
  {
   "cell_type": "code",
   "execution_count": 3,
   "metadata": {},
   "outputs": [
    {
     "name": "stderr",
     "output_type": "stream",
     "text": [
      "2021-04-12 15:49:13,122 - text_processing - INFO - Loading FastText pretrained from ../../data/wiki.en.bin\n",
      "2021-04-12 15:53:14,035 - text_processing - INFO - Model loaded\n"
     ]
    }
   ],
   "source": [
    "wv = text_processing.fetch_fasstext_pretrained(filepath=\"../../data/wiki.en.bin\")"
   ]
  },
  {
   "cell_type": "markdown",
   "metadata": {},
   "source": [
    "#### Load in the CPA data"
   ]
  },
  {
   "cell_type": "code",
   "execution_count": 4,
   "metadata": {},
   "outputs": [
    {
     "name": "stderr",
     "output_type": "stream",
     "text": [
      "2021-04-12 15:53:14,198 - text_processing - INFO - cleanded CPA File imported\n"
     ]
    }
   ],
   "source": [
    "CPA = text_processing.fetch_files()"
   ]
  },
  {
   "cell_type": "code",
   "execution_count": 5,
   "metadata": {},
   "outputs": [
    {
     "name": "stderr",
     "output_type": "stream",
     "text": [
      "2021-04-12 15:58:35,644 - text_processing - INFO - Cleaning column: Descr \n"
     ]
    },
    {
     "data": {
      "text/html": [
       "<div>\n",
       "<style scoped>\n",
       "    .dataframe tbody tr th:only-of-type {\n",
       "        vertical-align: middle;\n",
       "    }\n",
       "\n",
       "    .dataframe tbody tr th {\n",
       "        vertical-align: top;\n",
       "    }\n",
       "\n",
       "    .dataframe thead th {\n",
       "        text-align: right;\n",
       "    }\n",
       "</style>\n",
       "<table border=\"1\" class=\"dataframe\">\n",
       "  <thead>\n",
       "    <tr style=\"text-align: right;\">\n",
       "      <th></th>\n",
       "      <th>Code</th>\n",
       "      <th>Descr_old</th>\n",
       "      <th>Category_0</th>\n",
       "      <th>Category_1</th>\n",
       "      <th>Category_2</th>\n",
       "      <th>Category_3</th>\n",
       "      <th>Descr_cleaned</th>\n",
       "    </tr>\n",
       "  </thead>\n",
       "  <tbody>\n",
       "    <tr>\n",
       "      <th>4689</th>\n",
       "      <td>69.10.1</td>\n",
       "      <td>Legal services</td>\n",
       "      <td>8</td>\n",
       "      <td>M</td>\n",
       "      <td>69</td>\n",
       "      <td>69.1</td>\n",
       "      <td>legal services</td>\n",
       "    </tr>\n",
       "    <tr>\n",
       "      <th>3030</th>\n",
       "      <td>30.30.9</td>\n",
       "      <td>Sub-contracted operations as part of manufacturing of air and spacecraft and related machinery</td>\n",
       "      <td>2</td>\n",
       "      <td>C</td>\n",
       "      <td>30</td>\n",
       "      <td>30.3</td>\n",
       "      <td>sub-contracted operations part manufacturing air spacecraft related machinery</td>\n",
       "    </tr>\n",
       "    <tr>\n",
       "      <th>1606</th>\n",
       "      <td>21.20.12</td>\n",
       "      <td>Medicaments, containing hormones, but not antibiotics</td>\n",
       "      <td>2</td>\n",
       "      <td>C</td>\n",
       "      <td>21</td>\n",
       "      <td>21.2</td>\n",
       "      <td>medicaments containing hormones</td>\n",
       "    </tr>\n",
       "    <tr>\n",
       "      <th>82</th>\n",
       "      <td>01.13.72</td>\n",
       "      <td>Sugar beet seeds</td>\n",
       "      <td>1</td>\n",
       "      <td>A</td>\n",
       "      <td>01</td>\n",
       "      <td>01.1</td>\n",
       "      <td>sugar beet seeds</td>\n",
       "    </tr>\n",
       "    <tr>\n",
       "      <th>3213</th>\n",
       "      <td>32.99.41</td>\n",
       "      <td>Cigarette lighters and other lighters; smoking pipes and cigar or cigarette holders and parts thereof</td>\n",
       "      <td>2</td>\n",
       "      <td>C</td>\n",
       "      <td>32</td>\n",
       "      <td>32.9</td>\n",
       "      <td>cigarette lighters lighters smoking pipes cigar cigarette holders parts thereof</td>\n",
       "    </tr>\n",
       "  </tbody>\n",
       "</table>\n",
       "</div>"
      ],
      "text/plain": [
       "          Code  \\\n",
       "4689   69.10.1   \n",
       "3030   30.30.9   \n",
       "1606  21.20.12   \n",
       "82    01.13.72   \n",
       "3213  32.99.41   \n",
       "\n",
       "                                                                                                  Descr_old  \\\n",
       "4689                                                                                         Legal services   \n",
       "3030         Sub-contracted operations as part of manufacturing of air and spacecraft and related machinery   \n",
       "1606                                                  Medicaments, containing hormones, but not antibiotics   \n",
       "82                                                                                         Sugar beet seeds   \n",
       "3213  Cigarette lighters and other lighters; smoking pipes and cigar or cigarette holders and parts thereof   \n",
       "\n",
       "     Category_0 Category_1 Category_2 Category_3  \\\n",
       "4689          8          M         69       69.1   \n",
       "3030          2          C         30       30.3   \n",
       "1606          2          C         21       21.2   \n",
       "82            1          A         01       01.1   \n",
       "3213          2          C         32       32.9   \n",
       "\n",
       "                                                                        Descr_cleaned  \n",
       "4689                                                                   legal services  \n",
       "3030    sub-contracted operations part manufacturing air spacecraft related machinery  \n",
       "1606                                                  medicaments containing hormones  \n",
       "82                                                                   sugar beet seeds  \n",
       "3213  cigarette lighters lighters smoking pipes cigar cigarette holders parts thereof  "
      ]
     },
     "execution_count": 5,
     "metadata": {},
     "output_type": "execute_result"
    }
   ],
   "source": [
    "CPA1 = CPA[CPA.Level.isin({5,6})][['Code','Descr_old','Descr','Category_0','Category_1','Category_2','Category_3']].copy()\n",
    "df = text_processing.clean_col(CPA1, \"Descr\")\n",
    "df.drop('Descr',axis=1,inplace=True)\n",
    "\n",
    "df.sample(5)"
   ]
  },
  {
   "cell_type": "markdown",
   "metadata": {},
   "source": [
    "### Vectorize CPA data using FastText"
   ]
  },
  {
   "cell_type": "code",
   "execution_count": 6,
   "metadata": {},
   "outputs": [],
   "source": [
    "text_to_vec = functools.partial(text_processing.vectorize_text, wv)\n",
    "df[\"Descr_cleaned_vectorized\"] = df.Descr_cleaned.apply(text_to_vec)"
   ]
  },
  {
   "cell_type": "code",
   "execution_count": 7,
   "metadata": {},
   "outputs": [
    {
     "name": "stderr",
     "output_type": "stream",
     "text": [
      "2021-04-12 15:58:39,172 - text_processing - INFO - Now applying umap to reduce dimension\n"
     ]
    },
    {
     "name": "stdout",
     "output_type": "stream",
     "text": [
      "UMAP(min_dist=0.0, n_components=10, n_neighbors=10, random_state=3052528580,\n",
      "     verbose=10)\n",
      "Construct fuzzy simplicial set\n",
      "Mon Apr 12 15:58:39 2021 Finding Nearest Neighbors\n",
      "Mon Apr 12 15:58:39 2021 Building RP forest with 8 trees\n",
      "Mon Apr 12 15:58:39 2021 NN descent for 12 iterations\n",
      "\t 0  /  12\n",
      "\t 1  /  12\n",
      "\t 2  /  12\n",
      "\t 3  /  12\n",
      "\t 4  /  12\n",
      "\t 5  /  12\n",
      "\t 6  /  12\n",
      "\t 7  /  12\n",
      "\t 8  /  12\n",
      "\t 9  /  12\n",
      "Mon Apr 12 15:58:46 2021 Finished Nearest Neighbor Search\n",
      "Mon Apr 12 15:58:48 2021 Construct embedding\n",
      "\tcompleted  0  /  500 epochs\n",
      "\tcompleted  50  /  500 epochs\n",
      "\tcompleted  100  /  500 epochs\n",
      "\tcompleted  150  /  500 epochs\n",
      "\tcompleted  200  /  500 epochs\n",
      "\tcompleted  250  /  500 epochs\n",
      "\tcompleted  300  /  500 epochs\n",
      "\tcompleted  350  /  500 epochs\n",
      "\tcompleted  400  /  500 epochs\n",
      "\tcompleted  450  /  500 epochs\n"
     ]
    },
    {
     "name": "stderr",
     "output_type": "stream",
     "text": [
      "2021-04-12 15:59:03,230 - text_processing - INFO - Now applying umap to reduce dimension\n"
     ]
    },
    {
     "name": "stdout",
     "output_type": "stream",
     "text": [
      "Mon Apr 12 15:59:03 2021 Finished embedding\n",
      "UMAP(min_dist=0.0, n_components=10, random_state=3052528580, verbose=10)\n",
      "Construct fuzzy simplicial set\n",
      "Mon Apr 12 15:59:03 2021 Finding Nearest Neighbors\n",
      "Mon Apr 12 15:59:03 2021 Building RP forest with 8 trees\n",
      "Mon Apr 12 15:59:03 2021 NN descent for 12 iterations\n",
      "\t 0  /  12\n",
      "\t 1  /  12\n",
      "\t 2  /  12\n",
      "\t 3  /  12\n",
      "\t 4  /  12\n",
      "\t 5  /  12\n",
      "\t 6  /  12\n",
      "\t 7  /  12\n",
      "\t 8  /  12\n",
      "\t 9  /  12\n",
      "Mon Apr 12 15:59:04 2021 Finished Nearest Neighbor Search\n"
     ]
    },
    {
     "name": "stderr",
     "output_type": "stream",
     "text": [
      "/opt/conda/lib/python3.7/site-packages/sklearn/utils/validation.py:72: FutureWarning: Beginning in version 0.22, arrays of bytes/strings will be converted to decimal numbers if dtype='numeric'. It is recommended that you convert the array to a float dtype before using it in scikit-learn, for example by using your_array = your_array.astype(np.float64).\n",
      "  return f(**kwargs)\n"
     ]
    },
    {
     "name": "stdout",
     "output_type": "stream",
     "text": [
      "Mon Apr 12 15:59:05 2021 Construct embedding\n",
      "\tcompleted  0  /  500 epochs\n",
      "\tcompleted  50  /  500 epochs\n",
      "\tcompleted  100  /  500 epochs\n",
      "\tcompleted  150  /  500 epochs\n",
      "\tcompleted  200  /  500 epochs\n",
      "\tcompleted  250  /  500 epochs\n",
      "\tcompleted  300  /  500 epochs\n",
      "\tcompleted  350  /  500 epochs\n",
      "\tcompleted  400  /  500 epochs\n",
      "\tcompleted  450  /  500 epochs\n",
      "Mon Apr 12 15:59:21 2021 Finished embedding\n"
     ]
    }
   ],
   "source": [
    "# reduce the dimension for the whole lot\n",
    "df['Reduced_dim'] = text_processing.reduce_dimensionality(df.Descr_cleaned_vectorized,10)\n",
    "# reduce the dimension for the whole lot using supervised learning\n",
    "df['Reduced_dim_supervised'] = text_processing.reduce_dimensionality_supervised(df.Descr_cleaned_vectorized,df.Category_2)"
   ]
  },
  {
   "cell_type": "markdown",
   "metadata": {},
   "source": [
    "### Split the CPA data into a training set and a test set"
   ]
  },
  {
   "cell_type": "code",
   "execution_count": 8,
   "metadata": {},
   "outputs": [],
   "source": [
    "# Split dataset into training set and test set\n",
    "train_set, test_set = train_test_split(df.copy(), test_size=0.2, random_state=42)"
   ]
  },
  {
   "cell_type": "markdown",
   "metadata": {},
   "source": [
    "# Use the Random Forest Classifier\n",
    "\n",
    "https://www.datacamp.com/community/tutorials/random-forests-classifier-python\n",
    "\n",
    "We have already  used UMAP supervised classification to reduce the dimension on the training set.   \n",
    "We then split our data into training and test datasets.   \n",
    "We now use the random forest classifier on the training set, and see how it works on the test set.\n"
   ]
  },
  {
   "cell_type": "code",
   "execution_count": 9,
   "metadata": {},
   "outputs": [
    {
     "name": "stdout",
     "output_type": "stream",
     "text": [
      "Accuracy for Category_3 classification: 0.8087431693989071\n",
      "Accuracy for Category_2 classification: 0.9748633879781421\n",
      "Accuracy for Category_1 classification: 0.9846994535519126\n",
      "Accuracy for Category_0 classification: 0.9912568306010929\n"
     ]
    }
   ],
   "source": [
    "#Create Gaussian Classifier\n",
    "for this_cat in ['Category_3','Category_2','Category_1','Category_0']:\n",
    "    #Train the model using the training sets \n",
    "    X_train = train_set.Reduced_dim_supervised\n",
    "    X_test = test_set.Reduced_dim_supervised\n",
    "\n",
    "    y_train = train_set[this_cat]\n",
    "    y_test = test_set[this_cat]\n",
    "\n",
    "    vecs = np.array(list(X_train.values))\n",
    "    target = np.array(list(y_train.values))\n",
    "\n",
    "    clf = RandomForestClassifier(n_estimators=100\n",
    "                              ).fit(vecs, target)\n",
    "\n",
    "    y_pred=clf.predict(np.array(list(X_test.values)))\n",
    "# Model Accuracy, how often is the classifier correct?\n",
    "    print(f\"Accuracy for {this_cat} classification:\",metrics.accuracy_score(y_test, y_pred))"
   ]
  },
  {
   "cell_type": "code",
   "execution_count": 35,
   "metadata": {},
   "outputs": [
    {
     "data": {
      "text/html": [
       "<p>Accuracy for Category_2 classification: 0.7869</p>"
      ],
      "text/plain": [
       "<IPython.core.display.HTML object>"
      ]
     },
     "metadata": {},
     "output_type": "display_data"
    },
    {
     "data": {
      "text/html": [
       "<p>Accuracy for Category_1 classification: 0.9191</p>"
      ],
      "text/plain": [
       "<IPython.core.display.HTML object>"
      ]
     },
     "metadata": {},
     "output_type": "display_data"
    },
    {
     "data": {
      "text/html": [
       "<p>Accuracy for Category_0 classification: 0.9257</p>"
      ],
      "text/plain": [
       "<IPython.core.display.HTML object>"
      ]
     },
     "metadata": {},
     "output_type": "display_data"
    }
   ],
   "source": [
    "#Create Gaussian Classifier\n",
    "# for this_cat in ['Category_3','Category_2','Category_1','Category_0']:\n",
    "for this_cat in ['Category_2','Category_1','Category_0']:\n",
    "    #Train the model using the training sets \n",
    "    X_train = train_set.Reduced_dim\n",
    "    X_test = test_set.Reduced_dim\n",
    "\n",
    "    y_train = train_set[this_cat]\n",
    "    y_test = test_set[this_cat]\n",
    "\n",
    "    vecs = np.array(list(X_train.values))\n",
    "    target = np.array(list(y_train.values))\n",
    "\n",
    "    clf = RandomForestClassifier(n_estimators=100\n",
    "                              ).fit(vecs, target)\n",
    "\n",
    "    y_pred=clf.predict(np.array(list(X_test.values)))\n",
    "# Model Accuracy, how often is the classifier correct?\n",
    "    rs = round(metrics.accuracy_score(y_test, y_pred),4)\n",
    "    tx = f\"<p>Accuracy for {this_cat} classification: {rs}</p>\"\n",
    "    display(HTML(tx))\n"
   ]
  },
  {
   "cell_type": "code",
   "execution_count": 16,
   "metadata": {},
   "outputs": [
    {
     "name": "stderr",
     "output_type": "stream",
     "text": [
      "2021-04-12 16:04:22,550 - text_processing - INFO - CN new Files imported and cleaned\n"
     ]
    },
    {
     "data": {
      "text/html": [
       "<div>\n",
       "<style scoped>\n",
       "    .dataframe tbody tr th:only-of-type {\n",
       "        vertical-align: middle;\n",
       "    }\n",
       "\n",
       "    .dataframe tbody tr th {\n",
       "        vertical-align: top;\n",
       "    }\n",
       "\n",
       "    .dataframe thead th {\n",
       "        text-align: right;\n",
       "    }\n",
       "</style>\n",
       "<table border=\"1\" class=\"dataframe\">\n",
       "  <thead>\n",
       "    <tr style=\"text-align: right;\">\n",
       "      <th></th>\n",
       "      <th>CN_Code</th>\n",
       "      <th>CPA_Code</th>\n",
       "      <th>CN_Section</th>\n",
       "      <th>CN_Level</th>\n",
       "      <th>Excl_removed</th>\n",
       "      <th>CN_Description_old</th>\n",
       "      <th>CN_Description_cleaned</th>\n",
       "      <th>Category_2</th>\n",
       "      <th>Category_1</th>\n",
       "      <th>Category_0</th>\n",
       "    </tr>\n",
       "  </thead>\n",
       "  <tbody>\n",
       "    <tr>\n",
       "      <th>7983</th>\n",
       "      <td>50072061</td>\n",
       "      <td>13.20.11</td>\n",
       "      <td>5007 20 61</td>\n",
       "      <td>10</td>\n",
       "      <td>(excl. crêpes, and pongee, habutai, honan, shantung, corah and similar far eastern fabrics wholly of silk)</td>\n",
       "      <td>Densely-woven fabrics made from yarn of different colours, containing &gt;= 85% silk or silk waste by weight, of a width &gt; 57 cm to 75 cm</td>\n",
       "      <td>Densely-woven fabrics made from yarn of different colours, containing &gt;= 85% silk or silk waste by weight, of a width &gt; 57 cm to 75 cm</td>\n",
       "      <td>13</td>\n",
       "      <td>C</td>\n",
       "      <td>2</td>\n",
       "    </tr>\n",
       "    <tr>\n",
       "      <th>11582</th>\n",
       "      <td>73152000</td>\n",
       "      <td>25.93.17</td>\n",
       "      <td>7315 20 00</td>\n",
       "      <td>10</td>\n",
       "      <td></td>\n",
       "      <td>Skid chain for motor vehicles, of iron or steel</td>\n",
       "      <td>Skid chain for motor vehicles, of iron or steel</td>\n",
       "      <td>25</td>\n",
       "      <td>C</td>\n",
       "      <td>2</td>\n",
       "    </tr>\n",
       "    <tr>\n",
       "      <th>13004</th>\n",
       "      <td>84283900</td>\n",
       "      <td>NaN</td>\n",
       "      <td>8428 39</td>\n",
       "      <td>7</td>\n",
       "      <td>(excl. those for underground use and bucket, belt or pneumatic types)</td>\n",
       "      <td>Continuous-action elevators and conveyors, for goods or materials</td>\n",
       "      <td>Continuous-action elevators and conveyors, for goods or materials</td>\n",
       "      <td>NaN</td>\n",
       "      <td>NaN</td>\n",
       "      <td>nan</td>\n",
       "    </tr>\n",
       "  </tbody>\n",
       "</table>\n",
       "</div>"
      ],
      "text/plain": [
       "        CN_Code  CPA_Code  CN_Section  CN_Level  \\\n",
       "7983   50072061  13.20.11  5007 20 61        10   \n",
       "11582  73152000  25.93.17  7315 20 00        10   \n",
       "13004  84283900       NaN     8428 39         7   \n",
       "\n",
       "                                                                                                     Excl_removed  \\\n",
       "7983   (excl. crêpes, and pongee, habutai, honan, shantung, corah and similar far eastern fabrics wholly of silk)   \n",
       "11582                                                                                                               \n",
       "13004                                       (excl. those for underground use and bucket, belt or pneumatic types)   \n",
       "\n",
       "                                                                                                                            CN_Description_old  \\\n",
       "7983   Densely-woven fabrics made from yarn of different colours, containing >= 85% silk or silk waste by weight, of a width > 57 cm to 75 cm    \n",
       "11582                                                                                          Skid chain for motor vehicles, of iron or steel   \n",
       "13004                                                                       Continuous-action elevators and conveyors, for goods or materials    \n",
       "\n",
       "                                                                                                                        CN_Description_cleaned  \\\n",
       "7983   Densely-woven fabrics made from yarn of different colours, containing >= 85% silk or silk waste by weight, of a width > 57 cm to 75 cm    \n",
       "11582                                                                                          Skid chain for motor vehicles, of iron or steel   \n",
       "13004                                                                       Continuous-action elevators and conveyors, for goods or materials    \n",
       "\n",
       "      Category_2 Category_1 Category_0  \n",
       "7983          13          C          2  \n",
       "11582         25          C          2  \n",
       "13004        NaN        NaN        nan  "
      ]
     },
     "execution_count": 16,
     "metadata": {},
     "output_type": "execute_result"
    }
   ],
   "source": [
    "CN = text_processing.fetch_CN_mapper()\n",
    "Cat1_Cat2_map = CPA[CPA.Level==2][['Code','Parent']].rename(columns={'Code':'Category_2','Parent':'Category_1'})\n",
    "CN=CN.merge(Cat1_Cat2_map, on='Category_2', how='left')\n",
    "\n",
    "\n",
    "# we now set up a higher level for A10 indstry levels (10 categories)\n",
    "update_dict0 = {'A':'1','F':'3','J':'5', 'K':'6', 'L':'7','M':'8','N':'8'}\n",
    "update_dict = {**update_dict0,**dict.fromkeys(['B','C','D','E'],'2'),**dict.fromkeys(['G','H','I'],'4'),\n",
    "               **dict.fromkeys(['O','P','Q'],'9'), **dict.fromkeys(['R','S','T','U'],'10')}\n",
    "\n",
    "\n",
    "CN['Category_0'] = CN.Category_1.replace(update_dict)\n",
    "CN['Category_0']= CN['Category_0'].astype(str)\n",
    "CN.sample(3)"
   ]
  },
  {
   "cell_type": "code",
   "execution_count": 17,
   "metadata": {},
   "outputs": [],
   "source": [
    "# Vectorize the CN description using FastText\n",
    "CN[\"Descr_cleaned_vectorized\"] = CN.CN_Description_cleaned.apply(\n",
    "    text_to_vec\n",
    ")"
   ]
  },
  {
   "cell_type": "code",
   "execution_count": 18,
   "metadata": {},
   "outputs": [
    {
     "name": "stderr",
     "output_type": "stream",
     "text": [
      "2021-04-12 16:04:26,378 - text_processing - INFO - Now applying umap to reduce dimension\n"
     ]
    },
    {
     "name": "stdout",
     "output_type": "stream",
     "text": [
      "UMAP(min_dist=0.0, n_components=10, n_neighbors=10, random_state=3052528580,\n",
      "     verbose=10)\n",
      "Construct fuzzy simplicial set\n",
      "Mon Apr 12 16:04:26 2021 Finding Nearest Neighbors\n",
      "Mon Apr 12 16:04:26 2021 Building RP forest with 11 trees\n",
      "Mon Apr 12 16:04:27 2021 NN descent for 14 iterations\n",
      "\t 0  /  14\n",
      "\t 1  /  14\n",
      "\t 2  /  14\n",
      "\t 3  /  14\n",
      "\t 4  /  14\n",
      "\t 5  /  14\n",
      "\t 6  /  14\n",
      "\t 7  /  14\n",
      "\t 8  /  14\n",
      "\t 9  /  14\n",
      "\t 10  /  14\n",
      "Mon Apr 12 16:04:29 2021 Finished Nearest Neighbor Search\n",
      "Mon Apr 12 16:04:29 2021 Construct embedding\n",
      "\tcompleted  0  /  200 epochs\n",
      "\tcompleted  20  /  200 epochs\n",
      "\tcompleted  40  /  200 epochs\n",
      "\tcompleted  60  /  200 epochs\n",
      "\tcompleted  80  /  200 epochs\n",
      "\tcompleted  100  /  200 epochs\n",
      "\tcompleted  120  /  200 epochs\n",
      "\tcompleted  140  /  200 epochs\n",
      "\tcompleted  160  /  200 epochs\n",
      "\tcompleted  180  /  200 epochs\n",
      "Mon Apr 12 16:04:52 2021 Finished embedding\n"
     ]
    }
   ],
   "source": [
    "CN['Reduced_dim'] = text_processing.reduce_dimensionality(CN.Descr_cleaned_vectorized, 10)\n",
    "#CN_test_df = CN[(CN.Category_2.notnull()) & (CN.CN_Level==4)]\n",
    "#CN_test_df['Reduced_dim'] = text_processing.reduce_dimensionality(CN_test_df.Descr_cleaned_vectorized)\n",
    "\n",
    "#CN_test_df['Reduced_dim_supervised'] = text_processing.train_test_umap(df.Descr_cleaned_vectorized,df.Category_2, CN_test_df.Descr_cleaned_vectorized)"
   ]
  },
  {
   "cell_type": "code",
   "execution_count": 19,
   "metadata": {},
   "outputs": [
    {
     "name": "stdout",
     "output_type": "stream",
     "text": [
      "Accuracy: 0.9036386714618151\n"
     ]
    },
    {
     "data": {
      "text/html": [
       "<div>\n",
       "<style scoped>\n",
       "    .dataframe tbody tr th:only-of-type {\n",
       "        vertical-align: middle;\n",
       "    }\n",
       "\n",
       "    .dataframe tbody tr th {\n",
       "        vertical-align: top;\n",
       "    }\n",
       "\n",
       "    .dataframe thead th {\n",
       "        text-align: right;\n",
       "    }\n",
       "</style>\n",
       "<table border=\"1\" class=\"dataframe\">\n",
       "  <thead>\n",
       "    <tr style=\"text-align: right;\">\n",
       "      <th></th>\n",
       "      <th>CN_Code</th>\n",
       "      <th>CPA_Code</th>\n",
       "      <th>CN_Description_cleaned</th>\n",
       "      <th>Category_1</th>\n",
       "      <th>Predicted</th>\n",
       "    </tr>\n",
       "  </thead>\n",
       "  <tbody>\n",
       "    <tr>\n",
       "      <th>5475</th>\n",
       "      <td>29394100</td>\n",
       "      <td>21.10.53</td>\n",
       "      <td>Ephedrine and its salts</td>\n",
       "      <td>C</td>\n",
       "      <td>C</td>\n",
       "    </tr>\n",
       "    <tr>\n",
       "      <th>1437</th>\n",
       "      <td>6042090</td>\n",
       "      <td>02.30.30</td>\n",
       "      <td>Foliage, branches and other parts of plants grasses, fresh, suitable for bouquets or ornamental purposes</td>\n",
       "      <td>A</td>\n",
       "      <td>C</td>\n",
       "    </tr>\n",
       "    <tr>\n",
       "      <th>15991</th>\n",
       "      <td>95061180</td>\n",
       "      <td>32.30.11</td>\n",
       "      <td>Snow-skis</td>\n",
       "      <td>C</td>\n",
       "      <td>C</td>\n",
       "    </tr>\n",
       "    <tr>\n",
       "      <th>1090</th>\n",
       "      <td>3079100</td>\n",
       "      <td>03.00.42</td>\n",
       "      <td>Live, fresh or chilled molluscs, even in shell ; fresh or chilled flours, meals and pellets of molluscs, fit for human consumption</td>\n",
       "      <td>A</td>\n",
       "      <td>C</td>\n",
       "    </tr>\n",
       "    <tr>\n",
       "      <th>5611</th>\n",
       "      <td>30061010</td>\n",
       "      <td>21.20.24</td>\n",
       "      <td>Sterile surgical catgut</td>\n",
       "      <td>C</td>\n",
       "      <td>C</td>\n",
       "    </tr>\n",
       "  </tbody>\n",
       "</table>\n",
       "</div>"
      ],
      "text/plain": [
       "        CN_Code  CPA_Code  \\\n",
       "5475   29394100  21.10.53   \n",
       "1437    6042090  02.30.30   \n",
       "15991  95061180  32.30.11   \n",
       "1090    3079100  03.00.42   \n",
       "5611   30061010  21.20.24   \n",
       "\n",
       "                                                                                                                   CN_Description_cleaned  \\\n",
       "5475                                                                                                              Ephedrine and its salts   \n",
       "1437                            Foliage, branches and other parts of plants grasses, fresh, suitable for bouquets or ornamental purposes    \n",
       "15991                                                                                                                          Snow-skis    \n",
       "1090   Live, fresh or chilled molluscs, even in shell ; fresh or chilled flours, meals and pellets of molluscs, fit for human consumption   \n",
       "5611                                                                                                              Sterile surgical catgut   \n",
       "\n",
       "      Category_1 Predicted  \n",
       "5475           C         C  \n",
       "1437           A         C  \n",
       "15991          C         C  \n",
       "1090           A         C  \n",
       "5611           C         C  "
      ]
     },
     "metadata": {},
     "output_type": "display_data"
    },
    {
     "name": "stdout",
     "output_type": "stream",
     "text": [
      "                   pre       rec       spe        f1       geo       iba       sup\n",
      "\n",
      "          A       0.00      0.00      1.00      0.00      0.00      0.00       594\n",
      "          B       0.00      0.00      1.00      0.00      0.00      0.00       106\n",
      "          C       0.91      0.99      0.01      0.95      0.08      0.01      8605\n",
      "          D       0.00      0.00      1.00      0.00      0.00      0.00         2\n",
      "          E       0.00      0.00      1.00      0.00      0.00      0.00       102\n",
      "          J       0.07      0.16      0.99      0.10      0.39      0.14        32\n",
      "          M       0.00      0.00      1.00      0.00      0.00      0.00         5\n",
      "          R       0.00      0.00      1.00      0.00      0.00      0.00         7\n",
      "          S       0.00      0.00      1.00      0.00      0.00      0.00         1\n",
      "\n",
      "avg / total       0.83      0.90      0.10      0.86      0.08      0.01      9454\n",
      "\n"
     ]
    },
    {
     "name": "stderr",
     "output_type": "stream",
     "text": [
      "/opt/conda/lib/python3.7/site-packages/sklearn/metrics/_classification.py:1221: UndefinedMetricWarning: Precision and F-score are ill-defined and being set to 0.0 in labels with no predicted samples. Use `zero_division` parameter to control this behavior.\n",
      "  _warn_prf(average, modifier, msg_start, len(result))\n"
     ]
    }
   ],
   "source": [
    "#Create a Gaussian Classifier\n",
    "clf=RandomForestClassifier(n_estimators=100)\n",
    "\n",
    "this_cat = 'Category_1'\n",
    "\n",
    "#Train the model using the training sets \n",
    "X_train = np.array(list(df.Reduced_dim.values))\n",
    "y_train = np.array(list(df[this_cat].values))\n",
    "\n",
    "clf.fit(X_train,y_train)\n",
    "\n",
    "# we stick to the lowest level\n",
    "CN_test_df= CN[(CN.Category_2.notnull()) & (CN.CN_Level==10)]\n",
    "CN_test = np.array(list(CN_test_df[\"Reduced_dim\"].values))\n",
    "y_CN_pred=clf.predict(CN_test)\n",
    "\n",
    "y_CN_test = np.array(list(CN_test_df[this_cat]))\n",
    "# Model Accuracy, how often is the classifier correct?\n",
    "print(\"Accuracy:\",metrics.accuracy_score(y_CN_test, y_CN_pred))\n",
    "#CN_test_df['Predicted'] = pd.Series(data=y_CN_pred.tolist(), index=CN_test_df.index)\n",
    "\n",
    "#Results = CN_test_df.drop(['Descr_cleaned_vectorized','CN_Description_old','Excl_removed','Reduced_dim'],axis=1).copy()\n",
    "Results = CN_test_df[['CN_Code','CPA_Code','CN_Description_cleaned','Category_1']].copy()\n",
    "Results['Predicted'] = pd.Series(data=y_CN_pred.tolist(), index=CN_test_df.index)\n",
    "display(Results.sample(5))\n",
    "print(classification_report_imbalanced(y_CN_test, y_CN_pred))"
   ]
  },
  {
   "cell_type": "code",
   "execution_count": 20,
   "metadata": {},
   "outputs": [
    {
     "data": {
      "text/plain": [
       "<function imblearn.metrics._classification.classification_report_imbalanced(y_true, y_pred, *, labels=None, target_names=None, sample_weight=None, digits=2, alpha=0.1)>"
      ]
     },
     "execution_count": 20,
     "metadata": {},
     "output_type": "execute_result"
    }
   ],
   "source": [
    "classification_report_imbalanced"
   ]
  },
  {
   "cell_type": "code",
   "execution_count": 21,
   "metadata": {},
   "outputs": [
    {
     "name": "stdout",
     "output_type": "stream",
     "text": [
      "Test 3 Accuracy: 0.08800507721599322\n"
     ]
    },
    {
     "data": {
      "text/html": [
       "<div>\n",
       "<style scoped>\n",
       "    .dataframe tbody tr th:only-of-type {\n",
       "        vertical-align: middle;\n",
       "    }\n",
       "\n",
       "    .dataframe tbody tr th {\n",
       "        vertical-align: top;\n",
       "    }\n",
       "\n",
       "    .dataframe thead th {\n",
       "        text-align: right;\n",
       "    }\n",
       "</style>\n",
       "<table border=\"1\" class=\"dataframe\">\n",
       "  <thead>\n",
       "    <tr style=\"text-align: right;\">\n",
       "      <th></th>\n",
       "      <th>CN_Code</th>\n",
       "      <th>CPA_Code</th>\n",
       "      <th>CN_Section</th>\n",
       "      <th>CN_Level</th>\n",
       "      <th>Excl_removed</th>\n",
       "      <th>CN_Description_old</th>\n",
       "      <th>CN_Description_cleaned</th>\n",
       "      <th>Category_2</th>\n",
       "      <th>Category_1</th>\n",
       "      <th>Category_0</th>\n",
       "      <th>Predicted</th>\n",
       "    </tr>\n",
       "  </thead>\n",
       "  <tbody>\n",
       "    <tr>\n",
       "      <th>11383</th>\n",
       "      <td>73042990</td>\n",
       "      <td>24.20.12</td>\n",
       "      <td>7304 29 90</td>\n",
       "      <td>10</td>\n",
       "      <td>(excl. products of cast iron)</td>\n",
       "      <td>Casing and tubing of a kind used for drilling for oil or gas, seamless, of iron or steel, of an external diameter &gt; 406,4 mm</td>\n",
       "      <td>Casing and tubing of a kind used for drilling for oil or gas, seamless, of iron or steel, of an external diameter &gt; 406,4 mm</td>\n",
       "      <td>24</td>\n",
       "      <td>C</td>\n",
       "      <td>2</td>\n",
       "      <td>20</td>\n",
       "    </tr>\n",
       "    <tr>\n",
       "      <th>5041</th>\n",
       "      <td>29181200</td>\n",
       "      <td>20.14.34</td>\n",
       "      <td>2918 12 00</td>\n",
       "      <td>10</td>\n",
       "      <td></td>\n",
       "      <td>Tartaric acid</td>\n",
       "      <td>Tartaric acid</td>\n",
       "      <td>20</td>\n",
       "      <td>C</td>\n",
       "      <td>2</td>\n",
       "      <td>24</td>\n",
       "    </tr>\n",
       "    <tr>\n",
       "      <th>14568</th>\n",
       "      <td>85393980</td>\n",
       "      <td>27.40.15</td>\n",
       "      <td>8539 39 80</td>\n",
       "      <td>10</td>\n",
       "      <td>(excl. hot-cathode fluorescent lamps, mercury or sodium vapour lamps, metal halide lamps, ultraviolet lamps, and cold-cathode fluorescent lamps \"CCFLs\" for backlighting of flat panel displays)</td>\n",
       "      <td>Discharge lamps</td>\n",
       "      <td>Discharge lamps</td>\n",
       "      <td>27</td>\n",
       "      <td>C</td>\n",
       "      <td>2</td>\n",
       "      <td>20</td>\n",
       "    </tr>\n",
       "    <tr>\n",
       "      <th>3155</th>\n",
       "      <td>20094919</td>\n",
       "      <td>10.32.14</td>\n",
       "      <td>2009 49 19</td>\n",
       "      <td>10</td>\n",
       "      <td>(excl. containing spirit) not containing added sugar or other sweetening matter</td>\n",
       "      <td>Pineapple juice, unfermented, Brix value &gt; 67 at 20°C, value of &gt; 30 € per 100 kg, whether or not containing added sugar or other sweetening matter</td>\n",
       "      <td>Pineapple juice, unfermented, Brix value &gt; 67 at 20°C, value of &gt; 30 € per 100 kg, whether or</td>\n",
       "      <td>10</td>\n",
       "      <td>C</td>\n",
       "      <td>2</td>\n",
       "      <td>01</td>\n",
       "    </tr>\n",
       "    <tr>\n",
       "      <th>8350</th>\n",
       "      <td>52114910</td>\n",
       "      <td>13.20.20</td>\n",
       "      <td>5211 49 10</td>\n",
       "      <td>10</td>\n",
       "      <td></td>\n",
       "      <td>Woven jacquard fabrics containing predominantly, but &lt; 85% cotton by weight, mixed mainly or solely with man-made fibres and weighing &gt; 200 g/m², made of yarn of different colours</td>\n",
       "      <td>Woven jacquard fabrics containing predominantly, but &lt; 85% cotton by weight, mixed mainly or solely with man-made fibres and weighing &gt; 200 g/m², made of yarn of different colours</td>\n",
       "      <td>13</td>\n",
       "      <td>C</td>\n",
       "      <td>2</td>\n",
       "      <td>20</td>\n",
       "    </tr>\n",
       "  </tbody>\n",
       "</table>\n",
       "</div>"
      ],
      "text/plain": [
       "        CN_Code  CPA_Code  CN_Section  CN_Level  \\\n",
       "11383  73042990  24.20.12  7304 29 90        10   \n",
       "5041   29181200  20.14.34  2918 12 00        10   \n",
       "14568  85393980  27.40.15  8539 39 80        10   \n",
       "3155   20094919  10.32.14  2009 49 19        10   \n",
       "8350   52114910  13.20.20  5211 49 10        10   \n",
       "\n",
       "                                                                                                                                                                                           Excl_removed  \\\n",
       "11383                                                                                                                                                                     (excl. products of cast iron)   \n",
       "5041                                                                                                                                                                                                      \n",
       "14568  (excl. hot-cathode fluorescent lamps, mercury or sodium vapour lamps, metal halide lamps, ultraviolet lamps, and cold-cathode fluorescent lamps \"CCFLs\" for backlighting of flat panel displays)   \n",
       "3155                                                                                                                   (excl. containing spirit) not containing added sugar or other sweetening matter    \n",
       "8350                                                                                                                                                                                                      \n",
       "\n",
       "                                                                                                                                                                        CN_Description_old  \\\n",
       "11383                                                        Casing and tubing of a kind used for drilling for oil or gas, seamless, of iron or steel, of an external diameter > 406,4 mm    \n",
       "5041                                                                                                                                                                         Tartaric acid   \n",
       "14568                                                                                                                                                                     Discharge lamps    \n",
       "3155                                  Pineapple juice, unfermented, Brix value > 67 at 20°C, value of > 30 € per 100 kg, whether or not containing added sugar or other sweetening matter    \n",
       "8350   Woven jacquard fabrics containing predominantly, but < 85% cotton by weight, mixed mainly or solely with man-made fibres and weighing > 200 g/m², made of yarn of different colours   \n",
       "\n",
       "                                                                                                                                                                    CN_Description_cleaned  \\\n",
       "11383                                                        Casing and tubing of a kind used for drilling for oil or gas, seamless, of iron or steel, of an external diameter > 406,4 mm    \n",
       "5041                                                                                                                                                                         Tartaric acid   \n",
       "14568                                                                                                                                                                     Discharge lamps    \n",
       "3155                                                                                         Pineapple juice, unfermented, Brix value > 67 at 20°C, value of > 30 € per 100 kg, whether or   \n",
       "8350   Woven jacquard fabrics containing predominantly, but < 85% cotton by weight, mixed mainly or solely with man-made fibres and weighing > 200 g/m², made of yarn of different colours   \n",
       "\n",
       "      Category_2 Category_1 Category_0 Predicted  \n",
       "11383         24          C          2        20  \n",
       "5041          20          C          2        24  \n",
       "14568         27          C          2        20  \n",
       "3155          10          C          2        01  \n",
       "8350          13          C          2        20  "
      ]
     },
     "metadata": {},
     "output_type": "display_data"
    },
    {
     "name": "stdout",
     "output_type": "stream",
     "text": [
      "                   pre       rec       spe        f1       geo       iba       sup\n",
      "\n",
      "         01       0.06      0.29      0.79      0.10      0.47      0.21       417\n",
      "         02       0.00      0.00      1.00      0.00      0.00      0.00        38\n",
      "         03       0.00      0.00      1.00      0.00      0.00      0.00       139\n",
      "         05       0.00      0.00      1.00      0.00      0.00      0.00         5\n",
      "         06       0.00      0.00      1.00      0.00      0.00      0.00         5\n",
      "         07       0.00      0.00      0.98      0.00      0.00      0.00        25\n",
      "         08       0.00      0.00      1.00      0.00      0.00      0.00        71\n",
      "         10       0.29      0.07      0.96      0.11      0.26      0.06      1748\n",
      "         11       0.00      0.00      1.00      0.00      0.00      0.00       216\n",
      "         12       0.00      0.00      1.00      0.00      0.00      0.00        16\n",
      "         13       0.00      0.00      1.00      0.00      0.00      0.00       731\n",
      "         14       0.00      0.00      1.00      0.00      0.00      0.00       358\n",
      "         15       0.00      0.00      1.00      0.00      0.00      0.00       172\n",
      "         16       0.00      0.00      1.00      0.00      0.00      0.00       208\n",
      "         17       0.00      0.00      1.00      0.00      0.00      0.00       185\n",
      "         18       0.00      0.00      1.00      0.00      0.00      0.00         1\n",
      "         19       0.00      0.00      1.00      0.00      0.00      0.00        79\n",
      "         20       0.10      0.35      0.54      0.16      0.43      0.19      1208\n",
      "         21       0.00      0.00      1.00      0.00      0.00      0.00       145\n",
      "         22       0.00      0.00      1.00      0.00      0.00      0.00       187\n",
      "         23       0.00      0.00      1.00      0.00      0.00      0.00       262\n",
      "         24       0.02      0.04      0.88      0.03      0.18      0.03       625\n",
      "         25       0.00      0.00      1.00      0.00      0.00      0.00       363\n",
      "         26       0.00      0.00      1.00      0.00      0.00      0.00       371\n",
      "         27       0.14      0.43      0.91      0.22      0.63      0.37       338\n",
      "         28       0.00      0.00      1.00      0.00      0.00      0.00       811\n",
      "         29       0.00      0.00      1.00      0.00      0.00      0.00       143\n",
      "         30       0.00      0.00      1.00      0.00      0.00      0.00       137\n",
      "         31       0.00      0.00      1.00      0.00      0.00      0.00        41\n",
      "         32       0.00      0.00      0.96      0.00      0.00      0.00       260\n",
      "         35       0.00      0.00      1.00      0.00      0.00      0.00         2\n",
      "         37       0.00      0.00      1.00      0.00      0.00      0.00         1\n",
      "         38       0.00      0.00      1.00      0.00      0.00      0.00       101\n",
      "         58       0.00      0.00      1.00      0.00      0.00      0.00        20\n",
      "         59       0.00      0.00      1.00      0.00      0.00      0.00        12\n",
      "         71       0.00      0.00      1.00      0.00      0.00      0.00         1\n",
      "         74       0.00      0.00      1.00      0.00      0.00      0.00         4\n",
      "         85       0.00      0.00      1.00      0.00      0.00      0.00         0\n",
      "         90       0.00      0.00      1.00      0.00      0.00      0.00         4\n",
      "         91       0.00      0.00      1.00      0.00      0.00      0.00         3\n",
      "         96       0.00      0.00      1.00      0.00      0.00      0.00         1\n",
      "\n",
      "avg / total       0.08      0.09      0.91      0.05      0.16      0.06      9454\n",
      "\n"
     ]
    },
    {
     "name": "stderr",
     "output_type": "stream",
     "text": [
      "/opt/conda/lib/python3.7/site-packages/sklearn/metrics/_classification.py:1221: UndefinedMetricWarning: Precision and F-score are ill-defined and being set to 0.0 in labels with no predicted samples. Use `zero_division` parameter to control this behavior.\n",
      "  _warn_prf(average, modifier, msg_start, len(result))\n",
      "/opt/conda/lib/python3.7/site-packages/sklearn/metrics/_classification.py:1221: UndefinedMetricWarning: Recall and F-score are ill-defined and being set to 0.0 in labels with no true samples. Use `zero_division` parameter to control this behavior.\n",
      "  _warn_prf(average, modifier, msg_start, len(result))\n",
      "/opt/conda/lib/python3.7/site-packages/sklearn/metrics/_classification.py:1221: UndefinedMetricWarning: Sensitivity is ill-defined and being set to 0.0 in labels with no true samples. Use `zero_division` parameter to control this behavior.\n",
      "  _warn_prf(average, modifier, msg_start, len(result))\n"
     ]
    }
   ],
   "source": [
    "this_cat = 'Category_2'\n",
    "\n",
    "#Train the model using the training sets \n",
    "X_train = np.array(list(df.Reduced_dim.values))\n",
    "y_train = np.array(list(df[this_cat].values))\n",
    "\n",
    "clf.fit(X_train,y_train)\n",
    "\n",
    "# we stick to the lowest level\n",
    "CN_test_df= CN[(CN.Category_2.notnull()) & (CN.CN_Level==10)]\n",
    "CN_test = np.array(list(CN_test_df[\"Reduced_dim\"].values))\n",
    "y_CN_pred=clf.predict(CN_test)\n",
    "\n",
    "y_CN_test = np.array(list(CN_test_df[this_cat]))\n",
    "# Model Accuracy, how often is the classifier correct?\n",
    "print(\"Test 3 Accuracy:\",metrics.accuracy_score(y_CN_test, y_CN_pred))\n",
    "\n",
    "Results = CN_test_df.drop(['Descr_cleaned_vectorized','Reduced_dim'],axis=1).copy()\n",
    "Results['Predicted'] = pd.Series(data=y_CN_pred.tolist(), index=CN_test_df.index)\n",
    "display(Results.sample(5))\n",
    "print(classification_report_imbalanced(y_CN_test, y_CN_pred))"
   ]
  },
  {
   "cell_type": "markdown",
   "metadata": {},
   "source": [
    "## Try again with Binary Classifier"
   ]
  },
  {
   "cell_type": "code",
   "execution_count": 22,
   "metadata": {},
   "outputs": [],
   "source": [
    "from sklearn.model_selection import train_test_split\n",
    "from sklearn.model_selection import cross_val_predict\n",
    "from sklearn.metrics import precision_recall_fscore_support\n",
    "from sklearn.metrics import roc_curve\n",
    "from sklearn.metrics import roc_auc_score"
   ]
  },
  {
   "cell_type": "code",
   "execution_count": 23,
   "metadata": {},
   "outputs": [
    {
     "data": {
      "text/plain": [
       "CN_Code        int64\n",
       "CPA_Code      object\n",
       "Category_0    object\n",
       "dtype: object"
      ]
     },
     "execution_count": 23,
     "metadata": {},
     "output_type": "execute_result"
    }
   ],
   "source": [
    "CN_test_df[['CN_Code', 'CPA_Code', 'Category_0']].dtypes"
   ]
  },
  {
   "cell_type": "code",
   "execution_count": 24,
   "metadata": {},
   "outputs": [
    {
     "data": {
      "text/plain": [
       "array(['01', '01', '01', ..., '91', '91', '91'], dtype=object)"
      ]
     },
     "execution_count": 24,
     "metadata": {},
     "output_type": "execute_result"
    }
   ],
   "source": [
    "np.array(CN_test_df[this_cat])"
   ]
  },
  {
   "cell_type": "code",
   "execution_count": 25,
   "metadata": {},
   "outputs": [
    {
     "data": {
      "text/plain": [
       "array(['01', '01', '01', ..., '91', '91', '91'], dtype='<U2')"
      ]
     },
     "execution_count": 25,
     "metadata": {},
     "output_type": "execute_result"
    }
   ],
   "source": [
    "y_CN_test"
   ]
  },
  {
   "cell_type": "code",
   "execution_count": 26,
   "metadata": {},
   "outputs": [
    {
     "name": "stdout",
     "output_type": "stream",
     "text": [
      "(0.890993265993266, 0.2401588201928531, 0.37833973728889286, None)\n"
     ]
    },
    {
     "data": {
      "text/html": [
       "<div>\n",
       "<style scoped>\n",
       "    .dataframe tbody tr th:only-of-type {\n",
       "        vertical-align: middle;\n",
       "    }\n",
       "\n",
       "    .dataframe tbody tr th {\n",
       "        vertical-align: top;\n",
       "    }\n",
       "\n",
       "    .dataframe thead th {\n",
       "        text-align: right;\n",
       "    }\n",
       "</style>\n",
       "<table border=\"1\" class=\"dataframe\">\n",
       "  <thead>\n",
       "    <tr style=\"text-align: right;\">\n",
       "      <th></th>\n",
       "      <th>CN_Code</th>\n",
       "      <th>CPA_Code</th>\n",
       "      <th>CN_Section</th>\n",
       "      <th>CN_Level</th>\n",
       "      <th>Excl_removed</th>\n",
       "      <th>CN_Description_old</th>\n",
       "      <th>CN_Description_cleaned</th>\n",
       "      <th>Category_2</th>\n",
       "      <th>Category_1</th>\n",
       "      <th>Category_0</th>\n",
       "      <th>Reduced_dim</th>\n",
       "      <th>Expected</th>\n",
       "      <th>Predicted</th>\n",
       "    </tr>\n",
       "  </thead>\n",
       "  <tbody>\n",
       "    <tr>\n",
       "      <th>3578</th>\n",
       "      <td>23061000</td>\n",
       "      <td>10.41.41</td>\n",
       "      <td>2306 10 00</td>\n",
       "      <td>10</td>\n",
       "      <td>, whether or not ground or in the form of pellets,</td>\n",
       "      <td>Oilcake and other solid residues, whether or not ground or in the form of pellets, resulting from the extraction of cotton seeds</td>\n",
       "      <td>Oilcake and other solid residues resulting from the extraction of cotton seeds</td>\n",
       "      <td>10</td>\n",
       "      <td>C</td>\n",
       "      <td>2</td>\n",
       "      <td>[9.620353698730469, 2.551506280899048, 7.416372776031494, 6.456171989440918, 5.780008316040039, 6.509273052215576, 6.948757648468018, 5.201693058013916, 2.9731948375701904, 2.9721081256866455]</td>\n",
       "      <td>True</td>\n",
       "      <td>False</td>\n",
       "    </tr>\n",
       "  </tbody>\n",
       "</table>\n",
       "</div>"
      ],
      "text/plain": [
       "       CN_Code  CPA_Code  CN_Section  CN_Level  \\\n",
       "3578  23061000  10.41.41  2306 10 00        10   \n",
       "\n",
       "                                            Excl_removed  \\\n",
       "3578  , whether or not ground or in the form of pellets,   \n",
       "\n",
       "                                                                                                                    CN_Description_old  \\\n",
       "3578  Oilcake and other solid residues, whether or not ground or in the form of pellets, resulting from the extraction of cotton seeds   \n",
       "\n",
       "                                                              CN_Description_cleaned  \\\n",
       "3578  Oilcake and other solid residues resulting from the extraction of cotton seeds   \n",
       "\n",
       "     Category_2 Category_1 Category_0  \\\n",
       "3578         10          C          2   \n",
       "\n",
       "                                                                                                                                                                                           Reduced_dim  \\\n",
       "3578  [9.620353698730469, 2.551506280899048, 7.416372776031494, 6.456171989440918, 5.780008316040039, 6.509273052215576, 6.948757648468018, 5.201693058013916, 2.9731948375701904, 2.9721081256866455]   \n",
       "\n",
       "      Expected  Predicted  \n",
       "3578      True      False  "
      ]
     },
     "metadata": {},
     "output_type": "display_data"
    }
   ],
   "source": [
    "this_cat = 'Category_0'\n",
    "\n",
    "#Train the model using the training sets \n",
    "X_train = np.array(list(df.Reduced_dim_supervised.values))\n",
    "y_train_BE = (df[this_cat]=='2')\n",
    "\n",
    "\n",
    "bin_forest_clf = RandomForestClassifier(random_state=42)\n",
    "bin_forest_clf.fit(X_train,y_train_BE)\n",
    "\n",
    "CN_test_df= CN[(CN.Category_2.notnull()) & (CN.CN_Level==10)]\n",
    "CN_test = np.array(list(CN_test_df[\"Reduced_dim\"].values))\n",
    "y_CN_pred=bin_forest_clf.predict(CN_test)\n",
    "\n",
    "Results = CN_test_df.drop(['Descr_cleaned_vectorized'],axis=1).copy()\n",
    "Results['Expected'] = (Results[this_cat]=='2')\n",
    "Results['Predicted'] = pd.Series(data=y_CN_pred.tolist(), index=CN_test_df.index)\n",
    "print(precision_recall_fscore_support(Results.Expected,  np.array(Results.Predicted), pos_label=True, average='binary'))\n",
    "display(Results.sample())\n"
   ]
  },
  {
   "cell_type": "code",
   "execution_count": null,
   "metadata": {},
   "outputs": [],
   "source": []
  },
  {
   "cell_type": "code",
   "execution_count": 27,
   "metadata": {},
   "outputs": [
    {
     "data": {
      "text/plain": [
       "348     False\n",
       "349     False\n",
       "352     False\n",
       "353     False\n",
       "357     False\n",
       "        ...  \n",
       "3456    False\n",
       "3457    False\n",
       "3458    False\n",
       "3459    False\n",
       "3460    False\n",
       "Name: Category_0, Length: 2702, dtype: bool"
      ]
     },
     "execution_count": 27,
     "metadata": {},
     "output_type": "execute_result"
    }
   ],
   "source": [
    "df_tmp = df[df.Category_0=='2'].drop('Descr_cleaned_vectorized', axis=1).copy()\n",
    "X_train = np.array(list(df_tmp.Reduced_dim_supervised.values))\n",
    "y_train_C = (df_tmp[this_cat] =='C')\n",
    "y_train_C"
   ]
  },
  {
   "cell_type": "code",
   "execution_count": 28,
   "metadata": {},
   "outputs": [
    {
     "name": "stdout",
     "output_type": "stream",
     "text": [
      "(0.9105297867663222, 0.9626961069145845, 0.935886572897249, None)\n"
     ]
    }
   ],
   "source": [
    "\n",
    "this_cat = 'Category_1'\n",
    "\n",
    "#Train the model using the training sets \n",
    "df_tmp = df[df.Category_0=='2'].copy()\n",
    "X_train = np.array(list(df_tmp.Reduced_dim_supervised.values))\n",
    "y_train_C = (df_tmp[this_cat] =='C')\n",
    "\n",
    "\n",
    "bin_forest_clf = RandomForestClassifier(random_state=42)\n",
    "bin_forest_clf.fit(X_train,y_train_C)\n",
    "\n",
    "CN_test_df2= Results[Results.Predicted==True]\n",
    "\n",
    "CN_test2 = np.array(list(CN_test_df2[\"Reduced_dim\"].values))\n",
    "y_CN_pred=bin_forest_clf.predict(CN_test)\n",
    "\n",
    "Results2 = CN_test_df.drop(['Descr_cleaned_vectorized'],axis=1).copy()\n",
    "Results2['Expected'] = (Results2[this_cat]=='C')\n",
    "Results2['Predicted'] = pd.Series(data=y_CN_pred.tolist(), index=CN_test_df.index)\n",
    "print(precision_recall_fscore_support(Results2.Expected,  np.array(Results2.Predicted), pos_label=True, average='binary'))\n",
    "#Results2"
   ]
  },
  {
   "cell_type": "markdown",
   "metadata": {},
   "source": [
    "## Finally, do multi class random forest for \"C\""
   ]
  },
  {
   "cell_type": "code",
   "execution_count": 30,
   "metadata": {},
   "outputs": [],
   "source": [
    "this_cat = 'Category_2'\n",
    "\n",
    "#Train the model using the training sets \n",
    "df_tmp = df[df.Category_1=='C'].copy()\n",
    "X_train = np.array(list(df_tmp.Reduced_dim_supervised.values))\n",
    "y_train = (df_tmp[this_cat])\n",
    "\n",
    "clf.fit(X_train,y_train)\n",
    "\n",
    "# we stick to the lowest level\n",
    "CN_test_df3= Results2[Results2.Predicted==True]\n",
    "CN_test3 = np.array(list(CN_test_df3[\"Reduced_dim\"].values))\n",
    "\n",
    "y_CN_test3 = (CN_test_df3.Category_2)\n",
    "\n",
    "y_CN_pred3=clf.predict(CN_test3)\n",
    "\n",
    "\n",
    "Prediction = CN_test_df3.drop(['Reduced_dim'],axis=1).copy()\n",
    "Prediction['Predicted'] = pd.Series(data=y_CN_pred3.tolist(), index=CN_test_df3.index)\n",
    "\n",
    "#print(classification_report_imbalanced(y_CN_test3, y_CN_pred3))"
   ]
  },
  {
   "cell_type": "code",
   "execution_count": 51,
   "metadata": {},
   "outputs": [
    {
     "data": {
      "text/html": [
       "<div>\n",
       "<style scoped>\n",
       "    .dataframe tbody tr th:only-of-type {\n",
       "        vertical-align: middle;\n",
       "    }\n",
       "\n",
       "    .dataframe tbody tr th {\n",
       "        vertical-align: top;\n",
       "    }\n",
       "\n",
       "    .dataframe thead th {\n",
       "        text-align: right;\n",
       "    }\n",
       "</style>\n",
       "<table border=\"1\" class=\"dataframe\">\n",
       "  <thead>\n",
       "    <tr style=\"text-align: right;\">\n",
       "      <th></th>\n",
       "      <th>CN_Code</th>\n",
       "      <th>CPA_Code</th>\n",
       "      <th>CN_Section</th>\n",
       "      <th>CN_Level</th>\n",
       "      <th>Excl_removed</th>\n",
       "      <th>CN_Description_old</th>\n",
       "      <th>CN_Description_cleaned</th>\n",
       "      <th>Category_2</th>\n",
       "      <th>Category_1</th>\n",
       "      <th>Category_0</th>\n",
       "      <th>Expected</th>\n",
       "      <th>Predicted</th>\n",
       "    </tr>\n",
       "  </thead>\n",
       "  <tbody>\n",
       "    <tr>\n",
       "      <th>9487</th>\n",
       "      <td>61091000</td>\n",
       "      <td>14.14.30</td>\n",
       "      <td>6109 10 00</td>\n",
       "      <td>10</td>\n",
       "      <td></td>\n",
       "      <td>T-shirts, singlets and other vests of cotton, knitted or crocheted</td>\n",
       "      <td>T-shirts, singlets and other vests of cotton, knitted or crocheted</td>\n",
       "      <td>14</td>\n",
       "      <td>C</td>\n",
       "      <td>2</td>\n",
       "      <td>True</td>\n",
       "      <td>27</td>\n",
       "    </tr>\n",
       "    <tr>\n",
       "      <th>2041</th>\n",
       "      <td>11010015</td>\n",
       "      <td>10.61.21</td>\n",
       "      <td>1101 00 15</td>\n",
       "      <td>10</td>\n",
       "      <td></td>\n",
       "      <td>Flour of common wheat and spelt</td>\n",
       "      <td>Flour of common wheat and spelt</td>\n",
       "      <td>10</td>\n",
       "      <td>C</td>\n",
       "      <td>2</td>\n",
       "      <td>True</td>\n",
       "      <td>26</td>\n",
       "    </tr>\n",
       "    <tr>\n",
       "      <th>2855</th>\n",
       "      <td>19054090</td>\n",
       "      <td>10.72.11</td>\n",
       "      <td>1905 40 90</td>\n",
       "      <td>10</td>\n",
       "      <td>(excl. rusks)</td>\n",
       "      <td>Toasted bread and similar toasted products</td>\n",
       "      <td>Toasted bread and similar toasted products</td>\n",
       "      <td>10</td>\n",
       "      <td>C</td>\n",
       "      <td>2</td>\n",
       "      <td>True</td>\n",
       "      <td>26</td>\n",
       "    </tr>\n",
       "    <tr>\n",
       "      <th>9989</th>\n",
       "      <td>63039290</td>\n",
       "      <td>13.92.15</td>\n",
       "      <td>6303 92 90</td>\n",
       "      <td>10</td>\n",
       "      <td>(excl. nonwovens, knitted or crocheted, awnings and sunblinds)</td>\n",
       "      <td>Curtains, incl. drapes, and interior blinds, curtain or bed valances of synthetic fibres</td>\n",
       "      <td>Curtains, incl. drapes, and interior blinds, curtain or bed valances of synthetic fibres</td>\n",
       "      <td>13</td>\n",
       "      <td>C</td>\n",
       "      <td>2</td>\n",
       "      <td>True</td>\n",
       "      <td>27</td>\n",
       "    </tr>\n",
       "    <tr>\n",
       "      <th>6579</th>\n",
       "      <td>39152000</td>\n",
       "      <td>38.11.55</td>\n",
       "      <td>3915 20 00</td>\n",
       "      <td>10</td>\n",
       "      <td></td>\n",
       "      <td>Waste, parings and scrap, of polymers of styrene</td>\n",
       "      <td>Waste, parings and scrap, of polymers of styrene</td>\n",
       "      <td>38</td>\n",
       "      <td>E</td>\n",
       "      <td>2</td>\n",
       "      <td>False</td>\n",
       "      <td>26</td>\n",
       "    </tr>\n",
       "  </tbody>\n",
       "</table>\n",
       "</div>"
      ],
      "text/plain": [
       "       CN_Code  CPA_Code  CN_Section  CN_Level  \\\n",
       "9487  61091000  14.14.30  6109 10 00        10   \n",
       "2041  11010015  10.61.21  1101 00 15        10   \n",
       "2855  19054090  10.72.11  1905 40 90        10   \n",
       "9989  63039290  13.92.15  6303 92 90        10   \n",
       "6579  39152000  38.11.55  3915 20 00        10   \n",
       "\n",
       "                                                        Excl_removed  \\\n",
       "9487                                                                   \n",
       "2041                                                                   \n",
       "2855                                                   (excl. rusks)   \n",
       "9989  (excl. nonwovens, knitted or crocheted, awnings and sunblinds)   \n",
       "6579                                                                   \n",
       "\n",
       "                                                                             CN_Description_old  \\\n",
       "9487                         T-shirts, singlets and other vests of cotton, knitted or crocheted   \n",
       "2041                                                            Flour of common wheat and spelt   \n",
       "2855                                                Toasted bread and similar toasted products    \n",
       "9989  Curtains, incl. drapes, and interior blinds, curtain or bed valances of synthetic fibres    \n",
       "6579                                           Waste, parings and scrap, of polymers of styrene   \n",
       "\n",
       "                                                                         CN_Description_cleaned  \\\n",
       "9487                         T-shirts, singlets and other vests of cotton, knitted or crocheted   \n",
       "2041                                                            Flour of common wheat and spelt   \n",
       "2855                                                Toasted bread and similar toasted products    \n",
       "9989  Curtains, incl. drapes, and interior blinds, curtain or bed valances of synthetic fibres    \n",
       "6579                                           Waste, parings and scrap, of polymers of styrene   \n",
       "\n",
       "     Category_2 Category_1 Category_0  Expected Predicted  \n",
       "9487         14          C          2      True        27  \n",
       "2041         10          C          2      True        26  \n",
       "2855         10          C          2      True        26  \n",
       "9989         13          C          2      True        27  \n",
       "6579         38          E          2     False        26  "
      ]
     },
     "metadata": {},
     "output_type": "display_data"
    }
   ],
   "source": [
    "display(Prediction.sample(5))"
   ]
  },
  {
   "cell_type": "markdown",
   "metadata": {},
   "source": [
    "## Try the binary clasifier for each C value"
   ]
  },
  {
   "cell_type": "code",
   "execution_count": 52,
   "metadata": {},
   "outputs": [],
   "source": [
    "df_tmp = df[df.Category_1=='C'].copy()\n"
   ]
  },
  {
   "cell_type": "code",
   "execution_count": 53,
   "metadata": {},
   "outputs": [
    {
     "name": "stderr",
     "output_type": "stream",
     "text": [
      "/opt/conda/lib/python3.7/site-packages/sklearn/metrics/_classification.py:1221: UndefinedMetricWarning: Precision and F-score are ill-defined and being set to 0.0 due to no predicted samples. Use `zero_division` parameter to control this behavior.\n",
      "  _warn_prf(average, modifier, msg_start, len(result))\n"
     ]
    },
    {
     "name": "stdout",
     "output_type": "stream",
     "text": [
      "Results for  10 \n",
      " (0.0, 0.0, 0.0, None)\n",
      "number predicted correctly : 0  number missed : 1650\n"
     ]
    },
    {
     "name": "stderr",
     "output_type": "stream",
     "text": [
      "/opt/conda/lib/python3.7/site-packages/sklearn/metrics/_classification.py:1221: UndefinedMetricWarning: Precision and F-score are ill-defined and being set to 0.0 due to no predicted samples. Use `zero_division` parameter to control this behavior.\n",
      "  _warn_prf(average, modifier, msg_start, len(result))\n"
     ]
    },
    {
     "name": "stdout",
     "output_type": "stream",
     "text": [
      "Results for  11 \n",
      " (0.0, 0.0, 0.0, None)\n",
      "number predicted correctly : 0  number missed : 169\n"
     ]
    },
    {
     "name": "stderr",
     "output_type": "stream",
     "text": [
      "/opt/conda/lib/python3.7/site-packages/sklearn/metrics/_classification.py:1221: UndefinedMetricWarning: Precision and F-score are ill-defined and being set to 0.0 due to no predicted samples. Use `zero_division` parameter to control this behavior.\n",
      "  _warn_prf(average, modifier, msg_start, len(result))\n"
     ]
    },
    {
     "name": "stdout",
     "output_type": "stream",
     "text": [
      "Results for  12 \n",
      " (0.0, 0.0, 0.0, None)\n",
      "number predicted correctly : 0  number missed : 11\n",
      "Results for  13 \n",
      " (0.1540983606557377, 0.06545961002785515, 0.09188660801564029, None)\n",
      "number predicted correctly : 47  number missed : 671\n"
     ]
    },
    {
     "name": "stderr",
     "output_type": "stream",
     "text": [
      "/opt/conda/lib/python3.7/site-packages/sklearn/metrics/_classification.py:1221: UndefinedMetricWarning: Precision and F-score are ill-defined and being set to 0.0 due to no predicted samples. Use `zero_division` parameter to control this behavior.\n",
      "  _warn_prf(average, modifier, msg_start, len(result))\n"
     ]
    },
    {
     "name": "stdout",
     "output_type": "stream",
     "text": [
      "Results for  14 \n",
      " (0.0, 0.0, 0.0, None)\n",
      "number predicted correctly : 0  number missed : 358\n"
     ]
    },
    {
     "name": "stderr",
     "output_type": "stream",
     "text": [
      "/opt/conda/lib/python3.7/site-packages/sklearn/metrics/_classification.py:1221: UndefinedMetricWarning: Precision and F-score are ill-defined and being set to 0.0 due to no predicted samples. Use `zero_division` parameter to control this behavior.\n",
      "  _warn_prf(average, modifier, msg_start, len(result))\n"
     ]
    },
    {
     "name": "stdout",
     "output_type": "stream",
     "text": [
      "Results for  15 \n",
      " (0.0, 0.0, 0.0, None)\n",
      "number predicted correctly : 0  number missed : 172\n"
     ]
    },
    {
     "name": "stderr",
     "output_type": "stream",
     "text": [
      "/opt/conda/lib/python3.7/site-packages/sklearn/metrics/_classification.py:1221: UndefinedMetricWarning: Precision and F-score are ill-defined and being set to 0.0 due to no predicted samples. Use `zero_division` parameter to control this behavior.\n",
      "  _warn_prf(average, modifier, msg_start, len(result))\n"
     ]
    },
    {
     "name": "stdout",
     "output_type": "stream",
     "text": [
      "Results for  16 \n",
      " (0.0, 0.0, 0.0, None)\n",
      "number predicted correctly : 0  number missed : 202\n",
      "Results for  17 \n",
      " (0.0, 0.0, 0.0, None)\n",
      "number predicted correctly : 0  number missed : 185\n",
      "Results for  18 \n",
      " (0.0, 0.0, 0.0, None)\n",
      "number predicted correctly : 0  number missed : 1\n",
      "Results for  19 \n",
      " (0.0, 0.0, 0.0, None)\n",
      "number predicted correctly : 0  number missed : 72\n",
      "Results for  20 \n",
      " (0.2768777614138439, 0.3197278911564626, 0.2967640094711918, None)\n",
      "number predicted correctly : 376  number missed : 800\n"
     ]
    },
    {
     "name": "stderr",
     "output_type": "stream",
     "text": [
      "/opt/conda/lib/python3.7/site-packages/sklearn/metrics/_classification.py:1221: UndefinedMetricWarning: Precision and F-score are ill-defined and being set to 0.0 due to no predicted samples. Use `zero_division` parameter to control this behavior.\n",
      "  _warn_prf(average, modifier, msg_start, len(result))\n"
     ]
    },
    {
     "name": "stdout",
     "output_type": "stream",
     "text": [
      "Results for  21 \n",
      " (0.0, 0.0, 0.0, None)\n",
      "number predicted correctly : 0  number missed : 143\n",
      "Results for  22 \n",
      " (0.0, 0.0, 0.0, None)\n",
      "number predicted correctly : 0  number missed : 159\n"
     ]
    },
    {
     "name": "stderr",
     "output_type": "stream",
     "text": [
      "/opt/conda/lib/python3.7/site-packages/sklearn/metrics/_classification.py:1221: UndefinedMetricWarning: Precision and F-score are ill-defined and being set to 0.0 due to no predicted samples. Use `zero_division` parameter to control this behavior.\n",
      "  _warn_prf(average, modifier, msg_start, len(result))\n"
     ]
    },
    {
     "name": "stdout",
     "output_type": "stream",
     "text": [
      "Results for  23 \n",
      " (0.0, 0.0, 0.0, None)\n",
      "number predicted correctly : 0  number missed : 261\n"
     ]
    },
    {
     "name": "stderr",
     "output_type": "stream",
     "text": [
      "/opt/conda/lib/python3.7/site-packages/sklearn/metrics/_classification.py:1221: UndefinedMetricWarning: Precision and F-score are ill-defined and being set to 0.0 due to no predicted samples. Use `zero_division` parameter to control this behavior.\n",
      "  _warn_prf(average, modifier, msg_start, len(result))\n"
     ]
    },
    {
     "name": "stdout",
     "output_type": "stream",
     "text": [
      "Results for  24 \n",
      " (0.0, 0.0, 0.0, None)\n",
      "number predicted correctly : 0  number missed : 560\n"
     ]
    },
    {
     "name": "stderr",
     "output_type": "stream",
     "text": [
      "/opt/conda/lib/python3.7/site-packages/sklearn/metrics/_classification.py:1221: UndefinedMetricWarning: Precision and F-score are ill-defined and being set to 0.0 due to no predicted samples. Use `zero_division` parameter to control this behavior.\n",
      "  _warn_prf(average, modifier, msg_start, len(result))\n"
     ]
    },
    {
     "name": "stdout",
     "output_type": "stream",
     "text": [
      "Results for  25 \n",
      " (0.0, 0.0, 0.0, None)\n",
      "number predicted correctly : 0  number missed : 363\n",
      "Results for  26 \n",
      " (0.0, 0.0, 0.0, None)\n",
      "number predicted correctly : 0  number missed : 366\n",
      "Results for  27 \n",
      " (0.0, 0.0, 0.0, None)\n",
      "number predicted correctly : 0  number missed : 335\n"
     ]
    },
    {
     "name": "stderr",
     "output_type": "stream",
     "text": [
      "/opt/conda/lib/python3.7/site-packages/sklearn/metrics/_classification.py:1221: UndefinedMetricWarning: Precision and F-score are ill-defined and being set to 0.0 due to no predicted samples. Use `zero_division` parameter to control this behavior.\n",
      "  _warn_prf(average, modifier, msg_start, len(result))\n"
     ]
    },
    {
     "name": "stdout",
     "output_type": "stream",
     "text": [
      "Results for  28 \n",
      " (0.0, 0.0, 0.0, None)\n",
      "number predicted correctly : 0  number missed : 809\n",
      "Results for  29 \n",
      " (0.0, 0.0, 0.0, None)\n",
      "number predicted correctly : 0  number missed : 141\n"
     ]
    },
    {
     "name": "stderr",
     "output_type": "stream",
     "text": [
      "/opt/conda/lib/python3.7/site-packages/sklearn/metrics/_classification.py:1221: UndefinedMetricWarning: Precision and F-score are ill-defined and being set to 0.0 due to no predicted samples. Use `zero_division` parameter to control this behavior.\n",
      "  _warn_prf(average, modifier, msg_start, len(result))\n"
     ]
    },
    {
     "name": "stdout",
     "output_type": "stream",
     "text": [
      "Results for  30 \n",
      " (0.0, 0.0, 0.0, None)\n",
      "number predicted correctly : 0  number missed : 132\n",
      "Results for  31 \n",
      " (0.0, 0.0, 0.0, None)\n",
      "number predicted correctly : 0  number missed : 41\n"
     ]
    },
    {
     "name": "stderr",
     "output_type": "stream",
     "text": [
      "/opt/conda/lib/python3.7/site-packages/sklearn/metrics/_classification.py:1221: UndefinedMetricWarning: Precision and F-score are ill-defined and being set to 0.0 due to no predicted samples. Use `zero_division` parameter to control this behavior.\n",
      "  _warn_prf(average, modifier, msg_start, len(result))\n"
     ]
    },
    {
     "name": "stdout",
     "output_type": "stream",
     "text": [
      "Results for  32 \n",
      " (0.0, 0.0, 0.0, None)\n",
      "number predicted correctly : 0  number missed : 260\n",
      "Results for  33 \n",
      " (0.0, 0.0, 0.0, None)\n",
      "number predicted correctly : 0  number missed : 0\n"
     ]
    },
    {
     "name": "stderr",
     "output_type": "stream",
     "text": [
      "/opt/conda/lib/python3.7/site-packages/sklearn/metrics/_classification.py:1221: UndefinedMetricWarning: Precision and F-score are ill-defined and being set to 0.0 due to no predicted samples. Use `zero_division` parameter to control this behavior.\n",
      "  _warn_prf(average, modifier, msg_start, len(result))\n",
      "/opt/conda/lib/python3.7/site-packages/sklearn/metrics/_classification.py:1221: UndefinedMetricWarning: Recall and F-score are ill-defined and being set to 0.0 due to no true samples. Use `zero_division` parameter to control this behavior.\n",
      "  _warn_prf(average, modifier, msg_start, len(result))\n"
     ]
    },
    {
     "data": {
      "text/html": [
       "<div>\n",
       "<style scoped>\n",
       "    .dataframe tbody tr th:only-of-type {\n",
       "        vertical-align: middle;\n",
       "    }\n",
       "\n",
       "    .dataframe tbody tr th {\n",
       "        vertical-align: top;\n",
       "    }\n",
       "\n",
       "    .dataframe thead th {\n",
       "        text-align: right;\n",
       "    }\n",
       "</style>\n",
       "<table border=\"1\" class=\"dataframe\">\n",
       "  <thead>\n",
       "    <tr style=\"text-align: right;\">\n",
       "      <th></th>\n",
       "      <th>CN_Code</th>\n",
       "      <th>CPA_Code</th>\n",
       "      <th>CN_Section</th>\n",
       "      <th>CN_Level</th>\n",
       "      <th>Excl_removed</th>\n",
       "      <th>CN_Description_old</th>\n",
       "      <th>CN_Description_cleaned</th>\n",
       "      <th>Category_2</th>\n",
       "      <th>Category_1</th>\n",
       "      <th>Category_0</th>\n",
       "      <th>Expected</th>\n",
       "      <th>Predicted</th>\n",
       "      <th>prediction</th>\n",
       "      <th>Predict</th>\n",
       "      <th>temp</th>\n",
       "    </tr>\n",
       "  </thead>\n",
       "  <tbody>\n",
       "    <tr>\n",
       "      <th>15016</th>\n",
       "      <td>87112098</td>\n",
       "      <td>30.91.12</td>\n",
       "      <td>8711 20 98</td>\n",
       "      <td>10</td>\n",
       "      <td>(excl. scooters)</td>\n",
       "      <td>Motorcycles, incl. mopeds, with reciprocating internal combustion piston engine of a cylinder capacity &gt; 125 cm³ to 250 cm³</td>\n",
       "      <td>Motorcycles, incl. mopeds, with reciprocating internal combustion piston engine of a cylinder capacity &gt; 125 cm³ to 250 cm³</td>\n",
       "      <td>30</td>\n",
       "      <td>C</td>\n",
       "      <td>2</td>\n",
       "      <td>True</td>\n",
       "      <td>True</td>\n",
       "      <td>19</td>\n",
       "      <td>False</td>\n",
       "      <td>33</td>\n",
       "    </tr>\n",
       "    <tr>\n",
       "      <th>11354</th>\n",
       "      <td>73021040</td>\n",
       "      <td>24.10.75</td>\n",
       "      <td>7302 10 40</td>\n",
       "      <td>10</td>\n",
       "      <td></td>\n",
       "      <td>Grooved rails of iron or steel, for railway or tramway track, new</td>\n",
       "      <td>Grooved rails of iron or steel, for railway or tramway track, new</td>\n",
       "      <td>24</td>\n",
       "      <td>C</td>\n",
       "      <td>2</td>\n",
       "      <td>True</td>\n",
       "      <td>True</td>\n",
       "      <td>19</td>\n",
       "      <td>False</td>\n",
       "      <td>33</td>\n",
       "    </tr>\n",
       "    <tr>\n",
       "      <th>6308</th>\n",
       "      <td>38245010</td>\n",
       "      <td>23.63.10</td>\n",
       "      <td>3824 50 10</td>\n",
       "      <td>10</td>\n",
       "      <td></td>\n",
       "      <td>Concrete ready to pour</td>\n",
       "      <td>Concrete ready to pour</td>\n",
       "      <td>23</td>\n",
       "      <td>C</td>\n",
       "      <td>2</td>\n",
       "      <td>True</td>\n",
       "      <td>True</td>\n",
       "      <td>0</td>\n",
       "      <td>False</td>\n",
       "      <td>33</td>\n",
       "    </tr>\n",
       "    <tr>\n",
       "      <th>3213</th>\n",
       "      <td>20099011</td>\n",
       "      <td>10.32.17</td>\n",
       "      <td>2009 90 11</td>\n",
       "      <td>10</td>\n",
       "      <td>(excl. containing spirit) not containing added sugar or other sweetening matter</td>\n",
       "      <td>Mixtures of apple and pear juice, unfermented, Brix value &gt; 67 at 20°C, value of &lt;= 22 € per 100 kg, whether or not containing added sugar or other sweetening matter</td>\n",
       "      <td>Mixtures of apple and pear juice, unfermented, Brix value &gt; 67 at 20°C, value of &lt;= 22 € per 100 kg, whether or</td>\n",
       "      <td>10</td>\n",
       "      <td>C</td>\n",
       "      <td>2</td>\n",
       "      <td>True</td>\n",
       "      <td>True</td>\n",
       "      <td>0</td>\n",
       "      <td>False</td>\n",
       "      <td>33</td>\n",
       "    </tr>\n",
       "    <tr>\n",
       "      <th>7605</th>\n",
       "      <td>47069100</td>\n",
       "      <td>17.11.14</td>\n",
       "      <td>4706 91 00</td>\n",
       "      <td>10</td>\n",
       "      <td>(excl. that of bamboo, wood, cotton linters and fibres derived from recovered [waste and scrap] paper or paperboard)</td>\n",
       "      <td>Mechanical pulp of fibrous cellulosic material</td>\n",
       "      <td>Mechanical pulp of fibrous cellulosic material</td>\n",
       "      <td>17</td>\n",
       "      <td>C</td>\n",
       "      <td>2</td>\n",
       "      <td>True</td>\n",
       "      <td>True</td>\n",
       "      <td>26</td>\n",
       "      <td>False</td>\n",
       "      <td>33</td>\n",
       "    </tr>\n",
       "    <tr>\n",
       "      <th>3677</th>\n",
       "      <td>25010010</td>\n",
       "      <td>08.93.10</td>\n",
       "      <td>2501 00 10</td>\n",
       "      <td>10</td>\n",
       "      <td></td>\n",
       "      <td>Sea water and salt liquors</td>\n",
       "      <td>Sea water and salt liquors</td>\n",
       "      <td>08</td>\n",
       "      <td>B</td>\n",
       "      <td>2</td>\n",
       "      <td>False</td>\n",
       "      <td>True</td>\n",
       "      <td>0</td>\n",
       "      <td>False</td>\n",
       "      <td>33</td>\n",
       "    </tr>\n",
       "    <tr>\n",
       "      <th>1548</th>\n",
       "      <td>7108010</td>\n",
       "      <td>10.39.11</td>\n",
       "      <td>0710 80 10</td>\n",
       "      <td>10</td>\n",
       "      <td></td>\n",
       "      <td>Olives, uncooked or cooked by steaming or by boiling in water, frozen</td>\n",
       "      <td>Olives, uncooked or cooked by steaming or by boiling in water, frozen</td>\n",
       "      <td>10</td>\n",
       "      <td>C</td>\n",
       "      <td>2</td>\n",
       "      <td>True</td>\n",
       "      <td>True</td>\n",
       "      <td>0</td>\n",
       "      <td>False</td>\n",
       "      <td>33</td>\n",
       "    </tr>\n",
       "    <tr>\n",
       "      <th>13706</th>\n",
       "      <td>84732190</td>\n",
       "      <td>28.23.22</td>\n",
       "      <td>8473 21 90</td>\n",
       "      <td>10</td>\n",
       "      <td>n.e.s.</td>\n",
       "      <td>Parts and accessories of electronic calculators of subheading 8470.10, 8470.21 or 8470.29,</td>\n",
       "      <td>Parts and accessories of electronic calculators of subheading 8470.10, 8470.21 or 8470.29,</td>\n",
       "      <td>28</td>\n",
       "      <td>C</td>\n",
       "      <td>2</td>\n",
       "      <td>True</td>\n",
       "      <td>True</td>\n",
       "      <td>0</td>\n",
       "      <td>False</td>\n",
       "      <td>33</td>\n",
       "    </tr>\n",
       "    <tr>\n",
       "      <th>11445</th>\n",
       "      <td>73063049</td>\n",
       "      <td>24.20.33</td>\n",
       "      <td>7306 30 49</td>\n",
       "      <td>10</td>\n",
       "      <td>(excl. products plated or coated with zinc)</td>\n",
       "      <td>Threaded or threadable tubes \"gas pipe\", welded, of circular cross-section, of iron or non-alloy steel</td>\n",
       "      <td>Threaded or threadable tubes \"gas pipe\", welded, of circular cross-section, of iron or non-alloy steel</td>\n",
       "      <td>24</td>\n",
       "      <td>C</td>\n",
       "      <td>2</td>\n",
       "      <td>True</td>\n",
       "      <td>True</td>\n",
       "      <td>20</td>\n",
       "      <td>False</td>\n",
       "      <td>33</td>\n",
       "    </tr>\n",
       "    <tr>\n",
       "      <th>4445</th>\n",
       "      <td>28353100</td>\n",
       "      <td>20.13.42</td>\n",
       "      <td>2835 31 00</td>\n",
       "      <td>10</td>\n",
       "      <td>not chemically defined</td>\n",
       "      <td>Sodium triphosphate \"sodium tripolyphosphate\", whether or not chemically defined</td>\n",
       "      <td>Sodium triphosphate \"sodium tripolyphosphate\", whether or</td>\n",
       "      <td>20</td>\n",
       "      <td>C</td>\n",
       "      <td>2</td>\n",
       "      <td>True</td>\n",
       "      <td>True</td>\n",
       "      <td>0</td>\n",
       "      <td>False</td>\n",
       "      <td>33</td>\n",
       "    </tr>\n",
       "  </tbody>\n",
       "</table>\n",
       "</div>"
      ],
      "text/plain": [
       "        CN_Code  CPA_Code  CN_Section  CN_Level  \\\n",
       "15016  87112098  30.91.12  8711 20 98        10   \n",
       "11354  73021040  24.10.75  7302 10 40        10   \n",
       "6308   38245010  23.63.10  3824 50 10        10   \n",
       "3213   20099011  10.32.17  2009 90 11        10   \n",
       "7605   47069100  17.11.14  4706 91 00        10   \n",
       "3677   25010010  08.93.10  2501 00 10        10   \n",
       "1548    7108010  10.39.11  0710 80 10        10   \n",
       "13706  84732190  28.23.22  8473 21 90        10   \n",
       "11445  73063049  24.20.33  7306 30 49        10   \n",
       "4445   28353100  20.13.42  2835 31 00        10   \n",
       "\n",
       "                                                                                                               Excl_removed  \\\n",
       "15016                                                                                                      (excl. scooters)   \n",
       "11354                                                                                                                         \n",
       "6308                                                                                                                          \n",
       "3213                                       (excl. containing spirit) not containing added sugar or other sweetening matter    \n",
       "7605   (excl. that of bamboo, wood, cotton linters and fibres derived from recovered [waste and scrap] paper or paperboard)   \n",
       "3677                                                                                                                          \n",
       "1548                                                                                                                          \n",
       "13706                                                                                                                n.e.s.   \n",
       "11445                                                                           (excl. products plated or coated with zinc)   \n",
       "4445                                                                                                 not chemically defined   \n",
       "\n",
       "                                                                                                                                                           CN_Description_old  \\\n",
       "15016                                            Motorcycles, incl. mopeds, with reciprocating internal combustion piston engine of a cylinder capacity > 125 cm³ to 250 cm³    \n",
       "11354                                                                                                       Grooved rails of iron or steel, for railway or tramway track, new   \n",
       "6308                                                                                                                                                   Concrete ready to pour   \n",
       "3213   Mixtures of apple and pear juice, unfermented, Brix value > 67 at 20°C, value of <= 22 € per 100 kg, whether or not containing added sugar or other sweetening matter    \n",
       "7605                                                                                                                          Mechanical pulp of fibrous cellulosic material    \n",
       "3677                                                                                                                                               Sea water and salt liquors   \n",
       "1548                                                                                                    Olives, uncooked or cooked by steaming or by boiling in water, frozen   \n",
       "13706                                                                            Parts and accessories of electronic calculators of subheading 8470.10, 8470.21 or 8470.29,     \n",
       "11445                                                                 Threaded or threadable tubes \"gas pipe\", welded, of circular cross-section, of iron or non-alloy steel    \n",
       "4445                                                                                         Sodium triphosphate \"sodium tripolyphosphate\", whether or not chemically defined   \n",
       "\n",
       "                                                                                                             CN_Description_cleaned  \\\n",
       "15016  Motorcycles, incl. mopeds, with reciprocating internal combustion piston engine of a cylinder capacity > 125 cm³ to 250 cm³    \n",
       "11354                                                             Grooved rails of iron or steel, for railway or tramway track, new   \n",
       "6308                                                                                                         Concrete ready to pour   \n",
       "3213                Mixtures of apple and pear juice, unfermented, Brix value > 67 at 20°C, value of <= 22 € per 100 kg, whether or   \n",
       "7605                                                                                Mechanical pulp of fibrous cellulosic material    \n",
       "3677                                                                                                     Sea water and salt liquors   \n",
       "1548                                                          Olives, uncooked or cooked by steaming or by boiling in water, frozen   \n",
       "13706                                  Parts and accessories of electronic calculators of subheading 8470.10, 8470.21 or 8470.29,     \n",
       "11445                       Threaded or threadable tubes \"gas pipe\", welded, of circular cross-section, of iron or non-alloy steel    \n",
       "4445                                                                      Sodium triphosphate \"sodium tripolyphosphate\", whether or   \n",
       "\n",
       "      Category_2 Category_1 Category_0  Expected  Predicted prediction  \\\n",
       "15016         30          C          2      True       True         19   \n",
       "11354         24          C          2      True       True         19   \n",
       "6308          23          C          2      True       True          0   \n",
       "3213          10          C          2      True       True          0   \n",
       "7605          17          C          2      True       True         26   \n",
       "3677          08          B          2     False       True          0   \n",
       "1548          10          C          2      True       True          0   \n",
       "13706         28          C          2      True       True          0   \n",
       "11445         24          C          2      True       True         20   \n",
       "4445          20          C          2      True       True          0   \n",
       "\n",
       "       Predict temp  \n",
       "15016    False   33  \n",
       "11354    False   33  \n",
       "6308     False   33  \n",
       "3213     False   33  \n",
       "7605     False   33  \n",
       "3677     False   33  \n",
       "1548     False   33  \n",
       "13706    False   33  \n",
       "11445    False   33  \n",
       "4445     False   33  "
      ]
     },
     "metadata": {},
     "output_type": "display_data"
    }
   ],
   "source": [
    "this_cat = 'Category_2'\n",
    "\n",
    "prediction = Results2[Results2.Predicted==True].drop(['Reduced_dim'],axis=1).copy()\n",
    "prediction['prediction'] = '0'\n",
    "#Train the model using the training sets \n",
    "for xcat in df_tmp.Category_2.unique():\n",
    "\n",
    "    df_tmp = df[df.Category_1=='C'].copy()\n",
    "    X_train = np.array(list(df_tmp.Reduced_dim_supervised.values))\n",
    "    y_train = (df_tmp[this_cat]==xcat)\n",
    "\n",
    "    bin_forest_clf = RandomForestClassifier(random_state=42)\n",
    "    bin_forest_clf.fit(X_train,y_train)\n",
    "\n",
    "    CN_test= Results2[Results2.Predicted==True]\n",
    "    CN_t = np.array(list(CN_test[\"Reduced_dim\"].values))\n",
    "    y_CN_pred=bin_forest_clf.predict(CN_t)\n",
    "    y_true = (CN_test[this_cat]==xcat)\n",
    "    \n",
    "    m = pd.Series(data=y_CN_pred.tolist(), index=CN_test.index)\n",
    "    prediction['Predict'] = m\n",
    "\n",
    "    prediction['temp'] = xcat\n",
    "    prediction['prediction'] = prediction.temp.where(m, prediction.prediction)\n",
    "\n",
    "    print('Results for ',xcat,'\\n',precision_recall_fscore_support(y_true, y_CN_pred, pos_label=True, average='binary'))\n",
    "    print('number predicted correctly :', len(prediction[(prediction.Category_2==xcat)&(prediction.Predict==True)]),\n",
    "' number missed :', len(prediction[(prediction.Category_2==xcat)&(prediction.Predict==False)]))\n",
    "display(prediction.sample(10))"
   ]
  },
  {
   "cell_type": "raw",
   "metadata": {},
   "source": [
    "display(predict.sample(10))"
   ]
  },
  {
   "cell_type": "code",
   "execution_count": 54,
   "metadata": {},
   "outputs": [],
   "source": [
    "xcat = '10'\n",
    "df_tmp = df[df.Category_1=='C'].copy()\n",
    "X_train = np.array(list(df_tmp.Reduced_dim_supervised.values))\n",
    "y_train = (df_tmp[this_cat]==xcat)\n",
    "\n",
    "bin_forest_clf = RandomForestClassifier(random_state=42)\n",
    "bin_forest_clf.fit(X_train,y_train)\n",
    "\n",
    "CN_test= Results2[Results2.Predicted==True]\n",
    "CN_t = np.array(list(CN_test[\"Reduced_dim\"].values))\n",
    "y_CN_pred=bin_forest_clf.predict(CN_t)\n",
    "y_true = (CN_test[this_cat]==xcat)"
   ]
  },
  {
   "cell_type": "code",
   "execution_count": 55,
   "metadata": {},
   "outputs": [
    {
     "data": {
      "text/plain": [
       "array([False, False, False, ..., False, False, False])"
      ]
     },
     "execution_count": 55,
     "metadata": {},
     "output_type": "execute_result"
    }
   ],
   "source": [
    "y_CN_pred"
   ]
  },
  {
   "cell_type": "code",
   "execution_count": 56,
   "metadata": {},
   "outputs": [
    {
     "data": {
      "text/plain": [
       "3        False\n",
       "6        False\n",
       "7        False\n",
       "8        False\n",
       "10       False\n",
       "         ...  \n",
       "16192    False\n",
       "16196    False\n",
       "16199    False\n",
       "16200    False\n",
       "16204    False\n",
       "Name: Category_2, Length: 9098, dtype: bool"
      ]
     },
     "execution_count": 56,
     "metadata": {},
     "output_type": "execute_result"
    }
   ],
   "source": [
    "y_true"
   ]
  },
  {
   "cell_type": "code",
   "execution_count": 57,
   "metadata": {},
   "outputs": [
    {
     "name": "stdout",
     "output_type": "stream",
     "text": [
      "Results for  10 \n",
      " (0.8186414596614641, 1.0, 0.9002780128127644, None)\n"
     ]
    }
   ],
   "source": [
    "print('Results for ',xcat,'\\n',precision_recall_fscore_support(y_true, y_CN_pred, pos_label=False, average='binary'))"
   ]
  },
  {
   "cell_type": "code",
   "execution_count": 58,
   "metadata": {},
   "outputs": [
    {
     "data": {
      "text/html": [
       "<div>\n",
       "<style scoped>\n",
       "    .dataframe tbody tr th:only-of-type {\n",
       "        vertical-align: middle;\n",
       "    }\n",
       "\n",
       "    .dataframe tbody tr th {\n",
       "        vertical-align: top;\n",
       "    }\n",
       "\n",
       "    .dataframe thead th {\n",
       "        text-align: right;\n",
       "    }\n",
       "</style>\n",
       "<table border=\"1\" class=\"dataframe\">\n",
       "  <thead>\n",
       "    <tr style=\"text-align: right;\">\n",
       "      <th></th>\n",
       "      <th>CN_Code</th>\n",
       "      <th>CPA_Code</th>\n",
       "      <th>CN_Section</th>\n",
       "      <th>CN_Level</th>\n",
       "      <th>Excl_removed</th>\n",
       "      <th>CN_Description_old</th>\n",
       "      <th>CN_Description_cleaned</th>\n",
       "      <th>Category_2</th>\n",
       "      <th>Category_1</th>\n",
       "      <th>Category_0</th>\n",
       "      <th>prediction</th>\n",
       "      <th>Predict</th>\n",
       "      <th>temp</th>\n",
       "    </tr>\n",
       "  </thead>\n",
       "  <tbody>\n",
       "    <tr>\n",
       "      <th>1570</th>\n",
       "      <td>7119010</td>\n",
       "      <td>10.39.12</td>\n",
       "      <td>0711 90 10</td>\n",
       "      <td>10</td>\n",
       "      <td>(excl. sweet pepper)</td>\n",
       "      <td>Fruits of genus Capsicum or Pimenta provisionally preserved, e.g. by sulphur dioxide gas, in brine, in sulphur water or in other preservative solutions, but unsuitable in that state for immediate consumption</td>\n",
       "      <td>Fruits of genus Capsicum or Pimenta provisionally preserved, e.g. by sulphur dioxide gas, in brine, in sulphur water or in other preservative solutions, but unsuitable in that state for immediate consumption</td>\n",
       "      <td>10</td>\n",
       "      <td>C</td>\n",
       "      <td>2</td>\n",
       "      <td>0</td>\n",
       "      <td>False</td>\n",
       "      <td>33</td>\n",
       "    </tr>\n",
       "    <tr>\n",
       "      <th>2071</th>\n",
       "      <td>11032090</td>\n",
       "      <td>10.61.32</td>\n",
       "      <td>1103 20 90</td>\n",
       "      <td>10</td>\n",
       "      <td>(excl. rye, barley, oats, maize, rice and wheat)</td>\n",
       "      <td>Cereal pellets</td>\n",
       "      <td>Cereal pellets</td>\n",
       "      <td>10</td>\n",
       "      <td>C</td>\n",
       "      <td>2</td>\n",
       "      <td>0</td>\n",
       "      <td>False</td>\n",
       "      <td>33</td>\n",
       "    </tr>\n",
       "    <tr>\n",
       "      <th>1828</th>\n",
       "      <td>8134010</td>\n",
       "      <td>10.39.29</td>\n",
       "      <td>0813 40 10</td>\n",
       "      <td>10</td>\n",
       "      <td></td>\n",
       "      <td>Dried peaches, incl. nectarines</td>\n",
       "      <td>Dried peaches, incl. nectarines</td>\n",
       "      <td>10</td>\n",
       "      <td>C</td>\n",
       "      <td>2</td>\n",
       "      <td>0</td>\n",
       "      <td>False</td>\n",
       "      <td>33</td>\n",
       "    </tr>\n",
       "    <tr>\n",
       "      <th>1581</th>\n",
       "      <td>7123200</td>\n",
       "      <td>10.39.13</td>\n",
       "      <td>0712 32 00</td>\n",
       "      <td>10</td>\n",
       "      <td>not further prepared</td>\n",
       "      <td>Dried wood ears \"Auricularia spp.\", whole, cut, sliced, broken or in powder, but not further prepared</td>\n",
       "      <td>Dried wood ears \"Auricularia spp.\", whole, cut, sliced, broken or in powder, but</td>\n",
       "      <td>10</td>\n",
       "      <td>C</td>\n",
       "      <td>2</td>\n",
       "      <td>0</td>\n",
       "      <td>False</td>\n",
       "      <td>33</td>\n",
       "    </tr>\n",
       "    <tr>\n",
       "      <th>2934</th>\n",
       "      <td>20059980</td>\n",
       "      <td>10.39.17</td>\n",
       "      <td>2005 99 80</td>\n",
       "      <td>10</td>\n",
       "      <td>(excl. preserved by sugar, homogenised vegetables of subheading 2005.10, and tomatoes, mushrooms, truffles, potatoes, sauerkraut, peas \"Pisum sativum\", beans \"Vigna spp., Phaseolus spp.\" asparagus, olives, sweetcorn \"Zea Mays var. Saccharata\", bamboo shoots, fruit of the genus Capsicum hot to the taste, capers, artichokes and mixtures of vegetables) not frozen</td>\n",
       "      <td>Vegetables, prepared or preserved otherwise than by vinegar or acetic acid, not frozen</td>\n",
       "      <td>Vegetables, prepared or preserved otherwise than by vinegar or acetic acid,</td>\n",
       "      <td>10</td>\n",
       "      <td>C</td>\n",
       "      <td>2</td>\n",
       "      <td>0</td>\n",
       "      <td>False</td>\n",
       "      <td>33</td>\n",
       "    </tr>\n",
       "  </tbody>\n",
       "</table>\n",
       "</div>"
      ],
      "text/plain": [
       "       CN_Code  CPA_Code  CN_Section  CN_Level  \\\n",
       "1570   7119010  10.39.12  0711 90 10        10   \n",
       "2071  11032090  10.61.32  1103 20 90        10   \n",
       "1828   8134010  10.39.29  0813 40 10        10   \n",
       "1581   7123200  10.39.13  0712 32 00        10   \n",
       "2934  20059980  10.39.17  2005 99 80        10   \n",
       "\n",
       "                                                                                                                                                                                                                                                                                                                                                                     Excl_removed  \\\n",
       "1570                                                                                                                                                                                                                                                                                                                                                         (excl. sweet pepper)   \n",
       "2071                                                                                                                                                                                                                                                                                                                             (excl. rye, barley, oats, maize, rice and wheat)   \n",
       "1828                                                                                                                                                                                                                                                                                                                                                                                \n",
       "1581                                                                                                                                                                                                                                                                                                                                                         not further prepared   \n",
       "2934  (excl. preserved by sugar, homogenised vegetables of subheading 2005.10, and tomatoes, mushrooms, truffles, potatoes, sauerkraut, peas \"Pisum sativum\", beans \"Vigna spp., Phaseolus spp.\" asparagus, olives, sweetcorn \"Zea Mays var. Saccharata\", bamboo shoots, fruit of the genus Capsicum hot to the taste, capers, artichokes and mixtures of vegetables) not frozen    \n",
       "\n",
       "                                                                                                                                                                                                    CN_Description_old  \\\n",
       "1570  Fruits of genus Capsicum or Pimenta provisionally preserved, e.g. by sulphur dioxide gas, in brine, in sulphur water or in other preservative solutions, but unsuitable in that state for immediate consumption    \n",
       "2071                                                                                                                                                                                                   Cereal pellets    \n",
       "1828                                                                                                                                                                                   Dried peaches, incl. nectarines   \n",
       "1581                                                                                                             Dried wood ears \"Auricularia spp.\", whole, cut, sliced, broken or in powder, but not further prepared   \n",
       "2934                                                                                                                           Vegetables, prepared or preserved otherwise than by vinegar or acetic acid, not frozen    \n",
       "\n",
       "                                                                                                                                                                                                CN_Description_cleaned  \\\n",
       "1570  Fruits of genus Capsicum or Pimenta provisionally preserved, e.g. by sulphur dioxide gas, in brine, in sulphur water or in other preservative solutions, but unsuitable in that state for immediate consumption    \n",
       "2071                                                                                                                                                                                                   Cereal pellets    \n",
       "1828                                                                                                                                                                                   Dried peaches, incl. nectarines   \n",
       "1581                                                                                                                                  Dried wood ears \"Auricularia spp.\", whole, cut, sliced, broken or in powder, but   \n",
       "2934                                                                                                                                       Vegetables, prepared or preserved otherwise than by vinegar or acetic acid,   \n",
       "\n",
       "     Category_2 Category_1 Category_0 prediction  Predict temp  \n",
       "1570         10          C          2          0    False   33  \n",
       "2071         10          C          2          0    False   33  \n",
       "1828         10          C          2          0    False   33  \n",
       "1581         10          C          2          0    False   33  \n",
       "2934         10          C          2          0    False   33  "
      ]
     },
     "execution_count": 58,
     "metadata": {},
     "output_type": "execute_result"
    }
   ],
   "source": [
    "xcat = '33'\n",
    "prediction = Results2[Results2.Predicted==True].drop(['Reduced_dim','Expected','Predicted'],axis=1).copy()\n",
    "prediction['prediction'] = '0'\n",
    "#Train the model using the training sets \n",
    "\n",
    "df_tmp = df[df.Category_1=='C'].copy()\n",
    "X_train = np.array(list(df_tmp.Reduced_dim_supervised.values))\n",
    "y_train = (df_tmp[this_cat]==xcat)\n",
    "\n",
    "bin_forest_clf = RandomForestClassifier(random_state=42)\n",
    "bin_forest_clf.fit(X_train,y_train)\n",
    "\n",
    "CN_test= Results2[Results2.Predicted==True]\n",
    "CN_t = np.array(list(CN_test[\"Reduced_dim\"].values))\n",
    "y_CN_pred=bin_forest_clf.predict(CN_t)\n",
    "y_true = (CN_test[this_cat]==xcat)\n",
    "\n",
    "m = pd.Series(data=y_CN_pred.tolist(), index=CN_test.index)\n",
    "prediction['Predict'] = m\n",
    "\n",
    "prediction['temp'] = xcat\n",
    "prediction['prediction'] = prediction.temp.where(m, prediction.prediction)\n",
    "prediction[prediction.Category_2=='10'].sample(5)"
   ]
  },
  {
   "cell_type": "code",
   "execution_count": null,
   "metadata": {},
   "outputs": [],
   "source": [
    "print('32 is correct :', len(prediction[(prediction.Category_2=='32')&(prediction.Predict==True)]),\n",
    "'\\n32 missed :', len(prediction[(prediction.Category_2=='32')&(prediction.Predict==False)]))"
   ]
  },
  {
   "cell_type": "code",
   "execution_count": null,
   "metadata": {},
   "outputs": [],
   "source": [
    "m"
   ]
  },
  {
   "cell_type": "code",
   "execution_count": null,
   "metadata": {},
   "outputs": [],
   "source": []
  },
  {
   "cell_type": "code",
   "execution_count": null,
   "metadata": {},
   "outputs": [],
   "source": []
  }
 ],
 "metadata": {
  "environment": {
   "name": "common-cpu.m58",
   "type": "gcloud",
   "uri": "gcr.io/deeplearning-platform-release/base-cpu:m58"
  },
  "kernelspec": {
   "display_name": "Python 3",
   "language": "python",
   "name": "python3"
  },
  "language_info": {
   "codemirror_mode": {
    "name": "ipython",
    "version": 3
   },
   "file_extension": ".py",
   "mimetype": "text/x-python",
   "name": "python",
   "nbconvert_exporter": "python",
   "pygments_lexer": "ipython3",
   "version": "3.7.8"
  }
 },
 "nbformat": 4,
 "nbformat_minor": 4
}
