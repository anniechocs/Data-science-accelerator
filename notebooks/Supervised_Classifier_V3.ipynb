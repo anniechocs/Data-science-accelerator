{
 "cells": [
  {
   "cell_type": "markdown",
   "metadata": {},
   "source": [
    "# Text Processing for Accelerator project\n",
    "\n",
    "A simplified pipeline processing text with FastText.\n",
    "\n",
    "* Load CPA data\n",
    "* Basic text cleaning\n",
    "* Vectorize (with FastText)\n",
    "* Split into test and training sets\n",
    "* Reduce dimension using UMAP supervised \n",
    "* Predict on test set\n",
    "* Use metrics for an unbalanced dataset\n",
    "* View the clustering in plotly scatterplots"
   ]
  },
  {
   "cell_type": "code",
   "execution_count": 1,
   "metadata": {},
   "outputs": [],
   "source": [
    "# this bit shouldn't be necessary if we pip install -e .   in the parent directory\n",
    "%load_ext autoreload\n",
    "%autoreload 2"
   ]
  },
  {
   "cell_type": "code",
   "execution_count": 2,
   "metadata": {},
   "outputs": [
    {
     "name": "stderr",
     "output_type": "stream",
     "text": [
      "[nltk_data] Downloading package stopwords to\n",
      "[nltk_data]     /home/jupyter/nltk_data...\n",
      "[nltk_data]   Package stopwords is already up-to-date!\n"
     ]
    }
   ],
   "source": [
    "import functools\n",
    "from pprint import pprint\n",
    "from time import time\n",
    "from IPython.display import display, HTML\n",
    "import logging\n",
    "import pandas as pd\n",
    "import numpy as np\n",
    "\n",
    "from sklearn.model_selection import train_test_split\n",
    "from sklearn.model_selection import cross_val_predict\n",
    "from sklearn.pipeline import Pipeline\n",
    "from sklearn.ensemble import RandomForestClassifier\n",
    "\n",
    "from sklearn import metrics\n",
    "import umap\n",
    "\n",
    "import matplotlib.pyplot as plt\n",
    "import seaborn as sns\n",
    "import plotly.express\n",
    "from imblearn.metrics import classification_report_imbalanced\n",
    "\n",
    "import text_processing\n",
    "\n",
    "pd.set_option('display.max_colwidth', None)"
   ]
  },
  {
   "cell_type": "markdown",
   "metadata": {},
   "source": [
    "## Load FastText Pretrained\n",
    "\n",
    "Note: This requires a fair bit of memory (peaks at about 17.5 GiB)\n",
    "\n",
    "Recommend shutting down other kernels first, once this has loaded memory usage drops again.\n",
    "\n",
    "This takes a few minutes to load in."
   ]
  },
  {
   "cell_type": "code",
   "execution_count": 3,
   "metadata": {},
   "outputs": [
    {
     "name": "stderr",
     "output_type": "stream",
     "text": [
      "2020-12-04 14:51:07,267 - text_processing - INFO - Loading FastText pretrained from ../../data/wiki.en.bin\n",
      "2020-12-04 14:55:07,910 - text_processing - INFO - Model loaded\n"
     ]
    }
   ],
   "source": [
    "wv = text_processing.fetch_fasstext_pretrained(filepath=\"../../data/wiki.en.bin\")"
   ]
  },
  {
   "cell_type": "markdown",
   "metadata": {},
   "source": [
    "#### Load in the CPA data"
   ]
  },
  {
   "cell_type": "code",
   "execution_count": 4,
   "metadata": {},
   "outputs": [
    {
     "name": "stderr",
     "output_type": "stream",
     "text": [
      "2020-12-04 14:55:08,025 - text_processing - INFO - cleanded CPA File imported\n"
     ]
    }
   ],
   "source": [
    "CPA = text_processing.fetch_files()"
   ]
  },
  {
   "cell_type": "code",
   "execution_count": 5,
   "metadata": {},
   "outputs": [
    {
     "name": "stderr",
     "output_type": "stream",
     "text": [
      "2020-12-04 14:55:08,180 - text_processing - INFO - Cleaning column: Descr \n"
     ]
    },
    {
     "data": {
      "text/html": [
       "<div>\n",
       "<style scoped>\n",
       "    .dataframe tbody tr th:only-of-type {\n",
       "        vertical-align: middle;\n",
       "    }\n",
       "\n",
       "    .dataframe tbody tr th {\n",
       "        vertical-align: top;\n",
       "    }\n",
       "\n",
       "    .dataframe thead th {\n",
       "        text-align: right;\n",
       "    }\n",
       "</style>\n",
       "<table border=\"1\" class=\"dataframe\">\n",
       "  <thead>\n",
       "    <tr style=\"text-align: right;\">\n",
       "      <th></th>\n",
       "      <th>Code</th>\n",
       "      <th>Descr_old</th>\n",
       "      <th>Category_0</th>\n",
       "      <th>Category_1</th>\n",
       "      <th>Category_2</th>\n",
       "      <th>Category_3</th>\n",
       "      <th>Descr_cleaned</th>\n",
       "    </tr>\n",
       "  </thead>\n",
       "  <tbody>\n",
       "    <tr>\n",
       "      <th>4689</th>\n",
       "      <td>69.10.1</td>\n",
       "      <td>Legal services</td>\n",
       "      <td>8</td>\n",
       "      <td>M</td>\n",
       "      <td>69</td>\n",
       "      <td>69.1</td>\n",
       "      <td>legal services</td>\n",
       "    </tr>\n",
       "    <tr>\n",
       "      <th>3030</th>\n",
       "      <td>30.30.9</td>\n",
       "      <td>Sub-contracted operations as part of manufacturing of air and spacecraft and related machinery</td>\n",
       "      <td>2</td>\n",
       "      <td>C</td>\n",
       "      <td>30</td>\n",
       "      <td>30.3</td>\n",
       "      <td>sub-contracted operations part manufacturing air spacecraft related machinery</td>\n",
       "    </tr>\n",
       "    <tr>\n",
       "      <th>1606</th>\n",
       "      <td>21.20.12</td>\n",
       "      <td>Medicaments, containing hormones, but not antibiotics</td>\n",
       "      <td>2</td>\n",
       "      <td>C</td>\n",
       "      <td>21</td>\n",
       "      <td>21.2</td>\n",
       "      <td>medicaments containing hormones</td>\n",
       "    </tr>\n",
       "    <tr>\n",
       "      <th>82</th>\n",
       "      <td>01.13.72</td>\n",
       "      <td>Sugar beet seeds</td>\n",
       "      <td>1</td>\n",
       "      <td>A</td>\n",
       "      <td>01</td>\n",
       "      <td>01.1</td>\n",
       "      <td>sugar beet seeds</td>\n",
       "    </tr>\n",
       "    <tr>\n",
       "      <th>3213</th>\n",
       "      <td>32.99.41</td>\n",
       "      <td>Cigarette lighters and other lighters; smoking pipes and cigar or cigarette holders and parts thereof</td>\n",
       "      <td>2</td>\n",
       "      <td>C</td>\n",
       "      <td>32</td>\n",
       "      <td>32.9</td>\n",
       "      <td>cigarette lighters lighters smoking pipes cigar cigarette holders parts thereof</td>\n",
       "    </tr>\n",
       "  </tbody>\n",
       "</table>\n",
       "</div>"
      ],
      "text/plain": [
       "          Code  \\\n",
       "4689   69.10.1   \n",
       "3030   30.30.9   \n",
       "1606  21.20.12   \n",
       "82    01.13.72   \n",
       "3213  32.99.41   \n",
       "\n",
       "                                                                                                  Descr_old  \\\n",
       "4689                                                                                         Legal services   \n",
       "3030         Sub-contracted operations as part of manufacturing of air and spacecraft and related machinery   \n",
       "1606                                                  Medicaments, containing hormones, but not antibiotics   \n",
       "82                                                                                         Sugar beet seeds   \n",
       "3213  Cigarette lighters and other lighters; smoking pipes and cigar or cigarette holders and parts thereof   \n",
       "\n",
       "     Category_0 Category_1 Category_2 Category_3  \\\n",
       "4689          8          M         69       69.1   \n",
       "3030          2          C         30       30.3   \n",
       "1606          2          C         21       21.2   \n",
       "82            1          A         01       01.1   \n",
       "3213          2          C         32       32.9   \n",
       "\n",
       "                                                                        Descr_cleaned  \n",
       "4689                                                                   legal services  \n",
       "3030    sub-contracted operations part manufacturing air spacecraft related machinery  \n",
       "1606                                                  medicaments containing hormones  \n",
       "82                                                                   sugar beet seeds  \n",
       "3213  cigarette lighters lighters smoking pipes cigar cigarette holders parts thereof  "
      ]
     },
     "execution_count": 5,
     "metadata": {},
     "output_type": "execute_result"
    }
   ],
   "source": [
    "CPA1 = CPA[CPA.Level.isin({5,6})][['Code','Descr_old','Descr','Category_0','Category_1','Category_2','Category_3']].copy()\n",
    "df = text_processing.clean_col(CPA1, \"Descr\")\n",
    "df.drop('Descr',axis=1,inplace=True)\n",
    "\n",
    "df.sample(5)"
   ]
  },
  {
   "cell_type": "markdown",
   "metadata": {},
   "source": [
    "### Vectorize CPA data using FastText"
   ]
  },
  {
   "cell_type": "code",
   "execution_count": 6,
   "metadata": {},
   "outputs": [],
   "source": [
    "text_to_vec = functools.partial(text_processing.vectorize_text, wv)\n",
    "df[\"Descr_cleaned_vectorized\"] = df.Descr_cleaned.apply(text_to_vec)"
   ]
  },
  {
   "cell_type": "code",
   "execution_count": 7,
   "metadata": {},
   "outputs": [
    {
     "name": "stderr",
     "output_type": "stream",
     "text": [
      "2020-12-04 14:55:08,573 - text_processing - INFO - Now applying umap to reduce dimension\n"
     ]
    },
    {
     "name": "stdout",
     "output_type": "stream",
     "text": [
      "UMAP(min_dist=0.0, n_components=10, n_neighbors=10, random_state=3052528580,\n",
      "     verbose=10)\n",
      "Construct fuzzy simplicial set\n",
      "Fri Dec  4 14:55:08 2020 Finding Nearest Neighbors\n",
      "Fri Dec  4 14:55:08 2020 Building RP forest with 8 trees\n",
      "Fri Dec  4 14:55:09 2020 NN descent for 12 iterations\n",
      "\t 0  /  12\n",
      "\t 1  /  12\n",
      "\t 2  /  12\n",
      "\t 3  /  12\n",
      "\t 4  /  12\n",
      "\t 5  /  12\n",
      "\t 6  /  12\n",
      "\t 7  /  12\n",
      "\t 8  /  12\n",
      "\t 9  /  12\n",
      "\t 10  /  12\n",
      "Fri Dec  4 14:55:15 2020 Finished Nearest Neighbor Search\n",
      "Fri Dec  4 14:55:17 2020 Construct embedding\n",
      "\tcompleted  0  /  500 epochs\n",
      "\tcompleted  50  /  500 epochs\n",
      "\tcompleted  100  /  500 epochs\n",
      "\tcompleted  150  /  500 epochs\n",
      "\tcompleted  200  /  500 epochs\n",
      "\tcompleted  250  /  500 epochs\n",
      "\tcompleted  300  /  500 epochs\n",
      "\tcompleted  350  /  500 epochs\n",
      "\tcompleted  400  /  500 epochs\n",
      "\tcompleted  450  /  500 epochs\n"
     ]
    },
    {
     "name": "stderr",
     "output_type": "stream",
     "text": [
      "2020-12-04 14:55:32,491 - text_processing - INFO - Now applying umap to reduce dimension\n"
     ]
    },
    {
     "name": "stdout",
     "output_type": "stream",
     "text": [
      "Fri Dec  4 14:55:32 2020 Finished embedding\n",
      "UMAP(min_dist=0.0, n_components=10, random_state=3052528580, verbose=10)\n",
      "Construct fuzzy simplicial set\n",
      "Fri Dec  4 14:55:32 2020 Finding Nearest Neighbors\n",
      "Fri Dec  4 14:55:32 2020 Building RP forest with 8 trees\n",
      "Fri Dec  4 14:55:33 2020 NN descent for 12 iterations\n",
      "\t 0  /  12\n",
      "\t 1  /  12\n",
      "\t 2  /  12\n",
      "\t 3  /  12\n",
      "\t 4  /  12\n",
      "\t 5  /  12\n",
      "\t 6  /  12\n",
      "\t 7  /  12\n",
      "\t 8  /  12\n",
      "Fri Dec  4 14:55:34 2020 Finished Nearest Neighbor Search\n"
     ]
    },
    {
     "name": "stderr",
     "output_type": "stream",
     "text": [
      "/opt/conda/lib/python3.7/site-packages/sklearn/utils/validation.py:72: FutureWarning: Beginning in version 0.22, arrays of bytes/strings will be converted to decimal numbers if dtype='numeric'. It is recommended that you convert the array to a float dtype before using it in scikit-learn, for example by using your_array = your_array.astype(np.float64).\n",
      "  return f(**kwargs)\n"
     ]
    },
    {
     "name": "stdout",
     "output_type": "stream",
     "text": [
      "Fri Dec  4 14:55:34 2020 Construct embedding\n",
      "\tcompleted  0  /  500 epochs\n",
      "\tcompleted  50  /  500 epochs\n",
      "\tcompleted  100  /  500 epochs\n",
      "\tcompleted  150  /  500 epochs\n",
      "\tcompleted  200  /  500 epochs\n",
      "\tcompleted  250  /  500 epochs\n",
      "\tcompleted  300  /  500 epochs\n",
      "\tcompleted  350  /  500 epochs\n",
      "\tcompleted  400  /  500 epochs\n",
      "\tcompleted  450  /  500 epochs\n",
      "Fri Dec  4 14:55:50 2020 Finished embedding\n"
     ]
    }
   ],
   "source": [
    "# reduce the dimension for the whole lot\n",
    "df['Reduced_dim'] = text_processing.reduce_dimensionality(df.Descr_cleaned_vectorized,10)\n",
    "# reduce the dimension for the whole lot using supervised learning\n",
    "df['Reduced_dim_supervised'] = text_processing.reduce_dimensionality_supervised(df.Descr_cleaned_vectorized,df.Category_2)"
   ]
  },
  {
   "cell_type": "markdown",
   "metadata": {},
   "source": [
    "### Split the CPA data into a training set and a test set"
   ]
  },
  {
   "cell_type": "code",
   "execution_count": 8,
   "metadata": {},
   "outputs": [],
   "source": [
    "# Split dataset into training set and test set\n",
    "train_set, test_set = train_test_split(df.copy(), test_size=0.2, random_state=42)"
   ]
  },
  {
   "cell_type": "markdown",
   "metadata": {},
   "source": [
    "# Use the Random Forest Classifier\n",
    "\n",
    "https://www.datacamp.com/community/tutorials/random-forests-classifier-python\n",
    "\n",
    "We have already  used UMAP supervised classification to reduce the dimension on the training set.   \n",
    "We then split our data into training and test datasets.   \n",
    "We now use the random forest classifier on the training set, and see how it works on the test set.\n"
   ]
  },
  {
   "cell_type": "code",
   "execution_count": 9,
   "metadata": {},
   "outputs": [
    {
     "name": "stdout",
     "output_type": "stream",
     "text": [
      "Accuracy for Category_3 classification: 0.8098360655737705\n",
      "Accuracy for Category_2 classification: 0.9814207650273225\n",
      "Accuracy for Category_1 classification: 0.985792349726776\n",
      "Accuracy for Category_0 classification: 0.994535519125683\n"
     ]
    }
   ],
   "source": [
    "#Create Gaussian Classifier\n",
    "for this_cat in ['Category_3','Category_2','Category_1','Category_0']:\n",
    "    #Train the model using the training sets \n",
    "    X_train = train_set.Reduced_dim_supervised\n",
    "    X_test = test_set.Reduced_dim_supervised\n",
    "\n",
    "    y_train = train_set[this_cat]\n",
    "    y_test = test_set[this_cat]\n",
    "\n",
    "    vecs = np.array(list(X_train.values))\n",
    "    target = np.array(list(y_train.values))\n",
    "\n",
    "    clf = RandomForestClassifier(n_estimators=100\n",
    "                              ).fit(vecs, target)\n",
    "\n",
    "    y_pred=clf.predict(np.array(list(X_test.values)))\n",
    "# Model Accuracy, how often is the classifier correct?\n",
    "    print(f\"Accuracy for {this_cat} classification:\",metrics.accuracy_score(y_test, y_pred))"
   ]
  },
  {
   "cell_type": "code",
   "execution_count": 10,
   "metadata": {},
   "outputs": [
    {
     "name": "stderr",
     "output_type": "stream",
     "text": [
      "2020-12-04 14:56:04,839 - text_processing - INFO - CN new Files imported and cleaned\n"
     ]
    },
    {
     "data": {
      "text/html": [
       "<div>\n",
       "<style scoped>\n",
       "    .dataframe tbody tr th:only-of-type {\n",
       "        vertical-align: middle;\n",
       "    }\n",
       "\n",
       "    .dataframe tbody tr th {\n",
       "        vertical-align: top;\n",
       "    }\n",
       "\n",
       "    .dataframe thead th {\n",
       "        text-align: right;\n",
       "    }\n",
       "</style>\n",
       "<table border=\"1\" class=\"dataframe\">\n",
       "  <thead>\n",
       "    <tr style=\"text-align: right;\">\n",
       "      <th></th>\n",
       "      <th>CN_Code</th>\n",
       "      <th>CPA_Code</th>\n",
       "      <th>CN_Section</th>\n",
       "      <th>CN_Level</th>\n",
       "      <th>Excl_removed</th>\n",
       "      <th>CN_Description_cleaned</th>\n",
       "      <th>Category_2</th>\n",
       "      <th>Category_1</th>\n",
       "      <th>Category_0</th>\n",
       "    </tr>\n",
       "  </thead>\n",
       "  <tbody>\n",
       "    <tr>\n",
       "      <th>5233</th>\n",
       "      <td>29269070</td>\n",
       "      <td>20.14.43</td>\n",
       "      <td>2926 90 70</td>\n",
       "      <td>10</td>\n",
       "      <td>(excl. acrylonitrile, 1-cyanoguanidine \"dicyandiamide\", fenproporex \"INN\" and its salts, methadone \"INN\"-intermediate \"4-cyano-2-dimethylamino-4,4-diphenylbutane\", alpha-Phenylacetoacetonitrile and isophthalonitrile)</td>\n",
       "      <td>Nitrile-function compounds</td>\n",
       "      <td>20</td>\n",
       "      <td>C</td>\n",
       "      <td>2</td>\n",
       "    </tr>\n",
       "    <tr>\n",
       "      <th>4032</th>\n",
       "      <td>27101931</td>\n",
       "      <td>19.20.26</td>\n",
       "      <td>2710 19 31</td>\n",
       "      <td>10</td>\n",
       "      <td></td>\n",
       "      <td>Gas oils of petroleum or bituminous minerals for undergoing a specific process as defined in Additional Note 5 to chapter 27</td>\n",
       "      <td>19</td>\n",
       "      <td>C</td>\n",
       "      <td>2</td>\n",
       "    </tr>\n",
       "    <tr>\n",
       "      <th>7707</th>\n",
       "      <td>48051910</td>\n",
       "      <td>17.12.34</td>\n",
       "      <td>4805 19 10</td>\n",
       "      <td>10</td>\n",
       "      <td></td>\n",
       "      <td>Wellenstoff, uncoated, in rolls of a width &gt; 36 cm or in square or rectangular sheets with one side &gt; 36 cm and the other side &gt; 15 cm in the unfolded state</td>\n",
       "      <td>17</td>\n",
       "      <td>C</td>\n",
       "      <td>2</td>\n",
       "    </tr>\n",
       "  </tbody>\n",
       "</table>\n",
       "</div>"
      ],
      "text/plain": [
       "       CN_Code  CPA_Code  CN_Section  CN_Level  \\\n",
       "5233  29269070  20.14.43  2926 90 70        10   \n",
       "4032  27101931  19.20.26  2710 19 31        10   \n",
       "7707  48051910  17.12.34  4805 19 10        10   \n",
       "\n",
       "                                                                                                                                                                                                                  Excl_removed  \\\n",
       "5233  (excl. acrylonitrile, 1-cyanoguanidine \"dicyandiamide\", fenproporex \"INN\" and its salts, methadone \"INN\"-intermediate \"4-cyano-2-dimethylamino-4,4-diphenylbutane\", alpha-Phenylacetoacetonitrile and isophthalonitrile)   \n",
       "4032                                                                                                                                                                                                                             \n",
       "7707                                                                                                                                                                                                                             \n",
       "\n",
       "                                                                                                                                            CN_Description_cleaned  \\\n",
       "5233                                                                                                                                   Nitrile-function compounds    \n",
       "4032                                  Gas oils of petroleum or bituminous minerals for undergoing a specific process as defined in Additional Note 5 to chapter 27   \n",
       "7707  Wellenstoff, uncoated, in rolls of a width > 36 cm or in square or rectangular sheets with one side > 36 cm and the other side > 15 cm in the unfolded state   \n",
       "\n",
       "     Category_2 Category_1 Category_0  \n",
       "5233         20          C          2  \n",
       "4032         19          C          2  \n",
       "7707         17          C          2  "
      ]
     },
     "execution_count": 10,
     "metadata": {},
     "output_type": "execute_result"
    }
   ],
   "source": [
    "CN = text_processing.fetch_CN_files()\n",
    "Cat1_Cat2_map = CPA[CPA.Level==2][['Code','Parent']].rename(columns={'Code':'Category_2','Parent':'Category_1'})\n",
    "CN=CN.merge(Cat1_Cat2_map, on='Category_2', how='left')\n",
    "\n",
    "\n",
    "# we now set up a higher level for A10 indstry levels (10 categories)\n",
    "update_dict0 = {'A':'1','F':'3','J':'5', 'K':'6', 'L':'7','M':'8','N':'8'}\n",
    "update_dict = {**update_dict0,**dict.fromkeys(['B','C','D','E'],'2'),**dict.fromkeys(['G','H','I'],'4'),\n",
    "               **dict.fromkeys(['O','P','Q'],'9'), **dict.fromkeys(['R','S','T','U'],'10')}\n",
    "\n",
    "\n",
    "CN['Category_0'] = CN.Category_1.replace(update_dict)\n",
    "CN['Category_0']= CN['Category_0'].astype(str)\n",
    "CN.sample(3)"
   ]
  },
  {
   "cell_type": "code",
   "execution_count": 11,
   "metadata": {},
   "outputs": [],
   "source": [
    "# Vectorize the CN description using FastText\n",
    "CN[\"Descr_cleaned_vectorized\"] = CN.CN_Description_cleaned.apply(\n",
    "    text_to_vec\n",
    ")"
   ]
  },
  {
   "cell_type": "code",
   "execution_count": 12,
   "metadata": {},
   "outputs": [
    {
     "name": "stderr",
     "output_type": "stream",
     "text": [
      "2020-12-04 14:56:08,549 - text_processing - INFO - Now applying umap to reduce dimension\n"
     ]
    },
    {
     "name": "stdout",
     "output_type": "stream",
     "text": [
      "UMAP(min_dist=0.0, n_components=10, n_neighbors=10, random_state=3052528580,\n",
      "     verbose=10)\n",
      "Construct fuzzy simplicial set\n",
      "Fri Dec  4 14:56:08 2020 Finding Nearest Neighbors\n",
      "Fri Dec  4 14:56:08 2020 Building RP forest with 11 trees\n",
      "Fri Dec  4 14:56:09 2020 NN descent for 14 iterations\n",
      "\t 0  /  14\n",
      "\t 1  /  14\n",
      "\t 2  /  14\n",
      "\t 3  /  14\n",
      "\t 4  /  14\n",
      "\t 5  /  14\n",
      "\t 6  /  14\n",
      "\t 7  /  14\n",
      "\t 8  /  14\n",
      "\t 9  /  14\n",
      "\t 10  /  14\n",
      "Fri Dec  4 14:56:11 2020 Finished Nearest Neighbor Search\n",
      "Fri Dec  4 14:56:11 2020 Construct embedding\n",
      "\tcompleted  0  /  200 epochs\n",
      "\tcompleted  20  /  200 epochs\n",
      "\tcompleted  40  /  200 epochs\n",
      "\tcompleted  60  /  200 epochs\n",
      "\tcompleted  80  /  200 epochs\n",
      "\tcompleted  100  /  200 epochs\n",
      "\tcompleted  120  /  200 epochs\n",
      "\tcompleted  140  /  200 epochs\n",
      "\tcompleted  160  /  200 epochs\n",
      "\tcompleted  180  /  200 epochs\n",
      "Fri Dec  4 14:56:34 2020 Finished embedding\n"
     ]
    }
   ],
   "source": [
    "CN['Reduced_dim'] = text_processing.reduce_dimensionality(CN.Descr_cleaned_vectorized, 10)\n",
    "#CN_test_df = CN[(CN.Category_2.notnull()) & (CN.CN_Level==4)]\n",
    "#CN_test_df['Reduced_dim'] = text_processing.reduce_dimensionality(CN_test_df.Descr_cleaned_vectorized)\n",
    "\n",
    "#CN_test_df['Reduced_dim_supervised'] = text_processing.train_test_umap(df.Descr_cleaned_vectorized,df.Category_2, CN_test_df.Descr_cleaned_vectorized)"
   ]
  },
  {
   "cell_type": "code",
   "execution_count": 13,
   "metadata": {},
   "outputs": [
    {
     "name": "stdout",
     "output_type": "stream",
     "text": [
      "Accuracy: 0.8077004442563994\n"
     ]
    },
    {
     "data": {
      "text/html": [
       "<div>\n",
       "<style scoped>\n",
       "    .dataframe tbody tr th:only-of-type {\n",
       "        vertical-align: middle;\n",
       "    }\n",
       "\n",
       "    .dataframe tbody tr th {\n",
       "        vertical-align: top;\n",
       "    }\n",
       "\n",
       "    .dataframe thead th {\n",
       "        text-align: right;\n",
       "    }\n",
       "</style>\n",
       "<table border=\"1\" class=\"dataframe\">\n",
       "  <thead>\n",
       "    <tr style=\"text-align: right;\">\n",
       "      <th></th>\n",
       "      <th>CN_Code</th>\n",
       "      <th>CPA_Code</th>\n",
       "      <th>CN_Section</th>\n",
       "      <th>CN_Level</th>\n",
       "      <th>Excl_removed</th>\n",
       "      <th>CN_Description_cleaned</th>\n",
       "      <th>Category_2</th>\n",
       "      <th>Category_1</th>\n",
       "      <th>Category_0</th>\n",
       "      <th>Predicted</th>\n",
       "    </tr>\n",
       "  </thead>\n",
       "  <tbody>\n",
       "    <tr>\n",
       "      <th>3775</th>\n",
       "      <td>25181000</td>\n",
       "      <td>08.11.30</td>\n",
       "      <td>2518 10 00</td>\n",
       "      <td>10</td>\n",
       "      <td>(excl. broken or crushed dolomite for concrete aggregates, road metalling or railway or other ballast), not calcined or not sintered, incl.</td>\n",
       "      <td>Crude dolomite dolomite roughly trimmed or merely cut, by sawing or otherwise, into blocks or slabs of a rectangular \"incl. square\" shape</td>\n",
       "      <td>08</td>\n",
       "      <td>B</td>\n",
       "      <td>2</td>\n",
       "      <td>C</td>\n",
       "    </tr>\n",
       "    <tr>\n",
       "      <th>7640</th>\n",
       "      <td>48025590</td>\n",
       "      <td>17.12.14</td>\n",
       "      <td>4802 55 90</td>\n",
       "      <td>10</td>\n",
       "      <td>, not containing fibres obtained by a mechanical or chemi-mechanical process or of which &lt;= 10% by weight of the total fibre content consists of such fibres, and weighing &gt;= 80 g but &lt;= 150 g/m², n.</td>\n",
       "      <td>Uncoated paper and paperboard, of a kind used for writing, printing or other graphic purposes, and non-perforated punchcards and punch-tape paper, in rolls of any sizee.s.</td>\n",
       "      <td>17</td>\n",
       "      <td>C</td>\n",
       "      <td>2</td>\n",
       "      <td>C</td>\n",
       "    </tr>\n",
       "    <tr>\n",
       "      <th>6579</th>\n",
       "      <td>39152000</td>\n",
       "      <td>38.11.55</td>\n",
       "      <td>3915 20 00</td>\n",
       "      <td>10</td>\n",
       "      <td></td>\n",
       "      <td>Waste, parings and scrap, of polymers of styrene</td>\n",
       "      <td>38</td>\n",
       "      <td>E</td>\n",
       "      <td>2</td>\n",
       "      <td>M</td>\n",
       "    </tr>\n",
       "    <tr>\n",
       "      <th>11520</th>\n",
       "      <td>73102119</td>\n",
       "      <td>25.92.11</td>\n",
       "      <td>7310 21 19</td>\n",
       "      <td>10</td>\n",
       "      <td></td>\n",
       "      <td>Cans of iron or steel, of a capacity of &lt; 50 l, which are to be closed by soldering or crimping, of a kind used for preserving drink</td>\n",
       "      <td>25</td>\n",
       "      <td>C</td>\n",
       "      <td>2</td>\n",
       "      <td>C</td>\n",
       "    </tr>\n",
       "    <tr>\n",
       "      <th>11012</th>\n",
       "      <td>72112900</td>\n",
       "      <td>24.32.10</td>\n",
       "      <td>7211 29 00</td>\n",
       "      <td>10</td>\n",
       "      <td>not clad, plated or coated, containing by weight &gt;= 0,25% of carbon</td>\n",
       "      <td>Flat-rolled products of iron or non-alloy steel, of a width of &lt; 600 mm, simply cold-rolled \"cold-reduced\",</td>\n",
       "      <td>24</td>\n",
       "      <td>C</td>\n",
       "      <td>2</td>\n",
       "      <td>C</td>\n",
       "    </tr>\n",
       "  </tbody>\n",
       "</table>\n",
       "</div>"
      ],
      "text/plain": [
       "        CN_Code  CPA_Code  CN_Section  CN_Level  \\\n",
       "3775   25181000  08.11.30  2518 10 00        10   \n",
       "7640   48025590  17.12.14  4802 55 90        10   \n",
       "6579   39152000  38.11.55  3915 20 00        10   \n",
       "11520  73102119  25.92.11  7310 21 19        10   \n",
       "11012  72112900  24.32.10  7211 29 00        10   \n",
       "\n",
       "                                                                                                                                                                                                 Excl_removed  \\\n",
       "3775                                                              (excl. broken or crushed dolomite for concrete aggregates, road metalling or railway or other ballast), not calcined or not sintered, incl.   \n",
       "7640   , not containing fibres obtained by a mechanical or chemi-mechanical process or of which <= 10% by weight of the total fibre content consists of such fibres, and weighing >= 80 g but <= 150 g/m², n.   \n",
       "6579                                                                                                                                                                                                            \n",
       "11520                                                                                                                                                                                                           \n",
       "11012                                                                                                                                     not clad, plated or coated, containing by weight >= 0,25% of carbon   \n",
       "\n",
       "                                                                                                                                                            CN_Description_cleaned  \\\n",
       "3775                                    Crude dolomite dolomite roughly trimmed or merely cut, by sawing or otherwise, into blocks or slabs of a rectangular \"incl. square\" shape    \n",
       "7640   Uncoated paper and paperboard, of a kind used for writing, printing or other graphic purposes, and non-perforated punchcards and punch-tape paper, in rolls of any sizee.s.   \n",
       "6579                                                                                                                              Waste, parings and scrap, of polymers of styrene   \n",
       "11520                                         Cans of iron or steel, of a capacity of < 50 l, which are to be closed by soldering or crimping, of a kind used for preserving drink   \n",
       "11012                                                                  Flat-rolled products of iron or non-alloy steel, of a width of < 600 mm, simply cold-rolled \"cold-reduced\",   \n",
       "\n",
       "      Category_2 Category_1 Category_0 Predicted  \n",
       "3775          08          B          2         C  \n",
       "7640          17          C          2         C  \n",
       "6579          38          E          2         M  \n",
       "11520         25          C          2         C  \n",
       "11012         24          C          2         C  "
      ]
     },
     "metadata": {},
     "output_type": "display_data"
    },
    {
     "name": "stdout",
     "output_type": "stream",
     "text": [
      "                   pre       rec       spe        f1       geo       iba       sup\n",
      "\n",
      "          A       0.00      0.00      1.00      0.00      0.00      0.00       594\n",
      "          B       0.00      0.00      1.00      0.00      0.00      0.00       106\n",
      "          C       0.91      0.89      0.08      0.90      0.26      0.07      8605\n",
      "          D       0.00      0.00      1.00      0.00      0.00      0.00         2\n",
      "          E       0.00      0.00      0.99      0.00      0.00      0.00       102\n",
      "          F       0.00      0.00      1.00      0.00      0.00      0.00         0\n",
      "          J       0.00      0.00      0.96      0.00      0.00      0.00        32\n",
      "          M       0.00      0.00      0.94      0.00      0.00      0.00         5\n",
      "          P       0.00      0.00      1.00      0.00      0.00      0.00         0\n",
      "          R       0.00      0.00      1.00      0.00      0.00      0.00         7\n",
      "          S       0.00      0.00      1.00      0.00      0.00      0.00         1\n",
      "\n",
      "avg / total       0.83      0.81      0.16      0.82      0.24      0.07      9454\n",
      "\n"
     ]
    },
    {
     "name": "stderr",
     "output_type": "stream",
     "text": [
      "/opt/conda/lib/python3.7/site-packages/sklearn/metrics/_classification.py:1221: UndefinedMetricWarning: Precision and F-score are ill-defined and being set to 0.0 in labels with no predicted samples. Use `zero_division` parameter to control this behavior.\n",
      "  _warn_prf(average, modifier, msg_start, len(result))\n",
      "/opt/conda/lib/python3.7/site-packages/sklearn/metrics/_classification.py:1221: UndefinedMetricWarning: Recall and F-score are ill-defined and being set to 0.0 in labels with no true samples. Use `zero_division` parameter to control this behavior.\n",
      "  _warn_prf(average, modifier, msg_start, len(result))\n",
      "/opt/conda/lib/python3.7/site-packages/sklearn/metrics/_classification.py:1221: UndefinedMetricWarning: Sensitivity is ill-defined and being set to 0.0 in labels with no true samples. Use `zero_division` parameter to control this behavior.\n",
      "  _warn_prf(average, modifier, msg_start, len(result))\n"
     ]
    }
   ],
   "source": [
    "#Create a Gaussian Classifier\n",
    "clf=RandomForestClassifier(n_estimators=100)\n",
    "\n",
    "this_cat = 'Category_1'\n",
    "\n",
    "#Train the model using the training sets \n",
    "X_train = np.array(list(df.Reduced_dim.values))\n",
    "y_train = np.array(list(df[this_cat].values))\n",
    "\n",
    "clf.fit(X_train,y_train)\n",
    "\n",
    "# we stick to the lowest level\n",
    "CN_test_df= CN[(CN.Category_2.notnull()) & (CN.CN_Level==10)]\n",
    "CN_test = np.array(list(CN_test_df[\"Reduced_dim\"].values))\n",
    "y_CN_pred=clf.predict(CN_test)\n",
    "\n",
    "y_CN_test = np.array(list(CN_test_df[this_cat]))\n",
    "# Model Accuracy, how often is the classifier correct?\n",
    "print(\"Accuracy:\",metrics.accuracy_score(y_CN_test, y_CN_pred))\n",
    "#CN_test_df['Predicted'] = pd.Series(data=y_CN_pred.tolist(), index=CN_test_df.index)\n",
    "\n",
    "Results = CN_test_df.drop(['Descr_cleaned_vectorized','Reduced_dim'],axis=1).copy()\n",
    "Results['Predicted'] = pd.Series(data=y_CN_pred.tolist(), index=CN_test_df.index)\n",
    "display(Results.sample(5))\n",
    "print(classification_report_imbalanced(y_CN_test, y_CN_pred))"
   ]
  },
  {
   "cell_type": "code",
   "execution_count": 14,
   "metadata": {},
   "outputs": [
    {
     "data": {
      "text/plain": [
       "<function imblearn.metrics._classification.classification_report_imbalanced(y_true, y_pred, *, labels=None, target_names=None, sample_weight=None, digits=2, alpha=0.1)>"
      ]
     },
     "execution_count": 14,
     "metadata": {},
     "output_type": "execute_result"
    }
   ],
   "source": [
    "classification_report_imbalanced"
   ]
  },
  {
   "cell_type": "code",
   "execution_count": 15,
   "metadata": {},
   "outputs": [
    {
     "name": "stdout",
     "output_type": "stream",
     "text": [
      "Test 3 Accuracy: 0.0239052253014597\n"
     ]
    },
    {
     "data": {
      "text/html": [
       "<div>\n",
       "<style scoped>\n",
       "    .dataframe tbody tr th:only-of-type {\n",
       "        vertical-align: middle;\n",
       "    }\n",
       "\n",
       "    .dataframe tbody tr th {\n",
       "        vertical-align: top;\n",
       "    }\n",
       "\n",
       "    .dataframe thead th {\n",
       "        text-align: right;\n",
       "    }\n",
       "</style>\n",
       "<table border=\"1\" class=\"dataframe\">\n",
       "  <thead>\n",
       "    <tr style=\"text-align: right;\">\n",
       "      <th></th>\n",
       "      <th>CN_Code</th>\n",
       "      <th>CPA_Code</th>\n",
       "      <th>CN_Section</th>\n",
       "      <th>CN_Level</th>\n",
       "      <th>Excl_removed</th>\n",
       "      <th>CN_Description_cleaned</th>\n",
       "      <th>Category_2</th>\n",
       "      <th>Category_1</th>\n",
       "      <th>Category_0</th>\n",
       "      <th>Predicted</th>\n",
       "    </tr>\n",
       "  </thead>\n",
       "  <tbody>\n",
       "    <tr>\n",
       "      <th>13897</th>\n",
       "      <td>84831050</td>\n",
       "      <td>28.15.22</td>\n",
       "      <td>8483 10 50</td>\n",
       "      <td>10</td>\n",
       "      <td></td>\n",
       "      <td>Articulated shafts</td>\n",
       "      <td>28</td>\n",
       "      <td>C</td>\n",
       "      <td>2</td>\n",
       "      <td>72</td>\n",
       "    </tr>\n",
       "    <tr>\n",
       "      <th>15063</th>\n",
       "      <td>87149610</td>\n",
       "      <td>30.92.30</td>\n",
       "      <td>8714 96 10</td>\n",
       "      <td>10</td>\n",
       "      <td></td>\n",
       "      <td>Pedals for bicycles</td>\n",
       "      <td>30</td>\n",
       "      <td>C</td>\n",
       "      <td>2</td>\n",
       "      <td>27</td>\n",
       "    </tr>\n",
       "    <tr>\n",
       "      <th>4203</th>\n",
       "      <td>28111200</td>\n",
       "      <td>20.13.24</td>\n",
       "      <td>2811 12 00</td>\n",
       "      <td>10</td>\n",
       "      <td></td>\n",
       "      <td>Hydrogen cyanide \"hydrocyanic acid\"</td>\n",
       "      <td>20</td>\n",
       "      <td>C</td>\n",
       "      <td>2</td>\n",
       "      <td>38</td>\n",
       "    </tr>\n",
       "    <tr>\n",
       "      <th>13253</th>\n",
       "      <td>84431970</td>\n",
       "      <td>28.99.14</td>\n",
       "      <td>8443 19 70</td>\n",
       "      <td>10</td>\n",
       "      <td>(excl. machinery for printing textile materials, those for use in the production of semiconductors, ink jet printing machines, hectograph or stencil duplicating machines, addressing machines and other office printing machines of heading 8469 to 8472 and offset, flexographic, letterpress and gravure printing machinery)</td>\n",
       "      <td>Printing machinery used for printing by means of plates, cylinders and other printing components of heading 8442</td>\n",
       "      <td>28</td>\n",
       "      <td>C</td>\n",
       "      <td>2</td>\n",
       "      <td>73</td>\n",
       "    </tr>\n",
       "    <tr>\n",
       "      <th>592</th>\n",
       "      <td>3031200</td>\n",
       "      <td>10.20.13</td>\n",
       "      <td>0303 12 00</td>\n",
       "      <td>10</td>\n",
       "      <td>(excl. sockeye salmon \"red salmon\")</td>\n",
       "      <td>Frozen Pacific salmon</td>\n",
       "      <td>10</td>\n",
       "      <td>C</td>\n",
       "      <td>2</td>\n",
       "      <td>14</td>\n",
       "    </tr>\n",
       "  </tbody>\n",
       "</table>\n",
       "</div>"
      ],
      "text/plain": [
       "        CN_Code  CPA_Code  CN_Section  CN_Level  \\\n",
       "13897  84831050  28.15.22  8483 10 50        10   \n",
       "15063  87149610  30.92.30  8714 96 10        10   \n",
       "4203   28111200  20.13.24  2811 12 00        10   \n",
       "13253  84431970  28.99.14  8443 19 70        10   \n",
       "592     3031200  10.20.13  0303 12 00        10   \n",
       "\n",
       "                                                                                                                                                                                                                                                                                                                          Excl_removed  \\\n",
       "13897                                                                                                                                                                                                                                                                                                                                    \n",
       "15063                                                                                                                                                                                                                                                                                                                                    \n",
       "4203                                                                                                                                                                                                                                                                                                                                     \n",
       "13253  (excl. machinery for printing textile materials, those for use in the production of semiconductors, ink jet printing machines, hectograph or stencil duplicating machines, addressing machines and other office printing machines of heading 8469 to 8472 and offset, flexographic, letterpress and gravure printing machinery)   \n",
       "592                                                                                                                                                                                                                                                                                                (excl. sockeye salmon \"red salmon\")   \n",
       "\n",
       "                                                                                                  CN_Description_cleaned  \\\n",
       "13897                                                                                                 Articulated shafts   \n",
       "15063                                                                                                Pedals for bicycles   \n",
       "4203                                                                                 Hydrogen cyanide \"hydrocyanic acid\"   \n",
       "13253  Printing machinery used for printing by means of plates, cylinders and other printing components of heading 8442    \n",
       "592                                                                                               Frozen Pacific salmon    \n",
       "\n",
       "      Category_2 Category_1 Category_0 Predicted  \n",
       "13897         28          C          2        72  \n",
       "15063         30          C          2        27  \n",
       "4203          20          C          2        38  \n",
       "13253         28          C          2        73  \n",
       "592           10          C          2        14  "
      ]
     },
     "metadata": {},
     "output_type": "display_data"
    },
    {
     "name": "stdout",
     "output_type": "stream",
     "text": [
      "                   pre       rec       spe        f1       geo       iba       sup\n",
      "\n",
      "         01       0.00      0.00      1.00      0.00      0.00      0.00       417\n",
      "         02       0.00      0.00      1.00      0.00      0.00      0.00        38\n",
      "         03       0.00      0.00      1.00      0.00      0.00      0.00       139\n",
      "         05       0.00      0.00      1.00      0.00      0.00      0.00         5\n",
      "         06       0.00      0.00      1.00      0.00      0.00      0.00         5\n",
      "         07       0.00      0.00      1.00      0.00      0.00      0.00        25\n",
      "         08       0.00      0.00      1.00      0.00      0.00      0.00        71\n",
      "         10       0.75      0.00      1.00      0.01      0.06      0.00      1748\n",
      "         11       0.00      0.00      1.00      0.00      0.00      0.00       216\n",
      "         12       0.00      0.00      1.00      0.00      0.00      0.00        16\n",
      "         13       0.00      0.00      1.00      0.00      0.00      0.00       731\n",
      "         14       0.01      0.03      0.92      0.02      0.15      0.02       358\n",
      "         15       0.00      0.00      1.00      0.00      0.00      0.00       172\n",
      "         16       0.00      0.00      1.00      0.00      0.00      0.00       208\n",
      "         17       0.00      0.00      0.96      0.00      0.00      0.00       185\n",
      "         18       0.00      0.00      1.00      0.00      0.00      0.00         1\n",
      "         19       0.00      0.00      1.00      0.00      0.00      0.00        79\n",
      "         20       0.05      0.00      0.99      0.01      0.06      0.00      1208\n",
      "         21       0.00      0.00      1.00      0.00      0.00      0.00       145\n",
      "         22       0.00      0.00      1.00      0.00      0.00      0.00       187\n",
      "         23       0.00      0.00      1.00      0.00      0.00      0.00       262\n",
      "         24       0.11      0.06      0.97      0.08      0.24      0.05       625\n",
      "         25       0.00      0.00      1.00      0.00      0.00      0.00       363\n",
      "         26       0.00      0.00      1.00      0.00      0.00      0.00       371\n",
      "         27       0.07      0.47      0.78      0.13      0.61      0.36       338\n",
      "         28       0.00      0.00      0.96      0.00      0.03      0.00       811\n",
      "         29       0.00      0.00      1.00      0.00      0.00      0.00       143\n",
      "         30       0.00      0.00      1.00      0.00      0.00      0.00       137\n",
      "         31       0.00      0.00      1.00      0.00      0.00      0.00        41\n",
      "         32       0.03      0.02      0.98      0.03      0.15      0.02       260\n",
      "         35       0.00      0.00      1.00      0.00      0.00      0.00         2\n",
      "         37       0.00      0.00      1.00      0.00      0.00      0.00         1\n",
      "         38       0.00      0.02      0.94      0.01      0.14      0.02       101\n",
      "         43       0.00      0.00      0.99      0.00      0.00      0.00         0\n",
      "         58       0.00      0.00      1.00      0.00      0.00      0.00        20\n",
      "         59       0.00      0.00      1.00      0.00      0.00      0.00        12\n",
      "         60       0.00      0.00      0.90      0.00      0.00      0.00         0\n",
      "         61       0.00      0.00      1.00      0.00      0.00      0.00         0\n",
      "         63       0.00      0.00      1.00      0.00      0.00      0.00         0\n",
      "         71       0.00      0.00      1.00      0.00      0.00      0.00         1\n",
      "         72       0.00      0.00      0.94      0.00      0.00      0.00         0\n",
      "         73       0.00      0.00      0.68      0.00      0.00      0.00         0\n",
      "         74       0.00      0.00      1.00      0.00      0.00      0.00         4\n",
      "         85       0.00      0.00      1.00      0.00      0.00      0.00         0\n",
      "         90       0.00      0.00      1.00      0.00      0.00      0.00         4\n",
      "         91       0.00      0.00      1.00      0.00      0.00      0.00         3\n",
      "         96       0.00      0.00      1.00      0.00      0.00      0.00         1\n",
      "\n",
      "avg / total       0.16      0.02      0.98      0.01      0.07      0.02      9454\n",
      "\n"
     ]
    },
    {
     "name": "stderr",
     "output_type": "stream",
     "text": [
      "/opt/conda/lib/python3.7/site-packages/sklearn/metrics/_classification.py:1221: UndefinedMetricWarning: Precision and F-score are ill-defined and being set to 0.0 in labels with no predicted samples. Use `zero_division` parameter to control this behavior.\n",
      "  _warn_prf(average, modifier, msg_start, len(result))\n",
      "/opt/conda/lib/python3.7/site-packages/sklearn/metrics/_classification.py:1221: UndefinedMetricWarning: Recall and F-score are ill-defined and being set to 0.0 in labels with no true samples. Use `zero_division` parameter to control this behavior.\n",
      "  _warn_prf(average, modifier, msg_start, len(result))\n",
      "/opt/conda/lib/python3.7/site-packages/sklearn/metrics/_classification.py:1221: UndefinedMetricWarning: Sensitivity is ill-defined and being set to 0.0 in labels with no true samples. Use `zero_division` parameter to control this behavior.\n",
      "  _warn_prf(average, modifier, msg_start, len(result))\n"
     ]
    }
   ],
   "source": [
    "this_cat = 'Category_2'\n",
    "\n",
    "#Train the model using the training sets \n",
    "X_train = np.array(list(df.Reduced_dim.values))\n",
    "y_train = np.array(list(df[this_cat].values))\n",
    "\n",
    "clf.fit(X_train,y_train)\n",
    "\n",
    "# we stick to the lowest level\n",
    "CN_test_df= CN[(CN.Category_2.notnull()) & (CN.CN_Level==10)]\n",
    "CN_test = np.array(list(CN_test_df[\"Reduced_dim\"].values))\n",
    "y_CN_pred=clf.predict(CN_test)\n",
    "\n",
    "y_CN_test = np.array(list(CN_test_df[this_cat]))\n",
    "# Model Accuracy, how often is the classifier correct?\n",
    "print(\"Test 3 Accuracy:\",metrics.accuracy_score(y_CN_test, y_CN_pred))\n",
    "\n",
    "Results = CN_test_df.drop(['Descr_cleaned_vectorized','Reduced_dim'],axis=1).copy()\n",
    "Results['Predicted'] = pd.Series(data=y_CN_pred.tolist(), index=CN_test_df.index)\n",
    "display(Results.sample(5))\n",
    "print(classification_report_imbalanced(y_CN_test, y_CN_pred))"
   ]
  },
  {
   "cell_type": "markdown",
   "metadata": {},
   "source": [
    "## Try again with Binary Classifier"
   ]
  },
  {
   "cell_type": "code",
   "execution_count": 67,
   "metadata": {},
   "outputs": [],
   "source": [
    "from sklearn.model_selection import train_test_split\n",
    "from sklearn.model_selection import cross_val_predict\n",
    "from sklearn.metrics import precision_recall_fscore_support\n",
    "from sklearn.metrics import roc_curve\n",
    "from sklearn.metrics import roc_auc_score"
   ]
  },
  {
   "cell_type": "code",
   "execution_count": 58,
   "metadata": {},
   "outputs": [
    {
     "data": {
      "text/plain": [
       "CN_Code        int64\n",
       "CPA_Code      object\n",
       "Category_0    object\n",
       "dtype: object"
      ]
     },
     "execution_count": 58,
     "metadata": {},
     "output_type": "execute_result"
    }
   ],
   "source": [
    "CN_test_df[['CN_Code', 'CPA_Code', 'Category_0']].dtypes"
   ]
  },
  {
   "cell_type": "code",
   "execution_count": 59,
   "metadata": {},
   "outputs": [
    {
     "data": {
      "text/plain": [
       "array(['1', '1', '1', ..., '10', '10', '10'], dtype=object)"
      ]
     },
     "execution_count": 59,
     "metadata": {},
     "output_type": "execute_result"
    }
   ],
   "source": [
    "np.array(CN_test_df[this_cat])"
   ]
  },
  {
   "cell_type": "code",
   "execution_count": 52,
   "metadata": {},
   "outputs": [
    {
     "data": {
      "text/plain": [
       "array(['1', '1', '1', ..., '10', '10', '10'], dtype='<U2')"
      ]
     },
     "execution_count": 52,
     "metadata": {},
     "output_type": "execute_result"
    }
   ],
   "source": [
    "y_CN_test"
   ]
  },
  {
   "cell_type": "code",
   "execution_count": 110,
   "metadata": {},
   "outputs": [
    {
     "data": {
      "text/html": [
       "<div>\n",
       "<style scoped>\n",
       "    .dataframe tbody tr th:only-of-type {\n",
       "        vertical-align: middle;\n",
       "    }\n",
       "\n",
       "    .dataframe tbody tr th {\n",
       "        vertical-align: top;\n",
       "    }\n",
       "\n",
       "    .dataframe thead th {\n",
       "        text-align: right;\n",
       "    }\n",
       "</style>\n",
       "<table border=\"1\" class=\"dataframe\">\n",
       "  <thead>\n",
       "    <tr style=\"text-align: right;\">\n",
       "      <th></th>\n",
       "      <th>CN_Code</th>\n",
       "      <th>CPA_Code</th>\n",
       "      <th>CN_Section</th>\n",
       "      <th>CN_Level</th>\n",
       "      <th>Excl_removed</th>\n",
       "      <th>CN_Description_cleaned</th>\n",
       "      <th>Category_2</th>\n",
       "      <th>Category_1</th>\n",
       "      <th>Category_0</th>\n",
       "      <th>Reduced_dim</th>\n",
       "      <th>Expected</th>\n",
       "      <th>Predicted</th>\n",
       "    </tr>\n",
       "  </thead>\n",
       "  <tbody>\n",
       "    <tr>\n",
       "      <th>3</th>\n",
       "      <td>1012100</td>\n",
       "      <td>01.43.11</td>\n",
       "      <td>0101 21 00</td>\n",
       "      <td>10</td>\n",
       "      <td></td>\n",
       "      <td>Pure-bred breeding horses</td>\n",
       "      <td>01</td>\n",
       "      <td>A</td>\n",
       "      <td>1</td>\n",
       "      <td>[4.371167182922363, 4.2713141441345215, 3.029484510421753, 3.2516627311706543, 1.0452690124511719, 2.8048088550567627, 0.957646369934082, 2.319648027420044, 4.587272644042969, 5.369235515594482]</td>\n",
       "      <td>False</td>\n",
       "      <td>True</td>\n",
       "    </tr>\n",
       "    <tr>\n",
       "      <th>6</th>\n",
       "      <td>1012910</td>\n",
       "      <td>01.43.11</td>\n",
       "      <td>0101 29 10</td>\n",
       "      <td>10</td>\n",
       "      <td></td>\n",
       "      <td>Horses for slaughter</td>\n",
       "      <td>01</td>\n",
       "      <td>A</td>\n",
       "      <td>1</td>\n",
       "      <td>[4.993223667144775, 4.722702980041504, 3.9171667098999023, 2.408440589904785, 1.7557017803192139, 3.532912015914917, 1.8845216035842896, 1.152524709701538, 2.9480128288269043, 3.4713973999023438]</td>\n",
       "      <td>False</td>\n",
       "      <td>True</td>\n",
       "    </tr>\n",
       "    <tr>\n",
       "      <th>7</th>\n",
       "      <td>1012990</td>\n",
       "      <td>01.43.11</td>\n",
       "      <td>0101 29 90</td>\n",
       "      <td>10</td>\n",
       "      <td>(excl. for slaughter, pure-bred for breeding)</td>\n",
       "      <td>Live horses</td>\n",
       "      <td>01</td>\n",
       "      <td>A</td>\n",
       "      <td>1</td>\n",
       "      <td>[7.885985851287842, 4.089168548583984, 0.7208231091499329, 0.6245003938674927, -2.365338087081909, 2.2572553157806396, 1.014506220817566, 1.0964590311050415, 2.9066412448883057, 4.793102264404297]</td>\n",
       "      <td>False</td>\n",
       "      <td>True</td>\n",
       "    </tr>\n",
       "    <tr>\n",
       "      <th>8</th>\n",
       "      <td>1013000</td>\n",
       "      <td>01.43.12</td>\n",
       "      <td>0101 30 00</td>\n",
       "      <td>10</td>\n",
       "      <td></td>\n",
       "      <td>Live asses</td>\n",
       "      <td>01</td>\n",
       "      <td>A</td>\n",
       "      <td>1</td>\n",
       "      <td>[7.888180255889893, 4.088168621063232, 0.7192676663398743, 0.6175832748413086, -2.367185592651367, 2.2566211223602295, 1.0143322944641113, 1.098036766052246, 2.9084677696228027, 4.7963738441467285]</td>\n",
       "      <td>False</td>\n",
       "      <td>True</td>\n",
       "    </tr>\n",
       "    <tr>\n",
       "      <th>10</th>\n",
       "      <td>1019000</td>\n",
       "      <td>01.43.12</td>\n",
       "      <td>0101 90 00</td>\n",
       "      <td>10</td>\n",
       "      <td></td>\n",
       "      <td>Live mules and hinnies</td>\n",
       "      <td>01</td>\n",
       "      <td>A</td>\n",
       "      <td>1</td>\n",
       "      <td>[7.760809421539307, 4.844364643096924, 1.0845295190811157, 2.903223991394043, -2.7435245513916016, 1.3028923273086548, 0.5737646818161011, 0.4076416492462158, 1.9680979251861572, 4.820626735687256]</td>\n",
       "      <td>False</td>\n",
       "      <td>True</td>\n",
       "    </tr>\n",
       "    <tr>\n",
       "      <th>...</th>\n",
       "      <td>...</td>\n",
       "      <td>...</td>\n",
       "      <td>...</td>\n",
       "      <td>...</td>\n",
       "      <td>...</td>\n",
       "      <td>...</td>\n",
       "      <td>...</td>\n",
       "      <td>...</td>\n",
       "      <td>...</td>\n",
       "      <td>...</td>\n",
       "      <td>...</td>\n",
       "      <td>...</td>\n",
       "    </tr>\n",
       "    <tr>\n",
       "      <th>16196</th>\n",
       "      <td>97020000</td>\n",
       "      <td>90.03.13</td>\n",
       "      <td>9702 00 00</td>\n",
       "      <td>10</td>\n",
       "      <td></td>\n",
       "      <td>Original engravings, prints and lithographs</td>\n",
       "      <td>90</td>\n",
       "      <td>R</td>\n",
       "      <td>10</td>\n",
       "      <td>[3.354680061340332, 3.977051258087158, 2.4024713039398193, 2.675119638442993, 1.9343726634979248, 4.1116132736206055, 2.7841665744781494, 1.1603434085845947, -0.6579230427742004, 3.4041452407836914]</td>\n",
       "      <td>False</td>\n",
       "      <td>False</td>\n",
       "    </tr>\n",
       "    <tr>\n",
       "      <th>16199</th>\n",
       "      <td>97030000</td>\n",
       "      <td>90.03.13</td>\n",
       "      <td>9703 00 00</td>\n",
       "      <td>10</td>\n",
       "      <td></td>\n",
       "      <td>Original sculptures and statuary, in any material</td>\n",
       "      <td>90</td>\n",
       "      <td>R</td>\n",
       "      <td>10</td>\n",
       "      <td>[2.979419708251953, 3.0503387451171875, 3.7242374420166016, 3.3472957611083984, 4.06452751159668, 3.0019617080688477, 2.8378853797912598, 0.2262466847896576, -0.749163806438446, 3.4150054454803467]</td>\n",
       "      <td>False</td>\n",
       "      <td>True</td>\n",
       "    </tr>\n",
       "    <tr>\n",
       "      <th>16200</th>\n",
       "      <td>97040000</td>\n",
       "      <td>91.02.20</td>\n",
       "      <td>9704 00 00</td>\n",
       "      <td>10</td>\n",
       "      <td>not of current or new issue in which they have, or will have, a recognised face value</td>\n",
       "      <td>Postage or revenue stamps, stamp-postmarks, first-day covers, postal stationery, stamped paper and the like, used, or if unused,</td>\n",
       "      <td>91</td>\n",
       "      <td>R</td>\n",
       "      <td>10</td>\n",
       "      <td>[3.4894795417785645, 4.183339595794678, 2.3391225337982178, 2.442664384841919, 2.3472044467926025, 4.3478593826293945, 2.925283193588257, 1.1007142066955566, -0.9359190464019775, 3.608502149581909]</td>\n",
       "      <td>False</td>\n",
       "      <td>True</td>\n",
       "    </tr>\n",
       "    <tr>\n",
       "      <th>16204</th>\n",
       "      <td>97050000</td>\n",
       "      <td>91.02.20</td>\n",
       "      <td>9705 00 00</td>\n",
       "      <td>10</td>\n",
       "      <td></td>\n",
       "      <td>Collections and collector's pieces of zoological, botanical, mineralogical, anatomical, historical, archaeological, palaeontological, ethnographic or numismatic interest</td>\n",
       "      <td>91</td>\n",
       "      <td>R</td>\n",
       "      <td>10</td>\n",
       "      <td>[3.390747308731079, 4.085256099700928, 2.4493229389190674, 2.4739294052124023, 1.9800584316253662, 3.850285291671753, 2.9312877655029297, 1.2311877012252808, -0.27771446108818054, 3.482422351837158]</td>\n",
       "      <td>False</td>\n",
       "      <td>True</td>\n",
       "    </tr>\n",
       "    <tr>\n",
       "      <th>16206</th>\n",
       "      <td>97060000</td>\n",
       "      <td>91.02.20</td>\n",
       "      <td>9706 00 00</td>\n",
       "      <td>10</td>\n",
       "      <td></td>\n",
       "      <td>Antiques of &gt; 100 years old</td>\n",
       "      <td>91</td>\n",
       "      <td>R</td>\n",
       "      <td>10</td>\n",
       "      <td>[4.324184894561768, 3.4287986755371094, 5.617820739746094, 2.3553004264831543, -2.6092348098754883, 1.3394602537155151, 0.0029648987110704184, 3.468628406524658, 5.873342037200928, 3.3538763523101807]</td>\n",
       "      <td>False</td>\n",
       "      <td>True</td>\n",
       "    </tr>\n",
       "  </tbody>\n",
       "</table>\n",
       "<p>9454 rows × 12 columns</p>\n",
       "</div>"
      ],
      "text/plain": [
       "        CN_Code  CPA_Code  CN_Section  CN_Level  \\\n",
       "3       1012100  01.43.11  0101 21 00        10   \n",
       "6       1012910  01.43.11  0101 29 10        10   \n",
       "7       1012990  01.43.11  0101 29 90        10   \n",
       "8       1013000  01.43.12  0101 30 00        10   \n",
       "10      1019000  01.43.12  0101 90 00        10   \n",
       "...         ...       ...         ...       ...   \n",
       "16196  97020000  90.03.13  9702 00 00        10   \n",
       "16199  97030000  90.03.13  9703 00 00        10   \n",
       "16200  97040000  91.02.20  9704 00 00        10   \n",
       "16204  97050000  91.02.20  9705 00 00        10   \n",
       "16206  97060000  91.02.20  9706 00 00        10   \n",
       "\n",
       "                                                                                 Excl_removed  \\\n",
       "3                                                                                               \n",
       "6                                                                                               \n",
       "7                                               (excl. for slaughter, pure-bred for breeding)   \n",
       "8                                                                                               \n",
       "10                                                                                              \n",
       "...                                                                                       ...   \n",
       "16196                                                                                           \n",
       "16199                                                                                           \n",
       "16200   not of current or new issue in which they have, or will have, a recognised face value   \n",
       "16204                                                                                           \n",
       "16206                                                                                           \n",
       "\n",
       "                                                                                                                                                          CN_Description_cleaned  \\\n",
       "3                                                                                                                                                      Pure-bred breeding horses   \n",
       "6                                                                                                                                                           Horses for slaughter   \n",
       "7                                                                                                                                                                   Live horses    \n",
       "8                                                                                                                                                                     Live asses   \n",
       "10                                                                                                                                                        Live mules and hinnies   \n",
       "...                                                                                                                                                                          ...   \n",
       "16196                                                                                                                                Original engravings, prints and lithographs   \n",
       "16199                                                                                                                          Original sculptures and statuary, in any material   \n",
       "16200                                           Postage or revenue stamps, stamp-postmarks, first-day covers, postal stationery, stamped paper and the like, used, or if unused,   \n",
       "16204  Collections and collector's pieces of zoological, botanical, mineralogical, anatomical, historical, archaeological, palaeontological, ethnographic or numismatic interest   \n",
       "16206                                                                                                                                                Antiques of > 100 years old   \n",
       "\n",
       "      Category_2 Category_1 Category_0  \\\n",
       "3             01          A          1   \n",
       "6             01          A          1   \n",
       "7             01          A          1   \n",
       "8             01          A          1   \n",
       "10            01          A          1   \n",
       "...          ...        ...        ...   \n",
       "16196         90          R         10   \n",
       "16199         90          R         10   \n",
       "16200         91          R         10   \n",
       "16204         91          R         10   \n",
       "16206         91          R         10   \n",
       "\n",
       "                                                                                                                                                                                                    Reduced_dim  \\\n",
       "3            [4.371167182922363, 4.2713141441345215, 3.029484510421753, 3.2516627311706543, 1.0452690124511719, 2.8048088550567627, 0.957646369934082, 2.319648027420044, 4.587272644042969, 5.369235515594482]   \n",
       "6           [4.993223667144775, 4.722702980041504, 3.9171667098999023, 2.408440589904785, 1.7557017803192139, 3.532912015914917, 1.8845216035842896, 1.152524709701538, 2.9480128288269043, 3.4713973999023438]   \n",
       "7          [7.885985851287842, 4.089168548583984, 0.7208231091499329, 0.6245003938674927, -2.365338087081909, 2.2572553157806396, 1.014506220817566, 1.0964590311050415, 2.9066412448883057, 4.793102264404297]   \n",
       "8         [7.888180255889893, 4.088168621063232, 0.7192676663398743, 0.6175832748413086, -2.367185592651367, 2.2566211223602295, 1.0143322944641113, 1.098036766052246, 2.9084677696228027, 4.7963738441467285]   \n",
       "10        [7.760809421539307, 4.844364643096924, 1.0845295190811157, 2.903223991394043, -2.7435245513916016, 1.3028923273086548, 0.5737646818161011, 0.4076416492462158, 1.9680979251861572, 4.820626735687256]   \n",
       "...                                                                                                                                                                                                         ...   \n",
       "16196    [3.354680061340332, 3.977051258087158, 2.4024713039398193, 2.675119638442993, 1.9343726634979248, 4.1116132736206055, 2.7841665744781494, 1.1603434085845947, -0.6579230427742004, 3.4041452407836914]   \n",
       "16199     [2.979419708251953, 3.0503387451171875, 3.7242374420166016, 3.3472957611083984, 4.06452751159668, 3.0019617080688477, 2.8378853797912598, 0.2262466847896576, -0.749163806438446, 3.4150054454803467]   \n",
       "16200     [3.4894795417785645, 4.183339595794678, 2.3391225337982178, 2.442664384841919, 2.3472044467926025, 4.3478593826293945, 2.925283193588257, 1.1007142066955566, -0.9359190464019775, 3.608502149581909]   \n",
       "16204    [3.390747308731079, 4.085256099700928, 2.4493229389190674, 2.4739294052124023, 1.9800584316253662, 3.850285291671753, 2.9312877655029297, 1.2311877012252808, -0.27771446108818054, 3.482422351837158]   \n",
       "16206  [4.324184894561768, 3.4287986755371094, 5.617820739746094, 2.3553004264831543, -2.6092348098754883, 1.3394602537155151, 0.0029648987110704184, 3.468628406524658, 5.873342037200928, 3.3538763523101807]   \n",
       "\n",
       "       Expected  Predicted  \n",
       "3         False       True  \n",
       "6         False       True  \n",
       "7         False       True  \n",
       "8         False       True  \n",
       "10        False       True  \n",
       "...         ...        ...  \n",
       "16196     False      False  \n",
       "16199     False       True  \n",
       "16200     False       True  \n",
       "16204     False       True  \n",
       "16206     False       True  \n",
       "\n",
       "[9454 rows x 12 columns]"
      ]
     },
     "execution_count": 110,
     "metadata": {},
     "output_type": "execute_result"
    }
   ],
   "source": [
    "this_cat = 'Category_0'\n",
    "\n",
    "#Train the model using the training sets \n",
    "X_train = np.array(list(df.Reduced_dim_supervised.values))\n",
    "y_train_BE = (df[this_cat]=='2')\n",
    "\n",
    "\n",
    "bin_forest_clf = RandomForestClassifier(random_state=42)\n",
    "bin_forest_clf.fit(X_train,y_train_BE)\n",
    "\n",
    "CN_test_df= CN[(CN.Category_2.notnull()) & (CN.CN_Level==10)]\n",
    "CN_test = np.array(list(CN_test_df[\"Reduced_dim\"].values))\n",
    "y_CN_pred=bin_forest_clf.predict(CN_test)\n",
    "\n",
    "Results = CN_test_df.drop(['Descr_cleaned_vectorized'],axis=1).copy()\n",
    "Results['Expected'] = (Results[this_cat]=='2')\n",
    "Results['Predicted'] = pd.Series(data=y_CN_pred2.tolist(), index=CN_test_df.index)\n",
    "print(precision_recall_fscore_support(Results.Expected,  np.array(Results.Predicted), pos_label=True, average='binary'))\n",
    "dispaly(Results.sample())\n"
   ]
  },
  {
   "cell_type": "code",
   "execution_count": 111,
   "metadata": {},
   "outputs": [
    {
     "data": {
      "text/plain": [
       "(0.9249356065252055, 0.8554736245036869, 0.8888495992456389, None)"
      ]
     },
     "execution_count": 111,
     "metadata": {},
     "output_type": "execute_result"
    }
   ],
   "source": []
  },
  {
   "cell_type": "code",
   "execution_count": 104,
   "metadata": {},
   "outputs": [
    {
     "data": {
      "text/plain": [
       "348     False\n",
       "349     False\n",
       "352     False\n",
       "353     False\n",
       "357     False\n",
       "        ...  \n",
       "3456    False\n",
       "3457    False\n",
       "3458    False\n",
       "3459    False\n",
       "3460    False\n",
       "Name: Category_1, Length: 2702, dtype: bool"
      ]
     },
     "execution_count": 104,
     "metadata": {},
     "output_type": "execute_result"
    }
   ],
   "source": [
    "df_tmp = df[df.Category_0=='2'].drop('Descr_cleaned_vectorized', axis=1).copy()\n",
    "X_train = np.array(list(df_tmp.Reduced_dim_supervised.values))\n",
    "y_train_C = (df_tmp[this_cat] =='C')\n",
    "y_train_C"
   ]
  },
  {
   "cell_type": "code",
   "execution_count": 119,
   "metadata": {},
   "outputs": [
    {
     "name": "stdout",
     "output_type": "stream",
     "text": [
      "(0.9069054335827302, 0.8592678675188844, 0.8824442057524765, None)\n"
     ]
    }
   ],
   "source": [
    "\n",
    "this_cat = 'Category_1'\n",
    "\n",
    "#Train the model using the training sets \n",
    "df_tmp = df[df.Category_0=='2'].copy()\n",
    "X_train = np.array(list(df_tmp.Reduced_dim_supervised.values))\n",
    "y_train_C = (df_tmp[this_cat] =='C')\n",
    "\n",
    "\n",
    "bin_forest_clf = RandomForestClassifier(random_state=42)\n",
    "bin_forest_clf.fit(X_train,y_train_C)\n",
    "\n",
    "CN_test_df2= Results[Results.Predicted==True]\n",
    "\n",
    "CN_test2 = np.array(list(CN_test_df2[\"Reduced_dim\"].values))\n",
    "y_CN_pred=bin_forest_clf.predict(CN_test)\n",
    "\n",
    "Results2 = CN_test_df.drop(['Descr_cleaned_vectorized'],axis=1).copy()\n",
    "Results2['Expected'] = (Results2[this_cat]=='C')\n",
    "Results2['Predicted'] = pd.Series(data=y_CN_pred2.tolist(), index=CN_test_df.index)\n",
    "print(precision_recall_fscore_support(Results2.Expected,  np.array(Results2.Predicted), pos_label=True, average='binary'))\n",
    "#Results2"
   ]
  },
  {
   "cell_type": "markdown",
   "metadata": {},
   "source": [
    "## Finally, do multi class random forest for \"C\""
   ]
  },
  {
   "cell_type": "code",
   "execution_count": 128,
   "metadata": {},
   "outputs": [],
   "source": [
    "this_cat = 'Category_2'\n",
    "\n",
    "#Train the model using the training sets \n",
    "df_tmp = df[df.Category_1=='C'].copy()\n",
    "X_train = np.array(list(df_tmp.Reduced_dim_supervised.values))\n",
    "y_train = (df_tmp[this_cat])\n",
    "\n",
    "clf.fit(X_train,y_train)\n",
    "\n",
    "# we stick to the lowest level\n",
    "CN_test_df3= Results2[Results2.Predicted==True]\n",
    "CN_test3 = np.array(list(CN_test_df3[\"Reduced_dim\"].values))\n",
    "\n",
    "y_CN_test3 = (CN_test_df3.Category_2)\n",
    "\n",
    "y_CN_pred3=clf.predict(CN_test3)\n",
    "\n",
    "\n",
    "Prediction = CN_test_df3.drop(['Reduced_dim'],axis=1).copy()\n",
    "Prediction['Predicted'] = pd.Series(data=y_CN_pred3.tolist(), index=CN_test_df3.index)\n",
    "\n",
    "#print(classification_report_imbalanced(y_CN_test3, y_CN_pred3))"
   ]
  },
  {
   "cell_type": "code",
   "execution_count": 125,
   "metadata": {},
   "outputs": [
    {
     "data": {
      "text/html": [
       "<div>\n",
       "<style scoped>\n",
       "    .dataframe tbody tr th:only-of-type {\n",
       "        vertical-align: middle;\n",
       "    }\n",
       "\n",
       "    .dataframe tbody tr th {\n",
       "        vertical-align: top;\n",
       "    }\n",
       "\n",
       "    .dataframe thead th {\n",
       "        text-align: right;\n",
       "    }\n",
       "</style>\n",
       "<table border=\"1\" class=\"dataframe\">\n",
       "  <thead>\n",
       "    <tr style=\"text-align: right;\">\n",
       "      <th></th>\n",
       "      <th>CN_Code</th>\n",
       "      <th>CPA_Code</th>\n",
       "      <th>CN_Section</th>\n",
       "      <th>CN_Level</th>\n",
       "      <th>Excl_removed</th>\n",
       "      <th>CN_Description_cleaned</th>\n",
       "      <th>Category_2</th>\n",
       "      <th>Category_1</th>\n",
       "      <th>Category_0</th>\n",
       "      <th>Expected</th>\n",
       "      <th>Predicted</th>\n",
       "    </tr>\n",
       "  </thead>\n",
       "  <tbody>\n",
       "    <tr>\n",
       "      <th>1708</th>\n",
       "      <td>8051022</td>\n",
       "      <td>01.23.13</td>\n",
       "      <td>0805 10 22</td>\n",
       "      <td>10</td>\n",
       "      <td></td>\n",
       "      <td>Fresh navel oranges</td>\n",
       "      <td>01</td>\n",
       "      <td>A</td>\n",
       "      <td>1</td>\n",
       "      <td>False</td>\n",
       "      <td>10</td>\n",
       "    </tr>\n",
       "    <tr>\n",
       "      <th>15726</th>\n",
       "      <td>92029080</td>\n",
       "      <td>32.20.12</td>\n",
       "      <td>9202 90 80</td>\n",
       "      <td>10</td>\n",
       "      <td>(excl. with keyboard, those played with a bow and guitars)</td>\n",
       "      <td>Mandolins, zithers and other string musical instruments</td>\n",
       "      <td>32</td>\n",
       "      <td>C</td>\n",
       "      <td>2</td>\n",
       "      <td>True</td>\n",
       "      <td>33</td>\n",
       "    </tr>\n",
       "    <tr>\n",
       "      <th>13735</th>\n",
       "      <td>84749090</td>\n",
       "      <td>28.92.62</td>\n",
       "      <td>8474 90 90</td>\n",
       "      <td>10</td>\n",
       "      <td>(excl. of cast iron or cast steel)</td>\n",
       "      <td>Parts of machinery of heading 8474</td>\n",
       "      <td>28</td>\n",
       "      <td>C</td>\n",
       "      <td>2</td>\n",
       "      <td>True</td>\n",
       "      <td>33</td>\n",
       "    </tr>\n",
       "    <tr>\n",
       "      <th>12978</th>\n",
       "      <td>84269190</td>\n",
       "      <td>28.22.14</td>\n",
       "      <td>8426 91 90</td>\n",
       "      <td>10</td>\n",
       "      <td>(excl. hydraulic cranes designed for the loading and unloading of vehicles)</td>\n",
       "      <td>Cranes designed for mounting on road vehicles</td>\n",
       "      <td>28</td>\n",
       "      <td>C</td>\n",
       "      <td>2</td>\n",
       "      <td>True</td>\n",
       "      <td>33</td>\n",
       "    </tr>\n",
       "    <tr>\n",
       "      <th>4803</th>\n",
       "      <td>29062100</td>\n",
       "      <td>20.14.23</td>\n",
       "      <td>2906 21 00</td>\n",
       "      <td>10</td>\n",
       "      <td></td>\n",
       "      <td>Benzyl alcohol</td>\n",
       "      <td>20</td>\n",
       "      <td>C</td>\n",
       "      <td>2</td>\n",
       "      <td>True</td>\n",
       "      <td>32</td>\n",
       "    </tr>\n",
       "  </tbody>\n",
       "</table>\n",
       "</div>"
      ],
      "text/plain": [
       "        CN_Code  CPA_Code  CN_Section  CN_Level  \\\n",
       "1708    8051022  01.23.13  0805 10 22        10   \n",
       "15726  92029080  32.20.12  9202 90 80        10   \n",
       "13735  84749090  28.92.62  8474 90 90        10   \n",
       "12978  84269190  28.22.14  8426 91 90        10   \n",
       "4803   29062100  20.14.23  2906 21 00        10   \n",
       "\n",
       "                                                                      Excl_removed  \\\n",
       "1708                                                                                 \n",
       "15726                   (excl. with keyboard, those played with a bow and guitars)   \n",
       "13735                                           (excl. of cast iron or cast steel)   \n",
       "12978  (excl. hydraulic cranes designed for the loading and unloading of vehicles)   \n",
       "4803                                                                                 \n",
       "\n",
       "                                         CN_Description_cleaned Category_2  \\\n",
       "1708                                        Fresh navel oranges         01   \n",
       "15726  Mandolins, zithers and other string musical instruments          32   \n",
       "13735                       Parts of machinery of heading 8474          28   \n",
       "12978            Cranes designed for mounting on road vehicles          28   \n",
       "4803                                             Benzyl alcohol         20   \n",
       "\n",
       "      Category_1 Category_0  Expected Predicted  \n",
       "1708           A          1     False        10  \n",
       "15726          C          2      True        33  \n",
       "13735          C          2      True        33  \n",
       "12978          C          2      True        33  \n",
       "4803           C          2      True        32  "
      ]
     },
     "metadata": {},
     "output_type": "display_data"
    }
   ],
   "source": [
    "display(Prediction.sample(5))"
   ]
  },
  {
   "cell_type": "markdown",
   "metadata": {},
   "source": [
    "## Try the binary clasifier for each C value"
   ]
  },
  {
   "cell_type": "code",
   "execution_count": 129,
   "metadata": {},
   "outputs": [
    {
     "data": {
      "text/plain": [
       "array(['10', '11', '12', '13', '14', '15', '16', '17', '18', '19', '20',\n",
       "       '21', '22', '23', '24', '25', '26', '27', '28', '29', '30', '31',\n",
       "       '32', '33'], dtype=object)"
      ]
     },
     "execution_count": 129,
     "metadata": {},
     "output_type": "execute_result"
    }
   ],
   "source": [
    "df_tmp = df[df.Category_1=='C'].copy()\n"
   ]
  },
  {
   "cell_type": "code",
   "execution_count": 188,
   "metadata": {},
   "outputs": [
    {
     "name": "stderr",
     "output_type": "stream",
     "text": [
      "/opt/conda/lib/python3.7/site-packages/sklearn/metrics/_classification.py:1221: UndefinedMetricWarning: Precision and F-score are ill-defined and being set to 0.0 due to no predicted samples. Use `zero_division` parameter to control this behavior.\n",
      "  _warn_prf(average, modifier, msg_start, len(result))\n"
     ]
    },
    {
     "name": "stdout",
     "output_type": "stream",
     "text": [
      "Results for  10 \n",
      " (0.0, 0.0, 0.0, None)\n",
      "number predicted correctly : 0  number missed : 1710\n"
     ]
    },
    {
     "name": "stderr",
     "output_type": "stream",
     "text": [
      "/opt/conda/lib/python3.7/site-packages/sklearn/metrics/_classification.py:1221: UndefinedMetricWarning: Precision and F-score are ill-defined and being set to 0.0 due to no predicted samples. Use `zero_division` parameter to control this behavior.\n",
      "  _warn_prf(average, modifier, msg_start, len(result))\n"
     ]
    },
    {
     "name": "stdout",
     "output_type": "stream",
     "text": [
      "Results for  11 \n",
      " (0.0, 0.0, 0.0, None)\n",
      "number predicted correctly : 0  number missed : 209\n",
      "Results for  12 \n",
      " (0.0, 0.0, 0.0, None)\n",
      "number predicted correctly : 0  number missed : 16\n"
     ]
    },
    {
     "name": "stderr",
     "output_type": "stream",
     "text": [
      "/opt/conda/lib/python3.7/site-packages/sklearn/metrics/_classification.py:1221: UndefinedMetricWarning: Precision and F-score are ill-defined and being set to 0.0 due to no predicted samples. Use `zero_division` parameter to control this behavior.\n",
      "  _warn_prf(average, modifier, msg_start, len(result))\n"
     ]
    },
    {
     "name": "stdout",
     "output_type": "stream",
     "text": [
      "Results for  13 \n",
      " (0.0, 0.0, 0.0, None)\n",
      "number predicted correctly : 0  number missed : 612\n"
     ]
    },
    {
     "name": "stderr",
     "output_type": "stream",
     "text": [
      "/opt/conda/lib/python3.7/site-packages/sklearn/metrics/_classification.py:1221: UndefinedMetricWarning: Precision and F-score are ill-defined and being set to 0.0 due to no predicted samples. Use `zero_division` parameter to control this behavior.\n",
      "  _warn_prf(average, modifier, msg_start, len(result))\n"
     ]
    },
    {
     "name": "stdout",
     "output_type": "stream",
     "text": [
      "Results for  14 \n",
      " (0.0, 0.0, 0.0, None)\n",
      "number predicted correctly : 0  number missed : 348\n",
      "Results for  15 \n",
      " (0.0, 0.0, 0.0, None)\n",
      "number predicted correctly : 0  number missed : 154\n"
     ]
    },
    {
     "name": "stderr",
     "output_type": "stream",
     "text": [
      "/opt/conda/lib/python3.7/site-packages/sklearn/metrics/_classification.py:1221: UndefinedMetricWarning: Precision and F-score are ill-defined and being set to 0.0 due to no predicted samples. Use `zero_division` parameter to control this behavior.\n",
      "  _warn_prf(average, modifier, msg_start, len(result))\n"
     ]
    },
    {
     "name": "stdout",
     "output_type": "stream",
     "text": [
      "Results for  16 \n",
      " (0.0, 0.0, 0.0, None)\n",
      "number predicted correctly : 0  number missed : 160\n",
      "Results for  17 \n",
      " (0.03466557911908646, 0.46195652173913043, 0.0644916540212443, None)\n",
      "number predicted correctly : 85  number missed : 99\n"
     ]
    },
    {
     "name": "stderr",
     "output_type": "stream",
     "text": [
      "/opt/conda/lib/python3.7/site-packages/sklearn/metrics/_classification.py:1221: UndefinedMetricWarning: Recall and F-score are ill-defined and being set to 0.0 due to no true samples. Use `zero_division` parameter to control this behavior.\n",
      "  _warn_prf(average, modifier, msg_start, len(result))\n"
     ]
    },
    {
     "name": "stdout",
     "output_type": "stream",
     "text": [
      "Results for  18 \n",
      " (0.0, 0.0, 0.0, None)\n",
      "number predicted correctly : 0  number missed : 0\n",
      "Results for  19 \n",
      " (0.0, 0.0, 0.0, None)\n",
      "number predicted correctly : 0  number missed : 76\n",
      "Results for  20 \n",
      " (0.0, 0.0, 0.0, None)\n",
      "number predicted correctly : 0  number missed : 1137\n"
     ]
    },
    {
     "name": "stderr",
     "output_type": "stream",
     "text": [
      "/opt/conda/lib/python3.7/site-packages/sklearn/metrics/_classification.py:1221: UndefinedMetricWarning: Precision and F-score are ill-defined and being set to 0.0 due to no predicted samples. Use `zero_division` parameter to control this behavior.\n",
      "  _warn_prf(average, modifier, msg_start, len(result))\n"
     ]
    },
    {
     "name": "stdout",
     "output_type": "stream",
     "text": [
      "Results for  21 \n",
      " (0.0, 0.0, 0.0, None)\n",
      "number predicted correctly : 0  number missed : 135\n"
     ]
    },
    {
     "name": "stderr",
     "output_type": "stream",
     "text": [
      "/opt/conda/lib/python3.7/site-packages/sklearn/metrics/_classification.py:1221: UndefinedMetricWarning: Precision and F-score are ill-defined and being set to 0.0 due to no predicted samples. Use `zero_division` parameter to control this behavior.\n",
      "  _warn_prf(average, modifier, msg_start, len(result))\n"
     ]
    },
    {
     "name": "stdout",
     "output_type": "stream",
     "text": [
      "Results for  22 \n",
      " (0.0, 0.0, 0.0, None)\n",
      "number predicted correctly : 0  number missed : 151\n",
      "Results for  23 \n",
      " (0.0, 0.0, 0.0, None)\n",
      "number predicted correctly : 0  number missed : 180\n"
     ]
    },
    {
     "name": "stderr",
     "output_type": "stream",
     "text": [
      "/opt/conda/lib/python3.7/site-packages/sklearn/metrics/_classification.py:1221: UndefinedMetricWarning: Precision and F-score are ill-defined and being set to 0.0 due to no predicted samples. Use `zero_division` parameter to control this behavior.\n",
      "  _warn_prf(average, modifier, msg_start, len(result))\n"
     ]
    },
    {
     "name": "stdout",
     "output_type": "stream",
     "text": [
      "Results for  24 \n",
      " (0.0, 0.0, 0.0, None)\n",
      "number predicted correctly : 0  number missed : 281\n"
     ]
    },
    {
     "name": "stderr",
     "output_type": "stream",
     "text": [
      "/opt/conda/lib/python3.7/site-packages/sklearn/metrics/_classification.py:1221: UndefinedMetricWarning: Precision and F-score are ill-defined and being set to 0.0 due to no predicted samples. Use `zero_division` parameter to control this behavior.\n",
      "  _warn_prf(average, modifier, msg_start, len(result))\n"
     ]
    },
    {
     "name": "stdout",
     "output_type": "stream",
     "text": [
      "Results for  25 \n",
      " (0.0, 0.0, 0.0, None)\n",
      "number predicted correctly : 0  number missed : 197\n"
     ]
    },
    {
     "name": "stderr",
     "output_type": "stream",
     "text": [
      "/opt/conda/lib/python3.7/site-packages/sklearn/metrics/_classification.py:1221: UndefinedMetricWarning: Precision and F-score are ill-defined and being set to 0.0 due to no predicted samples. Use `zero_division` parameter to control this behavior.\n",
      "  _warn_prf(average, modifier, msg_start, len(result))\n"
     ]
    },
    {
     "name": "stdout",
     "output_type": "stream",
     "text": [
      "Results for  26 \n",
      " (0.0, 0.0, 0.0, None)\n",
      "number predicted correctly : 0  number missed : 362\n",
      "Results for  27 \n",
      " (0.5, 0.06129032258064516, 0.10919540229885057, None)\n",
      "number predicted correctly : 19  number missed : 291\n"
     ]
    },
    {
     "name": "stderr",
     "output_type": "stream",
     "text": [
      "/opt/conda/lib/python3.7/site-packages/sklearn/metrics/_classification.py:1221: UndefinedMetricWarning: Precision and F-score are ill-defined and being set to 0.0 due to no predicted samples. Use `zero_division` parameter to control this behavior.\n",
      "  _warn_prf(average, modifier, msg_start, len(result))\n"
     ]
    },
    {
     "name": "stdout",
     "output_type": "stream",
     "text": [
      "Results for  28 \n",
      " (0.0, 0.0, 0.0, None)\n",
      "number predicted correctly : 0  number missed : 678\n"
     ]
    },
    {
     "name": "stderr",
     "output_type": "stream",
     "text": [
      "/opt/conda/lib/python3.7/site-packages/sklearn/metrics/_classification.py:1221: UndefinedMetricWarning: Precision and F-score are ill-defined and being set to 0.0 due to no predicted samples. Use `zero_division` parameter to control this behavior.\n",
      "  _warn_prf(average, modifier, msg_start, len(result))\n"
     ]
    },
    {
     "name": "stdout",
     "output_type": "stream",
     "text": [
      "Results for  29 \n",
      " (0.0, 0.0, 0.0, None)\n",
      "number predicted correctly : 0  number missed : 133\n",
      "Results for  30 \n",
      " (0.0, 0.0, 0.0, None)\n",
      "number predicted correctly : 0  number missed : 122\n"
     ]
    },
    {
     "name": "stderr",
     "output_type": "stream",
     "text": [
      "/opt/conda/lib/python3.7/site-packages/sklearn/metrics/_classification.py:1221: UndefinedMetricWarning: Precision and F-score are ill-defined and being set to 0.0 due to no predicted samples. Use `zero_division` parameter to control this behavior.\n",
      "  _warn_prf(average, modifier, msg_start, len(result))\n"
     ]
    },
    {
     "name": "stdout",
     "output_type": "stream",
     "text": [
      "Results for  31 \n",
      " (0.0, 0.0, 0.0, None)\n",
      "number predicted correctly : 0  number missed : 11\n"
     ]
    },
    {
     "name": "stderr",
     "output_type": "stream",
     "text": [
      "/opt/conda/lib/python3.7/site-packages/sklearn/metrics/_classification.py:1221: UndefinedMetricWarning: Precision and F-score are ill-defined and being set to 0.0 due to no predicted samples. Use `zero_division` parameter to control this behavior.\n",
      "  _warn_prf(average, modifier, msg_start, len(result))\n"
     ]
    },
    {
     "name": "stdout",
     "output_type": "stream",
     "text": [
      "Results for  32 \n",
      " (0.0, 0.0, 0.0, None)\n",
      "number predicted correctly : 0  number missed : 228\n",
      "Results for  33 \n",
      " (0.0, 0.0, 0.0, None)\n",
      "number predicted correctly : 0  number missed : 0\n"
     ]
    },
    {
     "name": "stderr",
     "output_type": "stream",
     "text": [
      "/opt/conda/lib/python3.7/site-packages/sklearn/metrics/_classification.py:1221: UndefinedMetricWarning: Recall and F-score are ill-defined and being set to 0.0 due to no true samples. Use `zero_division` parameter to control this behavior.\n",
      "  _warn_prf(average, modifier, msg_start, len(result))\n"
     ]
    },
    {
     "data": {
      "text/html": [
       "<div>\n",
       "<style scoped>\n",
       "    .dataframe tbody tr th:only-of-type {\n",
       "        vertical-align: middle;\n",
       "    }\n",
       "\n",
       "    .dataframe tbody tr th {\n",
       "        vertical-align: top;\n",
       "    }\n",
       "\n",
       "    .dataframe thead th {\n",
       "        text-align: right;\n",
       "    }\n",
       "</style>\n",
       "<table border=\"1\" class=\"dataframe\">\n",
       "  <thead>\n",
       "    <tr style=\"text-align: right;\">\n",
       "      <th></th>\n",
       "      <th>CN_Code</th>\n",
       "      <th>CPA_Code</th>\n",
       "      <th>CN_Section</th>\n",
       "      <th>CN_Level</th>\n",
       "      <th>Excl_removed</th>\n",
       "      <th>CN_Description_cleaned</th>\n",
       "      <th>Category_2</th>\n",
       "      <th>Category_1</th>\n",
       "      <th>Category_0</th>\n",
       "      <th>Expected</th>\n",
       "      <th>Predicted</th>\n",
       "      <th>prediction</th>\n",
       "      <th>Predict</th>\n",
       "      <th>temp</th>\n",
       "    </tr>\n",
       "  </thead>\n",
       "  <tbody>\n",
       "    <tr>\n",
       "      <th>14601</th>\n",
       "      <td>85409900</td>\n",
       "      <td>26.11.40</td>\n",
       "      <td>8540 99 00</td>\n",
       "      <td>10</td>\n",
       "      <td>(excl. parts of cathode ray tubes)</td>\n",
       "      <td>Parts of thermionic, cold cathode or photo cathode valves and tubes, n.e.s.</td>\n",
       "      <td>26</td>\n",
       "      <td>C</td>\n",
       "      <td>2</td>\n",
       "      <td>True</td>\n",
       "      <td>True</td>\n",
       "      <td>33</td>\n",
       "      <td>True</td>\n",
       "      <td>33</td>\n",
       "    </tr>\n",
       "    <tr>\n",
       "      <th>3124</th>\n",
       "      <td>20091998</td>\n",
       "      <td>10.32.12</td>\n",
       "      <td>2009 19 98</td>\n",
       "      <td>10</td>\n",
       "      <td>(excl. containing spirit and frozen, with a value of &lt;= 30 € per 100 kg and with &gt; 30% added sugar) not containing added sugar or other sweetening matter</td>\n",
       "      <td>Orange juice, unfermented, Brix value &gt; 20 but &lt;= 67 at 20°C, whether or</td>\n",
       "      <td>10</td>\n",
       "      <td>C</td>\n",
       "      <td>2</td>\n",
       "      <td>True</td>\n",
       "      <td>True</td>\n",
       "      <td>0</td>\n",
       "      <td>False</td>\n",
       "      <td>33</td>\n",
       "    </tr>\n",
       "    <tr>\n",
       "      <th>15068</th>\n",
       "      <td>87149930</td>\n",
       "      <td>30.92.30</td>\n",
       "      <td>8714 99 30</td>\n",
       "      <td>10</td>\n",
       "      <td></td>\n",
       "      <td>Luggage carriers for bicycles</td>\n",
       "      <td>30</td>\n",
       "      <td>C</td>\n",
       "      <td>2</td>\n",
       "      <td>True</td>\n",
       "      <td>True</td>\n",
       "      <td>33</td>\n",
       "      <td>True</td>\n",
       "      <td>33</td>\n",
       "    </tr>\n",
       "    <tr>\n",
       "      <th>4725</th>\n",
       "      <td>29043100</td>\n",
       "      <td>20.14.14</td>\n",
       "      <td>2904 31 00</td>\n",
       "      <td>10</td>\n",
       "      <td></td>\n",
       "      <td>Perfluorooctane sulphonic acid</td>\n",
       "      <td>20</td>\n",
       "      <td>C</td>\n",
       "      <td>2</td>\n",
       "      <td>True</td>\n",
       "      <td>True</td>\n",
       "      <td>17</td>\n",
       "      <td>False</td>\n",
       "      <td>33</td>\n",
       "    </tr>\n",
       "    <tr>\n",
       "      <th>16152</th>\n",
       "      <td>96140090</td>\n",
       "      <td>32.99.41</td>\n",
       "      <td>9614 00 90</td>\n",
       "      <td>10</td>\n",
       "      <td>(excl. roughly shaped blocks of wood for the manufacture of pipes)</td>\n",
       "      <td>Smoking pipes, incl. pipe bowls, cigar or cigarette holders, and parts thereof, n.e.s.</td>\n",
       "      <td>32</td>\n",
       "      <td>C</td>\n",
       "      <td>2</td>\n",
       "      <td>True</td>\n",
       "      <td>True</td>\n",
       "      <td>17</td>\n",
       "      <td>False</td>\n",
       "      <td>33</td>\n",
       "    </tr>\n",
       "    <tr>\n",
       "      <th>4610</th>\n",
       "      <td>29012400</td>\n",
       "      <td>20.14.11</td>\n",
       "      <td>2901 24 00</td>\n",
       "      <td>10</td>\n",
       "      <td></td>\n",
       "      <td>Buta-1,3-diene and isoprene</td>\n",
       "      <td>20</td>\n",
       "      <td>C</td>\n",
       "      <td>2</td>\n",
       "      <td>True</td>\n",
       "      <td>True</td>\n",
       "      <td>0</td>\n",
       "      <td>False</td>\n",
       "      <td>33</td>\n",
       "    </tr>\n",
       "    <tr>\n",
       "      <th>14996</th>\n",
       "      <td>87089993</td>\n",
       "      <td>29.32.30</td>\n",
       "      <td>8708 99 93</td>\n",
       "      <td>10</td>\n",
       "      <td></td>\n",
       "      <td>Parts and accessories of closed-die forged steel, for tractors, motor vehicles for the transport of ten or more persons, motor cars and other motor vehicles principally designed for the transport of persons, motor vehicles for the transport of goods and special purpose motor vehicles, n.e.s.</td>\n",
       "      <td>29</td>\n",
       "      <td>C</td>\n",
       "      <td>2</td>\n",
       "      <td>True</td>\n",
       "      <td>True</td>\n",
       "      <td>33</td>\n",
       "      <td>True</td>\n",
       "      <td>33</td>\n",
       "    </tr>\n",
       "    <tr>\n",
       "      <th>1700</th>\n",
       "      <td>8043000</td>\n",
       "      <td>01.22.19</td>\n",
       "      <td>0804 30 00</td>\n",
       "      <td>10</td>\n",
       "      <td></td>\n",
       "      <td>Fresh or dried pineapples</td>\n",
       "      <td>01</td>\n",
       "      <td>A</td>\n",
       "      <td>1</td>\n",
       "      <td>False</td>\n",
       "      <td>True</td>\n",
       "      <td>0</td>\n",
       "      <td>False</td>\n",
       "      <td>33</td>\n",
       "    </tr>\n",
       "    <tr>\n",
       "      <th>7745</th>\n",
       "      <td>48089000</td>\n",
       "      <td>17.12.72</td>\n",
       "      <td>4808 90 00</td>\n",
       "      <td>10</td>\n",
       "      <td>(excl. sack kraft and other kraft paper, and goods of heading 4803)</td>\n",
       "      <td>Paper and paperboard, creped, crinkled, embossed or perforated, in rolls of a width &gt; 36 cm or in square or rectangular sheets with one side &gt; 36 cm and the other side &gt; 15 cm in the unfolded state</td>\n",
       "      <td>17</td>\n",
       "      <td>C</td>\n",
       "      <td>2</td>\n",
       "      <td>True</td>\n",
       "      <td>True</td>\n",
       "      <td>33</td>\n",
       "      <td>True</td>\n",
       "      <td>33</td>\n",
       "    </tr>\n",
       "    <tr>\n",
       "      <th>915</th>\n",
       "      <td>3055110</td>\n",
       "      <td>10.20.23</td>\n",
       "      <td>0305 51 10</td>\n",
       "      <td>10</td>\n",
       "      <td>(excl. fillets and offal) not smoked stockfish</td>\n",
       "      <td>Cod \"Gadus morhua, Gadus ogac, Gadus macrocephalus\", dried, unsalted,</td>\n",
       "      <td>10</td>\n",
       "      <td>C</td>\n",
       "      <td>2</td>\n",
       "      <td>True</td>\n",
       "      <td>True</td>\n",
       "      <td>0</td>\n",
       "      <td>False</td>\n",
       "      <td>33</td>\n",
       "    </tr>\n",
       "  </tbody>\n",
       "</table>\n",
       "</div>"
      ],
      "text/plain": [
       "        CN_Code  CPA_Code  CN_Section  CN_Level  \\\n",
       "14601  85409900  26.11.40  8540 99 00        10   \n",
       "3124   20091998  10.32.12  2009 19 98        10   \n",
       "15068  87149930  30.92.30  8714 99 30        10   \n",
       "4725   29043100  20.14.14  2904 31 00        10   \n",
       "16152  96140090  32.99.41  9614 00 90        10   \n",
       "4610   29012400  20.14.11  2901 24 00        10   \n",
       "14996  87089993  29.32.30  8708 99 93        10   \n",
       "1700    8043000  01.22.19  0804 30 00        10   \n",
       "7745   48089000  17.12.72  4808 90 00        10   \n",
       "915     3055110  10.20.23  0305 51 10        10   \n",
       "\n",
       "                                                                                                                                                     Excl_removed  \\\n",
       "14601                                                                                                                          (excl. parts of cathode ray tubes)   \n",
       "3124   (excl. containing spirit and frozen, with a value of <= 30 € per 100 kg and with > 30% added sugar) not containing added sugar or other sweetening matter    \n",
       "15068                                                                                                                                                               \n",
       "4725                                                                                                                                                                \n",
       "16152                                                                                          (excl. roughly shaped blocks of wood for the manufacture of pipes)   \n",
       "4610                                                                                                                                                                \n",
       "14996                                                                                                                                                               \n",
       "1700                                                                                                                                                                \n",
       "7745                                                                                          (excl. sack kraft and other kraft paper, and goods of heading 4803)   \n",
       "915                                                                                                               (excl. fillets and offal) not smoked stockfish    \n",
       "\n",
       "                                                                                                                                                                                                                                                                                     CN_Description_cleaned  \\\n",
       "14601                                                                                                                                                                                                                          Parts of thermionic, cold cathode or photo cathode valves and tubes, n.e.s.    \n",
       "3124                                                                                                                                                                                                                               Orange juice, unfermented, Brix value > 20 but <= 67 at 20°C, whether or   \n",
       "15068                                                                                                                                                                                                                                                                         Luggage carriers for bicycles   \n",
       "4725                                                                                                                                                                                                                                                                         Perfluorooctane sulphonic acid   \n",
       "16152                                                                                                                                                                                                               Smoking pipes, incl. pipe bowls, cigar or cigarette holders, and parts thereof, n.e.s.    \n",
       "4610                                                                                                                                                                                                                                                                            Buta-1,3-diene and isoprene   \n",
       "14996  Parts and accessories of closed-die forged steel, for tractors, motor vehicles for the transport of ten or more persons, motor cars and other motor vehicles principally designed for the transport of persons, motor vehicles for the transport of goods and special purpose motor vehicles, n.e.s.   \n",
       "1700                                                                                                                                                                                                                                                                              Fresh or dried pineapples   \n",
       "7745                                                                                                 Paper and paperboard, creped, crinkled, embossed or perforated, in rolls of a width > 36 cm or in square or rectangular sheets with one side > 36 cm and the other side > 15 cm in the unfolded state    \n",
       "915                                                                                                                                                                                                                                   Cod \"Gadus morhua, Gadus ogac, Gadus macrocephalus\", dried, unsalted,   \n",
       "\n",
       "      Category_2 Category_1 Category_0  Expected  Predicted prediction  \\\n",
       "14601         26          C          2      True       True         33   \n",
       "3124          10          C          2      True       True          0   \n",
       "15068         30          C          2      True       True         33   \n",
       "4725          20          C          2      True       True         17   \n",
       "16152         32          C          2      True       True         17   \n",
       "4610          20          C          2      True       True          0   \n",
       "14996         29          C          2      True       True         33   \n",
       "1700          01          A          1     False       True          0   \n",
       "7745          17          C          2      True       True         33   \n",
       "915           10          C          2      True       True          0   \n",
       "\n",
       "       Predict temp  \n",
       "14601     True   33  \n",
       "3124     False   33  \n",
       "15068     True   33  \n",
       "4725     False   33  \n",
       "16152    False   33  \n",
       "4610     False   33  \n",
       "14996     True   33  \n",
       "1700     False   33  \n",
       "7745      True   33  \n",
       "915      False   33  "
      ]
     },
     "metadata": {},
     "output_type": "display_data"
    }
   ],
   "source": [
    "this_cat = 'Category_2'\n",
    "\n",
    "prediction = Results2[Results2.Predicted==True].drop(['Reduced_dim'],axis=1).copy()\n",
    "prediction['prediction'] = '0'\n",
    "#Train the model using the training sets \n",
    "for xcat in df_tmp.Category_2.unique():\n",
    "\n",
    "    df_tmp = df[df.Category_1=='C'].copy()\n",
    "    X_train = np.array(list(df_tmp.Reduced_dim_supervised.values))\n",
    "    y_train = (df_tmp[this_cat]==xcat)\n",
    "\n",
    "    bin_forest_clf = RandomForestClassifier(random_state=42)\n",
    "    bin_forest_clf.fit(X_train,y_train)\n",
    "\n",
    "    CN_test= Results2[Results2.Predicted==True]\n",
    "    CN_t = np.array(list(CN_test[\"Reduced_dim\"].values))\n",
    "    y_CN_pred=bin_forest_clf.predict(CN_t)\n",
    "    y_true = (CN_test[this_cat]==xcat)\n",
    "    \n",
    "    m = pd.Series(data=y_CN_pred.tolist(), index=CN_test.index)\n",
    "    prediction['Predict'] = m\n",
    "\n",
    "    prediction['temp'] = xcat\n",
    "    prediction['prediction'] = prediction.temp.where(m, prediction.prediction)\n",
    "\n",
    "    print('Results for ',xcat,'\\n',precision_recall_fscore_support(y_true, y_CN_pred, pos_label=True, average='binary'))\n",
    "    print('number predicted correctly :', len(prediction[(prediction.Category_2==xcat)&(prediction.Predict==True)]),\n",
    "' number missed :', len(prediction[(prediction.Category_2==xcat)&(prediction.Predict==False)]))\n",
    "display(prediction.sample(10))"
   ]
  },
  {
   "cell_type": "raw",
   "metadata": {},
   "source": [
    "display(predict.sample(10))"
   ]
  },
  {
   "cell_type": "code",
   "execution_count": 146,
   "metadata": {},
   "outputs": [],
   "source": [
    "xcat = '10'\n",
    "df_tmp = df[df.Category_1=='C'].copy()\n",
    "X_train = np.array(list(df_tmp.Reduced_dim_supervised.values))\n",
    "y_train = (df_tmp[this_cat]==xcat)\n",
    "\n",
    "bin_forest_clf = RandomForestClassifier(random_state=42)\n",
    "bin_forest_clf.fit(X_train,y_train)\n",
    "\n",
    "CN_test= Results2[Results2.Predicted==True]\n",
    "CN_t = np.array(list(CN_test[\"Reduced_dim\"].values))\n",
    "y_CN_pred=bin_forest_clf.predict(CN_t)\n",
    "y_true = (CN_test[this_cat]==xcat)"
   ]
  },
  {
   "cell_type": "code",
   "execution_count": 147,
   "metadata": {},
   "outputs": [
    {
     "data": {
      "text/plain": [
       "array([False, False, False, ..., False, False, False])"
      ]
     },
     "execution_count": 147,
     "metadata": {},
     "output_type": "execute_result"
    }
   ],
   "source": [
    "y_CN_pred"
   ]
  },
  {
   "cell_type": "code",
   "execution_count": 148,
   "metadata": {},
   "outputs": [
    {
     "data": {
      "text/plain": [
       "3        False\n",
       "6        False\n",
       "7        False\n",
       "8        False\n",
       "10       False\n",
       "         ...  \n",
       "16184    False\n",
       "16199    False\n",
       "16200    False\n",
       "16204    False\n",
       "16206    False\n",
       "Name: Category_2, Length: 8153, dtype: bool"
      ]
     },
     "execution_count": 148,
     "metadata": {},
     "output_type": "execute_result"
    }
   ],
   "source": [
    "y_true"
   ]
  },
  {
   "cell_type": "code",
   "execution_count": 152,
   "metadata": {},
   "outputs": [
    {
     "name": "stdout",
     "output_type": "stream",
     "text": [
      "Results for  10 \n",
      " (0.7902612535263094, 1.0, 0.8828446149630036, None)\n"
     ]
    }
   ],
   "source": [
    "print('Results for ',xcat,'\\n',precision_recall_fscore_support(y_true, y_CN_pred, pos_label=False, average='binary'))"
   ]
  },
  {
   "cell_type": "code",
   "execution_count": 173,
   "metadata": {},
   "outputs": [
    {
     "data": {
      "text/html": [
       "<div>\n",
       "<style scoped>\n",
       "    .dataframe tbody tr th:only-of-type {\n",
       "        vertical-align: middle;\n",
       "    }\n",
       "\n",
       "    .dataframe tbody tr th {\n",
       "        vertical-align: top;\n",
       "    }\n",
       "\n",
       "    .dataframe thead th {\n",
       "        text-align: right;\n",
       "    }\n",
       "</style>\n",
       "<table border=\"1\" class=\"dataframe\">\n",
       "  <thead>\n",
       "    <tr style=\"text-align: right;\">\n",
       "      <th></th>\n",
       "      <th>CN_Code</th>\n",
       "      <th>CPA_Code</th>\n",
       "      <th>CN_Section</th>\n",
       "      <th>CN_Level</th>\n",
       "      <th>Excl_removed</th>\n",
       "      <th>CN_Description_cleaned</th>\n",
       "      <th>Category_2</th>\n",
       "      <th>Category_1</th>\n",
       "      <th>Category_0</th>\n",
       "      <th>prediction</th>\n",
       "      <th>Predict</th>\n",
       "      <th>temp</th>\n",
       "    </tr>\n",
       "  </thead>\n",
       "  <tbody>\n",
       "    <tr>\n",
       "      <th>3171</th>\n",
       "      <td>20096971</td>\n",
       "      <td>10.32.15</td>\n",
       "      <td>2009 69 71</td>\n",
       "      <td>10</td>\n",
       "      <td>(excl. containing spirit)</td>\n",
       "      <td>Concentrated grape juice, incl. grape must, unfermented, Brix value &gt; 30 but &lt;= 67 at 20°C, value of &lt;= 18 € per 100 kg, containing &gt; 30% added sugar</td>\n",
       "      <td>10</td>\n",
       "      <td>C</td>\n",
       "      <td>2</td>\n",
       "      <td>0</td>\n",
       "      <td>False</td>\n",
       "      <td>33</td>\n",
       "    </tr>\n",
       "    <tr>\n",
       "      <th>3568</th>\n",
       "      <td>23032090</td>\n",
       "      <td>10.81.20</td>\n",
       "      <td>2303 20 90</td>\n",
       "      <td>10</td>\n",
       "      <td>(excl. beet pulp)</td>\n",
       "      <td>Bagasse and other waste of sugar manufacture</td>\n",
       "      <td>10</td>\n",
       "      <td>C</td>\n",
       "      <td>2</td>\n",
       "      <td>0</td>\n",
       "      <td>False</td>\n",
       "      <td>33</td>\n",
       "    </tr>\n",
       "    <tr>\n",
       "      <th>3280</th>\n",
       "      <td>21050091</td>\n",
       "      <td>10.52.10</td>\n",
       "      <td>2105 00 91</td>\n",
       "      <td>10</td>\n",
       "      <td></td>\n",
       "      <td>Ice cream and other edible ice, containing &gt;= 3% but &lt; 7% milkfats</td>\n",
       "      <td>10</td>\n",
       "      <td>C</td>\n",
       "      <td>2</td>\n",
       "      <td>0</td>\n",
       "      <td>False</td>\n",
       "      <td>33</td>\n",
       "    </tr>\n",
       "    <tr>\n",
       "      <th>1836</th>\n",
       "      <td>8135019</td>\n",
       "      <td>10.39.29</td>\n",
       "      <td>0813 50 19</td>\n",
       "      <td>10</td>\n",
       "      <td>(excl. mixtures of edible nuts, bananas, dates, figs, pineapples, avocados, guavas, mangoes, mangosteens, citrus fruit and grapes)</td>\n",
       "      <td>Mixtures of dried apricots, apples, peaches, incl. prunus persica nectarina and nectarines, pears, papaws \"papayas\" or other edible and dried fruit, containing prunes</td>\n",
       "      <td>10</td>\n",
       "      <td>C</td>\n",
       "      <td>2</td>\n",
       "      <td>0</td>\n",
       "      <td>False</td>\n",
       "      <td>33</td>\n",
       "    </tr>\n",
       "    <tr>\n",
       "      <th>1581</th>\n",
       "      <td>7123200</td>\n",
       "      <td>10.39.13</td>\n",
       "      <td>0712 32 00</td>\n",
       "      <td>10</td>\n",
       "      <td>not further prepared</td>\n",
       "      <td>Dried wood ears \"Auricularia spp.\", whole, cut, sliced, broken or in powder, but</td>\n",
       "      <td>10</td>\n",
       "      <td>C</td>\n",
       "      <td>2</td>\n",
       "      <td>0</td>\n",
       "      <td>False</td>\n",
       "      <td>33</td>\n",
       "    </tr>\n",
       "  </tbody>\n",
       "</table>\n",
       "</div>"
      ],
      "text/plain": [
       "       CN_Code  CPA_Code  CN_Section  CN_Level  \\\n",
       "3171  20096971  10.32.15  2009 69 71        10   \n",
       "3568  23032090  10.81.20  2303 20 90        10   \n",
       "3280  21050091  10.52.10  2105 00 91        10   \n",
       "1836   8135019  10.39.29  0813 50 19        10   \n",
       "1581   7123200  10.39.13  0712 32 00        10   \n",
       "\n",
       "                                                                                                                            Excl_removed  \\\n",
       "3171                                                                                                           (excl. containing spirit)   \n",
       "3568                                                                                                                   (excl. beet pulp)   \n",
       "3280                                                                                                                                       \n",
       "1836  (excl. mixtures of edible nuts, bananas, dates, figs, pineapples, avocados, guavas, mangoes, mangosteens, citrus fruit and grapes)   \n",
       "1581                                                                                                                not further prepared   \n",
       "\n",
       "                                                                                                                                                       CN_Description_cleaned  \\\n",
       "3171                   Concentrated grape juice, incl. grape must, unfermented, Brix value > 30 but <= 67 at 20°C, value of <= 18 € per 100 kg, containing > 30% added sugar    \n",
       "3568                                                                                                                            Bagasse and other waste of sugar manufacture    \n",
       "3280                                                                                                       Ice cream and other edible ice, containing >= 3% but < 7% milkfats   \n",
       "1836  Mixtures of dried apricots, apples, peaches, incl. prunus persica nectarina and nectarines, pears, papaws \"papayas\" or other edible and dried fruit, containing prunes    \n",
       "1581                                                                                         Dried wood ears \"Auricularia spp.\", whole, cut, sliced, broken or in powder, but   \n",
       "\n",
       "     Category_2 Category_1 Category_0 prediction  Predict temp  \n",
       "3171         10          C          2          0    False   33  \n",
       "3568         10          C          2          0    False   33  \n",
       "3280         10          C          2          0    False   33  \n",
       "1836         10          C          2          0    False   33  \n",
       "1581         10          C          2          0    False   33  "
      ]
     },
     "execution_count": 173,
     "metadata": {},
     "output_type": "execute_result"
    }
   ],
   "source": [
    "xcat = '33'\n",
    "prediction = Results2[Results2.Predicted==True].drop(['Reduced_dim','Expected','Predicted'],axis=1).copy()\n",
    "prediction['prediction'] = '0'\n",
    "#Train the model using the training sets \n",
    "\n",
    "df_tmp = df[df.Category_1=='C'].copy()\n",
    "X_train = np.array(list(df_tmp.Reduced_dim_supervised.values))\n",
    "y_train = (df_tmp[this_cat]==xcat)\n",
    "\n",
    "bin_forest_clf = RandomForestClassifier(random_state=42)\n",
    "bin_forest_clf.fit(X_train,y_train)\n",
    "\n",
    "CN_test= Results2[Results2.Predicted==True]\n",
    "CN_t = np.array(list(CN_test[\"Reduced_dim\"].values))\n",
    "y_CN_pred=bin_forest_clf.predict(CN_t)\n",
    "y_true = (CN_test[this_cat]==xcat)\n",
    "\n",
    "m = pd.Series(data=y_CN_pred.tolist(), index=CN_test.index)\n",
    "prediction['Predict'] = m\n",
    "\n",
    "prediction['temp'] = xcat\n",
    "prediction['prediction'] = prediction.temp.where(m, prediction.prediction)\n",
    "prediction[prediction.Category_2=='10'].sample(5)"
   ]
  },
  {
   "cell_type": "code",
   "execution_count": 183,
   "metadata": {},
   "outputs": [
    {
     "name": "stdout",
     "output_type": "stream",
     "text": [
      "32 is correct : 173 \n",
      "32 missed : 55\n"
     ]
    }
   ],
   "source": [
    "print('32 is correct :', len(prediction[(prediction.Category_2=='32')&(prediction.Predict==True)]),\n",
    "'\\n32 missed :', len(prediction[(prediction.Category_2=='32')&(prediction.Predict==False)]))"
   ]
  },
  {
   "cell_type": "code",
   "execution_count": 172,
   "metadata": {},
   "outputs": [
    {
     "data": {
      "text/plain": [
       "3        False\n",
       "6        False\n",
       "7        False\n",
       "8        False\n",
       "10       False\n",
       "         ...  \n",
       "16184    False\n",
       "16199    False\n",
       "16200    False\n",
       "16204    False\n",
       "16206    False\n",
       "Length: 8153, dtype: bool"
      ]
     },
     "execution_count": 172,
     "metadata": {},
     "output_type": "execute_result"
    }
   ],
   "source": [
    "m"
   ]
  },
  {
   "cell_type": "code",
   "execution_count": null,
   "metadata": {},
   "outputs": [],
   "source": []
  }
 ],
 "metadata": {
  "environment": {
   "name": "common-cpu.m58",
   "type": "gcloud",
   "uri": "gcr.io/deeplearning-platform-release/base-cpu:m58"
  },
  "kernelspec": {
   "display_name": "Python 3",
   "language": "python",
   "name": "python3"
  },
  "language_info": {
   "codemirror_mode": {
    "name": "ipython",
    "version": 3
   },
   "file_extension": ".py",
   "mimetype": "text/x-python",
   "name": "python",
   "nbconvert_exporter": "python",
   "pygments_lexer": "ipython3",
   "version": "3.7.8"
  }
 },
 "nbformat": 4,
 "nbformat_minor": 4
}
