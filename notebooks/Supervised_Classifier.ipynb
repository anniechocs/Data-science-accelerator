{
 "cells": [
  {
   "cell_type": "markdown",
   "metadata": {},
   "source": [
    "# Text Processing for Accelerator project\n",
    "\n",
    "A simplified pipeline processing text with FastText.\n",
    "\n",
    "* Load CPA data\n",
    "* Basic text cleaning\n",
    "* Vectorize (with FastText)\n",
    "* Split into test and training sets\n",
    "* Reduce dimension using UMAP supervised \n",
    "* Predict on test set\n",
    "* Use metrics for an unbalanced dataset\n",
    "* View the clustering in plotly scatterplots"
   ]
  },
  {
   "cell_type": "code",
   "execution_count": 1,
   "metadata": {},
   "outputs": [],
   "source": [
    "# this bit shouldn't be necessary if we pip install -e .   in the parent directory\n",
    "%load_ext autoreload\n",
    "%autoreload 2"
   ]
  },
  {
   "cell_type": "code",
   "execution_count": 2,
   "metadata": {},
   "outputs": [
    {
     "name": "stderr",
     "output_type": "stream",
     "text": [
      "[nltk_data] Downloading package stopwords to\n",
      "[nltk_data]     /home/jupyter/nltk_data...\n",
      "[nltk_data]   Package stopwords is already up-to-date!\n"
     ]
    }
   ],
   "source": [
    "import functools\n",
    "from pprint import pprint\n",
    "from time import time\n",
    "from IPython.display import display, HTML\n",
    "import logging\n",
    "import pandas as pd\n",
    "import numpy as np\n",
    "\n",
    "from sklearn.model_selection import train_test_split\n",
    "from sklearn.model_selection import cross_val_predict\n",
    "from sklearn.pipeline import Pipeline\n",
    "from sklearn.ensemble import RandomForestClassifier\n",
    "\n",
    "from sklearn import metrics\n",
    "import umap\n",
    "\n",
    "import matplotlib.pyplot as plt\n",
    "import seaborn as sns\n",
    "import plotly.express\n",
    "from imblearn.metrics import classification_report_imbalanced\n",
    "\n",
    "import text_processing\n",
    "\n",
    "pd.set_option('display.max_colwidth', None)"
   ]
  },
  {
   "cell_type": "markdown",
   "metadata": {},
   "source": [
    "## Load FastText Pretrained\n",
    "\n",
    "Note: This requires a fair bit of memory (peaks at about 17.5 GiB)\n",
    "\n",
    "Recommend shutting down other kernels first, once this has loaded memory usage drops again.\n",
    "\n",
    "This takes a few minutes to load in."
   ]
  },
  {
   "cell_type": "code",
   "execution_count": 3,
   "metadata": {},
   "outputs": [
    {
     "name": "stderr",
     "output_type": "stream",
     "text": [
      "2020-11-28 18:03:34,036 - text_processing - INFO - Loading FastText pretrained from ../../data/wiki.en.bin\n",
      "2020-11-28 18:07:37,959 - text_processing - INFO - Model loaded\n"
     ]
    }
   ],
   "source": [
    "wv = text_processing.fetch_fasstext_pretrained(filepath=\"../../data/wiki.en.bin\")"
   ]
  },
  {
   "cell_type": "markdown",
   "metadata": {},
   "source": [
    "#### Load in the CPA data"
   ]
  },
  {
   "cell_type": "code",
   "execution_count": 4,
   "metadata": {},
   "outputs": [
    {
     "name": "stderr",
     "output_type": "stream",
     "text": [
      "2020-11-28 18:07:38,074 - text_processing - INFO - cleanded CPA File imported\n"
     ]
    }
   ],
   "source": [
    "CPA = text_processing.fetch_files()"
   ]
  },
  {
   "cell_type": "code",
   "execution_count": 5,
   "metadata": {},
   "outputs": [
    {
     "name": "stderr",
     "output_type": "stream",
     "text": [
      "2020-11-28 18:07:38,184 - text_processing - INFO - Cleaning column: Descr \n"
     ]
    },
    {
     "data": {
      "text/html": [
       "<div>\n",
       "<style scoped>\n",
       "    .dataframe tbody tr th:only-of-type {\n",
       "        vertical-align: middle;\n",
       "    }\n",
       "\n",
       "    .dataframe tbody tr th {\n",
       "        vertical-align: top;\n",
       "    }\n",
       "\n",
       "    .dataframe thead th {\n",
       "        text-align: right;\n",
       "    }\n",
       "</style>\n",
       "<table border=\"1\" class=\"dataframe\">\n",
       "  <thead>\n",
       "    <tr style=\"text-align: right;\">\n",
       "      <th></th>\n",
       "      <th>Code</th>\n",
       "      <th>Descr_old</th>\n",
       "      <th>Category_0</th>\n",
       "      <th>Category_1</th>\n",
       "      <th>Category_2</th>\n",
       "      <th>Category_3</th>\n",
       "      <th>Descr_cleaned</th>\n",
       "    </tr>\n",
       "  </thead>\n",
       "  <tbody>\n",
       "    <tr>\n",
       "      <th>4689</th>\n",
       "      <td>69.10.1</td>\n",
       "      <td>Legal services</td>\n",
       "      <td>8</td>\n",
       "      <td>M</td>\n",
       "      <td>69</td>\n",
       "      <td>69.1</td>\n",
       "      <td>legal services</td>\n",
       "    </tr>\n",
       "    <tr>\n",
       "      <th>3030</th>\n",
       "      <td>30.30.9</td>\n",
       "      <td>Sub-contracted operations as part of manufacturing of air and spacecraft and related machinery</td>\n",
       "      <td>2</td>\n",
       "      <td>C</td>\n",
       "      <td>30</td>\n",
       "      <td>30.3</td>\n",
       "      <td>sub-contracted operations part manufacturing air spacecraft related machinery</td>\n",
       "    </tr>\n",
       "    <tr>\n",
       "      <th>1606</th>\n",
       "      <td>21.20.12</td>\n",
       "      <td>Medicaments, containing hormones, but not antibiotics</td>\n",
       "      <td>2</td>\n",
       "      <td>C</td>\n",
       "      <td>21</td>\n",
       "      <td>21.2</td>\n",
       "      <td>medicaments containing hormones</td>\n",
       "    </tr>\n",
       "    <tr>\n",
       "      <th>82</th>\n",
       "      <td>01.13.72</td>\n",
       "      <td>Sugar beet seeds</td>\n",
       "      <td>1</td>\n",
       "      <td>A</td>\n",
       "      <td>01</td>\n",
       "      <td>01.1</td>\n",
       "      <td>sugar beet seeds</td>\n",
       "    </tr>\n",
       "    <tr>\n",
       "      <th>3213</th>\n",
       "      <td>32.99.41</td>\n",
       "      <td>Cigarette lighters and other lighters; smoking pipes and cigar or cigarette holders and parts thereof</td>\n",
       "      <td>2</td>\n",
       "      <td>C</td>\n",
       "      <td>32</td>\n",
       "      <td>32.9</td>\n",
       "      <td>cigarette lighters lighters smoking pipes cigar cigarette holders parts thereof</td>\n",
       "    </tr>\n",
       "  </tbody>\n",
       "</table>\n",
       "</div>"
      ],
      "text/plain": [
       "          Code  \\\n",
       "4689   69.10.1   \n",
       "3030   30.30.9   \n",
       "1606  21.20.12   \n",
       "82    01.13.72   \n",
       "3213  32.99.41   \n",
       "\n",
       "                                                                                                  Descr_old  \\\n",
       "4689                                                                                         Legal services   \n",
       "3030         Sub-contracted operations as part of manufacturing of air and spacecraft and related machinery   \n",
       "1606                                                  Medicaments, containing hormones, but not antibiotics   \n",
       "82                                                                                         Sugar beet seeds   \n",
       "3213  Cigarette lighters and other lighters; smoking pipes and cigar or cigarette holders and parts thereof   \n",
       "\n",
       "      Category_0 Category_1 Category_2 Category_3  \\\n",
       "4689           8          M         69       69.1   \n",
       "3030           2          C         30       30.3   \n",
       "1606           2          C         21       21.2   \n",
       "82             1          A         01       01.1   \n",
       "3213           2          C         32       32.9   \n",
       "\n",
       "                                                                        Descr_cleaned  \n",
       "4689                                                                   legal services  \n",
       "3030    sub-contracted operations part manufacturing air spacecraft related machinery  \n",
       "1606                                                  medicaments containing hormones  \n",
       "82                                                                   sugar beet seeds  \n",
       "3213  cigarette lighters lighters smoking pipes cigar cigarette holders parts thereof  "
      ]
     },
     "execution_count": 5,
     "metadata": {},
     "output_type": "execute_result"
    }
   ],
   "source": [
    "CPA1 = CPA[CPA.Level.isin({5,6})][['Code','Descr_old','Descr','Category_0','Category_1','Category_2','Category_3']].copy()\n",
    "df = text_processing.clean_col(CPA1, \"Descr\")\n",
    "df.drop('Descr',axis=1,inplace=True)\n",
    "\n",
    "df.sample(5)"
   ]
  },
  {
   "cell_type": "markdown",
   "metadata": {},
   "source": [
    "### Vectorize CPA data using FastText"
   ]
  },
  {
   "cell_type": "code",
   "execution_count": 6,
   "metadata": {},
   "outputs": [],
   "source": [
    "text_to_vec = functools.partial(text_processing.vectorize_text, wv)\n",
    "df[\"Descr_cleaned_vectorized\"] = df.Descr_cleaned.apply(\n",
    "    text_to_vec\n",
    ")"
   ]
  },
  {
   "cell_type": "code",
   "execution_count": 7,
   "metadata": {},
   "outputs": [
    {
     "name": "stderr",
     "output_type": "stream",
     "text": [
      "2020-11-28 18:07:38,582 - text_processing - INFO - Now applying umap to reduce dimension\n"
     ]
    },
    {
     "name": "stdout",
     "output_type": "stream",
     "text": [
      "UMAP(min_dist=0.0, n_components=10, n_neighbors=10, random_state=3052528580,\n",
      "     verbose=10)\n",
      "Construct fuzzy simplicial set\n",
      "Sat Nov 28 18:07:38 2020 Finding Nearest Neighbors\n",
      "Sat Nov 28 18:07:38 2020 Building RP forest with 8 trees\n",
      "Sat Nov 28 18:07:39 2020 NN descent for 12 iterations\n",
      "\t 0  /  12\n",
      "\t 1  /  12\n",
      "\t 2  /  12\n",
      "\t 3  /  12\n",
      "\t 4  /  12\n",
      "\t 5  /  12\n",
      "\t 6  /  12\n",
      "\t 7  /  12\n",
      "\t 8  /  12\n",
      "\t 9  /  12\n",
      "\t 10  /  12\n",
      "Sat Nov 28 18:07:45 2020 Finished Nearest Neighbor Search\n",
      "Sat Nov 28 18:07:47 2020 Construct embedding\n",
      "\tcompleted  0  /  500 epochs\n",
      "\tcompleted  50  /  500 epochs\n",
      "\tcompleted  100  /  500 epochs\n",
      "\tcompleted  150  /  500 epochs\n",
      "\tcompleted  200  /  500 epochs\n",
      "\tcompleted  250  /  500 epochs\n",
      "\tcompleted  300  /  500 epochs\n",
      "\tcompleted  350  /  500 epochs\n",
      "\tcompleted  400  /  500 epochs\n",
      "\tcompleted  450  /  500 epochs\n"
     ]
    },
    {
     "name": "stderr",
     "output_type": "stream",
     "text": [
      "2020-11-28 18:08:02,866 - text_processing - INFO - Now applying umap to reduce dimension\n"
     ]
    },
    {
     "name": "stdout",
     "output_type": "stream",
     "text": [
      "Sat Nov 28 18:08:02 2020 Finished embedding\n",
      "UMAP(min_dist=0.0, n_components=10, random_state=3052528580, verbose=10)\n",
      "Construct fuzzy simplicial set\n",
      "Sat Nov 28 18:08:02 2020 Finding Nearest Neighbors\n",
      "Sat Nov 28 18:08:02 2020 Building RP forest with 8 trees\n",
      "Sat Nov 28 18:08:03 2020 NN descent for 12 iterations\n",
      "\t 0  /  12\n",
      "\t 1  /  12\n",
      "\t 2  /  12\n",
      "\t 3  /  12\n",
      "\t 4  /  12\n",
      "\t 5  /  12\n",
      "\t 6  /  12\n",
      "\t 7  /  12\n",
      "\t 8  /  12\n",
      "Sat Nov 28 18:08:04 2020 Finished Nearest Neighbor Search\n"
     ]
    },
    {
     "name": "stderr",
     "output_type": "stream",
     "text": [
      "/opt/conda/lib/python3.7/site-packages/sklearn/utils/validation.py:72: FutureWarning: Beginning in version 0.22, arrays of bytes/strings will be converted to decimal numbers if dtype='numeric'. It is recommended that you convert the array to a float dtype before using it in scikit-learn, for example by using your_array = your_array.astype(np.float64).\n",
      "  return f(**kwargs)\n"
     ]
    },
    {
     "name": "stdout",
     "output_type": "stream",
     "text": [
      "Sat Nov 28 18:08:05 2020 Construct embedding\n",
      "\tcompleted  0  /  500 epochs\n",
      "\tcompleted  50  /  500 epochs\n",
      "\tcompleted  100  /  500 epochs\n",
      "\tcompleted  150  /  500 epochs\n",
      "\tcompleted  200  /  500 epochs\n",
      "\tcompleted  250  /  500 epochs\n",
      "\tcompleted  300  /  500 epochs\n",
      "\tcompleted  350  /  500 epochs\n",
      "\tcompleted  400  /  500 epochs\n",
      "\tcompleted  450  /  500 epochs\n",
      "Sat Nov 28 18:08:21 2020 Finished embedding\n"
     ]
    }
   ],
   "source": [
    "# reduce the dimension for the whole lot\n",
    "df['Reduced_dim'] = text_processing.reduce_dimensionality(df.Descr_cleaned_vectorized)\n",
    "# reduce the dimension for the whole lot using supervised learning\n",
    "df['Reduced_dim_supervised'] = text_processing.reduce_dimensionality_supervised(df.Descr_cleaned_vectorized,df.Category_2)"
   ]
  },
  {
   "cell_type": "markdown",
   "metadata": {},
   "source": [
    "### Split the CPA data into a training set and a test set"
   ]
  },
  {
   "cell_type": "code",
   "execution_count": 8,
   "metadata": {},
   "outputs": [],
   "source": [
    "# Split dataset into training set and test set\n",
    "train_set, test_set = train_test_split(df.copy(), test_size=0.2, random_state=42)"
   ]
  },
  {
   "cell_type": "markdown",
   "metadata": {},
   "source": [
    "# Use the Random Forest Classifier\n",
    "\n",
    "https://www.datacamp.com/community/tutorials/random-forests-classifier-python\n",
    "\n",
    "We have already  used UMAP supervised classification to reduce the dimension on the training set.   \n",
    "We then split our data into training and test datasets.   \n",
    "We now use the random forest classifier on the training set, and see how it works on the test set.\n"
   ]
  },
  {
   "cell_type": "code",
   "execution_count": 9,
   "metadata": {},
   "outputs": [
    {
     "name": "stdout",
     "output_type": "stream",
     "text": [
      "Accuracy for Category_3 classification: 0.8098360655737705\n",
      "Accuracy for Category_2 classification: 0.9814207650273225\n",
      "Accuracy for Category_1 classification: 0.985792349726776\n",
      "Accuracy for Category_0 classification: 0.994535519125683\n"
     ]
    }
   ],
   "source": [
    "#Create Gaussian Classifier\n",
    "for this_cat in ['Category_3','Category_2','Category_1','Category_0']:\n",
    "    #Train the model using the training sets \n",
    "    X_train = train_set.Reduced_dim_supervised\n",
    "    X_test = test_set.Reduced_dim_supervised\n",
    "\n",
    "    y_train = train_set[this_cat]\n",
    "    y_test = test_set[this_cat]\n",
    "\n",
    "    vecs = np.array(list(X_train.values))\n",
    "    target = np.array(list(y_train.values))\n",
    "\n",
    "    clf = RandomForestClassifier(n_estimators=100\n",
    "                              ).fit(vecs, target)\n",
    "\n",
    "    y_pred=clf.predict(np.array(list(X_test.values)))\n",
    "# Model Accuracy, how often is the classifier correct?\n",
    "    print(f\"Accuracy for {this_cat} classification:\",metrics.accuracy_score(y_test, y_pred))"
   ]
  },
  {
   "cell_type": "code",
   "execution_count": 54,
   "metadata": {},
   "outputs": [
    {
     "name": "stderr",
     "output_type": "stream",
     "text": [
      "2020-11-28 18:49:55,918 - text_processing - INFO - CN new Files imported and cleaned\n",
      "2020-11-28 18:49:55,918 - text_processing - INFO - CN new Files imported and cleaned\n"
     ]
    },
    {
     "data": {
      "text/html": [
       "<div>\n",
       "<style scoped>\n",
       "    .dataframe tbody tr th:only-of-type {\n",
       "        vertical-align: middle;\n",
       "    }\n",
       "\n",
       "    .dataframe tbody tr th {\n",
       "        vertical-align: top;\n",
       "    }\n",
       "\n",
       "    .dataframe thead th {\n",
       "        text-align: right;\n",
       "    }\n",
       "</style>\n",
       "<table border=\"1\" class=\"dataframe\">\n",
       "  <thead>\n",
       "    <tr style=\"text-align: right;\">\n",
       "      <th></th>\n",
       "      <th>CN_Code</th>\n",
       "      <th>CPA_Code</th>\n",
       "      <th>CN_Section</th>\n",
       "      <th>CN_Level</th>\n",
       "      <th>Excl_removed</th>\n",
       "      <th>CN_Description_cleaned</th>\n",
       "      <th>Category_2</th>\n",
       "      <th>Category_1</th>\n",
       "      <th>Category_0</th>\n",
       "    </tr>\n",
       "  </thead>\n",
       "  <tbody>\n",
       "    <tr>\n",
       "      <th>11068</th>\n",
       "      <td>72149979</td>\n",
       "      <td>24.10.62</td>\n",
       "      <td>7214 99 79</td>\n",
       "      <td>10</td>\n",
       "      <td>(excl. bars and rods with indentations, ribs, grooves or other deformations produced during the rolling process, twisted after rolling, and of free-cutting steel)</td>\n",
       "      <td>Bars and rods of iron or non-alloy steel, only hot-rolled, only hot-drawn or only hot-extruded, containing by weight &gt;= 0,25% carbon, of circular cross-section measuring &lt; 80 mm in diameter</td>\n",
       "      <td>24</td>\n",
       "      <td>C</td>\n",
       "      <td>2</td>\n",
       "    </tr>\n",
       "    <tr>\n",
       "      <th>9982</th>\n",
       "      <td>63031200</td>\n",
       "      <td>13.92.15</td>\n",
       "      <td>6303 12</td>\n",
       "      <td>7</td>\n",
       "      <td>(excl. awnings and sunblinds)</td>\n",
       "      <td>Curtains, incl. drapes, and interior blinds, curtain or bed valances of synthetic fibres, knitted or crocheted</td>\n",
       "      <td>13</td>\n",
       "      <td>C</td>\n",
       "      <td>2</td>\n",
       "    </tr>\n",
       "    <tr>\n",
       "      <th>563</th>\n",
       "      <td>3028200</td>\n",
       "      <td>03.00.21</td>\n",
       "      <td>0302 82</td>\n",
       "      <td>7</td>\n",
       "      <td></td>\n",
       "      <td>Fresh or chilled, rays and skates \"Rajidae\"</td>\n",
       "      <td>03</td>\n",
       "      <td>A</td>\n",
       "      <td>1</td>\n",
       "    </tr>\n",
       "  </tbody>\n",
       "</table>\n",
       "</div>"
      ],
      "text/plain": [
       "        CN_Code  CPA_Code  CN_Section  CN_Level  \\\n",
       "11068  72149979  24.10.62  7214 99 79        10   \n",
       "9982   63031200  13.92.15     6303 12         7   \n",
       "563     3028200  03.00.21     0302 82         7   \n",
       "\n",
       "                                                                                                                                                             Excl_removed  \\\n",
       "11068  (excl. bars and rods with indentations, ribs, grooves or other deformations produced during the rolling process, twisted after rolling, and of free-cutting steel)   \n",
       "9982                                                                                                                                        (excl. awnings and sunblinds)   \n",
       "563                                                                                                                                                                         \n",
       "\n",
       "                                                                                                                                                                               CN_Description_cleaned  \\\n",
       "11068  Bars and rods of iron or non-alloy steel, only hot-rolled, only hot-drawn or only hot-extruded, containing by weight >= 0,25% carbon, of circular cross-section measuring < 80 mm in diameter    \n",
       "9982                                                                                  Curtains, incl. drapes, and interior blinds, curtain or bed valances of synthetic fibres, knitted or crocheted    \n",
       "563                                                                                                                                                       Fresh or chilled, rays and skates \"Rajidae\"   \n",
       "\n",
       "      Category_2 Category_1 Category_0  \n",
       "11068         24          C          2  \n",
       "9982          13          C          2  \n",
       "563           03          A          1  "
      ]
     },
     "execution_count": 54,
     "metadata": {},
     "output_type": "execute_result"
    }
   ],
   "source": [
    "CN = text_processing.fetch_CN_files()\n",
    "Cat1_Cat2_map = CPA[CPA.Level==2][['Code','Parent']].rename(columns={'Code':'Category_2','Parent':'Category_1'})\n",
    "CN=CN.merge(Cat1_Cat2_map, on='Category_2', how='left')\n",
    "\n",
    "\n",
    "# we now set up a higher level for A10 indstry levels (10 categories)\n",
    "update_dict0 = {'A':'1','F':'3','J':'5', 'K':'6', 'L':'7','M':'8','N':'8'}\n",
    "update_dict = {**update_dict0,**dict.fromkeys(['B','C','D','E'],'2'),**dict.fromkeys(['G','H','I'],'4'),\n",
    "               **dict.fromkeys(['O','P','Q'],'9'), **dict.fromkeys(['R','S','T','U'],'10')}\n",
    "\n",
    "\n",
    "CN['Category_0'] = CN.Category_1.replace(update_dict)\n",
    "CN['Category_0']= CN['Category_0'].astype(str)\n",
    "CN.sample(3)"
   ]
  },
  {
   "cell_type": "code",
   "execution_count": 55,
   "metadata": {},
   "outputs": [],
   "source": [
    "# Vectorize the CN description using FastText\n",
    "CN[\"Descr_cleaned_vectorized\"] = CN.CN_Description_cleaned.apply(\n",
    "    text_to_vec\n",
    ")"
   ]
  },
  {
   "cell_type": "code",
   "execution_count": 56,
   "metadata": {},
   "outputs": [
    {
     "name": "stderr",
     "output_type": "stream",
     "text": [
      "2020-11-28 18:50:07,381 - text_processing - INFO - Now applying umap to reduce dimension\n",
      "2020-11-28 18:50:07,381 - text_processing - INFO - Now applying umap to reduce dimension\n"
     ]
    },
    {
     "name": "stdout",
     "output_type": "stream",
     "text": [
      "UMAP(min_dist=0.0, n_components=10, n_neighbors=10, random_state=3052528580,\n",
      "     verbose=10)\n",
      "Construct fuzzy simplicial set\n",
      "Sat Nov 28 18:50:07 2020 Finding Nearest Neighbors\n",
      "Sat Nov 28 18:50:07 2020 Building RP forest with 11 trees\n",
      "Sat Nov 28 18:50:08 2020 NN descent for 14 iterations\n",
      "\t 0  /  14\n",
      "\t 1  /  14\n",
      "\t 2  /  14\n",
      "\t 3  /  14\n",
      "\t 4  /  14\n",
      "\t 5  /  14\n",
      "\t 6  /  14\n",
      "\t 7  /  14\n",
      "\t 8  /  14\n",
      "\t 9  /  14\n",
      "\t 10  /  14\n",
      "Sat Nov 28 18:50:10 2020 Finished Nearest Neighbor Search\n",
      "Sat Nov 28 18:50:10 2020 Construct embedding\n",
      "\tcompleted  0  /  200 epochs\n",
      "\tcompleted  20  /  200 epochs\n",
      "\tcompleted  40  /  200 epochs\n",
      "\tcompleted  60  /  200 epochs\n",
      "\tcompleted  80  /  200 epochs\n",
      "\tcompleted  100  /  200 epochs\n",
      "\tcompleted  120  /  200 epochs\n",
      "\tcompleted  140  /  200 epochs\n",
      "\tcompleted  160  /  200 epochs\n",
      "\tcompleted  180  /  200 epochs\n",
      "Sat Nov 28 18:50:33 2020 Finished embedding\n"
     ]
    }
   ],
   "source": [
    "CN['Reduced_dim'] = text_processing.reduce_dimensionality(CN.Descr_cleaned_vectorized)\n",
    "#CN_test_df = CN[(CN.Category_2.notnull()) & (CN.CN_Level==4)]\n",
    "#CN_test_df['Reduced_dim'] = text_processing.reduce_dimensionality(CN_test_df.Descr_cleaned_vectorized)\n",
    "\n",
    "#CN_test_df['Reduced_dim_supervised'] = text_processing.train_test_umap(df.Descr_cleaned_vectorized,df.Category_2, CN_test_df.Descr_cleaned_vectorized)"
   ]
  },
  {
   "cell_type": "code",
   "execution_count": 57,
   "metadata": {},
   "outputs": [
    {
     "name": "stdout",
     "output_type": "stream",
     "text": [
      "Test 1 Accuracy: 0.6740331491712708\n",
      "Test 2 Accuracy: 0.7842920353982301\n",
      "Test 3 Accuracy: 0.8087581975883225\n",
      "Test 4 Accuracy: 0.8002414912082108\n"
     ]
    }
   ],
   "source": [
    "#Create a Gaussian Classifier\n",
    "clf=RandomForestClassifier(n_estimators=100)\n",
    "\n",
    "this_cat = 'Category_1'\n",
    "#Train the model using the training sets \n",
    "X_train = np.array(list(df.Reduced_dim.values))\n",
    "y_train = np.array(list(df[this_cat].values))\n",
    "\n",
    "clf.fit(X_train,y_train)\n",
    "\n",
    "# try different tests\n",
    "######## test 1\n",
    "CN_test_df= CN[(CN.Category_2.notnull()) & (CN.CN_Level==4)]\n",
    "CN_test = np.array(list(CN_test_df[\"Reduced_dim\"].values))\n",
    "#y_test = np.array(list(test_set.Cat.values))\n",
    "y_CN_pred=clf.predict(CN_test)\n",
    "\n",
    "y_CN_test = np.array(list(CN_test_df[this_cat]))\n",
    "# Model Accuracy, how often is the classifier correct?\n",
    "print(\"Test 1 Accuracy:\",metrics.accuracy_score(y_CN_test, y_CN_pred))\n",
    "\n",
    "\n",
    "########## test 2\n",
    "CN_test_df= CN[(CN.Category_2.notnull()) & (CN.CN_Level==7)]\n",
    "CN_test = np.array(list(CN_test_df[\"Reduced_dim\"].values))\n",
    "#y_test = np.array(list(test_set.Cat.values))\n",
    "y_CN_pred=clf.predict(CN_test)\n",
    "\n",
    "y_CN_test = np.array(list(CN_test_df[this_cat]))\n",
    "# Model Accuracy, how often is the classifier correct?\n",
    "print(\"Test 2 Accuracy:\",metrics.accuracy_score(y_CN_test, y_CN_pred))\n",
    "#CN_test_df['Predicted'] = pd.Series(data=y_CN_pred.tolist(), index=CN_test_df.index)\n",
    "\n",
    "########## test 3\n",
    "CN_test_df= CN[(CN.Category_2.notnull()) & (CN.CN_Level==10)]\n",
    "CN_test = np.array(list(CN_test_df[\"Reduced_dim\"].values))\n",
    "#y_test = np.array(list(test_set.Cat.values))\n",
    "y_CN_pred=clf.predict(CN_test)\n",
    "\n",
    "y_CN_test = np.array(list(CN_test_df[this_cat]))\n",
    "# Model Accuracy, how often is the classifier correct?\n",
    "print(\"Test 3 Accuracy:\",metrics.accuracy_score(y_CN_test, y_CN_pred))\n",
    "#CN_test_df['Predicted'] = pd.Series(data=y_CN_pred.tolist(), index=CN_test_df.index)\n",
    "\n",
    "######## test 4\n",
    "CN_test_df= CN[(CN.Category_2.notnull())]\n",
    "CN_test = np.array(list(CN_test_df[\"Reduced_dim\"].values))\n",
    "#y_test = np.array(list(test_set.Cat.values))\n",
    "y_CN_pred=clf.predict(CN_test)\n",
    "\n",
    "y_CN_test = np.array(list(CN_test_df[this_cat]))\n",
    "# Model Accuracy, how often is the classifier correct?\n",
    "print(\"Test 4 Accuracy:\",metrics.accuracy_score(y_CN_test, y_CN_pred))"
   ]
  },
  {
   "cell_type": "code",
   "execution_count": null,
   "metadata": {},
   "outputs": [],
   "source": []
  },
  {
   "cell_type": "code",
   "execution_count": 60,
   "metadata": {},
   "outputs": [
    {
     "name": "stdout",
     "output_type": "stream",
     "text": [
      "Test 1 Accuracy: 0.7734806629834254\n",
      "Test 2 Accuracy: 0.8313053097345132\n",
      "Test 3 Accuracy: 0.8354135815527819\n",
      "Test 4 Accuracy: 0.8334465323371821\n"
     ]
    }
   ],
   "source": [
    "#Create a Gaussian Classifier\n",
    "clf=RandomForestClassifier(n_estimators=100)\n",
    "\n",
    "this_cat = 'Category_0'\n",
    "df['Category_0'] = df['Category_0'].astype(str)\n",
    "#Train the model using the training sets \n",
    "X_train = np.array(list(df.Reduced_dim.values))\n",
    "y_train = np.array(list(df[this_cat].values))\n",
    "\n",
    "clf.fit(X_train,y_train)\n",
    "\n",
    "# try different tests\n",
    "######## test 1\n",
    "CN_test_df= CN[(CN.Category_2.notnull()) & (CN.CN_Level==4)]\n",
    "CN_test = np.array(list(CN_test_df[\"Reduced_dim\"].values))\n",
    "#y_test = np.array(list(test_set.Cat.values))\n",
    "y_CN_pred=clf.predict(CN_test)\n",
    "\n",
    "y_CN_test = np.array(list(CN_test_df[this_cat]))\n",
    "# Model Accuracy, how often is the classifier correct?\n",
    "print(\"Test 1 Accuracy:\",metrics.accuracy_score(y_CN_test, y_CN_pred))\n",
    "\n",
    "\n",
    "########## test 2\n",
    "CN_test_df= CN[(CN.Category_2.notnull()) & (CN.CN_Level==7)]\n",
    "CN_test = np.array(list(CN_test_df[\"Reduced_dim\"].values))\n",
    "#y_test = np.array(list(test_set.Cat.values))\n",
    "y_CN_pred=clf.predict(CN_test)\n",
    "\n",
    "y_CN_test = np.array(list(CN_test_df[this_cat]))\n",
    "# Model Accuracy, how often is the classifier correct?\n",
    "print(\"Test 2 Accuracy:\",metrics.accuracy_score(y_CN_test, y_CN_pred))\n",
    "#CN_test_df['Predicted'] = pd.Series(data=y_CN_pred.tolist(), index=CN_test_df.index)\n",
    "\n",
    "########## test 3\n",
    "CN_test_df= CN[(CN.Category_2.notnull()) & (CN.CN_Level==10)]\n",
    "CN_test = np.array(list(CN_test_df[\"Reduced_dim\"].values))\n",
    "#y_test = np.array(list(test_set.Cat.values))\n",
    "y_CN_pred=clf.predict(CN_test)\n",
    "\n",
    "y_CN_test = np.array(list(CN_test_df[this_cat]))\n",
    "# Model Accuracy, how often is the classifier correct?\n",
    "print(\"Test 3 Accuracy:\",metrics.accuracy_score(y_CN_test, y_CN_pred))\n",
    "#CN_test_df['Predicted'] = pd.Series(data=y_CN_pred.tolist(), index=CN_test_df.index)\n",
    "\n",
    "######## test 4\n",
    "CN_test_df= CN[(CN.Category_2.notnull())]\n",
    "CN_test = np.array(list(CN_test_df[\"Reduced_dim\"].values))\n",
    "#y_test = np.array(list(test_set.Cat.values))\n",
    "y_CN_pred=clf.predict(CN_test)\n",
    "\n",
    "y_CN_test = np.array(list(CN_test_df[this_cat]))\n",
    "# Model Accuracy, how often is the classifier correct?\n",
    "print(\"Test 4 Accuracy:\",metrics.accuracy_score(y_CN_test, y_CN_pred))"
   ]
  },
  {
   "cell_type": "code",
   "execution_count": 61,
   "metadata": {},
   "outputs": [
    {
     "data": {
      "text/html": [
       "<div>\n",
       "<style scoped>\n",
       "    .dataframe tbody tr th:only-of-type {\n",
       "        vertical-align: middle;\n",
       "    }\n",
       "\n",
       "    .dataframe tbody tr th {\n",
       "        vertical-align: top;\n",
       "    }\n",
       "\n",
       "    .dataframe thead th {\n",
       "        text-align: right;\n",
       "    }\n",
       "</style>\n",
       "<table border=\"1\" class=\"dataframe\">\n",
       "  <thead>\n",
       "    <tr style=\"text-align: right;\">\n",
       "      <th></th>\n",
       "      <th>CN_Code</th>\n",
       "      <th>CPA_Code</th>\n",
       "      <th>CN_Section</th>\n",
       "      <th>CN_Level</th>\n",
       "      <th>Excl_removed</th>\n",
       "      <th>CN_Description_cleaned</th>\n",
       "      <th>Category_2</th>\n",
       "      <th>Category_1</th>\n",
       "      <th>Category_0</th>\n",
       "      <th>Predicted</th>\n",
       "    </tr>\n",
       "  </thead>\n",
       "  <tbody>\n",
       "    <tr>\n",
       "      <th>5837</th>\n",
       "      <td>33019021</td>\n",
       "      <td>20.53.10</td>\n",
       "      <td>3301 90 21</td>\n",
       "      <td>10</td>\n",
       "      <td></td>\n",
       "      <td>Extracted oleoresins of liquorice and hops</td>\n",
       "      <td>20</td>\n",
       "      <td>C</td>\n",
       "      <td>2</td>\n",
       "      <td>2</td>\n",
       "    </tr>\n",
       "    <tr>\n",
       "      <th>14703</th>\n",
       "      <td>85459010</td>\n",
       "      <td>27.90.13</td>\n",
       "      <td>8545 90 10</td>\n",
       "      <td>10</td>\n",
       "      <td></td>\n",
       "      <td>Heating resistors for electrical purposes, of graphite or other carbon</td>\n",
       "      <td>27</td>\n",
       "      <td>C</td>\n",
       "      <td>2</td>\n",
       "      <td>2</td>\n",
       "    </tr>\n",
       "    <tr>\n",
       "      <th>7839</th>\n",
       "      <td>48191000</td>\n",
       "      <td>17.21.13</td>\n",
       "      <td>4819 10 00</td>\n",
       "      <td>10</td>\n",
       "      <td></td>\n",
       "      <td>Cartons, boxes and cases, of corrugated paper or paperboard</td>\n",
       "      <td>17</td>\n",
       "      <td>C</td>\n",
       "      <td>2</td>\n",
       "      <td>2</td>\n",
       "    </tr>\n",
       "    <tr>\n",
       "      <th>2156</th>\n",
       "      <td>12024200</td>\n",
       "      <td>10.39.25</td>\n",
       "      <td>1202 42 00</td>\n",
       "      <td>10</td>\n",
       "      <td>(excl. seed for sowing, roasted or otherwise cooked) not broken</td>\n",
       "      <td>Groundnuts, shelled, whether or</td>\n",
       "      <td>10</td>\n",
       "      <td>C</td>\n",
       "      <td>2</td>\n",
       "      <td>2</td>\n",
       "    </tr>\n",
       "    <tr>\n",
       "      <th>3519</th>\n",
       "      <td>22089011</td>\n",
       "      <td>11.01.10</td>\n",
       "      <td>2208 90 11</td>\n",
       "      <td>10</td>\n",
       "      <td></td>\n",
       "      <td>Arrack, in containers holding &lt;= 2 l</td>\n",
       "      <td>11</td>\n",
       "      <td>C</td>\n",
       "      <td>2</td>\n",
       "      <td>2</td>\n",
       "    </tr>\n",
       "  </tbody>\n",
       "</table>\n",
       "</div>"
      ],
      "text/plain": [
       "        CN_Code  CPA_Code  CN_Section  CN_Level  \\\n",
       "5837   33019021  20.53.10  3301 90 21        10   \n",
       "14703  85459010  27.90.13  8545 90 10        10   \n",
       "7839   48191000  17.21.13  4819 10 00        10   \n",
       "2156   12024200  10.39.25  1202 42 00        10   \n",
       "3519   22089011  11.01.10  2208 90 11        10   \n",
       "\n",
       "                                                           Excl_removed  \\\n",
       "5837                                                                      \n",
       "14703                                                                     \n",
       "7839                                                                      \n",
       "2156   (excl. seed for sowing, roasted or otherwise cooked) not broken    \n",
       "3519                                                                      \n",
       "\n",
       "                                                       CN_Description_cleaned  \\\n",
       "5837                               Extracted oleoresins of liquorice and hops   \n",
       "14703  Heating resistors for electrical purposes, of graphite or other carbon   \n",
       "7839              Cartons, boxes and cases, of corrugated paper or paperboard   \n",
       "2156                                          Groundnuts, shelled, whether or   \n",
       "3519                                     Arrack, in containers holding <= 2 l   \n",
       "\n",
       "      Category_2 Category_1 Category_0 Predicted  \n",
       "5837          20          C          2         2  \n",
       "14703         27          C          2         2  \n",
       "7839          17          C          2         2  \n",
       "2156          10          C          2         2  \n",
       "3519          11          C          2         2  "
      ]
     },
     "execution_count": 61,
     "metadata": {},
     "output_type": "execute_result"
    }
   ],
   "source": [
    "Results = CN_test_df.drop(['Descr_cleaned_vectorized','Reduced_dim'],axis=1).copy()\n",
    "Results['Predicted'] = pd.Series(data=y_CN_pred.tolist(), index=CN_test_df.index)\n",
    "Results.sample(5)\n"
   ]
  },
  {
   "cell_type": "code",
   "execution_count": 63,
   "metadata": {},
   "outputs": [
    {
     "name": "stdout",
     "output_type": "stream",
     "text": [
      "                   pre       rec       spe        f1       geo       iba       sup\n",
      "\n",
      "          1       0.00      0.00      1.00      0.00      0.00      0.00       845\n",
      "         10       0.00      0.00      1.00      0.00      0.00      0.00        22\n",
      "          2       0.92      0.90      0.02      0.91      0.14      0.02     12326\n",
      "          3       0.00      0.00      1.00      0.00      0.00      0.00         0\n",
      "          4       0.00      0.00      1.00      0.00      0.00      0.00         0\n",
      "          5       0.00      0.00      0.96      0.00      0.00      0.00        51\n",
      "          8       0.00      0.00      0.95      0.00      0.00      0.00         7\n",
      "          9       0.00      0.00      1.00      0.00      0.00      0.00         0\n",
      "\n",
      "avg / total       0.86      0.83      0.09      0.85      0.13      0.02     13251\n",
      "\n"
     ]
    },
    {
     "name": "stderr",
     "output_type": "stream",
     "text": [
      "/opt/conda/lib/python3.7/site-packages/sklearn/metrics/_classification.py:1221: UndefinedMetricWarning: Recall and F-score are ill-defined and being set to 0.0 in labels with no true samples. Use `zero_division` parameter to control this behavior.\n",
      "  _warn_prf(average, modifier, msg_start, len(result))\n",
      "/opt/conda/lib/python3.7/site-packages/sklearn/metrics/_classification.py:1221: UndefinedMetricWarning: Sensitivity is ill-defined and being set to 0.0 in labels with no true samples. Use `zero_division` parameter to control this behavior.\n",
      "  _warn_prf(average, modifier, msg_start, len(result))\n"
     ]
    }
   ],
   "source": [
    "print(classification_report_imbalanced(y_CN_test, y_CN_pred))"
   ]
  },
  {
   "cell_type": "code",
   "execution_count": null,
   "metadata": {},
   "outputs": [],
   "source": []
  }
 ],
 "metadata": {
  "environment": {
   "name": "common-cpu.m58",
   "type": "gcloud",
   "uri": "gcr.io/deeplearning-platform-release/base-cpu:m58"
  },
  "kernelspec": {
   "display_name": "Python 3",
   "language": "python",
   "name": "python3"
  },
  "language_info": {
   "codemirror_mode": {
    "name": "ipython",
    "version": 3
   },
   "file_extension": ".py",
   "mimetype": "text/x-python",
   "name": "python",
   "nbconvert_exporter": "python",
   "pygments_lexer": "ipython3",
   "version": "3.7.8"
  }
 },
 "nbformat": 4,
 "nbformat_minor": 4
}
