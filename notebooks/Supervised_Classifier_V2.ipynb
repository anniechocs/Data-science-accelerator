{
 "cells": [
  {
   "cell_type": "markdown",
   "metadata": {},
   "source": [
    "# Text Processing for Accelerator project\n",
    "\n",
    "A simplified pipeline processing text with FastText.\n",
    "\n",
    "* Load CPA data\n",
    "* Basic text cleaning\n",
    "* Vectorize (with FastText)\n",
    "* Split into test and training sets\n",
    "* Reduce dimension using UMAP supervised \n",
    "* Predict on test set\n",
    "* Use metrics for an unbalanced dataset\n",
    "* View the clustering in plotly scatterplots"
   ]
  },
  {
   "cell_type": "code",
   "execution_count": 1,
   "metadata": {},
   "outputs": [],
   "source": [
    "# this bit shouldn't be necessary if we pip install -e .   in the parent directory\n",
    "%load_ext autoreload\n",
    "%autoreload 2"
   ]
  },
  {
   "cell_type": "code",
   "execution_count": 2,
   "metadata": {},
   "outputs": [
    {
     "name": "stderr",
     "output_type": "stream",
     "text": [
      "[nltk_data] Downloading package stopwords to\n",
      "[nltk_data]     /home/jupyter/nltk_data...\n",
      "[nltk_data]   Package stopwords is already up-to-date!\n"
     ]
    }
   ],
   "source": [
    "import functools\n",
    "from pprint import pprint\n",
    "from time import time\n",
    "from IPython.display import display, HTML\n",
    "import logging\n",
    "import pandas as pd\n",
    "import numpy as np\n",
    "\n",
    "from sklearn.model_selection import train_test_split\n",
    "from sklearn.model_selection import cross_val_predict\n",
    "from sklearn.pipeline import Pipeline\n",
    "from sklearn.ensemble import RandomForestClassifier\n",
    "\n",
    "from sklearn import metrics\n",
    "import umap\n",
    "\n",
    "import matplotlib.pyplot as plt\n",
    "import seaborn as sns\n",
    "import plotly.express\n",
    "from imblearn.metrics import classification_report_imbalanced\n",
    "\n",
    "import text_processing\n",
    "\n",
    "pd.set_option('display.max_colwidth', None)"
   ]
  },
  {
   "cell_type": "markdown",
   "metadata": {},
   "source": [
    "## Load FastText Pretrained\n",
    "\n",
    "Note: This requires a fair bit of memory (peaks at about 17.5 GiB)\n",
    "\n",
    "Recommend shutting down other kernels first, once this has loaded memory usage drops again.\n",
    "\n",
    "This takes a few minutes to load in."
   ]
  },
  {
   "cell_type": "code",
   "execution_count": 3,
   "metadata": {},
   "outputs": [
    {
     "name": "stderr",
     "output_type": "stream",
     "text": [
      "2020-12-04 14:51:07,267 - text_processing - INFO - Loading FastText pretrained from ../../data/wiki.en.bin\n",
      "2020-12-04 14:55:07,910 - text_processing - INFO - Model loaded\n"
     ]
    }
   ],
   "source": [
    "wv = text_processing.fetch_fasstext_pretrained(filepath=\"../../data/wiki.en.bin\")"
   ]
  },
  {
   "cell_type": "markdown",
   "metadata": {},
   "source": [
    "#### Load in the CPA data"
   ]
  },
  {
   "cell_type": "code",
   "execution_count": 4,
   "metadata": {},
   "outputs": [
    {
     "name": "stderr",
     "output_type": "stream",
     "text": [
      "2020-12-04 14:55:08,025 - text_processing - INFO - cleanded CPA File imported\n"
     ]
    }
   ],
   "source": [
    "CPA = text_processing.fetch_files()"
   ]
  },
  {
   "cell_type": "code",
   "execution_count": 5,
   "metadata": {},
   "outputs": [
    {
     "name": "stderr",
     "output_type": "stream",
     "text": [
      "2020-12-04 14:55:08,180 - text_processing - INFO - Cleaning column: Descr \n"
     ]
    },
    {
     "data": {
      "text/html": [
       "<div>\n",
       "<style scoped>\n",
       "    .dataframe tbody tr th:only-of-type {\n",
       "        vertical-align: middle;\n",
       "    }\n",
       "\n",
       "    .dataframe tbody tr th {\n",
       "        vertical-align: top;\n",
       "    }\n",
       "\n",
       "    .dataframe thead th {\n",
       "        text-align: right;\n",
       "    }\n",
       "</style>\n",
       "<table border=\"1\" class=\"dataframe\">\n",
       "  <thead>\n",
       "    <tr style=\"text-align: right;\">\n",
       "      <th></th>\n",
       "      <th>Code</th>\n",
       "      <th>Descr_old</th>\n",
       "      <th>Category_0</th>\n",
       "      <th>Category_1</th>\n",
       "      <th>Category_2</th>\n",
       "      <th>Category_3</th>\n",
       "      <th>Descr_cleaned</th>\n",
       "    </tr>\n",
       "  </thead>\n",
       "  <tbody>\n",
       "    <tr>\n",
       "      <th>4689</th>\n",
       "      <td>69.10.1</td>\n",
       "      <td>Legal services</td>\n",
       "      <td>8</td>\n",
       "      <td>M</td>\n",
       "      <td>69</td>\n",
       "      <td>69.1</td>\n",
       "      <td>legal services</td>\n",
       "    </tr>\n",
       "    <tr>\n",
       "      <th>3030</th>\n",
       "      <td>30.30.9</td>\n",
       "      <td>Sub-contracted operations as part of manufacturing of air and spacecraft and related machinery</td>\n",
       "      <td>2</td>\n",
       "      <td>C</td>\n",
       "      <td>30</td>\n",
       "      <td>30.3</td>\n",
       "      <td>sub-contracted operations part manufacturing air spacecraft related machinery</td>\n",
       "    </tr>\n",
       "    <tr>\n",
       "      <th>1606</th>\n",
       "      <td>21.20.12</td>\n",
       "      <td>Medicaments, containing hormones, but not antibiotics</td>\n",
       "      <td>2</td>\n",
       "      <td>C</td>\n",
       "      <td>21</td>\n",
       "      <td>21.2</td>\n",
       "      <td>medicaments containing hormones</td>\n",
       "    </tr>\n",
       "    <tr>\n",
       "      <th>82</th>\n",
       "      <td>01.13.72</td>\n",
       "      <td>Sugar beet seeds</td>\n",
       "      <td>1</td>\n",
       "      <td>A</td>\n",
       "      <td>01</td>\n",
       "      <td>01.1</td>\n",
       "      <td>sugar beet seeds</td>\n",
       "    </tr>\n",
       "    <tr>\n",
       "      <th>3213</th>\n",
       "      <td>32.99.41</td>\n",
       "      <td>Cigarette lighters and other lighters; smoking pipes and cigar or cigarette holders and parts thereof</td>\n",
       "      <td>2</td>\n",
       "      <td>C</td>\n",
       "      <td>32</td>\n",
       "      <td>32.9</td>\n",
       "      <td>cigarette lighters lighters smoking pipes cigar cigarette holders parts thereof</td>\n",
       "    </tr>\n",
       "  </tbody>\n",
       "</table>\n",
       "</div>"
      ],
      "text/plain": [
       "          Code  \\\n",
       "4689   69.10.1   \n",
       "3030   30.30.9   \n",
       "1606  21.20.12   \n",
       "82    01.13.72   \n",
       "3213  32.99.41   \n",
       "\n",
       "                                                                                                  Descr_old  \\\n",
       "4689                                                                                         Legal services   \n",
       "3030         Sub-contracted operations as part of manufacturing of air and spacecraft and related machinery   \n",
       "1606                                                  Medicaments, containing hormones, but not antibiotics   \n",
       "82                                                                                         Sugar beet seeds   \n",
       "3213  Cigarette lighters and other lighters; smoking pipes and cigar or cigarette holders and parts thereof   \n",
       "\n",
       "     Category_0 Category_1 Category_2 Category_3  \\\n",
       "4689          8          M         69       69.1   \n",
       "3030          2          C         30       30.3   \n",
       "1606          2          C         21       21.2   \n",
       "82            1          A         01       01.1   \n",
       "3213          2          C         32       32.9   \n",
       "\n",
       "                                                                        Descr_cleaned  \n",
       "4689                                                                   legal services  \n",
       "3030    sub-contracted operations part manufacturing air spacecraft related machinery  \n",
       "1606                                                  medicaments containing hormones  \n",
       "82                                                                   sugar beet seeds  \n",
       "3213  cigarette lighters lighters smoking pipes cigar cigarette holders parts thereof  "
      ]
     },
     "execution_count": 5,
     "metadata": {},
     "output_type": "execute_result"
    }
   ],
   "source": [
    "CPA1 = CPA[CPA.Level.isin({5,6})][['Code','Descr_old','Descr','Category_0','Category_1','Category_2','Category_3']].copy()\n",
    "df = text_processing.clean_col(CPA1, \"Descr\")\n",
    "df.drop('Descr',axis=1,inplace=True)\n",
    "\n",
    "df.sample(5)"
   ]
  },
  {
   "cell_type": "markdown",
   "metadata": {},
   "source": [
    "### Vectorize CPA data using FastText"
   ]
  },
  {
   "cell_type": "code",
   "execution_count": 6,
   "metadata": {},
   "outputs": [],
   "source": [
    "text_to_vec = functools.partial(text_processing.vectorize_text, wv)\n",
    "df[\"Descr_cleaned_vectorized\"] = df.Descr_cleaned.apply(text_to_vec)"
   ]
  },
  {
   "cell_type": "code",
   "execution_count": 7,
   "metadata": {},
   "outputs": [
    {
     "name": "stderr",
     "output_type": "stream",
     "text": [
      "2020-12-04 14:55:08,573 - text_processing - INFO - Now applying umap to reduce dimension\n"
     ]
    },
    {
     "name": "stdout",
     "output_type": "stream",
     "text": [
      "UMAP(min_dist=0.0, n_components=10, n_neighbors=10, random_state=3052528580,\n",
      "     verbose=10)\n",
      "Construct fuzzy simplicial set\n",
      "Fri Dec  4 14:55:08 2020 Finding Nearest Neighbors\n",
      "Fri Dec  4 14:55:08 2020 Building RP forest with 8 trees\n",
      "Fri Dec  4 14:55:09 2020 NN descent for 12 iterations\n",
      "\t 0  /  12\n",
      "\t 1  /  12\n",
      "\t 2  /  12\n",
      "\t 3  /  12\n",
      "\t 4  /  12\n",
      "\t 5  /  12\n",
      "\t 6  /  12\n",
      "\t 7  /  12\n",
      "\t 8  /  12\n",
      "\t 9  /  12\n",
      "\t 10  /  12\n",
      "Fri Dec  4 14:55:15 2020 Finished Nearest Neighbor Search\n",
      "Fri Dec  4 14:55:17 2020 Construct embedding\n",
      "\tcompleted  0  /  500 epochs\n",
      "\tcompleted  50  /  500 epochs\n",
      "\tcompleted  100  /  500 epochs\n",
      "\tcompleted  150  /  500 epochs\n",
      "\tcompleted  200  /  500 epochs\n",
      "\tcompleted  250  /  500 epochs\n",
      "\tcompleted  300  /  500 epochs\n",
      "\tcompleted  350  /  500 epochs\n",
      "\tcompleted  400  /  500 epochs\n",
      "\tcompleted  450  /  500 epochs\n"
     ]
    },
    {
     "name": "stderr",
     "output_type": "stream",
     "text": [
      "2020-12-04 14:55:32,491 - text_processing - INFO - Now applying umap to reduce dimension\n"
     ]
    },
    {
     "name": "stdout",
     "output_type": "stream",
     "text": [
      "Fri Dec  4 14:55:32 2020 Finished embedding\n",
      "UMAP(min_dist=0.0, n_components=10, random_state=3052528580, verbose=10)\n",
      "Construct fuzzy simplicial set\n",
      "Fri Dec  4 14:55:32 2020 Finding Nearest Neighbors\n",
      "Fri Dec  4 14:55:32 2020 Building RP forest with 8 trees\n",
      "Fri Dec  4 14:55:33 2020 NN descent for 12 iterations\n",
      "\t 0  /  12\n",
      "\t 1  /  12\n",
      "\t 2  /  12\n",
      "\t 3  /  12\n",
      "\t 4  /  12\n",
      "\t 5  /  12\n",
      "\t 6  /  12\n",
      "\t 7  /  12\n",
      "\t 8  /  12\n",
      "Fri Dec  4 14:55:34 2020 Finished Nearest Neighbor Search\n"
     ]
    },
    {
     "name": "stderr",
     "output_type": "stream",
     "text": [
      "/opt/conda/lib/python3.7/site-packages/sklearn/utils/validation.py:72: FutureWarning: Beginning in version 0.22, arrays of bytes/strings will be converted to decimal numbers if dtype='numeric'. It is recommended that you convert the array to a float dtype before using it in scikit-learn, for example by using your_array = your_array.astype(np.float64).\n",
      "  return f(**kwargs)\n"
     ]
    },
    {
     "name": "stdout",
     "output_type": "stream",
     "text": [
      "Fri Dec  4 14:55:34 2020 Construct embedding\n",
      "\tcompleted  0  /  500 epochs\n",
      "\tcompleted  50  /  500 epochs\n",
      "\tcompleted  100  /  500 epochs\n",
      "\tcompleted  150  /  500 epochs\n",
      "\tcompleted  200  /  500 epochs\n",
      "\tcompleted  250  /  500 epochs\n",
      "\tcompleted  300  /  500 epochs\n",
      "\tcompleted  350  /  500 epochs\n",
      "\tcompleted  400  /  500 epochs\n",
      "\tcompleted  450  /  500 epochs\n",
      "Fri Dec  4 14:55:50 2020 Finished embedding\n"
     ]
    }
   ],
   "source": [
    "# reduce the dimension for the whole lot\n",
    "df['Reduced_dim'] = text_processing.reduce_dimensionality(df.Descr_cleaned_vectorized,10)\n",
    "# reduce the dimension for the whole lot using supervised learning\n",
    "df['Reduced_dim_supervised'] = text_processing.reduce_dimensionality_supervised(df.Descr_cleaned_vectorized,df.Category_2)"
   ]
  },
  {
   "cell_type": "markdown",
   "metadata": {},
   "source": [
    "### Split the CPA data into a training set and a test set"
   ]
  },
  {
   "cell_type": "code",
   "execution_count": 8,
   "metadata": {},
   "outputs": [],
   "source": [
    "# Split dataset into training set and test set\n",
    "train_set, test_set = train_test_split(df.copy(), test_size=0.2, random_state=42)"
   ]
  },
  {
   "cell_type": "markdown",
   "metadata": {},
   "source": [
    "# Use the Random Forest Classifier\n",
    "\n",
    "https://www.datacamp.com/community/tutorials/random-forests-classifier-python\n",
    "\n",
    "We have already  used UMAP supervised classification to reduce the dimension on the training set.   \n",
    "We then split our data into training and test datasets.   \n",
    "We now use the random forest classifier on the training set, and see how it works on the test set.\n"
   ]
  },
  {
   "cell_type": "code",
   "execution_count": 9,
   "metadata": {},
   "outputs": [
    {
     "name": "stdout",
     "output_type": "stream",
     "text": [
      "Accuracy for Category_3 classification: 0.8098360655737705\n",
      "Accuracy for Category_2 classification: 0.9814207650273225\n",
      "Accuracy for Category_1 classification: 0.985792349726776\n",
      "Accuracy for Category_0 classification: 0.994535519125683\n"
     ]
    }
   ],
   "source": [
    "#Create Gaussian Classifier\n",
    "for this_cat in ['Category_3','Category_2','Category_1','Category_0']:\n",
    "    #Train the model using the training sets \n",
    "    X_train = train_set.Reduced_dim_supervised\n",
    "    X_test = test_set.Reduced_dim_supervised\n",
    "\n",
    "    y_train = train_set[this_cat]\n",
    "    y_test = test_set[this_cat]\n",
    "\n",
    "    vecs = np.array(list(X_train.values))\n",
    "    target = np.array(list(y_train.values))\n",
    "\n",
    "    clf = RandomForestClassifier(n_estimators=100\n",
    "                              ).fit(vecs, target)\n",
    "\n",
    "    y_pred=clf.predict(np.array(list(X_test.values)))\n",
    "# Model Accuracy, how often is the classifier correct?\n",
    "    print(f\"Accuracy for {this_cat} classification:\",metrics.accuracy_score(y_test, y_pred))"
   ]
  },
  {
   "cell_type": "code",
   "execution_count": 10,
   "metadata": {},
   "outputs": [
    {
     "name": "stderr",
     "output_type": "stream",
     "text": [
      "2020-12-04 14:56:04,839 - text_processing - INFO - CN new Files imported and cleaned\n"
     ]
    },
    {
     "data": {
      "text/html": [
       "<div>\n",
       "<style scoped>\n",
       "    .dataframe tbody tr th:only-of-type {\n",
       "        vertical-align: middle;\n",
       "    }\n",
       "\n",
       "    .dataframe tbody tr th {\n",
       "        vertical-align: top;\n",
       "    }\n",
       "\n",
       "    .dataframe thead th {\n",
       "        text-align: right;\n",
       "    }\n",
       "</style>\n",
       "<table border=\"1\" class=\"dataframe\">\n",
       "  <thead>\n",
       "    <tr style=\"text-align: right;\">\n",
       "      <th></th>\n",
       "      <th>CN_Code</th>\n",
       "      <th>CPA_Code</th>\n",
       "      <th>CN_Section</th>\n",
       "      <th>CN_Level</th>\n",
       "      <th>Excl_removed</th>\n",
       "      <th>CN_Description_cleaned</th>\n",
       "      <th>Category_2</th>\n",
       "      <th>Category_1</th>\n",
       "      <th>Category_0</th>\n",
       "    </tr>\n",
       "  </thead>\n",
       "  <tbody>\n",
       "    <tr>\n",
       "      <th>5233</th>\n",
       "      <td>29269070</td>\n",
       "      <td>20.14.43</td>\n",
       "      <td>2926 90 70</td>\n",
       "      <td>10</td>\n",
       "      <td>(excl. acrylonitrile, 1-cyanoguanidine \"dicyandiamide\", fenproporex \"INN\" and its salts, methadone \"INN\"-intermediate \"4-cyano-2-dimethylamino-4,4-diphenylbutane\", alpha-Phenylacetoacetonitrile and isophthalonitrile)</td>\n",
       "      <td>Nitrile-function compounds</td>\n",
       "      <td>20</td>\n",
       "      <td>C</td>\n",
       "      <td>2</td>\n",
       "    </tr>\n",
       "    <tr>\n",
       "      <th>4032</th>\n",
       "      <td>27101931</td>\n",
       "      <td>19.20.26</td>\n",
       "      <td>2710 19 31</td>\n",
       "      <td>10</td>\n",
       "      <td></td>\n",
       "      <td>Gas oils of petroleum or bituminous minerals for undergoing a specific process as defined in Additional Note 5 to chapter 27</td>\n",
       "      <td>19</td>\n",
       "      <td>C</td>\n",
       "      <td>2</td>\n",
       "    </tr>\n",
       "    <tr>\n",
       "      <th>7707</th>\n",
       "      <td>48051910</td>\n",
       "      <td>17.12.34</td>\n",
       "      <td>4805 19 10</td>\n",
       "      <td>10</td>\n",
       "      <td></td>\n",
       "      <td>Wellenstoff, uncoated, in rolls of a width &gt; 36 cm or in square or rectangular sheets with one side &gt; 36 cm and the other side &gt; 15 cm in the unfolded state</td>\n",
       "      <td>17</td>\n",
       "      <td>C</td>\n",
       "      <td>2</td>\n",
       "    </tr>\n",
       "  </tbody>\n",
       "</table>\n",
       "</div>"
      ],
      "text/plain": [
       "       CN_Code  CPA_Code  CN_Section  CN_Level  \\\n",
       "5233  29269070  20.14.43  2926 90 70        10   \n",
       "4032  27101931  19.20.26  2710 19 31        10   \n",
       "7707  48051910  17.12.34  4805 19 10        10   \n",
       "\n",
       "                                                                                                                                                                                                                  Excl_removed  \\\n",
       "5233  (excl. acrylonitrile, 1-cyanoguanidine \"dicyandiamide\", fenproporex \"INN\" and its salts, methadone \"INN\"-intermediate \"4-cyano-2-dimethylamino-4,4-diphenylbutane\", alpha-Phenylacetoacetonitrile and isophthalonitrile)   \n",
       "4032                                                                                                                                                                                                                             \n",
       "7707                                                                                                                                                                                                                             \n",
       "\n",
       "                                                                                                                                            CN_Description_cleaned  \\\n",
       "5233                                                                                                                                   Nitrile-function compounds    \n",
       "4032                                  Gas oils of petroleum or bituminous minerals for undergoing a specific process as defined in Additional Note 5 to chapter 27   \n",
       "7707  Wellenstoff, uncoated, in rolls of a width > 36 cm or in square or rectangular sheets with one side > 36 cm and the other side > 15 cm in the unfolded state   \n",
       "\n",
       "     Category_2 Category_1 Category_0  \n",
       "5233         20          C          2  \n",
       "4032         19          C          2  \n",
       "7707         17          C          2  "
      ]
     },
     "execution_count": 10,
     "metadata": {},
     "output_type": "execute_result"
    }
   ],
   "source": [
    "CN = text_processing.fetch_CN_files()\n",
    "Cat1_Cat2_map = CPA[CPA.Level==2][['Code','Parent']].rename(columns={'Code':'Category_2','Parent':'Category_1'})\n",
    "CN=CN.merge(Cat1_Cat2_map, on='Category_2', how='left')\n",
    "\n",
    "\n",
    "# we now set up a higher level for A10 indstry levels (10 categories)\n",
    "update_dict0 = {'A':'1','F':'3','J':'5', 'K':'6', 'L':'7','M':'8','N':'8'}\n",
    "update_dict = {**update_dict0,**dict.fromkeys(['B','C','D','E'],'2'),**dict.fromkeys(['G','H','I'],'4'),\n",
    "               **dict.fromkeys(['O','P','Q'],'9'), **dict.fromkeys(['R','S','T','U'],'10')}\n",
    "\n",
    "\n",
    "CN['Category_0'] = CN.Category_1.replace(update_dict)\n",
    "CN['Category_0']= CN['Category_0'].astype(str)\n",
    "CN.sample(3)"
   ]
  },
  {
   "cell_type": "code",
   "execution_count": 11,
   "metadata": {},
   "outputs": [],
   "source": [
    "# Vectorize the CN description using FastText\n",
    "CN[\"Descr_cleaned_vectorized\"] = CN.CN_Description_cleaned.apply(\n",
    "    text_to_vec\n",
    ")"
   ]
  },
  {
   "cell_type": "code",
   "execution_count": 12,
   "metadata": {},
   "outputs": [
    {
     "name": "stderr",
     "output_type": "stream",
     "text": [
      "2020-12-04 14:56:08,549 - text_processing - INFO - Now applying umap to reduce dimension\n"
     ]
    },
    {
     "name": "stdout",
     "output_type": "stream",
     "text": [
      "UMAP(min_dist=0.0, n_components=10, n_neighbors=10, random_state=3052528580,\n",
      "     verbose=10)\n",
      "Construct fuzzy simplicial set\n",
      "Fri Dec  4 14:56:08 2020 Finding Nearest Neighbors\n",
      "Fri Dec  4 14:56:08 2020 Building RP forest with 11 trees\n",
      "Fri Dec  4 14:56:09 2020 NN descent for 14 iterations\n",
      "\t 0  /  14\n",
      "\t 1  /  14\n",
      "\t 2  /  14\n",
      "\t 3  /  14\n",
      "\t 4  /  14\n",
      "\t 5  /  14\n",
      "\t 6  /  14\n",
      "\t 7  /  14\n",
      "\t 8  /  14\n",
      "\t 9  /  14\n",
      "\t 10  /  14\n",
      "Fri Dec  4 14:56:11 2020 Finished Nearest Neighbor Search\n",
      "Fri Dec  4 14:56:11 2020 Construct embedding\n",
      "\tcompleted  0  /  200 epochs\n",
      "\tcompleted  20  /  200 epochs\n",
      "\tcompleted  40  /  200 epochs\n",
      "\tcompleted  60  /  200 epochs\n",
      "\tcompleted  80  /  200 epochs\n",
      "\tcompleted  100  /  200 epochs\n",
      "\tcompleted  120  /  200 epochs\n",
      "\tcompleted  140  /  200 epochs\n",
      "\tcompleted  160  /  200 epochs\n",
      "\tcompleted  180  /  200 epochs\n",
      "Fri Dec  4 14:56:34 2020 Finished embedding\n"
     ]
    }
   ],
   "source": [
    "CN['Reduced_dim'] = text_processing.reduce_dimensionality(CN.Descr_cleaned_vectorized, 10)\n",
    "#CN_test_df = CN[(CN.Category_2.notnull()) & (CN.CN_Level==4)]\n",
    "#CN_test_df['Reduced_dim'] = text_processing.reduce_dimensionality(CN_test_df.Descr_cleaned_vectorized)\n",
    "\n",
    "#CN_test_df['Reduced_dim_supervised'] = text_processing.train_test_umap(df.Descr_cleaned_vectorized,df.Category_2, CN_test_df.Descr_cleaned_vectorized)"
   ]
  },
  {
   "cell_type": "code",
   "execution_count": 13,
   "metadata": {},
   "outputs": [
    {
     "name": "stdout",
     "output_type": "stream",
     "text": [
      "Accuracy: 0.8077004442563994\n"
     ]
    },
    {
     "data": {
      "text/html": [
       "<div>\n",
       "<style scoped>\n",
       "    .dataframe tbody tr th:only-of-type {\n",
       "        vertical-align: middle;\n",
       "    }\n",
       "\n",
       "    .dataframe tbody tr th {\n",
       "        vertical-align: top;\n",
       "    }\n",
       "\n",
       "    .dataframe thead th {\n",
       "        text-align: right;\n",
       "    }\n",
       "</style>\n",
       "<table border=\"1\" class=\"dataframe\">\n",
       "  <thead>\n",
       "    <tr style=\"text-align: right;\">\n",
       "      <th></th>\n",
       "      <th>CN_Code</th>\n",
       "      <th>CPA_Code</th>\n",
       "      <th>CN_Section</th>\n",
       "      <th>CN_Level</th>\n",
       "      <th>Excl_removed</th>\n",
       "      <th>CN_Description_cleaned</th>\n",
       "      <th>Category_2</th>\n",
       "      <th>Category_1</th>\n",
       "      <th>Category_0</th>\n",
       "      <th>Predicted</th>\n",
       "    </tr>\n",
       "  </thead>\n",
       "  <tbody>\n",
       "    <tr>\n",
       "      <th>3775</th>\n",
       "      <td>25181000</td>\n",
       "      <td>08.11.30</td>\n",
       "      <td>2518 10 00</td>\n",
       "      <td>10</td>\n",
       "      <td>(excl. broken or crushed dolomite for concrete aggregates, road metalling or railway or other ballast), not calcined or not sintered, incl.</td>\n",
       "      <td>Crude dolomite dolomite roughly trimmed or merely cut, by sawing or otherwise, into blocks or slabs of a rectangular \"incl. square\" shape</td>\n",
       "      <td>08</td>\n",
       "      <td>B</td>\n",
       "      <td>2</td>\n",
       "      <td>C</td>\n",
       "    </tr>\n",
       "    <tr>\n",
       "      <th>7640</th>\n",
       "      <td>48025590</td>\n",
       "      <td>17.12.14</td>\n",
       "      <td>4802 55 90</td>\n",
       "      <td>10</td>\n",
       "      <td>, not containing fibres obtained by a mechanical or chemi-mechanical process or of which &lt;= 10% by weight of the total fibre content consists of such fibres, and weighing &gt;= 80 g but &lt;= 150 g/m², n.</td>\n",
       "      <td>Uncoated paper and paperboard, of a kind used for writing, printing or other graphic purposes, and non-perforated punchcards and punch-tape paper, in rolls of any sizee.s.</td>\n",
       "      <td>17</td>\n",
       "      <td>C</td>\n",
       "      <td>2</td>\n",
       "      <td>C</td>\n",
       "    </tr>\n",
       "    <tr>\n",
       "      <th>6579</th>\n",
       "      <td>39152000</td>\n",
       "      <td>38.11.55</td>\n",
       "      <td>3915 20 00</td>\n",
       "      <td>10</td>\n",
       "      <td></td>\n",
       "      <td>Waste, parings and scrap, of polymers of styrene</td>\n",
       "      <td>38</td>\n",
       "      <td>E</td>\n",
       "      <td>2</td>\n",
       "      <td>M</td>\n",
       "    </tr>\n",
       "    <tr>\n",
       "      <th>11520</th>\n",
       "      <td>73102119</td>\n",
       "      <td>25.92.11</td>\n",
       "      <td>7310 21 19</td>\n",
       "      <td>10</td>\n",
       "      <td></td>\n",
       "      <td>Cans of iron or steel, of a capacity of &lt; 50 l, which are to be closed by soldering or crimping, of a kind used for preserving drink</td>\n",
       "      <td>25</td>\n",
       "      <td>C</td>\n",
       "      <td>2</td>\n",
       "      <td>C</td>\n",
       "    </tr>\n",
       "    <tr>\n",
       "      <th>11012</th>\n",
       "      <td>72112900</td>\n",
       "      <td>24.32.10</td>\n",
       "      <td>7211 29 00</td>\n",
       "      <td>10</td>\n",
       "      <td>not clad, plated or coated, containing by weight &gt;= 0,25% of carbon</td>\n",
       "      <td>Flat-rolled products of iron or non-alloy steel, of a width of &lt; 600 mm, simply cold-rolled \"cold-reduced\",</td>\n",
       "      <td>24</td>\n",
       "      <td>C</td>\n",
       "      <td>2</td>\n",
       "      <td>C</td>\n",
       "    </tr>\n",
       "  </tbody>\n",
       "</table>\n",
       "</div>"
      ],
      "text/plain": [
       "        CN_Code  CPA_Code  CN_Section  CN_Level  \\\n",
       "3775   25181000  08.11.30  2518 10 00        10   \n",
       "7640   48025590  17.12.14  4802 55 90        10   \n",
       "6579   39152000  38.11.55  3915 20 00        10   \n",
       "11520  73102119  25.92.11  7310 21 19        10   \n",
       "11012  72112900  24.32.10  7211 29 00        10   \n",
       "\n",
       "                                                                                                                                                                                                 Excl_removed  \\\n",
       "3775                                                              (excl. broken or crushed dolomite for concrete aggregates, road metalling or railway or other ballast), not calcined or not sintered, incl.   \n",
       "7640   , not containing fibres obtained by a mechanical or chemi-mechanical process or of which <= 10% by weight of the total fibre content consists of such fibres, and weighing >= 80 g but <= 150 g/m², n.   \n",
       "6579                                                                                                                                                                                                            \n",
       "11520                                                                                                                                                                                                           \n",
       "11012                                                                                                                                     not clad, plated or coated, containing by weight >= 0,25% of carbon   \n",
       "\n",
       "                                                                                                                                                            CN_Description_cleaned  \\\n",
       "3775                                    Crude dolomite dolomite roughly trimmed or merely cut, by sawing or otherwise, into blocks or slabs of a rectangular \"incl. square\" shape    \n",
       "7640   Uncoated paper and paperboard, of a kind used for writing, printing or other graphic purposes, and non-perforated punchcards and punch-tape paper, in rolls of any sizee.s.   \n",
       "6579                                                                                                                              Waste, parings and scrap, of polymers of styrene   \n",
       "11520                                         Cans of iron or steel, of a capacity of < 50 l, which are to be closed by soldering or crimping, of a kind used for preserving drink   \n",
       "11012                                                                  Flat-rolled products of iron or non-alloy steel, of a width of < 600 mm, simply cold-rolled \"cold-reduced\",   \n",
       "\n",
       "      Category_2 Category_1 Category_0 Predicted  \n",
       "3775          08          B          2         C  \n",
       "7640          17          C          2         C  \n",
       "6579          38          E          2         M  \n",
       "11520         25          C          2         C  \n",
       "11012         24          C          2         C  "
      ]
     },
     "metadata": {},
     "output_type": "display_data"
    },
    {
     "name": "stdout",
     "output_type": "stream",
     "text": [
      "                   pre       rec       spe        f1       geo       iba       sup\n",
      "\n",
      "          A       0.00      0.00      1.00      0.00      0.00      0.00       594\n",
      "          B       0.00      0.00      1.00      0.00      0.00      0.00       106\n",
      "          C       0.91      0.89      0.08      0.90      0.26      0.07      8605\n",
      "          D       0.00      0.00      1.00      0.00      0.00      0.00         2\n",
      "          E       0.00      0.00      0.99      0.00      0.00      0.00       102\n",
      "          F       0.00      0.00      1.00      0.00      0.00      0.00         0\n",
      "          J       0.00      0.00      0.96      0.00      0.00      0.00        32\n",
      "          M       0.00      0.00      0.94      0.00      0.00      0.00         5\n",
      "          P       0.00      0.00      1.00      0.00      0.00      0.00         0\n",
      "          R       0.00      0.00      1.00      0.00      0.00      0.00         7\n",
      "          S       0.00      0.00      1.00      0.00      0.00      0.00         1\n",
      "\n",
      "avg / total       0.83      0.81      0.16      0.82      0.24      0.07      9454\n",
      "\n"
     ]
    },
    {
     "name": "stderr",
     "output_type": "stream",
     "text": [
      "/opt/conda/lib/python3.7/site-packages/sklearn/metrics/_classification.py:1221: UndefinedMetricWarning: Precision and F-score are ill-defined and being set to 0.0 in labels with no predicted samples. Use `zero_division` parameter to control this behavior.\n",
      "  _warn_prf(average, modifier, msg_start, len(result))\n",
      "/opt/conda/lib/python3.7/site-packages/sklearn/metrics/_classification.py:1221: UndefinedMetricWarning: Recall and F-score are ill-defined and being set to 0.0 in labels with no true samples. Use `zero_division` parameter to control this behavior.\n",
      "  _warn_prf(average, modifier, msg_start, len(result))\n",
      "/opt/conda/lib/python3.7/site-packages/sklearn/metrics/_classification.py:1221: UndefinedMetricWarning: Sensitivity is ill-defined and being set to 0.0 in labels with no true samples. Use `zero_division` parameter to control this behavior.\n",
      "  _warn_prf(average, modifier, msg_start, len(result))\n"
     ]
    }
   ],
   "source": [
    "#Create a Gaussian Classifier\n",
    "clf=RandomForestClassifier(n_estimators=100)\n",
    "\n",
    "this_cat = 'Category_1'\n",
    "\n",
    "#Train the model using the training sets \n",
    "X_train = np.array(list(df.Reduced_dim.values))\n",
    "y_train = np.array(list(df[this_cat].values))\n",
    "\n",
    "clf.fit(X_train,y_train)\n",
    "\n",
    "# we stick to the lowest level\n",
    "CN_test_df= CN[(CN.Category_2.notnull()) & (CN.CN_Level==10)]\n",
    "CN_test = np.array(list(CN_test_df[\"Reduced_dim\"].values))\n",
    "y_CN_pred=clf.predict(CN_test)\n",
    "\n",
    "y_CN_test = np.array(list(CN_test_df[this_cat]))\n",
    "# Model Accuracy, how often is the classifier correct?\n",
    "print(\"Accuracy:\",metrics.accuracy_score(y_CN_test, y_CN_pred))\n",
    "#CN_test_df['Predicted'] = pd.Series(data=y_CN_pred.tolist(), index=CN_test_df.index)\n",
    "\n",
    "Results = CN_test_df.drop(['Descr_cleaned_vectorized','Reduced_dim'],axis=1).copy()\n",
    "Results['Predicted'] = pd.Series(data=y_CN_pred.tolist(), index=CN_test_df.index)\n",
    "display(Results.sample(5))\n",
    "print(classification_report_imbalanced(y_CN_test, y_CN_pred))"
   ]
  },
  {
   "cell_type": "code",
   "execution_count": 14,
   "metadata": {},
   "outputs": [
    {
     "data": {
      "text/plain": [
       "<function imblearn.metrics._classification.classification_report_imbalanced(y_true, y_pred, *, labels=None, target_names=None, sample_weight=None, digits=2, alpha=0.1)>"
      ]
     },
     "execution_count": 14,
     "metadata": {},
     "output_type": "execute_result"
    }
   ],
   "source": [
    "classification_report_imbalanced"
   ]
  },
  {
   "cell_type": "code",
   "execution_count": 15,
   "metadata": {},
   "outputs": [
    {
     "name": "stdout",
     "output_type": "stream",
     "text": [
      "Test 3 Accuracy: 0.0239052253014597\n"
     ]
    },
    {
     "data": {
      "text/html": [
       "<div>\n",
       "<style scoped>\n",
       "    .dataframe tbody tr th:only-of-type {\n",
       "        vertical-align: middle;\n",
       "    }\n",
       "\n",
       "    .dataframe tbody tr th {\n",
       "        vertical-align: top;\n",
       "    }\n",
       "\n",
       "    .dataframe thead th {\n",
       "        text-align: right;\n",
       "    }\n",
       "</style>\n",
       "<table border=\"1\" class=\"dataframe\">\n",
       "  <thead>\n",
       "    <tr style=\"text-align: right;\">\n",
       "      <th></th>\n",
       "      <th>CN_Code</th>\n",
       "      <th>CPA_Code</th>\n",
       "      <th>CN_Section</th>\n",
       "      <th>CN_Level</th>\n",
       "      <th>Excl_removed</th>\n",
       "      <th>CN_Description_cleaned</th>\n",
       "      <th>Category_2</th>\n",
       "      <th>Category_1</th>\n",
       "      <th>Category_0</th>\n",
       "      <th>Predicted</th>\n",
       "    </tr>\n",
       "  </thead>\n",
       "  <tbody>\n",
       "    <tr>\n",
       "      <th>13897</th>\n",
       "      <td>84831050</td>\n",
       "      <td>28.15.22</td>\n",
       "      <td>8483 10 50</td>\n",
       "      <td>10</td>\n",
       "      <td></td>\n",
       "      <td>Articulated shafts</td>\n",
       "      <td>28</td>\n",
       "      <td>C</td>\n",
       "      <td>2</td>\n",
       "      <td>72</td>\n",
       "    </tr>\n",
       "    <tr>\n",
       "      <th>15063</th>\n",
       "      <td>87149610</td>\n",
       "      <td>30.92.30</td>\n",
       "      <td>8714 96 10</td>\n",
       "      <td>10</td>\n",
       "      <td></td>\n",
       "      <td>Pedals for bicycles</td>\n",
       "      <td>30</td>\n",
       "      <td>C</td>\n",
       "      <td>2</td>\n",
       "      <td>27</td>\n",
       "    </tr>\n",
       "    <tr>\n",
       "      <th>4203</th>\n",
       "      <td>28111200</td>\n",
       "      <td>20.13.24</td>\n",
       "      <td>2811 12 00</td>\n",
       "      <td>10</td>\n",
       "      <td></td>\n",
       "      <td>Hydrogen cyanide \"hydrocyanic acid\"</td>\n",
       "      <td>20</td>\n",
       "      <td>C</td>\n",
       "      <td>2</td>\n",
       "      <td>38</td>\n",
       "    </tr>\n",
       "    <tr>\n",
       "      <th>13253</th>\n",
       "      <td>84431970</td>\n",
       "      <td>28.99.14</td>\n",
       "      <td>8443 19 70</td>\n",
       "      <td>10</td>\n",
       "      <td>(excl. machinery for printing textile materials, those for use in the production of semiconductors, ink jet printing machines, hectograph or stencil duplicating machines, addressing machines and other office printing machines of heading 8469 to 8472 and offset, flexographic, letterpress and gravure printing machinery)</td>\n",
       "      <td>Printing machinery used for printing by means of plates, cylinders and other printing components of heading 8442</td>\n",
       "      <td>28</td>\n",
       "      <td>C</td>\n",
       "      <td>2</td>\n",
       "      <td>73</td>\n",
       "    </tr>\n",
       "    <tr>\n",
       "      <th>592</th>\n",
       "      <td>3031200</td>\n",
       "      <td>10.20.13</td>\n",
       "      <td>0303 12 00</td>\n",
       "      <td>10</td>\n",
       "      <td>(excl. sockeye salmon \"red salmon\")</td>\n",
       "      <td>Frozen Pacific salmon</td>\n",
       "      <td>10</td>\n",
       "      <td>C</td>\n",
       "      <td>2</td>\n",
       "      <td>14</td>\n",
       "    </tr>\n",
       "  </tbody>\n",
       "</table>\n",
       "</div>"
      ],
      "text/plain": [
       "        CN_Code  CPA_Code  CN_Section  CN_Level  \\\n",
       "13897  84831050  28.15.22  8483 10 50        10   \n",
       "15063  87149610  30.92.30  8714 96 10        10   \n",
       "4203   28111200  20.13.24  2811 12 00        10   \n",
       "13253  84431970  28.99.14  8443 19 70        10   \n",
       "592     3031200  10.20.13  0303 12 00        10   \n",
       "\n",
       "                                                                                                                                                                                                                                                                                                                          Excl_removed  \\\n",
       "13897                                                                                                                                                                                                                                                                                                                                    \n",
       "15063                                                                                                                                                                                                                                                                                                                                    \n",
       "4203                                                                                                                                                                                                                                                                                                                                     \n",
       "13253  (excl. machinery for printing textile materials, those for use in the production of semiconductors, ink jet printing machines, hectograph or stencil duplicating machines, addressing machines and other office printing machines of heading 8469 to 8472 and offset, flexographic, letterpress and gravure printing machinery)   \n",
       "592                                                                                                                                                                                                                                                                                                (excl. sockeye salmon \"red salmon\")   \n",
       "\n",
       "                                                                                                  CN_Description_cleaned  \\\n",
       "13897                                                                                                 Articulated shafts   \n",
       "15063                                                                                                Pedals for bicycles   \n",
       "4203                                                                                 Hydrogen cyanide \"hydrocyanic acid\"   \n",
       "13253  Printing machinery used for printing by means of plates, cylinders and other printing components of heading 8442    \n",
       "592                                                                                               Frozen Pacific salmon    \n",
       "\n",
       "      Category_2 Category_1 Category_0 Predicted  \n",
       "13897         28          C          2        72  \n",
       "15063         30          C          2        27  \n",
       "4203          20          C          2        38  \n",
       "13253         28          C          2        73  \n",
       "592           10          C          2        14  "
      ]
     },
     "metadata": {},
     "output_type": "display_data"
    },
    {
     "name": "stdout",
     "output_type": "stream",
     "text": [
      "                   pre       rec       spe        f1       geo       iba       sup\n",
      "\n",
      "         01       0.00      0.00      1.00      0.00      0.00      0.00       417\n",
      "         02       0.00      0.00      1.00      0.00      0.00      0.00        38\n",
      "         03       0.00      0.00      1.00      0.00      0.00      0.00       139\n",
      "         05       0.00      0.00      1.00      0.00      0.00      0.00         5\n",
      "         06       0.00      0.00      1.00      0.00      0.00      0.00         5\n",
      "         07       0.00      0.00      1.00      0.00      0.00      0.00        25\n",
      "         08       0.00      0.00      1.00      0.00      0.00      0.00        71\n",
      "         10       0.75      0.00      1.00      0.01      0.06      0.00      1748\n",
      "         11       0.00      0.00      1.00      0.00      0.00      0.00       216\n",
      "         12       0.00      0.00      1.00      0.00      0.00      0.00        16\n",
      "         13       0.00      0.00      1.00      0.00      0.00      0.00       731\n",
      "         14       0.01      0.03      0.92      0.02      0.15      0.02       358\n",
      "         15       0.00      0.00      1.00      0.00      0.00      0.00       172\n",
      "         16       0.00      0.00      1.00      0.00      0.00      0.00       208\n",
      "         17       0.00      0.00      0.96      0.00      0.00      0.00       185\n",
      "         18       0.00      0.00      1.00      0.00      0.00      0.00         1\n",
      "         19       0.00      0.00      1.00      0.00      0.00      0.00        79\n",
      "         20       0.05      0.00      0.99      0.01      0.06      0.00      1208\n",
      "         21       0.00      0.00      1.00      0.00      0.00      0.00       145\n",
      "         22       0.00      0.00      1.00      0.00      0.00      0.00       187\n",
      "         23       0.00      0.00      1.00      0.00      0.00      0.00       262\n",
      "         24       0.11      0.06      0.97      0.08      0.24      0.05       625\n",
      "         25       0.00      0.00      1.00      0.00      0.00      0.00       363\n",
      "         26       0.00      0.00      1.00      0.00      0.00      0.00       371\n",
      "         27       0.07      0.47      0.78      0.13      0.61      0.36       338\n",
      "         28       0.00      0.00      0.96      0.00      0.03      0.00       811\n",
      "         29       0.00      0.00      1.00      0.00      0.00      0.00       143\n",
      "         30       0.00      0.00      1.00      0.00      0.00      0.00       137\n",
      "         31       0.00      0.00      1.00      0.00      0.00      0.00        41\n",
      "         32       0.03      0.02      0.98      0.03      0.15      0.02       260\n",
      "         35       0.00      0.00      1.00      0.00      0.00      0.00         2\n",
      "         37       0.00      0.00      1.00      0.00      0.00      0.00         1\n",
      "         38       0.00      0.02      0.94      0.01      0.14      0.02       101\n",
      "         43       0.00      0.00      0.99      0.00      0.00      0.00         0\n",
      "         58       0.00      0.00      1.00      0.00      0.00      0.00        20\n",
      "         59       0.00      0.00      1.00      0.00      0.00      0.00        12\n",
      "         60       0.00      0.00      0.90      0.00      0.00      0.00         0\n",
      "         61       0.00      0.00      1.00      0.00      0.00      0.00         0\n",
      "         63       0.00      0.00      1.00      0.00      0.00      0.00         0\n",
      "         71       0.00      0.00      1.00      0.00      0.00      0.00         1\n",
      "         72       0.00      0.00      0.94      0.00      0.00      0.00         0\n",
      "         73       0.00      0.00      0.68      0.00      0.00      0.00         0\n",
      "         74       0.00      0.00      1.00      0.00      0.00      0.00         4\n",
      "         85       0.00      0.00      1.00      0.00      0.00      0.00         0\n",
      "         90       0.00      0.00      1.00      0.00      0.00      0.00         4\n",
      "         91       0.00      0.00      1.00      0.00      0.00      0.00         3\n",
      "         96       0.00      0.00      1.00      0.00      0.00      0.00         1\n",
      "\n",
      "avg / total       0.16      0.02      0.98      0.01      0.07      0.02      9454\n",
      "\n"
     ]
    },
    {
     "name": "stderr",
     "output_type": "stream",
     "text": [
      "/opt/conda/lib/python3.7/site-packages/sklearn/metrics/_classification.py:1221: UndefinedMetricWarning: Precision and F-score are ill-defined and being set to 0.0 in labels with no predicted samples. Use `zero_division` parameter to control this behavior.\n",
      "  _warn_prf(average, modifier, msg_start, len(result))\n",
      "/opt/conda/lib/python3.7/site-packages/sklearn/metrics/_classification.py:1221: UndefinedMetricWarning: Recall and F-score are ill-defined and being set to 0.0 in labels with no true samples. Use `zero_division` parameter to control this behavior.\n",
      "  _warn_prf(average, modifier, msg_start, len(result))\n",
      "/opt/conda/lib/python3.7/site-packages/sklearn/metrics/_classification.py:1221: UndefinedMetricWarning: Sensitivity is ill-defined and being set to 0.0 in labels with no true samples. Use `zero_division` parameter to control this behavior.\n",
      "  _warn_prf(average, modifier, msg_start, len(result))\n"
     ]
    }
   ],
   "source": [
    "this_cat = 'Category_2'\n",
    "\n",
    "#Train the model using the training sets \n",
    "X_train = np.array(list(df.Reduced_dim.values))\n",
    "y_train = np.array(list(df[this_cat].values))\n",
    "\n",
    "clf.fit(X_train,y_train)\n",
    "\n",
    "# we stick to the lowest level\n",
    "CN_test_df= CN[(CN.Category_2.notnull()) & (CN.CN_Level==10)]\n",
    "CN_test = np.array(list(CN_test_df[\"Reduced_dim\"].values))\n",
    "y_CN_pred=clf.predict(CN_test)\n",
    "\n",
    "y_CN_test = np.array(list(CN_test_df[this_cat]))\n",
    "# Model Accuracy, how often is the classifier correct?\n",
    "print(\"Test 3 Accuracy:\",metrics.accuracy_score(y_CN_test, y_CN_pred))\n",
    "\n",
    "Results = CN_test_df.drop(['Descr_cleaned_vectorized','Reduced_dim'],axis=1).copy()\n",
    "Results['Predicted'] = pd.Series(data=y_CN_pred.tolist(), index=CN_test_df.index)\n",
    "display(Results.sample(5))\n",
    "print(classification_report_imbalanced(y_CN_test, y_CN_pred))"
   ]
  },
  {
   "cell_type": "markdown",
   "metadata": {},
   "source": [
    "## Try again with Binary Classifier"
   ]
  },
  {
   "cell_type": "code",
   "execution_count": 67,
   "metadata": {},
   "outputs": [],
   "source": [
    "from sklearn.model_selection import train_test_split\n",
    "from sklearn.model_selection import cross_val_predict\n",
    "from sklearn.metrics import precision_recall_fscore_support\n",
    "from sklearn.metrics import roc_curve\n",
    "from sklearn.metrics import roc_auc_score"
   ]
  },
  {
   "cell_type": "code",
   "execution_count": null,
   "metadata": {},
   "outputs": [],
   "source": [
    "#Train the model using the training sets \n",
    "X_train = np.array(list(df.Reduced_dim.values))\n",
    "y_train = np.array(list(df[this_cat].values))\n",
    "\n",
    "clf.fit(X_train,y_train)\n",
    "\n",
    "# we stick to the lowest level\n",
    "CN_test_df= CN[(CN.Category_2.notnull()) & (CN.CN_Level==10)]\n",
    "CN_test = np.array(list(CN_test_df[\"Reduced_dim\"].values))\n",
    "y_CN_pred=clf.predict(CN_test)\n",
    "\n",
    "y_CN_test = np.array(list(CN_test_df[this_cat]))\n",
    "# Model Accuracy, how often is the classifier correct?\n",
    "print(\"Test 3 Accuracy:\",metrics.accuracy_score(y_CN_test, y_CN_pred))"
   ]
  },
  {
   "cell_type": "code",
   "execution_count": 58,
   "metadata": {},
   "outputs": [
    {
     "data": {
      "text/plain": [
       "CN_Code        int64\n",
       "CPA_Code      object\n",
       "Category_0    object\n",
       "dtype: object"
      ]
     },
     "execution_count": 58,
     "metadata": {},
     "output_type": "execute_result"
    }
   ],
   "source": [
    "CN_test_df[['CN_Code', 'CPA_Code', 'Category_0']].dtypes"
   ]
  },
  {
   "cell_type": "code",
   "execution_count": 59,
   "metadata": {},
   "outputs": [
    {
     "data": {
      "text/plain": [
       "array(['1', '1', '1', ..., '10', '10', '10'], dtype=object)"
      ]
     },
     "execution_count": 59,
     "metadata": {},
     "output_type": "execute_result"
    }
   ],
   "source": [
    "np.array(CN_test_df[this_cat])"
   ]
  },
  {
   "cell_type": "code",
   "execution_count": 52,
   "metadata": {},
   "outputs": [
    {
     "data": {
      "text/plain": [
       "array(['1', '1', '1', ..., '10', '10', '10'], dtype='<U2')"
      ]
     },
     "execution_count": 52,
     "metadata": {},
     "output_type": "execute_result"
    }
   ],
   "source": [
    "y_CN_test"
   ]
  },
  {
   "cell_type": "code",
   "execution_count": 35,
   "metadata": {},
   "outputs": [],
   "source": [
    "def binary_cl(X_train, forest_clf, cat):\n",
    "    y_train=(train_set.Category_0==cat)\n",
    "  #  y_probas_forest = cross_val_predict(forest_clf, X_train, y_train, cv=3,  method=\"predict_proba\")\n",
    "    y_scores = cross_val_predict(forest_clf, X_train, y_train, cv=3, method='predict_proba')\n",
    "    score = roc_auc_score(y_train, y_scores[:,1])\n",
    "    return score\n",
    "\n",
    "\n",
    "this_cat = 'Category_0'\n",
    "\n",
    "#Train the model using the training sets \n",
    "X_train = np.array(list(df.Reduced_dim.values))\n",
    "y_train_BE = (df[this_cat]=='2')\n",
    "\n",
    "\n",
    "bin_forest_clf = RandomForestClassifier(random_state=42)\n",
    "bin_forest_clf.fit(X_train,y_train_BE)\n",
    "\n",
    "CN_test_df= CN[(CN.Category_2.notnull()) & (CN.CN_Level==10)]\n",
    "CN_test = np.array(list(CN_test_df[\"Reduced_dim\"].values))\n",
    "y_CN_pred2=bin_forest_clf.predict(CN_test)\n"
   ]
  },
  {
   "cell_type": "code",
   "execution_count": 46,
   "metadata": {},
   "outputs": [],
   "source": [
    "#m = y_CN_pred2\n",
    "m = pd.Series(data=y_CN_pred2.tolist(), index=CN_test_df.index)"
   ]
  },
  {
   "cell_type": "code",
   "execution_count": 62,
   "metadata": {},
   "outputs": [],
   "source": []
  },
  {
   "cell_type": "code",
   "execution_count": 68,
   "metadata": {},
   "outputs": [
    {
     "ename": "SyntaxError",
     "evalue": "invalid syntax (<ipython-input-68-ee3510ad45c5>, line 13)",
     "output_type": "error",
     "traceback": [
      "\u001b[0;36m  File \u001b[0;32m\"<ipython-input-68-ee3510ad45c5>\"\u001b[0;36m, line \u001b[0;32m13\u001b[0m\n\u001b[0;31m    precision_recall_fscore_support(y_CN_tes,  np.array(Results.Pred_val), *, beta=1.0, labels=None, pos_label=\"2\", average='binary', warn_for=('precision', 'recall', 'f-score'), sample_weight=None, zero_division='warn')\u001b[0m\n\u001b[0m                                                                            ^\u001b[0m\n\u001b[0;31mSyntaxError\u001b[0m\u001b[0;31m:\u001b[0m invalid syntax\n"
     ]
    }
   ],
   "source": [
    "Results = CN_test_df.drop(['Descr_cleaned_vectorized','Reduced_dim'],axis=1).copy()\n",
    "\n",
    "\n",
    "m = y_CN_pred2\n",
    "Results['Pred_val'] = '2'\n",
    "Results['Pred_val'] = Results.Pred_val.where(m, '0')\n",
    "\n",
    "Results['Predicted'] = pd.Series(data=y_CN_pred2.tolist(), index=CN_test_df.index)\n",
    "#display(Results.sample(5))\n",
    "#print(classification_report_imbalanced(y_CN_test, y_CN_pred2))\n",
    "#print(classification_report_imbalanced(y_CN_test, np.array(Results.Pred_val)))\n",
    "\n",
    "precision_recall_fscore_support(y_CN_tes,  np.array(Results.Pred_val), *, beta=1.0, labels=None, pos_label=\"2\", average='binary', warn_for=('precision', 'recall', 'f-score'), sample_weight=None, zero_division='warn')"
   ]
  },
  {
   "cell_type": "code",
   "execution_count": 70,
   "metadata": {},
   "outputs": [
    {
     "ename": "ValueError",
     "evalue": "Target is multiclass but average='binary'. Please choose another average setting, one of [None, 'micro', 'macro', 'weighted'].",
     "output_type": "error",
     "traceback": [
      "\u001b[0;31m---------------------------------------------------------------------------\u001b[0m",
      "\u001b[0;31mValueError\u001b[0m                                Traceback (most recent call last)",
      "\u001b[0;32m<ipython-input-70-49cedc339e6c>\u001b[0m in \u001b[0;36m<module>\u001b[0;34m\u001b[0m\n\u001b[0;32m----> 1\u001b[0;31m \u001b[0mprecision_recall_fscore_support\u001b[0m\u001b[0;34m(\u001b[0m\u001b[0my_CN_test\u001b[0m\u001b[0;34m,\u001b[0m  \u001b[0mnp\u001b[0m\u001b[0;34m.\u001b[0m\u001b[0marray\u001b[0m\u001b[0;34m(\u001b[0m\u001b[0mResults\u001b[0m\u001b[0;34m.\u001b[0m\u001b[0mPred_val\u001b[0m\u001b[0;34m)\u001b[0m\u001b[0;34m,\u001b[0m \u001b[0mpos_label\u001b[0m\u001b[0;34m=\u001b[0m\u001b[0;34m\"2\"\u001b[0m\u001b[0;34m,\u001b[0m \u001b[0maverage\u001b[0m\u001b[0;34m=\u001b[0m\u001b[0;34m'binary'\u001b[0m\u001b[0;34m)\u001b[0m\u001b[0;34m\u001b[0m\u001b[0;34m\u001b[0m\u001b[0m\n\u001b[0m",
      "\u001b[0;32m/opt/conda/lib/python3.7/site-packages/sklearn/utils/validation.py\u001b[0m in \u001b[0;36minner_f\u001b[0;34m(*args, **kwargs)\u001b[0m\n\u001b[1;32m     70\u001b[0m                           FutureWarning)\n\u001b[1;32m     71\u001b[0m         \u001b[0mkwargs\u001b[0m\u001b[0;34m.\u001b[0m\u001b[0mupdate\u001b[0m\u001b[0;34m(\u001b[0m\u001b[0;34m{\u001b[0m\u001b[0mk\u001b[0m\u001b[0;34m:\u001b[0m \u001b[0marg\u001b[0m \u001b[0;32mfor\u001b[0m \u001b[0mk\u001b[0m\u001b[0;34m,\u001b[0m \u001b[0marg\u001b[0m \u001b[0;32min\u001b[0m \u001b[0mzip\u001b[0m\u001b[0;34m(\u001b[0m\u001b[0msig\u001b[0m\u001b[0;34m.\u001b[0m\u001b[0mparameters\u001b[0m\u001b[0;34m,\u001b[0m \u001b[0margs\u001b[0m\u001b[0;34m)\u001b[0m\u001b[0;34m}\u001b[0m\u001b[0;34m)\u001b[0m\u001b[0;34m\u001b[0m\u001b[0;34m\u001b[0m\u001b[0m\n\u001b[0;32m---> 72\u001b[0;31m         \u001b[0;32mreturn\u001b[0m \u001b[0mf\u001b[0m\u001b[0;34m(\u001b[0m\u001b[0;34m**\u001b[0m\u001b[0mkwargs\u001b[0m\u001b[0;34m)\u001b[0m\u001b[0;34m\u001b[0m\u001b[0;34m\u001b[0m\u001b[0m\n\u001b[0m\u001b[1;32m     73\u001b[0m     \u001b[0;32mreturn\u001b[0m \u001b[0minner_f\u001b[0m\u001b[0;34m\u001b[0m\u001b[0;34m\u001b[0m\u001b[0m\n\u001b[1;32m     74\u001b[0m \u001b[0;34m\u001b[0m\u001b[0m\n",
      "\u001b[0;32m/opt/conda/lib/python3.7/site-packages/sklearn/metrics/_classification.py\u001b[0m in \u001b[0;36mprecision_recall_fscore_support\u001b[0;34m(y_true, y_pred, beta, labels, pos_label, average, warn_for, sample_weight, zero_division)\u001b[0m\n\u001b[1;32m   1432\u001b[0m         \u001b[0;32mraise\u001b[0m \u001b[0mValueError\u001b[0m\u001b[0;34m(\u001b[0m\u001b[0;34m\"beta should be >=0 in the F-beta score\"\u001b[0m\u001b[0;34m)\u001b[0m\u001b[0;34m\u001b[0m\u001b[0;34m\u001b[0m\u001b[0m\n\u001b[1;32m   1433\u001b[0m     labels = _check_set_wise_labels(y_true, y_pred, average, labels,\n\u001b[0;32m-> 1434\u001b[0;31m                                     pos_label)\n\u001b[0m\u001b[1;32m   1435\u001b[0m \u001b[0;34m\u001b[0m\u001b[0m\n\u001b[1;32m   1436\u001b[0m     \u001b[0;31m# Calculate tp_sum, pred_sum, true_sum ###\u001b[0m\u001b[0;34m\u001b[0m\u001b[0;34m\u001b[0m\u001b[0;34m\u001b[0m\u001b[0m\n",
      "\u001b[0;32m/opt/conda/lib/python3.7/site-packages/sklearn/metrics/_classification.py\u001b[0m in \u001b[0;36m_check_set_wise_labels\u001b[0;34m(y_true, y_pred, average, labels, pos_label)\u001b[0m\n\u001b[1;32m   1263\u001b[0m             raise ValueError(\"Target is %s but average='binary'. Please \"\n\u001b[1;32m   1264\u001b[0m                              \u001b[0;34m\"choose another average setting, one of %r.\"\u001b[0m\u001b[0;34m\u001b[0m\u001b[0;34m\u001b[0m\u001b[0m\n\u001b[0;32m-> 1265\u001b[0;31m                              % (y_type, average_options))\n\u001b[0m\u001b[1;32m   1266\u001b[0m     \u001b[0;32melif\u001b[0m \u001b[0mpos_label\u001b[0m \u001b[0;32mnot\u001b[0m \u001b[0;32min\u001b[0m \u001b[0;34m(\u001b[0m\u001b[0;32mNone\u001b[0m\u001b[0;34m,\u001b[0m \u001b[0;36m1\u001b[0m\u001b[0;34m)\u001b[0m\u001b[0;34m:\u001b[0m\u001b[0;34m\u001b[0m\u001b[0;34m\u001b[0m\u001b[0m\n\u001b[1;32m   1267\u001b[0m         warnings.warn(\"Note that pos_label (set to %r) is ignored when \"\n",
      "\u001b[0;31mValueError\u001b[0m: Target is multiclass but average='binary'. Please choose another average setting, one of [None, 'micro', 'macro', 'weighted']."
     ]
    }
   ],
   "source": [
    "precision_recall_fscore_support(y_CN_test,  np.array(Results.Pred_val), pos_label=\"2\", average='binary')"
   ]
  },
  {
   "cell_type": "code",
   "execution_count": null,
   "metadata": {},
   "outputs": [],
   "source": [
    "def binary_cl(X_train, forest_clf, cat):\n",
    "    y_train=(train_set.Category_0==cat)\n",
    "  #  y_probas_forest = cross_val_predict(forest_clf, X_train, y_train, cv=3,  method=\"predict_proba\")\n",
    "    y_scores = cross_val_predict(forest_clf, X_train, y_train, cv=3, method='predict_proba')\n",
    "    score = roc_auc_score(y_train, y_scores[:,1])\n",
    "    return score\n",
    " \n",
    "X_train = train_set[['dim1','dim2']]\n",
    "forest_clf = RandomForestClassifier(random_state=42)\n",
    "\n"
   ]
  },
  {
   "cell_type": "code",
   "execution_count": null,
   "metadata": {},
   "outputs": [],
   "source": []
  }
 ],
 "metadata": {
  "environment": {
   "name": "common-cpu.m58",
   "type": "gcloud",
   "uri": "gcr.io/deeplearning-platform-release/base-cpu:m58"
  },
  "kernelspec": {
   "display_name": "Python 3",
   "language": "python",
   "name": "python3"
  },
  "language_info": {
   "codemirror_mode": {
    "name": "ipython",
    "version": 3
   },
   "file_extension": ".py",
   "mimetype": "text/x-python",
   "name": "python",
   "nbconvert_exporter": "python",
   "pygments_lexer": "ipython3",
   "version": "3.7.8"
  }
 },
 "nbformat": 4,
 "nbformat_minor": 4
}
